{
 "cells": [
  {
   "cell_type": "markdown",
   "metadata": {},
   "source": [
    "## Проверка данных"
   ]
  },
  {
   "cell_type": "code",
   "execution_count": 1,
   "metadata": {},
   "outputs": [],
   "source": [
    "# импортируем библиотеки \n",
    "import pandas as pd \n",
    "from sqlalchemy import create_engine "
   ]
  },
  {
   "cell_type": "code",
   "execution_count": 2,
   "metadata": {},
   "outputs": [],
   "source": [
    "# устанавливаем параметры \n",
    "db_config = {'user': 'praktikum_student', # имя пользователя  \n",
    "             'pwd': 'Sdf4$2;d-d30pp', # пароль  \n",
    "             'host': 'rc1b-wcoijxj3yxfsf3fs.mdb.yandexcloud.net',  \n",
    "             'port': 6432, # порт подключения  \n",
    "             'db': 'data-analyst-final-project-db'} \n",
    "\n",
    "# название базы данных \n",
    "connection_string = 'postgresql://{}:{}@{}:{}/{}'.format(db_config['user'],\n",
    "                                                         db_config['pwd'],\n",
    "                                                         db_config['host'],\n",
    "                                                         db_config['port'],\n",
    "                                                         db_config['db']) \n",
    "\n",
    "# сохраняем коннектор \n",
    "engine = create_engine(connection_string, connect_args={'sslmode':'require'}) "
   ]
  },
  {
   "cell_type": "code",
   "execution_count": 3,
   "metadata": {},
   "outputs": [],
   "source": [
    "def request(sql):\n",
    "    return pd.io.sql.read_sql(sql, con = engine)"
   ]
  },
  {
   "cell_type": "markdown",
   "metadata": {},
   "source": [
    "**Таблица books**"
   ]
  },
  {
   "cell_type": "code",
   "execution_count": 4,
   "metadata": {},
   "outputs": [
    {
     "data": {
      "text/html": [
       "<div>\n",
       "<style scoped>\n",
       "    .dataframe tbody tr th:only-of-type {\n",
       "        vertical-align: middle;\n",
       "    }\n",
       "\n",
       "    .dataframe tbody tr th {\n",
       "        vertical-align: top;\n",
       "    }\n",
       "\n",
       "    .dataframe thead th {\n",
       "        text-align: right;\n",
       "    }\n",
       "</style>\n",
       "<table border=\"1\" class=\"dataframe\">\n",
       "  <thead>\n",
       "    <tr style=\"text-align: right;\">\n",
       "      <th></th>\n",
       "      <th>book_id</th>\n",
       "      <th>author_id</th>\n",
       "      <th>title</th>\n",
       "      <th>num_pages</th>\n",
       "      <th>publication_date</th>\n",
       "      <th>publisher_id</th>\n",
       "    </tr>\n",
       "  </thead>\n",
       "  <tbody>\n",
       "    <tr>\n",
       "      <th>0</th>\n",
       "      <td>1</td>\n",
       "      <td>546</td>\n",
       "      <td>'Salem's Lot</td>\n",
       "      <td>594</td>\n",
       "      <td>2005-11-01</td>\n",
       "      <td>93</td>\n",
       "    </tr>\n",
       "    <tr>\n",
       "      <th>1</th>\n",
       "      <td>2</td>\n",
       "      <td>465</td>\n",
       "      <td>1 000 Places to See Before You Die</td>\n",
       "      <td>992</td>\n",
       "      <td>2003-05-22</td>\n",
       "      <td>336</td>\n",
       "    </tr>\n",
       "    <tr>\n",
       "      <th>2</th>\n",
       "      <td>3</td>\n",
       "      <td>407</td>\n",
       "      <td>13 Little Blue Envelopes (Little Blue Envelope...</td>\n",
       "      <td>322</td>\n",
       "      <td>2010-12-21</td>\n",
       "      <td>135</td>\n",
       "    </tr>\n",
       "    <tr>\n",
       "      <th>3</th>\n",
       "      <td>4</td>\n",
       "      <td>82</td>\n",
       "      <td>1491: New Revelations of the Americas Before C...</td>\n",
       "      <td>541</td>\n",
       "      <td>2006-10-10</td>\n",
       "      <td>309</td>\n",
       "    </tr>\n",
       "    <tr>\n",
       "      <th>4</th>\n",
       "      <td>5</td>\n",
       "      <td>125</td>\n",
       "      <td>1776</td>\n",
       "      <td>386</td>\n",
       "      <td>2006-07-04</td>\n",
       "      <td>268</td>\n",
       "    </tr>\n",
       "  </tbody>\n",
       "</table>\n",
       "</div>"
      ],
      "text/plain": [
       "   book_id  author_id                                              title  \\\n",
       "0        1        546                                       'Salem's Lot   \n",
       "1        2        465                 1 000 Places to See Before You Die   \n",
       "2        3        407  13 Little Blue Envelopes (Little Blue Envelope...   \n",
       "3        4         82  1491: New Revelations of the Americas Before C...   \n",
       "4        5        125                                               1776   \n",
       "\n",
       "   num_pages publication_date  publisher_id  \n",
       "0        594       2005-11-01            93  \n",
       "1        992       2003-05-22           336  \n",
       "2        322       2010-12-21           135  \n",
       "3        541       2006-10-10           309  \n",
       "4        386       2006-07-04           268  "
      ]
     },
     "execution_count": 4,
     "metadata": {},
     "output_type": "execute_result"
    }
   ],
   "source": [
    "books = '''\n",
    "          SELECT *\n",
    "          FROM books\n",
    "          LIMIT 5 \n",
    "            '''\n",
    "request(books)"
   ]
  },
  {
   "cell_type": "markdown",
   "metadata": {},
   "source": [
    "**Таблица authors**"
   ]
  },
  {
   "cell_type": "code",
   "execution_count": 5,
   "metadata": {},
   "outputs": [
    {
     "data": {
      "text/html": [
       "<div>\n",
       "<style scoped>\n",
       "    .dataframe tbody tr th:only-of-type {\n",
       "        vertical-align: middle;\n",
       "    }\n",
       "\n",
       "    .dataframe tbody tr th {\n",
       "        vertical-align: top;\n",
       "    }\n",
       "\n",
       "    .dataframe thead th {\n",
       "        text-align: right;\n",
       "    }\n",
       "</style>\n",
       "<table border=\"1\" class=\"dataframe\">\n",
       "  <thead>\n",
       "    <tr style=\"text-align: right;\">\n",
       "      <th></th>\n",
       "      <th>author_id</th>\n",
       "      <th>author</th>\n",
       "    </tr>\n",
       "  </thead>\n",
       "  <tbody>\n",
       "    <tr>\n",
       "      <th>0</th>\n",
       "      <td>1</td>\n",
       "      <td>A.S. Byatt</td>\n",
       "    </tr>\n",
       "    <tr>\n",
       "      <th>1</th>\n",
       "      <td>2</td>\n",
       "      <td>Aesop/Laura Harris/Laura Gibbs</td>\n",
       "    </tr>\n",
       "    <tr>\n",
       "      <th>2</th>\n",
       "      <td>3</td>\n",
       "      <td>Agatha Christie</td>\n",
       "    </tr>\n",
       "    <tr>\n",
       "      <th>3</th>\n",
       "      <td>4</td>\n",
       "      <td>Alan Brennert</td>\n",
       "    </tr>\n",
       "    <tr>\n",
       "      <th>4</th>\n",
       "      <td>5</td>\n",
       "      <td>Alan Moore/David   Lloyd</td>\n",
       "    </tr>\n",
       "  </tbody>\n",
       "</table>\n",
       "</div>"
      ],
      "text/plain": [
       "   author_id                          author\n",
       "0          1                      A.S. Byatt\n",
       "1          2  Aesop/Laura Harris/Laura Gibbs\n",
       "2          3                 Agatha Christie\n",
       "3          4                   Alan Brennert\n",
       "4          5        Alan Moore/David   Lloyd"
      ]
     },
     "execution_count": 5,
     "metadata": {},
     "output_type": "execute_result"
    }
   ],
   "source": [
    "authors = '''\n",
    "          SELECT *\n",
    "          FROM authors\n",
    "          LIMIT 5 \n",
    "            '''\n",
    "request(authors)"
   ]
  },
  {
   "cell_type": "markdown",
   "metadata": {},
   "source": [
    "**Таблица publishers**"
   ]
  },
  {
   "cell_type": "code",
   "execution_count": 6,
   "metadata": {},
   "outputs": [
    {
     "data": {
      "text/html": [
       "<div>\n",
       "<style scoped>\n",
       "    .dataframe tbody tr th:only-of-type {\n",
       "        vertical-align: middle;\n",
       "    }\n",
       "\n",
       "    .dataframe tbody tr th {\n",
       "        vertical-align: top;\n",
       "    }\n",
       "\n",
       "    .dataframe thead th {\n",
       "        text-align: right;\n",
       "    }\n",
       "</style>\n",
       "<table border=\"1\" class=\"dataframe\">\n",
       "  <thead>\n",
       "    <tr style=\"text-align: right;\">\n",
       "      <th></th>\n",
       "      <th>publisher_id</th>\n",
       "      <th>publisher</th>\n",
       "    </tr>\n",
       "  </thead>\n",
       "  <tbody>\n",
       "    <tr>\n",
       "      <th>0</th>\n",
       "      <td>1</td>\n",
       "      <td>Ace</td>\n",
       "    </tr>\n",
       "    <tr>\n",
       "      <th>1</th>\n",
       "      <td>2</td>\n",
       "      <td>Ace Book</td>\n",
       "    </tr>\n",
       "    <tr>\n",
       "      <th>2</th>\n",
       "      <td>3</td>\n",
       "      <td>Ace Books</td>\n",
       "    </tr>\n",
       "    <tr>\n",
       "      <th>3</th>\n",
       "      <td>4</td>\n",
       "      <td>Ace Hardcover</td>\n",
       "    </tr>\n",
       "    <tr>\n",
       "      <th>4</th>\n",
       "      <td>5</td>\n",
       "      <td>Addison Wesley Publishing Company</td>\n",
       "    </tr>\n",
       "  </tbody>\n",
       "</table>\n",
       "</div>"
      ],
      "text/plain": [
       "   publisher_id                          publisher\n",
       "0             1                                Ace\n",
       "1             2                           Ace Book\n",
       "2             3                          Ace Books\n",
       "3             4                      Ace Hardcover\n",
       "4             5  Addison Wesley Publishing Company"
      ]
     },
     "execution_count": 6,
     "metadata": {},
     "output_type": "execute_result"
    }
   ],
   "source": [
    "publishers = '''\n",
    "          SELECT *\n",
    "          FROM publishers\n",
    "          LIMIT 5 \n",
    "            '''\n",
    "request(publishers)"
   ]
  },
  {
   "cell_type": "markdown",
   "metadata": {},
   "source": [
    "**Таблица ratings**"
   ]
  },
  {
   "cell_type": "code",
   "execution_count": 7,
   "metadata": {},
   "outputs": [
    {
     "data": {
      "text/html": [
       "<div>\n",
       "<style scoped>\n",
       "    .dataframe tbody tr th:only-of-type {\n",
       "        vertical-align: middle;\n",
       "    }\n",
       "\n",
       "    .dataframe tbody tr th {\n",
       "        vertical-align: top;\n",
       "    }\n",
       "\n",
       "    .dataframe thead th {\n",
       "        text-align: right;\n",
       "    }\n",
       "</style>\n",
       "<table border=\"1\" class=\"dataframe\">\n",
       "  <thead>\n",
       "    <tr style=\"text-align: right;\">\n",
       "      <th></th>\n",
       "      <th>rating_id</th>\n",
       "      <th>book_id</th>\n",
       "      <th>username</th>\n",
       "      <th>rating</th>\n",
       "    </tr>\n",
       "  </thead>\n",
       "  <tbody>\n",
       "    <tr>\n",
       "      <th>0</th>\n",
       "      <td>1</td>\n",
       "      <td>1</td>\n",
       "      <td>ryanfranco</td>\n",
       "      <td>4</td>\n",
       "    </tr>\n",
       "    <tr>\n",
       "      <th>1</th>\n",
       "      <td>2</td>\n",
       "      <td>1</td>\n",
       "      <td>grantpatricia</td>\n",
       "      <td>2</td>\n",
       "    </tr>\n",
       "    <tr>\n",
       "      <th>2</th>\n",
       "      <td>3</td>\n",
       "      <td>1</td>\n",
       "      <td>brandtandrea</td>\n",
       "      <td>5</td>\n",
       "    </tr>\n",
       "    <tr>\n",
       "      <th>3</th>\n",
       "      <td>4</td>\n",
       "      <td>2</td>\n",
       "      <td>lorichen</td>\n",
       "      <td>3</td>\n",
       "    </tr>\n",
       "    <tr>\n",
       "      <th>4</th>\n",
       "      <td>5</td>\n",
       "      <td>2</td>\n",
       "      <td>mariokeller</td>\n",
       "      <td>2</td>\n",
       "    </tr>\n",
       "  </tbody>\n",
       "</table>\n",
       "</div>"
      ],
      "text/plain": [
       "   rating_id  book_id       username  rating\n",
       "0          1        1     ryanfranco       4\n",
       "1          2        1  grantpatricia       2\n",
       "2          3        1   brandtandrea       5\n",
       "3          4        2       lorichen       3\n",
       "4          5        2    mariokeller       2"
      ]
     },
     "execution_count": 7,
     "metadata": {},
     "output_type": "execute_result"
    }
   ],
   "source": [
    "ratings = '''\n",
    "          SELECT *\n",
    "          FROM ratings\n",
    "          LIMIT 5 \n",
    "            '''\n",
    "request(ratings)"
   ]
  },
  {
   "cell_type": "markdown",
   "metadata": {},
   "source": [
    "**Таблица reviews**"
   ]
  },
  {
   "cell_type": "code",
   "execution_count": 8,
   "metadata": {},
   "outputs": [
    {
     "data": {
      "text/html": [
       "<div>\n",
       "<style scoped>\n",
       "    .dataframe tbody tr th:only-of-type {\n",
       "        vertical-align: middle;\n",
       "    }\n",
       "\n",
       "    .dataframe tbody tr th {\n",
       "        vertical-align: top;\n",
       "    }\n",
       "\n",
       "    .dataframe thead th {\n",
       "        text-align: right;\n",
       "    }\n",
       "</style>\n",
       "<table border=\"1\" class=\"dataframe\">\n",
       "  <thead>\n",
       "    <tr style=\"text-align: right;\">\n",
       "      <th></th>\n",
       "      <th>review_id</th>\n",
       "      <th>book_id</th>\n",
       "      <th>username</th>\n",
       "      <th>text</th>\n",
       "    </tr>\n",
       "  </thead>\n",
       "  <tbody>\n",
       "    <tr>\n",
       "      <th>0</th>\n",
       "      <td>1</td>\n",
       "      <td>1</td>\n",
       "      <td>brandtandrea</td>\n",
       "      <td>Mention society tell send professor analysis. ...</td>\n",
       "    </tr>\n",
       "    <tr>\n",
       "      <th>1</th>\n",
       "      <td>2</td>\n",
       "      <td>1</td>\n",
       "      <td>ryanfranco</td>\n",
       "      <td>Foot glass pretty audience hit themselves. Amo...</td>\n",
       "    </tr>\n",
       "    <tr>\n",
       "      <th>2</th>\n",
       "      <td>3</td>\n",
       "      <td>2</td>\n",
       "      <td>lorichen</td>\n",
       "      <td>Listen treat keep worry. Miss husband tax but ...</td>\n",
       "    </tr>\n",
       "    <tr>\n",
       "      <th>3</th>\n",
       "      <td>4</td>\n",
       "      <td>3</td>\n",
       "      <td>johnsonamanda</td>\n",
       "      <td>Finally month interesting blue could nature cu...</td>\n",
       "    </tr>\n",
       "    <tr>\n",
       "      <th>4</th>\n",
       "      <td>5</td>\n",
       "      <td>3</td>\n",
       "      <td>scotttamara</td>\n",
       "      <td>Nation purpose heavy give wait song will. List...</td>\n",
       "    </tr>\n",
       "  </tbody>\n",
       "</table>\n",
       "</div>"
      ],
      "text/plain": [
       "   review_id  book_id       username  \\\n",
       "0          1        1   brandtandrea   \n",
       "1          2        1     ryanfranco   \n",
       "2          3        2       lorichen   \n",
       "3          4        3  johnsonamanda   \n",
       "4          5        3    scotttamara   \n",
       "\n",
       "                                                text  \n",
       "0  Mention society tell send professor analysis. ...  \n",
       "1  Foot glass pretty audience hit themselves. Amo...  \n",
       "2  Listen treat keep worry. Miss husband tax but ...  \n",
       "3  Finally month interesting blue could nature cu...  \n",
       "4  Nation purpose heavy give wait song will. List...  "
      ]
     },
     "execution_count": 8,
     "metadata": {},
     "output_type": "execute_result"
    }
   ],
   "source": [
    "reviews = '''\n",
    "          SELECT *\n",
    "          FROM reviews\n",
    "          LIMIT 5 \n",
    "            '''\n",
    "request(reviews)"
   ]
  },
  {
   "cell_type": "markdown",
   "metadata": {},
   "source": [
    "## Исследование данных"
   ]
  },
  {
   "cell_type": "markdown",
   "metadata": {},
   "source": [
    "### Количество книг, вышедших после 1 января 2000 года"
   ]
  },
  {
   "cell_type": "code",
   "execution_count": 9,
   "metadata": {},
   "outputs": [
    {
     "data": {
      "text/html": [
       "<div>\n",
       "<style scoped>\n",
       "    .dataframe tbody tr th:only-of-type {\n",
       "        vertical-align: middle;\n",
       "    }\n",
       "\n",
       "    .dataframe tbody tr th {\n",
       "        vertical-align: top;\n",
       "    }\n",
       "\n",
       "    .dataframe thead th {\n",
       "        text-align: right;\n",
       "    }\n",
       "</style>\n",
       "<table border=\"1\" class=\"dataframe\">\n",
       "  <thead>\n",
       "    <tr style=\"text-align: right;\">\n",
       "      <th></th>\n",
       "      <th>count</th>\n",
       "    </tr>\n",
       "  </thead>\n",
       "  <tbody>\n",
       "    <tr>\n",
       "      <th>0</th>\n",
       "      <td>819</td>\n",
       "    </tr>\n",
       "  </tbody>\n",
       "</table>\n",
       "</div>"
      ],
      "text/plain": [
       "   count\n",
       "0    819"
      ]
     },
     "execution_count": 9,
     "metadata": {},
     "output_type": "execute_result"
    }
   ],
   "source": [
    "book_count = '''\n",
    "             SELECT COUNT(book_id)\n",
    "             FROM books\n",
    "             WHERE publication_date > '2000-01-01'\n",
    "             '''\n",
    "request(book_count)"
   ]
  },
  {
   "cell_type": "markdown",
   "metadata": {},
   "source": [
    "После 1 января 2000 года вышло 819 книг."
   ]
  },
  {
   "cell_type": "markdown",
   "metadata": {},
   "source": [
    "### Количество обзоров и средняя оценка для каждой книги"
   ]
  },
  {
   "cell_type": "code",
   "execution_count": 10,
   "metadata": {},
   "outputs": [
    {
     "data": {
      "text/html": [
       "<div>\n",
       "<style scoped>\n",
       "    .dataframe tbody tr th:only-of-type {\n",
       "        vertical-align: middle;\n",
       "    }\n",
       "\n",
       "    .dataframe tbody tr th {\n",
       "        vertical-align: top;\n",
       "    }\n",
       "\n",
       "    .dataframe thead th {\n",
       "        text-align: right;\n",
       "    }\n",
       "</style>\n",
       "<table border=\"1\" class=\"dataframe\">\n",
       "  <thead>\n",
       "    <tr style=\"text-align: right;\">\n",
       "      <th></th>\n",
       "      <th>book_id</th>\n",
       "      <th>title</th>\n",
       "      <th>review</th>\n",
       "      <th>rating</th>\n",
       "    </tr>\n",
       "  </thead>\n",
       "  <tbody>\n",
       "    <tr>\n",
       "      <th>0</th>\n",
       "      <td>948</td>\n",
       "      <td>Twilight (Twilight  #1)</td>\n",
       "      <td>7</td>\n",
       "      <td>3.662500</td>\n",
       "    </tr>\n",
       "    <tr>\n",
       "      <th>1</th>\n",
       "      <td>750</td>\n",
       "      <td>The Hobbit  or There and Back Again</td>\n",
       "      <td>6</td>\n",
       "      <td>4.125000</td>\n",
       "    </tr>\n",
       "    <tr>\n",
       "      <th>2</th>\n",
       "      <td>673</td>\n",
       "      <td>The Catcher in the Rye</td>\n",
       "      <td>6</td>\n",
       "      <td>3.825581</td>\n",
       "    </tr>\n",
       "    <tr>\n",
       "      <th>3</th>\n",
       "      <td>302</td>\n",
       "      <td>Harry Potter and the Prisoner of Azkaban (Harr...</td>\n",
       "      <td>6</td>\n",
       "      <td>4.414634</td>\n",
       "    </tr>\n",
       "    <tr>\n",
       "      <th>4</th>\n",
       "      <td>299</td>\n",
       "      <td>Harry Potter and the Chamber of Secrets (Harry...</td>\n",
       "      <td>6</td>\n",
       "      <td>4.287500</td>\n",
       "    </tr>\n",
       "    <tr>\n",
       "      <th>...</th>\n",
       "      <td>...</td>\n",
       "      <td>...</td>\n",
       "      <td>...</td>\n",
       "      <td>...</td>\n",
       "    </tr>\n",
       "    <tr>\n",
       "      <th>995</th>\n",
       "      <td>221</td>\n",
       "      <td>Essential Tales and Poems</td>\n",
       "      <td>0</td>\n",
       "      <td>4.000000</td>\n",
       "    </tr>\n",
       "    <tr>\n",
       "      <th>996</th>\n",
       "      <td>387</td>\n",
       "      <td>Leonardo's Notebooks</td>\n",
       "      <td>0</td>\n",
       "      <td>4.000000</td>\n",
       "    </tr>\n",
       "    <tr>\n",
       "      <th>997</th>\n",
       "      <td>672</td>\n",
       "      <td>The Cat in the Hat and Other Dr. Seuss Favorites</td>\n",
       "      <td>0</td>\n",
       "      <td>5.000000</td>\n",
       "    </tr>\n",
       "    <tr>\n",
       "      <th>998</th>\n",
       "      <td>83</td>\n",
       "      <td>Anne Rice's The Vampire Lestat: A Graphic Novel</td>\n",
       "      <td>0</td>\n",
       "      <td>3.666667</td>\n",
       "    </tr>\n",
       "    <tr>\n",
       "      <th>999</th>\n",
       "      <td>808</td>\n",
       "      <td>The Natural Way to Draw</td>\n",
       "      <td>0</td>\n",
       "      <td>3.000000</td>\n",
       "    </tr>\n",
       "  </tbody>\n",
       "</table>\n",
       "<p>1000 rows × 4 columns</p>\n",
       "</div>"
      ],
      "text/plain": [
       "     book_id                                              title  review  \\\n",
       "0        948                            Twilight (Twilight  #1)       7   \n",
       "1        750                The Hobbit  or There and Back Again       6   \n",
       "2        673                             The Catcher in the Rye       6   \n",
       "3        302  Harry Potter and the Prisoner of Azkaban (Harr...       6   \n",
       "4        299  Harry Potter and the Chamber of Secrets (Harry...       6   \n",
       "..       ...                                                ...     ...   \n",
       "995      221                          Essential Tales and Poems       0   \n",
       "996      387                               Leonardo's Notebooks       0   \n",
       "997      672   The Cat in the Hat and Other Dr. Seuss Favorites       0   \n",
       "998       83    Anne Rice's The Vampire Lestat: A Graphic Novel       0   \n",
       "999      808                            The Natural Way to Draw       0   \n",
       "\n",
       "       rating  \n",
       "0    3.662500  \n",
       "1    4.125000  \n",
       "2    3.825581  \n",
       "3    4.414634  \n",
       "4    4.287500  \n",
       "..        ...  \n",
       "995  4.000000  \n",
       "996  4.000000  \n",
       "997  5.000000  \n",
       "998  3.666667  \n",
       "999  3.000000  \n",
       "\n",
       "[1000 rows x 4 columns]"
      ]
     },
     "execution_count": 10,
     "metadata": {},
     "output_type": "execute_result"
    }
   ],
   "source": [
    "count = '''\n",
    "        SELECT b.book_id,\n",
    "               title,\n",
    "               COUNT(DISTINCT r.review_id) AS review,\n",
    "               AVG(rt.rating) AS rating\n",
    "        FROM books b\n",
    "        LEFT JOIN reviews AS r ON b.book_id = r.book_id\n",
    "        LEFT JOIN ratings AS rt ON b.book_id = rt.book_id\n",
    "        GROUP BY b.book_id\n",
    "        ORDER BY COUNT(r.review_id) DESC\n",
    "        '''\n",
    "request(count)"
   ]
  },
  {
   "cell_type": "markdown",
   "metadata": {},
   "source": [
    "Для каждой книги написано достаточно мало отзывов, максимальное количество отзывов - 7. Также есть книги без отзывов"
   ]
  },
  {
   "cell_type": "markdown",
   "metadata": {},
   "source": [
    "### Издательство, которое выпустило наибольшее число книг толще 50 страниц"
   ]
  },
  {
   "cell_type": "code",
   "execution_count": 11,
   "metadata": {},
   "outputs": [
    {
     "data": {
      "text/html": [
       "<div>\n",
       "<style scoped>\n",
       "    .dataframe tbody tr th:only-of-type {\n",
       "        vertical-align: middle;\n",
       "    }\n",
       "\n",
       "    .dataframe tbody tr th {\n",
       "        vertical-align: top;\n",
       "    }\n",
       "\n",
       "    .dataframe thead th {\n",
       "        text-align: right;\n",
       "    }\n",
       "</style>\n",
       "<table border=\"1\" class=\"dataframe\">\n",
       "  <thead>\n",
       "    <tr style=\"text-align: right;\">\n",
       "      <th></th>\n",
       "      <th>publisher</th>\n",
       "      <th>count</th>\n",
       "    </tr>\n",
       "  </thead>\n",
       "  <tbody>\n",
       "    <tr>\n",
       "      <th>0</th>\n",
       "      <td>Penguin Books</td>\n",
       "      <td>42</td>\n",
       "    </tr>\n",
       "    <tr>\n",
       "      <th>1</th>\n",
       "      <td>Vintage</td>\n",
       "      <td>31</td>\n",
       "    </tr>\n",
       "    <tr>\n",
       "      <th>2</th>\n",
       "      <td>Grand Central Publishing</td>\n",
       "      <td>25</td>\n",
       "    </tr>\n",
       "    <tr>\n",
       "      <th>3</th>\n",
       "      <td>Penguin Classics</td>\n",
       "      <td>24</td>\n",
       "    </tr>\n",
       "    <tr>\n",
       "      <th>4</th>\n",
       "      <td>Bantam</td>\n",
       "      <td>19</td>\n",
       "    </tr>\n",
       "  </tbody>\n",
       "</table>\n",
       "</div>"
      ],
      "text/plain": [
       "                  publisher  count\n",
       "0             Penguin Books     42\n",
       "1                   Vintage     31\n",
       "2  Grand Central Publishing     25\n",
       "3          Penguin Classics     24\n",
       "4                    Bantam     19"
      ]
     },
     "execution_count": 11,
     "metadata": {},
     "output_type": "execute_result"
    }
   ],
   "source": [
    "publish = '''\n",
    "          SELECT p.publisher,\n",
    "                 COUNT(b.book_id) AS count             \n",
    "          FROM books b\n",
    "          LEFT JOIN publishers p ON b.publisher_id=p.publisher_id\n",
    "          WHERE b.num_pages > 50\n",
    "          GROUP BY p.publisher\n",
    "          ORDER BY count DESC\n",
    "          LIMIT 5\n",
    "        '''\n",
    "request(publish)"
   ]
  },
  {
   "cell_type": "markdown",
   "metadata": {},
   "source": [
    "Наибольшее чило книг толще 50 страниц выпустило издательство Penguin Books."
   ]
  },
  {
   "cell_type": "markdown",
   "metadata": {},
   "source": [
    "### Автор с самой высокой средней оценкой книг"
   ]
  },
  {
   "cell_type": "code",
   "execution_count": 12,
   "metadata": {},
   "outputs": [
    {
     "data": {
      "text/html": [
       "<div>\n",
       "<style scoped>\n",
       "    .dataframe tbody tr th:only-of-type {\n",
       "        vertical-align: middle;\n",
       "    }\n",
       "\n",
       "    .dataframe tbody tr th {\n",
       "        vertical-align: top;\n",
       "    }\n",
       "\n",
       "    .dataframe thead th {\n",
       "        text-align: right;\n",
       "    }\n",
       "</style>\n",
       "<table border=\"1\" class=\"dataframe\">\n",
       "  <thead>\n",
       "    <tr style=\"text-align: right;\">\n",
       "      <th></th>\n",
       "      <th>author</th>\n",
       "      <th>rating</th>\n",
       "    </tr>\n",
       "  </thead>\n",
       "  <tbody>\n",
       "    <tr>\n",
       "      <th>0</th>\n",
       "      <td>J.K. Rowling/Mary GrandPré</td>\n",
       "      <td>4.283844</td>\n",
       "    </tr>\n",
       "    <tr>\n",
       "      <th>1</th>\n",
       "      <td>Markus Zusak/Cao Xuân Việt Khương</td>\n",
       "      <td>4.264151</td>\n",
       "    </tr>\n",
       "    <tr>\n",
       "      <th>2</th>\n",
       "      <td>J.R.R. Tolkien</td>\n",
       "      <td>4.258446</td>\n",
       "    </tr>\n",
       "    <tr>\n",
       "      <th>3</th>\n",
       "      <td>Louisa May Alcott</td>\n",
       "      <td>4.192308</td>\n",
       "    </tr>\n",
       "    <tr>\n",
       "      <th>4</th>\n",
       "      <td>Rick Riordan</td>\n",
       "      <td>4.080645</td>\n",
       "    </tr>\n",
       "    <tr>\n",
       "      <th>5</th>\n",
       "      <td>William Golding</td>\n",
       "      <td>3.901408</td>\n",
       "    </tr>\n",
       "    <tr>\n",
       "      <th>6</th>\n",
       "      <td>J.D. Salinger</td>\n",
       "      <td>3.825581</td>\n",
       "    </tr>\n",
       "    <tr>\n",
       "      <th>7</th>\n",
       "      <td>Paulo Coelho/Alan R. Clarke/Özdemir İnce</td>\n",
       "      <td>3.789474</td>\n",
       "    </tr>\n",
       "    <tr>\n",
       "      <th>8</th>\n",
       "      <td>William Shakespeare/Paul Werstine/Barbara A. M...</td>\n",
       "      <td>3.787879</td>\n",
       "    </tr>\n",
       "    <tr>\n",
       "      <th>9</th>\n",
       "      <td>Dan Brown</td>\n",
       "      <td>3.754540</td>\n",
       "    </tr>\n",
       "    <tr>\n",
       "      <th>10</th>\n",
       "      <td>Lois Lowry</td>\n",
       "      <td>3.750000</td>\n",
       "    </tr>\n",
       "    <tr>\n",
       "      <th>11</th>\n",
       "      <td>George Orwell/Boris Grabnar/Peter Škerl</td>\n",
       "      <td>3.729730</td>\n",
       "    </tr>\n",
       "    <tr>\n",
       "      <th>12</th>\n",
       "      <td>Stephenie Meyer</td>\n",
       "      <td>3.662500</td>\n",
       "    </tr>\n",
       "    <tr>\n",
       "      <th>13</th>\n",
       "      <td>John Steinbeck</td>\n",
       "      <td>3.622951</td>\n",
       "    </tr>\n",
       "  </tbody>\n",
       "</table>\n",
       "</div>"
      ],
      "text/plain": [
       "                                               author    rating\n",
       "0                          J.K. Rowling/Mary GrandPré  4.283844\n",
       "1                   Markus Zusak/Cao Xuân Việt Khương  4.264151\n",
       "2                                      J.R.R. Tolkien  4.258446\n",
       "3                                   Louisa May Alcott  4.192308\n",
       "4                                        Rick Riordan  4.080645\n",
       "5                                     William Golding  3.901408\n",
       "6                                       J.D. Salinger  3.825581\n",
       "7            Paulo Coelho/Alan R. Clarke/Özdemir İnce  3.789474\n",
       "8   William Shakespeare/Paul Werstine/Barbara A. M...  3.787879\n",
       "9                                           Dan Brown  3.754540\n",
       "10                                         Lois Lowry  3.750000\n",
       "11            George Orwell/Boris Grabnar/Peter Škerl  3.729730\n",
       "12                                    Stephenie Meyer  3.662500\n",
       "13                                     John Steinbeck  3.622951"
      ]
     },
     "execution_count": 12,
     "metadata": {},
     "output_type": "execute_result"
    }
   ],
   "source": [
    "author = '''\n",
    "        SELECT a.author,\n",
    "               AVG(r.rating) AS rating\n",
    "        FROM books AS b\n",
    "        INNER JOIN (SELECT book_id,\n",
    "                   AVG(rating) AS rating\n",
    "                   FROM ratings\n",
    "                   GROUP BY book_id\n",
    "                   HAVING COUNT(rating_id) > 50) AS r ON r.book_id=b.book_id\n",
    "        LEFT JOIN authors AS a ON b.author_id=a.author_id\n",
    "        GROUP BY a.author\n",
    "        ORDER BY AVG(r.rating) DESC\n",
    "            '''\n",
    "request(author)"
   ]
  },
  {
   "cell_type": "markdown",
   "metadata": {},
   "source": [
    "Автором с самым высоким рейтингом является Джоан Роулинг."
   ]
  },
  {
   "cell_type": "markdown",
   "metadata": {},
   "source": [
    "### Среднее количество обзоров от пользователей, которые поставили больше 50 оценок"
   ]
  },
  {
   "cell_type": "code",
   "execution_count": 13,
   "metadata": {},
   "outputs": [
    {
     "data": {
      "text/html": [
       "<div>\n",
       "<style scoped>\n",
       "    .dataframe tbody tr th:only-of-type {\n",
       "        vertical-align: middle;\n",
       "    }\n",
       "\n",
       "    .dataframe tbody tr th {\n",
       "        vertical-align: top;\n",
       "    }\n",
       "\n",
       "    .dataframe thead th {\n",
       "        text-align: right;\n",
       "    }\n",
       "</style>\n",
       "<table border=\"1\" class=\"dataframe\">\n",
       "  <thead>\n",
       "    <tr style=\"text-align: right;\">\n",
       "      <th></th>\n",
       "      <th>avg_review</th>\n",
       "    </tr>\n",
       "  </thead>\n",
       "  <tbody>\n",
       "    <tr>\n",
       "      <th>0</th>\n",
       "      <td>24</td>\n",
       "    </tr>\n",
       "  </tbody>\n",
       "</table>\n",
       "</div>"
      ],
      "text/plain": [
       "   avg_review\n",
       "0          24"
      ]
     },
     "execution_count": 13,
     "metadata": {},
     "output_type": "execute_result"
    }
   ],
   "source": [
    "user = '''\n",
    "        SELECT COUNT(rv.review_id) / COUNT(DISTINCT rv.username) AS avg_review\n",
    "        FROM reviews AS rv\n",
    "        INNER JOIN (SELECT username,\n",
    "                    COUNT(rating_id)\n",
    "                    FROM ratings\n",
    "                    GROUP BY username\n",
    "                    HAVING COUNT(rating_id) > 50) AS r ON r.username=rv.username\n",
    "'''\n",
    "request(user)"
   ]
  },
  {
   "cell_type": "markdown",
   "metadata": {},
   "source": [
    "Среднее количество обзоров от пользователей, которые поставили больше 50 оценок - 24. Пользователи оставляют отзывы не для всех оцененных книг."
   ]
  },
  {
   "cell_type": "markdown",
   "metadata": {},
   "source": [
    "## Вывод"
   ]
  },
  {
   "cell_type": "markdown",
   "metadata": {},
   "source": [
    "- после 1 января 2000 года и на момент последних изменений в базе данных (который нам не известен) было выпущено 819 книг;\n",
    "- в базе имеются книги без обзоров, а макимальное количество обзоров для книги - 7. В базе присутствуют книги с оценкой 5;\n",
    "- наибольшее число книг толще 50 страниц выпустило издательство Penguin Books - 42 книги;\n",
    "- автором с самым высоким рейтингом является Джоан Роулинг;\n",
    "- среднее количество обзоров от пользователей, которые поставили больше 50 оценок - 24. Пользователи оставляют отзывы не для всех оцененных книг."
   ]
  }
 ],
 "metadata": {
  "ExecuteTimeLog": [
   {
    "duration": 476,
    "start_time": "2022-09-10T11:38:56.821Z"
   },
   {
    "duration": 4707,
    "start_time": "2022-09-10T11:42:34.275Z"
   },
   {
    "duration": 3,
    "start_time": "2022-09-10T11:43:27.991Z"
   },
   {
    "duration": 249,
    "start_time": "2022-09-10T11:54:40.775Z"
   },
   {
    "duration": 71,
    "start_time": "2022-09-10T11:56:20.284Z"
   },
   {
    "duration": 72,
    "start_time": "2022-09-10T11:57:08.614Z"
   },
   {
    "duration": 72,
    "start_time": "2022-09-10T11:59:22.516Z"
   },
   {
    "duration": 72,
    "start_time": "2022-09-10T12:00:09.145Z"
   },
   {
    "duration": 66,
    "start_time": "2022-09-10T12:04:43.193Z"
   },
   {
    "duration": 149,
    "start_time": "2022-09-10T12:04:46.432Z"
   },
   {
    "duration": 71,
    "start_time": "2022-09-10T12:05:23.931Z"
   },
   {
    "duration": 130,
    "start_time": "2022-09-10T12:25:17.004Z"
   },
   {
    "duration": 129,
    "start_time": "2022-09-10T12:25:36.793Z"
   },
   {
    "duration": 126,
    "start_time": "2022-09-10T12:26:34.440Z"
   },
   {
    "duration": 96,
    "start_time": "2022-09-10T12:28:20.168Z"
   },
   {
    "duration": 98,
    "start_time": "2022-09-10T12:28:44.717Z"
   },
   {
    "duration": 108,
    "start_time": "2022-09-10T12:30:32.505Z"
   },
   {
    "duration": 104,
    "start_time": "2022-09-10T12:31:47.050Z"
   },
   {
    "duration": 125,
    "start_time": "2022-09-10T12:42:25.852Z"
   },
   {
    "duration": 130,
    "start_time": "2022-09-10T12:43:14.472Z"
   },
   {
    "duration": 133,
    "start_time": "2022-09-10T12:44:53.688Z"
   },
   {
    "duration": 124,
    "start_time": "2022-09-10T12:45:58.516Z"
   },
   {
    "duration": 75,
    "start_time": "2022-09-10T12:46:14.693Z"
   },
   {
    "duration": 81,
    "start_time": "2022-09-10T12:47:00.138Z"
   },
   {
    "duration": 512,
    "start_time": "2022-09-10T12:54:50.473Z"
   },
   {
    "duration": 5181,
    "start_time": "2022-09-10T12:54:52.165Z"
   },
   {
    "duration": 3,
    "start_time": "2022-09-10T12:54:57.348Z"
   },
   {
    "duration": 247,
    "start_time": "2022-09-10T12:54:58.377Z"
   },
   {
    "duration": 72,
    "start_time": "2022-09-10T12:55:00.532Z"
   },
   {
    "duration": 72,
    "start_time": "2022-09-10T12:55:02.105Z"
   },
   {
    "duration": 77,
    "start_time": "2022-09-10T12:55:04.591Z"
   },
   {
    "duration": 72,
    "start_time": "2022-09-10T12:55:06.387Z"
   },
   {
    "duration": 71,
    "start_time": "2022-09-10T12:55:08.237Z"
   },
   {
    "duration": 105,
    "start_time": "2022-09-10T12:55:09.947Z"
   },
   {
    "duration": 75,
    "start_time": "2022-09-10T12:55:11.955Z"
   },
   {
    "duration": 2,
    "start_time": "2022-09-10T12:55:14.081Z"
   },
   {
    "duration": 3,
    "start_time": "2022-09-10T13:02:08.176Z"
   },
   {
    "duration": 74,
    "start_time": "2022-09-10T13:02:25.315Z"
   },
   {
    "duration": 205,
    "start_time": "2022-09-10T13:04:44.540Z"
   },
   {
    "duration": 173,
    "start_time": "2022-09-10T13:05:35.115Z"
   },
   {
    "duration": 86,
    "start_time": "2022-09-10T13:15:45.284Z"
   },
   {
    "duration": 86,
    "start_time": "2022-09-10T13:17:52.800Z"
   },
   {
    "duration": 86,
    "start_time": "2022-09-10T13:18:03.103Z"
   },
   {
    "duration": 73,
    "start_time": "2022-09-10T13:18:52.713Z"
   },
   {
    "duration": 74,
    "start_time": "2022-09-10T13:18:58.448Z"
   },
   {
    "duration": 125,
    "start_time": "2022-09-10T13:20:33.380Z"
   },
   {
    "duration": 74,
    "start_time": "2022-09-10T13:20:55.026Z"
   },
   {
    "duration": 225,
    "start_time": "2022-09-10T13:22:16.779Z"
   },
   {
    "duration": 146,
    "start_time": "2022-09-10T13:22:24.009Z"
   },
   {
    "duration": 145,
    "start_time": "2022-09-10T13:22:42.851Z"
   },
   {
    "duration": 75,
    "start_time": "2022-09-10T13:23:09.041Z"
   },
   {
    "duration": 73,
    "start_time": "2022-09-10T13:23:42.162Z"
   },
   {
    "duration": 75,
    "start_time": "2022-09-10T13:23:54.682Z"
   },
   {
    "duration": 75,
    "start_time": "2022-09-10T13:24:06.718Z"
   },
   {
    "duration": 3,
    "start_time": "2022-09-10T13:28:42.897Z"
   },
   {
    "duration": 71,
    "start_time": "2022-09-10T13:28:53.806Z"
   },
   {
    "duration": 147,
    "start_time": "2022-09-10T13:34:10.808Z"
   },
   {
    "duration": 75,
    "start_time": "2022-09-10T13:35:32.072Z"
   },
   {
    "duration": 76,
    "start_time": "2022-09-10T13:36:13.619Z"
   },
   {
    "duration": 59,
    "start_time": "2022-09-10T13:39:56.767Z"
   },
   {
    "duration": 512,
    "start_time": "2022-09-10T13:40:13.781Z"
   },
   {
    "duration": 7534,
    "start_time": "2022-09-10T13:40:14.295Z"
   },
   {
    "duration": 2,
    "start_time": "2022-09-10T13:40:21.831Z"
   },
   {
    "duration": 266,
    "start_time": "2022-09-10T13:40:21.836Z"
   },
   {
    "duration": 71,
    "start_time": "2022-09-10T13:40:22.104Z"
   },
   {
    "duration": 70,
    "start_time": "2022-09-10T13:40:22.177Z"
   },
   {
    "duration": 72,
    "start_time": "2022-09-10T13:40:22.249Z"
   },
   {
    "duration": 73,
    "start_time": "2022-09-10T13:40:22.323Z"
   },
   {
    "duration": 70,
    "start_time": "2022-09-10T13:40:22.398Z"
   },
   {
    "duration": 220,
    "start_time": "2022-09-10T13:40:22.471Z"
   },
   {
    "duration": 0,
    "start_time": "2022-09-10T13:40:22.694Z"
   },
   {
    "duration": 0,
    "start_time": "2022-09-10T13:40:22.696Z"
   },
   {
    "duration": 0,
    "start_time": "2022-09-10T13:40:22.698Z"
   },
   {
    "duration": 118,
    "start_time": "2022-09-10T13:40:36.983Z"
   },
   {
    "duration": 105,
    "start_time": "2022-09-10T13:41:51.857Z"
   },
   {
    "duration": 132,
    "start_time": "2022-09-10T13:48:28.941Z"
   },
   {
    "duration": 111,
    "start_time": "2022-09-10T13:48:47.015Z"
   },
   {
    "duration": 106,
    "start_time": "2022-09-10T13:48:57.725Z"
   },
   {
    "duration": 113,
    "start_time": "2022-09-10T13:49:14.018Z"
   },
   {
    "duration": 73,
    "start_time": "2022-09-10T13:49:43.862Z"
   },
   {
    "duration": 77,
    "start_time": "2022-09-10T13:49:45.944Z"
   },
   {
    "duration": 77,
    "start_time": "2022-09-10T13:49:48.768Z"
   },
   {
    "duration": 485,
    "start_time": "2022-09-10T14:02:40.693Z"
   },
   {
    "duration": 5888,
    "start_time": "2022-09-10T14:02:41.180Z"
   },
   {
    "duration": 4,
    "start_time": "2022-09-10T14:02:47.069Z"
   },
   {
    "duration": 248,
    "start_time": "2022-09-10T14:02:47.075Z"
   },
   {
    "duration": 71,
    "start_time": "2022-09-10T14:02:47.324Z"
   },
   {
    "duration": 73,
    "start_time": "2022-09-10T14:02:47.397Z"
   },
   {
    "duration": 76,
    "start_time": "2022-09-10T14:02:47.472Z"
   },
   {
    "duration": 74,
    "start_time": "2022-09-10T14:02:47.550Z"
   },
   {
    "duration": 71,
    "start_time": "2022-09-10T14:02:47.626Z"
   },
   {
    "duration": 109,
    "start_time": "2022-09-10T14:02:47.699Z"
   },
   {
    "duration": 72,
    "start_time": "2022-09-10T14:02:47.809Z"
   },
   {
    "duration": 76,
    "start_time": "2022-09-10T14:02:47.882Z"
   },
   {
    "duration": 72,
    "start_time": "2022-09-10T14:02:47.959Z"
   },
   {
    "duration": 498,
    "start_time": "2022-09-11T06:09:59.771Z"
   },
   {
    "duration": 6402,
    "start_time": "2022-09-11T06:10:00.271Z"
   },
   {
    "duration": 2,
    "start_time": "2022-09-11T06:10:06.675Z"
   },
   {
    "duration": 269,
    "start_time": "2022-09-11T06:10:06.679Z"
   },
   {
    "duration": 76,
    "start_time": "2022-09-11T06:10:06.950Z"
   },
   {
    "duration": 73,
    "start_time": "2022-09-11T06:10:07.028Z"
   },
   {
    "duration": 71,
    "start_time": "2022-09-11T06:10:07.102Z"
   },
   {
    "duration": 70,
    "start_time": "2022-09-11T06:10:07.175Z"
   },
   {
    "duration": 68,
    "start_time": "2022-09-11T06:10:07.246Z"
   },
   {
    "duration": 106,
    "start_time": "2022-09-11T06:10:07.317Z"
   },
   {
    "duration": 71,
    "start_time": "2022-09-11T06:10:07.425Z"
   },
   {
    "duration": 75,
    "start_time": "2022-09-11T06:10:07.498Z"
   },
   {
    "duration": 72,
    "start_time": "2022-09-11T06:10:07.574Z"
   }
  ],
  "kernelspec": {
   "display_name": "Python 3 (ipykernel)",
   "language": "python",
   "name": "python3"
  },
  "language_info": {
   "codemirror_mode": {
    "name": "ipython",
    "version": 3
   },
   "file_extension": ".py",
   "mimetype": "text/x-python",
   "name": "python",
   "nbconvert_exporter": "python",
   "pygments_lexer": "ipython3",
   "version": "3.9.7"
  },
  "toc": {
   "base_numbering": 1,
   "nav_menu": {},
   "number_sections": true,
   "sideBar": true,
   "skip_h1_title": true,
   "title_cell": "Содержание",
   "title_sidebar": "Contents",
   "toc_cell": true,
   "toc_position": {},
   "toc_section_display": true,
   "toc_window_display": true
  }
 },
 "nbformat": 4,
 "nbformat_minor": 2
}
