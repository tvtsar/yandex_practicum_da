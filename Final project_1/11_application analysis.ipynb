{
 "cells": [
  {
   "cell_type": "markdown",
   "metadata": {},
   "source": [
    "## Предобработка данных"
   ]
  },
  {
   "cell_type": "code",
   "execution_count": 1,
   "metadata": {},
   "outputs": [],
   "source": [
    "import pandas as pd\n",
    "import datetime as dt\n",
    "import numpy as np\n",
    "import matplotlib.pyplot as plt\n",
    "import math as mth\n",
    "from scipy import stats as st\n",
    "import seaborn as sns\n",
    "from datetime import datetime, timedelta\n",
    "import warnings"
   ]
  },
  {
   "cell_type": "code",
   "execution_count": 2,
   "metadata": {},
   "outputs": [
    {
     "name": "stdout",
     "output_type": "stream",
     "text": [
      "<class 'pandas.core.frame.DataFrame'>\n",
      "RangeIndex: 4293 entries, 0 to 4292\n",
      "Data columns (total 2 columns):\n",
      " #   Column  Non-Null Count  Dtype \n",
      "---  ------  --------------  ----- \n",
      " 0   userId  4293 non-null   object\n",
      " 1   source  4293 non-null   object\n",
      "dtypes: object(2)\n",
      "memory usage: 67.2+ KB\n"
     ]
    },
    {
     "data": {
      "text/html": [
       "<div>\n",
       "<style scoped>\n",
       "    .dataframe tbody tr th:only-of-type {\n",
       "        vertical-align: middle;\n",
       "    }\n",
       "\n",
       "    .dataframe tbody tr th {\n",
       "        vertical-align: top;\n",
       "    }\n",
       "\n",
       "    .dataframe thead th {\n",
       "        text-align: right;\n",
       "    }\n",
       "</style>\n",
       "<table border=\"1\" class=\"dataframe\">\n",
       "  <thead>\n",
       "    <tr style=\"text-align: right;\">\n",
       "      <th></th>\n",
       "      <th>userId</th>\n",
       "      <th>source</th>\n",
       "    </tr>\n",
       "  </thead>\n",
       "  <tbody>\n",
       "    <tr>\n",
       "      <th>0</th>\n",
       "      <td>020292ab-89bc-4156-9acf-68bc2783f894</td>\n",
       "      <td>other</td>\n",
       "    </tr>\n",
       "    <tr>\n",
       "      <th>1</th>\n",
       "      <td>cf7eda61-9349-469f-ac27-e5b6f5ec475c</td>\n",
       "      <td>yandex</td>\n",
       "    </tr>\n",
       "    <tr>\n",
       "      <th>2</th>\n",
       "      <td>8c356c42-3ba9-4cb6-80b8-3f868d0192c3</td>\n",
       "      <td>yandex</td>\n",
       "    </tr>\n",
       "    <tr>\n",
       "      <th>3</th>\n",
       "      <td>d9b06b47-0f36-419b-bbb0-3533e582a6cb</td>\n",
       "      <td>other</td>\n",
       "    </tr>\n",
       "    <tr>\n",
       "      <th>4</th>\n",
       "      <td>f32e1e2a-3027-4693-b793-b7b3ff274439</td>\n",
       "      <td>google</td>\n",
       "    </tr>\n",
       "  </tbody>\n",
       "</table>\n",
       "</div>"
      ],
      "text/plain": [
       "                                 userId  source\n",
       "0  020292ab-89bc-4156-9acf-68bc2783f894   other\n",
       "1  cf7eda61-9349-469f-ac27-e5b6f5ec475c  yandex\n",
       "2  8c356c42-3ba9-4cb6-80b8-3f868d0192c3  yandex\n",
       "3  d9b06b47-0f36-419b-bbb0-3533e582a6cb   other\n",
       "4  f32e1e2a-3027-4693-b793-b7b3ff274439  google"
      ]
     },
     "metadata": {},
     "output_type": "display_data"
    }
   ],
   "source": [
    "#загрузка файла и вывод информации\n",
    "mobile_sourсes = pd.read_csv('/datasets/mobile_soures.csv')\n",
    "mobile_sourсes.info()\n",
    "display(mobile_sourсes.head())"
   ]
  },
  {
   "cell_type": "code",
   "execution_count": 3,
   "metadata": {},
   "outputs": [
    {
     "name": "stdout",
     "output_type": "stream",
     "text": [
      "<class 'pandas.core.frame.DataFrame'>\n",
      "RangeIndex: 74197 entries, 0 to 74196\n",
      "Data columns (total 3 columns):\n",
      " #   Column      Non-Null Count  Dtype \n",
      "---  ------      --------------  ----- \n",
      " 0   event.time  74197 non-null  object\n",
      " 1   event.name  74197 non-null  object\n",
      " 2   user.id     74197 non-null  object\n",
      "dtypes: object(3)\n",
      "memory usage: 1.7+ MB\n"
     ]
    },
    {
     "data": {
      "text/html": [
       "<div>\n",
       "<style scoped>\n",
       "    .dataframe tbody tr th:only-of-type {\n",
       "        vertical-align: middle;\n",
       "    }\n",
       "\n",
       "    .dataframe tbody tr th {\n",
       "        vertical-align: top;\n",
       "    }\n",
       "\n",
       "    .dataframe thead th {\n",
       "        text-align: right;\n",
       "    }\n",
       "</style>\n",
       "<table border=\"1\" class=\"dataframe\">\n",
       "  <thead>\n",
       "    <tr style=\"text-align: right;\">\n",
       "      <th></th>\n",
       "      <th>event.time</th>\n",
       "      <th>event.name</th>\n",
       "      <th>user.id</th>\n",
       "    </tr>\n",
       "  </thead>\n",
       "  <tbody>\n",
       "    <tr>\n",
       "      <th>0</th>\n",
       "      <td>2019-10-07 00:00:00.431357</td>\n",
       "      <td>advert_open</td>\n",
       "      <td>020292ab-89bc-4156-9acf-68bc2783f894</td>\n",
       "    </tr>\n",
       "    <tr>\n",
       "      <th>1</th>\n",
       "      <td>2019-10-07 00:00:01.236320</td>\n",
       "      <td>tips_show</td>\n",
       "      <td>020292ab-89bc-4156-9acf-68bc2783f894</td>\n",
       "    </tr>\n",
       "    <tr>\n",
       "      <th>2</th>\n",
       "      <td>2019-10-07 00:00:02.245341</td>\n",
       "      <td>tips_show</td>\n",
       "      <td>cf7eda61-9349-469f-ac27-e5b6f5ec475c</td>\n",
       "    </tr>\n",
       "    <tr>\n",
       "      <th>3</th>\n",
       "      <td>2019-10-07 00:00:07.039334</td>\n",
       "      <td>tips_show</td>\n",
       "      <td>020292ab-89bc-4156-9acf-68bc2783f894</td>\n",
       "    </tr>\n",
       "    <tr>\n",
       "      <th>4</th>\n",
       "      <td>2019-10-07 00:00:56.319813</td>\n",
       "      <td>advert_open</td>\n",
       "      <td>cf7eda61-9349-469f-ac27-e5b6f5ec475c</td>\n",
       "    </tr>\n",
       "  </tbody>\n",
       "</table>\n",
       "</div>"
      ],
      "text/plain": [
       "                   event.time   event.name  \\\n",
       "0  2019-10-07 00:00:00.431357  advert_open   \n",
       "1  2019-10-07 00:00:01.236320    tips_show   \n",
       "2  2019-10-07 00:00:02.245341    tips_show   \n",
       "3  2019-10-07 00:00:07.039334    tips_show   \n",
       "4  2019-10-07 00:00:56.319813  advert_open   \n",
       "\n",
       "                                user.id  \n",
       "0  020292ab-89bc-4156-9acf-68bc2783f894  \n",
       "1  020292ab-89bc-4156-9acf-68bc2783f894  \n",
       "2  cf7eda61-9349-469f-ac27-e5b6f5ec475c  \n",
       "3  020292ab-89bc-4156-9acf-68bc2783f894  \n",
       "4  cf7eda61-9349-469f-ac27-e5b6f5ec475c  "
      ]
     },
     "metadata": {},
     "output_type": "display_data"
    }
   ],
   "source": [
    "#загрузка файла и вывод информации\n",
    "mobile_dataset = pd.read_csv('/datasets/mobile_dataset.csv')\n",
    "mobile_dataset.info()\n",
    "display(mobile_dataset.head())"
   ]
  },
  {
   "cell_type": "code",
   "execution_count": 4,
   "metadata": {},
   "outputs": [],
   "source": [
    "#изменение наименований столбцов\n",
    "mobile_sourсes = mobile_sourсes.rename(columns={'userId': 'user_id'})\n",
    "mobile_dataset = mobile_dataset.rename(columns={'event.time': 'event_time', 'event.name': 'event_name', 'user.id': 'user_id'})"
   ]
  },
  {
   "cell_type": "code",
   "execution_count": 5,
   "metadata": {},
   "outputs": [
    {
     "data": {
      "text/plain": [
       "array(['other', 'yandex', 'google'], dtype=object)"
      ]
     },
     "execution_count": 5,
     "metadata": {},
     "output_type": "execute_result"
    }
   ],
   "source": [
    "#проверка уникальных категориальных значений\n",
    "mobile_sourсes['source'].unique()"
   ]
  },
  {
   "cell_type": "code",
   "execution_count": 6,
   "metadata": {},
   "outputs": [
    {
     "data": {
      "text/plain": [
       "array(['advert_open', 'tips_show', 'map', 'contacts_show', 'search_4',\n",
       "       'search_5', 'tips_click', 'photos_show', 'search_1', 'search_2',\n",
       "       'search_3', 'favorites_add', 'contacts_call', 'search_6',\n",
       "       'search_7', 'show_contacts'], dtype=object)"
      ]
     },
     "execution_count": 6,
     "metadata": {},
     "output_type": "execute_result"
    }
   ],
   "source": [
    "#проверка уникальных категориальных значений\n",
    "mobile_dataset['event_name'].unique()"
   ]
  },
  {
   "cell_type": "markdown",
   "metadata": {},
   "source": [
    "Так как нам не известно, что представляет из себя каждое из значений search - объединим их. Также объединим события 'contacts_show' и 'show_contacts'."
   ]
  },
  {
   "cell_type": "code",
   "execution_count": 7,
   "metadata": {},
   "outputs": [
    {
     "name": "stdout",
     "output_type": "stream",
     "text": [
      "{'search_7', 'search_2', 'search_4', 'search_6', 'search_1', 'search_5', 'search_3'}\n"
     ]
    }
   ],
   "source": [
    "#создадим список всех search\n",
    "search = []\n",
    "for i in mobile_dataset['event_name']:\n",
    "    if 'search' in i:\n",
    "        search.append(i)\n",
    "search_list = set(search)\n",
    "print(search_list)"
   ]
  },
  {
   "cell_type": "code",
   "execution_count": 8,
   "metadata": {},
   "outputs": [
    {
     "name": "stdout",
     "output_type": "stream",
     "text": [
      "['advert_open' 'tips_show' 'map' 'show_contacts' 'search' 'tips_click'\n",
      " 'photos_show' 'favorites_add' 'contacts_call']\n"
     ]
    }
   ],
   "source": [
    "# создаем общее событие search\n",
    "mobile_dataset['event_name'].replace(to_replace=search_list, value= 'search', inplace=True) \n",
    "# создаем общее событие show_contacts\n",
    "mobile_dataset.loc[mobile_dataset['event_name'] == 'contacts_show', 'event_name'] = 'show_contacts'\n",
    "print(mobile_dataset['event_name'].unique())"
   ]
  },
  {
   "cell_type": "code",
   "execution_count": 9,
   "metadata": {},
   "outputs": [
    {
     "data": {
      "text/plain": [
       "4293"
      ]
     },
     "execution_count": 9,
     "metadata": {},
     "output_type": "execute_result"
    }
   ],
   "source": [
    "#проверим количество уникальных пользователей в таблице событий\n",
    "mobile_dataset['user_id'].nunique()"
   ]
  },
  {
   "cell_type": "markdown",
   "metadata": {},
   "source": [
    "Количество уникальных пользователей в обеих таблицах одинаковое."
   ]
  },
  {
   "cell_type": "code",
   "execution_count": 10,
   "metadata": {},
   "outputs": [
    {
     "data": {
      "text/plain": [
       "(0, 0, 0)"
      ]
     },
     "execution_count": 10,
     "metadata": {},
     "output_type": "execute_result"
    }
   ],
   "source": [
    "#проверка на явные и неявные дубликаты\n",
    "mobile_sourсes.duplicated().sum(), mobile_dataset.duplicated().sum(), mobile_sourсes['user_id'].duplicated().sum()"
   ]
  },
  {
   "cell_type": "code",
   "execution_count": 11,
   "metadata": {},
   "outputs": [
    {
     "name": "stdout",
     "output_type": "stream",
     "text": [
      "<class 'pandas.core.frame.DataFrame'>\n",
      "RangeIndex: 74197 entries, 0 to 74196\n",
      "Data columns (total 4 columns):\n",
      " #   Column      Non-Null Count  Dtype         \n",
      "---  ------      --------------  -----         \n",
      " 0   event_time  74197 non-null  datetime64[ns]\n",
      " 1   event_name  74197 non-null  object        \n",
      " 2   user_id     74197 non-null  object        \n",
      " 3   dt          74197 non-null  datetime64[ns]\n",
      "dtypes: datetime64[ns](2), object(2)\n",
      "memory usage: 2.3+ MB\n"
     ]
    },
    {
     "data": {
      "text/html": [
       "<div>\n",
       "<style scoped>\n",
       "    .dataframe tbody tr th:only-of-type {\n",
       "        vertical-align: middle;\n",
       "    }\n",
       "\n",
       "    .dataframe tbody tr th {\n",
       "        vertical-align: top;\n",
       "    }\n",
       "\n",
       "    .dataframe thead th {\n",
       "        text-align: right;\n",
       "    }\n",
       "</style>\n",
       "<table border=\"1\" class=\"dataframe\">\n",
       "  <thead>\n",
       "    <tr style=\"text-align: right;\">\n",
       "      <th></th>\n",
       "      <th>event_time</th>\n",
       "      <th>event_name</th>\n",
       "      <th>user_id</th>\n",
       "      <th>dt</th>\n",
       "    </tr>\n",
       "  </thead>\n",
       "  <tbody>\n",
       "    <tr>\n",
       "      <th>0</th>\n",
       "      <td>2019-10-07 00:00:00.431357</td>\n",
       "      <td>advert_open</td>\n",
       "      <td>020292ab-89bc-4156-9acf-68bc2783f894</td>\n",
       "      <td>2019-10-07</td>\n",
       "    </tr>\n",
       "    <tr>\n",
       "      <th>1</th>\n",
       "      <td>2019-10-07 00:00:01.236320</td>\n",
       "      <td>tips_show</td>\n",
       "      <td>020292ab-89bc-4156-9acf-68bc2783f894</td>\n",
       "      <td>2019-10-07</td>\n",
       "    </tr>\n",
       "    <tr>\n",
       "      <th>2</th>\n",
       "      <td>2019-10-07 00:00:02.245341</td>\n",
       "      <td>tips_show</td>\n",
       "      <td>cf7eda61-9349-469f-ac27-e5b6f5ec475c</td>\n",
       "      <td>2019-10-07</td>\n",
       "    </tr>\n",
       "    <tr>\n",
       "      <th>3</th>\n",
       "      <td>2019-10-07 00:00:07.039334</td>\n",
       "      <td>tips_show</td>\n",
       "      <td>020292ab-89bc-4156-9acf-68bc2783f894</td>\n",
       "      <td>2019-10-07</td>\n",
       "    </tr>\n",
       "    <tr>\n",
       "      <th>4</th>\n",
       "      <td>2019-10-07 00:00:56.319813</td>\n",
       "      <td>advert_open</td>\n",
       "      <td>cf7eda61-9349-469f-ac27-e5b6f5ec475c</td>\n",
       "      <td>2019-10-07</td>\n",
       "    </tr>\n",
       "  </tbody>\n",
       "</table>\n",
       "</div>"
      ],
      "text/plain": [
       "                  event_time   event_name  \\\n",
       "0 2019-10-07 00:00:00.431357  advert_open   \n",
       "1 2019-10-07 00:00:01.236320    tips_show   \n",
       "2 2019-10-07 00:00:02.245341    tips_show   \n",
       "3 2019-10-07 00:00:07.039334    tips_show   \n",
       "4 2019-10-07 00:00:56.319813  advert_open   \n",
       "\n",
       "                                user_id         dt  \n",
       "0  020292ab-89bc-4156-9acf-68bc2783f894 2019-10-07  \n",
       "1  020292ab-89bc-4156-9acf-68bc2783f894 2019-10-07  \n",
       "2  cf7eda61-9349-469f-ac27-e5b6f5ec475c 2019-10-07  \n",
       "3  020292ab-89bc-4156-9acf-68bc2783f894 2019-10-07  \n",
       "4  cf7eda61-9349-469f-ac27-e5b6f5ec475c 2019-10-07  "
      ]
     },
     "metadata": {},
     "output_type": "display_data"
    }
   ],
   "source": [
    "#изменение формата столбца на datetime\n",
    "mobile_dataset['event_time'] = pd.to_datetime(mobile_dataset['event_time']) \n",
    "\n",
    "#создадим отдельно столбец с датой\n",
    "mobile_dataset['dt'] = mobile_dataset['event_time'].dt.date\n",
    "mobile_dataset['dt'] = pd.to_datetime(mobile_dataset['dt'])\n",
    "\n",
    "\n",
    "mobile_dataset.info()\n",
    "display(mobile_dataset.head())"
   ]
  },
  {
   "cell_type": "markdown",
   "metadata": {},
   "source": [
    "**Вывод**: В таблицах исправлены наименования столбцов, формат столбца с датой, объединены события, которые обозначают одни действия. В таблицах нет дубликатов и пропущенных значений. Данные готовы к дальнейшему исследованию."
   ]
  },
  {
   "cell_type": "markdown",
   "metadata": {},
   "source": [
    "## Проведение исследовательского анализа данных"
   ]
  },
  {
   "cell_type": "code",
   "execution_count": 12,
   "metadata": {},
   "outputs": [
    {
     "name": "stdout",
     "output_type": "stream",
     "text": [
      "Минимальная дата в датасете 2019-10-07 00:00:00.431357\n",
      "Максимальная дата в датасете 2019-11-03 23:58:12.532487\n"
     ]
    }
   ],
   "source": [
    "#найдем минимальную и максимальную даты gанных\n",
    "date_min = mobile_dataset['event_time'].min()\n",
    "date_max = mobile_dataset['event_time'].max()\n",
    "print('Минимальная дата в датасете', date_min)\n",
    "print('Максимальная дата в датасете', date_max)"
   ]
  },
  {
   "cell_type": "markdown",
   "metadata": {},
   "source": [
    "Посмотрим разпределение количества уникальных пользователей по дням"
   ]
  },
  {
   "cell_type": "code",
   "execution_count": 13,
   "metadata": {},
   "outputs": [
    {
     "data": {
      "text/plain": [
       "Text(0, 0.5, 'Количество уникальных пользователей')"
      ]
     },
     "execution_count": 13,
     "metadata": {},
     "output_type": "execute_result"
    },
    {
     "data": {
      "image/png": "[encoded data removed]",
      "text/plain": [
       "<Figure size 432x288 with 1 Axes>"
      ]
     },
     "metadata": {
      "needs_background": "light"
     },
     "output_type": "display_data"
    }
   ],
   "source": [
    "#количество уникальных пользователей по дням\n",
    "count_user = mobile_dataset.groupby('dt')['user_id'].nunique().reset_index()\n",
    "count_user.plot(x='dt', y='user_id')\n",
    "plt.title('Распределение количества уникальных пользователей по дням')\n",
    "plt.xlabel('Дата')\n",
    "plt.ylabel('Количество уникальных пользователей')"
   ]
  },
  {
   "cell_type": "markdown",
   "metadata": {},
   "source": [
    "Во второй половине месяца количество уникальных пользователей начинает расти, после чего закрепляется примерно в одном диапазоне. Распределение пользователей по дня не равномерное. Посмотрим зависит ли это от дня недели."
   ]
  },
  {
   "cell_type": "code",
   "execution_count": 14,
   "metadata": {},
   "outputs": [
    {
     "data": {
      "text/plain": [
       "Text(0, 0.5, 'Количество уникальных пользователей')"
      ]
     },
     "execution_count": 14,
     "metadata": {},
     "output_type": "execute_result"
    },
    {
     "data": {
      "image/png": "[encoded data removed]",
      "text/plain": [
       "<Figure size 432x288 with 1 Axes>"
      ]
     },
     "metadata": {
      "needs_background": "light"
     },
     "output_type": "display_data"
    }
   ],
   "source": [
    "#количество уникальных пользователей по дням недели\n",
    "day = mobile_dataset.copy()\n",
    "day['day'] = day['dt'].dt.weekday\n",
    "day.groupby('day')['user_id'].nunique().reset_index().plot(x='day', y='user_id')\n",
    "plt.title('Распределение количества уникальных пользователей по дням недели')\n",
    "plt.xlabel('День недели')\n",
    "plt.ylabel('Количество уникальных пользователей')"
   ]
  },
  {
   "cell_type": "markdown",
   "metadata": {},
   "source": [
    "Пользователи чаще заходят в приложение в будние дни. На субботу приходится минимальное количество уникальных пользователей."
   ]
  },
  {
   "cell_type": "code",
   "execution_count": 15,
   "metadata": {},
   "outputs": [
    {
     "data": {
      "image/png": "[encoded data removed]",
      "text/plain": [
       "<Figure size 432x288 with 1 Axes>"
      ]
     },
     "metadata": {},
     "output_type": "display_data"
    }
   ],
   "source": [
    "#посмотрим распределение пользователей по каналам\n",
    "user_source = mobile_sourсes.groupby('source')['user_id'].count().reset_index()\n",
    "fig1, ax1 = plt.subplots()\n",
    "ax1.pie(user_source['user_id'], labels=user_source['source'], autopct='%1.2f%%')\n",
    "plt.show()"
   ]
  },
  {
   "cell_type": "code",
   "execution_count": 16,
   "metadata": {},
   "outputs": [
    {
     "name": "stdout",
     "output_type": "stream",
     "text": [
      "count    4293.000000\n",
      "mean       17.283252\n",
      "std        29.130677\n",
      "min         1.000000\n",
      "25%         5.000000\n",
      "50%         9.000000\n",
      "75%        17.000000\n",
      "max       478.000000\n",
      "Name: event_name, dtype: float64\n"
     ]
    },
    {
     "data": {
      "text/html": [
       "<div>\n",
       "<style scoped>\n",
       "    .dataframe tbody tr th:only-of-type {\n",
       "        vertical-align: middle;\n",
       "    }\n",
       "\n",
       "    .dataframe tbody tr th {\n",
       "        vertical-align: top;\n",
       "    }\n",
       "\n",
       "    .dataframe thead th {\n",
       "        text-align: right;\n",
       "    }\n",
       "</style>\n",
       "<table border=\"1\" class=\"dataframe\">\n",
       "  <thead>\n",
       "    <tr style=\"text-align: right;\">\n",
       "      <th></th>\n",
       "      <th>user_id</th>\n",
       "      <th>event_name</th>\n",
       "    </tr>\n",
       "  </thead>\n",
       "  <tbody>\n",
       "    <tr>\n",
       "      <th>0</th>\n",
       "      <td>0001b1d5-b74a-4cbf-aeb0-7df5947bf349</td>\n",
       "      <td>35</td>\n",
       "    </tr>\n",
       "    <tr>\n",
       "      <th>1</th>\n",
       "      <td>00157779-810c-4498-9e05-a1e9e3cedf93</td>\n",
       "      <td>71</td>\n",
       "    </tr>\n",
       "    <tr>\n",
       "      <th>2</th>\n",
       "      <td>00463033-5717-4bf1-91b4-09183923b9df</td>\n",
       "      <td>10</td>\n",
       "    </tr>\n",
       "    <tr>\n",
       "      <th>3</th>\n",
       "      <td>004690c3-5a84-4bb7-a8af-e0c8f8fca64e</td>\n",
       "      <td>32</td>\n",
       "    </tr>\n",
       "    <tr>\n",
       "      <th>4</th>\n",
       "      <td>00551e79-152e-4441-9cf7-565d7eb04090</td>\n",
       "      <td>8</td>\n",
       "    </tr>\n",
       "    <tr>\n",
       "      <th>...</th>\n",
       "      <td>...</td>\n",
       "      <td>...</td>\n",
       "    </tr>\n",
       "    <tr>\n",
       "      <th>4288</th>\n",
       "      <td>ffab8d8a-30bb-424a-a3ab-0b63ebbf7b07</td>\n",
       "      <td>17</td>\n",
       "    </tr>\n",
       "    <tr>\n",
       "      <th>4289</th>\n",
       "      <td>ffc01466-fdb1-4460-ae94-e800f52eb136</td>\n",
       "      <td>7</td>\n",
       "    </tr>\n",
       "    <tr>\n",
       "      <th>4290</th>\n",
       "      <td>ffcf50d9-293c-4254-8243-4890b030b238</td>\n",
       "      <td>2</td>\n",
       "    </tr>\n",
       "    <tr>\n",
       "      <th>4291</th>\n",
       "      <td>ffe68f10-e48e-470e-be9b-eeb93128ff1a</td>\n",
       "      <td>13</td>\n",
       "    </tr>\n",
       "    <tr>\n",
       "      <th>4292</th>\n",
       "      <td>fffb9e79-b927-4dbb-9b48-7fd09b23a62b</td>\n",
       "      <td>303</td>\n",
       "    </tr>\n",
       "  </tbody>\n",
       "</table>\n",
       "<p>4293 rows × 2 columns</p>\n",
       "</div>"
      ],
      "text/plain": [
       "                                   user_id  event_name\n",
       "0     0001b1d5-b74a-4cbf-aeb0-7df5947bf349          35\n",
       "1     00157779-810c-4498-9e05-a1e9e3cedf93          71\n",
       "2     00463033-5717-4bf1-91b4-09183923b9df          10\n",
       "3     004690c3-5a84-4bb7-a8af-e0c8f8fca64e          32\n",
       "4     00551e79-152e-4441-9cf7-565d7eb04090           8\n",
       "...                                    ...         ...\n",
       "4288  ffab8d8a-30bb-424a-a3ab-0b63ebbf7b07          17\n",
       "4289  ffc01466-fdb1-4460-ae94-e800f52eb136           7\n",
       "4290  ffcf50d9-293c-4254-8243-4890b030b238           2\n",
       "4291  ffe68f10-e48e-470e-be9b-eeb93128ff1a          13\n",
       "4292  fffb9e79-b927-4dbb-9b48-7fd09b23a62b         303\n",
       "\n",
       "[4293 rows x 2 columns]"
      ]
     },
     "metadata": {},
     "output_type": "display_data"
    }
   ],
   "source": [
    "#проведем статистическую проверку количества событий на пользователя методом describe\n",
    "mobile_dataset_count = mobile_dataset.groupby('user_id').agg({'event_name': 'count'}).reset_index()\n",
    "print(mobile_dataset_count['event_name'].describe())\n",
    "\n",
    "display(mobile_dataset_count)"
   ]
  },
  {
   "cell_type": "markdown",
   "metadata": {},
   "source": [
    "Среднее количество событий, приходящееся на пользователя - 17, при этом отклонение составляет 29, что говорит о наличии выбросов. Это подтверждает процентное распределение количества событий: min - 1 событие, max - 478 событий, медиана составляет 9 событий. Посмотрим распределение событий по полтзователям."
   ]
  },
  {
   "cell_type": "code",
   "execution_count": 17,
   "metadata": {},
   "outputs": [
    {
     "data": {
      "image/png": "[encoded data removed]",
      "text/plain": [
       "<Figure size 936x576 with 1 Axes>"
      ]
     },
     "metadata": {
      "needs_background": "light"
     },
     "output_type": "display_data"
    }
   ],
   "source": [
    "#построим график распредления количества событий по пользователям\n",
    "mobile_dataset_count.reset_index().plot(x='index', y = 'event_name', kind='scatter', figsize=(13,8))\n",
    "plt.title('Распределение количества событий по пользователям')\n",
    "plt.xlabel('Пользователи')\n",
    "plt.ylabel('Количество событий')\n",
    "plt.show()"
   ]
  },
  {
   "cell_type": "markdown",
   "metadata": {},
   "source": [
    "На графике видны выбросы. Построим график с их отсечением."
   ]
  },
  {
   "cell_type": "code",
   "execution_count": 18,
   "metadata": {},
   "outputs": [
    {
     "data": {
      "image/png": "[encoded data removed]",
      "text/plain": [
       "<Figure size 936x576 with 1 Axes>"
      ]
     },
     "metadata": {
      "needs_background": "light"
     },
     "output_type": "display_data"
    }
   ],
   "source": [
    "#построим график распредления количества событий по пользователям с изменение масштаба по оси y\n",
    "mobile_dataset_count.reset_index().plot(x='index', y = 'event_name', kind='scatter', figsize=(13,8))\n",
    "plt.title('Распределение количества событий по пользователям')\n",
    "plt.xlabel('Пользователи')\n",
    "plt.ylabel('Количество событий')\n",
    "plt.ylim(0, 50)\n",
    "plt.show()"
   ]
  },
  {
   "cell_type": "markdown",
   "metadata": {},
   "source": [
    "Из графиков видно, что наибольшее количество пользователей совершают не более 15 действий за исследуемый нами период.\n",
    "Посмотрим количество сессий, приходящееся на каждого пользователя. Возьмем за сессию события, между которыми не больше 20 мин."
   ]
  },
  {
   "cell_type": "code",
   "execution_count": 19,
   "metadata": {},
   "outputs": [
    {
     "data": {
      "text/html": [
       "<div>\n",
       "<style scoped>\n",
       "    .dataframe tbody tr th:only-of-type {\n",
       "        vertical-align: middle;\n",
       "    }\n",
       "\n",
       "    .dataframe tbody tr th {\n",
       "        vertical-align: top;\n",
       "    }\n",
       "\n",
       "    .dataframe thead th {\n",
       "        text-align: right;\n",
       "    }\n",
       "</style>\n",
       "<table border=\"1\" class=\"dataframe\">\n",
       "  <thead>\n",
       "    <tr style=\"text-align: right;\">\n",
       "      <th></th>\n",
       "      <th>event_time</th>\n",
       "      <th>event_name</th>\n",
       "      <th>user_id</th>\n",
       "      <th>dt</th>\n",
       "      <th>session_id</th>\n",
       "    </tr>\n",
       "  </thead>\n",
       "  <tbody>\n",
       "    <tr>\n",
       "      <th>0</th>\n",
       "      <td>2019-10-07 00:00:00.431357</td>\n",
       "      <td>advert_open</td>\n",
       "      <td>020292ab-89bc-4156-9acf-68bc2783f894</td>\n",
       "      <td>2019-10-07</td>\n",
       "      <td>1</td>\n",
       "    </tr>\n",
       "    <tr>\n",
       "      <th>1</th>\n",
       "      <td>2019-10-07 00:00:01.236320</td>\n",
       "      <td>tips_show</td>\n",
       "      <td>020292ab-89bc-4156-9acf-68bc2783f894</td>\n",
       "      <td>2019-10-07</td>\n",
       "      <td>1</td>\n",
       "    </tr>\n",
       "    <tr>\n",
       "      <th>2</th>\n",
       "      <td>2019-10-07 00:00:02.245341</td>\n",
       "      <td>tips_show</td>\n",
       "      <td>cf7eda61-9349-469f-ac27-e5b6f5ec475c</td>\n",
       "      <td>2019-10-07</td>\n",
       "      <td>2</td>\n",
       "    </tr>\n",
       "    <tr>\n",
       "      <th>3</th>\n",
       "      <td>2019-10-07 00:00:07.039334</td>\n",
       "      <td>tips_show</td>\n",
       "      <td>020292ab-89bc-4156-9acf-68bc2783f894</td>\n",
       "      <td>2019-10-07</td>\n",
       "      <td>1</td>\n",
       "    </tr>\n",
       "    <tr>\n",
       "      <th>4</th>\n",
       "      <td>2019-10-07 00:00:56.319813</td>\n",
       "      <td>advert_open</td>\n",
       "      <td>cf7eda61-9349-469f-ac27-e5b6f5ec475c</td>\n",
       "      <td>2019-10-07</td>\n",
       "      <td>2</td>\n",
       "    </tr>\n",
       "    <tr>\n",
       "      <th>...</th>\n",
       "      <td>...</td>\n",
       "      <td>...</td>\n",
       "      <td>...</td>\n",
       "      <td>...</td>\n",
       "      <td>...</td>\n",
       "    </tr>\n",
       "    <tr>\n",
       "      <th>74192</th>\n",
       "      <td>2019-11-03 23:53:29.534986</td>\n",
       "      <td>tips_show</td>\n",
       "      <td>28fccdf4-7b9e-42f5-bc73-439a265f20e9</td>\n",
       "      <td>2019-11-03</td>\n",
       "      <td>10958</td>\n",
       "    </tr>\n",
       "    <tr>\n",
       "      <th>74193</th>\n",
       "      <td>2019-11-03 23:54:00.407086</td>\n",
       "      <td>tips_show</td>\n",
       "      <td>28fccdf4-7b9e-42f5-bc73-439a265f20e9</td>\n",
       "      <td>2019-11-03</td>\n",
       "      <td>10958</td>\n",
       "    </tr>\n",
       "    <tr>\n",
       "      <th>74194</th>\n",
       "      <td>2019-11-03 23:56:57.041825</td>\n",
       "      <td>search</td>\n",
       "      <td>20850c8f-4135-4059-b13b-198d3ac59902</td>\n",
       "      <td>2019-11-03</td>\n",
       "      <td>10975</td>\n",
       "    </tr>\n",
       "    <tr>\n",
       "      <th>74195</th>\n",
       "      <td>2019-11-03 23:57:06.232189</td>\n",
       "      <td>tips_show</td>\n",
       "      <td>28fccdf4-7b9e-42f5-bc73-439a265f20e9</td>\n",
       "      <td>2019-11-03</td>\n",
       "      <td>10958</td>\n",
       "    </tr>\n",
       "    <tr>\n",
       "      <th>74196</th>\n",
       "      <td>2019-11-03 23:58:12.532487</td>\n",
       "      <td>tips_show</td>\n",
       "      <td>28fccdf4-7b9e-42f5-bc73-439a265f20e9</td>\n",
       "      <td>2019-11-03</td>\n",
       "      <td>10958</td>\n",
       "    </tr>\n",
       "  </tbody>\n",
       "</table>\n",
       "<p>74197 rows × 5 columns</p>\n",
       "</div>"
      ],
      "text/plain": [
       "                      event_time   event_name  \\\n",
       "0     2019-10-07 00:00:00.431357  advert_open   \n",
       "1     2019-10-07 00:00:01.236320    tips_show   \n",
       "2     2019-10-07 00:00:02.245341    tips_show   \n",
       "3     2019-10-07 00:00:07.039334    tips_show   \n",
       "4     2019-10-07 00:00:56.319813  advert_open   \n",
       "...                          ...          ...   \n",
       "74192 2019-11-03 23:53:29.534986    tips_show   \n",
       "74193 2019-11-03 23:54:00.407086    tips_show   \n",
       "74194 2019-11-03 23:56:57.041825       search   \n",
       "74195 2019-11-03 23:57:06.232189    tips_show   \n",
       "74196 2019-11-03 23:58:12.532487    tips_show   \n",
       "\n",
       "                                    user_id         dt  session_id  \n",
       "0      020292ab-89bc-4156-9acf-68bc2783f894 2019-10-07           1  \n",
       "1      020292ab-89bc-4156-9acf-68bc2783f894 2019-10-07           1  \n",
       "2      cf7eda61-9349-469f-ac27-e5b6f5ec475c 2019-10-07           2  \n",
       "3      020292ab-89bc-4156-9acf-68bc2783f894 2019-10-07           1  \n",
       "4      cf7eda61-9349-469f-ac27-e5b6f5ec475c 2019-10-07           2  \n",
       "...                                     ...        ...         ...  \n",
       "74192  28fccdf4-7b9e-42f5-bc73-439a265f20e9 2019-11-03       10958  \n",
       "74193  28fccdf4-7b9e-42f5-bc73-439a265f20e9 2019-11-03       10958  \n",
       "74194  20850c8f-4135-4059-b13b-198d3ac59902 2019-11-03       10975  \n",
       "74195  28fccdf4-7b9e-42f5-bc73-439a265f20e9 2019-11-03       10958  \n",
       "74196  28fccdf4-7b9e-42f5-bc73-439a265f20e9 2019-11-03       10958  \n",
       "\n",
       "[74197 rows x 5 columns]"
      ]
     },
     "metadata": {},
     "output_type": "display_data"
    }
   ],
   "source": [
    "#определить разницу 20 минут для каждой группы с кумулятивной суммой\n",
    "mobile_dataset_copy = mobile_dataset.copy()\n",
    "g = (mobile_dataset_copy.sort_values(['user_id', 'event_time']).groupby('user_id')['event_time'].diff() > pd.Timedelta('20Min')).cumsum()\n",
    "#сздадим счетчик групп\n",
    "mobile_dataset_copy['session_id'] = mobile_dataset_copy.groupby(['user_id', g], sort=False).ngroup() + 1\n",
    "display(mobile_dataset_copy)"
   ]
  },
  {
   "cell_type": "markdown",
   "metadata": {},
   "source": [
    "Посмотрим количество сессий для каждого пользователя."
   ]
  },
  {
   "cell_type": "code",
   "execution_count": 20,
   "metadata": {},
   "outputs": [
    {
     "data": {
      "text/html": [
       "<div>\n",
       "<style scoped>\n",
       "    .dataframe tbody tr th:only-of-type {\n",
       "        vertical-align: middle;\n",
       "    }\n",
       "\n",
       "    .dataframe tbody tr th {\n",
       "        vertical-align: top;\n",
       "    }\n",
       "\n",
       "    .dataframe thead th {\n",
       "        text-align: right;\n",
       "    }\n",
       "</style>\n",
       "<table border=\"1\" class=\"dataframe\">\n",
       "  <thead>\n",
       "    <tr style=\"text-align: right;\">\n",
       "      <th></th>\n",
       "      <th>user_id</th>\n",
       "      <th>session_id</th>\n",
       "    </tr>\n",
       "  </thead>\n",
       "  <tbody>\n",
       "    <tr>\n",
       "      <th>0</th>\n",
       "      <td>0001b1d5-b74a-4cbf-aeb0-7df5947bf349</td>\n",
       "      <td>4</td>\n",
       "    </tr>\n",
       "    <tr>\n",
       "      <th>1</th>\n",
       "      <td>00157779-810c-4498-9e05-a1e9e3cedf93</td>\n",
       "      <td>8</td>\n",
       "    </tr>\n",
       "    <tr>\n",
       "      <th>2</th>\n",
       "      <td>00463033-5717-4bf1-91b4-09183923b9df</td>\n",
       "      <td>1</td>\n",
       "    </tr>\n",
       "    <tr>\n",
       "      <th>3</th>\n",
       "      <td>004690c3-5a84-4bb7-a8af-e0c8f8fca64e</td>\n",
       "      <td>8</td>\n",
       "    </tr>\n",
       "    <tr>\n",
       "      <th>4</th>\n",
       "      <td>00551e79-152e-4441-9cf7-565d7eb04090</td>\n",
       "      <td>3</td>\n",
       "    </tr>\n",
       "    <tr>\n",
       "      <th>...</th>\n",
       "      <td>...</td>\n",
       "      <td>...</td>\n",
       "    </tr>\n",
       "    <tr>\n",
       "      <th>4288</th>\n",
       "      <td>ffab8d8a-30bb-424a-a3ab-0b63ebbf7b07</td>\n",
       "      <td>2</td>\n",
       "    </tr>\n",
       "    <tr>\n",
       "      <th>4289</th>\n",
       "      <td>ffc01466-fdb1-4460-ae94-e800f52eb136</td>\n",
       "      <td>1</td>\n",
       "    </tr>\n",
       "    <tr>\n",
       "      <th>4290</th>\n",
       "      <td>ffcf50d9-293c-4254-8243-4890b030b238</td>\n",
       "      <td>1</td>\n",
       "    </tr>\n",
       "    <tr>\n",
       "      <th>4291</th>\n",
       "      <td>ffe68f10-e48e-470e-be9b-eeb93128ff1a</td>\n",
       "      <td>3</td>\n",
       "    </tr>\n",
       "    <tr>\n",
       "      <th>4292</th>\n",
       "      <td>fffb9e79-b927-4dbb-9b48-7fd09b23a62b</td>\n",
       "      <td>32</td>\n",
       "    </tr>\n",
       "  </tbody>\n",
       "</table>\n",
       "<p>4293 rows × 2 columns</p>\n",
       "</div>"
      ],
      "text/plain": [
       "                                   user_id  session_id\n",
       "0     0001b1d5-b74a-4cbf-aeb0-7df5947bf349           4\n",
       "1     00157779-810c-4498-9e05-a1e9e3cedf93           8\n",
       "2     00463033-5717-4bf1-91b4-09183923b9df           1\n",
       "3     004690c3-5a84-4bb7-a8af-e0c8f8fca64e           8\n",
       "4     00551e79-152e-4441-9cf7-565d7eb04090           3\n",
       "...                                    ...         ...\n",
       "4288  ffab8d8a-30bb-424a-a3ab-0b63ebbf7b07           2\n",
       "4289  ffc01466-fdb1-4460-ae94-e800f52eb136           1\n",
       "4290  ffcf50d9-293c-4254-8243-4890b030b238           1\n",
       "4291  ffe68f10-e48e-470e-be9b-eeb93128ff1a           3\n",
       "4292  fffb9e79-b927-4dbb-9b48-7fd09b23a62b          32\n",
       "\n",
       "[4293 rows x 2 columns]"
      ]
     },
     "execution_count": 20,
     "metadata": {},
     "output_type": "execute_result"
    }
   ],
   "source": [
    "#количество сессий пользователя\n",
    "count_session = mobile_dataset_copy.groupby('user_id')['session_id'].nunique().reset_index()\n",
    "count_session"
   ]
  },
  {
   "cell_type": "code",
   "execution_count": 21,
   "metadata": {},
   "outputs": [
    {
     "data": {
      "text/html": [
       "<div>\n",
       "<style scoped>\n",
       "    .dataframe tbody tr th:only-of-type {\n",
       "        vertical-align: middle;\n",
       "    }\n",
       "\n",
       "    .dataframe tbody tr th {\n",
       "        vertical-align: top;\n",
       "    }\n",
       "\n",
       "    .dataframe thead th {\n",
       "        text-align: right;\n",
       "    }\n",
       "</style>\n",
       "<table border=\"1\" class=\"dataframe\">\n",
       "  <thead>\n",
       "    <tr style=\"text-align: right;\">\n",
       "      <th></th>\n",
       "      <th>session_id</th>\n",
       "    </tr>\n",
       "  </thead>\n",
       "  <tbody>\n",
       "    <tr>\n",
       "      <th>count</th>\n",
       "      <td>4293.000000</td>\n",
       "    </tr>\n",
       "    <tr>\n",
       "      <th>mean</th>\n",
       "      <td>2.556487</td>\n",
       "    </tr>\n",
       "    <tr>\n",
       "      <th>std</th>\n",
       "      <td>3.885942</td>\n",
       "    </tr>\n",
       "    <tr>\n",
       "      <th>min</th>\n",
       "      <td>1.000000</td>\n",
       "    </tr>\n",
       "    <tr>\n",
       "      <th>25%</th>\n",
       "      <td>1.000000</td>\n",
       "    </tr>\n",
       "    <tr>\n",
       "      <th>50%</th>\n",
       "      <td>1.000000</td>\n",
       "    </tr>\n",
       "    <tr>\n",
       "      <th>75%</th>\n",
       "      <td>3.000000</td>\n",
       "    </tr>\n",
       "    <tr>\n",
       "      <th>max</th>\n",
       "      <td>111.000000</td>\n",
       "    </tr>\n",
       "  </tbody>\n",
       "</table>\n",
       "</div>"
      ],
      "text/plain": [
       "        session_id\n",
       "count  4293.000000\n",
       "mean      2.556487\n",
       "std       3.885942\n",
       "min       1.000000\n",
       "25%       1.000000\n",
       "50%       1.000000\n",
       "75%       3.000000\n",
       "max     111.000000"
      ]
     },
     "execution_count": 21,
     "metadata": {},
     "output_type": "execute_result"
    }
   ],
   "source": [
    "#проведем статистическую проверку количества сессий на пользователя методом describe\n",
    "count_session.describe()"
   ]
  },
  {
   "cell_type": "markdown",
   "metadata": {},
   "source": [
    "Как и в количестве событий в количестве сессий мы наблюдаем выбросы. Медианное значение количества сессий на пользователя в исследуемых данных - 1. Это очень низкий показатель, 50 % пользователей заходили в приложение всего один раз.\n",
    "Посмотрим распределение на графике."
   ]
  },
  {
   "cell_type": "code",
   "execution_count": 22,
   "metadata": {},
   "outputs": [
    {
     "data": {
      "image/png": "[encoded data removed]",
      "text/plain": [
       "<Figure size 936x576 with 1 Axes>"
      ]
     },
     "metadata": {
      "needs_background": "light"
     },
     "output_type": "display_data"
    }
   ],
   "source": [
    "#строим график распределения количества сессий по пользователям\n",
    "count_session.reset_index().plot(x='index', y = 'session_id', kind='scatter', figsize=(13,8))\n",
    "plt.title('Распределение количества сессий по пользователям')\n",
    "plt.xlabel('Пользователи')\n",
    "plt.ylabel('Количество сессий')\n",
    "plt.show()"
   ]
  },
  {
   "cell_type": "markdown",
   "metadata": {},
   "source": [
    "На графике видны выбросы. Построим график с их отсечением."
   ]
  },
  {
   "cell_type": "code",
   "execution_count": 23,
   "metadata": {},
   "outputs": [
    {
     "data": {
      "image/png": "[encoded data removed]",
      "text/plain": [
       "<Figure size 936x576 with 1 Axes>"
      ]
     },
     "metadata": {
      "needs_background": "light"
     },
     "output_type": "display_data"
    }
   ],
   "source": [
    "#строим график распределения количества сессий по пользователям с изменением масштаба оси y\n",
    "count_session.reset_index().plot(x='index', y = 'session_id', kind='scatter', figsize=(13,8))\n",
    "plt.title('Распределение количества сессий по пользователям')\n",
    "plt.xlabel('Пользователи')\n",
    "plt.ylabel('Количество сессий')\n",
    "plt.ylim(0, 30)\n",
    "plt.show()"
   ]
  },
  {
   "cell_type": "markdown",
   "metadata": {},
   "source": [
    "У большинства пользователей не более 3 сессий за исследуемый период."
   ]
  },
  {
   "cell_type": "code",
   "execution_count": 24,
   "metadata": {},
   "outputs": [
    {
     "data": {
      "image/png": "[encoded data removed]",
      "text/plain": [
       "<Figure size 576x576 with 1 Axes>"
      ]
     },
     "metadata": {
      "needs_background": "light"
     },
     "output_type": "display_data"
    }
   ],
   "source": [
    "warnings.filterwarnings(\"ignore\")\n",
    "#построим гистограмму\n",
    "plt.figure(figsize=(8, 8))\n",
    "sns.distplot(count_session['session_id'])\n",
    "plt.title('Частота сессий')\n",
    "plt.xlabel('Количество сессий')\n",
    "plt.ylabel('Частота')\n",
    "plt.show()"
   ]
  },
  {
   "cell_type": "code",
   "execution_count": 25,
   "metadata": {},
   "outputs": [
    {
     "data": {
      "image/png": "[encoded data removed]",
      "text/plain": [
       "<Figure size 360x360 with 1 Axes>"
      ]
     },
     "metadata": {
      "needs_background": "light"
     },
     "output_type": "display_data"
    }
   ],
   "source": [
    "#построим гистограмму c измененным масштабом по оси х\n",
    "plt.figure(figsize=(5, 5))\n",
    "sns.distplot(count_session['session_id'])\n",
    "plt.title('Частота сессий')\n",
    "plt.xlabel('Количество сессий')\n",
    "plt.ylabel('Частота')\n",
    "plt.xlim(0, 20)\n",
    "plt.show()"
   ]
  },
  {
   "cell_type": "markdown",
   "metadata": {},
   "source": [
    "Так как исследуемый период составляет примерно месяц, полученное в ходе исследования количество сессий соответствует предполагаемому. Если пользователь быстро находит необходимое, нет причин часто пользоваться приложением. Проверим теорию по удовлетворению потребностей пользователя далее."
   ]
  },
  {
   "cell_type": "markdown",
   "metadata": {},
   "source": [
    "Посмотрим среднее количество действий пользователя за сессию, примем, что это стандартное поведение пользователя."
   ]
  },
  {
   "cell_type": "code",
   "execution_count": 26,
   "metadata": {},
   "outputs": [
    {
     "data": {
      "text/html": [
       "<div>\n",
       "<style scoped>\n",
       "    .dataframe tbody tr th:only-of-type {\n",
       "        vertical-align: middle;\n",
       "    }\n",
       "\n",
       "    .dataframe tbody tr th {\n",
       "        vertical-align: top;\n",
       "    }\n",
       "\n",
       "    .dataframe thead th {\n",
       "        text-align: right;\n",
       "    }\n",
       "</style>\n",
       "<table border=\"1\" class=\"dataframe\">\n",
       "  <thead>\n",
       "    <tr style=\"text-align: right;\">\n",
       "      <th></th>\n",
       "      <th>user_id</th>\n",
       "      <th>session_id</th>\n",
       "      <th>event_name</th>\n",
       "    </tr>\n",
       "  </thead>\n",
       "  <tbody>\n",
       "    <tr>\n",
       "      <th>0</th>\n",
       "      <td>0001b1d5-b74a-4cbf-aeb0-7df5947bf349</td>\n",
       "      <td>86</td>\n",
       "      <td>9</td>\n",
       "    </tr>\n",
       "    <tr>\n",
       "      <th>1</th>\n",
       "      <td>0001b1d5-b74a-4cbf-aeb0-7df5947bf349</td>\n",
       "      <td>769</td>\n",
       "      <td>4</td>\n",
       "    </tr>\n",
       "    <tr>\n",
       "      <th>2</th>\n",
       "      <td>0001b1d5-b74a-4cbf-aeb0-7df5947bf349</td>\n",
       "      <td>5185</td>\n",
       "      <td>14</td>\n",
       "    </tr>\n",
       "    <tr>\n",
       "      <th>3</th>\n",
       "      <td>0001b1d5-b74a-4cbf-aeb0-7df5947bf349</td>\n",
       "      <td>5364</td>\n",
       "      <td>8</td>\n",
       "    </tr>\n",
       "    <tr>\n",
       "      <th>4</th>\n",
       "      <td>00157779-810c-4498-9e05-a1e9e3cedf93</td>\n",
       "      <td>4394</td>\n",
       "      <td>9</td>\n",
       "    </tr>\n",
       "    <tr>\n",
       "      <th>5</th>\n",
       "      <td>00157779-810c-4498-9e05-a1e9e3cedf93</td>\n",
       "      <td>4715</td>\n",
       "      <td>14</td>\n",
       "    </tr>\n",
       "    <tr>\n",
       "      <th>6</th>\n",
       "      <td>00157779-810c-4498-9e05-a1e9e3cedf93</td>\n",
       "      <td>4734</td>\n",
       "      <td>4</td>\n",
       "    </tr>\n",
       "    <tr>\n",
       "      <th>7</th>\n",
       "      <td>00157779-810c-4498-9e05-a1e9e3cedf93</td>\n",
       "      <td>6304</td>\n",
       "      <td>9</td>\n",
       "    </tr>\n",
       "    <tr>\n",
       "      <th>8</th>\n",
       "      <td>00157779-810c-4498-9e05-a1e9e3cedf93</td>\n",
       "      <td>8830</td>\n",
       "      <td>11</td>\n",
       "    </tr>\n",
       "    <tr>\n",
       "      <th>9</th>\n",
       "      <td>00157779-810c-4498-9e05-a1e9e3cedf93</td>\n",
       "      <td>8844</td>\n",
       "      <td>9</td>\n",
       "    </tr>\n",
       "  </tbody>\n",
       "</table>\n",
       "</div>"
      ],
      "text/plain": [
       "                                user_id  session_id  event_name\n",
       "0  0001b1d5-b74a-4cbf-aeb0-7df5947bf349          86           9\n",
       "1  0001b1d5-b74a-4cbf-aeb0-7df5947bf349         769           4\n",
       "2  0001b1d5-b74a-4cbf-aeb0-7df5947bf349        5185          14\n",
       "3  0001b1d5-b74a-4cbf-aeb0-7df5947bf349        5364           8\n",
       "4  00157779-810c-4498-9e05-a1e9e3cedf93        4394           9\n",
       "5  00157779-810c-4498-9e05-a1e9e3cedf93        4715          14\n",
       "6  00157779-810c-4498-9e05-a1e9e3cedf93        4734           4\n",
       "7  00157779-810c-4498-9e05-a1e9e3cedf93        6304           9\n",
       "8  00157779-810c-4498-9e05-a1e9e3cedf93        8830          11\n",
       "9  00157779-810c-4498-9e05-a1e9e3cedf93        8844           9"
      ]
     },
     "metadata": {},
     "output_type": "display_data"
    }
   ],
   "source": [
    "#найдем количество действий для каждой сессии\n",
    "session = mobile_dataset_copy.pivot_table(index=['user_id', 'session_id'], values='event_name', aggfunc='count').reset_index()\n",
    "display(session.head(10))"
   ]
  },
  {
   "cell_type": "code",
   "execution_count": 27,
   "metadata": {},
   "outputs": [
    {
     "data": {
      "text/html": [
       "<div>\n",
       "<style scoped>\n",
       "    .dataframe tbody tr th:only-of-type {\n",
       "        vertical-align: middle;\n",
       "    }\n",
       "\n",
       "    .dataframe tbody tr th {\n",
       "        vertical-align: top;\n",
       "    }\n",
       "\n",
       "    .dataframe thead th {\n",
       "        text-align: right;\n",
       "    }\n",
       "</style>\n",
       "<table border=\"1\" class=\"dataframe\">\n",
       "  <thead>\n",
       "    <tr style=\"text-align: right;\">\n",
       "      <th></th>\n",
       "      <th>user_id</th>\n",
       "      <th>mean</th>\n",
       "    </tr>\n",
       "  </thead>\n",
       "  <tbody>\n",
       "    <tr>\n",
       "      <th>0</th>\n",
       "      <td>0001b1d5-b74a-4cbf-aeb0-7df5947bf349</td>\n",
       "      <td>9.0</td>\n",
       "    </tr>\n",
       "    <tr>\n",
       "      <th>1</th>\n",
       "      <td>00157779-810c-4498-9e05-a1e9e3cedf93</td>\n",
       "      <td>9.0</td>\n",
       "    </tr>\n",
       "    <tr>\n",
       "      <th>2</th>\n",
       "      <td>00463033-5717-4bf1-91b4-09183923b9df</td>\n",
       "      <td>10.0</td>\n",
       "    </tr>\n",
       "    <tr>\n",
       "      <th>3</th>\n",
       "      <td>004690c3-5a84-4bb7-a8af-e0c8f8fca64e</td>\n",
       "      <td>4.0</td>\n",
       "    </tr>\n",
       "    <tr>\n",
       "      <th>4</th>\n",
       "      <td>00551e79-152e-4441-9cf7-565d7eb04090</td>\n",
       "      <td>3.0</td>\n",
       "    </tr>\n",
       "    <tr>\n",
       "      <th>...</th>\n",
       "      <td>...</td>\n",
       "      <td>...</td>\n",
       "    </tr>\n",
       "    <tr>\n",
       "      <th>4288</th>\n",
       "      <td>ffab8d8a-30bb-424a-a3ab-0b63ebbf7b07</td>\n",
       "      <td>8.0</td>\n",
       "    </tr>\n",
       "    <tr>\n",
       "      <th>4289</th>\n",
       "      <td>ffc01466-fdb1-4460-ae94-e800f52eb136</td>\n",
       "      <td>7.0</td>\n",
       "    </tr>\n",
       "    <tr>\n",
       "      <th>4290</th>\n",
       "      <td>ffcf50d9-293c-4254-8243-4890b030b238</td>\n",
       "      <td>2.0</td>\n",
       "    </tr>\n",
       "    <tr>\n",
       "      <th>4291</th>\n",
       "      <td>ffe68f10-e48e-470e-be9b-eeb93128ff1a</td>\n",
       "      <td>4.0</td>\n",
       "    </tr>\n",
       "    <tr>\n",
       "      <th>4292</th>\n",
       "      <td>fffb9e79-b927-4dbb-9b48-7fd09b23a62b</td>\n",
       "      <td>9.0</td>\n",
       "    </tr>\n",
       "  </tbody>\n",
       "</table>\n",
       "<p>4293 rows × 2 columns</p>\n",
       "</div>"
      ],
      "text/plain": [
       "                                   user_id  mean\n",
       "0     0001b1d5-b74a-4cbf-aeb0-7df5947bf349   9.0\n",
       "1     00157779-810c-4498-9e05-a1e9e3cedf93   9.0\n",
       "2     00463033-5717-4bf1-91b4-09183923b9df  10.0\n",
       "3     004690c3-5a84-4bb7-a8af-e0c8f8fca64e   4.0\n",
       "4     00551e79-152e-4441-9cf7-565d7eb04090   3.0\n",
       "...                                    ...   ...\n",
       "4288  ffab8d8a-30bb-424a-a3ab-0b63ebbf7b07   8.0\n",
       "4289  ffc01466-fdb1-4460-ae94-e800f52eb136   7.0\n",
       "4290  ffcf50d9-293c-4254-8243-4890b030b238   2.0\n",
       "4291  ffe68f10-e48e-470e-be9b-eeb93128ff1a   4.0\n",
       "4292  fffb9e79-b927-4dbb-9b48-7fd09b23a62b   9.0\n",
       "\n",
       "[4293 rows x 2 columns]"
      ]
     },
     "metadata": {},
     "output_type": "display_data"
    }
   ],
   "source": [
    "#найдем максимальное количество действий для каждого пользователя\n",
    "session_count = session.groupby('user_id')['event_name'].mean().round().reset_index()\n",
    "session_count = session_count.rename(columns = {'event_name': 'mean'})\n",
    "display(session_count)"
   ]
  },
  {
   "cell_type": "code",
   "execution_count": 28,
   "metadata": {},
   "outputs": [
    {
     "data": {
      "text/html": [
       "<div>\n",
       "<style scoped>\n",
       "    .dataframe tbody tr th:only-of-type {\n",
       "        vertical-align: middle;\n",
       "    }\n",
       "\n",
       "    .dataframe tbody tr th {\n",
       "        vertical-align: top;\n",
       "    }\n",
       "\n",
       "    .dataframe thead th {\n",
       "        text-align: right;\n",
       "    }\n",
       "</style>\n",
       "<table border=\"1\" class=\"dataframe\">\n",
       "  <thead>\n",
       "    <tr style=\"text-align: right;\">\n",
       "      <th></th>\n",
       "      <th>mean</th>\n",
       "    </tr>\n",
       "  </thead>\n",
       "  <tbody>\n",
       "    <tr>\n",
       "      <th>count</th>\n",
       "      <td>4293.000000</td>\n",
       "    </tr>\n",
       "    <tr>\n",
       "      <th>mean</th>\n",
       "      <td>7.923829</td>\n",
       "    </tr>\n",
       "    <tr>\n",
       "      <th>std</th>\n",
       "      <td>7.997904</td>\n",
       "    </tr>\n",
       "    <tr>\n",
       "      <th>min</th>\n",
       "      <td>1.000000</td>\n",
       "    </tr>\n",
       "    <tr>\n",
       "      <th>25%</th>\n",
       "      <td>4.000000</td>\n",
       "    </tr>\n",
       "    <tr>\n",
       "      <th>50%</th>\n",
       "      <td>6.000000</td>\n",
       "    </tr>\n",
       "    <tr>\n",
       "      <th>75%</th>\n",
       "      <td>9.000000</td>\n",
       "    </tr>\n",
       "    <tr>\n",
       "      <th>max</th>\n",
       "      <td>104.000000</td>\n",
       "    </tr>\n",
       "  </tbody>\n",
       "</table>\n",
       "</div>"
      ],
      "text/plain": [
       "              mean\n",
       "count  4293.000000\n",
       "mean      7.923829\n",
       "std       7.997904\n",
       "min       1.000000\n",
       "25%       4.000000\n",
       "50%       6.000000\n",
       "75%       9.000000\n",
       "max     104.000000"
      ]
     },
     "execution_count": 28,
     "metadata": {},
     "output_type": "execute_result"
    }
   ],
   "source": [
    "session_count.describe()"
   ]
  },
  {
   "cell_type": "code",
   "execution_count": 29,
   "metadata": {},
   "outputs": [
    {
     "data": {
      "image/png": "[encoded data removed]",
      "text/plain": [
       "<Figure size 576x576 with 1 Axes>"
      ]
     },
     "metadata": {
      "needs_background": "light"
     },
     "output_type": "display_data"
    }
   ],
   "source": [
    "#построим гистограмму максимального количества событий в сессию\n",
    "plt.figure(figsize=(8, 8))\n",
    "sns.distplot(session_count['mean'], kde=False, rug = True)\n",
    "plt.title('Частота среднего количества событий')\n",
    "plt.xlabel('Количество событий')\n",
    "plt.ylabel('Частота')\n",
    "plt.show()"
   ]
  },
  {
   "cell_type": "code",
   "execution_count": 30,
   "metadata": {},
   "outputs": [
    {
     "data": {
      "image/png": "[encoded data removed]",
      "text/plain": [
       "<Figure size 360x360 with 1 Axes>"
      ]
     },
     "metadata": {
      "needs_background": "light"
     },
     "output_type": "display_data"
    }
   ],
   "source": [
    "#построим гистограмму максимального количества событий в сессию с изменение масштаба по оси х\n",
    "plt.figure(figsize=(5, 5))\n",
    "sns.distplot(session_count['mean'], kde=False, rug = True)\n",
    "plt.title('Частота среднего количества событий')\n",
    "plt.xlabel('Количество событий')\n",
    "plt.ylabel('Частота')\n",
    "plt.xlim(0, 40)\n",
    "plt.show()"
   ]
  },
  {
   "cell_type": "markdown",
   "metadata": {},
   "source": [
    "Основное количество пользователей совершает не более 15 событий за сессию."
   ]
  },
  {
   "cell_type": "markdown",
   "metadata": {},
   "source": [
    "**Вывод**\n",
    "На основе проведенного исследования разделим пользователей на 3 категории по среднему количеству событий за сессиию в соответствии с квартилями: А - < 4 события  (25% пользователей), В - 4-8 событий (50% пользователей - основная группа), С - > 9 событий (25% пользователей)."
   ]
  },
  {
   "cell_type": "markdown",
   "metadata": {},
   "source": [
    "## Сегменация пользователей на основе проведенного анализа"
   ]
  },
  {
   "cell_type": "code",
   "execution_count": 31,
   "metadata": {},
   "outputs": [
    {
     "data": {
      "text/html": [
       "<div>\n",
       "<style scoped>\n",
       "    .dataframe tbody tr th:only-of-type {\n",
       "        vertical-align: middle;\n",
       "    }\n",
       "\n",
       "    .dataframe tbody tr th {\n",
       "        vertical-align: top;\n",
       "    }\n",
       "\n",
       "    .dataframe thead th {\n",
       "        text-align: right;\n",
       "    }\n",
       "</style>\n",
       "<table border=\"1\" class=\"dataframe\">\n",
       "  <thead>\n",
       "    <tr style=\"text-align: right;\">\n",
       "      <th></th>\n",
       "      <th>user_id</th>\n",
       "      <th>mean</th>\n",
       "      <th>category</th>\n",
       "    </tr>\n",
       "  </thead>\n",
       "  <tbody>\n",
       "    <tr>\n",
       "      <th>0</th>\n",
       "      <td>0001b1d5-b74a-4cbf-aeb0-7df5947bf349</td>\n",
       "      <td>9.0</td>\n",
       "      <td>B</td>\n",
       "    </tr>\n",
       "    <tr>\n",
       "      <th>1</th>\n",
       "      <td>00157779-810c-4498-9e05-a1e9e3cedf93</td>\n",
       "      <td>9.0</td>\n",
       "      <td>B</td>\n",
       "    </tr>\n",
       "    <tr>\n",
       "      <th>2</th>\n",
       "      <td>00463033-5717-4bf1-91b4-09183923b9df</td>\n",
       "      <td>10.0</td>\n",
       "      <td>C</td>\n",
       "    </tr>\n",
       "    <tr>\n",
       "      <th>3</th>\n",
       "      <td>004690c3-5a84-4bb7-a8af-e0c8f8fca64e</td>\n",
       "      <td>4.0</td>\n",
       "      <td>B</td>\n",
       "    </tr>\n",
       "    <tr>\n",
       "      <th>4</th>\n",
       "      <td>00551e79-152e-4441-9cf7-565d7eb04090</td>\n",
       "      <td>3.0</td>\n",
       "      <td>A</td>\n",
       "    </tr>\n",
       "    <tr>\n",
       "      <th>...</th>\n",
       "      <td>...</td>\n",
       "      <td>...</td>\n",
       "      <td>...</td>\n",
       "    </tr>\n",
       "    <tr>\n",
       "      <th>4288</th>\n",
       "      <td>ffab8d8a-30bb-424a-a3ab-0b63ebbf7b07</td>\n",
       "      <td>8.0</td>\n",
       "      <td>B</td>\n",
       "    </tr>\n",
       "    <tr>\n",
       "      <th>4289</th>\n",
       "      <td>ffc01466-fdb1-4460-ae94-e800f52eb136</td>\n",
       "      <td>7.0</td>\n",
       "      <td>B</td>\n",
       "    </tr>\n",
       "    <tr>\n",
       "      <th>4290</th>\n",
       "      <td>ffcf50d9-293c-4254-8243-4890b030b238</td>\n",
       "      <td>2.0</td>\n",
       "      <td>A</td>\n",
       "    </tr>\n",
       "    <tr>\n",
       "      <th>4291</th>\n",
       "      <td>ffe68f10-e48e-470e-be9b-eeb93128ff1a</td>\n",
       "      <td>4.0</td>\n",
       "      <td>B</td>\n",
       "    </tr>\n",
       "    <tr>\n",
       "      <th>4292</th>\n",
       "      <td>fffb9e79-b927-4dbb-9b48-7fd09b23a62b</td>\n",
       "      <td>9.0</td>\n",
       "      <td>B</td>\n",
       "    </tr>\n",
       "  </tbody>\n",
       "</table>\n",
       "<p>4293 rows × 3 columns</p>\n",
       "</div>"
      ],
      "text/plain": [
       "                                   user_id  mean category\n",
       "0     0001b1d5-b74a-4cbf-aeb0-7df5947bf349   9.0        B\n",
       "1     00157779-810c-4498-9e05-a1e9e3cedf93   9.0        B\n",
       "2     00463033-5717-4bf1-91b4-09183923b9df  10.0        C\n",
       "3     004690c3-5a84-4bb7-a8af-e0c8f8fca64e   4.0        B\n",
       "4     00551e79-152e-4441-9cf7-565d7eb04090   3.0        A\n",
       "...                                    ...   ...      ...\n",
       "4288  ffab8d8a-30bb-424a-a3ab-0b63ebbf7b07   8.0        B\n",
       "4289  ffc01466-fdb1-4460-ae94-e800f52eb136   7.0        B\n",
       "4290  ffcf50d9-293c-4254-8243-4890b030b238   2.0        A\n",
       "4291  ffe68f10-e48e-470e-be9b-eeb93128ff1a   4.0        B\n",
       "4292  fffb9e79-b927-4dbb-9b48-7fd09b23a62b   9.0        B\n",
       "\n",
       "[4293 rows x 3 columns]"
      ]
     },
     "metadata": {},
     "output_type": "display_data"
    }
   ],
   "source": [
    "#присвоим пользователям категории\n",
    "def category(mean):\n",
    "    if mean < 4:\n",
    "        return 'A'\n",
    "    if mean <= 9:\n",
    "        return 'B'\n",
    "    return 'C'\n",
    "session_count['category'] = session_count['mean'].apply(category)\n",
    "display(session_count)"
   ]
  },
  {
   "cell_type": "code",
   "execution_count": 32,
   "metadata": {},
   "outputs": [
    {
     "data": {
      "image/png": "[encoded data removed]",
      "text/plain": [
       "<Figure size 432x288 with 1 Axes>"
      ]
     },
     "metadata": {},
     "output_type": "display_data"
    }
   ],
   "source": [
    "#посмотрим распределение по группам в процентах\n",
    "user_count = session_count.groupby('category')['user_id'].count().reset_index()\n",
    "fig1, ax1 = plt.subplots()\n",
    "ax1.pie(user_count['user_id'], labels=user_count['category'], autopct='%1.2f%%')\n",
    "plt.show()"
   ]
  },
  {
   "cell_type": "markdown",
   "metadata": {},
   "source": [
    "Из графика видно, что по количеству пользователей группы распределены корректно. Как мы и рассчитывали."
   ]
  },
  {
   "cell_type": "code",
   "execution_count": 33,
   "metadata": {},
   "outputs": [
    {
     "data": {
      "text/html": [
       "<div>\n",
       "<style scoped>\n",
       "    .dataframe tbody tr th:only-of-type {\n",
       "        vertical-align: middle;\n",
       "    }\n",
       "\n",
       "    .dataframe tbody tr th {\n",
       "        vertical-align: top;\n",
       "    }\n",
       "\n",
       "    .dataframe thead th {\n",
       "        text-align: right;\n",
       "    }\n",
       "</style>\n",
       "<table border=\"1\" class=\"dataframe\">\n",
       "  <thead>\n",
       "    <tr style=\"text-align: right;\">\n",
       "      <th></th>\n",
       "      <th>event_time</th>\n",
       "      <th>event_name</th>\n",
       "      <th>user_id</th>\n",
       "      <th>dt</th>\n",
       "      <th>session_id</th>\n",
       "      <th>category</th>\n",
       "    </tr>\n",
       "  </thead>\n",
       "  <tbody>\n",
       "    <tr>\n",
       "      <th>0</th>\n",
       "      <td>2019-10-07 00:00:00.431357</td>\n",
       "      <td>advert_open</td>\n",
       "      <td>020292ab-89bc-4156-9acf-68bc2783f894</td>\n",
       "      <td>2019-10-07</td>\n",
       "      <td>1</td>\n",
       "      <td>C</td>\n",
       "    </tr>\n",
       "    <tr>\n",
       "      <th>1</th>\n",
       "      <td>2019-10-07 00:00:01.236320</td>\n",
       "      <td>tips_show</td>\n",
       "      <td>020292ab-89bc-4156-9acf-68bc2783f894</td>\n",
       "      <td>2019-10-07</td>\n",
       "      <td>1</td>\n",
       "      <td>C</td>\n",
       "    </tr>\n",
       "    <tr>\n",
       "      <th>2</th>\n",
       "      <td>2019-10-07 00:00:02.245341</td>\n",
       "      <td>tips_show</td>\n",
       "      <td>cf7eda61-9349-469f-ac27-e5b6f5ec475c</td>\n",
       "      <td>2019-10-07</td>\n",
       "      <td>2</td>\n",
       "      <td>C</td>\n",
       "    </tr>\n",
       "    <tr>\n",
       "      <th>3</th>\n",
       "      <td>2019-10-07 00:00:07.039334</td>\n",
       "      <td>tips_show</td>\n",
       "      <td>020292ab-89bc-4156-9acf-68bc2783f894</td>\n",
       "      <td>2019-10-07</td>\n",
       "      <td>1</td>\n",
       "      <td>C</td>\n",
       "    </tr>\n",
       "    <tr>\n",
       "      <th>4</th>\n",
       "      <td>2019-10-07 00:00:56.319813</td>\n",
       "      <td>advert_open</td>\n",
       "      <td>cf7eda61-9349-469f-ac27-e5b6f5ec475c</td>\n",
       "      <td>2019-10-07</td>\n",
       "      <td>2</td>\n",
       "      <td>C</td>\n",
       "    </tr>\n",
       "    <tr>\n",
       "      <th>...</th>\n",
       "      <td>...</td>\n",
       "      <td>...</td>\n",
       "      <td>...</td>\n",
       "      <td>...</td>\n",
       "      <td>...</td>\n",
       "      <td>...</td>\n",
       "    </tr>\n",
       "    <tr>\n",
       "      <th>74192</th>\n",
       "      <td>2019-11-03 23:53:29.534986</td>\n",
       "      <td>tips_show</td>\n",
       "      <td>28fccdf4-7b9e-42f5-bc73-439a265f20e9</td>\n",
       "      <td>2019-11-03</td>\n",
       "      <td>10958</td>\n",
       "      <td>C</td>\n",
       "    </tr>\n",
       "    <tr>\n",
       "      <th>74193</th>\n",
       "      <td>2019-11-03 23:54:00.407086</td>\n",
       "      <td>tips_show</td>\n",
       "      <td>28fccdf4-7b9e-42f5-bc73-439a265f20e9</td>\n",
       "      <td>2019-11-03</td>\n",
       "      <td>10958</td>\n",
       "      <td>C</td>\n",
       "    </tr>\n",
       "    <tr>\n",
       "      <th>74194</th>\n",
       "      <td>2019-11-03 23:56:57.041825</td>\n",
       "      <td>search</td>\n",
       "      <td>20850c8f-4135-4059-b13b-198d3ac59902</td>\n",
       "      <td>2019-11-03</td>\n",
       "      <td>10975</td>\n",
       "      <td>B</td>\n",
       "    </tr>\n",
       "    <tr>\n",
       "      <th>74195</th>\n",
       "      <td>2019-11-03 23:57:06.232189</td>\n",
       "      <td>tips_show</td>\n",
       "      <td>28fccdf4-7b9e-42f5-bc73-439a265f20e9</td>\n",
       "      <td>2019-11-03</td>\n",
       "      <td>10958</td>\n",
       "      <td>C</td>\n",
       "    </tr>\n",
       "    <tr>\n",
       "      <th>74196</th>\n",
       "      <td>2019-11-03 23:58:12.532487</td>\n",
       "      <td>tips_show</td>\n",
       "      <td>28fccdf4-7b9e-42f5-bc73-439a265f20e9</td>\n",
       "      <td>2019-11-03</td>\n",
       "      <td>10958</td>\n",
       "      <td>C</td>\n",
       "    </tr>\n",
       "  </tbody>\n",
       "</table>\n",
       "<p>74197 rows × 6 columns</p>\n",
       "</div>"
      ],
      "text/plain": [
       "                      event_time   event_name  \\\n",
       "0     2019-10-07 00:00:00.431357  advert_open   \n",
       "1     2019-10-07 00:00:01.236320    tips_show   \n",
       "2     2019-10-07 00:00:02.245341    tips_show   \n",
       "3     2019-10-07 00:00:07.039334    tips_show   \n",
       "4     2019-10-07 00:00:56.319813  advert_open   \n",
       "...                          ...          ...   \n",
       "74192 2019-11-03 23:53:29.534986    tips_show   \n",
       "74193 2019-11-03 23:54:00.407086    tips_show   \n",
       "74194 2019-11-03 23:56:57.041825       search   \n",
       "74195 2019-11-03 23:57:06.232189    tips_show   \n",
       "74196 2019-11-03 23:58:12.532487    tips_show   \n",
       "\n",
       "                                    user_id         dt  session_id category  \n",
       "0      020292ab-89bc-4156-9acf-68bc2783f894 2019-10-07           1        C  \n",
       "1      020292ab-89bc-4156-9acf-68bc2783f894 2019-10-07           1        C  \n",
       "2      cf7eda61-9349-469f-ac27-e5b6f5ec475c 2019-10-07           2        C  \n",
       "3      020292ab-89bc-4156-9acf-68bc2783f894 2019-10-07           1        C  \n",
       "4      cf7eda61-9349-469f-ac27-e5b6f5ec475c 2019-10-07           2        C  \n",
       "...                                     ...        ...         ...      ...  \n",
       "74192  28fccdf4-7b9e-42f5-bc73-439a265f20e9 2019-11-03       10958        C  \n",
       "74193  28fccdf4-7b9e-42f5-bc73-439a265f20e9 2019-11-03       10958        C  \n",
       "74194  20850c8f-4135-4059-b13b-198d3ac59902 2019-11-03       10975        B  \n",
       "74195  28fccdf4-7b9e-42f5-bc73-439a265f20e9 2019-11-03       10958        C  \n",
       "74196  28fccdf4-7b9e-42f5-bc73-439a265f20e9 2019-11-03       10958        C  \n",
       "\n",
       "[74197 rows x 6 columns]"
      ]
     },
     "metadata": {},
     "output_type": "display_data"
    }
   ],
   "source": [
    "#добавим в таблицу с событиями категории\n",
    "mobile_dataset_copy = mobile_dataset_copy.merge(session_count[['user_id', 'category']], how='left', on='user_id')\n",
    "display(mobile_dataset_copy)"
   ]
  },
  {
   "cell_type": "markdown",
   "metadata": {},
   "source": [
    "## Оценка метрик"
   ]
  },
  {
   "cell_type": "markdown",
   "metadata": {},
   "source": [
    "Для полученных групп оценим необходимые метрики."
   ]
  },
  {
   "cell_type": "markdown",
   "metadata": {},
   "source": [
    "### Retention rate"
   ]
  },
  {
   "cell_type": "code",
   "execution_count": 34,
   "metadata": {},
   "outputs": [
    {
     "data": {
      "text/html": [
       "<div>\n",
       "<style scoped>\n",
       "    .dataframe tbody tr th:only-of-type {\n",
       "        vertical-align: middle;\n",
       "    }\n",
       "\n",
       "    .dataframe tbody tr th {\n",
       "        vertical-align: top;\n",
       "    }\n",
       "\n",
       "    .dataframe thead th {\n",
       "        text-align: right;\n",
       "    }\n",
       "</style>\n",
       "<table border=\"1\" class=\"dataframe\">\n",
       "  <thead>\n",
       "    <tr style=\"text-align: right;\">\n",
       "      <th></th>\n",
       "      <th>event_time</th>\n",
       "      <th>event_name</th>\n",
       "      <th>user_id</th>\n",
       "      <th>dt</th>\n",
       "      <th>session_id</th>\n",
       "      <th>category</th>\n",
       "      <th>first_ts</th>\n",
       "    </tr>\n",
       "  </thead>\n",
       "  <tbody>\n",
       "    <tr>\n",
       "      <th>0</th>\n",
       "      <td>2019-10-07 00:00:00.431357</td>\n",
       "      <td>advert_open</td>\n",
       "      <td>020292ab-89bc-4156-9acf-68bc2783f894</td>\n",
       "      <td>2019-10-07</td>\n",
       "      <td>1</td>\n",
       "      <td>C</td>\n",
       "      <td>2019-10-07 00:00:00.431357</td>\n",
       "    </tr>\n",
       "    <tr>\n",
       "      <th>1</th>\n",
       "      <td>2019-10-07 00:00:01.236320</td>\n",
       "      <td>tips_show</td>\n",
       "      <td>020292ab-89bc-4156-9acf-68bc2783f894</td>\n",
       "      <td>2019-10-07</td>\n",
       "      <td>1</td>\n",
       "      <td>C</td>\n",
       "      <td>2019-10-07 00:00:00.431357</td>\n",
       "    </tr>\n",
       "    <tr>\n",
       "      <th>2</th>\n",
       "      <td>2019-10-07 00:00:07.039334</td>\n",
       "      <td>tips_show</td>\n",
       "      <td>020292ab-89bc-4156-9acf-68bc2783f894</td>\n",
       "      <td>2019-10-07</td>\n",
       "      <td>1</td>\n",
       "      <td>C</td>\n",
       "      <td>2019-10-07 00:00:00.431357</td>\n",
       "    </tr>\n",
       "    <tr>\n",
       "      <th>3</th>\n",
       "      <td>2019-10-07 00:01:27.770232</td>\n",
       "      <td>advert_open</td>\n",
       "      <td>020292ab-89bc-4156-9acf-68bc2783f894</td>\n",
       "      <td>2019-10-07</td>\n",
       "      <td>1</td>\n",
       "      <td>C</td>\n",
       "      <td>2019-10-07 00:00:00.431357</td>\n",
       "    </tr>\n",
       "    <tr>\n",
       "      <th>4</th>\n",
       "      <td>2019-10-07 00:01:34.804591</td>\n",
       "      <td>tips_show</td>\n",
       "      <td>020292ab-89bc-4156-9acf-68bc2783f894</td>\n",
       "      <td>2019-10-07</td>\n",
       "      <td>1</td>\n",
       "      <td>C</td>\n",
       "      <td>2019-10-07 00:00:00.431357</td>\n",
       "    </tr>\n",
       "    <tr>\n",
       "      <th>...</th>\n",
       "      <td>...</td>\n",
       "      <td>...</td>\n",
       "      <td>...</td>\n",
       "      <td>...</td>\n",
       "      <td>...</td>\n",
       "      <td>...</td>\n",
       "      <td>...</td>\n",
       "    </tr>\n",
       "    <tr>\n",
       "      <th>74192</th>\n",
       "      <td>2019-11-03 23:46:47.068179</td>\n",
       "      <td>map</td>\n",
       "      <td>d157bffc-264d-4464-8220-1cc0c42f43a9</td>\n",
       "      <td>2019-11-03</td>\n",
       "      <td>10973</td>\n",
       "      <td>B</td>\n",
       "      <td>2019-11-03 23:46:47.068179</td>\n",
       "    </tr>\n",
       "    <tr>\n",
       "      <th>74193</th>\n",
       "      <td>2019-11-03 23:46:58.914787</td>\n",
       "      <td>advert_open</td>\n",
       "      <td>d157bffc-264d-4464-8220-1cc0c42f43a9</td>\n",
       "      <td>2019-11-03</td>\n",
       "      <td>10973</td>\n",
       "      <td>B</td>\n",
       "      <td>2019-11-03 23:46:47.068179</td>\n",
       "    </tr>\n",
       "    <tr>\n",
       "      <th>74194</th>\n",
       "      <td>2019-11-03 23:47:01.232230</td>\n",
       "      <td>tips_show</td>\n",
       "      <td>d157bffc-264d-4464-8220-1cc0c42f43a9</td>\n",
       "      <td>2019-11-03</td>\n",
       "      <td>10973</td>\n",
       "      <td>B</td>\n",
       "      <td>2019-11-03 23:46:47.068179</td>\n",
       "    </tr>\n",
       "    <tr>\n",
       "      <th>74195</th>\n",
       "      <td>2019-11-03 23:47:47.475102</td>\n",
       "      <td>advert_open</td>\n",
       "      <td>d157bffc-264d-4464-8220-1cc0c42f43a9</td>\n",
       "      <td>2019-11-03</td>\n",
       "      <td>10973</td>\n",
       "      <td>B</td>\n",
       "      <td>2019-11-03 23:46:47.068179</td>\n",
       "    </tr>\n",
       "    <tr>\n",
       "      <th>74196</th>\n",
       "      <td>2019-11-03 23:47:50.087645</td>\n",
       "      <td>tips_show</td>\n",
       "      <td>d157bffc-264d-4464-8220-1cc0c42f43a9</td>\n",
       "      <td>2019-11-03</td>\n",
       "      <td>10973</td>\n",
       "      <td>B</td>\n",
       "      <td>2019-11-03 23:46:47.068179</td>\n",
       "    </tr>\n",
       "  </tbody>\n",
       "</table>\n",
       "<p>74197 rows × 7 columns</p>\n",
       "</div>"
      ],
      "text/plain": [
       "                      event_time   event_name  \\\n",
       "0     2019-10-07 00:00:00.431357  advert_open   \n",
       "1     2019-10-07 00:00:01.236320    tips_show   \n",
       "2     2019-10-07 00:00:07.039334    tips_show   \n",
       "3     2019-10-07 00:01:27.770232  advert_open   \n",
       "4     2019-10-07 00:01:34.804591    tips_show   \n",
       "...                          ...          ...   \n",
       "74192 2019-11-03 23:46:47.068179          map   \n",
       "74193 2019-11-03 23:46:58.914787  advert_open   \n",
       "74194 2019-11-03 23:47:01.232230    tips_show   \n",
       "74195 2019-11-03 23:47:47.475102  advert_open   \n",
       "74196 2019-11-03 23:47:50.087645    tips_show   \n",
       "\n",
       "                                    user_id         dt  session_id category  \\\n",
       "0      020292ab-89bc-4156-9acf-68bc2783f894 2019-10-07           1        C   \n",
       "1      020292ab-89bc-4156-9acf-68bc2783f894 2019-10-07           1        C   \n",
       "2      020292ab-89bc-4156-9acf-68bc2783f894 2019-10-07           1        C   \n",
       "3      020292ab-89bc-4156-9acf-68bc2783f894 2019-10-07           1        C   \n",
       "4      020292ab-89bc-4156-9acf-68bc2783f894 2019-10-07           1        C   \n",
       "...                                     ...        ...         ...      ...   \n",
       "74192  d157bffc-264d-4464-8220-1cc0c42f43a9 2019-11-03       10973        B   \n",
       "74193  d157bffc-264d-4464-8220-1cc0c42f43a9 2019-11-03       10973        B   \n",
       "74194  d157bffc-264d-4464-8220-1cc0c42f43a9 2019-11-03       10973        B   \n",
       "74195  d157bffc-264d-4464-8220-1cc0c42f43a9 2019-11-03       10973        B   \n",
       "74196  d157bffc-264d-4464-8220-1cc0c42f43a9 2019-11-03       10973        B   \n",
       "\n",
       "                        first_ts  \n",
       "0     2019-10-07 00:00:00.431357  \n",
       "1     2019-10-07 00:00:00.431357  \n",
       "2     2019-10-07 00:00:00.431357  \n",
       "3     2019-10-07 00:00:00.431357  \n",
       "4     2019-10-07 00:00:00.431357  \n",
       "...                          ...  \n",
       "74192 2019-11-03 23:46:47.068179  \n",
       "74193 2019-11-03 23:46:47.068179  \n",
       "74194 2019-11-03 23:46:47.068179  \n",
       "74195 2019-11-03 23:46:47.068179  \n",
       "74196 2019-11-03 23:46:47.068179  \n",
       "\n",
       "[74197 rows x 7 columns]"
      ]
     },
     "metadata": {},
     "output_type": "display_data"
    }
   ],
   "source": [
    "#найдем первое действие за исследуемый период\n",
    "first_ts = mobile_dataset_copy.groupby('user_id').agg({'event_time': min}).reset_index()\n",
    "first_ts = first_ts.rename(columns = {'event_time': 'first_ts'})\n",
    "mobile_dataset_first = mobile_dataset_copy.merge(first_ts)\n",
    "display(mobile_dataset_first)"
   ]
  },
  {
   "cell_type": "code",
   "execution_count": 35,
   "metadata": {},
   "outputs": [
    {
     "name": "stdout",
     "output_type": "stream",
     "text": [
      "<class 'pandas.core.frame.DataFrame'>\n",
      "Int64Index: 74197 entries, 0 to 74196\n",
      "Data columns (total 7 columns):\n",
      " #   Column      Non-Null Count  Dtype         \n",
      "---  ------      --------------  -----         \n",
      " 0   event_time  74197 non-null  datetime64[ns]\n",
      " 1   event_name  74197 non-null  object        \n",
      " 2   user_id     74197 non-null  object        \n",
      " 3   dt          74197 non-null  datetime64[ns]\n",
      " 4   session_id  74197 non-null  int64         \n",
      " 5   category    74197 non-null  object        \n",
      " 6   first_ts    74197 non-null  datetime64[ns]\n",
      "dtypes: datetime64[ns](3), int64(1), object(3)\n",
      "memory usage: 4.5+ MB\n"
     ]
    }
   ],
   "source": [
    "mobile_dataset_first.info()"
   ]
  },
  {
   "cell_type": "code",
   "execution_count": 36,
   "metadata": {},
   "outputs": [],
   "source": [
    "observation_date = datetime(2019, 11, 4).date()  # момент анализа\n",
    "horizon_days = 7  # горизонт анализа "
   ]
  },
  {
   "cell_type": "code",
   "execution_count": 37,
   "metadata": {},
   "outputs": [],
   "source": [
    "# функция для расчёта удержания\n",
    "\n",
    "def get_retention(\n",
    "    profiles,\n",
    "    observation_date,\n",
    "    horizon_days,\n",
    "    dimensions=[],\n",
    "    ignore_horizon=False,\n",
    "):\n",
    "\n",
    "    # исключаем пользователей, не «доживших» до горизонта анализа\n",
    "    last_suitable_acquisition_date = observation_date\n",
    "    if not ignore_horizon:\n",
    "        last_suitable_acquisition_date = observation_date - timedelta(\n",
    "            days=horizon_days - 1\n",
    "        )\n",
    "        \n",
    "    result_raw = profiles.query('dt <= @last_suitable_acquisition_date')\n",
    "\n",
    "    result_raw['lifetime'] = (\n",
    "        result_raw['event_time'] - result_raw['first_ts']\n",
    "    ).dt.days\n",
    "\n",
    "    # функция для группировки таблицы по желаемым признакам\n",
    "    def group_by_dimensions(df, dims, horizon_days):\n",
    "        result = df.pivot_table(\n",
    "            index=dims, columns='lifetime', values='user_id', aggfunc='nunique'\n",
    "        )\n",
    "        cohort_sizes = (\n",
    "            df.groupby(dims)\n",
    "            .agg({'user_id': 'nunique'})\n",
    "            .rename(columns={'user_id': 'cohort_size'})\n",
    "        )\n",
    "        result = cohort_sizes.merge(result, on=dims, how='left').fillna(0)\n",
    "        result = result.div(result['cohort_size'], axis=0)\n",
    "        result = result[['cohort_size'] + list(range(horizon_days))]\n",
    "        result['cohort_size'] = cohort_sizes\n",
    "        return result\n",
    "\n",
    "    # получаем таблицу удержания\n",
    "    result_grouped = group_by_dimensions(result_raw, dimensions, horizon_days)\n",
    "\n",
    "    # получаем таблицу динамики удержания\n",
    "    result_in_time = group_by_dimensions(\n",
    "        result_raw, dimensions + ['dt'], horizon_days\n",
    "    )\n",
    "\n",
    "    # возвращаем обе таблицы и сырые данные\n",
    "    return result_raw, result_grouped, result_in_time "
   ]
  },
  {
   "cell_type": "code",
   "execution_count": 38,
   "metadata": {},
   "outputs": [],
   "source": [
    "# функция для сглаживания фрейма\n",
    "\n",
    "def filter_data(df, window):\n",
    "    # для каждого столбца применяем скользящее среднее\n",
    "    for column in df.columns.values:\n",
    "        df[column] = df[column].rolling(window).mean() \n",
    "    return df"
   ]
  },
  {
   "cell_type": "code",
   "execution_count": 39,
   "metadata": {},
   "outputs": [],
   "source": [
    "# функция для визуализации удержания\n",
    "\n",
    "def plot_retention(retention, retention_history, horizon, window=7):\n",
    "\n",
    "    # задаём размер сетки для графиков\n",
    "    plt.figure(figsize=(15, 10))\n",
    "\n",
    "    # исключаем размеры когорт и удержание первого дня\n",
    "    retention = retention.drop(columns=['cohort_size', 0])\n",
    "    # в таблице динамики оставляем только нужный лайфтайм\n",
    "    retention_history = retention_history.drop(columns=['cohort_size'])[\n",
    "        [horizon - 1]\n",
    "    ]\n",
    "\n",
    "\n",
    "    # в таблице графиков — два столбца и две строки, четыре ячейки\n",
    "    # в первой строим кривые удержания платящих пользователей\n",
    "    ax1 = plt.subplot(1, 2, 1)\n",
    "    retention.T.plot(grid=True, ax=ax1)\n",
    "    plt.legend()\n",
    "    plt.xlabel('Лайфтайм')\n",
    "    plt.title('Удержание пользователей')\n",
    "\n",
    "    # в третьей ячейке — динамика удержания платящих\n",
    "    ax2 = plt.subplot(1, 2, 2)\n",
    "    # получаем названия столбцов для сводной таблицы\n",
    "    columns = [\n",
    "        name \n",
    "        for name in retention_history.index.names\n",
    "        if name not in ['dt']\n",
    "    ]\n",
    "    # фильтруем данные и строим график\n",
    "    filtered_data = retention_history.pivot_table(\n",
    "        index='dt', columns=columns, values=horizon - 1, aggfunc='mean'\n",
    "    )\n",
    "    filter_data(filtered_data, window).plot(grid=True, ax=ax2)\n",
    "    plt.xlabel('Дата привлечения')\n",
    "    plt.title(\n",
    "        'Динамика удержания пользователей на {}-й день'.format(\n",
    "            horizon\n",
    "        )\n",
    "    )\n",
    "    \n",
    "    plt.tight_layout()\n",
    "    plt.show() "
   ]
  },
  {
   "cell_type": "code",
   "execution_count": 40,
   "metadata": {},
   "outputs": [
    {
     "data": {
      "text/html": [
       "<div>\n",
       "<style scoped>\n",
       "    .dataframe tbody tr th:only-of-type {\n",
       "        vertical-align: middle;\n",
       "    }\n",
       "\n",
       "    .dataframe tbody tr th {\n",
       "        vertical-align: top;\n",
       "    }\n",
       "\n",
       "    .dataframe thead th {\n",
       "        text-align: right;\n",
       "    }\n",
       "</style>\n",
       "<table border=\"1\" class=\"dataframe\">\n",
       "  <thead>\n",
       "    <tr style=\"text-align: right;\">\n",
       "      <th></th>\n",
       "      <th>cohort_size</th>\n",
       "      <th>0</th>\n",
       "      <th>1</th>\n",
       "      <th>2</th>\n",
       "      <th>3</th>\n",
       "      <th>4</th>\n",
       "      <th>5</th>\n",
       "      <th>6</th>\n",
       "    </tr>\n",
       "    <tr>\n",
       "      <th>category</th>\n",
       "      <th></th>\n",
       "      <th></th>\n",
       "      <th></th>\n",
       "      <th></th>\n",
       "      <th></th>\n",
       "      <th></th>\n",
       "      <th></th>\n",
       "      <th></th>\n",
       "    </tr>\n",
       "  </thead>\n",
       "  <tbody>\n",
       "    <tr>\n",
       "      <th>A</th>\n",
       "      <td>910</td>\n",
       "      <td>1.0</td>\n",
       "      <td>0.171429</td>\n",
       "      <td>0.140659</td>\n",
       "      <td>0.112088</td>\n",
       "      <td>0.095604</td>\n",
       "      <td>0.082418</td>\n",
       "      <td>0.064835</td>\n",
       "    </tr>\n",
       "    <tr>\n",
       "      <th>B</th>\n",
       "      <td>1842</td>\n",
       "      <td>1.0</td>\n",
       "      <td>0.090662</td>\n",
       "      <td>0.071661</td>\n",
       "      <td>0.057003</td>\n",
       "      <td>0.040174</td>\n",
       "      <td>0.043974</td>\n",
       "      <td>0.045603</td>\n",
       "    </tr>\n",
       "    <tr>\n",
       "      <th>C</th>\n",
       "      <td>931</td>\n",
       "      <td>1.0</td>\n",
       "      <td>0.066595</td>\n",
       "      <td>0.055854</td>\n",
       "      <td>0.032223</td>\n",
       "      <td>0.031149</td>\n",
       "      <td>0.027927</td>\n",
       "      <td>0.025779</td>\n",
       "    </tr>\n",
       "  </tbody>\n",
       "</table>\n",
       "</div>"
      ],
      "text/plain": [
       "          cohort_size    0         1         2         3         4         5  \\\n",
       "category                                                                       \n",
       "A                 910  1.0  0.171429  0.140659  0.112088  0.095604  0.082418   \n",
       "B                1842  1.0  0.090662  0.071661  0.057003  0.040174  0.043974   \n",
       "C                 931  1.0  0.066595  0.055854  0.032223  0.031149  0.027927   \n",
       "\n",
       "                 6  \n",
       "category            \n",
       "A         0.064835  \n",
       "B         0.045603  \n",
       "C         0.025779  "
      ]
     },
     "execution_count": 40,
     "metadata": {},
     "output_type": "execute_result"
    }
   ],
   "source": [
    "#построим таблицу удержания по группам\n",
    "dimensions = ['category']\n",
    "\n",
    "retention_raw, retention_grouped, retention_history = get_retention(\n",
    "    mobile_dataset_first, observation_date, horizon_days, dimensions=dimensions\n",
    ")\n",
    "\n",
    "retention_grouped"
   ]
  },
  {
   "cell_type": "code",
   "execution_count": 41,
   "metadata": {
    "scrolled": false
   },
   "outputs": [
    {
     "data": {
      "image/png": "[encoded data removed]",
      "text/plain": [
       "<Figure size 1080x720 with 2 Axes>"
      ]
     },
     "metadata": {
      "needs_background": "light"
     },
     "output_type": "display_data"
    }
   ],
   "source": [
    "#построим график удержания и динамику удержания для групп\n",
    "plot_retention(retention_grouped, retention_history, horizon_days) "
   ]
  },
  {
   "cell_type": "markdown",
   "metadata": {},
   "source": [
    "**Вывод:** Из графиков видно, что коэффициент удержания у группы А - пользователи, среднее количество действий за сессию которых минимальное, выше остальных групп на протяжение всего лайфтайма.\n",
    "\n",
    "Во всех группах падает удержание пользователей, привлеченных во второй половине октября. Стоит проверить не было ли каких-нибудь технических изменений в приложении в этот период."
   ]
  },
  {
   "cell_type": "markdown",
   "metadata": {},
   "source": [
    "### Время, проведенное в приложении"
   ]
  },
  {
   "cell_type": "code",
   "execution_count": 42,
   "metadata": {},
   "outputs": [
    {
     "data": {
      "text/html": [
       "<div>\n",
       "<style scoped>\n",
       "    .dataframe tbody tr th:only-of-type {\n",
       "        vertical-align: middle;\n",
       "    }\n",
       "\n",
       "    .dataframe tbody tr th {\n",
       "        vertical-align: top;\n",
       "    }\n",
       "\n",
       "    .dataframe thead th {\n",
       "        text-align: right;\n",
       "    }\n",
       "</style>\n",
       "<table border=\"1\" class=\"dataframe\">\n",
       "  <thead>\n",
       "    <tr style=\"text-align: right;\">\n",
       "      <th></th>\n",
       "      <th>session_id</th>\n",
       "      <th>time</th>\n",
       "    </tr>\n",
       "  </thead>\n",
       "  <tbody>\n",
       "    <tr>\n",
       "      <th>0</th>\n",
       "      <td>1</td>\n",
       "      <td>18.708097</td>\n",
       "    </tr>\n",
       "    <tr>\n",
       "      <th>1</th>\n",
       "      <td>2</td>\n",
       "      <td>41.631163</td>\n",
       "    </tr>\n",
       "    <tr>\n",
       "      <th>2</th>\n",
       "      <td>3</td>\n",
       "      <td>28.249982</td>\n",
       "    </tr>\n",
       "    <tr>\n",
       "      <th>3</th>\n",
       "      <td>4</td>\n",
       "      <td>0.053947</td>\n",
       "    </tr>\n",
       "    <tr>\n",
       "      <th>4</th>\n",
       "      <td>5</td>\n",
       "      <td>40.808268</td>\n",
       "    </tr>\n",
       "    <tr>\n",
       "      <th>...</th>\n",
       "      <td>...</td>\n",
       "      <td>...</td>\n",
       "    </tr>\n",
       "    <tr>\n",
       "      <th>10970</th>\n",
       "      <td>10971</td>\n",
       "      <td>0.000000</td>\n",
       "    </tr>\n",
       "    <tr>\n",
       "      <th>10971</th>\n",
       "      <td>10972</td>\n",
       "      <td>5.508949</td>\n",
       "    </tr>\n",
       "    <tr>\n",
       "      <th>10972</th>\n",
       "      <td>10973</td>\n",
       "      <td>1.050324</td>\n",
       "    </tr>\n",
       "    <tr>\n",
       "      <th>10973</th>\n",
       "      <td>10974</td>\n",
       "      <td>0.000000</td>\n",
       "    </tr>\n",
       "    <tr>\n",
       "      <th>10974</th>\n",
       "      <td>10975</td>\n",
       "      <td>0.000000</td>\n",
       "    </tr>\n",
       "  </tbody>\n",
       "</table>\n",
       "<p>10975 rows × 2 columns</p>\n",
       "</div>"
      ],
      "text/plain": [
       "       session_id       time\n",
       "0               1  18.708097\n",
       "1               2  41.631163\n",
       "2               3  28.249982\n",
       "3               4   0.053947\n",
       "4               5  40.808268\n",
       "...           ...        ...\n",
       "10970       10971   0.000000\n",
       "10971       10972   5.508949\n",
       "10972       10973   1.050324\n",
       "10973       10974   0.000000\n",
       "10974       10975   0.000000\n",
       "\n",
       "[10975 rows x 2 columns]"
      ]
     },
     "metadata": {},
     "output_type": "display_data"
    }
   ],
   "source": [
    "#найдем время каждой сесии в минутах\n",
    "time_in_app = mobile_dataset_copy.groupby('session_id').apply(lambda x: (x['event_time'].max() - x['event_time'].min()).total_seconds() / 60).reset_index()\n",
    "time_in_app.columns = ['session_id', 'time']\n",
    "display(time_in_app)"
   ]
  },
  {
   "cell_type": "code",
   "execution_count": 43,
   "metadata": {},
   "outputs": [
    {
     "data": {
      "text/html": [
       "<div>\n",
       "<style scoped>\n",
       "    .dataframe tbody tr th:only-of-type {\n",
       "        vertical-align: middle;\n",
       "    }\n",
       "\n",
       "    .dataframe tbody tr th {\n",
       "        vertical-align: top;\n",
       "    }\n",
       "\n",
       "    .dataframe thead th {\n",
       "        text-align: right;\n",
       "    }\n",
       "</style>\n",
       "<table border=\"1\" class=\"dataframe\">\n",
       "  <thead>\n",
       "    <tr style=\"text-align: right;\">\n",
       "      <th></th>\n",
       "      <th>session_id</th>\n",
       "      <th>time</th>\n",
       "      <th>user_id</th>\n",
       "      <th>category</th>\n",
       "    </tr>\n",
       "  </thead>\n",
       "  <tbody>\n",
       "    <tr>\n",
       "      <th>0</th>\n",
       "      <td>1</td>\n",
       "      <td>18.708097</td>\n",
       "      <td>020292ab-89bc-4156-9acf-68bc2783f894</td>\n",
       "      <td>C</td>\n",
       "    </tr>\n",
       "    <tr>\n",
       "      <th>28</th>\n",
       "      <td>2</td>\n",
       "      <td>41.631163</td>\n",
       "      <td>cf7eda61-9349-469f-ac27-e5b6f5ec475c</td>\n",
       "      <td>C</td>\n",
       "    </tr>\n",
       "    <tr>\n",
       "      <th>53</th>\n",
       "      <td>3</td>\n",
       "      <td>28.249982</td>\n",
       "      <td>8c356c42-3ba9-4cb6-80b8-3f868d0192c3</td>\n",
       "      <td>C</td>\n",
       "    </tr>\n",
       "    <tr>\n",
       "      <th>72</th>\n",
       "      <td>4</td>\n",
       "      <td>0.053947</td>\n",
       "      <td>d9b06b47-0f36-419b-bbb0-3533e582a6cb</td>\n",
       "      <td>A</td>\n",
       "    </tr>\n",
       "    <tr>\n",
       "      <th>74</th>\n",
       "      <td>5</td>\n",
       "      <td>40.808268</td>\n",
       "      <td>f32e1e2a-3027-4693-b793-b7b3ff274439</td>\n",
       "      <td>C</td>\n",
       "    </tr>\n",
       "    <tr>\n",
       "      <th>...</th>\n",
       "      <td>...</td>\n",
       "      <td>...</td>\n",
       "      <td>...</td>\n",
       "      <td>...</td>\n",
       "    </tr>\n",
       "    <tr>\n",
       "      <th>74184</th>\n",
       "      <td>10971</td>\n",
       "      <td>0.000000</td>\n",
       "      <td>d5e14ec3-7ae5-4598-ad36-f626b3ce24e3</td>\n",
       "      <td>A</td>\n",
       "    </tr>\n",
       "    <tr>\n",
       "      <th>74185</th>\n",
       "      <td>10972</td>\n",
       "      <td>5.508949</td>\n",
       "      <td>c10055f0-0b47-477a-869e-d391b31fdf8f</td>\n",
       "      <td>B</td>\n",
       "    </tr>\n",
       "    <tr>\n",
       "      <th>74190</th>\n",
       "      <td>10973</td>\n",
       "      <td>1.050324</td>\n",
       "      <td>d157bffc-264d-4464-8220-1cc0c42f43a9</td>\n",
       "      <td>B</td>\n",
       "    </tr>\n",
       "    <tr>\n",
       "      <th>74195</th>\n",
       "      <td>10974</td>\n",
       "      <td>0.000000</td>\n",
       "      <td>12681fdf-d1d1-454b-9b92-e8a3ccfaf07b</td>\n",
       "      <td>A</td>\n",
       "    </tr>\n",
       "    <tr>\n",
       "      <th>74196</th>\n",
       "      <td>10975</td>\n",
       "      <td>0.000000</td>\n",
       "      <td>20850c8f-4135-4059-b13b-198d3ac59902</td>\n",
       "      <td>B</td>\n",
       "    </tr>\n",
       "  </tbody>\n",
       "</table>\n",
       "<p>10975 rows × 4 columns</p>\n",
       "</div>"
      ],
      "text/plain": [
       "       session_id       time                               user_id category\n",
       "0               1  18.708097  020292ab-89bc-4156-9acf-68bc2783f894        C\n",
       "28              2  41.631163  cf7eda61-9349-469f-ac27-e5b6f5ec475c        C\n",
       "53              3  28.249982  8c356c42-3ba9-4cb6-80b8-3f868d0192c3        C\n",
       "72              4   0.053947  d9b06b47-0f36-419b-bbb0-3533e582a6cb        A\n",
       "74              5  40.808268  f32e1e2a-3027-4693-b793-b7b3ff274439        C\n",
       "...           ...        ...                                   ...      ...\n",
       "74184       10971   0.000000  d5e14ec3-7ae5-4598-ad36-f626b3ce24e3        A\n",
       "74185       10972   5.508949  c10055f0-0b47-477a-869e-d391b31fdf8f        B\n",
       "74190       10973   1.050324  d157bffc-264d-4464-8220-1cc0c42f43a9        B\n",
       "74195       10974   0.000000  12681fdf-d1d1-454b-9b92-e8a3ccfaf07b        A\n",
       "74196       10975   0.000000  20850c8f-4135-4059-b13b-198d3ac59902        B\n",
       "\n",
       "[10975 rows x 4 columns]"
      ]
     },
     "metadata": {},
     "output_type": "display_data"
    }
   ],
   "source": [
    "#добавим столбцы с категориями и пользователями\n",
    "time_in_app = time_in_app.merge(mobile_dataset_copy[['user_id', 'category', 'session_id']], on='session_id').drop_duplicates()\n",
    "display(time_in_app)"
   ]
  },
  {
   "cell_type": "code",
   "execution_count": 44,
   "metadata": {},
   "outputs": [
    {
     "data": {
      "text/html": [
       "<div>\n",
       "<style scoped>\n",
       "    .dataframe tbody tr th:only-of-type {\n",
       "        vertical-align: middle;\n",
       "    }\n",
       "\n",
       "    .dataframe tbody tr th {\n",
       "        vertical-align: top;\n",
       "    }\n",
       "\n",
       "    .dataframe thead th {\n",
       "        text-align: right;\n",
       "    }\n",
       "</style>\n",
       "<table border=\"1\" class=\"dataframe\">\n",
       "  <thead>\n",
       "    <tr style=\"text-align: right;\">\n",
       "      <th></th>\n",
       "      <th>user_id</th>\n",
       "      <th>time</th>\n",
       "      <th>category</th>\n",
       "    </tr>\n",
       "  </thead>\n",
       "  <tbody>\n",
       "    <tr>\n",
       "      <th>0</th>\n",
       "      <td>0001b1d5-b74a-4cbf-aeb0-7df5947bf349</td>\n",
       "      <td>46.009285</td>\n",
       "      <td>B</td>\n",
       "    </tr>\n",
       "    <tr>\n",
       "      <th>4</th>\n",
       "      <td>00157779-810c-4498-9e05-a1e9e3cedf93</td>\n",
       "      <td>146.006547</td>\n",
       "      <td>B</td>\n",
       "    </tr>\n",
       "    <tr>\n",
       "      <th>12</th>\n",
       "      <td>00463033-5717-4bf1-91b4-09183923b9df</td>\n",
       "      <td>24.707917</td>\n",
       "      <td>C</td>\n",
       "    </tr>\n",
       "    <tr>\n",
       "      <th>13</th>\n",
       "      <td>004690c3-5a84-4bb7-a8af-e0c8f8fca64e</td>\n",
       "      <td>63.141022</td>\n",
       "      <td>B</td>\n",
       "    </tr>\n",
       "    <tr>\n",
       "      <th>21</th>\n",
       "      <td>00551e79-152e-4441-9cf7-565d7eb04090</td>\n",
       "      <td>9.327742</td>\n",
       "      <td>A</td>\n",
       "    </tr>\n",
       "    <tr>\n",
       "      <th>...</th>\n",
       "      <td>...</td>\n",
       "      <td>...</td>\n",
       "      <td>...</td>\n",
       "    </tr>\n",
       "    <tr>\n",
       "      <th>10936</th>\n",
       "      <td>ffab8d8a-30bb-424a-a3ab-0b63ebbf7b07</td>\n",
       "      <td>49.420415</td>\n",
       "      <td>B</td>\n",
       "    </tr>\n",
       "    <tr>\n",
       "      <th>10938</th>\n",
       "      <td>ffc01466-fdb1-4460-ae94-e800f52eb136</td>\n",
       "      <td>0.868974</td>\n",
       "      <td>B</td>\n",
       "    </tr>\n",
       "    <tr>\n",
       "      <th>10939</th>\n",
       "      <td>ffcf50d9-293c-4254-8243-4890b030b238</td>\n",
       "      <td>1.339636</td>\n",
       "      <td>A</td>\n",
       "    </tr>\n",
       "    <tr>\n",
       "      <th>10940</th>\n",
       "      <td>ffe68f10-e48e-470e-be9b-eeb93128ff1a</td>\n",
       "      <td>38.876517</td>\n",
       "      <td>B</td>\n",
       "    </tr>\n",
       "    <tr>\n",
       "      <th>10943</th>\n",
       "      <td>fffb9e79-b927-4dbb-9b48-7fd09b23a62b</td>\n",
       "      <td>496.369612</td>\n",
       "      <td>B</td>\n",
       "    </tr>\n",
       "  </tbody>\n",
       "</table>\n",
       "<p>4293 rows × 3 columns</p>\n",
       "</div>"
      ],
      "text/plain": [
       "                                    user_id        time category\n",
       "0      0001b1d5-b74a-4cbf-aeb0-7df5947bf349   46.009285        B\n",
       "4      00157779-810c-4498-9e05-a1e9e3cedf93  146.006547        B\n",
       "12     00463033-5717-4bf1-91b4-09183923b9df   24.707917        C\n",
       "13     004690c3-5a84-4bb7-a8af-e0c8f8fca64e   63.141022        B\n",
       "21     00551e79-152e-4441-9cf7-565d7eb04090    9.327742        A\n",
       "...                                     ...         ...      ...\n",
       "10936  ffab8d8a-30bb-424a-a3ab-0b63ebbf7b07   49.420415        B\n",
       "10938  ffc01466-fdb1-4460-ae94-e800f52eb136    0.868974        B\n",
       "10939  ffcf50d9-293c-4254-8243-4890b030b238    1.339636        A\n",
       "10940  ffe68f10-e48e-470e-be9b-eeb93128ff1a   38.876517        B\n",
       "10943  fffb9e79-b927-4dbb-9b48-7fd09b23a62b  496.369612        B\n",
       "\n",
       "[4293 rows x 3 columns]"
      ]
     },
     "metadata": {},
     "output_type": "display_data"
    }
   ],
   "source": [
    "user_time = time_in_app.groupby('user_id')['time'].sum().reset_index()\n",
    "user_time = user_time.merge(time_in_app[['user_id', 'category']]).drop_duplicates()\n",
    "display(user_time)"
   ]
  },
  {
   "cell_type": "code",
   "execution_count": 45,
   "metadata": {
    "scrolled": false
   },
   "outputs": [
    {
     "data": {
      "image/png": "[encoded data removed]",
      "text/plain": [
       "<Figure size 1224x576 with 3 Axes>"
      ]
     },
     "metadata": {
      "needs_background": "light"
     },
     "output_type": "display_data"
    }
   ],
   "source": [
    "#построим гистограмму частоты проведенного в приложении времения по сессиям\n",
    "fig, axes = plt.subplots(1, 3, figsize=(17,8))\n",
    "b = 0\n",
    "for i in sorted(time_in_app['category'].unique()):\n",
    "    time_in_app_category = user_time.query('category == @i')\n",
    "    sns.distplot(time_in_app_category['time'], ax = axes [b]).set(title=f'Группа {i}', ylabel='Частота', xlabel='Время, мин.')\n",
    "   \n",
    "    b += 1\n",
    "\n",
    "fig.suptitle('Распределение времени, проведенного в приложении')\n",
    "plt.show()"
   ]
  },
  {
   "cell_type": "code",
   "execution_count": 46,
   "metadata": {},
   "outputs": [
    {
     "data": {
      "text/plain": [
       "Text(0, 0.5, 'Время в приложении')"
      ]
     },
     "execution_count": 46,
     "metadata": {},
     "output_type": "execute_result"
    },
    {
     "data": {
      "image/png": "[encoded data removed]",
      "text/plain": [
       "<Figure size 432x288 with 1 Axes>"
      ]
     },
     "metadata": {
      "needs_background": "light"
     },
     "output_type": "display_data"
    }
   ],
   "source": [
    "time_in_app.groupby('category')['time'].mean().plot(kind='bar', rot=0)\n",
    "plt.title('Среднее время в приложении по группам')\n",
    "plt.xlabel('Группы')\n",
    "plt.ylabel('Время в приложении')"
   ]
  },
  {
   "cell_type": "markdown",
   "metadata": {},
   "source": [
    "Посмотрим, как распределено количество сессий на пользователя в группах."
   ]
  },
  {
   "cell_type": "code",
   "execution_count": 47,
   "metadata": {},
   "outputs": [
    {
     "data": {
      "text/html": [
       "<div>\n",
       "<style scoped>\n",
       "    .dataframe tbody tr th:only-of-type {\n",
       "        vertical-align: middle;\n",
       "    }\n",
       "\n",
       "    .dataframe tbody tr th {\n",
       "        vertical-align: top;\n",
       "    }\n",
       "\n",
       "    .dataframe thead th {\n",
       "        text-align: right;\n",
       "    }\n",
       "</style>\n",
       "<table border=\"1\" class=\"dataframe\">\n",
       "  <thead>\n",
       "    <tr style=\"text-align: right;\">\n",
       "      <th></th>\n",
       "      <th>user_id</th>\n",
       "      <th>session_id</th>\n",
       "      <th>category</th>\n",
       "    </tr>\n",
       "  </thead>\n",
       "  <tbody>\n",
       "    <tr>\n",
       "      <th>0</th>\n",
       "      <td>0001b1d5-b74a-4cbf-aeb0-7df5947bf349</td>\n",
       "      <td>4</td>\n",
       "      <td>B</td>\n",
       "    </tr>\n",
       "    <tr>\n",
       "      <th>1</th>\n",
       "      <td>00157779-810c-4498-9e05-a1e9e3cedf93</td>\n",
       "      <td>8</td>\n",
       "      <td>B</td>\n",
       "    </tr>\n",
       "    <tr>\n",
       "      <th>2</th>\n",
       "      <td>00463033-5717-4bf1-91b4-09183923b9df</td>\n",
       "      <td>1</td>\n",
       "      <td>C</td>\n",
       "    </tr>\n",
       "    <tr>\n",
       "      <th>3</th>\n",
       "      <td>004690c3-5a84-4bb7-a8af-e0c8f8fca64e</td>\n",
       "      <td>8</td>\n",
       "      <td>B</td>\n",
       "    </tr>\n",
       "    <tr>\n",
       "      <th>4</th>\n",
       "      <td>00551e79-152e-4441-9cf7-565d7eb04090</td>\n",
       "      <td>3</td>\n",
       "      <td>A</td>\n",
       "    </tr>\n",
       "    <tr>\n",
       "      <th>...</th>\n",
       "      <td>...</td>\n",
       "      <td>...</td>\n",
       "      <td>...</td>\n",
       "    </tr>\n",
       "    <tr>\n",
       "      <th>4288</th>\n",
       "      <td>ffab8d8a-30bb-424a-a3ab-0b63ebbf7b07</td>\n",
       "      <td>2</td>\n",
       "      <td>B</td>\n",
       "    </tr>\n",
       "    <tr>\n",
       "      <th>4289</th>\n",
       "      <td>ffc01466-fdb1-4460-ae94-e800f52eb136</td>\n",
       "      <td>1</td>\n",
       "      <td>B</td>\n",
       "    </tr>\n",
       "    <tr>\n",
       "      <th>4290</th>\n",
       "      <td>ffcf50d9-293c-4254-8243-4890b030b238</td>\n",
       "      <td>1</td>\n",
       "      <td>A</td>\n",
       "    </tr>\n",
       "    <tr>\n",
       "      <th>4291</th>\n",
       "      <td>ffe68f10-e48e-470e-be9b-eeb93128ff1a</td>\n",
       "      <td>3</td>\n",
       "      <td>B</td>\n",
       "    </tr>\n",
       "    <tr>\n",
       "      <th>4292</th>\n",
       "      <td>fffb9e79-b927-4dbb-9b48-7fd09b23a62b</td>\n",
       "      <td>32</td>\n",
       "      <td>B</td>\n",
       "    </tr>\n",
       "  </tbody>\n",
       "</table>\n",
       "<p>4293 rows × 3 columns</p>\n",
       "</div>"
      ],
      "text/plain": [
       "                                   user_id  session_id category\n",
       "0     0001b1d5-b74a-4cbf-aeb0-7df5947bf349           4        B\n",
       "1     00157779-810c-4498-9e05-a1e9e3cedf93           8        B\n",
       "2     00463033-5717-4bf1-91b4-09183923b9df           1        C\n",
       "3     004690c3-5a84-4bb7-a8af-e0c8f8fca64e           8        B\n",
       "4     00551e79-152e-4441-9cf7-565d7eb04090           3        A\n",
       "...                                    ...         ...      ...\n",
       "4288  ffab8d8a-30bb-424a-a3ab-0b63ebbf7b07           2        B\n",
       "4289  ffc01466-fdb1-4460-ae94-e800f52eb136           1        B\n",
       "4290  ffcf50d9-293c-4254-8243-4890b030b238           1        A\n",
       "4291  ffe68f10-e48e-470e-be9b-eeb93128ff1a           3        B\n",
       "4292  fffb9e79-b927-4dbb-9b48-7fd09b23a62b          32        B\n",
       "\n",
       "[4293 rows x 3 columns]"
      ]
     },
     "execution_count": 47,
     "metadata": {},
     "output_type": "execute_result"
    }
   ],
   "source": [
    "rasp = count_session.merge(session_count[['user_id', 'category']])\n",
    "rasp"
   ]
  },
  {
   "cell_type": "code",
   "execution_count": 48,
   "metadata": {},
   "outputs": [
    {
     "data": {
      "image/png": "[encoded data removed]",
      "text/plain": [
       "<Figure size 1224x576 with 3 Axes>"
      ]
     },
     "metadata": {
      "needs_background": "light"
     },
     "output_type": "display_data"
    }
   ],
   "source": [
    "#построим гистограмму количества сессий\n",
    "fig, axes = plt.subplots(1, 3, figsize=(17,8))\n",
    "b = 0\n",
    "for i in sorted(time_in_app['category'].unique()):\n",
    "    rasp_category = rasp.query('category == @i')\n",
    "    sns.distplot(rasp_category['session_id'], ax = axes [b]).set(title=f'Группа {i}', ylabel='Частота', xlabel='Количество сессий')\n",
    "      \n",
    "    b += 1\n",
    "fig.suptitle('Распределение количества сессий')\n",
    "plt.show()"
   ]
  },
  {
   "cell_type": "markdown",
   "metadata": {},
   "source": [
    "**Вывод:** В группе С время, проведенное в приложении, наибольшее. Интересно, что хоть пользователи этой группы и проводят в приложении большое количество времени, они возвращаются в приложение реже остальных. Из графиков видим, что у большинства пользователей группы С только одна сессия. Это может говорить о том, что после длительного поиска пользователь разочаровывается в приложении."
   ]
  },
  {
   "cell_type": "markdown",
   "metadata": {},
   "source": [
    "### Частота действий"
   ]
  },
  {
   "cell_type": "markdown",
   "metadata": {},
   "source": [
    "Рассчитаем совершение действия `show_contacts` относительно всех действий для каждой группы."
   ]
  },
  {
   "cell_type": "code",
   "execution_count": 49,
   "metadata": {},
   "outputs": [
    {
     "data": {
      "text/html": [
       "<div>\n",
       "<style scoped>\n",
       "    .dataframe tbody tr th:only-of-type {\n",
       "        vertical-align: middle;\n",
       "    }\n",
       "\n",
       "    .dataframe tbody tr th {\n",
       "        vertical-align: top;\n",
       "    }\n",
       "\n",
       "    .dataframe thead th {\n",
       "        text-align: right;\n",
       "    }\n",
       "</style>\n",
       "<table border=\"1\" class=\"dataframe\">\n",
       "  <thead>\n",
       "    <tr style=\"text-align: right;\">\n",
       "      <th></th>\n",
       "      <th>event_name</th>\n",
       "      <th>A</th>\n",
       "      <th>B</th>\n",
       "      <th>C</th>\n",
       "    </tr>\n",
       "  </thead>\n",
       "  <tbody>\n",
       "    <tr>\n",
       "      <th>0</th>\n",
       "      <td>advert_open</td>\n",
       "      <td>209</td>\n",
       "      <td>1708</td>\n",
       "      <td>4247</td>\n",
       "    </tr>\n",
       "    <tr>\n",
       "      <th>1</th>\n",
       "      <td>contacts_call</td>\n",
       "      <td>161</td>\n",
       "      <td>283</td>\n",
       "      <td>97</td>\n",
       "    </tr>\n",
       "    <tr>\n",
       "      <th>2</th>\n",
       "      <td>favorites_add</td>\n",
       "      <td>195</td>\n",
       "      <td>639</td>\n",
       "      <td>583</td>\n",
       "    </tr>\n",
       "    <tr>\n",
       "      <th>3</th>\n",
       "      <td>map</td>\n",
       "      <td>301</td>\n",
       "      <td>1791</td>\n",
       "      <td>1789</td>\n",
       "    </tr>\n",
       "    <tr>\n",
       "      <th>4</th>\n",
       "      <td>photos_show</td>\n",
       "      <td>2239</td>\n",
       "      <td>4879</td>\n",
       "      <td>2894</td>\n",
       "    </tr>\n",
       "    <tr>\n",
       "      <th>5</th>\n",
       "      <td>search</td>\n",
       "      <td>1622</td>\n",
       "      <td>3525</td>\n",
       "      <td>1637</td>\n",
       "    </tr>\n",
       "    <tr>\n",
       "      <th>6</th>\n",
       "      <td>show_contacts</td>\n",
       "      <td>628</td>\n",
       "      <td>2084</td>\n",
       "      <td>1817</td>\n",
       "    </tr>\n",
       "    <tr>\n",
       "      <th>7</th>\n",
       "      <td>tips_click</td>\n",
       "      <td>75</td>\n",
       "      <td>380</td>\n",
       "      <td>359</td>\n",
       "    </tr>\n",
       "    <tr>\n",
       "      <th>8</th>\n",
       "      <td>tips_show</td>\n",
       "      <td>2200</td>\n",
       "      <td>15695</td>\n",
       "      <td>22160</td>\n",
       "    </tr>\n",
       "  </tbody>\n",
       "</table>\n",
       "</div>"
      ],
      "text/plain": [
       "      event_name     A      B      C\n",
       "0    advert_open   209   1708   4247\n",
       "1  contacts_call   161    283     97\n",
       "2  favorites_add   195    639    583\n",
       "3            map   301   1791   1789\n",
       "4    photos_show  2239   4879   2894\n",
       "5         search  1622   3525   1637\n",
       "6  show_contacts   628   2084   1817\n",
       "7     tips_click    75    380    359\n",
       "8      tips_show  2200  15695  22160"
      ]
     },
     "metadata": {},
     "output_type": "display_data"
    }
   ],
   "source": [
    "#найдем количество каждого действия по группам\n",
    "freq = mobile_dataset_copy.pivot_table(index='event_name', columns='category', values='user_id', aggfunc='count').reset_index().rename_axis(None, axis=1)\n",
    "display(freq)"
   ]
  },
  {
   "cell_type": "code",
   "execution_count": 50,
   "metadata": {
    "scrolled": false
   },
   "outputs": [
    {
     "name": "stdout",
     "output_type": "stream",
     "text": [
      "[6    0.082307\n",
      "Name: A, dtype: float64, 6    0.067261\n",
      "Name: B, dtype: float64, 6    0.051064\n",
      "Name: C, dtype: float64]\n"
     ]
    },
    {
     "data": {
      "text/plain": [
       "Text(0, 0.5, 'Частота')"
      ]
     },
     "execution_count": 50,
     "metadata": {},
     "output_type": "execute_result"
    },
    {
     "data": {
      "image/png": "[encoded data removed]",
      "text/plain": [
       "<Figure size 432x288 with 1 Axes>"
      ]
     },
     "metadata": {
      "needs_background": "light"
     },
     "output_type": "display_data"
    }
   ],
   "source": [
    "freq_new = freq.query('event_name == \"show_contacts\"')\n",
    "freq_show = []\n",
    "\n",
    "for cat in sorted(mobile_dataset_copy['category'].unique()):\n",
    "    freque = freq_new[cat]/freq[cat].sum()\n",
    "    freq_show.append(freque)\n",
    "print(freq_show)\n",
    "df = pd.DataFrame(freq_show).reset_index()\n",
    "df.columns = ['category', 'frequency']\n",
    "sns.barplot(data=df, x='category', y='frequency')\n",
    "plt.title('Частота совершения действия show_contacts')\n",
    "plt.xlabel('Группы')\n",
    "plt.ylabel('Частота')"
   ]
  },
  {
   "cell_type": "markdown",
   "metadata": {},
   "source": [
    "**Вывод:** График показывает, что наибольшая часота совершения действия show_contacts характерна для группы А. Это может объясняться тем, что эта группа имеет суммарно меньше всех действий относительно остальных групп."
   ]
  },
  {
   "cell_type": "markdown",
   "metadata": {},
   "source": [
    "### Конверсия в целевое действие — просмотр контактов"
   ]
  },
  {
   "cell_type": "markdown",
   "metadata": {},
   "source": [
    "Исследуем, как отличается конверсия в действие show_contacts по группам. Посчитаем совершение действия show_contacts пользователями относительно числа уникальных пользователей."
   ]
  },
  {
   "cell_type": "code",
   "execution_count": 51,
   "metadata": {},
   "outputs": [
    {
     "data": {
      "text/html": [
       "<div>\n",
       "<style scoped>\n",
       "    .dataframe tbody tr th:only-of-type {\n",
       "        vertical-align: middle;\n",
       "    }\n",
       "\n",
       "    .dataframe tbody tr th {\n",
       "        vertical-align: top;\n",
       "    }\n",
       "\n",
       "    .dataframe thead th {\n",
       "        text-align: right;\n",
       "    }\n",
       "</style>\n",
       "<table border=\"1\" class=\"dataframe\">\n",
       "  <thead>\n",
       "    <tr style=\"text-align: right;\">\n",
       "      <th></th>\n",
       "      <th>event_name</th>\n",
       "      <th>A</th>\n",
       "      <th>B</th>\n",
       "      <th>C</th>\n",
       "    </tr>\n",
       "  </thead>\n",
       "  <tbody>\n",
       "    <tr>\n",
       "      <th>0</th>\n",
       "      <td>advert_open</td>\n",
       "      <td>81</td>\n",
       "      <td>353</td>\n",
       "      <td>317</td>\n",
       "    </tr>\n",
       "    <tr>\n",
       "      <th>1</th>\n",
       "      <td>contacts_call</td>\n",
       "      <td>85</td>\n",
       "      <td>105</td>\n",
       "      <td>23</td>\n",
       "    </tr>\n",
       "    <tr>\n",
       "      <th>2</th>\n",
       "      <td>favorites_add</td>\n",
       "      <td>90</td>\n",
       "      <td>178</td>\n",
       "      <td>83</td>\n",
       "    </tr>\n",
       "    <tr>\n",
       "      <th>3</th>\n",
       "      <td>map</td>\n",
       "      <td>178</td>\n",
       "      <td>733</td>\n",
       "      <td>545</td>\n",
       "    </tr>\n",
       "    <tr>\n",
       "      <th>4</th>\n",
       "      <td>photos_show</td>\n",
       "      <td>398</td>\n",
       "      <td>544</td>\n",
       "      <td>153</td>\n",
       "    </tr>\n",
       "    <tr>\n",
       "      <th>5</th>\n",
       "      <td>search</td>\n",
       "      <td>405</td>\n",
       "      <td>856</td>\n",
       "      <td>405</td>\n",
       "    </tr>\n",
       "    <tr>\n",
       "      <th>6</th>\n",
       "      <td>show_contacts</td>\n",
       "      <td>258</td>\n",
       "      <td>475</td>\n",
       "      <td>248</td>\n",
       "    </tr>\n",
       "    <tr>\n",
       "      <th>7</th>\n",
       "      <td>tips_click</td>\n",
       "      <td>36</td>\n",
       "      <td>164</td>\n",
       "      <td>122</td>\n",
       "    </tr>\n",
       "    <tr>\n",
       "      <th>8</th>\n",
       "      <td>tips_show</td>\n",
       "      <td>455</td>\n",
       "      <td>1459</td>\n",
       "      <td>887</td>\n",
       "    </tr>\n",
       "  </tbody>\n",
       "</table>\n",
       "</div>"
      ],
      "text/plain": [
       "      event_name    A     B    C\n",
       "0    advert_open   81   353  317\n",
       "1  contacts_call   85   105   23\n",
       "2  favorites_add   90   178   83\n",
       "3            map  178   733  545\n",
       "4    photos_show  398   544  153\n",
       "5         search  405   856  405\n",
       "6  show_contacts  258   475  248\n",
       "7     tips_click   36   164  122\n",
       "8      tips_show  455  1459  887"
      ]
     },
     "metadata": {},
     "output_type": "display_data"
    }
   ],
   "source": [
    "#найдем количество уникальных пользователей по каждому действию\n",
    "conversion = mobile_dataset_copy.pivot_table(index='event_name', columns='category', values='user_id', aggfunc='nunique').reset_index().rename_axis(None, axis=1)\n",
    "display(conversion)"
   ]
  },
  {
   "cell_type": "markdown",
   "metadata": {},
   "source": [
    "Пользователи группы C значительно чаще остальных (в процентном соотношении уникальных пользователей) просматривают и переходят на рекомендованные объявления и открывают карту размещения объявлений, но значительно меньше просматривают фото из объявления. Возможно для данных пользователей расположение предмета из объявления является основным показателем привлекательности."
   ]
  },
  {
   "cell_type": "code",
   "execution_count": 52,
   "metadata": {},
   "outputs": [
    {
     "data": {
      "text/plain": [
       "Text(0, 0.5, 'Конверсия')"
      ]
     },
     "execution_count": 52,
     "metadata": {},
     "output_type": "execute_result"
    },
    {
     "data": {
      "image/png": "[encoded data removed]",
      "text/plain": [
       "<Figure size 432x288 with 1 Axes>"
      ]
     },
     "metadata": {
      "needs_background": "light"
     },
     "output_type": "display_data"
    }
   ],
   "source": [
    "count_user = session_count.pivot_table(columns='category', values='user_id', aggfunc='nunique').reset_index().rename_axis(None, axis=1)\n",
    "conversion_new = conversion.query('event_name == \"show_contacts\"')\n",
    "conversion_show = []\n",
    "for cat in sorted(mobile_dataset_copy['category'].unique()):\n",
    "    count_users = mobile_dataset_copy.query('category == @cat').agg({'user_id': 'nunique'})\n",
    "    conv = conversion_new[cat]/count_users[0]\n",
    "    conversion_show.append(conv)\n",
    "    \n",
    "df_conv = pd.DataFrame(conversion_show).reset_index()\n",
    "df_conv.columns = ['category', 'conversion']\n",
    "sns.barplot(data=df_conv, x='category', y='conversion')\n",
    "plt.title('Конверсия пользователей в действие show_contacts')\n",
    "plt.xlabel('Группы')\n",
    "plt.ylabel('Конверсия')"
   ]
  },
  {
   "cell_type": "markdown",
   "metadata": {},
   "source": [
    "Наибольшую конверсию в целевое действие имеет группа А, также как и частоту совершения этого действия. При этом мы видим, что самая многочисленная группа, составляющая квартильный размах, имеет наименьшую конверсию."
   ]
  },
  {
   "cell_type": "markdown",
   "metadata": {},
   "source": [
    "### Различие во времени между распространенными событиями"
   ]
  },
  {
   "cell_type": "markdown",
   "metadata": {},
   "source": [
    "Рассчитаем время между событиями `tips_show` (пользователь увидел рекомендованное сообщение) и `show_contacts` (пользователь посмотрел контакты одного из рекомендованных сообщений) в одной сессии. Проверим насколько хорошо работает алгоритм рекомендаций."
   ]
  },
  {
   "cell_type": "code",
   "execution_count": 53,
   "metadata": {},
   "outputs": [
    {
     "data": {
      "text/html": [
       "<div>\n",
       "<style scoped>\n",
       "    .dataframe tbody tr th:only-of-type {\n",
       "        vertical-align: middle;\n",
       "    }\n",
       "\n",
       "    .dataframe tbody tr th {\n",
       "        vertical-align: top;\n",
       "    }\n",
       "\n",
       "    .dataframe thead th {\n",
       "        text-align: right;\n",
       "    }\n",
       "</style>\n",
       "<table border=\"1\" class=\"dataframe\">\n",
       "  <thead>\n",
       "    <tr style=\"text-align: right;\">\n",
       "      <th></th>\n",
       "      <th>event_time</th>\n",
       "      <th>event_name</th>\n",
       "      <th>user_id</th>\n",
       "      <th>dt</th>\n",
       "      <th>session_id</th>\n",
       "      <th>category</th>\n",
       "    </tr>\n",
       "  </thead>\n",
       "  <tbody>\n",
       "    <tr>\n",
       "      <th>1</th>\n",
       "      <td>2019-10-07 00:00:01.236320</td>\n",
       "      <td>tips_show</td>\n",
       "      <td>020292ab-89bc-4156-9acf-68bc2783f894</td>\n",
       "      <td>2019-10-07</td>\n",
       "      <td>1</td>\n",
       "      <td>C</td>\n",
       "    </tr>\n",
       "    <tr>\n",
       "      <th>2</th>\n",
       "      <td>2019-10-07 00:00:02.245341</td>\n",
       "      <td>tips_show</td>\n",
       "      <td>cf7eda61-9349-469f-ac27-e5b6f5ec475c</td>\n",
       "      <td>2019-10-07</td>\n",
       "      <td>2</td>\n",
       "      <td>C</td>\n",
       "    </tr>\n",
       "    <tr>\n",
       "      <th>3</th>\n",
       "      <td>2019-10-07 00:00:07.039334</td>\n",
       "      <td>tips_show</td>\n",
       "      <td>020292ab-89bc-4156-9acf-68bc2783f894</td>\n",
       "      <td>2019-10-07</td>\n",
       "      <td>1</td>\n",
       "      <td>C</td>\n",
       "    </tr>\n",
       "    <tr>\n",
       "      <th>5</th>\n",
       "      <td>2019-10-07 00:01:19.993624</td>\n",
       "      <td>tips_show</td>\n",
       "      <td>cf7eda61-9349-469f-ac27-e5b6f5ec475c</td>\n",
       "      <td>2019-10-07</td>\n",
       "      <td>2</td>\n",
       "      <td>C</td>\n",
       "    </tr>\n",
       "    <tr>\n",
       "      <th>7</th>\n",
       "      <td>2019-10-07 00:01:34.804591</td>\n",
       "      <td>tips_show</td>\n",
       "      <td>020292ab-89bc-4156-9acf-68bc2783f894</td>\n",
       "      <td>2019-10-07</td>\n",
       "      <td>1</td>\n",
       "      <td>C</td>\n",
       "    </tr>\n",
       "    <tr>\n",
       "      <th>10</th>\n",
       "      <td>2019-10-07 00:02:01.354436</td>\n",
       "      <td>tips_show</td>\n",
       "      <td>020292ab-89bc-4156-9acf-68bc2783f894</td>\n",
       "      <td>2019-10-07</td>\n",
       "      <td>1</td>\n",
       "      <td>C</td>\n",
       "    </tr>\n",
       "    <tr>\n",
       "      <th>11</th>\n",
       "      <td>2019-10-07 00:02:06.225301</td>\n",
       "      <td>tips_show</td>\n",
       "      <td>cf7eda61-9349-469f-ac27-e5b6f5ec475c</td>\n",
       "      <td>2019-10-07</td>\n",
       "      <td>2</td>\n",
       "      <td>C</td>\n",
       "    </tr>\n",
       "    <tr>\n",
       "      <th>12</th>\n",
       "      <td>2019-10-07 00:02:07.374346</td>\n",
       "      <td>tips_show</td>\n",
       "      <td>8c356c42-3ba9-4cb6-80b8-3f868d0192c3</td>\n",
       "      <td>2019-10-07</td>\n",
       "      <td>3</td>\n",
       "      <td>C</td>\n",
       "    </tr>\n",
       "    <tr>\n",
       "      <th>14</th>\n",
       "      <td>2019-10-07 00:02:30.856380</td>\n",
       "      <td>tips_show</td>\n",
       "      <td>020292ab-89bc-4156-9acf-68bc2783f894</td>\n",
       "      <td>2019-10-07</td>\n",
       "      <td>1</td>\n",
       "      <td>C</td>\n",
       "    </tr>\n",
       "    <tr>\n",
       "      <th>17</th>\n",
       "      <td>2019-10-07 00:03:02.305654</td>\n",
       "      <td>tips_show</td>\n",
       "      <td>020292ab-89bc-4156-9acf-68bc2783f894</td>\n",
       "      <td>2019-10-07</td>\n",
       "      <td>1</td>\n",
       "      <td>C</td>\n",
       "    </tr>\n",
       "    <tr>\n",
       "      <th>18</th>\n",
       "      <td>2019-10-07 00:03:09.962898</td>\n",
       "      <td>tips_show</td>\n",
       "      <td>cf7eda61-9349-469f-ac27-e5b6f5ec475c</td>\n",
       "      <td>2019-10-07</td>\n",
       "      <td>2</td>\n",
       "      <td>C</td>\n",
       "    </tr>\n",
       "    <tr>\n",
       "      <th>21</th>\n",
       "      <td>2019-10-07 00:04:38.289881</td>\n",
       "      <td>tips_show</td>\n",
       "      <td>020292ab-89bc-4156-9acf-68bc2783f894</td>\n",
       "      <td>2019-10-07</td>\n",
       "      <td>1</td>\n",
       "      <td>C</td>\n",
       "    </tr>\n",
       "    <tr>\n",
       "      <th>23</th>\n",
       "      <td>2019-10-07 00:05:11.988524</td>\n",
       "      <td>tips_show</td>\n",
       "      <td>020292ab-89bc-4156-9acf-68bc2783f894</td>\n",
       "      <td>2019-10-07</td>\n",
       "      <td>1</td>\n",
       "      <td>C</td>\n",
       "    </tr>\n",
       "    <tr>\n",
       "      <th>24</th>\n",
       "      <td>2019-10-07 00:05:16.003328</td>\n",
       "      <td>show_contacts</td>\n",
       "      <td>8c356c42-3ba9-4cb6-80b8-3f868d0192c3</td>\n",
       "      <td>2019-10-07</td>\n",
       "      <td>3</td>\n",
       "      <td>C</td>\n",
       "    </tr>\n",
       "    <tr>\n",
       "      <th>28</th>\n",
       "      <td>2019-10-07 00:06:01.349291</td>\n",
       "      <td>tips_show</td>\n",
       "      <td>8c356c42-3ba9-4cb6-80b8-3f868d0192c3</td>\n",
       "      <td>2019-10-07</td>\n",
       "      <td>3</td>\n",
       "      <td>C</td>\n",
       "    </tr>\n",
       "    <tr>\n",
       "      <th>30</th>\n",
       "      <td>2019-10-07 00:06:08.545354</td>\n",
       "      <td>tips_show</td>\n",
       "      <td>cf7eda61-9349-469f-ac27-e5b6f5ec475c</td>\n",
       "      <td>2019-10-07</td>\n",
       "      <td>2</td>\n",
       "      <td>C</td>\n",
       "    </tr>\n",
       "    <tr>\n",
       "      <th>31</th>\n",
       "      <td>2019-10-07 00:06:13.328861</td>\n",
       "      <td>tips_show</td>\n",
       "      <td>020292ab-89bc-4156-9acf-68bc2783f894</td>\n",
       "      <td>2019-10-07</td>\n",
       "      <td>1</td>\n",
       "      <td>C</td>\n",
       "    </tr>\n",
       "    <tr>\n",
       "      <th>32</th>\n",
       "      <td>2019-10-07 00:06:56.367054</td>\n",
       "      <td>tips_show</td>\n",
       "      <td>8c356c42-3ba9-4cb6-80b8-3f868d0192c3</td>\n",
       "      <td>2019-10-07</td>\n",
       "      <td>3</td>\n",
       "      <td>C</td>\n",
       "    </tr>\n",
       "    <tr>\n",
       "      <th>34</th>\n",
       "      <td>2019-10-07 00:08:59.739192</td>\n",
       "      <td>tips_show</td>\n",
       "      <td>020292ab-89bc-4156-9acf-68bc2783f894</td>\n",
       "      <td>2019-10-07</td>\n",
       "      <td>1</td>\n",
       "      <td>C</td>\n",
       "    </tr>\n",
       "    <tr>\n",
       "      <th>35</th>\n",
       "      <td>2019-10-07 00:09:24.585200</td>\n",
       "      <td>tips_show</td>\n",
       "      <td>8c356c42-3ba9-4cb6-80b8-3f868d0192c3</td>\n",
       "      <td>2019-10-07</td>\n",
       "      <td>3</td>\n",
       "      <td>C</td>\n",
       "    </tr>\n",
       "  </tbody>\n",
       "</table>\n",
       "</div>"
      ],
      "text/plain": [
       "                   event_time     event_name  \\\n",
       "1  2019-10-07 00:00:01.236320      tips_show   \n",
       "2  2019-10-07 00:00:02.245341      tips_show   \n",
       "3  2019-10-07 00:00:07.039334      tips_show   \n",
       "5  2019-10-07 00:01:19.993624      tips_show   \n",
       "7  2019-10-07 00:01:34.804591      tips_show   \n",
       "10 2019-10-07 00:02:01.354436      tips_show   \n",
       "11 2019-10-07 00:02:06.225301      tips_show   \n",
       "12 2019-10-07 00:02:07.374346      tips_show   \n",
       "14 2019-10-07 00:02:30.856380      tips_show   \n",
       "17 2019-10-07 00:03:02.305654      tips_show   \n",
       "18 2019-10-07 00:03:09.962898      tips_show   \n",
       "21 2019-10-07 00:04:38.289881      tips_show   \n",
       "23 2019-10-07 00:05:11.988524      tips_show   \n",
       "24 2019-10-07 00:05:16.003328  show_contacts   \n",
       "28 2019-10-07 00:06:01.349291      tips_show   \n",
       "30 2019-10-07 00:06:08.545354      tips_show   \n",
       "31 2019-10-07 00:06:13.328861      tips_show   \n",
       "32 2019-10-07 00:06:56.367054      tips_show   \n",
       "34 2019-10-07 00:08:59.739192      tips_show   \n",
       "35 2019-10-07 00:09:24.585200      tips_show   \n",
       "\n",
       "                                 user_id         dt  session_id category  \n",
       "1   020292ab-89bc-4156-9acf-68bc2783f894 2019-10-07           1        C  \n",
       "2   cf7eda61-9349-469f-ac27-e5b6f5ec475c 2019-10-07           2        C  \n",
       "3   020292ab-89bc-4156-9acf-68bc2783f894 2019-10-07           1        C  \n",
       "5   cf7eda61-9349-469f-ac27-e5b6f5ec475c 2019-10-07           2        C  \n",
       "7   020292ab-89bc-4156-9acf-68bc2783f894 2019-10-07           1        C  \n",
       "10  020292ab-89bc-4156-9acf-68bc2783f894 2019-10-07           1        C  \n",
       "11  cf7eda61-9349-469f-ac27-e5b6f5ec475c 2019-10-07           2        C  \n",
       "12  8c356c42-3ba9-4cb6-80b8-3f868d0192c3 2019-10-07           3        C  \n",
       "14  020292ab-89bc-4156-9acf-68bc2783f894 2019-10-07           1        C  \n",
       "17  020292ab-89bc-4156-9acf-68bc2783f894 2019-10-07           1        C  \n",
       "18  cf7eda61-9349-469f-ac27-e5b6f5ec475c 2019-10-07           2        C  \n",
       "21  020292ab-89bc-4156-9acf-68bc2783f894 2019-10-07           1        C  \n",
       "23  020292ab-89bc-4156-9acf-68bc2783f894 2019-10-07           1        C  \n",
       "24  8c356c42-3ba9-4cb6-80b8-3f868d0192c3 2019-10-07           3        C  \n",
       "28  8c356c42-3ba9-4cb6-80b8-3f868d0192c3 2019-10-07           3        C  \n",
       "30  cf7eda61-9349-469f-ac27-e5b6f5ec475c 2019-10-07           2        C  \n",
       "31  020292ab-89bc-4156-9acf-68bc2783f894 2019-10-07           1        C  \n",
       "32  8c356c42-3ba9-4cb6-80b8-3f868d0192c3 2019-10-07           3        C  \n",
       "34  020292ab-89bc-4156-9acf-68bc2783f894 2019-10-07           1        C  \n",
       "35  8c356c42-3ba9-4cb6-80b8-3f868d0192c3 2019-10-07           3        C  "
      ]
     },
     "metadata": {},
     "output_type": "display_data"
    }
   ],
   "source": [
    "#находим пользователей совершивших одно из действий \"tips_click\", \"show_contacts\" или \"tips_show\"\n",
    "time1 = mobile_dataset_copy.query('event_name in [\"tips_click\", \"show_contacts\", \"tips_show\"]')\n",
    "display(time1.head(20))"
   ]
  },
  {
   "cell_type": "code",
   "execution_count": 54,
   "metadata": {},
   "outputs": [
    {
     "data": {
      "text/html": [
       "<div>\n",
       "<style scoped>\n",
       "    .dataframe tbody tr th:only-of-type {\n",
       "        vertical-align: middle;\n",
       "    }\n",
       "\n",
       "    .dataframe tbody tr th {\n",
       "        vertical-align: top;\n",
       "    }\n",
       "\n",
       "    .dataframe thead th {\n",
       "        text-align: right;\n",
       "    }\n",
       "</style>\n",
       "<table border=\"1\" class=\"dataframe\">\n",
       "  <thead>\n",
       "    <tr style=\"text-align: right;\">\n",
       "      <th></th>\n",
       "      <th>event_time</th>\n",
       "      <th>event_name</th>\n",
       "      <th>user_id</th>\n",
       "      <th>dt</th>\n",
       "      <th>session_id</th>\n",
       "      <th>category</th>\n",
       "    </tr>\n",
       "  </thead>\n",
       "  <tbody>\n",
       "    <tr>\n",
       "      <th>12</th>\n",
       "      <td>2019-10-07 00:02:07.374346</td>\n",
       "      <td>tips_show</td>\n",
       "      <td>8c356c42-3ba9-4cb6-80b8-3f868d0192c3</td>\n",
       "      <td>2019-10-07</td>\n",
       "      <td>3</td>\n",
       "      <td>C</td>\n",
       "    </tr>\n",
       "    <tr>\n",
       "      <th>24</th>\n",
       "      <td>2019-10-07 00:05:16.003328</td>\n",
       "      <td>show_contacts</td>\n",
       "      <td>8c356c42-3ba9-4cb6-80b8-3f868d0192c3</td>\n",
       "      <td>2019-10-07</td>\n",
       "      <td>3</td>\n",
       "      <td>C</td>\n",
       "    </tr>\n",
       "    <tr>\n",
       "      <th>28</th>\n",
       "      <td>2019-10-07 00:06:01.349291</td>\n",
       "      <td>tips_show</td>\n",
       "      <td>8c356c42-3ba9-4cb6-80b8-3f868d0192c3</td>\n",
       "      <td>2019-10-07</td>\n",
       "      <td>3</td>\n",
       "      <td>C</td>\n",
       "    </tr>\n",
       "    <tr>\n",
       "      <th>32</th>\n",
       "      <td>2019-10-07 00:06:56.367054</td>\n",
       "      <td>tips_show</td>\n",
       "      <td>8c356c42-3ba9-4cb6-80b8-3f868d0192c3</td>\n",
       "      <td>2019-10-07</td>\n",
       "      <td>3</td>\n",
       "      <td>C</td>\n",
       "    </tr>\n",
       "    <tr>\n",
       "      <th>35</th>\n",
       "      <td>2019-10-07 00:09:24.585200</td>\n",
       "      <td>tips_show</td>\n",
       "      <td>8c356c42-3ba9-4cb6-80b8-3f868d0192c3</td>\n",
       "      <td>2019-10-07</td>\n",
       "      <td>3</td>\n",
       "      <td>C</td>\n",
       "    </tr>\n",
       "    <tr>\n",
       "      <th>...</th>\n",
       "      <td>...</td>\n",
       "      <td>...</td>\n",
       "      <td>...</td>\n",
       "      <td>...</td>\n",
       "      <td>...</td>\n",
       "      <td>...</td>\n",
       "    </tr>\n",
       "    <tr>\n",
       "      <th>74191</th>\n",
       "      <td>2019-11-03 23:53:24.962860</td>\n",
       "      <td>tips_show</td>\n",
       "      <td>28fccdf4-7b9e-42f5-bc73-439a265f20e9</td>\n",
       "      <td>2019-11-03</td>\n",
       "      <td>10958</td>\n",
       "      <td>C</td>\n",
       "    </tr>\n",
       "    <tr>\n",
       "      <th>74192</th>\n",
       "      <td>2019-11-03 23:53:29.534986</td>\n",
       "      <td>tips_show</td>\n",
       "      <td>28fccdf4-7b9e-42f5-bc73-439a265f20e9</td>\n",
       "      <td>2019-11-03</td>\n",
       "      <td>10958</td>\n",
       "      <td>C</td>\n",
       "    </tr>\n",
       "    <tr>\n",
       "      <th>74193</th>\n",
       "      <td>2019-11-03 23:54:00.407086</td>\n",
       "      <td>tips_show</td>\n",
       "      <td>28fccdf4-7b9e-42f5-bc73-439a265f20e9</td>\n",
       "      <td>2019-11-03</td>\n",
       "      <td>10958</td>\n",
       "      <td>C</td>\n",
       "    </tr>\n",
       "    <tr>\n",
       "      <th>74195</th>\n",
       "      <td>2019-11-03 23:57:06.232189</td>\n",
       "      <td>tips_show</td>\n",
       "      <td>28fccdf4-7b9e-42f5-bc73-439a265f20e9</td>\n",
       "      <td>2019-11-03</td>\n",
       "      <td>10958</td>\n",
       "      <td>C</td>\n",
       "    </tr>\n",
       "    <tr>\n",
       "      <th>74196</th>\n",
       "      <td>2019-11-03 23:58:12.532487</td>\n",
       "      <td>tips_show</td>\n",
       "      <td>28fccdf4-7b9e-42f5-bc73-439a265f20e9</td>\n",
       "      <td>2019-11-03</td>\n",
       "      <td>10958</td>\n",
       "      <td>C</td>\n",
       "    </tr>\n",
       "  </tbody>\n",
       "</table>\n",
       "<p>1411 rows × 6 columns</p>\n",
       "</div>"
      ],
      "text/plain": [
       "                      event_time     event_name  \\\n",
       "12    2019-10-07 00:02:07.374346      tips_show   \n",
       "24    2019-10-07 00:05:16.003328  show_contacts   \n",
       "28    2019-10-07 00:06:01.349291      tips_show   \n",
       "32    2019-10-07 00:06:56.367054      tips_show   \n",
       "35    2019-10-07 00:09:24.585200      tips_show   \n",
       "...                          ...            ...   \n",
       "74191 2019-11-03 23:53:24.962860      tips_show   \n",
       "74192 2019-11-03 23:53:29.534986      tips_show   \n",
       "74193 2019-11-03 23:54:00.407086      tips_show   \n",
       "74195 2019-11-03 23:57:06.232189      tips_show   \n",
       "74196 2019-11-03 23:58:12.532487      tips_show   \n",
       "\n",
       "                                    user_id         dt  session_id category  \n",
       "12     8c356c42-3ba9-4cb6-80b8-3f868d0192c3 2019-10-07           3        C  \n",
       "24     8c356c42-3ba9-4cb6-80b8-3f868d0192c3 2019-10-07           3        C  \n",
       "28     8c356c42-3ba9-4cb6-80b8-3f868d0192c3 2019-10-07           3        C  \n",
       "32     8c356c42-3ba9-4cb6-80b8-3f868d0192c3 2019-10-07           3        C  \n",
       "35     8c356c42-3ba9-4cb6-80b8-3f868d0192c3 2019-10-07           3        C  \n",
       "...                                     ...        ...         ...      ...  \n",
       "74191  28fccdf4-7b9e-42f5-bc73-439a265f20e9 2019-11-03       10958        C  \n",
       "74192  28fccdf4-7b9e-42f5-bc73-439a265f20e9 2019-11-03       10958        C  \n",
       "74193  28fccdf4-7b9e-42f5-bc73-439a265f20e9 2019-11-03       10958        C  \n",
       "74195  28fccdf4-7b9e-42f5-bc73-439a265f20e9 2019-11-03       10958        C  \n",
       "74196  28fccdf4-7b9e-42f5-bc73-439a265f20e9 2019-11-03       10958        C  \n",
       "\n",
       "[1411 rows x 6 columns]"
      ]
     },
     "execution_count": 54,
     "metadata": {},
     "output_type": "execute_result"
    }
   ],
   "source": [
    "#найдем сессии в которых совершены все 3 действия\n",
    "time2 = time1.pivot_table(index='event_name', columns='session_id', values='event_time', aggfunc='min').reset_index().rename_axis(None, axis=1)\n",
    "time2 = time2.dropna(axis=1)\n",
    "#создадим список сессий\n",
    "col = time2.columns\n",
    "#создадим таблицу с сессиями, в которых совершены все 3 действия\n",
    "time3 = time1.query('session_id in @col')\n",
    "time3"
   ]
  },
  {
   "cell_type": "code",
   "execution_count": 55,
   "metadata": {},
   "outputs": [],
   "source": [
    "#найдем сессии, в которых действие show_contacts идет после tips_click\n",
    "a = []\n",
    "for i in time3['session_id'].unique():\n",
    "    session = time3.query('session_id == @i').reset_index()\n",
    "    for j in range(1, len(session)):\n",
    "        if session.loc[j-1, 'event_name'] == 'tips_click' and session.loc[j, 'event_name'] == 'show_contacts':\n",
    "            a.append(i)"
   ]
  },
  {
   "cell_type": "code",
   "execution_count": 56,
   "metadata": {},
   "outputs": [
    {
     "data": {
      "text/html": [
       "<div>\n",
       "<style scoped>\n",
       "    .dataframe tbody tr th:only-of-type {\n",
       "        vertical-align: middle;\n",
       "    }\n",
       "\n",
       "    .dataframe tbody tr th {\n",
       "        vertical-align: top;\n",
       "    }\n",
       "\n",
       "    .dataframe thead th {\n",
       "        text-align: right;\n",
       "    }\n",
       "</style>\n",
       "<table border=\"1\" class=\"dataframe\">\n",
       "  <thead>\n",
       "    <tr style=\"text-align: right;\">\n",
       "      <th></th>\n",
       "      <th>event_time</th>\n",
       "      <th>event_name</th>\n",
       "      <th>user_id</th>\n",
       "      <th>dt</th>\n",
       "      <th>session_id</th>\n",
       "      <th>category</th>\n",
       "    </tr>\n",
       "  </thead>\n",
       "  <tbody>\n",
       "    <tr>\n",
       "      <th>5386</th>\n",
       "      <td>2019-10-09 10:19:17.425058</td>\n",
       "      <td>tips_show</td>\n",
       "      <td>2aefc667-34b3-43f1-bd19-da65c4435bf1</td>\n",
       "      <td>2019-10-09</td>\n",
       "      <td>610</td>\n",
       "      <td>C</td>\n",
       "    </tr>\n",
       "    <tr>\n",
       "      <th>5390</th>\n",
       "      <td>2019-10-09 10:19:49.061125</td>\n",
       "      <td>tips_click</td>\n",
       "      <td>2aefc667-34b3-43f1-bd19-da65c4435bf1</td>\n",
       "      <td>2019-10-09</td>\n",
       "      <td>610</td>\n",
       "      <td>C</td>\n",
       "    </tr>\n",
       "    <tr>\n",
       "      <th>5391</th>\n",
       "      <td>2019-10-09 10:19:54.981493</td>\n",
       "      <td>tips_show</td>\n",
       "      <td>2aefc667-34b3-43f1-bd19-da65c4435bf1</td>\n",
       "      <td>2019-10-09</td>\n",
       "      <td>610</td>\n",
       "      <td>C</td>\n",
       "    </tr>\n",
       "    <tr>\n",
       "      <th>5396</th>\n",
       "      <td>2019-10-09 10:20:48.720828</td>\n",
       "      <td>show_contacts</td>\n",
       "      <td>2aefc667-34b3-43f1-bd19-da65c4435bf1</td>\n",
       "      <td>2019-10-09</td>\n",
       "      <td>610</td>\n",
       "      <td>C</td>\n",
       "    </tr>\n",
       "    <tr>\n",
       "      <th>5399</th>\n",
       "      <td>2019-10-09 10:22:25.819201</td>\n",
       "      <td>tips_click</td>\n",
       "      <td>2aefc667-34b3-43f1-bd19-da65c4435bf1</td>\n",
       "      <td>2019-10-09</td>\n",
       "      <td>610</td>\n",
       "      <td>C</td>\n",
       "    </tr>\n",
       "    <tr>\n",
       "      <th>5401</th>\n",
       "      <td>2019-10-09 10:22:31.779342</td>\n",
       "      <td>tips_show</td>\n",
       "      <td>2aefc667-34b3-43f1-bd19-da65c4435bf1</td>\n",
       "      <td>2019-10-09</td>\n",
       "      <td>610</td>\n",
       "      <td>C</td>\n",
       "    </tr>\n",
       "    <tr>\n",
       "      <th>5402</th>\n",
       "      <td>2019-10-09 10:22:49.827333</td>\n",
       "      <td>show_contacts</td>\n",
       "      <td>2aefc667-34b3-43f1-bd19-da65c4435bf1</td>\n",
       "      <td>2019-10-09</td>\n",
       "      <td>610</td>\n",
       "      <td>C</td>\n",
       "    </tr>\n",
       "    <tr>\n",
       "      <th>5411</th>\n",
       "      <td>2019-10-09 10:24:29.363988</td>\n",
       "      <td>tips_click</td>\n",
       "      <td>2aefc667-34b3-43f1-bd19-da65c4435bf1</td>\n",
       "      <td>2019-10-09</td>\n",
       "      <td>610</td>\n",
       "      <td>C</td>\n",
       "    </tr>\n",
       "    <tr>\n",
       "      <th>5412</th>\n",
       "      <td>2019-10-09 10:24:33.718640</td>\n",
       "      <td>show_contacts</td>\n",
       "      <td>2aefc667-34b3-43f1-bd19-da65c4435bf1</td>\n",
       "      <td>2019-10-09</td>\n",
       "      <td>610</td>\n",
       "      <td>C</td>\n",
       "    </tr>\n",
       "    <tr>\n",
       "      <th>5413</th>\n",
       "      <td>2019-10-09 10:24:35.223573</td>\n",
       "      <td>tips_show</td>\n",
       "      <td>2aefc667-34b3-43f1-bd19-da65c4435bf1</td>\n",
       "      <td>2019-10-09</td>\n",
       "      <td>610</td>\n",
       "      <td>C</td>\n",
       "    </tr>\n",
       "    <tr>\n",
       "      <th>5430</th>\n",
       "      <td>2019-10-09 10:28:40.911947</td>\n",
       "      <td>tips_show</td>\n",
       "      <td>2aefc667-34b3-43f1-bd19-da65c4435bf1</td>\n",
       "      <td>2019-10-09</td>\n",
       "      <td>610</td>\n",
       "      <td>C</td>\n",
       "    </tr>\n",
       "    <tr>\n",
       "      <th>5440</th>\n",
       "      <td>2019-10-09 10:29:41.638988</td>\n",
       "      <td>show_contacts</td>\n",
       "      <td>2aefc667-34b3-43f1-bd19-da65c4435bf1</td>\n",
       "      <td>2019-10-09</td>\n",
       "      <td>610</td>\n",
       "      <td>C</td>\n",
       "    </tr>\n",
       "    <tr>\n",
       "      <th>6490</th>\n",
       "      <td>2019-10-09 17:47:22.984044</td>\n",
       "      <td>tips_show</td>\n",
       "      <td>bb750ccf-50f4-4c78-acea-c393d80da318</td>\n",
       "      <td>2019-10-09</td>\n",
       "      <td>758</td>\n",
       "      <td>B</td>\n",
       "    </tr>\n",
       "    <tr>\n",
       "      <th>6502</th>\n",
       "      <td>2019-10-09 17:52:45.643372</td>\n",
       "      <td>tips_show</td>\n",
       "      <td>bb750ccf-50f4-4c78-acea-c393d80da318</td>\n",
       "      <td>2019-10-09</td>\n",
       "      <td>758</td>\n",
       "      <td>B</td>\n",
       "    </tr>\n",
       "    <tr>\n",
       "      <th>6505</th>\n",
       "      <td>2019-10-09 17:53:54.422873</td>\n",
       "      <td>tips_click</td>\n",
       "      <td>bb750ccf-50f4-4c78-acea-c393d80da318</td>\n",
       "      <td>2019-10-09</td>\n",
       "      <td>758</td>\n",
       "      <td>B</td>\n",
       "    </tr>\n",
       "    <tr>\n",
       "      <th>6512</th>\n",
       "      <td>2019-10-09 17:59:15.775622</td>\n",
       "      <td>show_contacts</td>\n",
       "      <td>bb750ccf-50f4-4c78-acea-c393d80da318</td>\n",
       "      <td>2019-10-09</td>\n",
       "      <td>758</td>\n",
       "      <td>B</td>\n",
       "    </tr>\n",
       "    <tr>\n",
       "      <th>6520</th>\n",
       "      <td>2019-10-09 18:07:46.235440</td>\n",
       "      <td>tips_show</td>\n",
       "      <td>bb750ccf-50f4-4c78-acea-c393d80da318</td>\n",
       "      <td>2019-10-09</td>\n",
       "      <td>758</td>\n",
       "      <td>B</td>\n",
       "    </tr>\n",
       "    <tr>\n",
       "      <th>6522</th>\n",
       "      <td>2019-10-09 18:08:25.514523</td>\n",
       "      <td>tips_click</td>\n",
       "      <td>bb750ccf-50f4-4c78-acea-c393d80da318</td>\n",
       "      <td>2019-10-09</td>\n",
       "      <td>758</td>\n",
       "      <td>B</td>\n",
       "    </tr>\n",
       "    <tr>\n",
       "      <th>6523</th>\n",
       "      <td>2019-10-09 18:08:45.773316</td>\n",
       "      <td>tips_show</td>\n",
       "      <td>bb750ccf-50f4-4c78-acea-c393d80da318</td>\n",
       "      <td>2019-10-09</td>\n",
       "      <td>758</td>\n",
       "      <td>B</td>\n",
       "    </tr>\n",
       "    <tr>\n",
       "      <th>6525</th>\n",
       "      <td>2019-10-09 18:14:07.525295</td>\n",
       "      <td>show_contacts</td>\n",
       "      <td>bb750ccf-50f4-4c78-acea-c393d80da318</td>\n",
       "      <td>2019-10-09</td>\n",
       "      <td>758</td>\n",
       "      <td>B</td>\n",
       "    </tr>\n",
       "    <tr>\n",
       "      <th>6526</th>\n",
       "      <td>2019-10-09 18:18:13.834090</td>\n",
       "      <td>tips_show</td>\n",
       "      <td>bb750ccf-50f4-4c78-acea-c393d80da318</td>\n",
       "      <td>2019-10-09</td>\n",
       "      <td>758</td>\n",
       "      <td>B</td>\n",
       "    </tr>\n",
       "    <tr>\n",
       "      <th>6529</th>\n",
       "      <td>2019-10-09 18:25:31.955862</td>\n",
       "      <td>tips_show</td>\n",
       "      <td>bb750ccf-50f4-4c78-acea-c393d80da318</td>\n",
       "      <td>2019-10-09</td>\n",
       "      <td>758</td>\n",
       "      <td>B</td>\n",
       "    </tr>\n",
       "    <tr>\n",
       "      <th>6534</th>\n",
       "      <td>2019-10-09 18:29:56.665647</td>\n",
       "      <td>tips_show</td>\n",
       "      <td>bb750ccf-50f4-4c78-acea-c393d80da318</td>\n",
       "      <td>2019-10-09</td>\n",
       "      <td>758</td>\n",
       "      <td>B</td>\n",
       "    </tr>\n",
       "    <tr>\n",
       "      <th>6548</th>\n",
       "      <td>2019-10-09 18:35:45.864348</td>\n",
       "      <td>tips_show</td>\n",
       "      <td>bb750ccf-50f4-4c78-acea-c393d80da318</td>\n",
       "      <td>2019-10-09</td>\n",
       "      <td>758</td>\n",
       "      <td>B</td>\n",
       "    </tr>\n",
       "    <tr>\n",
       "      <th>6553</th>\n",
       "      <td>2019-10-09 18:37:02.273520</td>\n",
       "      <td>show_contacts</td>\n",
       "      <td>bb750ccf-50f4-4c78-acea-c393d80da318</td>\n",
       "      <td>2019-10-09</td>\n",
       "      <td>758</td>\n",
       "      <td>B</td>\n",
       "    </tr>\n",
       "    <tr>\n",
       "      <th>6554</th>\n",
       "      <td>2019-10-09 18:37:04.393735</td>\n",
       "      <td>tips_show</td>\n",
       "      <td>bb750ccf-50f4-4c78-acea-c393d80da318</td>\n",
       "      <td>2019-10-09</td>\n",
       "      <td>758</td>\n",
       "      <td>B</td>\n",
       "    </tr>\n",
       "    <tr>\n",
       "      <th>50741</th>\n",
       "      <td>2019-10-26 18:49:54.587205</td>\n",
       "      <td>tips_show</td>\n",
       "      <td>e99a617a-da12-4052-8eda-19c631879267</td>\n",
       "      <td>2019-10-26</td>\n",
       "      <td>7339</td>\n",
       "      <td>C</td>\n",
       "    </tr>\n",
       "    <tr>\n",
       "      <th>50748</th>\n",
       "      <td>2019-10-26 18:53:27.653534</td>\n",
       "      <td>tips_show</td>\n",
       "      <td>e99a617a-da12-4052-8eda-19c631879267</td>\n",
       "      <td>2019-10-26</td>\n",
       "      <td>7339</td>\n",
       "      <td>C</td>\n",
       "    </tr>\n",
       "    <tr>\n",
       "      <th>50750</th>\n",
       "      <td>2019-10-26 18:54:32.480612</td>\n",
       "      <td>tips_click</td>\n",
       "      <td>e99a617a-da12-4052-8eda-19c631879267</td>\n",
       "      <td>2019-10-26</td>\n",
       "      <td>7339</td>\n",
       "      <td>C</td>\n",
       "    </tr>\n",
       "    <tr>\n",
       "      <th>50753</th>\n",
       "      <td>2019-10-26 18:55:25.879027</td>\n",
       "      <td>show_contacts</td>\n",
       "      <td>e99a617a-da12-4052-8eda-19c631879267</td>\n",
       "      <td>2019-10-26</td>\n",
       "      <td>7339</td>\n",
       "      <td>C</td>\n",
       "    </tr>\n",
       "    <tr>\n",
       "      <th>50760</th>\n",
       "      <td>2019-10-26 18:56:55.124407</td>\n",
       "      <td>tips_click</td>\n",
       "      <td>e99a617a-da12-4052-8eda-19c631879267</td>\n",
       "      <td>2019-10-26</td>\n",
       "      <td>7339</td>\n",
       "      <td>C</td>\n",
       "    </tr>\n",
       "    <tr>\n",
       "      <th>50761</th>\n",
       "      <td>2019-10-26 18:57:17.428457</td>\n",
       "      <td>tips_show</td>\n",
       "      <td>e99a617a-da12-4052-8eda-19c631879267</td>\n",
       "      <td>2019-10-26</td>\n",
       "      <td>7339</td>\n",
       "      <td>C</td>\n",
       "    </tr>\n",
       "    <tr>\n",
       "      <th>50783</th>\n",
       "      <td>2019-10-26 19:01:58.066283</td>\n",
       "      <td>tips_show</td>\n",
       "      <td>e99a617a-da12-4052-8eda-19c631879267</td>\n",
       "      <td>2019-10-26</td>\n",
       "      <td>7339</td>\n",
       "      <td>C</td>\n",
       "    </tr>\n",
       "    <tr>\n",
       "      <th>50809</th>\n",
       "      <td>2019-10-26 19:06:56.417070</td>\n",
       "      <td>tips_show</td>\n",
       "      <td>e99a617a-da12-4052-8eda-19c631879267</td>\n",
       "      <td>2019-10-26</td>\n",
       "      <td>7339</td>\n",
       "      <td>C</td>\n",
       "    </tr>\n",
       "    <tr>\n",
       "      <th>50828</th>\n",
       "      <td>2019-10-26 19:17:11.020999</td>\n",
       "      <td>tips_show</td>\n",
       "      <td>e99a617a-da12-4052-8eda-19c631879267</td>\n",
       "      <td>2019-10-26</td>\n",
       "      <td>7339</td>\n",
       "      <td>C</td>\n",
       "    </tr>\n",
       "    <tr>\n",
       "      <th>50834</th>\n",
       "      <td>2019-10-26 19:18:14.435577</td>\n",
       "      <td>tips_show</td>\n",
       "      <td>e99a617a-da12-4052-8eda-19c631879267</td>\n",
       "      <td>2019-10-26</td>\n",
       "      <td>7339</td>\n",
       "      <td>C</td>\n",
       "    </tr>\n",
       "    <tr>\n",
       "      <th>50839</th>\n",
       "      <td>2019-10-26 19:19:39.545339</td>\n",
       "      <td>tips_show</td>\n",
       "      <td>e99a617a-da12-4052-8eda-19c631879267</td>\n",
       "      <td>2019-10-26</td>\n",
       "      <td>7339</td>\n",
       "      <td>C</td>\n",
       "    </tr>\n",
       "    <tr>\n",
       "      <th>71257</th>\n",
       "      <td>2019-11-02 23:11:21.603560</td>\n",
       "      <td>tips_click</td>\n",
       "      <td>79dd8172-1684-4012-9083-613b292eaace</td>\n",
       "      <td>2019-11-02</td>\n",
       "      <td>10552</td>\n",
       "      <td>A</td>\n",
       "    </tr>\n",
       "    <tr>\n",
       "      <th>71264</th>\n",
       "      <td>2019-11-02 23:22:35.605692</td>\n",
       "      <td>tips_click</td>\n",
       "      <td>79dd8172-1684-4012-9083-613b292eaace</td>\n",
       "      <td>2019-11-02</td>\n",
       "      <td>10552</td>\n",
       "      <td>A</td>\n",
       "    </tr>\n",
       "    <tr>\n",
       "      <th>71269</th>\n",
       "      <td>2019-11-02 23:23:34.607541</td>\n",
       "      <td>tips_click</td>\n",
       "      <td>79dd8172-1684-4012-9083-613b292eaace</td>\n",
       "      <td>2019-11-02</td>\n",
       "      <td>10552</td>\n",
       "      <td>A</td>\n",
       "    </tr>\n",
       "    <tr>\n",
       "      <th>71285</th>\n",
       "      <td>2019-11-02 23:28:38.135154</td>\n",
       "      <td>show_contacts</td>\n",
       "      <td>79dd8172-1684-4012-9083-613b292eaace</td>\n",
       "      <td>2019-11-02</td>\n",
       "      <td>10552</td>\n",
       "      <td>A</td>\n",
       "    </tr>\n",
       "    <tr>\n",
       "      <th>71287</th>\n",
       "      <td>2019-11-02 23:29:20.019946</td>\n",
       "      <td>show_contacts</td>\n",
       "      <td>79dd8172-1684-4012-9083-613b292eaace</td>\n",
       "      <td>2019-11-02</td>\n",
       "      <td>10552</td>\n",
       "      <td>A</td>\n",
       "    </tr>\n",
       "    <tr>\n",
       "      <th>71292</th>\n",
       "      <td>2019-11-02 23:30:40.273831</td>\n",
       "      <td>show_contacts</td>\n",
       "      <td>79dd8172-1684-4012-9083-613b292eaace</td>\n",
       "      <td>2019-11-02</td>\n",
       "      <td>10552</td>\n",
       "      <td>A</td>\n",
       "    </tr>\n",
       "    <tr>\n",
       "      <th>71330</th>\n",
       "      <td>2019-11-02 23:53:07.419748</td>\n",
       "      <td>show_contacts</td>\n",
       "      <td>79dd8172-1684-4012-9083-613b292eaace</td>\n",
       "      <td>2019-11-02</td>\n",
       "      <td>10552</td>\n",
       "      <td>A</td>\n",
       "    </tr>\n",
       "    <tr>\n",
       "      <th>71345</th>\n",
       "      <td>2019-11-03 00:12:45.211328</td>\n",
       "      <td>tips_show</td>\n",
       "      <td>79dd8172-1684-4012-9083-613b292eaace</td>\n",
       "      <td>2019-11-03</td>\n",
       "      <td>10552</td>\n",
       "      <td>A</td>\n",
       "    </tr>\n",
       "  </tbody>\n",
       "</table>\n",
       "</div>"
      ],
      "text/plain": [
       "                      event_time     event_name  \\\n",
       "5386  2019-10-09 10:19:17.425058      tips_show   \n",
       "5390  2019-10-09 10:19:49.061125     tips_click   \n",
       "5391  2019-10-09 10:19:54.981493      tips_show   \n",
       "5396  2019-10-09 10:20:48.720828  show_contacts   \n",
       "5399  2019-10-09 10:22:25.819201     tips_click   \n",
       "5401  2019-10-09 10:22:31.779342      tips_show   \n",
       "5402  2019-10-09 10:22:49.827333  show_contacts   \n",
       "5411  2019-10-09 10:24:29.363988     tips_click   \n",
       "5412  2019-10-09 10:24:33.718640  show_contacts   \n",
       "5413  2019-10-09 10:24:35.223573      tips_show   \n",
       "5430  2019-10-09 10:28:40.911947      tips_show   \n",
       "5440  2019-10-09 10:29:41.638988  show_contacts   \n",
       "6490  2019-10-09 17:47:22.984044      tips_show   \n",
       "6502  2019-10-09 17:52:45.643372      tips_show   \n",
       "6505  2019-10-09 17:53:54.422873     tips_click   \n",
       "6512  2019-10-09 17:59:15.775622  show_contacts   \n",
       "6520  2019-10-09 18:07:46.235440      tips_show   \n",
       "6522  2019-10-09 18:08:25.514523     tips_click   \n",
       "6523  2019-10-09 18:08:45.773316      tips_show   \n",
       "6525  2019-10-09 18:14:07.525295  show_contacts   \n",
       "6526  2019-10-09 18:18:13.834090      tips_show   \n",
       "6529  2019-10-09 18:25:31.955862      tips_show   \n",
       "6534  2019-10-09 18:29:56.665647      tips_show   \n",
       "6548  2019-10-09 18:35:45.864348      tips_show   \n",
       "6553  2019-10-09 18:37:02.273520  show_contacts   \n",
       "6554  2019-10-09 18:37:04.393735      tips_show   \n",
       "50741 2019-10-26 18:49:54.587205      tips_show   \n",
       "50748 2019-10-26 18:53:27.653534      tips_show   \n",
       "50750 2019-10-26 18:54:32.480612     tips_click   \n",
       "50753 2019-10-26 18:55:25.879027  show_contacts   \n",
       "50760 2019-10-26 18:56:55.124407     tips_click   \n",
       "50761 2019-10-26 18:57:17.428457      tips_show   \n",
       "50783 2019-10-26 19:01:58.066283      tips_show   \n",
       "50809 2019-10-26 19:06:56.417070      tips_show   \n",
       "50828 2019-10-26 19:17:11.020999      tips_show   \n",
       "50834 2019-10-26 19:18:14.435577      tips_show   \n",
       "50839 2019-10-26 19:19:39.545339      tips_show   \n",
       "71257 2019-11-02 23:11:21.603560     tips_click   \n",
       "71264 2019-11-02 23:22:35.605692     tips_click   \n",
       "71269 2019-11-02 23:23:34.607541     tips_click   \n",
       "71285 2019-11-02 23:28:38.135154  show_contacts   \n",
       "71287 2019-11-02 23:29:20.019946  show_contacts   \n",
       "71292 2019-11-02 23:30:40.273831  show_contacts   \n",
       "71330 2019-11-02 23:53:07.419748  show_contacts   \n",
       "71345 2019-11-03 00:12:45.211328      tips_show   \n",
       "\n",
       "                                    user_id         dt  session_id category  \n",
       "5386   2aefc667-34b3-43f1-bd19-da65c4435bf1 2019-10-09         610        C  \n",
       "5390   2aefc667-34b3-43f1-bd19-da65c4435bf1 2019-10-09         610        C  \n",
       "5391   2aefc667-34b3-43f1-bd19-da65c4435bf1 2019-10-09         610        C  \n",
       "5396   2aefc667-34b3-43f1-bd19-da65c4435bf1 2019-10-09         610        C  \n",
       "5399   2aefc667-34b3-43f1-bd19-da65c4435bf1 2019-10-09         610        C  \n",
       "5401   2aefc667-34b3-43f1-bd19-da65c4435bf1 2019-10-09         610        C  \n",
       "5402   2aefc667-34b3-43f1-bd19-da65c4435bf1 2019-10-09         610        C  \n",
       "5411   2aefc667-34b3-43f1-bd19-da65c4435bf1 2019-10-09         610        C  \n",
       "5412   2aefc667-34b3-43f1-bd19-da65c4435bf1 2019-10-09         610        C  \n",
       "5413   2aefc667-34b3-43f1-bd19-da65c4435bf1 2019-10-09         610        C  \n",
       "5430   2aefc667-34b3-43f1-bd19-da65c4435bf1 2019-10-09         610        C  \n",
       "5440   2aefc667-34b3-43f1-bd19-da65c4435bf1 2019-10-09         610        C  \n",
       "6490   bb750ccf-50f4-4c78-acea-c393d80da318 2019-10-09         758        B  \n",
       "6502   bb750ccf-50f4-4c78-acea-c393d80da318 2019-10-09         758        B  \n",
       "6505   bb750ccf-50f4-4c78-acea-c393d80da318 2019-10-09         758        B  \n",
       "6512   bb750ccf-50f4-4c78-acea-c393d80da318 2019-10-09         758        B  \n",
       "6520   bb750ccf-50f4-4c78-acea-c393d80da318 2019-10-09         758        B  \n",
       "6522   bb750ccf-50f4-4c78-acea-c393d80da318 2019-10-09         758        B  \n",
       "6523   bb750ccf-50f4-4c78-acea-c393d80da318 2019-10-09         758        B  \n",
       "6525   bb750ccf-50f4-4c78-acea-c393d80da318 2019-10-09         758        B  \n",
       "6526   bb750ccf-50f4-4c78-acea-c393d80da318 2019-10-09         758        B  \n",
       "6529   bb750ccf-50f4-4c78-acea-c393d80da318 2019-10-09         758        B  \n",
       "6534   bb750ccf-50f4-4c78-acea-c393d80da318 2019-10-09         758        B  \n",
       "6548   bb750ccf-50f4-4c78-acea-c393d80da318 2019-10-09         758        B  \n",
       "6553   bb750ccf-50f4-4c78-acea-c393d80da318 2019-10-09         758        B  \n",
       "6554   bb750ccf-50f4-4c78-acea-c393d80da318 2019-10-09         758        B  \n",
       "50741  e99a617a-da12-4052-8eda-19c631879267 2019-10-26        7339        C  \n",
       "50748  e99a617a-da12-4052-8eda-19c631879267 2019-10-26        7339        C  \n",
       "50750  e99a617a-da12-4052-8eda-19c631879267 2019-10-26        7339        C  \n",
       "50753  e99a617a-da12-4052-8eda-19c631879267 2019-10-26        7339        C  \n",
       "50760  e99a617a-da12-4052-8eda-19c631879267 2019-10-26        7339        C  \n",
       "50761  e99a617a-da12-4052-8eda-19c631879267 2019-10-26        7339        C  \n",
       "50783  e99a617a-da12-4052-8eda-19c631879267 2019-10-26        7339        C  \n",
       "50809  e99a617a-da12-4052-8eda-19c631879267 2019-10-26        7339        C  \n",
       "50828  e99a617a-da12-4052-8eda-19c631879267 2019-10-26        7339        C  \n",
       "50834  e99a617a-da12-4052-8eda-19c631879267 2019-10-26        7339        C  \n",
       "50839  e99a617a-da12-4052-8eda-19c631879267 2019-10-26        7339        C  \n",
       "71257  79dd8172-1684-4012-9083-613b292eaace 2019-11-02       10552        A  \n",
       "71264  79dd8172-1684-4012-9083-613b292eaace 2019-11-02       10552        A  \n",
       "71269  79dd8172-1684-4012-9083-613b292eaace 2019-11-02       10552        A  \n",
       "71285  79dd8172-1684-4012-9083-613b292eaace 2019-11-02       10552        A  \n",
       "71287  79dd8172-1684-4012-9083-613b292eaace 2019-11-02       10552        A  \n",
       "71292  79dd8172-1684-4012-9083-613b292eaace 2019-11-02       10552        A  \n",
       "71330  79dd8172-1684-4012-9083-613b292eaace 2019-11-02       10552        A  \n",
       "71345  79dd8172-1684-4012-9083-613b292eaace 2019-11-03       10552        A  "
      ]
     },
     "metadata": {},
     "output_type": "display_data"
    },
    {
     "data": {
      "text/plain": [
       "4"
      ]
     },
     "execution_count": 56,
     "metadata": {},
     "output_type": "execute_result"
    }
   ],
   "source": [
    "#таблица с оставшимися сессиями\n",
    "time4 = time3.query('session_id in @a')\n",
    "display(time4)\n",
    "time4['user_id'].nunique()"
   ]
  },
  {
   "cell_type": "markdown",
   "metadata": {},
   "source": [
    "Проведенный анализ показывает неработоспособность алгоритма рекомендаций. Только 4 пользователя за одну сессию прошли путь \"увидел рекомендованное объявление - открыл рекомендованное объявление - посмотрел контакты\". "
   ]
  },
  {
   "cell_type": "markdown",
   "metadata": {},
   "source": [
    "## Проверка статистических гипотез"
   ]
  },
  {
   "cell_type": "markdown",
   "metadata": {},
   "source": [
    "Для проверки гипотез используем t-test."
   ]
  },
  {
   "cell_type": "markdown",
   "metadata": {},
   "source": [
    "**Гипотеза 1**:\n",
    "\n",
    "Нулевая гипотеза: конверсия в просмотры контактов пользователей, пришедших из google, такая же, как и у пользователей, пришедших из yandex.\n",
    "\n",
    "Альтернативная гипотеза: группы демонстрируют разную конверсию."
   ]
  },
  {
   "cell_type": "code",
   "execution_count": 57,
   "metadata": {},
   "outputs": [
    {
     "data": {
      "text/html": [
       "<div>\n",
       "<style scoped>\n",
       "    .dataframe tbody tr th:only-of-type {\n",
       "        vertical-align: middle;\n",
       "    }\n",
       "\n",
       "    .dataframe tbody tr th {\n",
       "        vertical-align: top;\n",
       "    }\n",
       "\n",
       "    .dataframe thead th {\n",
       "        text-align: right;\n",
       "    }\n",
       "</style>\n",
       "<table border=\"1\" class=\"dataframe\">\n",
       "  <thead>\n",
       "    <tr style=\"text-align: right;\">\n",
       "      <th></th>\n",
       "      <th>event_time</th>\n",
       "      <th>event_name</th>\n",
       "      <th>user_id</th>\n",
       "      <th>dt</th>\n",
       "      <th>source</th>\n",
       "    </tr>\n",
       "  </thead>\n",
       "  <tbody>\n",
       "    <tr>\n",
       "      <th>0</th>\n",
       "      <td>2019-10-07 00:00:00.431357</td>\n",
       "      <td>advert_open</td>\n",
       "      <td>020292ab-89bc-4156-9acf-68bc2783f894</td>\n",
       "      <td>2019-10-07</td>\n",
       "      <td>other</td>\n",
       "    </tr>\n",
       "    <tr>\n",
       "      <th>1</th>\n",
       "      <td>2019-10-07 00:00:01.236320</td>\n",
       "      <td>tips_show</td>\n",
       "      <td>020292ab-89bc-4156-9acf-68bc2783f894</td>\n",
       "      <td>2019-10-07</td>\n",
       "      <td>other</td>\n",
       "    </tr>\n",
       "    <tr>\n",
       "      <th>2</th>\n",
       "      <td>2019-10-07 00:00:02.245341</td>\n",
       "      <td>tips_show</td>\n",
       "      <td>cf7eda61-9349-469f-ac27-e5b6f5ec475c</td>\n",
       "      <td>2019-10-07</td>\n",
       "      <td>yandex</td>\n",
       "    </tr>\n",
       "    <tr>\n",
       "      <th>3</th>\n",
       "      <td>2019-10-07 00:00:07.039334</td>\n",
       "      <td>tips_show</td>\n",
       "      <td>020292ab-89bc-4156-9acf-68bc2783f894</td>\n",
       "      <td>2019-10-07</td>\n",
       "      <td>other</td>\n",
       "    </tr>\n",
       "    <tr>\n",
       "      <th>4</th>\n",
       "      <td>2019-10-07 00:00:56.319813</td>\n",
       "      <td>advert_open</td>\n",
       "      <td>cf7eda61-9349-469f-ac27-e5b6f5ec475c</td>\n",
       "      <td>2019-10-07</td>\n",
       "      <td>yandex</td>\n",
       "    </tr>\n",
       "    <tr>\n",
       "      <th>...</th>\n",
       "      <td>...</td>\n",
       "      <td>...</td>\n",
       "      <td>...</td>\n",
       "      <td>...</td>\n",
       "      <td>...</td>\n",
       "    </tr>\n",
       "    <tr>\n",
       "      <th>74192</th>\n",
       "      <td>2019-11-03 23:53:29.534986</td>\n",
       "      <td>tips_show</td>\n",
       "      <td>28fccdf4-7b9e-42f5-bc73-439a265f20e9</td>\n",
       "      <td>2019-11-03</td>\n",
       "      <td>google</td>\n",
       "    </tr>\n",
       "    <tr>\n",
       "      <th>74193</th>\n",
       "      <td>2019-11-03 23:54:00.407086</td>\n",
       "      <td>tips_show</td>\n",
       "      <td>28fccdf4-7b9e-42f5-bc73-439a265f20e9</td>\n",
       "      <td>2019-11-03</td>\n",
       "      <td>google</td>\n",
       "    </tr>\n",
       "    <tr>\n",
       "      <th>74194</th>\n",
       "      <td>2019-11-03 23:56:57.041825</td>\n",
       "      <td>search</td>\n",
       "      <td>20850c8f-4135-4059-b13b-198d3ac59902</td>\n",
       "      <td>2019-11-03</td>\n",
       "      <td>google</td>\n",
       "    </tr>\n",
       "    <tr>\n",
       "      <th>74195</th>\n",
       "      <td>2019-11-03 23:57:06.232189</td>\n",
       "      <td>tips_show</td>\n",
       "      <td>28fccdf4-7b9e-42f5-bc73-439a265f20e9</td>\n",
       "      <td>2019-11-03</td>\n",
       "      <td>google</td>\n",
       "    </tr>\n",
       "    <tr>\n",
       "      <th>74196</th>\n",
       "      <td>2019-11-03 23:58:12.532487</td>\n",
       "      <td>tips_show</td>\n",
       "      <td>28fccdf4-7b9e-42f5-bc73-439a265f20e9</td>\n",
       "      <td>2019-11-03</td>\n",
       "      <td>google</td>\n",
       "    </tr>\n",
       "  </tbody>\n",
       "</table>\n",
       "<p>74197 rows × 5 columns</p>\n",
       "</div>"
      ],
      "text/plain": [
       "                      event_time   event_name  \\\n",
       "0     2019-10-07 00:00:00.431357  advert_open   \n",
       "1     2019-10-07 00:00:01.236320    tips_show   \n",
       "2     2019-10-07 00:00:02.245341    tips_show   \n",
       "3     2019-10-07 00:00:07.039334    tips_show   \n",
       "4     2019-10-07 00:00:56.319813  advert_open   \n",
       "...                          ...          ...   \n",
       "74192 2019-11-03 23:53:29.534986    tips_show   \n",
       "74193 2019-11-03 23:54:00.407086    tips_show   \n",
       "74194 2019-11-03 23:56:57.041825       search   \n",
       "74195 2019-11-03 23:57:06.232189    tips_show   \n",
       "74196 2019-11-03 23:58:12.532487    tips_show   \n",
       "\n",
       "                                    user_id         dt  source  \n",
       "0      020292ab-89bc-4156-9acf-68bc2783f894 2019-10-07   other  \n",
       "1      020292ab-89bc-4156-9acf-68bc2783f894 2019-10-07   other  \n",
       "2      cf7eda61-9349-469f-ac27-e5b6f5ec475c 2019-10-07  yandex  \n",
       "3      020292ab-89bc-4156-9acf-68bc2783f894 2019-10-07   other  \n",
       "4      cf7eda61-9349-469f-ac27-e5b6f5ec475c 2019-10-07  yandex  \n",
       "...                                     ...        ...     ...  \n",
       "74192  28fccdf4-7b9e-42f5-bc73-439a265f20e9 2019-11-03  google  \n",
       "74193  28fccdf4-7b9e-42f5-bc73-439a265f20e9 2019-11-03  google  \n",
       "74194  20850c8f-4135-4059-b13b-198d3ac59902 2019-11-03  google  \n",
       "74195  28fccdf4-7b9e-42f5-bc73-439a265f20e9 2019-11-03  google  \n",
       "74196  28fccdf4-7b9e-42f5-bc73-439a265f20e9 2019-11-03  google  \n",
       "\n",
       "[74197 rows x 5 columns]"
      ]
     },
     "metadata": {},
     "output_type": "display_data"
    },
    {
     "data": {
      "text/plain": [
       "event_time    0\n",
       "event_name    0\n",
       "user_id       0\n",
       "dt            0\n",
       "source        0\n",
       "dtype: int64"
      ]
     },
     "execution_count": 57,
     "metadata": {},
     "output_type": "execute_result"
    }
   ],
   "source": [
    "#присоединим таблицу с каналами к таблицу с событиями\n",
    "mobile_dataset_source = mobile_dataset.merge(mobile_sourсes, how = 'left')\n",
    "display(mobile_dataset_source)\n",
    "mobile_dataset_source.isna().sum() #проверим на пропуски"
   ]
  },
  {
   "cell_type": "code",
   "execution_count": 58,
   "metadata": {},
   "outputs": [
    {
     "data": {
      "text/html": [
       "<div>\n",
       "<style scoped>\n",
       "    .dataframe tbody tr th:only-of-type {\n",
       "        vertical-align: middle;\n",
       "    }\n",
       "\n",
       "    .dataframe tbody tr th {\n",
       "        vertical-align: top;\n",
       "    }\n",
       "\n",
       "    .dataframe thead th {\n",
       "        text-align: right;\n",
       "    }\n",
       "</style>\n",
       "<table border=\"1\" class=\"dataframe\">\n",
       "  <thead>\n",
       "    <tr style=\"text-align: right;\">\n",
       "      <th>source</th>\n",
       "      <th>google</th>\n",
       "      <th>other</th>\n",
       "      <th>yandex</th>\n",
       "    </tr>\n",
       "  </thead>\n",
       "  <tbody>\n",
       "    <tr>\n",
       "      <th>user_id</th>\n",
       "      <td>1129</td>\n",
       "      <td>1230</td>\n",
       "      <td>1934</td>\n",
       "    </tr>\n",
       "  </tbody>\n",
       "</table>\n",
       "</div>"
      ],
      "text/plain": [
       "source   google  other  yandex\n",
       "user_id    1129   1230    1934"
      ]
     },
     "metadata": {},
     "output_type": "display_data"
    }
   ],
   "source": [
    "#посчитаем количество пользователей из каждого канала\n",
    "user_id = mobile_dataset_source.pivot_table(columns='source', values = 'user_id', aggfunc = 'nunique')\n",
    "display(user_id)"
   ]
  },
  {
   "cell_type": "code",
   "execution_count": 59,
   "metadata": {},
   "outputs": [
    {
     "data": {
      "text/html": [
       "<div>\n",
       "<style scoped>\n",
       "    .dataframe tbody tr th:only-of-type {\n",
       "        vertical-align: middle;\n",
       "    }\n",
       "\n",
       "    .dataframe tbody tr th {\n",
       "        vertical-align: top;\n",
       "    }\n",
       "\n",
       "    .dataframe thead th {\n",
       "        text-align: right;\n",
       "    }\n",
       "</style>\n",
       "<table border=\"1\" class=\"dataframe\">\n",
       "  <thead>\n",
       "    <tr style=\"text-align: right;\">\n",
       "      <th></th>\n",
       "      <th>event_name</th>\n",
       "      <th>google</th>\n",
       "      <th>other</th>\n",
       "      <th>yandex</th>\n",
       "    </tr>\n",
       "  </thead>\n",
       "  <tbody>\n",
       "    <tr>\n",
       "      <th>0</th>\n",
       "      <td>show_contacts</td>\n",
       "      <td>275</td>\n",
       "      <td>228</td>\n",
       "      <td>478</td>\n",
       "    </tr>\n",
       "  </tbody>\n",
       "</table>\n",
       "</div>"
      ],
      "text/plain": [
       "      event_name  google  other  yandex\n",
       "0  show_contacts     275    228     478"
      ]
     },
     "metadata": {},
     "output_type": "display_data"
    }
   ],
   "source": [
    "#найдем количество уникальных пользователей для целевого события\n",
    "show_contact = (\n",
    "    mobile_dataset_source\n",
    "    .query('event_name == \"show_contacts\"')\n",
    "    .pivot_table(index='event_name', columns='source', values = 'user_id', aggfunc = 'nunique')\n",
    "    .reset_index()\n",
    "    .rename_axis(None, axis=1)\n",
    ")\n",
    "\n",
    "display(show_contact)"
   ]
  },
  {
   "cell_type": "code",
   "execution_count": 60,
   "metadata": {},
   "outputs": [],
   "source": [
    "alpha = 0.01 #зададим критерий значимости\n",
    "#создадим функцию для проверки гипотез о равенстве долей\n",
    "def share(group_1=[], group_2=[]):\n",
    "       \n",
    "    do_user = np.array([show_contact[group_1], show_contact[group_2]])\n",
    "    all_user = np.array([user_id[group_1], user_id[group_2]])\n",
    "\n",
    "    p1 = do_user[0]/all_user[0]\n",
    "\n",
    "    p2 = do_user[1]/all_user[1]\n",
    "\n",
    "    p_combined = (do_user[0] + do_user[1])/(all_user[0] + all_user[1])\n",
    "\n",
    "# разница пропорций в датасетах\n",
    "    difference = p1 - p2\n",
    "\n",
    "# считаем статистику в ст.отклонениях стандартного нормального распределения\n",
    "    z_value = difference / mth.sqrt(p_combined * (1 - p_combined) * (1/all_user[0] + 1/all_user[1]))\n",
    "\n",
    "# задаем стандартное нормальное распределение (среднее 0, ст.отклонение 1)\n",
    "    distr = st.norm(0, 1) \n",
    "\n",
    "# считаем статистику в ст.отклонениях стандартного нормального распределения\n",
    "    z_value = difference / mth.sqrt(\n",
    "    p_combined * (1 - p_combined) * (1 / all_user[0] + 1 / all_user[1])\n",
    "        )\n",
    "\n",
    "# задаем стандартное нормальное распределение (среднее 0, ст.отклонение 1)\n",
    "    distr = st.norm(0, 1)\n",
    "\n",
    "    p_value = (1 - distr.cdf(abs(z_value))) * 2\n",
    "    print('p-значение: ', p_value)\n",
    "\n",
    "    if p_value < alpha:\n",
    "        print(f'Отвергаем нулевую гипотезу: между долями есть значимая разница')\n",
    "    else:\n",
    "        print(f'Не получилось отвергнуть нулевую гипотезу, нет оснований считать доли разными') \n",
    "    print()"
   ]
  },
  {
   "cell_type": "code",
   "execution_count": 61,
   "metadata": {
    "scrolled": true
   },
   "outputs": [
    {
     "name": "stdout",
     "output_type": "stream",
     "text": [
      "p-значение:  [0.8244316]\n",
      "Не получилось отвергнуть нулевую гипотезу, нет оснований считать доли разными\n",
      "\n"
     ]
    }
   ],
   "source": [
    "share('google', 'yandex')"
   ]
  },
  {
   "cell_type": "markdown",
   "metadata": {},
   "source": [
    "**Вывод:** Видим, что нет статистической разницы в конверсии между пользователями пришедшими из yandex и из google."
   ]
  },
  {
   "cell_type": "markdown",
   "metadata": {},
   "source": [
    "**Гипотеза 2**: \n",
    "\n",
    "Нулевая гипотеза: пользователи, добавившие объявление в избранное, совершают действие contacts_call также часто, как и пользователи, которые не добавляли объявления в избранное.\n",
    "\n",
    "Альтернативная гипотеза: частота совершения целевого действия этих групп различается."
   ]
  },
  {
   "cell_type": "code",
   "execution_count": 62,
   "metadata": {},
   "outputs": [],
   "source": [
    "#найдем пользователей, добавивших объявление в избранное\n",
    "favorites_add = mobile_dataset.query('event_name == \"favorites_add\"')\n",
    "favorites_user = favorites_add['user_id'].unique()"
   ]
  },
  {
   "cell_type": "code",
   "execution_count": 63,
   "metadata": {
    "scrolled": false
   },
   "outputs": [
    {
     "data": {
      "text/html": [
       "<div>\n",
       "<style scoped>\n",
       "    .dataframe tbody tr th:only-of-type {\n",
       "        vertical-align: middle;\n",
       "    }\n",
       "\n",
       "    .dataframe tbody tr th {\n",
       "        vertical-align: top;\n",
       "    }\n",
       "\n",
       "    .dataframe thead th {\n",
       "        text-align: right;\n",
       "    }\n",
       "</style>\n",
       "<table border=\"1\" class=\"dataframe\">\n",
       "  <thead>\n",
       "    <tr style=\"text-align: right;\">\n",
       "      <th></th>\n",
       "      <th>event_time</th>\n",
       "      <th>event_name</th>\n",
       "      <th>user_id</th>\n",
       "      <th>dt</th>\n",
       "    </tr>\n",
       "  </thead>\n",
       "  <tbody>\n",
       "    <tr>\n",
       "      <th>352</th>\n",
       "      <td>2019-10-07 10:29:13.582348</td>\n",
       "      <td>contacts_call</td>\n",
       "      <td>be95e2a4-50e3-4763-bc00-1758848d2641</td>\n",
       "      <td>2019-10-07</td>\n",
       "    </tr>\n",
       "    <tr>\n",
       "      <th>614</th>\n",
       "      <td>2019-10-07 12:27:07.974840</td>\n",
       "      <td>contacts_call</td>\n",
       "      <td>b6b1774e-c891-4018-b59a-145f7ba4481e</td>\n",
       "      <td>2019-10-07</td>\n",
       "    </tr>\n",
       "    <tr>\n",
       "      <th>726</th>\n",
       "      <td>2019-10-07 13:20:02.378109</td>\n",
       "      <td>contacts_call</td>\n",
       "      <td>1daa906e-cf82-4e9c-a408-ce1730d4b64e</td>\n",
       "      <td>2019-10-07</td>\n",
       "    </tr>\n",
       "    <tr>\n",
       "      <th>799</th>\n",
       "      <td>2019-10-07 13:37:16.352990</td>\n",
       "      <td>contacts_call</td>\n",
       "      <td>1daa906e-cf82-4e9c-a408-ce1730d4b64e</td>\n",
       "      <td>2019-10-07</td>\n",
       "    </tr>\n",
       "    <tr>\n",
       "      <th>1065</th>\n",
       "      <td>2019-10-07 15:27:37.316280</td>\n",
       "      <td>contacts_call</td>\n",
       "      <td>ecae5875-3f5e-4df4-9f78-a66365252ddd</td>\n",
       "      <td>2019-10-07</td>\n",
       "    </tr>\n",
       "    <tr>\n",
       "      <th>...</th>\n",
       "      <td>...</td>\n",
       "      <td>...</td>\n",
       "      <td>...</td>\n",
       "      <td>...</td>\n",
       "    </tr>\n",
       "    <tr>\n",
       "      <th>72582</th>\n",
       "      <td>2019-11-03 15:50:57.832120</td>\n",
       "      <td>contacts_call</td>\n",
       "      <td>10012d86-07bb-4d51-8868-25bcf5098333</td>\n",
       "      <td>2019-11-03</td>\n",
       "    </tr>\n",
       "    <tr>\n",
       "      <th>72772</th>\n",
       "      <td>2019-11-03 16:47:39.948809</td>\n",
       "      <td>contacts_call</td>\n",
       "      <td>47ba6a84-c925-407d-9c32-a060cc142929</td>\n",
       "      <td>2019-11-03</td>\n",
       "    </tr>\n",
       "    <tr>\n",
       "      <th>72837</th>\n",
       "      <td>2019-11-03 17:19:26.116751</td>\n",
       "      <td>contacts_call</td>\n",
       "      <td>85a2e24c-2aec-4b9d-bfd5-d22c7b2ce1cc</td>\n",
       "      <td>2019-11-03</td>\n",
       "    </tr>\n",
       "    <tr>\n",
       "      <th>72870</th>\n",
       "      <td>2019-11-03 17:27:26.508916</td>\n",
       "      <td>contacts_call</td>\n",
       "      <td>85a2e24c-2aec-4b9d-bfd5-d22c7b2ce1cc</td>\n",
       "      <td>2019-11-03</td>\n",
       "    </tr>\n",
       "    <tr>\n",
       "      <th>73352</th>\n",
       "      <td>2019-11-03 19:55:25.820425</td>\n",
       "      <td>contacts_call</td>\n",
       "      <td>0b7b89d3-38c7-4b7f-b2da-036c52aea6af</td>\n",
       "      <td>2019-11-03</td>\n",
       "    </tr>\n",
       "  </tbody>\n",
       "</table>\n",
       "<p>448 rows × 4 columns</p>\n",
       "</div>"
      ],
      "text/plain": [
       "                      event_time     event_name  \\\n",
       "352   2019-10-07 10:29:13.582348  contacts_call   \n",
       "614   2019-10-07 12:27:07.974840  contacts_call   \n",
       "726   2019-10-07 13:20:02.378109  contacts_call   \n",
       "799   2019-10-07 13:37:16.352990  contacts_call   \n",
       "1065  2019-10-07 15:27:37.316280  contacts_call   \n",
       "...                          ...            ...   \n",
       "72582 2019-11-03 15:50:57.832120  contacts_call   \n",
       "72772 2019-11-03 16:47:39.948809  contacts_call   \n",
       "72837 2019-11-03 17:19:26.116751  contacts_call   \n",
       "72870 2019-11-03 17:27:26.508916  contacts_call   \n",
       "73352 2019-11-03 19:55:25.820425  contacts_call   \n",
       "\n",
       "                                    user_id         dt  \n",
       "352    be95e2a4-50e3-4763-bc00-1758848d2641 2019-10-07  \n",
       "614    b6b1774e-c891-4018-b59a-145f7ba4481e 2019-10-07  \n",
       "726    1daa906e-cf82-4e9c-a408-ce1730d4b64e 2019-10-07  \n",
       "799    1daa906e-cf82-4e9c-a408-ce1730d4b64e 2019-10-07  \n",
       "1065   ecae5875-3f5e-4df4-9f78-a66365252ddd 2019-10-07  \n",
       "...                                     ...        ...  \n",
       "72582  10012d86-07bb-4d51-8868-25bcf5098333 2019-11-03  \n",
       "72772  47ba6a84-c925-407d-9c32-a060cc142929 2019-11-03  \n",
       "72837  85a2e24c-2aec-4b9d-bfd5-d22c7b2ce1cc 2019-11-03  \n",
       "72870  85a2e24c-2aec-4b9d-bfd5-d22c7b2ce1cc 2019-11-03  \n",
       "73352  0b7b89d3-38c7-4b7f-b2da-036c52aea6af 2019-11-03  \n",
       "\n",
       "[448 rows x 4 columns]"
      ]
     },
     "metadata": {},
     "output_type": "display_data"
    }
   ],
   "source": [
    "#найдем пользователей, которые не добавляли объявление в избранное\n",
    "not_add = mobile_dataset.query('user_id not in @favorites_user')\n",
    "not_add_call = not_add.query('event_name == \"contacts_call\"')\n",
    "display(not_add_call)"
   ]
  },
  {
   "cell_type": "code",
   "execution_count": 64,
   "metadata": {},
   "outputs": [
    {
     "data": {
      "text/plain": [
       "3942"
      ]
     },
     "metadata": {},
     "output_type": "display_data"
    },
    {
     "data": {
      "text/plain": [
       "172"
      ]
     },
     "metadata": {},
     "output_type": "display_data"
    }
   ],
   "source": [
    "not_add_all_user = not_add['user_id'].nunique()\n",
    "not_add_user_call = not_add_call['user_id'].nunique()\n",
    "display(not_add_all_user)\n",
    "display(not_add_user_call)"
   ]
  },
  {
   "cell_type": "code",
   "execution_count": 65,
   "metadata": {},
   "outputs": [
    {
     "data": {
      "text/html": [
       "<div>\n",
       "<style scoped>\n",
       "    .dataframe tbody tr th:only-of-type {\n",
       "        vertical-align: middle;\n",
       "    }\n",
       "\n",
       "    .dataframe tbody tr th {\n",
       "        vertical-align: top;\n",
       "    }\n",
       "\n",
       "    .dataframe thead th {\n",
       "        text-align: right;\n",
       "    }\n",
       "</style>\n",
       "<table border=\"1\" class=\"dataframe\">\n",
       "  <thead>\n",
       "    <tr style=\"text-align: right;\">\n",
       "      <th></th>\n",
       "      <th>event_time</th>\n",
       "      <th>event_name</th>\n",
       "      <th>user_id</th>\n",
       "      <th>dt</th>\n",
       "    </tr>\n",
       "  </thead>\n",
       "  <tbody>\n",
       "    <tr>\n",
       "      <th>312</th>\n",
       "      <td>2019-10-07 10:15:43.787627</td>\n",
       "      <td>map</td>\n",
       "      <td>59013b73-1a5e-4ac0-97dd-81b1a10c8186</td>\n",
       "      <td>2019-10-07</td>\n",
       "    </tr>\n",
       "    <tr>\n",
       "      <th>314</th>\n",
       "      <td>2019-10-07 10:16:32.608610</td>\n",
       "      <td>tips_show</td>\n",
       "      <td>59013b73-1a5e-4ac0-97dd-81b1a10c8186</td>\n",
       "      <td>2019-10-07</td>\n",
       "    </tr>\n",
       "    <tr>\n",
       "      <th>318</th>\n",
       "      <td>2019-10-07 10:17:19.127817</td>\n",
       "      <td>advert_open</td>\n",
       "      <td>21b9ef95-e152-47e6-bb4b-284525c38064</td>\n",
       "      <td>2019-10-07</td>\n",
       "    </tr>\n",
       "    <tr>\n",
       "      <th>319</th>\n",
       "      <td>2019-10-07 10:17:22.577532</td>\n",
       "      <td>tips_show</td>\n",
       "      <td>21b9ef95-e152-47e6-bb4b-284525c38064</td>\n",
       "      <td>2019-10-07</td>\n",
       "    </tr>\n",
       "    <tr>\n",
       "      <th>320</th>\n",
       "      <td>2019-10-07 10:18:05.834654</td>\n",
       "      <td>tips_show</td>\n",
       "      <td>59013b73-1a5e-4ac0-97dd-81b1a10c8186</td>\n",
       "      <td>2019-10-07</td>\n",
       "    </tr>\n",
       "    <tr>\n",
       "      <th>...</th>\n",
       "      <td>...</td>\n",
       "      <td>...</td>\n",
       "      <td>...</td>\n",
       "      <td>...</td>\n",
       "    </tr>\n",
       "    <tr>\n",
       "      <th>74077</th>\n",
       "      <td>2019-11-03 22:56:31.244687</td>\n",
       "      <td>photos_show</td>\n",
       "      <td>57930074-b0f6-4107-8836-8c973e3ca3ec</td>\n",
       "      <td>2019-11-03</td>\n",
       "    </tr>\n",
       "    <tr>\n",
       "      <th>74082</th>\n",
       "      <td>2019-11-03 22:56:54.188741</td>\n",
       "      <td>tips_show</td>\n",
       "      <td>aa559cf5-de38-4e46-976f-257bfba10f3f</td>\n",
       "      <td>2019-11-03</td>\n",
       "    </tr>\n",
       "    <tr>\n",
       "      <th>74090</th>\n",
       "      <td>2019-11-03 22:58:24.377018</td>\n",
       "      <td>tips_show</td>\n",
       "      <td>aa559cf5-de38-4e46-976f-257bfba10f3f</td>\n",
       "      <td>2019-11-03</td>\n",
       "    </tr>\n",
       "    <tr>\n",
       "      <th>74100</th>\n",
       "      <td>2019-11-03 23:01:08.557298</td>\n",
       "      <td>photos_show</td>\n",
       "      <td>57930074-b0f6-4107-8836-8c973e3ca3ec</td>\n",
       "      <td>2019-11-03</td>\n",
       "    </tr>\n",
       "    <tr>\n",
       "      <th>74175</th>\n",
       "      <td>2019-11-03 23:46:10.196861</td>\n",
       "      <td>photos_show</td>\n",
       "      <td>d5e14ec3-7ae5-4598-ad36-f626b3ce24e3</td>\n",
       "      <td>2019-11-03</td>\n",
       "    </tr>\n",
       "  </tbody>\n",
       "</table>\n",
       "<p>11768 rows × 4 columns</p>\n",
       "</div>"
      ],
      "text/plain": [
       "                      event_time   event_name  \\\n",
       "312   2019-10-07 10:15:43.787627          map   \n",
       "314   2019-10-07 10:16:32.608610    tips_show   \n",
       "318   2019-10-07 10:17:19.127817  advert_open   \n",
       "319   2019-10-07 10:17:22.577532    tips_show   \n",
       "320   2019-10-07 10:18:05.834654    tips_show   \n",
       "...                          ...          ...   \n",
       "74077 2019-11-03 22:56:31.244687  photos_show   \n",
       "74082 2019-11-03 22:56:54.188741    tips_show   \n",
       "74090 2019-11-03 22:58:24.377018    tips_show   \n",
       "74100 2019-11-03 23:01:08.557298  photos_show   \n",
       "74175 2019-11-03 23:46:10.196861  photos_show   \n",
       "\n",
       "                                    user_id         dt  \n",
       "312    59013b73-1a5e-4ac0-97dd-81b1a10c8186 2019-10-07  \n",
       "314    59013b73-1a5e-4ac0-97dd-81b1a10c8186 2019-10-07  \n",
       "318    21b9ef95-e152-47e6-bb4b-284525c38064 2019-10-07  \n",
       "319    21b9ef95-e152-47e6-bb4b-284525c38064 2019-10-07  \n",
       "320    59013b73-1a5e-4ac0-97dd-81b1a10c8186 2019-10-07  \n",
       "...                                     ...        ...  \n",
       "74077  57930074-b0f6-4107-8836-8c973e3ca3ec 2019-11-03  \n",
       "74082  aa559cf5-de38-4e46-976f-257bfba10f3f 2019-11-03  \n",
       "74090  aa559cf5-de38-4e46-976f-257bfba10f3f 2019-11-03  \n",
       "74100  57930074-b0f6-4107-8836-8c973e3ca3ec 2019-11-03  \n",
       "74175  d5e14ec3-7ae5-4598-ad36-f626b3ce24e3 2019-11-03  \n",
       "\n",
       "[11768 rows x 4 columns]"
      ]
     },
     "metadata": {},
     "output_type": "display_data"
    }
   ],
   "source": [
    "add = mobile_dataset.query('user_id in @favorites_user')\n",
    "display(add)"
   ]
  },
  {
   "cell_type": "code",
   "execution_count": 66,
   "metadata": {},
   "outputs": [
    {
     "data": {
      "text/html": [
       "<div>\n",
       "<style scoped>\n",
       "    .dataframe tbody tr th:only-of-type {\n",
       "        vertical-align: middle;\n",
       "    }\n",
       "\n",
       "    .dataframe tbody tr th {\n",
       "        vertical-align: top;\n",
       "    }\n",
       "\n",
       "    .dataframe thead th {\n",
       "        text-align: right;\n",
       "    }\n",
       "</style>\n",
       "<table border=\"1\" class=\"dataframe\">\n",
       "  <thead>\n",
       "    <tr style=\"text-align: right;\">\n",
       "      <th></th>\n",
       "      <th>event_time</th>\n",
       "      <th>event_name</th>\n",
       "      <th>user_id</th>\n",
       "      <th>dt</th>\n",
       "    </tr>\n",
       "  </thead>\n",
       "  <tbody>\n",
       "    <tr>\n",
       "      <th>3231</th>\n",
       "      <td>2019-10-08 13:01:43.056804</td>\n",
       "      <td>contacts_call</td>\n",
       "      <td>b4b47db5-2560-4214-aa19-6e98c943b9c6</td>\n",
       "      <td>2019-10-08</td>\n",
       "    </tr>\n",
       "    <tr>\n",
       "      <th>3369</th>\n",
       "      <td>2019-10-08 13:22:34.835935</td>\n",
       "      <td>contacts_call</td>\n",
       "      <td>b4b47db5-2560-4214-aa19-6e98c943b9c6</td>\n",
       "      <td>2019-10-08</td>\n",
       "    </tr>\n",
       "    <tr>\n",
       "      <th>3376</th>\n",
       "      <td>2019-10-08 13:23:32.100675</td>\n",
       "      <td>contacts_call</td>\n",
       "      <td>b4b47db5-2560-4214-aa19-6e98c943b9c6</td>\n",
       "      <td>2019-10-08</td>\n",
       "    </tr>\n",
       "    <tr>\n",
       "      <th>3605</th>\n",
       "      <td>2019-10-08 14:14:11.872682</td>\n",
       "      <td>contacts_call</td>\n",
       "      <td>072fe17b-ff75-4d2a-92a5-99945bec1f21</td>\n",
       "      <td>2019-10-08</td>\n",
       "    </tr>\n",
       "    <tr>\n",
       "      <th>6456</th>\n",
       "      <td>2019-10-09 17:20:09.570540</td>\n",
       "      <td>contacts_call</td>\n",
       "      <td>c7de64d4-f621-4407-994d-c6ad08a7db94</td>\n",
       "      <td>2019-10-09</td>\n",
       "    </tr>\n",
       "    <tr>\n",
       "      <th>...</th>\n",
       "      <td>...</td>\n",
       "      <td>...</td>\n",
       "      <td>...</td>\n",
       "      <td>...</td>\n",
       "    </tr>\n",
       "    <tr>\n",
       "      <th>70597</th>\n",
       "      <td>2019-11-02 18:04:02.441034</td>\n",
       "      <td>contacts_call</td>\n",
       "      <td>771c9e69-4c82-4e02-a862-d56b40a29838</td>\n",
       "      <td>2019-11-02</td>\n",
       "    </tr>\n",
       "    <tr>\n",
       "      <th>70599</th>\n",
       "      <td>2019-11-02 18:04:25.503702</td>\n",
       "      <td>contacts_call</td>\n",
       "      <td>771c9e69-4c82-4e02-a862-d56b40a29838</td>\n",
       "      <td>2019-11-02</td>\n",
       "    </tr>\n",
       "    <tr>\n",
       "      <th>70890</th>\n",
       "      <td>2019-11-02 20:21:36.017420</td>\n",
       "      <td>contacts_call</td>\n",
       "      <td>8ec266e4-0d08-4b28-9ce2-33e9cb02191a</td>\n",
       "      <td>2019-11-02</td>\n",
       "    </tr>\n",
       "    <tr>\n",
       "      <th>72054</th>\n",
       "      <td>2019-11-03 13:16:19.563185</td>\n",
       "      <td>contacts_call</td>\n",
       "      <td>6345836c-1fe7-4671-a609-e64f3b13f98e</td>\n",
       "      <td>2019-11-03</td>\n",
       "    </tr>\n",
       "    <tr>\n",
       "      <th>72165</th>\n",
       "      <td>2019-11-03 13:49:08.372922</td>\n",
       "      <td>contacts_call</td>\n",
       "      <td>0a21a0ed-4478-4dd3-beb5-eac850063186</td>\n",
       "      <td>2019-11-03</td>\n",
       "    </tr>\n",
       "  </tbody>\n",
       "</table>\n",
       "<p>93 rows × 4 columns</p>\n",
       "</div>"
      ],
      "text/plain": [
       "                      event_time     event_name  \\\n",
       "3231  2019-10-08 13:01:43.056804  contacts_call   \n",
       "3369  2019-10-08 13:22:34.835935  contacts_call   \n",
       "3376  2019-10-08 13:23:32.100675  contacts_call   \n",
       "3605  2019-10-08 14:14:11.872682  contacts_call   \n",
       "6456  2019-10-09 17:20:09.570540  contacts_call   \n",
       "...                          ...            ...   \n",
       "70597 2019-11-02 18:04:02.441034  contacts_call   \n",
       "70599 2019-11-02 18:04:25.503702  contacts_call   \n",
       "70890 2019-11-02 20:21:36.017420  contacts_call   \n",
       "72054 2019-11-03 13:16:19.563185  contacts_call   \n",
       "72165 2019-11-03 13:49:08.372922  contacts_call   \n",
       "\n",
       "                                    user_id         dt  \n",
       "3231   b4b47db5-2560-4214-aa19-6e98c943b9c6 2019-10-08  \n",
       "3369   b4b47db5-2560-4214-aa19-6e98c943b9c6 2019-10-08  \n",
       "3376   b4b47db5-2560-4214-aa19-6e98c943b9c6 2019-10-08  \n",
       "3605   072fe17b-ff75-4d2a-92a5-99945bec1f21 2019-10-08  \n",
       "6456   c7de64d4-f621-4407-994d-c6ad08a7db94 2019-10-09  \n",
       "...                                     ...        ...  \n",
       "70597  771c9e69-4c82-4e02-a862-d56b40a29838 2019-11-02  \n",
       "70599  771c9e69-4c82-4e02-a862-d56b40a29838 2019-11-02  \n",
       "70890  8ec266e4-0d08-4b28-9ce2-33e9cb02191a 2019-11-02  \n",
       "72054  6345836c-1fe7-4671-a609-e64f3b13f98e 2019-11-03  \n",
       "72165  0a21a0ed-4478-4dd3-beb5-eac850063186 2019-11-03  \n",
       "\n",
       "[93 rows x 4 columns]"
      ]
     },
     "metadata": {},
     "output_type": "display_data"
    }
   ],
   "source": [
    "add_call = add.query('event_name == \"contacts_call\"')\n",
    "display(add_call)"
   ]
  },
  {
   "cell_type": "code",
   "execution_count": 67,
   "metadata": {},
   "outputs": [
    {
     "data": {
      "text/plain": [
       "351"
      ]
     },
     "metadata": {},
     "output_type": "display_data"
    },
    {
     "data": {
      "text/plain": [
       "41"
      ]
     },
     "metadata": {},
     "output_type": "display_data"
    }
   ],
   "source": [
    "add_all_user = add['user_id'].nunique()\n",
    "add_user_call = add_call['user_id'].nunique()\n",
    "display(add_all_user)\n",
    "display(add_user_call)"
   ]
  },
  {
   "cell_type": "code",
   "execution_count": 68,
   "metadata": {},
   "outputs": [],
   "source": [
    "alpha = 0.01 #зададим критерий значимости\n",
    "#создадим функцию для проверки гипотез о равенстве долей\n",
    "def share(user_call_1, user_call_2, all_user_1, all_user_2):\n",
    "       \n",
    "    do_user = np.array([user_call_1, user_call_2])\n",
    "    all_user = np.array([all_user_1, all_user_2])\n",
    "\n",
    "    p1 = do_user[0]/all_user[0]\n",
    "\n",
    "    p2 = do_user[1]/all_user[1]\n",
    "\n",
    "    p_combined = (do_user[0] + do_user[1])/(all_user[0] + all_user[1])\n",
    "\n",
    "# разница пропорций в датасетах\n",
    "    difference = p1 - p2\n",
    "\n",
    "# считаем статистику в ст.отклонениях стандартного нормального распределения\n",
    "    z_value = difference / mth.sqrt(p_combined * (1 - p_combined) * (1/all_user[0] + 1/all_user[1]))\n",
    "\n",
    "# задаем стандартное нормальное распределение (среднее 0, ст.отклонение 1)\n",
    "    distr = st.norm(0, 1) \n",
    "\n",
    "# считаем статистику в ст.отклонениях стандартного нормального распределения\n",
    "    z_value = difference / mth.sqrt(\n",
    "    p_combined * (1 - p_combined) * (1 / all_user[0] + 1 / all_user[1])\n",
    "        )\n",
    "\n",
    "# задаем стандартное нормальное распределение (среднее 0, ст.отклонение 1)\n",
    "    distr = st.norm(0, 1)\n",
    "\n",
    "    p_value = (1 - distr.cdf(abs(z_value))) * 2\n",
    "    print('p-значение: ', p_value)\n",
    "\n",
    "    if p_value < alpha:\n",
    "        print(f'Отвергаем нулевую гипотезу: между долями есть значимая разница')\n",
    "    else:\n",
    "        print(f'Не получилось отвергнуть нулевую гипотезу, нет оснований считать доли разными') \n",
    "    print()"
   ]
  },
  {
   "cell_type": "code",
   "execution_count": 69,
   "metadata": {},
   "outputs": [
    {
     "name": "stdout",
     "output_type": "stream",
     "text": [
      "p-значение:  1.4499181855143206e-09\n",
      "Отвергаем нулевую гипотезу: между долями есть значимая разница\n",
      "\n"
     ]
    }
   ],
   "source": [
    "share(not_add_user_call, add_user_call, not_add_all_user, add_all_user)"
   ]
  },
  {
   "cell_type": "markdown",
   "metadata": {},
   "source": [
    "**Вывод:** Между группами есть значимая разница."
   ]
  },
  {
   "cell_type": "markdown",
   "metadata": {},
   "source": [
    "## Выводы и рекомендации"
   ]
  },
  {
   "cell_type": "markdown",
   "metadata": {},
   "source": [
    "**Краткий обзор проведённой работы.** \n",
    "В ходе исследования были проанализированы таблицы с данными о событиях, совершенных в мобильном приложении \"Ненужные вещи\", за период с 07.10.2019 по 03.11.2019 г. Данные были приведены к корректному виду. В ходе исследований проведен анализ нахождения пользователей в приложении, на основании чего пользователи разделены на 3 группы по среднему количеству действий, совершенных за 1 сессию, на основании квартилей. Для каждой группы оценены: Ratention Rate, время, проведенное в приложении, частота совершение действия show_contacts, конверсия в действие show_contacts, различие во времени между распространенными событиями.\n",
    "\n",
    "Также в ходе исследования с помощью t-test проверены 2 гипотезы.\n",
    "\n",
    "**Выводы**\n",
    "1. Количество уникальных пользователей высокое в будние дни и резко падает на выходных.\n",
    "\n",
    "\n",
    "2. В среднем каждый пользователь провел в приложении 2 сессии за исследуемый период. Но имеются пользователи с аномальными результатами, максимальное количество сессий - 111. Стоит обратить внимание на данных пользователей и изучить их поведение для анализа причин.\n",
    "\n",
    "\n",
    "3. Основная масса пользователей совершает не более 6 событий за сессию. Это хороший показатель при условии высокой конверсии, значит пользователю легко найти необходимое.\n",
    "\n",
    "\n",
    "4. После разделения пользователей на группы мы видим, что наименьшее удержание у пользователей, совершающих наибольшее среднее количество действий за сессию. Возможно они разочаровываются и прекращают использование. Максимальное удержание показывает группа с наименьшим средним количеством действий за сессию. Но стоит обратить внимание, что удержание пользователей, пришедших во второй половине исследуемого периода, резко снижается, возможно в приложение в этот момент внесены изменения.\n",
    "\n",
    "\n",
    "5. Для групп В и С характерно нахождение большинства пользователей в приложении совокупно не более 200 мин. Но группа А значительно отличается, большее количество пользователей этой группы провели в приложении не более 50 минут.\n",
    "\n",
    "\n",
    "6. Наибольшая часота совершения действия show_contacts характерна для группы А. Это может быть следствием нашей сегментации. У пользователей группы А меньше действий, поэтому, относительно всех действий, show_contacts может встречаться чаще чем для остальных групп. Более точную картину показывает исследование конверсии в это действие, оценивая поведение только уникальных пользователей.\n",
    "\n",
    "\n",
    "7. Исследование конверсии пользователей в действие show_contacts показывает ее максимальное значение также для группы А. А вот пользователи группы, которую мы приняли за основную имеют наименьшею конверсию из всех групп.\n",
    "Пользователи группы C значительно чаще остальных (в процентном соотношении уникальных пользователей) просматривают и переходят на рекомендованные объявления и открывают карту размещения объявлений, но значительно меньше просматривают фото из объявления.\n",
    "\n",
    "\n",
    "8. Из всех пользователей только 4 в одной сессии проходят весь путь рекомендаций: увидел рекомендованное объявление ▸открыл рекомендованное объявление ▸ посмотрел контакты. Время между началом просмотра рекомендованных объявлений и  просмотром контактов – 5-7 минут. Пользователи представляют все группы.\n",
    "\n",
    "\n",
    "8. В конверсиях в просмотры контактов пользователей, пришедших из google, и у пользователей, пришедших из yandex, нет значимой разницы.\n",
    "\n",
    "\n",
    "9. Пользователи, добавившие объявление в избранное и недобавлявшие его, имеют значимую разницу в совершении действия \"просмотр контактов\". Возможно стоит провести дальнейшее исследования для оценки функционала добавления объявления в избранное.\n",
    "\n",
    "\n",
    "**Рекомендации**\n",
    "1. Пересмотреть принцип работы алгоритма подбора рекомендованных объявлений. Показывать рекомендованные с сортировкой по отдаленности.\n",
    "\n",
    "\n",
    "2. Возможно стоит добавить уведомление при появлении новых рекомендованных объявлений по последнему поиску или уведомления-напоминание в выходные дни.\n",
    "\n",
    "\n",
    "3. Запустить рекламную кампанию, т.к количество уникальных пользователей после роста в первой половине месяца вышло на плато."
   ]
  }
 ],
 "metadata": {
  "ExecuteTimeLog": [
   {
    "duration": 427,
    "start_time": "2022-08-23T19:17:24.807Z"
   },
   {
    "duration": 90,
    "start_time": "2022-08-23T19:18:49.164Z"
   },
   {
    "duration": 274,
    "start_time": "2022-08-23T19:18:56.191Z"
   },
   {
    "duration": 6,
    "start_time": "2022-08-23T19:40:27.223Z"
   },
   {
    "duration": 36,
    "start_time": "2022-08-23T19:41:36.496Z"
   },
   {
    "duration": 463,
    "start_time": "2022-08-24T10:06:47.075Z"
   },
   {
    "duration": 225,
    "start_time": "2022-08-24T10:06:47.541Z"
   },
   {
    "duration": 524,
    "start_time": "2022-08-24T10:06:47.768Z"
   },
   {
    "duration": 8,
    "start_time": "2022-08-24T10:06:48.294Z"
   },
   {
    "duration": 63,
    "start_time": "2022-08-24T10:06:48.305Z"
   },
   {
    "duration": 39,
    "start_time": "2022-08-24T10:06:48.370Z"
   },
   {
    "duration": 16,
    "start_time": "2022-08-24T10:07:36.696Z"
   },
   {
    "duration": 32,
    "start_time": "2022-08-24T10:07:48.521Z"
   },
   {
    "duration": 11,
    "start_time": "2022-08-24T11:03:39.272Z"
   },
   {
    "duration": 14,
    "start_time": "2022-08-24T11:07:24.754Z"
   },
   {
    "duration": 35,
    "start_time": "2022-08-24T11:07:26.540Z"
   },
   {
    "duration": 54,
    "start_time": "2022-08-24T11:07:28.846Z"
   },
   {
    "duration": 16,
    "start_time": "2022-08-24T11:07:30.627Z"
   },
   {
    "duration": 23,
    "start_time": "2022-08-24T11:07:36.192Z"
   },
   {
    "duration": 496,
    "start_time": "2022-08-24T11:07:50.768Z"
   },
   {
    "duration": 431,
    "start_time": "2022-08-24T11:07:51.266Z"
   },
   {
    "duration": 431,
    "start_time": "2022-08-24T11:07:51.699Z"
   },
   {
    "duration": 10,
    "start_time": "2022-08-24T11:07:52.133Z"
   },
   {
    "duration": 31,
    "start_time": "2022-08-24T11:07:52.146Z"
   },
   {
    "duration": 27,
    "start_time": "2022-08-24T11:07:52.179Z"
   },
   {
    "duration": 58,
    "start_time": "2022-08-24T11:07:52.208Z"
   },
   {
    "duration": 52,
    "start_time": "2022-08-24T11:07:52.268Z"
   },
   {
    "duration": 17,
    "start_time": "2022-08-24T11:07:52.323Z"
   },
   {
    "duration": 49,
    "start_time": "2022-08-24T11:07:52.343Z"
   },
   {
    "duration": 6,
    "start_time": "2022-08-24T11:21:19.968Z"
   },
   {
    "duration": 384,
    "start_time": "2022-08-26T12:17:21.999Z"
   },
   {
    "duration": 69,
    "start_time": "2022-08-26T12:17:24.052Z"
   },
   {
    "duration": 224,
    "start_time": "2022-08-26T12:17:26.326Z"
   },
   {
    "duration": 7,
    "start_time": "2022-08-26T12:17:28.140Z"
   },
   {
    "duration": 5,
    "start_time": "2022-08-26T12:17:29.785Z"
   },
   {
    "duration": 9,
    "start_time": "2022-08-26T12:17:31.455Z"
   },
   {
    "duration": 12,
    "start_time": "2022-08-26T12:17:32.768Z"
   },
   {
    "duration": 32,
    "start_time": "2022-08-26T12:17:35.458Z"
   },
   {
    "duration": 29,
    "start_time": "2022-08-26T12:17:36.864Z"
   },
   {
    "duration": 20,
    "start_time": "2022-08-26T12:17:38.234Z"
   },
   {
    "duration": 4,
    "start_time": "2022-08-26T12:19:22.854Z"
   },
   {
    "duration": 12,
    "start_time": "2022-08-26T12:26:34.443Z"
   },
   {
    "duration": 21,
    "start_time": "2022-08-26T12:26:45.220Z"
   },
   {
    "duration": 32,
    "start_time": "2022-08-26T12:29:52.021Z"
   },
   {
    "duration": 26,
    "start_time": "2022-08-26T12:31:11.669Z"
   },
   {
    "duration": 45778,
    "start_time": "2022-08-26T12:31:53.835Z"
   },
   {
    "duration": 0,
    "start_time": "2022-08-26T12:32:39.615Z"
   },
   {
    "duration": 4,
    "start_time": "2022-08-26T12:32:42.380Z"
   },
   {
    "duration": 67677,
    "start_time": "2022-08-26T12:32:47.955Z"
   },
   {
    "duration": 692,
    "start_time": "2022-08-26T12:34:15.756Z"
   },
   {
    "duration": 57,
    "start_time": "2022-08-26T12:34:18.344Z"
   },
   {
    "duration": 167,
    "start_time": "2022-08-26T12:34:20.471Z"
   },
   {
    "duration": 7,
    "start_time": "2022-08-26T12:34:22.633Z"
   },
   {
    "duration": 4,
    "start_time": "2022-08-26T12:34:24.757Z"
   },
   {
    "duration": 7,
    "start_time": "2022-08-26T12:34:26.432Z"
   },
   {
    "duration": 12,
    "start_time": "2022-08-26T12:34:28.154Z"
   },
   {
    "duration": 33,
    "start_time": "2022-08-26T12:34:30.021Z"
   },
   {
    "duration": 3,
    "start_time": "2022-08-26T12:34:31.840Z"
   },
   {
    "duration": 29,
    "start_time": "2022-08-26T12:34:33.179Z"
   },
   {
    "duration": 22,
    "start_time": "2022-08-26T12:34:35.938Z"
   },
   {
    "duration": 14,
    "start_time": "2022-08-26T12:34:39.062Z"
   },
   {
    "duration": 30,
    "start_time": "2022-08-26T12:34:40.538Z"
   },
   {
    "duration": 22,
    "start_time": "2022-08-26T12:34:42.385Z"
   },
   {
    "duration": 94132,
    "start_time": "2022-08-26T12:34:44.086Z"
   },
   {
    "duration": 194,
    "start_time": "2022-08-26T12:39:18.275Z"
   },
   {
    "duration": 11,
    "start_time": "2022-08-26T12:39:57.502Z"
   },
   {
    "duration": 10,
    "start_time": "2022-08-26T12:40:15.106Z"
   },
   {
    "duration": 8,
    "start_time": "2022-08-26T12:41:02.836Z"
   },
   {
    "duration": 176,
    "start_time": "2022-08-26T12:42:48.915Z"
   },
   {
    "duration": 22,
    "start_time": "2022-08-26T13:00:44.498Z"
   },
   {
    "duration": 8,
    "start_time": "2022-08-26T13:00:47.271Z"
   },
   {
    "duration": 27,
    "start_time": "2022-08-26T13:00:58.678Z"
   },
   {
    "duration": 10,
    "start_time": "2022-08-26T13:01:00.902Z"
   },
   {
    "duration": 9,
    "start_time": "2022-08-26T13:01:26.756Z"
   },
   {
    "duration": 1179,
    "start_time": "2022-08-26T13:01:46.067Z"
   },
   {
    "duration": 12,
    "start_time": "2022-08-26T13:03:00.350Z"
   },
   {
    "duration": 130,
    "start_time": "2022-08-26T13:03:20.031Z"
   },
   {
    "duration": 5,
    "start_time": "2022-08-26T13:03:50.345Z"
   },
   {
    "duration": 25,
    "start_time": "2022-08-26T13:04:02.957Z"
   },
   {
    "duration": 13,
    "start_time": "2022-08-26T13:04:14.986Z"
   },
   {
    "duration": 24,
    "start_time": "2022-08-26T13:04:40.233Z"
   },
   {
    "duration": 7,
    "start_time": "2022-08-26T13:04:52.967Z"
   },
   {
    "duration": 5,
    "start_time": "2022-08-26T13:05:03.114Z"
   },
   {
    "duration": 8,
    "start_time": "2022-08-26T13:07:12.029Z"
   },
   {
    "duration": 155,
    "start_time": "2022-08-26T13:07:20.116Z"
   },
   {
    "duration": 22,
    "start_time": "2022-08-26T13:10:16.615Z"
   },
   {
    "duration": 442,
    "start_time": "2022-08-26T13:11:05.513Z"
   },
   {
    "duration": 18,
    "start_time": "2022-08-26T13:12:29.747Z"
   },
   {
    "duration": 11,
    "start_time": "2022-08-26T13:12:51.224Z"
   },
   {
    "duration": 17,
    "start_time": "2022-08-26T13:13:03.458Z"
   },
   {
    "duration": 435,
    "start_time": "2022-08-26T13:13:12.266Z"
   },
   {
    "duration": 5,
    "start_time": "2022-08-26T13:14:11.728Z"
   },
   {
    "duration": 11,
    "start_time": "2022-08-26T13:14:37.906Z"
   },
   {
    "duration": 9,
    "start_time": "2022-08-26T13:14:41.042Z"
   },
   {
    "duration": 8,
    "start_time": "2022-08-26T13:15:42.888Z"
   },
   {
    "duration": 9,
    "start_time": "2022-08-26T13:16:01.333Z"
   },
   {
    "duration": 19,
    "start_time": "2022-08-26T13:16:15.497Z"
   },
   {
    "duration": 19,
    "start_time": "2022-08-26T13:17:23.615Z"
   },
   {
    "duration": 342,
    "start_time": "2022-08-26T13:21:18.001Z"
   },
   {
    "duration": 30,
    "start_time": "2022-08-26T13:21:38.992Z"
   },
   {
    "duration": 222,
    "start_time": "2022-08-26T13:21:47.145Z"
   },
   {
    "duration": 368,
    "start_time": "2022-08-26T13:22:49.953Z"
   },
   {
    "duration": 358,
    "start_time": "2022-08-26T13:23:02.071Z"
   },
   {
    "duration": 26,
    "start_time": "2022-08-26T13:23:06.148Z"
   },
   {
    "duration": 212,
    "start_time": "2022-08-26T13:23:28.761Z"
   },
   {
    "duration": 361,
    "start_time": "2022-08-26T13:23:46.258Z"
   },
   {
    "duration": 20,
    "start_time": "2022-08-26T13:23:48.458Z"
   },
   {
    "duration": 168,
    "start_time": "2022-08-26T13:23:54.473Z"
   },
   {
    "duration": 57,
    "start_time": "2022-08-29T14:30:38.834Z"
   },
   {
    "duration": 756,
    "start_time": "2022-08-29T14:30:53.385Z"
   },
   {
    "duration": 58,
    "start_time": "2022-08-29T14:30:54.143Z"
   },
   {
    "duration": 242,
    "start_time": "2022-08-29T14:30:54.202Z"
   },
   {
    "duration": 6,
    "start_time": "2022-08-29T14:30:54.445Z"
   },
   {
    "duration": 8,
    "start_time": "2022-08-29T14:30:54.453Z"
   },
   {
    "duration": 11,
    "start_time": "2022-08-29T14:30:54.462Z"
   },
   {
    "duration": 14,
    "start_time": "2022-08-29T14:30:54.474Z"
   },
   {
    "duration": 56,
    "start_time": "2022-08-29T14:30:54.489Z"
   },
   {
    "duration": 5,
    "start_time": "2022-08-29T14:30:54.546Z"
   },
   {
    "duration": 30,
    "start_time": "2022-08-29T14:30:54.553Z"
   },
   {
    "duration": 19,
    "start_time": "2022-08-29T14:30:54.584Z"
   },
   {
    "duration": 39,
    "start_time": "2022-08-29T14:30:54.605Z"
   },
   {
    "duration": 28,
    "start_time": "2022-08-29T14:30:54.646Z"
   },
   {
    "duration": 22,
    "start_time": "2022-08-29T14:30:54.676Z"
   },
   {
    "duration": 9,
    "start_time": "2022-08-29T14:30:54.699Z"
   },
   {
    "duration": 210,
    "start_time": "2022-08-29T14:30:54.709Z"
   },
   {
    "duration": 6,
    "start_time": "2022-08-29T14:30:54.920Z"
   },
   {
    "duration": 362,
    "start_time": "2022-08-29T14:30:54.938Z"
   },
   {
    "duration": 17,
    "start_time": "2022-08-29T14:30:55.301Z"
   },
   {
    "duration": 191,
    "start_time": "2022-08-29T14:30:55.319Z"
   },
   {
    "duration": 35,
    "start_time": "2022-08-29T14:30:55.512Z"
   },
   {
    "duration": 98,
    "start_time": "2022-08-29T14:31:50.060Z"
   },
   {
    "duration": 36,
    "start_time": "2022-08-29T14:32:22.786Z"
   },
   {
    "duration": 40,
    "start_time": "2022-08-29T14:35:29.618Z"
   },
   {
    "duration": 8,
    "start_time": "2022-08-29T14:53:07.726Z"
   },
   {
    "duration": 10,
    "start_time": "2022-08-29T14:53:19.675Z"
   },
   {
    "duration": 45,
    "start_time": "2022-08-29T14:53:23.654Z"
   },
   {
    "duration": 83,
    "start_time": "2022-08-29T14:54:03.195Z"
   },
   {
    "duration": 369,
    "start_time": "2022-08-29T14:54:39.099Z"
   },
   {
    "duration": 35,
    "start_time": "2022-08-29T14:54:53.130Z"
   },
   {
    "duration": 63,
    "start_time": "2022-08-29T14:56:42.090Z"
   },
   {
    "duration": 30,
    "start_time": "2022-08-29T15:02:16.376Z"
   },
   {
    "duration": 39,
    "start_time": "2022-08-29T15:02:18.581Z"
   },
   {
    "duration": 29,
    "start_time": "2022-08-29T15:02:37.067Z"
   },
   {
    "duration": 41,
    "start_time": "2022-08-29T15:02:40.842Z"
   },
   {
    "duration": 38,
    "start_time": "2022-08-29T15:17:05.337Z"
   },
   {
    "duration": 26,
    "start_time": "2022-08-29T15:17:18.142Z"
   },
   {
    "duration": 22,
    "start_time": "2022-08-29T15:17:44.830Z"
   },
   {
    "duration": 16,
    "start_time": "2022-08-29T15:18:57.137Z"
   },
   {
    "duration": 10,
    "start_time": "2022-08-29T15:19:01.312Z"
   },
   {
    "duration": 591,
    "start_time": "2022-08-29T15:41:42.300Z"
   },
   {
    "duration": 56,
    "start_time": "2022-08-29T15:41:42.893Z"
   },
   {
    "duration": 250,
    "start_time": "2022-08-29T15:41:42.951Z"
   },
   {
    "duration": 5,
    "start_time": "2022-08-29T15:41:43.203Z"
   },
   {
    "duration": 9,
    "start_time": "2022-08-29T15:41:43.210Z"
   },
   {
    "duration": 18,
    "start_time": "2022-08-29T15:41:43.221Z"
   },
   {
    "duration": 12,
    "start_time": "2022-08-29T15:41:43.241Z"
   },
   {
    "duration": 32,
    "start_time": "2022-08-29T15:41:43.254Z"
   },
   {
    "duration": 4,
    "start_time": "2022-08-29T15:41:43.288Z"
   },
   {
    "duration": 54,
    "start_time": "2022-08-29T15:41:43.294Z"
   },
   {
    "duration": 18,
    "start_time": "2022-08-29T15:41:43.350Z"
   },
   {
    "duration": 13,
    "start_time": "2022-08-29T15:41:43.370Z"
   },
   {
    "duration": 55,
    "start_time": "2022-08-29T15:41:43.384Z"
   },
   {
    "duration": 22,
    "start_time": "2022-08-29T15:41:43.441Z"
   },
   {
    "duration": 9,
    "start_time": "2022-08-29T15:41:43.465Z"
   },
   {
    "duration": 202,
    "start_time": "2022-08-29T15:41:43.475Z"
   },
   {
    "duration": 5,
    "start_time": "2022-08-29T15:41:43.679Z"
   },
   {
    "duration": 369,
    "start_time": "2022-08-29T15:41:43.686Z"
   },
   {
    "duration": 17,
    "start_time": "2022-08-29T15:41:44.057Z"
   },
   {
    "duration": 197,
    "start_time": "2022-08-29T15:41:44.075Z"
   },
   {
    "duration": 40,
    "start_time": "2022-08-29T15:41:44.274Z"
   },
   {
    "duration": 3,
    "start_time": "2022-08-29T15:41:44.316Z"
   },
   {
    "duration": 36,
    "start_time": "2022-08-29T15:41:44.338Z"
   },
   {
    "duration": 40,
    "start_time": "2022-08-29T15:41:44.375Z"
   },
   {
    "duration": 28,
    "start_time": "2022-08-29T15:41:44.416Z"
   },
   {
    "duration": 7,
    "start_time": "2022-08-29T15:41:44.445Z"
   },
   {
    "duration": 1169,
    "start_time": "2022-08-29T15:41:44.453Z"
   },
   {
    "duration": 6,
    "start_time": "2022-08-29T15:42:20.756Z"
   },
   {
    "duration": 10,
    "start_time": "2022-08-29T15:42:23.088Z"
   },
   {
    "duration": 3,
    "start_time": "2022-08-29T15:42:47.216Z"
   },
   {
    "duration": 6,
    "start_time": "2022-08-29T15:42:53.382Z"
   },
   {
    "duration": 10,
    "start_time": "2022-08-29T15:42:55.981Z"
   },
   {
    "duration": 418,
    "start_time": "2022-08-29T15:43:17.657Z"
   },
   {
    "duration": 7,
    "start_time": "2022-08-29T15:43:26.374Z"
   },
   {
    "duration": 14,
    "start_time": "2022-08-29T15:54:53.420Z"
   },
   {
    "duration": 7,
    "start_time": "2022-08-29T15:56:02.600Z"
   },
   {
    "duration": 92,
    "start_time": "2022-08-29T15:57:33.407Z"
   },
   {
    "duration": 8,
    "start_time": "2022-08-29T15:58:17.556Z"
   },
   {
    "duration": 11,
    "start_time": "2022-08-29T15:58:28.197Z"
   },
   {
    "duration": 174,
    "start_time": "2022-08-29T16:00:55.220Z"
   },
   {
    "duration": 56,
    "start_time": "2022-08-29T16:01:47.436Z"
   },
   {
    "duration": 173,
    "start_time": "2022-08-29T16:01:58.597Z"
   },
   {
    "duration": 165,
    "start_time": "2022-08-29T16:04:37.007Z"
   },
   {
    "duration": 13,
    "start_time": "2022-08-29T16:05:24.000Z"
   },
   {
    "duration": 182,
    "start_time": "2022-08-29T16:05:39.296Z"
   },
   {
    "duration": 10,
    "start_time": "2022-08-29T16:05:44.412Z"
   },
   {
    "duration": 988,
    "start_time": "2022-08-29T16:05:50.090Z"
   },
   {
    "duration": 16,
    "start_time": "2022-08-29T16:05:56.985Z"
   },
   {
    "duration": 14,
    "start_time": "2022-08-29T16:06:45.088Z"
   },
   {
    "duration": 14,
    "start_time": "2022-08-29T16:07:45.951Z"
   },
   {
    "duration": 17,
    "start_time": "2022-08-29T16:07:55.460Z"
   },
   {
    "duration": 21,
    "start_time": "2022-08-29T16:08:00.726Z"
   },
   {
    "duration": 19,
    "start_time": "2022-08-29T16:11:32.449Z"
   },
   {
    "duration": 150,
    "start_time": "2022-08-29T16:11:53.060Z"
   },
   {
    "duration": 18,
    "start_time": "2022-08-29T16:12:00.707Z"
   },
   {
    "duration": 15,
    "start_time": "2022-08-29T16:17:45.677Z"
   },
   {
    "duration": 14,
    "start_time": "2022-08-29T16:18:23.451Z"
   },
   {
    "duration": 19,
    "start_time": "2022-08-29T16:19:49.295Z"
   },
   {
    "duration": 25,
    "start_time": "2022-08-29T16:20:59.940Z"
   },
   {
    "duration": 18,
    "start_time": "2022-08-29T16:21:11.589Z"
   },
   {
    "duration": 12,
    "start_time": "2022-08-29T16:22:15.899Z"
   },
   {
    "duration": 14,
    "start_time": "2022-08-29T16:22:24.863Z"
   },
   {
    "duration": 14,
    "start_time": "2022-08-29T16:23:25.181Z"
   },
   {
    "duration": 8,
    "start_time": "2022-08-29T16:23:46.464Z"
   },
   {
    "duration": 7,
    "start_time": "2022-08-29T16:27:02.618Z"
   },
   {
    "duration": 6,
    "start_time": "2022-08-29T16:27:04.719Z"
   },
   {
    "duration": 6,
    "start_time": "2022-08-29T16:27:38.592Z"
   },
   {
    "duration": 6,
    "start_time": "2022-08-29T16:27:40.808Z"
   },
   {
    "duration": 7,
    "start_time": "2022-08-29T16:27:48.660Z"
   },
   {
    "duration": 6,
    "start_time": "2022-08-29T16:27:51.963Z"
   },
   {
    "duration": 7,
    "start_time": "2022-08-29T16:30:23.985Z"
   },
   {
    "duration": 1195,
    "start_time": "2022-08-29T20:34:13.529Z"
   },
   {
    "duration": 53,
    "start_time": "2022-08-29T20:34:14.725Z"
   },
   {
    "duration": 297,
    "start_time": "2022-08-29T20:34:14.779Z"
   },
   {
    "duration": 8,
    "start_time": "2022-08-29T20:34:15.077Z"
   },
   {
    "duration": 9,
    "start_time": "2022-08-29T20:34:15.086Z"
   },
   {
    "duration": 9,
    "start_time": "2022-08-29T20:34:15.096Z"
   },
   {
    "duration": 11,
    "start_time": "2022-08-29T20:34:15.106Z"
   },
   {
    "duration": 30,
    "start_time": "2022-08-29T20:34:15.118Z"
   },
   {
    "duration": 4,
    "start_time": "2022-08-29T20:34:15.150Z"
   },
   {
    "duration": 46,
    "start_time": "2022-08-29T20:34:15.156Z"
   },
   {
    "duration": 17,
    "start_time": "2022-08-29T20:34:15.203Z"
   },
   {
    "duration": 12,
    "start_time": "2022-08-29T20:34:15.221Z"
   },
   {
    "duration": 25,
    "start_time": "2022-08-29T20:34:15.234Z"
   },
   {
    "duration": 21,
    "start_time": "2022-08-29T20:34:15.285Z"
   },
   {
    "duration": 8,
    "start_time": "2022-08-29T20:34:15.308Z"
   },
   {
    "duration": 187,
    "start_time": "2022-08-29T20:34:15.317Z"
   },
   {
    "duration": 5,
    "start_time": "2022-08-29T20:34:15.505Z"
   },
   {
    "duration": 295,
    "start_time": "2022-08-29T20:34:15.511Z"
   },
   {
    "duration": 15,
    "start_time": "2022-08-29T20:34:15.808Z"
   },
   {
    "duration": 217,
    "start_time": "2022-08-29T20:34:15.824Z"
   },
   {
    "duration": 30,
    "start_time": "2022-08-29T20:34:16.042Z"
   },
   {
    "duration": 12,
    "start_time": "2022-08-29T20:34:16.073Z"
   },
   {
    "duration": 38,
    "start_time": "2022-08-29T20:34:16.086Z"
   },
   {
    "duration": 40,
    "start_time": "2022-08-29T20:34:16.126Z"
   },
   {
    "duration": 22,
    "start_time": "2022-08-29T20:34:16.168Z"
   },
   {
    "duration": 6,
    "start_time": "2022-08-29T20:34:16.191Z"
   },
   {
    "duration": 6,
    "start_time": "2022-08-29T20:34:16.199Z"
   },
   {
    "duration": 5,
    "start_time": "2022-08-29T20:34:16.208Z"
   },
   {
    "duration": 14,
    "start_time": "2022-08-29T20:34:16.215Z"
   },
   {
    "duration": 12,
    "start_time": "2022-08-29T20:34:16.230Z"
   },
   {
    "duration": 43,
    "start_time": "2022-08-29T20:34:16.243Z"
   },
   {
    "duration": 14,
    "start_time": "2022-08-29T20:34:16.287Z"
   },
   {
    "duration": 10,
    "start_time": "2022-08-29T20:34:16.303Z"
   },
   {
    "duration": 6,
    "start_time": "2022-08-29T20:34:16.314Z"
   },
   {
    "duration": 6,
    "start_time": "2022-08-29T20:34:16.321Z"
   },
   {
    "duration": 12,
    "start_time": "2022-08-29T20:34:16.328Z"
   },
   {
    "duration": 21,
    "start_time": "2022-08-29T20:47:17.905Z"
   },
   {
    "duration": 15,
    "start_time": "2022-08-29T20:47:32.437Z"
   },
   {
    "duration": 17,
    "start_time": "2022-08-29T20:51:52.481Z"
   },
   {
    "duration": 15,
    "start_time": "2022-08-29T20:54:41.545Z"
   },
   {
    "duration": 87,
    "start_time": "2022-08-29T21:00:25.370Z"
   },
   {
    "duration": 37,
    "start_time": "2022-08-29T21:02:16.319Z"
   },
   {
    "duration": 17,
    "start_time": "2022-08-29T21:02:40.200Z"
   },
   {
    "duration": 42,
    "start_time": "2022-08-29T21:02:49.326Z"
   },
   {
    "duration": 33,
    "start_time": "2022-08-29T21:04:39.912Z"
   },
   {
    "duration": 9,
    "start_time": "2022-08-29T21:10:08.306Z"
   },
   {
    "duration": 731,
    "start_time": "2022-08-29T21:10:19.488Z"
   },
   {
    "duration": 970,
    "start_time": "2022-08-29T21:16:29.749Z"
   },
   {
    "duration": 72,
    "start_time": "2022-08-29T21:16:30.720Z"
   },
   {
    "duration": 172,
    "start_time": "2022-08-29T21:16:30.794Z"
   },
   {
    "duration": 5,
    "start_time": "2022-08-29T21:16:30.968Z"
   },
   {
    "duration": 11,
    "start_time": "2022-08-29T21:16:30.975Z"
   },
   {
    "duration": 8,
    "start_time": "2022-08-29T21:16:30.987Z"
   },
   {
    "duration": 22,
    "start_time": "2022-08-29T21:16:30.996Z"
   },
   {
    "duration": 40,
    "start_time": "2022-08-29T21:16:31.019Z"
   },
   {
    "duration": 4,
    "start_time": "2022-08-29T21:16:31.061Z"
   },
   {
    "duration": 35,
    "start_time": "2022-08-29T21:16:31.066Z"
   },
   {
    "duration": 17,
    "start_time": "2022-08-29T21:16:31.102Z"
   },
   {
    "duration": 12,
    "start_time": "2022-08-29T21:16:31.120Z"
   },
   {
    "duration": 28,
    "start_time": "2022-08-29T21:16:31.133Z"
   },
   {
    "duration": 22,
    "start_time": "2022-08-29T21:16:31.184Z"
   },
   {
    "duration": 8,
    "start_time": "2022-08-29T21:16:31.207Z"
   },
   {
    "duration": 179,
    "start_time": "2022-08-29T21:16:31.216Z"
   },
   {
    "duration": 5,
    "start_time": "2022-08-29T21:16:31.396Z"
   },
   {
    "duration": 34,
    "start_time": "2022-08-29T21:16:31.402Z"
   },
   {
    "duration": 37,
    "start_time": "2022-08-29T21:16:31.437Z"
   },
   {
    "duration": 790,
    "start_time": "2022-08-29T21:16:31.476Z"
   },
   {
    "duration": 827,
    "start_time": "2022-08-29T21:16:32.268Z"
   },
   {
    "duration": 0,
    "start_time": "2022-08-29T21:16:33.096Z"
   },
   {
    "duration": 0,
    "start_time": "2022-08-29T21:16:33.098Z"
   },
   {
    "duration": 0,
    "start_time": "2022-08-29T21:16:33.098Z"
   },
   {
    "duration": 0,
    "start_time": "2022-08-29T21:16:33.099Z"
   },
   {
    "duration": 0,
    "start_time": "2022-08-29T21:16:33.100Z"
   },
   {
    "duration": 0,
    "start_time": "2022-08-29T21:16:33.101Z"
   },
   {
    "duration": 0,
    "start_time": "2022-08-29T21:16:33.102Z"
   },
   {
    "duration": 0,
    "start_time": "2022-08-29T21:16:33.103Z"
   },
   {
    "duration": 0,
    "start_time": "2022-08-29T21:16:33.104Z"
   },
   {
    "duration": 0,
    "start_time": "2022-08-29T21:16:33.105Z"
   },
   {
    "duration": 0,
    "start_time": "2022-08-29T21:16:33.106Z"
   },
   {
    "duration": 0,
    "start_time": "2022-08-29T21:16:33.107Z"
   },
   {
    "duration": 0,
    "start_time": "2022-08-29T21:16:33.108Z"
   },
   {
    "duration": 0,
    "start_time": "2022-08-29T21:16:33.109Z"
   },
   {
    "duration": 0,
    "start_time": "2022-08-29T21:16:33.110Z"
   },
   {
    "duration": 0,
    "start_time": "2022-08-29T21:16:33.110Z"
   },
   {
    "duration": 38,
    "start_time": "2022-08-29T21:21:27.012Z"
   },
   {
    "duration": 36,
    "start_time": "2022-08-29T21:22:13.301Z"
   },
   {
    "duration": 993,
    "start_time": "2022-08-29T21:54:15.314Z"
   },
   {
    "duration": 173,
    "start_time": "2022-08-29T21:54:16.309Z"
   },
   {
    "duration": 260,
    "start_time": "2022-08-29T21:54:16.484Z"
   },
   {
    "duration": 5,
    "start_time": "2022-08-29T21:54:16.746Z"
   },
   {
    "duration": 8,
    "start_time": "2022-08-29T21:54:16.753Z"
   },
   {
    "duration": 25,
    "start_time": "2022-08-29T21:54:16.762Z"
   },
   {
    "duration": 11,
    "start_time": "2022-08-29T21:54:16.789Z"
   },
   {
    "duration": 34,
    "start_time": "2022-08-29T21:54:16.802Z"
   },
   {
    "duration": 4,
    "start_time": "2022-08-29T21:54:16.837Z"
   },
   {
    "duration": 46,
    "start_time": "2022-08-29T21:54:16.843Z"
   },
   {
    "duration": 17,
    "start_time": "2022-08-29T21:54:16.891Z"
   },
   {
    "duration": 13,
    "start_time": "2022-08-29T21:54:16.909Z"
   },
   {
    "duration": 26,
    "start_time": "2022-08-29T21:54:16.923Z"
   },
   {
    "duration": 43,
    "start_time": "2022-08-29T21:54:16.951Z"
   },
   {
    "duration": 9,
    "start_time": "2022-08-29T21:54:16.996Z"
   },
   {
    "duration": 192,
    "start_time": "2022-08-29T21:54:17.006Z"
   },
   {
    "duration": 5,
    "start_time": "2022-08-29T21:54:17.199Z"
   },
   {
    "duration": 95,
    "start_time": "2022-08-29T21:54:17.205Z"
   },
   {
    "duration": 0,
    "start_time": "2022-08-29T21:54:17.301Z"
   },
   {
    "duration": 0,
    "start_time": "2022-08-29T21:54:17.303Z"
   },
   {
    "duration": 0,
    "start_time": "2022-08-29T21:54:17.304Z"
   },
   {
    "duration": 0,
    "start_time": "2022-08-29T21:54:17.304Z"
   },
   {
    "duration": 0,
    "start_time": "2022-08-29T21:54:17.306Z"
   },
   {
    "duration": 0,
    "start_time": "2022-08-29T21:54:17.307Z"
   },
   {
    "duration": 0,
    "start_time": "2022-08-29T21:54:17.308Z"
   },
   {
    "duration": 0,
    "start_time": "2022-08-29T21:54:17.309Z"
   },
   {
    "duration": 0,
    "start_time": "2022-08-29T21:54:17.310Z"
   },
   {
    "duration": 0,
    "start_time": "2022-08-29T21:54:17.311Z"
   },
   {
    "duration": 0,
    "start_time": "2022-08-29T21:54:17.312Z"
   },
   {
    "duration": 0,
    "start_time": "2022-08-29T21:54:17.313Z"
   },
   {
    "duration": 0,
    "start_time": "2022-08-29T21:54:17.314Z"
   },
   {
    "duration": 0,
    "start_time": "2022-08-29T21:54:17.315Z"
   },
   {
    "duration": 0,
    "start_time": "2022-08-29T21:54:17.316Z"
   },
   {
    "duration": 0,
    "start_time": "2022-08-29T21:54:17.317Z"
   },
   {
    "duration": 0,
    "start_time": "2022-08-29T21:54:17.317Z"
   },
   {
    "duration": 0,
    "start_time": "2022-08-29T21:54:17.319Z"
   },
   {
    "duration": 663,
    "start_time": "2022-08-29T21:55:03.148Z"
   },
   {
    "duration": 35,
    "start_time": "2022-08-29T21:55:07.028Z"
   },
   {
    "duration": 36,
    "start_time": "2022-08-29T22:01:02.398Z"
   },
   {
    "duration": 14,
    "start_time": "2022-08-29T22:03:43.127Z"
   },
   {
    "duration": 15,
    "start_time": "2022-08-29T22:04:02.036Z"
   },
   {
    "duration": 17,
    "start_time": "2022-08-29T22:04:20.966Z"
   },
   {
    "duration": 16,
    "start_time": "2022-08-29T22:06:05.297Z"
   },
   {
    "duration": 18,
    "start_time": "2022-08-29T22:06:28.014Z"
   },
   {
    "duration": 18,
    "start_time": "2022-08-29T22:06:53.436Z"
   },
   {
    "duration": 12,
    "start_time": "2022-08-29T22:08:27.136Z"
   },
   {
    "duration": 8,
    "start_time": "2022-08-29T22:09:08.158Z"
   },
   {
    "duration": 9,
    "start_time": "2022-08-29T22:09:26.884Z"
   },
   {
    "duration": 11,
    "start_time": "2022-08-29T22:09:42.258Z"
   },
   {
    "duration": 13,
    "start_time": "2022-08-29T22:10:14.451Z"
   },
   {
    "duration": 10,
    "start_time": "2022-08-29T22:13:40.786Z"
   },
   {
    "duration": 53,
    "start_time": "2022-08-29T22:14:04.804Z"
   },
   {
    "duration": 15,
    "start_time": "2022-08-29T22:14:11.580Z"
   },
   {
    "duration": 199,
    "start_time": "2022-08-29T22:14:17.277Z"
   },
   {
    "duration": 223,
    "start_time": "2022-08-29T22:14:36.812Z"
   },
   {
    "duration": 175,
    "start_time": "2022-08-29T22:17:59.194Z"
   },
   {
    "duration": 342,
    "start_time": "2022-08-29T22:18:20.423Z"
   },
   {
    "duration": 236,
    "start_time": "2022-08-29T22:24:19.627Z"
   },
   {
    "duration": 14,
    "start_time": "2022-08-29T22:24:54.005Z"
   },
   {
    "duration": 5,
    "start_time": "2022-08-29T22:26:16.938Z"
   },
   {
    "duration": 7,
    "start_time": "2022-08-29T22:26:29.604Z"
   },
   {
    "duration": 1099,
    "start_time": "2022-08-29T22:26:46.763Z"
   },
   {
    "duration": 61,
    "start_time": "2022-08-29T22:26:47.864Z"
   },
   {
    "duration": 259,
    "start_time": "2022-08-29T22:26:47.926Z"
   },
   {
    "duration": 6,
    "start_time": "2022-08-29T22:26:48.187Z"
   },
   {
    "duration": 9,
    "start_time": "2022-08-29T22:26:48.194Z"
   },
   {
    "duration": 8,
    "start_time": "2022-08-29T22:26:48.205Z"
   },
   {
    "duration": 11,
    "start_time": "2022-08-29T22:26:48.214Z"
   },
   {
    "duration": 28,
    "start_time": "2022-08-29T22:26:48.226Z"
   },
   {
    "duration": 29,
    "start_time": "2022-08-29T22:26:48.256Z"
   },
   {
    "duration": 27,
    "start_time": "2022-08-29T22:26:48.289Z"
   },
   {
    "duration": 16,
    "start_time": "2022-08-29T22:26:48.318Z"
   },
   {
    "duration": 11,
    "start_time": "2022-08-29T22:26:48.336Z"
   },
   {
    "duration": 51,
    "start_time": "2022-08-29T22:26:48.348Z"
   },
   {
    "duration": 20,
    "start_time": "2022-08-29T22:26:48.400Z"
   },
   {
    "duration": 8,
    "start_time": "2022-08-29T22:26:48.421Z"
   },
   {
    "duration": 184,
    "start_time": "2022-08-29T22:26:48.430Z"
   },
   {
    "duration": 4,
    "start_time": "2022-08-29T22:26:48.616Z"
   },
   {
    "duration": 732,
    "start_time": "2022-08-29T22:26:48.621Z"
   },
   {
    "duration": 39,
    "start_time": "2022-08-29T22:26:49.354Z"
   },
   {
    "duration": 10,
    "start_time": "2022-08-29T22:26:49.394Z"
   },
   {
    "duration": 16,
    "start_time": "2022-08-29T22:26:49.405Z"
   },
   {
    "duration": 95,
    "start_time": "2022-08-29T22:26:49.422Z"
   },
   {
    "duration": 0,
    "start_time": "2022-08-29T22:26:49.519Z"
   },
   {
    "duration": 0,
    "start_time": "2022-08-29T22:26:49.520Z"
   },
   {
    "duration": 0,
    "start_time": "2022-08-29T22:26:49.520Z"
   },
   {
    "duration": 0,
    "start_time": "2022-08-29T22:26:49.521Z"
   },
   {
    "duration": 0,
    "start_time": "2022-08-29T22:26:49.522Z"
   },
   {
    "duration": 0,
    "start_time": "2022-08-29T22:26:49.524Z"
   },
   {
    "duration": 0,
    "start_time": "2022-08-29T22:26:49.525Z"
   },
   {
    "duration": 0,
    "start_time": "2022-08-29T22:26:49.526Z"
   },
   {
    "duration": 0,
    "start_time": "2022-08-29T22:26:49.528Z"
   },
   {
    "duration": 0,
    "start_time": "2022-08-29T22:26:49.529Z"
   },
   {
    "duration": 0,
    "start_time": "2022-08-29T22:26:49.530Z"
   },
   {
    "duration": 0,
    "start_time": "2022-08-29T22:26:49.531Z"
   },
   {
    "duration": 0,
    "start_time": "2022-08-29T22:26:49.532Z"
   },
   {
    "duration": 0,
    "start_time": "2022-08-29T22:26:49.534Z"
   },
   {
    "duration": 0,
    "start_time": "2022-08-29T22:26:49.535Z"
   },
   {
    "duration": 0,
    "start_time": "2022-08-29T22:26:49.536Z"
   },
   {
    "duration": 0,
    "start_time": "2022-08-29T22:26:49.537Z"
   },
   {
    "duration": 0,
    "start_time": "2022-08-29T22:26:49.538Z"
   },
   {
    "duration": 0,
    "start_time": "2022-08-29T22:26:49.540Z"
   },
   {
    "duration": 308,
    "start_time": "2022-08-29T22:27:04.590Z"
   },
   {
    "duration": 16,
    "start_time": "2022-08-29T22:27:09.377Z"
   },
   {
    "duration": 6,
    "start_time": "2022-08-29T22:27:12.089Z"
   },
   {
    "duration": 32,
    "start_time": "2022-08-29T22:27:15.732Z"
   },
   {
    "duration": 2,
    "start_time": "2022-08-29T22:27:18.249Z"
   },
   {
    "duration": 32,
    "start_time": "2022-08-29T22:27:22.482Z"
   },
   {
    "duration": 37,
    "start_time": "2022-08-29T22:27:28.594Z"
   },
   {
    "duration": 8,
    "start_time": "2022-08-29T22:27:32.957Z"
   },
   {
    "duration": 7,
    "start_time": "2022-08-29T22:27:36.129Z"
   },
   {
    "duration": 5,
    "start_time": "2022-08-29T22:27:40.591Z"
   },
   {
    "duration": 6,
    "start_time": "2022-08-29T22:27:46.524Z"
   },
   {
    "duration": 16,
    "start_time": "2022-08-29T22:28:04.603Z"
   },
   {
    "duration": 17,
    "start_time": "2022-08-29T22:28:21.037Z"
   },
   {
    "duration": 13,
    "start_time": "2022-08-29T22:28:27.075Z"
   },
   {
    "duration": 12,
    "start_time": "2022-08-29T22:28:32.967Z"
   },
   {
    "duration": 16,
    "start_time": "2022-08-29T22:28:39.784Z"
   },
   {
    "duration": 13,
    "start_time": "2022-08-29T22:28:41.820Z"
   },
   {
    "duration": 7,
    "start_time": "2022-08-29T22:28:44.126Z"
   },
   {
    "duration": 5,
    "start_time": "2022-08-29T22:28:45.999Z"
   },
   {
    "duration": 5,
    "start_time": "2022-08-29T22:28:48.625Z"
   },
   {
    "duration": 24,
    "start_time": "2022-08-29T22:36:09.667Z"
   },
   {
    "duration": 34,
    "start_time": "2022-08-29T22:50:44.502Z"
   },
   {
    "duration": 1242,
    "start_time": "2022-08-31T14:06:07.770Z"
   },
   {
    "duration": 195,
    "start_time": "2022-08-31T14:06:09.014Z"
   },
   {
    "duration": 286,
    "start_time": "2022-08-31T14:06:09.210Z"
   },
   {
    "duration": 8,
    "start_time": "2022-08-31T14:06:09.498Z"
   },
   {
    "duration": 12,
    "start_time": "2022-08-31T14:06:09.507Z"
   },
   {
    "duration": 13,
    "start_time": "2022-08-31T14:06:09.521Z"
   },
   {
    "duration": 17,
    "start_time": "2022-08-31T14:06:09.536Z"
   },
   {
    "duration": 32,
    "start_time": "2022-08-31T14:06:09.555Z"
   },
   {
    "duration": 3,
    "start_time": "2022-08-31T14:06:09.589Z"
   },
   {
    "duration": 29,
    "start_time": "2022-08-31T14:06:09.605Z"
   },
   {
    "duration": 21,
    "start_time": "2022-08-31T14:06:09.636Z"
   },
   {
    "duration": 23,
    "start_time": "2022-08-31T14:06:09.659Z"
   },
   {
    "duration": 43,
    "start_time": "2022-08-31T14:06:09.683Z"
   },
   {
    "duration": 21,
    "start_time": "2022-08-31T14:06:09.728Z"
   },
   {
    "duration": 18,
    "start_time": "2022-08-31T14:06:09.752Z"
   },
   {
    "duration": 208,
    "start_time": "2022-08-31T14:06:09.772Z"
   },
   {
    "duration": 4,
    "start_time": "2022-08-31T14:06:09.982Z"
   },
   {
    "duration": 805,
    "start_time": "2022-08-31T14:06:09.988Z"
   },
   {
    "duration": 43,
    "start_time": "2022-08-31T14:06:10.795Z"
   },
   {
    "duration": 10,
    "start_time": "2022-08-31T14:06:10.839Z"
   },
   {
    "duration": 19,
    "start_time": "2022-08-31T14:06:10.850Z"
   },
   {
    "duration": 388,
    "start_time": "2022-08-31T14:06:10.870Z"
   },
   {
    "duration": 16,
    "start_time": "2022-08-31T14:06:11.260Z"
   },
   {
    "duration": 6,
    "start_time": "2022-08-31T14:06:11.278Z"
   },
   {
    "duration": 45,
    "start_time": "2022-08-31T14:06:11.286Z"
   },
   {
    "duration": 29,
    "start_time": "2022-08-31T14:06:11.333Z"
   },
   {
    "duration": 49,
    "start_time": "2022-08-31T14:06:11.364Z"
   },
   {
    "duration": 38,
    "start_time": "2022-08-31T14:06:11.416Z"
   },
   {
    "duration": 8,
    "start_time": "2022-08-31T14:06:11.455Z"
   },
   {
    "duration": 7,
    "start_time": "2022-08-31T14:06:11.464Z"
   },
   {
    "duration": 9,
    "start_time": "2022-08-31T14:06:11.472Z"
   },
   {
    "duration": 28,
    "start_time": "2022-08-31T14:06:11.482Z"
   },
   {
    "duration": 16,
    "start_time": "2022-08-31T14:06:11.512Z"
   },
   {
    "duration": 18,
    "start_time": "2022-08-31T14:06:11.530Z"
   },
   {
    "duration": 12,
    "start_time": "2022-08-31T14:06:11.550Z"
   },
   {
    "duration": 15,
    "start_time": "2022-08-31T14:06:11.564Z"
   },
   {
    "duration": 36,
    "start_time": "2022-08-31T14:06:11.580Z"
   },
   {
    "duration": 13,
    "start_time": "2022-08-31T14:06:11.617Z"
   },
   {
    "duration": 6,
    "start_time": "2022-08-31T14:06:11.631Z"
   },
   {
    "duration": 12,
    "start_time": "2022-08-31T14:06:11.638Z"
   },
   {
    "duration": 12,
    "start_time": "2022-08-31T14:24:56.091Z"
   },
   {
    "duration": 23,
    "start_time": "2022-08-31T14:28:26.456Z"
   },
   {
    "duration": 15,
    "start_time": "2022-08-31T14:29:14.751Z"
   },
   {
    "duration": 14,
    "start_time": "2022-08-31T14:34:03.089Z"
   },
   {
    "duration": 19,
    "start_time": "2022-08-31T14:34:16.695Z"
   },
   {
    "duration": 22,
    "start_time": "2022-08-31T14:42:56.482Z"
   },
   {
    "duration": 27,
    "start_time": "2022-08-31T14:43:10.238Z"
   },
   {
    "duration": 22,
    "start_time": "2022-08-31T14:44:29.636Z"
   },
   {
    "duration": 100,
    "start_time": "2022-08-31T14:45:53.537Z"
   },
   {
    "duration": 36,
    "start_time": "2022-08-31T14:46:04.096Z"
   },
   {
    "duration": 21,
    "start_time": "2022-08-31T14:46:45.740Z"
   },
   {
    "duration": 45,
    "start_time": "2022-08-31T14:47:56.201Z"
   },
   {
    "duration": 26,
    "start_time": "2022-08-31T14:48:14.980Z"
   },
   {
    "duration": 41,
    "start_time": "2022-08-31T14:48:30.843Z"
   },
   {
    "duration": 76,
    "start_time": "2022-08-31T14:48:47.272Z"
   },
   {
    "duration": 34,
    "start_time": "2022-08-31T14:48:52.093Z"
   },
   {
    "duration": 34,
    "start_time": "2022-08-31T14:49:51.434Z"
   },
   {
    "duration": 37,
    "start_time": "2022-08-31T14:50:03.545Z"
   },
   {
    "duration": 35,
    "start_time": "2022-08-31T14:50:54.098Z"
   },
   {
    "duration": 35,
    "start_time": "2022-08-31T14:51:02.626Z"
   },
   {
    "duration": 37,
    "start_time": "2022-08-31T14:51:09.041Z"
   },
   {
    "duration": 28,
    "start_time": "2022-08-31T14:52:19.602Z"
   },
   {
    "duration": 28,
    "start_time": "2022-08-31T14:52:28.345Z"
   },
   {
    "duration": 28,
    "start_time": "2022-08-31T14:52:32.575Z"
   },
   {
    "duration": 120,
    "start_time": "2022-08-31T14:57:45.020Z"
   },
   {
    "duration": 1029,
    "start_time": "2022-08-31T14:58:33.080Z"
   },
   {
    "duration": 17,
    "start_time": "2022-08-31T15:00:44.237Z"
   },
   {
    "duration": 933,
    "start_time": "2022-08-31T15:00:56.679Z"
   },
   {
    "duration": 617,
    "start_time": "2022-08-31T15:01:40.545Z"
   },
   {
    "duration": 663,
    "start_time": "2022-08-31T15:02:34.754Z"
   },
   {
    "duration": 1439,
    "start_time": "2022-08-31T15:06:12.776Z"
   },
   {
    "duration": 403,
    "start_time": "2022-08-31T15:08:25.212Z"
   },
   {
    "duration": 16,
    "start_time": "2022-08-31T15:39:53.087Z"
   },
   {
    "duration": 56,
    "start_time": "2022-08-31T15:40:47.968Z"
   },
   {
    "duration": 27,
    "start_time": "2022-08-31T15:41:51.753Z"
   },
   {
    "duration": 74,
    "start_time": "2022-08-31T15:44:30.746Z"
   },
   {
    "duration": 197,
    "start_time": "2022-08-31T15:45:02.336Z"
   },
   {
    "duration": 9,
    "start_time": "2022-08-31T15:45:07.102Z"
   },
   {
    "duration": 32,
    "start_time": "2022-08-31T15:45:12.188Z"
   },
   {
    "duration": 30,
    "start_time": "2022-08-31T15:45:20.128Z"
   },
   {
    "duration": 25,
    "start_time": "2022-08-31T15:45:30.274Z"
   },
   {
    "duration": 42,
    "start_time": "2022-08-31T15:48:49.758Z"
   },
   {
    "duration": 95,
    "start_time": "2022-08-31T15:48:54.885Z"
   },
   {
    "duration": 30,
    "start_time": "2022-08-31T15:48:58.409Z"
   },
   {
    "duration": 11,
    "start_time": "2022-08-31T15:58:57.968Z"
   },
   {
    "duration": 9,
    "start_time": "2022-08-31T15:59:25.946Z"
   },
   {
    "duration": 17,
    "start_time": "2022-08-31T16:03:35.263Z"
   },
   {
    "duration": 18,
    "start_time": "2022-08-31T16:03:52.112Z"
   },
   {
    "duration": 18,
    "start_time": "2022-08-31T16:04:01.999Z"
   },
   {
    "duration": 19,
    "start_time": "2022-08-31T16:04:45.370Z"
   },
   {
    "duration": 17,
    "start_time": "2022-08-31T16:06:30.899Z"
   },
   {
    "duration": 25,
    "start_time": "2022-08-31T16:11:05.070Z"
   },
   {
    "duration": 20,
    "start_time": "2022-08-31T16:11:23.080Z"
   },
   {
    "duration": 20,
    "start_time": "2022-08-31T16:11:25.863Z"
   },
   {
    "duration": 13,
    "start_time": "2022-08-31T16:12:42.399Z"
   },
   {
    "duration": 17,
    "start_time": "2022-08-31T16:12:47.687Z"
   },
   {
    "duration": 87,
    "start_time": "2022-08-31T16:13:28.618Z"
   },
   {
    "duration": 12,
    "start_time": "2022-08-31T16:13:32.047Z"
   },
   {
    "duration": 10,
    "start_time": "2022-08-31T17:52:33.063Z"
   },
   {
    "duration": 15,
    "start_time": "2022-08-31T18:01:20.347Z"
   },
   {
    "duration": 35,
    "start_time": "2022-08-31T18:02:09.900Z"
   },
   {
    "duration": 18,
    "start_time": "2022-08-31T18:03:05.621Z"
   },
   {
    "duration": 12,
    "start_time": "2022-08-31T18:04:31.592Z"
   },
   {
    "duration": 11,
    "start_time": "2022-08-31T18:04:42.659Z"
   },
   {
    "duration": 253,
    "start_time": "2022-08-31T18:06:11.738Z"
   },
   {
    "duration": 13,
    "start_time": "2022-08-31T18:06:16.573Z"
   },
   {
    "duration": 58,
    "start_time": "2022-08-31T18:06:26.787Z"
   },
   {
    "duration": 4,
    "start_time": "2022-08-31T18:06:51.941Z"
   },
   {
    "duration": 1122,
    "start_time": "2022-08-31T18:07:40.048Z"
   },
   {
    "duration": 77,
    "start_time": "2022-08-31T18:07:41.172Z"
   },
   {
    "duration": 213,
    "start_time": "2022-08-31T18:07:41.251Z"
   },
   {
    "duration": 7,
    "start_time": "2022-08-31T18:07:41.466Z"
   },
   {
    "duration": 32,
    "start_time": "2022-08-31T18:07:41.475Z"
   },
   {
    "duration": 10,
    "start_time": "2022-08-31T18:07:41.509Z"
   },
   {
    "duration": 24,
    "start_time": "2022-08-31T18:07:41.520Z"
   },
   {
    "duration": 24,
    "start_time": "2022-08-31T18:07:41.545Z"
   },
   {
    "duration": 30,
    "start_time": "2022-08-31T18:07:41.571Z"
   },
   {
    "duration": 50,
    "start_time": "2022-08-31T18:07:41.604Z"
   },
   {
    "duration": 4,
    "start_time": "2022-08-31T18:07:41.656Z"
   },
   {
    "duration": 964,
    "start_time": "2022-08-31T18:07:41.662Z"
   },
   {
    "duration": 0,
    "start_time": "2022-08-31T18:07:42.628Z"
   },
   {
    "duration": 0,
    "start_time": "2022-08-31T18:07:42.629Z"
   },
   {
    "duration": 0,
    "start_time": "2022-08-31T18:07:42.630Z"
   },
   {
    "duration": 0,
    "start_time": "2022-08-31T18:07:42.631Z"
   },
   {
    "duration": 0,
    "start_time": "2022-08-31T18:07:42.632Z"
   },
   {
    "duration": 0,
    "start_time": "2022-08-31T18:07:42.633Z"
   },
   {
    "duration": 0,
    "start_time": "2022-08-31T18:07:42.634Z"
   },
   {
    "duration": 0,
    "start_time": "2022-08-31T18:07:42.635Z"
   },
   {
    "duration": 0,
    "start_time": "2022-08-31T18:07:42.636Z"
   },
   {
    "duration": 0,
    "start_time": "2022-08-31T18:07:42.637Z"
   },
   {
    "duration": 0,
    "start_time": "2022-08-31T18:07:42.638Z"
   },
   {
    "duration": 0,
    "start_time": "2022-08-31T18:07:42.638Z"
   },
   {
    "duration": 0,
    "start_time": "2022-08-31T18:07:42.639Z"
   },
   {
    "duration": 0,
    "start_time": "2022-08-31T18:07:42.640Z"
   },
   {
    "duration": 0,
    "start_time": "2022-08-31T18:07:42.641Z"
   },
   {
    "duration": 0,
    "start_time": "2022-08-31T18:07:42.642Z"
   },
   {
    "duration": 0,
    "start_time": "2022-08-31T18:07:42.643Z"
   },
   {
    "duration": 0,
    "start_time": "2022-08-31T18:07:42.645Z"
   },
   {
    "duration": 0,
    "start_time": "2022-08-31T18:07:42.646Z"
   },
   {
    "duration": 0,
    "start_time": "2022-08-31T18:07:42.647Z"
   },
   {
    "duration": 0,
    "start_time": "2022-08-31T18:07:42.649Z"
   },
   {
    "duration": 0,
    "start_time": "2022-08-31T18:07:42.650Z"
   },
   {
    "duration": 0,
    "start_time": "2022-08-31T18:07:42.651Z"
   },
   {
    "duration": 0,
    "start_time": "2022-08-31T18:07:42.652Z"
   },
   {
    "duration": 0,
    "start_time": "2022-08-31T18:07:42.654Z"
   },
   {
    "duration": 0,
    "start_time": "2022-08-31T18:07:42.655Z"
   },
   {
    "duration": 0,
    "start_time": "2022-08-31T18:07:42.656Z"
   },
   {
    "duration": 0,
    "start_time": "2022-08-31T18:07:42.657Z"
   },
   {
    "duration": 0,
    "start_time": "2022-08-31T18:07:42.659Z"
   },
   {
    "duration": 0,
    "start_time": "2022-08-31T18:07:42.660Z"
   },
   {
    "duration": 0,
    "start_time": "2022-08-31T18:07:42.661Z"
   },
   {
    "duration": 0,
    "start_time": "2022-08-31T18:07:42.662Z"
   },
   {
    "duration": 0,
    "start_time": "2022-08-31T18:07:42.663Z"
   },
   {
    "duration": 0,
    "start_time": "2022-08-31T18:07:42.705Z"
   },
   {
    "duration": 0,
    "start_time": "2022-08-31T18:07:42.707Z"
   },
   {
    "duration": 0,
    "start_time": "2022-08-31T18:07:42.708Z"
   },
   {
    "duration": 1194,
    "start_time": "2022-08-31T18:11:27.803Z"
   },
   {
    "duration": 93,
    "start_time": "2022-08-31T18:11:31.821Z"
   },
   {
    "duration": 262,
    "start_time": "2022-08-31T18:11:37.868Z"
   },
   {
    "duration": 8,
    "start_time": "2022-08-31T18:11:42.365Z"
   },
   {
    "duration": 5,
    "start_time": "2022-08-31T18:11:44.522Z"
   },
   {
    "duration": 7,
    "start_time": "2022-08-31T18:11:48.736Z"
   },
   {
    "duration": 11,
    "start_time": "2022-08-31T18:11:51.541Z"
   },
   {
    "duration": 6,
    "start_time": "2022-08-31T18:12:33.903Z"
   },
   {
    "duration": 12,
    "start_time": "2022-08-31T18:12:37.220Z"
   },
   {
    "duration": 1150,
    "start_time": "2022-08-31T18:12:42.870Z"
   },
   {
    "duration": 1034,
    "start_time": "2022-08-31T18:13:23.659Z"
   },
   {
    "duration": 108,
    "start_time": "2022-08-31T18:13:27.950Z"
   },
   {
    "duration": 225,
    "start_time": "2022-08-31T18:13:32.547Z"
   },
   {
    "duration": 6,
    "start_time": "2022-08-31T18:13:35.140Z"
   },
   {
    "duration": 12,
    "start_time": "2022-08-31T18:13:36.913Z"
   },
   {
    "duration": 12,
    "start_time": "2022-08-31T18:13:38.549Z"
   },
   {
    "duration": 17,
    "start_time": "2022-08-31T18:13:41.999Z"
   },
   {
    "duration": 35,
    "start_time": "2022-08-31T18:13:44.793Z"
   },
   {
    "duration": 8,
    "start_time": "2022-08-31T18:13:46.502Z"
   },
   {
    "duration": 28,
    "start_time": "2022-08-31T18:13:49.557Z"
   },
   {
    "duration": 20,
    "start_time": "2022-08-31T18:14:07.524Z"
   },
   {
    "duration": 25,
    "start_time": "2022-08-31T18:16:44.800Z"
   },
   {
    "duration": 102,
    "start_time": "2022-08-31T18:18:29.484Z"
   },
   {
    "duration": 11,
    "start_time": "2022-08-31T18:18:35.849Z"
   },
   {
    "duration": 25,
    "start_time": "2022-08-31T18:18:38.163Z"
   },
   {
    "duration": 30,
    "start_time": "2022-08-31T18:18:40.569Z"
   },
   {
    "duration": 23,
    "start_time": "2022-08-31T18:18:43.822Z"
   },
   {
    "duration": 18,
    "start_time": "2022-08-31T18:18:48.672Z"
   },
   {
    "duration": 1072,
    "start_time": "2022-08-31T18:18:53.759Z"
   },
   {
    "duration": 76,
    "start_time": "2022-08-31T18:18:54.833Z"
   },
   {
    "duration": 206,
    "start_time": "2022-08-31T18:18:54.919Z"
   },
   {
    "duration": 7,
    "start_time": "2022-08-31T18:18:55.127Z"
   },
   {
    "duration": 22,
    "start_time": "2022-08-31T18:18:55.136Z"
   },
   {
    "duration": 14,
    "start_time": "2022-08-31T18:18:55.160Z"
   },
   {
    "duration": 34,
    "start_time": "2022-08-31T18:18:55.176Z"
   },
   {
    "duration": 23,
    "start_time": "2022-08-31T18:18:55.212Z"
   },
   {
    "duration": 13,
    "start_time": "2022-08-31T18:18:55.237Z"
   },
   {
    "duration": 64,
    "start_time": "2022-08-31T18:18:55.252Z"
   },
   {
    "duration": 4,
    "start_time": "2022-08-31T18:18:55.318Z"
   },
   {
    "duration": 31,
    "start_time": "2022-08-31T18:18:55.324Z"
   },
   {
    "duration": 50,
    "start_time": "2022-08-31T18:18:55.357Z"
   },
   {
    "duration": 13,
    "start_time": "2022-08-31T18:18:55.408Z"
   },
   {
    "duration": 25,
    "start_time": "2022-08-31T18:18:55.423Z"
   },
   {
    "duration": 20,
    "start_time": "2022-08-31T18:18:55.449Z"
   },
   {
    "duration": 37,
    "start_time": "2022-08-31T18:18:55.471Z"
   },
   {
    "duration": 233,
    "start_time": "2022-08-31T18:18:55.510Z"
   },
   {
    "duration": 6,
    "start_time": "2022-08-31T18:18:55.745Z"
   },
   {
    "duration": 964,
    "start_time": "2022-08-31T18:18:55.753Z"
   },
   {
    "duration": 111,
    "start_time": "2022-08-31T18:18:56.719Z"
   },
   {
    "duration": 12,
    "start_time": "2022-08-31T18:18:56.833Z"
   },
   {
    "duration": 78,
    "start_time": "2022-08-31T18:18:56.846Z"
   },
   {
    "duration": 619,
    "start_time": "2022-08-31T18:18:56.925Z"
   },
   {
    "duration": 77,
    "start_time": "2022-08-31T18:18:57.546Z"
   },
   {
    "duration": 11,
    "start_time": "2022-08-31T18:18:57.625Z"
   },
   {
    "duration": 95,
    "start_time": "2022-08-31T18:18:57.641Z"
   },
   {
    "duration": 88,
    "start_time": "2022-08-31T18:18:57.739Z"
   },
   {
    "duration": 1296,
    "start_time": "2022-08-31T18:18:57.829Z"
   },
   {
    "duration": 807,
    "start_time": "2022-08-31T18:18:59.127Z"
   },
   {
    "duration": 492,
    "start_time": "2022-08-31T18:18:59.936Z"
   },
   {
    "duration": 42,
    "start_time": "2022-08-31T18:19:00.430Z"
   },
   {
    "duration": 33,
    "start_time": "2022-08-31T18:19:00.473Z"
   },
   {
    "duration": 60,
    "start_time": "2022-08-31T18:19:00.508Z"
   },
   {
    "duration": 53,
    "start_time": "2022-08-31T18:19:00.570Z"
   },
   {
    "duration": 65,
    "start_time": "2022-08-31T18:19:00.625Z"
   },
   {
    "duration": 25,
    "start_time": "2022-08-31T18:19:00.692Z"
   },
   {
    "duration": 8,
    "start_time": "2022-08-31T18:19:00.719Z"
   },
   {
    "duration": 26,
    "start_time": "2022-08-31T18:19:00.729Z"
   },
   {
    "duration": 21,
    "start_time": "2022-08-31T18:19:00.757Z"
   },
   {
    "duration": 26,
    "start_time": "2022-08-31T18:19:00.780Z"
   },
   {
    "duration": 18,
    "start_time": "2022-08-31T18:19:00.809Z"
   },
   {
    "duration": 29,
    "start_time": "2022-08-31T18:19:00.829Z"
   },
   {
    "duration": 17,
    "start_time": "2022-08-31T18:19:00.860Z"
   },
   {
    "duration": 35,
    "start_time": "2022-08-31T18:19:00.879Z"
   },
   {
    "duration": 16,
    "start_time": "2022-08-31T18:19:00.916Z"
   },
   {
    "duration": 6,
    "start_time": "2022-08-31T18:19:00.934Z"
   },
   {
    "duration": 12,
    "start_time": "2022-08-31T18:19:00.942Z"
   },
   {
    "duration": 14,
    "start_time": "2022-08-31T18:42:11.342Z"
   },
   {
    "duration": 16,
    "start_time": "2022-08-31T18:45:58.051Z"
   },
   {
    "duration": 12,
    "start_time": "2022-08-31T18:46:55.068Z"
   },
   {
    "duration": 117,
    "start_time": "2022-08-31T18:47:10.553Z"
   },
   {
    "duration": 13,
    "start_time": "2022-08-31T18:47:38.385Z"
   },
   {
    "duration": 13,
    "start_time": "2022-08-31T18:50:12.523Z"
   },
   {
    "duration": 17,
    "start_time": "2022-08-31T18:51:27.893Z"
   },
   {
    "duration": 48,
    "start_time": "2022-08-31T18:52:43.329Z"
   },
   {
    "duration": 13,
    "start_time": "2022-08-31T18:53:34.079Z"
   },
   {
    "duration": 20,
    "start_time": "2022-08-31T18:55:01.130Z"
   },
   {
    "duration": 11,
    "start_time": "2022-08-31T18:55:45.073Z"
   },
   {
    "duration": 21,
    "start_time": "2022-08-31T18:55:57.010Z"
   },
   {
    "duration": 16,
    "start_time": "2022-08-31T18:56:57.932Z"
   },
   {
    "duration": 14,
    "start_time": "2022-08-31T18:57:02.796Z"
   },
   {
    "duration": 12,
    "start_time": "2022-08-31T18:57:08.170Z"
   },
   {
    "duration": 15,
    "start_time": "2022-08-31T18:57:41.553Z"
   },
   {
    "duration": 32,
    "start_time": "2022-08-31T18:58:58.031Z"
   },
   {
    "duration": 24,
    "start_time": "2022-08-31T18:59:10.826Z"
   },
   {
    "duration": 26,
    "start_time": "2022-08-31T18:59:23.456Z"
   },
   {
    "duration": 17,
    "start_time": "2022-08-31T18:59:38.888Z"
   },
   {
    "duration": 120,
    "start_time": "2022-08-31T18:59:44.759Z"
   },
   {
    "duration": 1094,
    "start_time": "2022-08-31T19:04:43.499Z"
   },
   {
    "duration": 157,
    "start_time": "2022-08-31T19:04:44.595Z"
   },
   {
    "duration": 282,
    "start_time": "2022-08-31T19:04:44.753Z"
   },
   {
    "duration": 7,
    "start_time": "2022-08-31T19:04:45.037Z"
   },
   {
    "duration": 6,
    "start_time": "2022-08-31T19:04:45.045Z"
   },
   {
    "duration": 10,
    "start_time": "2022-08-31T19:04:45.052Z"
   },
   {
    "duration": 13,
    "start_time": "2022-08-31T19:04:45.064Z"
   },
   {
    "duration": 30,
    "start_time": "2022-08-31T19:04:45.079Z"
   },
   {
    "duration": 18,
    "start_time": "2022-08-31T19:04:45.112Z"
   },
   {
    "duration": 40,
    "start_time": "2022-08-31T19:04:45.134Z"
   },
   {
    "duration": 5,
    "start_time": "2022-08-31T19:04:45.175Z"
   },
   {
    "duration": 40,
    "start_time": "2022-08-31T19:04:45.181Z"
   },
   {
    "duration": 31,
    "start_time": "2022-08-31T19:04:45.222Z"
   },
   {
    "duration": 13,
    "start_time": "2022-08-31T19:04:45.254Z"
   },
   {
    "duration": 24,
    "start_time": "2022-08-31T19:04:45.268Z"
   },
   {
    "duration": 43,
    "start_time": "2022-08-31T19:04:45.293Z"
   },
   {
    "duration": 8,
    "start_time": "2022-08-31T19:04:45.338Z"
   },
   {
    "duration": 196,
    "start_time": "2022-08-31T19:04:45.347Z"
   },
   {
    "duration": 5,
    "start_time": "2022-08-31T19:04:45.544Z"
   },
   {
    "duration": 831,
    "start_time": "2022-08-31T19:04:45.550Z"
   },
   {
    "duration": 59,
    "start_time": "2022-08-31T19:04:46.384Z"
   },
   {
    "duration": 13,
    "start_time": "2022-08-31T19:04:46.445Z"
   },
   {
    "duration": 22,
    "start_time": "2022-08-31T19:04:46.461Z"
   },
   {
    "duration": 340,
    "start_time": "2022-08-31T19:04:46.484Z"
   },
   {
    "duration": 17,
    "start_time": "2022-08-31T19:04:46.828Z"
   },
   {
    "duration": 8,
    "start_time": "2022-08-31T19:04:46.846Z"
   },
   {
    "duration": 25,
    "start_time": "2022-08-31T19:04:46.855Z"
   },
   {
    "duration": 61,
    "start_time": "2022-08-31T19:04:46.884Z"
   },
   {
    "duration": 642,
    "start_time": "2022-08-31T19:04:46.947Z"
   },
   {
    "duration": 737,
    "start_time": "2022-08-31T19:04:47.590Z"
   },
   {
    "duration": 442,
    "start_time": "2022-08-31T19:04:48.331Z"
   },
   {
    "duration": 45,
    "start_time": "2022-08-31T19:04:48.775Z"
   },
   {
    "duration": 111,
    "start_time": "2022-08-31T19:04:48.821Z"
   },
   {
    "duration": 31,
    "start_time": "2022-08-31T19:04:48.934Z"
   },
   {
    "duration": 27,
    "start_time": "2022-08-31T19:04:48.967Z"
   },
   {
    "duration": 53,
    "start_time": "2022-08-31T19:04:48.995Z"
   },
   {
    "duration": 7,
    "start_time": "2022-08-31T19:04:49.050Z"
   },
   {
    "duration": 5,
    "start_time": "2022-08-31T19:04:49.059Z"
   },
   {
    "duration": 10,
    "start_time": "2022-08-31T19:04:49.066Z"
   },
   {
    "duration": 8,
    "start_time": "2022-08-31T19:04:49.078Z"
   },
   {
    "duration": 44,
    "start_time": "2022-08-31T19:04:49.087Z"
   },
   {
    "duration": 13,
    "start_time": "2022-08-31T19:04:49.133Z"
   },
   {
    "duration": 19,
    "start_time": "2022-08-31T19:04:49.147Z"
   },
   {
    "duration": 14,
    "start_time": "2022-08-31T19:04:49.167Z"
   },
   {
    "duration": 11,
    "start_time": "2022-08-31T19:04:49.182Z"
   },
   {
    "duration": 24,
    "start_time": "2022-08-31T19:04:49.195Z"
   },
   {
    "duration": 23,
    "start_time": "2022-08-31T19:04:49.220Z"
   },
   {
    "duration": 9,
    "start_time": "2022-08-31T19:04:49.245Z"
   },
   {
    "duration": 1259,
    "start_time": "2022-08-31T21:04:35.366Z"
   },
   {
    "duration": 125,
    "start_time": "2022-08-31T21:04:36.627Z"
   },
   {
    "duration": 251,
    "start_time": "2022-08-31T21:04:36.753Z"
   },
   {
    "duration": 5,
    "start_time": "2022-08-31T21:04:37.006Z"
   },
   {
    "duration": 8,
    "start_time": "2022-08-31T21:04:37.013Z"
   },
   {
    "duration": 15,
    "start_time": "2022-08-31T21:04:37.022Z"
   },
   {
    "duration": 17,
    "start_time": "2022-08-31T21:04:37.038Z"
   },
   {
    "duration": 26,
    "start_time": "2022-08-31T21:04:37.056Z"
   },
   {
    "duration": 15,
    "start_time": "2022-08-31T21:04:37.084Z"
   },
   {
    "duration": 29,
    "start_time": "2022-08-31T21:04:37.101Z"
   },
   {
    "duration": 4,
    "start_time": "2022-08-31T21:04:37.132Z"
   },
   {
    "duration": 28,
    "start_time": "2022-08-31T21:04:37.137Z"
   },
   {
    "duration": 41,
    "start_time": "2022-08-31T21:04:37.167Z"
   },
   {
    "duration": 13,
    "start_time": "2022-08-31T21:04:37.209Z"
   },
   {
    "duration": 27,
    "start_time": "2022-08-31T21:04:37.223Z"
   },
   {
    "duration": 21,
    "start_time": "2022-08-31T21:04:37.252Z"
   },
   {
    "duration": 9,
    "start_time": "2022-08-31T21:04:37.298Z"
   },
   {
    "duration": 184,
    "start_time": "2022-08-31T21:04:37.309Z"
   },
   {
    "duration": 6,
    "start_time": "2022-08-31T21:04:37.498Z"
   },
   {
    "duration": 745,
    "start_time": "2022-08-31T21:04:37.505Z"
   },
   {
    "duration": 36,
    "start_time": "2022-08-31T21:04:38.252Z"
   },
   {
    "duration": 16,
    "start_time": "2022-08-31T21:04:38.290Z"
   },
   {
    "duration": 30,
    "start_time": "2022-08-31T21:04:38.307Z"
   },
   {
    "duration": 389,
    "start_time": "2022-08-31T21:04:38.338Z"
   },
   {
    "duration": 13,
    "start_time": "2022-08-31T21:04:38.729Z"
   },
   {
    "duration": 12,
    "start_time": "2022-08-31T21:04:38.743Z"
   },
   {
    "duration": 43,
    "start_time": "2022-08-31T21:04:38.756Z"
   },
   {
    "duration": 30,
    "start_time": "2022-08-31T21:04:38.803Z"
   },
   {
    "duration": 603,
    "start_time": "2022-08-31T21:04:38.834Z"
   },
   {
    "duration": 695,
    "start_time": "2022-08-31T21:04:39.438Z"
   },
   {
    "duration": 982,
    "start_time": "2022-08-31T21:04:40.135Z"
   },
   {
    "duration": 83,
    "start_time": "2022-08-31T21:04:41.119Z"
   },
   {
    "duration": 227,
    "start_time": "2022-08-31T21:04:41.205Z"
   },
   {
    "duration": 87,
    "start_time": "2022-08-31T21:04:41.434Z"
   },
   {
    "duration": 82,
    "start_time": "2022-08-31T21:04:41.522Z"
   },
   {
    "duration": 93,
    "start_time": "2022-08-31T21:04:41.606Z"
   },
   {
    "duration": 9,
    "start_time": "2022-08-31T21:04:41.701Z"
   },
   {
    "duration": 10,
    "start_time": "2022-08-31T21:04:41.711Z"
   },
   {
    "duration": 10,
    "start_time": "2022-08-31T21:04:41.724Z"
   },
   {
    "duration": 10,
    "start_time": "2022-08-31T21:04:41.735Z"
   },
   {
    "duration": 17,
    "start_time": "2022-08-31T21:04:41.799Z"
   },
   {
    "duration": 13,
    "start_time": "2022-08-31T21:04:41.818Z"
   },
   {
    "duration": 69,
    "start_time": "2022-08-31T21:04:41.832Z"
   },
   {
    "duration": 17,
    "start_time": "2022-08-31T21:04:41.903Z"
   },
   {
    "duration": 12,
    "start_time": "2022-08-31T21:04:41.922Z"
   },
   {
    "duration": 16,
    "start_time": "2022-08-31T21:04:41.936Z"
   },
   {
    "duration": 48,
    "start_time": "2022-08-31T21:04:41.954Z"
   },
   {
    "duration": 20,
    "start_time": "2022-08-31T21:04:42.004Z"
   },
   {
    "duration": 109,
    "start_time": "2022-08-31T21:06:56.841Z"
   },
   {
    "duration": 40,
    "start_time": "2022-08-31T21:10:48.381Z"
   },
   {
    "duration": 127,
    "start_time": "2022-08-31T21:12:02.809Z"
   },
   {
    "duration": 51,
    "start_time": "2022-08-31T21:12:58.988Z"
   },
   {
    "duration": 28,
    "start_time": "2022-08-31T21:13:02.758Z"
   },
   {
    "duration": 127,
    "start_time": "2022-08-31T21:16:02.472Z"
   },
   {
    "duration": 8,
    "start_time": "2022-08-31T21:19:23.417Z"
   },
   {
    "duration": 42,
    "start_time": "2022-08-31T21:19:40.598Z"
   },
   {
    "duration": 12,
    "start_time": "2022-08-31T21:19:49.820Z"
   },
   {
    "duration": 8,
    "start_time": "2022-08-31T21:20:09.056Z"
   },
   {
    "duration": 12,
    "start_time": "2022-08-31T21:20:21.277Z"
   },
   {
    "duration": 8,
    "start_time": "2022-08-31T21:20:28.556Z"
   },
   {
    "duration": 10,
    "start_time": "2022-08-31T21:20:48.966Z"
   },
   {
    "duration": 14,
    "start_time": "2022-08-31T21:23:18.113Z"
   },
   {
    "duration": 12,
    "start_time": "2022-08-31T21:23:26.804Z"
   },
   {
    "duration": 15,
    "start_time": "2022-08-31T21:24:02.804Z"
   },
   {
    "duration": 197,
    "start_time": "2022-08-31T21:24:59.540Z"
   },
   {
    "duration": 13,
    "start_time": "2022-08-31T21:26:02.642Z"
   },
   {
    "duration": 7,
    "start_time": "2022-08-31T21:28:37.159Z"
   },
   {
    "duration": 11,
    "start_time": "2022-08-31T21:29:16.538Z"
   },
   {
    "duration": 9,
    "start_time": "2022-08-31T21:29:55.527Z"
   },
   {
    "duration": 12,
    "start_time": "2022-08-31T21:30:46.418Z"
   },
   {
    "duration": 10,
    "start_time": "2022-08-31T21:30:59.094Z"
   },
   {
    "duration": 102,
    "start_time": "2022-08-31T21:31:33.486Z"
   },
   {
    "duration": 106,
    "start_time": "2022-08-31T21:32:51.057Z"
   },
   {
    "duration": 10,
    "start_time": "2022-08-31T21:33:30.559Z"
   },
   {
    "duration": 11,
    "start_time": "2022-08-31T21:35:11.167Z"
   },
   {
    "duration": 700,
    "start_time": "2022-08-31T21:36:24.159Z"
   },
   {
    "duration": 47,
    "start_time": "2022-08-31T21:36:46.504Z"
   },
   {
    "duration": 13,
    "start_time": "2022-08-31T21:37:53.743Z"
   },
   {
    "duration": 14,
    "start_time": "2022-08-31T21:38:12.504Z"
   },
   {
    "duration": 10,
    "start_time": "2022-08-31T21:38:22.660Z"
   },
   {
    "duration": 17,
    "start_time": "2022-08-31T21:38:38.561Z"
   },
   {
    "duration": 9,
    "start_time": "2022-08-31T21:38:47.143Z"
   },
   {
    "duration": 32,
    "start_time": "2022-08-31T21:41:58.808Z"
   },
   {
    "duration": 36,
    "start_time": "2022-08-31T21:42:26.558Z"
   },
   {
    "duration": 57,
    "start_time": "2022-08-31T21:42:55.682Z"
   },
   {
    "duration": 33,
    "start_time": "2022-08-31T21:43:46.843Z"
   },
   {
    "duration": 21,
    "start_time": "2022-08-31T21:44:38.510Z"
   },
   {
    "duration": 22,
    "start_time": "2022-08-31T21:45:20.566Z"
   },
   {
    "duration": 74,
    "start_time": "2022-08-31T21:45:31.593Z"
   },
   {
    "duration": 34,
    "start_time": "2022-08-31T21:46:06.675Z"
   },
   {
    "duration": 35,
    "start_time": "2022-08-31T21:47:17.276Z"
   },
   {
    "duration": 132,
    "start_time": "2022-08-31T21:47:57.077Z"
   },
   {
    "duration": 1070,
    "start_time": "2022-08-31T21:48:36.145Z"
   },
   {
    "duration": 59,
    "start_time": "2022-08-31T21:48:37.216Z"
   },
   {
    "duration": 288,
    "start_time": "2022-08-31T21:48:37.276Z"
   },
   {
    "duration": 5,
    "start_time": "2022-08-31T21:48:37.566Z"
   },
   {
    "duration": 25,
    "start_time": "2022-08-31T21:48:37.572Z"
   },
   {
    "duration": 26,
    "start_time": "2022-08-31T21:48:37.609Z"
   },
   {
    "duration": 32,
    "start_time": "2022-08-31T21:48:37.637Z"
   },
   {
    "duration": 21,
    "start_time": "2022-08-31T21:48:37.671Z"
   },
   {
    "duration": 23,
    "start_time": "2022-08-31T21:48:37.694Z"
   },
   {
    "duration": 33,
    "start_time": "2022-08-31T21:48:37.719Z"
   },
   {
    "duration": 4,
    "start_time": "2022-08-31T21:48:37.753Z"
   },
   {
    "duration": 80,
    "start_time": "2022-08-31T21:48:37.759Z"
   },
   {
    "duration": 31,
    "start_time": "2022-08-31T21:48:37.840Z"
   },
   {
    "duration": 17,
    "start_time": "2022-08-31T21:48:37.872Z"
   },
   {
    "duration": 57,
    "start_time": "2022-08-31T21:48:37.890Z"
   },
   {
    "duration": 23,
    "start_time": "2022-08-31T21:48:37.949Z"
   },
   {
    "duration": 12,
    "start_time": "2022-08-31T21:48:37.973Z"
   },
   {
    "duration": 201,
    "start_time": "2022-08-31T21:48:37.986Z"
   },
   {
    "duration": 4,
    "start_time": "2022-08-31T21:48:38.188Z"
   },
   {
    "duration": 760,
    "start_time": "2022-08-31T21:48:38.194Z"
   },
   {
    "duration": 54,
    "start_time": "2022-08-31T21:48:38.956Z"
   },
   {
    "duration": 11,
    "start_time": "2022-08-31T21:48:39.012Z"
   },
   {
    "duration": 25,
    "start_time": "2022-08-31T21:48:39.024Z"
   },
   {
    "duration": 362,
    "start_time": "2022-08-31T21:48:39.051Z"
   },
   {
    "duration": 14,
    "start_time": "2022-08-31T21:48:39.414Z"
   },
   {
    "duration": 38,
    "start_time": "2022-08-31T21:48:39.429Z"
   },
   {
    "duration": 41,
    "start_time": "2022-08-31T21:48:39.468Z"
   },
   {
    "duration": 32,
    "start_time": "2022-08-31T21:48:39.513Z"
   },
   {
    "duration": 596,
    "start_time": "2022-08-31T21:48:39.547Z"
   },
   {
    "duration": 648,
    "start_time": "2022-08-31T21:48:40.144Z"
   },
   {
    "duration": 547,
    "start_time": "2022-08-31T21:48:40.793Z"
   },
   {
    "duration": 28,
    "start_time": "2022-08-31T21:48:41.342Z"
   },
   {
    "duration": 128,
    "start_time": "2022-08-31T21:48:41.372Z"
   },
   {
    "duration": 54,
    "start_time": "2022-08-31T21:48:41.502Z"
   },
   {
    "duration": 133,
    "start_time": "2022-08-31T21:48:41.557Z"
   },
   {
    "duration": 44,
    "start_time": "2022-08-31T21:48:41.691Z"
   },
   {
    "duration": 29,
    "start_time": "2022-08-31T21:48:41.737Z"
   },
   {
    "duration": 62,
    "start_time": "2022-08-31T21:48:41.767Z"
   },
   {
    "duration": 8,
    "start_time": "2022-08-31T21:48:41.831Z"
   },
   {
    "duration": 37,
    "start_time": "2022-08-31T21:48:41.841Z"
   },
   {
    "duration": 47,
    "start_time": "2022-08-31T21:48:41.880Z"
   },
   {
    "duration": 33,
    "start_time": "2022-08-31T21:48:41.929Z"
   },
   {
    "duration": 32,
    "start_time": "2022-08-31T21:48:41.964Z"
   },
   {
    "duration": 34,
    "start_time": "2022-08-31T21:48:41.997Z"
   },
   {
    "duration": 39,
    "start_time": "2022-08-31T21:48:42.032Z"
   },
   {
    "duration": 24,
    "start_time": "2022-08-31T21:48:42.073Z"
   },
   {
    "duration": 23,
    "start_time": "2022-08-31T21:48:42.109Z"
   },
   {
    "duration": 10,
    "start_time": "2022-08-31T21:48:42.133Z"
   },
   {
    "duration": 7,
    "start_time": "2022-08-31T21:48:42.144Z"
   },
   {
    "duration": 27,
    "start_time": "2022-08-31T21:48:42.152Z"
   },
   {
    "duration": 1288,
    "start_time": "2022-09-01T19:07:50.293Z"
   },
   {
    "duration": 63,
    "start_time": "2022-09-01T19:07:51.583Z"
   },
   {
    "duration": 208,
    "start_time": "2022-09-01T19:07:51.648Z"
   },
   {
    "duration": 6,
    "start_time": "2022-09-01T19:07:51.858Z"
   },
   {
    "duration": 8,
    "start_time": "2022-09-01T19:07:51.865Z"
   },
   {
    "duration": 11,
    "start_time": "2022-09-01T19:07:51.874Z"
   },
   {
    "duration": 23,
    "start_time": "2022-09-01T19:07:51.886Z"
   },
   {
    "duration": 20,
    "start_time": "2022-09-01T19:07:51.910Z"
   },
   {
    "duration": 13,
    "start_time": "2022-09-01T19:07:51.932Z"
   },
   {
    "duration": 51,
    "start_time": "2022-09-01T19:07:51.948Z"
   },
   {
    "duration": 4,
    "start_time": "2022-09-01T19:07:52.001Z"
   },
   {
    "duration": 29,
    "start_time": "2022-09-01T19:07:52.007Z"
   },
   {
    "duration": 17,
    "start_time": "2022-09-01T19:07:52.038Z"
   },
   {
    "duration": 13,
    "start_time": "2022-09-01T19:07:52.057Z"
   },
   {
    "duration": 27,
    "start_time": "2022-09-01T19:07:52.099Z"
   },
   {
    "duration": 21,
    "start_time": "2022-09-01T19:07:52.128Z"
   },
   {
    "duration": 8,
    "start_time": "2022-09-01T19:07:52.150Z"
   },
   {
    "duration": 199,
    "start_time": "2022-09-01T19:07:52.159Z"
   },
   {
    "duration": 4,
    "start_time": "2022-09-01T19:07:52.359Z"
   },
   {
    "duration": 705,
    "start_time": "2022-09-01T19:07:52.365Z"
   },
   {
    "duration": 42,
    "start_time": "2022-09-01T19:07:53.071Z"
   },
   {
    "duration": 10,
    "start_time": "2022-09-01T19:07:53.114Z"
   },
   {
    "duration": 17,
    "start_time": "2022-09-01T19:07:53.125Z"
   },
   {
    "duration": 388,
    "start_time": "2022-09-01T19:07:53.143Z"
   },
   {
    "duration": 15,
    "start_time": "2022-09-01T19:07:53.532Z"
   },
   {
    "duration": 14,
    "start_time": "2022-09-01T19:07:53.549Z"
   },
   {
    "duration": 45,
    "start_time": "2022-09-01T19:07:53.565Z"
   },
   {
    "duration": 31,
    "start_time": "2022-09-01T19:07:53.614Z"
   },
   {
    "duration": 609,
    "start_time": "2022-09-01T19:07:53.647Z"
   },
   {
    "duration": 709,
    "start_time": "2022-09-01T19:07:54.257Z"
   },
   {
    "duration": 431,
    "start_time": "2022-09-01T19:07:54.967Z"
   },
   {
    "duration": 27,
    "start_time": "2022-09-01T19:07:55.399Z"
   },
   {
    "duration": 123,
    "start_time": "2022-09-01T19:07:55.427Z"
   },
   {
    "duration": 48,
    "start_time": "2022-09-01T19:07:55.551Z"
   },
   {
    "duration": 122,
    "start_time": "2022-09-01T19:07:55.601Z"
   },
   {
    "duration": 40,
    "start_time": "2022-09-01T19:07:55.725Z"
   },
   {
    "duration": 46,
    "start_time": "2022-09-01T19:07:55.767Z"
   },
   {
    "duration": 36,
    "start_time": "2022-09-01T19:07:55.815Z"
   },
   {
    "duration": 8,
    "start_time": "2022-09-01T19:07:55.852Z"
   },
   {
    "duration": 6,
    "start_time": "2022-09-01T19:07:55.861Z"
   },
   {
    "duration": 30,
    "start_time": "2022-09-01T19:07:55.868Z"
   },
   {
    "duration": 7,
    "start_time": "2022-09-01T19:07:55.899Z"
   },
   {
    "duration": 16,
    "start_time": "2022-09-01T19:07:55.907Z"
   },
   {
    "duration": 12,
    "start_time": "2022-09-01T19:07:55.925Z"
   },
   {
    "duration": 17,
    "start_time": "2022-09-01T19:07:55.938Z"
   },
   {
    "duration": 14,
    "start_time": "2022-09-01T19:07:55.957Z"
   },
   {
    "duration": 12,
    "start_time": "2022-09-01T19:07:55.997Z"
   },
   {
    "duration": 32,
    "start_time": "2022-09-01T19:07:56.011Z"
   },
   {
    "duration": 34,
    "start_time": "2022-09-01T19:07:56.045Z"
   },
   {
    "duration": 19,
    "start_time": "2022-09-01T19:07:56.080Z"
   },
   {
    "duration": 8,
    "start_time": "2022-09-01T19:13:44.715Z"
   },
   {
    "duration": 15,
    "start_time": "2022-09-01T19:24:28.701Z"
   },
   {
    "duration": 16,
    "start_time": "2022-09-01T19:25:05.643Z"
   },
   {
    "duration": 122,
    "start_time": "2022-09-01T19:25:10.157Z"
   },
   {
    "duration": 15,
    "start_time": "2022-09-01T19:25:18.485Z"
   },
   {
    "duration": 15,
    "start_time": "2022-09-01T19:25:23.837Z"
   },
   {
    "duration": 20,
    "start_time": "2022-09-01T19:25:59.572Z"
   },
   {
    "duration": 21,
    "start_time": "2022-09-01T19:26:06.752Z"
   },
   {
    "duration": 21,
    "start_time": "2022-09-01T19:26:15.698Z"
   },
   {
    "duration": 20,
    "start_time": "2022-09-01T19:27:09.573Z"
   },
   {
    "duration": 21,
    "start_time": "2022-09-01T19:30:20.383Z"
   },
   {
    "duration": 21,
    "start_time": "2022-09-01T19:30:34.761Z"
   },
   {
    "duration": 41,
    "start_time": "2022-09-01T19:31:55.868Z"
   },
   {
    "duration": 17,
    "start_time": "2022-09-01T19:41:25.257Z"
   },
   {
    "duration": 14,
    "start_time": "2022-09-01T19:42:03.784Z"
   },
   {
    "duration": 35,
    "start_time": "2022-09-01T19:44:14.092Z"
   },
   {
    "duration": 19,
    "start_time": "2022-09-01T19:44:17.528Z"
   },
   {
    "duration": 35,
    "start_time": "2022-09-01T19:45:31.282Z"
   },
   {
    "duration": 22,
    "start_time": "2022-09-01T19:45:33.793Z"
   },
   {
    "duration": 1046,
    "start_time": "2022-09-01T19:45:44.825Z"
   },
   {
    "duration": 91,
    "start_time": "2022-09-01T19:45:45.872Z"
   },
   {
    "duration": 262,
    "start_time": "2022-09-01T19:45:45.964Z"
   },
   {
    "duration": 6,
    "start_time": "2022-09-01T19:45:46.229Z"
   },
   {
    "duration": 7,
    "start_time": "2022-09-01T19:45:46.236Z"
   },
   {
    "duration": 10,
    "start_time": "2022-09-01T19:45:46.244Z"
   },
   {
    "duration": 14,
    "start_time": "2022-09-01T19:45:46.256Z"
   },
   {
    "duration": 34,
    "start_time": "2022-09-01T19:45:46.271Z"
   },
   {
    "duration": 12,
    "start_time": "2022-09-01T19:45:46.306Z"
   },
   {
    "duration": 30,
    "start_time": "2022-09-01T19:45:46.320Z"
   },
   {
    "duration": 4,
    "start_time": "2022-09-01T19:45:46.352Z"
   },
   {
    "duration": 68,
    "start_time": "2022-09-01T19:45:46.358Z"
   },
   {
    "duration": 20,
    "start_time": "2022-09-01T19:45:46.427Z"
   },
   {
    "duration": 12,
    "start_time": "2022-09-01T19:45:46.448Z"
   },
   {
    "duration": 51,
    "start_time": "2022-09-01T19:45:46.462Z"
   },
   {
    "duration": 20,
    "start_time": "2022-09-01T19:45:46.515Z"
   },
   {
    "duration": 8,
    "start_time": "2022-09-01T19:45:46.536Z"
   },
   {
    "duration": 197,
    "start_time": "2022-09-01T19:45:46.545Z"
   },
   {
    "duration": 5,
    "start_time": "2022-09-01T19:45:46.743Z"
   },
   {
    "duration": 753,
    "start_time": "2022-09-01T19:45:46.750Z"
   },
   {
    "duration": 48,
    "start_time": "2022-09-01T19:45:47.505Z"
   },
   {
    "duration": 12,
    "start_time": "2022-09-01T19:45:47.555Z"
   },
   {
    "duration": 37,
    "start_time": "2022-09-01T19:45:47.569Z"
   },
   {
    "duration": 339,
    "start_time": "2022-09-01T19:45:47.607Z"
   },
   {
    "duration": 17,
    "start_time": "2022-09-01T19:45:47.948Z"
   },
   {
    "duration": 32,
    "start_time": "2022-09-01T19:45:47.967Z"
   },
   {
    "duration": 26,
    "start_time": "2022-09-01T19:45:48.001Z"
   },
   {
    "duration": 39,
    "start_time": "2022-09-01T19:45:48.030Z"
   },
   {
    "duration": 31,
    "start_time": "2022-09-01T19:45:48.071Z"
   },
   {
    "duration": 76,
    "start_time": "2022-09-01T19:45:48.104Z"
   },
   {
    "duration": 25,
    "start_time": "2022-09-01T19:45:48.182Z"
   },
   {
    "duration": 6,
    "start_time": "2022-09-01T19:45:48.208Z"
   },
   {
    "duration": 32,
    "start_time": "2022-09-01T19:45:48.215Z"
   },
   {
    "duration": 588,
    "start_time": "2022-09-01T19:45:48.248Z"
   },
   {
    "duration": 664,
    "start_time": "2022-09-01T19:45:48.837Z"
   },
   {
    "duration": 412,
    "start_time": "2022-09-01T19:45:49.502Z"
   },
   {
    "duration": 27,
    "start_time": "2022-09-01T19:45:49.915Z"
   },
   {
    "duration": 129,
    "start_time": "2022-09-01T19:45:49.943Z"
   },
   {
    "duration": 48,
    "start_time": "2022-09-01T19:45:50.073Z"
   },
   {
    "duration": 222,
    "start_time": "2022-09-01T19:45:50.123Z"
   },
   {
    "duration": 37,
    "start_time": "2022-09-01T19:45:50.399Z"
   },
   {
    "duration": 92,
    "start_time": "2022-09-01T19:45:50.437Z"
   },
   {
    "duration": 93,
    "start_time": "2022-09-01T19:45:50.530Z"
   },
   {
    "duration": 9,
    "start_time": "2022-09-01T19:45:50.624Z"
   },
   {
    "duration": 8,
    "start_time": "2022-09-01T19:45:50.634Z"
   },
   {
    "duration": 62,
    "start_time": "2022-09-01T19:45:50.644Z"
   },
   {
    "duration": 13,
    "start_time": "2022-09-01T19:45:50.707Z"
   },
   {
    "duration": 77,
    "start_time": "2022-09-01T19:45:50.721Z"
   },
   {
    "duration": 15,
    "start_time": "2022-09-01T19:45:50.800Z"
   },
   {
    "duration": 13,
    "start_time": "2022-09-01T19:45:50.817Z"
   },
   {
    "duration": 72,
    "start_time": "2022-09-01T19:45:50.831Z"
   },
   {
    "duration": 12,
    "start_time": "2022-09-01T19:45:50.905Z"
   },
   {
    "duration": 9,
    "start_time": "2022-09-01T19:45:50.919Z"
   },
   {
    "duration": 8,
    "start_time": "2022-09-01T19:45:50.930Z"
   },
   {
    "duration": 59,
    "start_time": "2022-09-01T19:45:50.940Z"
   },
   {
    "duration": 24,
    "start_time": "2022-09-01T19:49:42.290Z"
   },
   {
    "duration": 55,
    "start_time": "2022-09-01T19:55:13.522Z"
   },
   {
    "duration": 31,
    "start_time": "2022-09-01T19:56:22.541Z"
   },
   {
    "duration": 1189,
    "start_time": "2022-09-01T19:58:00.213Z"
   },
   {
    "duration": 75,
    "start_time": "2022-09-01T19:58:01.405Z"
   },
   {
    "duration": 309,
    "start_time": "2022-09-01T19:58:01.482Z"
   },
   {
    "duration": 8,
    "start_time": "2022-09-01T19:58:01.793Z"
   },
   {
    "duration": 21,
    "start_time": "2022-09-01T19:58:01.802Z"
   },
   {
    "duration": 22,
    "start_time": "2022-09-01T19:58:01.825Z"
   },
   {
    "duration": 55,
    "start_time": "2022-09-01T19:58:01.849Z"
   },
   {
    "duration": 32,
    "start_time": "2022-09-01T19:58:01.905Z"
   },
   {
    "duration": 15,
    "start_time": "2022-09-01T19:58:01.938Z"
   },
   {
    "duration": 42,
    "start_time": "2022-09-01T19:58:01.957Z"
   },
   {
    "duration": 5,
    "start_time": "2022-09-01T19:58:02.001Z"
   },
   {
    "duration": 70,
    "start_time": "2022-09-01T19:58:02.008Z"
   },
   {
    "duration": 22,
    "start_time": "2022-09-01T19:58:02.079Z"
   },
   {
    "duration": 27,
    "start_time": "2022-09-01T19:58:02.103Z"
   },
   {
    "duration": 39,
    "start_time": "2022-09-01T19:58:02.131Z"
   },
   {
    "duration": 21,
    "start_time": "2022-09-01T19:58:02.171Z"
   },
   {
    "duration": 9,
    "start_time": "2022-09-01T19:58:02.199Z"
   },
   {
    "duration": 226,
    "start_time": "2022-09-01T19:58:02.209Z"
   },
   {
    "duration": 6,
    "start_time": "2022-09-01T19:58:02.437Z"
   },
   {
    "duration": 782,
    "start_time": "2022-09-01T19:58:02.444Z"
   },
   {
    "duration": 40,
    "start_time": "2022-09-01T19:58:03.228Z"
   },
   {
    "duration": 10,
    "start_time": "2022-09-01T19:58:03.270Z"
   },
   {
    "duration": 18,
    "start_time": "2022-09-01T19:58:03.299Z"
   },
   {
    "duration": 370,
    "start_time": "2022-09-01T19:58:03.319Z"
   },
   {
    "duration": 18,
    "start_time": "2022-09-01T19:58:03.691Z"
   },
   {
    "duration": 14,
    "start_time": "2022-09-01T19:58:03.711Z"
   },
   {
    "duration": 37,
    "start_time": "2022-09-01T19:58:03.727Z"
   },
   {
    "duration": 83,
    "start_time": "2022-09-01T19:58:03.769Z"
   },
   {
    "duration": 13,
    "start_time": "2022-09-01T19:58:03.853Z"
   },
   {
    "duration": 107,
    "start_time": "2022-09-01T19:58:03.868Z"
   },
   {
    "duration": 36,
    "start_time": "2022-09-01T19:58:03.977Z"
   },
   {
    "duration": 93,
    "start_time": "2022-09-01T19:58:04.015Z"
   },
   {
    "duration": 41,
    "start_time": "2022-09-01T19:58:04.110Z"
   },
   {
    "duration": 13,
    "start_time": "2022-09-01T19:58:04.153Z"
   },
   {
    "duration": 7,
    "start_time": "2022-09-01T19:58:04.167Z"
   },
   {
    "duration": 29,
    "start_time": "2022-09-01T19:58:04.198Z"
   },
   {
    "duration": 648,
    "start_time": "2022-09-01T19:58:04.228Z"
   },
   {
    "duration": 746,
    "start_time": "2022-09-01T19:58:04.878Z"
   },
   {
    "duration": 464,
    "start_time": "2022-09-01T19:58:05.626Z"
   },
   {
    "duration": 35,
    "start_time": "2022-09-01T19:58:06.092Z"
   },
   {
    "duration": 128,
    "start_time": "2022-09-01T19:58:06.128Z"
   },
   {
    "duration": 48,
    "start_time": "2022-09-01T19:58:06.257Z"
   },
   {
    "duration": 127,
    "start_time": "2022-09-01T19:58:06.307Z"
   },
   {
    "duration": 34,
    "start_time": "2022-09-01T19:58:06.436Z"
   },
   {
    "duration": 50,
    "start_time": "2022-09-01T19:58:06.472Z"
   },
   {
    "duration": 38,
    "start_time": "2022-09-01T19:58:06.523Z"
   },
   {
    "duration": 8,
    "start_time": "2022-09-01T19:58:06.562Z"
   },
   {
    "duration": 28,
    "start_time": "2022-09-01T19:58:06.571Z"
   },
   {
    "duration": 10,
    "start_time": "2022-09-01T19:58:06.600Z"
   },
   {
    "duration": 10,
    "start_time": "2022-09-01T19:58:06.611Z"
   },
   {
    "duration": 24,
    "start_time": "2022-09-01T19:58:06.623Z"
   },
   {
    "duration": 12,
    "start_time": "2022-09-01T19:58:06.649Z"
   },
   {
    "duration": 37,
    "start_time": "2022-09-01T19:58:06.663Z"
   },
   {
    "duration": 16,
    "start_time": "2022-09-01T19:58:06.702Z"
   },
   {
    "duration": 12,
    "start_time": "2022-09-01T19:58:06.720Z"
   },
   {
    "duration": 8,
    "start_time": "2022-09-01T19:58:06.733Z"
   },
   {
    "duration": 9,
    "start_time": "2022-09-01T19:58:06.743Z"
   },
   {
    "duration": 8,
    "start_time": "2022-09-01T19:58:06.754Z"
   },
   {
    "duration": 1117,
    "start_time": "2022-09-01T20:12:39.861Z"
   },
   {
    "duration": 63,
    "start_time": "2022-09-01T20:12:40.980Z"
   },
   {
    "duration": 284,
    "start_time": "2022-09-01T20:12:41.045Z"
   },
   {
    "duration": 7,
    "start_time": "2022-09-01T20:12:41.332Z"
   },
   {
    "duration": 22,
    "start_time": "2022-09-01T20:12:41.341Z"
   },
   {
    "duration": 54,
    "start_time": "2022-09-01T20:12:41.365Z"
   },
   {
    "duration": 24,
    "start_time": "2022-09-01T20:12:41.421Z"
   },
   {
    "duration": 32,
    "start_time": "2022-09-01T20:12:41.447Z"
   },
   {
    "duration": 15,
    "start_time": "2022-09-01T20:12:41.481Z"
   },
   {
    "duration": 35,
    "start_time": "2022-09-01T20:12:41.500Z"
   },
   {
    "duration": 5,
    "start_time": "2022-09-01T20:12:41.537Z"
   },
   {
    "duration": 70,
    "start_time": "2022-09-01T20:12:41.543Z"
   },
   {
    "duration": 21,
    "start_time": "2022-09-01T20:12:41.615Z"
   },
   {
    "duration": 15,
    "start_time": "2022-09-01T20:12:41.638Z"
   },
   {
    "duration": 61,
    "start_time": "2022-09-01T20:12:41.655Z"
   },
   {
    "duration": 24,
    "start_time": "2022-09-01T20:12:41.717Z"
   },
   {
    "duration": 9,
    "start_time": "2022-09-01T20:12:41.743Z"
   },
   {
    "duration": 254,
    "start_time": "2022-09-01T20:12:41.754Z"
   },
   {
    "duration": 7,
    "start_time": "2022-09-01T20:12:42.010Z"
   },
   {
    "duration": 817,
    "start_time": "2022-09-01T20:12:42.018Z"
   },
   {
    "duration": 38,
    "start_time": "2022-09-01T20:12:42.836Z"
   },
   {
    "duration": 24,
    "start_time": "2022-09-01T20:12:42.876Z"
   },
   {
    "duration": 19,
    "start_time": "2022-09-01T20:12:42.902Z"
   },
   {
    "duration": 366,
    "start_time": "2022-09-01T20:12:42.922Z"
   },
   {
    "duration": 21,
    "start_time": "2022-09-01T20:12:43.289Z"
   },
   {
    "duration": 27,
    "start_time": "2022-09-01T20:12:43.312Z"
   },
   {
    "duration": 25,
    "start_time": "2022-09-01T20:12:43.340Z"
   },
   {
    "duration": 50,
    "start_time": "2022-09-01T20:12:43.369Z"
   },
   {
    "duration": 15,
    "start_time": "2022-09-01T20:12:43.421Z"
   },
   {
    "duration": 101,
    "start_time": "2022-09-01T20:12:43.437Z"
   },
   {
    "duration": 23,
    "start_time": "2022-09-01T20:12:43.539Z"
   },
   {
    "duration": 78,
    "start_time": "2022-09-01T20:12:43.564Z"
   },
   {
    "duration": 30,
    "start_time": "2022-09-01T20:12:43.644Z"
   },
   {
    "duration": 28,
    "start_time": "2022-09-01T20:12:43.676Z"
   },
   {
    "duration": 6,
    "start_time": "2022-09-01T20:12:43.707Z"
   },
   {
    "duration": 53,
    "start_time": "2022-09-01T20:12:43.715Z"
   },
   {
    "duration": 609,
    "start_time": "2022-09-01T20:12:43.769Z"
   },
   {
    "duration": 732,
    "start_time": "2022-09-01T20:12:44.379Z"
   },
   {
    "duration": 448,
    "start_time": "2022-09-01T20:12:45.113Z"
   },
   {
    "duration": 44,
    "start_time": "2022-09-01T20:12:45.562Z"
   },
   {
    "duration": 124,
    "start_time": "2022-09-01T20:12:45.607Z"
   },
   {
    "duration": 39,
    "start_time": "2022-09-01T20:12:45.732Z"
   },
   {
    "duration": 149,
    "start_time": "2022-09-01T20:12:45.773Z"
   },
   {
    "duration": 47,
    "start_time": "2022-09-01T20:12:45.923Z"
   },
   {
    "duration": 52,
    "start_time": "2022-09-01T20:12:45.972Z"
   },
   {
    "duration": 53,
    "start_time": "2022-09-01T20:12:46.026Z"
   },
   {
    "duration": 24,
    "start_time": "2022-09-01T20:12:46.081Z"
   },
   {
    "duration": 8,
    "start_time": "2022-09-01T20:12:46.106Z"
   },
   {
    "duration": 9,
    "start_time": "2022-09-01T20:12:46.115Z"
   },
   {
    "duration": 10,
    "start_time": "2022-09-01T20:12:46.126Z"
   },
   {
    "duration": 19,
    "start_time": "2022-09-01T20:12:46.137Z"
   },
   {
    "duration": 44,
    "start_time": "2022-09-01T20:12:46.158Z"
   },
   {
    "duration": 24,
    "start_time": "2022-09-01T20:12:46.203Z"
   },
   {
    "duration": 17,
    "start_time": "2022-09-01T20:12:46.229Z"
   },
   {
    "duration": 13,
    "start_time": "2022-09-01T20:12:46.247Z"
   },
   {
    "duration": 37,
    "start_time": "2022-09-01T20:12:46.262Z"
   },
   {
    "duration": 5,
    "start_time": "2022-09-01T20:12:46.301Z"
   },
   {
    "duration": 9,
    "start_time": "2022-09-01T20:12:46.308Z"
   },
   {
    "duration": 3,
    "start_time": "2022-09-01T20:22:02.296Z"
   },
   {
    "duration": 3,
    "start_time": "2022-09-01T20:26:10.670Z"
   },
   {
    "duration": 6,
    "start_time": "2022-09-01T20:26:41.717Z"
   },
   {
    "duration": 1115,
    "start_time": "2022-09-01T20:29:13.876Z"
   },
   {
    "duration": 67,
    "start_time": "2022-09-01T20:29:16.009Z"
   },
   {
    "duration": 181,
    "start_time": "2022-09-01T20:29:18.059Z"
   },
   {
    "duration": 7,
    "start_time": "2022-09-01T20:29:19.967Z"
   },
   {
    "duration": 6,
    "start_time": "2022-09-01T20:29:21.825Z"
   },
   {
    "duration": 9,
    "start_time": "2022-09-01T20:29:23.271Z"
   },
   {
    "duration": 21,
    "start_time": "2022-09-01T20:29:24.993Z"
   },
   {
    "duration": 19,
    "start_time": "2022-09-01T20:29:26.972Z"
   },
   {
    "duration": 13,
    "start_time": "2022-09-01T20:29:28.576Z"
   },
   {
    "duration": 34,
    "start_time": "2022-09-01T20:29:30.052Z"
   },
   {
    "duration": 5,
    "start_time": "2022-09-01T20:29:32.453Z"
   },
   {
    "duration": 45,
    "start_time": "2022-09-01T20:29:34.293Z"
   },
   {
    "duration": 22,
    "start_time": "2022-09-01T20:29:41.822Z"
   },
   {
    "duration": 18,
    "start_time": "2022-09-01T20:29:44.421Z"
   },
   {
    "duration": 28,
    "start_time": "2022-09-01T20:29:46.551Z"
   },
   {
    "duration": 23,
    "start_time": "2022-09-01T20:29:48.491Z"
   },
   {
    "duration": 9,
    "start_time": "2022-09-01T20:29:50.714Z"
   },
   {
    "duration": 170,
    "start_time": "2022-09-01T20:29:53.444Z"
   },
   {
    "duration": 5,
    "start_time": "2022-09-01T20:29:56.994Z"
   },
   {
    "duration": 761,
    "start_time": "2022-09-01T20:29:58.919Z"
   },
   {
    "duration": 39,
    "start_time": "2022-09-01T20:30:10.701Z"
   },
   {
    "duration": 11,
    "start_time": "2022-09-01T20:30:13.003Z"
   },
   {
    "duration": 19,
    "start_time": "2022-09-01T20:30:15.101Z"
   },
   {
    "duration": 20,
    "start_time": "2022-09-01T20:30:34.056Z"
   },
   {
    "duration": 357,
    "start_time": "2022-09-01T20:30:40.064Z"
   },
   {
    "duration": 18,
    "start_time": "2022-09-01T20:31:18.071Z"
   },
   {
    "duration": 17,
    "start_time": "2022-09-01T20:31:34.018Z"
   },
   {
    "duration": 22,
    "start_time": "2022-09-01T20:32:08.447Z"
   },
   {
    "duration": 350,
    "start_time": "2022-09-01T20:32:11.820Z"
   },
   {
    "duration": 15,
    "start_time": "2022-09-01T20:32:15.058Z"
   },
   {
    "duration": 14,
    "start_time": "2022-09-01T20:32:28.637Z"
   },
   {
    "duration": 27,
    "start_time": "2022-09-01T20:32:31.433Z"
   },
   {
    "duration": 40,
    "start_time": "2022-09-01T20:32:36.357Z"
   },
   {
    "duration": 3,
    "start_time": "2022-09-01T20:33:24.350Z"
   },
   {
    "duration": 9,
    "start_time": "2022-09-01T20:33:25.652Z"
   },
   {
    "duration": 149,
    "start_time": "2022-09-01T20:33:28.903Z"
   },
   {
    "duration": 6,
    "start_time": "2022-09-01T20:34:07.128Z"
   },
   {
    "duration": 27,
    "start_time": "2022-09-01T20:34:09.171Z"
   },
   {
    "duration": 118,
    "start_time": "2022-09-01T20:34:37.224Z"
   },
   {
    "duration": 114,
    "start_time": "2022-09-01T20:58:37.879Z"
   },
   {
    "duration": 105,
    "start_time": "2022-09-01T21:00:16.872Z"
   },
   {
    "duration": 1370,
    "start_time": "2022-09-06T16:29:06.777Z"
   },
   {
    "duration": 108,
    "start_time": "2022-09-06T16:29:08.150Z"
   },
   {
    "duration": 331,
    "start_time": "2022-09-06T16:29:08.260Z"
   },
   {
    "duration": 6,
    "start_time": "2022-09-06T16:29:08.594Z"
   },
   {
    "duration": 9,
    "start_time": "2022-09-06T16:29:08.602Z"
   },
   {
    "duration": 11,
    "start_time": "2022-09-06T16:29:08.612Z"
   },
   {
    "duration": 13,
    "start_time": "2022-09-06T16:29:08.625Z"
   },
   {
    "duration": 50,
    "start_time": "2022-09-06T16:29:08.640Z"
   },
   {
    "duration": 15,
    "start_time": "2022-09-06T16:29:08.692Z"
   },
   {
    "duration": 33,
    "start_time": "2022-09-06T16:29:08.709Z"
   },
   {
    "duration": 85,
    "start_time": "2022-09-06T16:29:08.744Z"
   },
   {
    "duration": 6,
    "start_time": "2022-09-06T16:29:08.830Z"
   },
   {
    "duration": 99,
    "start_time": "2022-09-06T16:29:08.837Z"
   },
   {
    "duration": 35,
    "start_time": "2022-09-06T16:29:08.938Z"
   },
   {
    "duration": 195,
    "start_time": "2022-09-06T16:29:08.975Z"
   },
   {
    "duration": 181,
    "start_time": "2022-09-06T16:29:09.172Z"
   },
   {
    "duration": 1521,
    "start_time": "2022-09-06T16:29:09.355Z"
   },
   {
    "duration": 26,
    "start_time": "2022-09-06T16:29:10.877Z"
   },
   {
    "duration": 11,
    "start_time": "2022-09-06T16:29:10.905Z"
   },
   {
    "duration": 198,
    "start_time": "2022-09-06T16:29:10.918Z"
   },
   {
    "duration": 182,
    "start_time": "2022-09-06T16:29:11.117Z"
   },
   {
    "duration": 285,
    "start_time": "2022-09-06T16:29:11.301Z"
   },
   {
    "duration": 265,
    "start_time": "2022-09-06T16:29:11.588Z"
   },
   {
    "duration": 46,
    "start_time": "2022-09-06T16:29:11.855Z"
   },
   {
    "duration": 16,
    "start_time": "2022-09-06T16:29:11.902Z"
   },
   {
    "duration": 12,
    "start_time": "2022-09-06T16:29:11.919Z"
   },
   {
    "duration": 522,
    "start_time": "2022-09-06T16:29:11.933Z"
   },
   {
    "duration": 369,
    "start_time": "2022-09-06T16:29:12.459Z"
   },
   {
    "duration": 14,
    "start_time": "2022-09-06T16:29:12.830Z"
   },
   {
    "duration": 87,
    "start_time": "2022-09-06T16:29:12.845Z"
   },
   {
    "duration": 37,
    "start_time": "2022-09-06T16:29:12.934Z"
   },
   {
    "duration": 43,
    "start_time": "2022-09-06T16:29:12.973Z"
   },
   {
    "duration": 21,
    "start_time": "2022-09-06T16:29:13.018Z"
   },
   {
    "duration": 3,
    "start_time": "2022-09-06T16:29:13.040Z"
   },
   {
    "duration": 7,
    "start_time": "2022-09-06T16:29:13.068Z"
   },
   {
    "duration": 5,
    "start_time": "2022-09-06T16:29:13.077Z"
   },
   {
    "duration": 11,
    "start_time": "2022-09-06T16:29:13.084Z"
   },
   {
    "duration": 141,
    "start_time": "2022-09-06T16:29:13.097Z"
   },
   {
    "duration": 670,
    "start_time": "2022-09-06T16:29:13.239Z"
   },
   {
    "duration": 35,
    "start_time": "2022-09-06T16:29:13.910Z"
   },
   {
    "duration": 781,
    "start_time": "2022-09-06T16:29:13.947Z"
   },
   {
    "duration": 742,
    "start_time": "2022-09-06T16:29:14.730Z"
   },
   {
    "duration": 537,
    "start_time": "2022-09-06T16:29:15.474Z"
   },
   {
    "duration": 145,
    "start_time": "2022-09-06T16:29:16.012Z"
   },
   {
    "duration": 35,
    "start_time": "2022-09-06T16:29:16.159Z"
   },
   {
    "duration": 151,
    "start_time": "2022-09-06T16:29:16.196Z"
   },
   {
    "duration": 54,
    "start_time": "2022-09-06T16:29:16.349Z"
   },
   {
    "duration": 191,
    "start_time": "2022-09-06T16:29:16.404Z"
   },
   {
    "duration": 25,
    "start_time": "2022-09-06T16:29:16.598Z"
   },
   {
    "duration": 146,
    "start_time": "2022-09-06T16:29:16.625Z"
   },
   {
    "duration": 226,
    "start_time": "2022-09-06T16:29:16.773Z"
   },
   {
    "duration": 18,
    "start_time": "2022-09-06T16:29:17.001Z"
   },
   {
    "duration": 62,
    "start_time": "2022-09-06T16:29:17.021Z"
   },
   {
    "duration": 37,
    "start_time": "2022-09-06T16:29:17.085Z"
   },
   {
    "duration": 48,
    "start_time": "2022-09-06T16:29:17.124Z"
   },
   {
    "duration": 7,
    "start_time": "2022-09-06T16:29:17.173Z"
   },
   {
    "duration": 12,
    "start_time": "2022-09-06T16:29:17.182Z"
   },
   {
    "duration": 14,
    "start_time": "2022-09-06T16:29:17.195Z"
   },
   {
    "duration": 24,
    "start_time": "2022-09-06T16:29:17.211Z"
   },
   {
    "duration": 38,
    "start_time": "2022-09-06T16:29:17.237Z"
   },
   {
    "duration": 18,
    "start_time": "2022-09-06T16:29:17.277Z"
   },
   {
    "duration": 13,
    "start_time": "2022-09-06T16:29:17.297Z"
   },
   {
    "duration": 12,
    "start_time": "2022-09-06T16:29:17.312Z"
   },
   {
    "duration": 6,
    "start_time": "2022-09-06T16:29:17.326Z"
   },
   {
    "duration": 39,
    "start_time": "2022-09-06T16:29:17.334Z"
   },
   {
    "duration": 1167,
    "start_time": "2022-09-06T16:40:39.915Z"
   },
   {
    "duration": 79,
    "start_time": "2022-09-06T16:40:41.084Z"
   },
   {
    "duration": 435,
    "start_time": "2022-09-06T16:40:41.165Z"
   },
   {
    "duration": 7,
    "start_time": "2022-09-06T16:40:41.604Z"
   },
   {
    "duration": 10,
    "start_time": "2022-09-06T16:40:41.613Z"
   },
   {
    "duration": 12,
    "start_time": "2022-09-06T16:40:41.625Z"
   },
   {
    "duration": 29,
    "start_time": "2022-09-06T16:40:41.639Z"
   },
   {
    "duration": 29,
    "start_time": "2022-09-06T16:40:41.670Z"
   },
   {
    "duration": 14,
    "start_time": "2022-09-06T16:40:41.700Z"
   },
   {
    "duration": 52,
    "start_time": "2022-09-06T16:40:41.717Z"
   },
   {
    "duration": 69,
    "start_time": "2022-09-06T16:40:41.770Z"
   },
   {
    "duration": 5,
    "start_time": "2022-09-06T16:40:41.841Z"
   },
   {
    "duration": 104,
    "start_time": "2022-09-06T16:40:41.847Z"
   },
   {
    "duration": 36,
    "start_time": "2022-09-06T16:40:41.953Z"
   },
   {
    "duration": 200,
    "start_time": "2022-09-06T16:40:41.991Z"
   },
   {
    "duration": 187,
    "start_time": "2022-09-06T16:40:42.192Z"
   },
   {
    "duration": 1533,
    "start_time": "2022-09-06T16:40:42.381Z"
   },
   {
    "duration": 27,
    "start_time": "2022-09-06T16:40:43.916Z"
   },
   {
    "duration": 29,
    "start_time": "2022-09-06T16:40:43.945Z"
   },
   {
    "duration": 191,
    "start_time": "2022-09-06T16:40:43.976Z"
   },
   {
    "duration": 184,
    "start_time": "2022-09-06T16:40:44.169Z"
   },
   {
    "duration": 273,
    "start_time": "2022-09-06T16:40:44.355Z"
   },
   {
    "duration": 263,
    "start_time": "2022-09-06T16:40:44.630Z"
   },
   {
    "duration": 38,
    "start_time": "2022-09-06T16:40:44.895Z"
   },
   {
    "duration": 37,
    "start_time": "2022-09-06T16:40:44.934Z"
   },
   {
    "duration": 13,
    "start_time": "2022-09-06T16:40:44.973Z"
   },
   {
    "duration": 490,
    "start_time": "2022-09-06T16:40:44.988Z"
   },
   {
    "duration": 377,
    "start_time": "2022-09-06T16:40:45.481Z"
   },
   {
    "duration": 18,
    "start_time": "2022-09-06T16:40:45.859Z"
   },
   {
    "duration": 75,
    "start_time": "2022-09-06T16:40:45.879Z"
   },
   {
    "duration": 30,
    "start_time": "2022-09-06T16:40:45.967Z"
   },
   {
    "duration": 44,
    "start_time": "2022-09-06T16:40:46.000Z"
   },
   {
    "duration": 37,
    "start_time": "2022-09-06T16:40:46.046Z"
   },
   {
    "duration": 3,
    "start_time": "2022-09-06T16:40:46.085Z"
   },
   {
    "duration": 24,
    "start_time": "2022-09-06T16:40:46.089Z"
   },
   {
    "duration": 24,
    "start_time": "2022-09-06T16:40:46.114Z"
   },
   {
    "duration": 30,
    "start_time": "2022-09-06T16:40:46.140Z"
   },
   {
    "duration": 157,
    "start_time": "2022-09-06T16:40:46.171Z"
   },
   {
    "duration": 731,
    "start_time": "2022-09-06T16:40:46.330Z"
   },
   {
    "duration": 34,
    "start_time": "2022-09-06T16:40:47.063Z"
   },
   {
    "duration": 872,
    "start_time": "2022-09-06T16:40:47.098Z"
   },
   {
    "duration": 798,
    "start_time": "2022-09-06T16:40:47.972Z"
   },
   {
    "duration": 533,
    "start_time": "2022-09-06T16:40:48.772Z"
   },
   {
    "duration": 142,
    "start_time": "2022-09-06T16:40:49.307Z"
   },
   {
    "duration": 42,
    "start_time": "2022-09-06T16:40:49.451Z"
   },
   {
    "duration": 159,
    "start_time": "2022-09-06T16:40:49.496Z"
   },
   {
    "duration": 48,
    "start_time": "2022-09-06T16:40:49.658Z"
   },
   {
    "duration": 170,
    "start_time": "2022-09-06T16:40:49.708Z"
   },
   {
    "duration": 19,
    "start_time": "2022-09-06T16:40:49.879Z"
   },
   {
    "duration": 107,
    "start_time": "2022-09-06T16:40:49.900Z"
   },
   {
    "duration": 250,
    "start_time": "2022-09-06T16:40:50.009Z"
   },
   {
    "duration": 18,
    "start_time": "2022-09-06T16:40:50.261Z"
   },
   {
    "duration": 44,
    "start_time": "2022-09-06T16:40:50.280Z"
   },
   {
    "duration": 53,
    "start_time": "2022-09-06T16:40:50.326Z"
   },
   {
    "duration": 26,
    "start_time": "2022-09-06T16:40:50.381Z"
   },
   {
    "duration": 7,
    "start_time": "2022-09-06T16:40:50.409Z"
   },
   {
    "duration": 12,
    "start_time": "2022-09-06T16:40:50.418Z"
   },
   {
    "duration": 13,
    "start_time": "2022-09-06T16:40:50.432Z"
   },
   {
    "duration": 25,
    "start_time": "2022-09-06T16:40:50.467Z"
   },
   {
    "duration": 16,
    "start_time": "2022-09-06T16:40:50.494Z"
   },
   {
    "duration": 20,
    "start_time": "2022-09-06T16:40:50.512Z"
   },
   {
    "duration": 44,
    "start_time": "2022-09-06T16:40:50.534Z"
   },
   {
    "duration": 21,
    "start_time": "2022-09-06T16:40:50.580Z"
   },
   {
    "duration": 11,
    "start_time": "2022-09-06T16:40:50.602Z"
   },
   {
    "duration": 11,
    "start_time": "2022-09-06T16:40:50.615Z"
   },
   {
    "duration": 1203,
    "start_time": "2022-09-06T16:48:00.976Z"
   },
   {
    "duration": 81,
    "start_time": "2022-09-06T16:48:02.181Z"
   },
   {
    "duration": 263,
    "start_time": "2022-09-06T16:48:02.264Z"
   },
   {
    "duration": 7,
    "start_time": "2022-09-06T16:48:02.529Z"
   },
   {
    "duration": 8,
    "start_time": "2022-09-06T16:48:02.538Z"
   },
   {
    "duration": 12,
    "start_time": "2022-09-06T16:48:02.567Z"
   },
   {
    "duration": 17,
    "start_time": "2022-09-06T16:48:02.580Z"
   },
   {
    "duration": 34,
    "start_time": "2022-09-06T16:48:02.599Z"
   },
   {
    "duration": 33,
    "start_time": "2022-09-06T16:48:02.635Z"
   },
   {
    "duration": 36,
    "start_time": "2022-09-06T16:48:02.669Z"
   },
   {
    "duration": 88,
    "start_time": "2022-09-06T16:48:02.707Z"
   },
   {
    "duration": 5,
    "start_time": "2022-09-06T16:48:02.797Z"
   },
   {
    "duration": 113,
    "start_time": "2022-09-06T16:48:02.803Z"
   },
   {
    "duration": 31,
    "start_time": "2022-09-06T16:48:02.919Z"
   },
   {
    "duration": 219,
    "start_time": "2022-09-06T16:48:02.952Z"
   },
   {
    "duration": 198,
    "start_time": "2022-09-06T16:48:03.172Z"
   },
   {
    "duration": 1496,
    "start_time": "2022-09-06T16:48:03.371Z"
   },
   {
    "duration": 26,
    "start_time": "2022-09-06T16:48:04.869Z"
   },
   {
    "duration": 12,
    "start_time": "2022-09-06T16:48:04.897Z"
   },
   {
    "duration": 206,
    "start_time": "2022-09-06T16:48:04.910Z"
   },
   {
    "duration": 185,
    "start_time": "2022-09-06T16:48:05.118Z"
   },
   {
    "duration": 277,
    "start_time": "2022-09-06T16:48:05.305Z"
   },
   {
    "duration": 262,
    "start_time": "2022-09-06T16:48:05.583Z"
   },
   {
    "duration": 51,
    "start_time": "2022-09-06T16:48:05.846Z"
   },
   {
    "duration": 17,
    "start_time": "2022-09-06T16:48:05.898Z"
   },
   {
    "duration": 16,
    "start_time": "2022-09-06T16:48:05.916Z"
   },
   {
    "duration": 487,
    "start_time": "2022-09-06T16:48:05.934Z"
   },
   {
    "duration": 452,
    "start_time": "2022-09-06T16:48:06.422Z"
   },
   {
    "duration": 19,
    "start_time": "2022-09-06T16:48:06.876Z"
   },
   {
    "duration": 112,
    "start_time": "2022-09-06T16:48:06.898Z"
   },
   {
    "duration": 29,
    "start_time": "2022-09-06T16:48:07.012Z"
   },
   {
    "duration": 59,
    "start_time": "2022-09-06T16:48:07.043Z"
   },
   {
    "duration": 21,
    "start_time": "2022-09-06T16:48:07.103Z"
   },
   {
    "duration": 8,
    "start_time": "2022-09-06T16:48:07.125Z"
   },
   {
    "duration": 17,
    "start_time": "2022-09-06T16:48:07.134Z"
   },
   {
    "duration": 32,
    "start_time": "2022-09-06T16:48:07.153Z"
   },
   {
    "duration": 10,
    "start_time": "2022-09-06T16:48:07.187Z"
   },
   {
    "duration": 149,
    "start_time": "2022-09-06T16:48:07.199Z"
   },
   {
    "duration": 656,
    "start_time": "2022-09-06T16:48:07.349Z"
   },
   {
    "duration": 37,
    "start_time": "2022-09-06T16:48:08.006Z"
   },
   {
    "duration": 829,
    "start_time": "2022-09-06T16:48:08.067Z"
   },
   {
    "duration": 764,
    "start_time": "2022-09-06T16:48:08.898Z"
   },
   {
    "duration": 515,
    "start_time": "2022-09-06T16:48:09.667Z"
   },
   {
    "duration": 159,
    "start_time": "2022-09-06T16:48:10.184Z"
   },
   {
    "duration": 40,
    "start_time": "2022-09-06T16:48:10.345Z"
   },
   {
    "duration": 159,
    "start_time": "2022-09-06T16:48:10.387Z"
   },
   {
    "duration": 49,
    "start_time": "2022-09-06T16:48:10.548Z"
   },
   {
    "duration": 172,
    "start_time": "2022-09-06T16:48:10.598Z"
   },
   {
    "duration": 21,
    "start_time": "2022-09-06T16:48:10.772Z"
   },
   {
    "duration": 114,
    "start_time": "2022-09-06T16:48:10.794Z"
   },
   {
    "duration": 239,
    "start_time": "2022-09-06T16:48:10.910Z"
   },
   {
    "duration": 24,
    "start_time": "2022-09-06T16:48:11.151Z"
   },
   {
    "duration": 51,
    "start_time": "2022-09-06T16:48:11.176Z"
   },
   {
    "duration": 54,
    "start_time": "2022-09-06T16:48:11.229Z"
   },
   {
    "duration": 26,
    "start_time": "2022-09-06T16:48:11.285Z"
   },
   {
    "duration": 7,
    "start_time": "2022-09-06T16:48:11.313Z"
   },
   {
    "duration": 11,
    "start_time": "2022-09-06T16:48:11.322Z"
   },
   {
    "duration": 12,
    "start_time": "2022-09-06T16:48:11.368Z"
   },
   {
    "duration": 40,
    "start_time": "2022-09-06T16:48:11.382Z"
   },
   {
    "duration": 17,
    "start_time": "2022-09-06T16:48:11.424Z"
   },
   {
    "duration": 42,
    "start_time": "2022-09-06T16:48:11.443Z"
   },
   {
    "duration": 19,
    "start_time": "2022-09-06T16:48:11.487Z"
   },
   {
    "duration": 21,
    "start_time": "2022-09-06T16:48:11.508Z"
   },
   {
    "duration": 14,
    "start_time": "2022-09-06T16:48:11.532Z"
   },
   {
    "duration": 21,
    "start_time": "2022-09-06T16:48:11.548Z"
   },
   {
    "duration": 1293,
    "start_time": "2022-09-06T22:14:58.192Z"
   },
   {
    "duration": 60,
    "start_time": "2022-09-06T22:15:00.764Z"
   },
   {
    "duration": 433,
    "start_time": "2022-09-06T22:15:02.765Z"
   },
   {
    "duration": 6,
    "start_time": "2022-09-06T22:15:05.337Z"
   },
   {
    "duration": 4,
    "start_time": "2022-09-06T22:15:08.289Z"
   },
   {
    "duration": 15,
    "start_time": "2022-09-06T22:15:10.427Z"
   },
   {
    "duration": 23,
    "start_time": "2022-09-06T22:15:17.024Z"
   },
   {
    "duration": 40,
    "start_time": "2022-09-06T22:15:19.461Z"
   },
   {
    "duration": 14,
    "start_time": "2022-09-06T22:15:21.410Z"
   },
   {
    "duration": 33,
    "start_time": "2022-09-06T22:15:23.273Z"
   },
   {
    "duration": 63,
    "start_time": "2022-09-06T22:15:25.938Z"
   },
   {
    "duration": 4,
    "start_time": "2022-09-06T22:15:29.383Z"
   },
   {
    "duration": 76,
    "start_time": "2022-09-06T22:15:30.964Z"
   },
   {
    "duration": 26,
    "start_time": "2022-09-06T22:15:33.564Z"
   },
   {
    "duration": 190,
    "start_time": "2022-09-06T22:15:44.302Z"
   },
   {
    "duration": 166,
    "start_time": "2022-09-06T22:15:46.762Z"
   },
   {
    "duration": 745,
    "start_time": "2022-09-06T22:16:38.362Z"
   },
   {
    "duration": 38,
    "start_time": "2022-09-06T22:16:50.263Z"
   },
   {
    "duration": 10,
    "start_time": "2022-09-06T22:16:54.968Z"
   },
   {
    "duration": 159,
    "start_time": "2022-09-06T22:17:18.078Z"
   },
   {
    "duration": 161,
    "start_time": "2022-09-06T22:18:27.589Z"
   },
   {
    "duration": 213,
    "start_time": "2022-09-06T22:25:51.263Z"
   },
   {
    "duration": 224,
    "start_time": "2022-09-06T22:26:01.128Z"
   },
   {
    "duration": 32,
    "start_time": "2022-09-06T22:26:48.562Z"
   },
   {
    "duration": 15,
    "start_time": "2022-09-06T22:27:12.084Z"
   },
   {
    "duration": 12,
    "start_time": "2022-09-06T22:27:56.005Z"
   },
   {
    "duration": 830,
    "start_time": "2022-09-06T22:28:02.433Z"
   },
   {
    "duration": 443,
    "start_time": "2022-09-06T22:28:08.594Z"
   },
   {
    "duration": 298,
    "start_time": "2022-09-06T22:28:22.413Z"
   },
   {
    "duration": 869,
    "start_time": "2022-09-06T22:28:26.167Z"
   },
   {
    "duration": 353,
    "start_time": "2022-09-06T22:28:31.665Z"
   },
   {
    "duration": 335,
    "start_time": "2022-09-06T22:28:40.773Z"
   },
   {
    "duration": 1025,
    "start_time": "2022-09-06T22:29:14.663Z"
   },
   {
    "duration": 24,
    "start_time": "2022-09-06T22:29:19.566Z"
   },
   {
    "duration": 141,
    "start_time": "2022-09-06T22:29:25.365Z"
   },
   {
    "duration": 26,
    "start_time": "2022-09-06T22:31:23.019Z"
   },
   {
    "duration": 39,
    "start_time": "2022-09-06T22:31:28.182Z"
   },
   {
    "duration": 20,
    "start_time": "2022-09-06T22:31:31.329Z"
   },
   {
    "duration": 3,
    "start_time": "2022-09-06T22:31:33.763Z"
   },
   {
    "duration": 5,
    "start_time": "2022-09-06T22:31:46.565Z"
   },
   {
    "duration": 5,
    "start_time": "2022-09-06T22:31:50.262Z"
   },
   {
    "duration": 10,
    "start_time": "2022-09-06T22:31:51.707Z"
   },
   {
    "duration": 150,
    "start_time": "2022-09-06T22:31:59.933Z"
   },
   {
    "duration": 12,
    "start_time": "2022-09-06T22:32:36.903Z"
   },
   {
    "duration": 62,
    "start_time": "2022-09-06T22:32:43.429Z"
   },
   {
    "duration": 13,
    "start_time": "2022-09-06T22:32:55.496Z"
   },
   {
    "duration": 67,
    "start_time": "2022-09-06T22:32:57.859Z"
   },
   {
    "duration": 14,
    "start_time": "2022-09-06T22:33:18.765Z"
   },
   {
    "duration": 74,
    "start_time": "2022-09-06T22:33:22.061Z"
   },
   {
    "duration": 28,
    "start_time": "2022-09-06T22:33:47.160Z"
   },
   {
    "duration": 1081,
    "start_time": "2022-09-06T22:33:56.810Z"
   },
   {
    "duration": 90,
    "start_time": "2022-09-06T22:33:59.763Z"
   },
   {
    "duration": 280,
    "start_time": "2022-09-06T22:34:02.764Z"
   },
   {
    "duration": 6,
    "start_time": "2022-09-06T22:34:05.090Z"
   },
   {
    "duration": 5,
    "start_time": "2022-09-06T22:34:08.729Z"
   },
   {
    "duration": 9,
    "start_time": "2022-09-06T22:34:10.370Z"
   },
   {
    "duration": 18,
    "start_time": "2022-09-06T22:34:15.095Z"
   },
   {
    "duration": 24,
    "start_time": "2022-09-06T22:34:16.943Z"
   },
   {
    "duration": 14,
    "start_time": "2022-09-06T22:34:19.167Z"
   },
   {
    "duration": 36,
    "start_time": "2022-09-06T22:34:20.692Z"
   },
   {
    "duration": 60,
    "start_time": "2022-09-06T22:34:22.664Z"
   },
   {
    "duration": 4,
    "start_time": "2022-09-06T22:34:25.520Z"
   },
   {
    "duration": 72,
    "start_time": "2022-09-06T22:34:27.609Z"
   },
   {
    "duration": 27,
    "start_time": "2022-09-06T22:34:35.515Z"
   },
   {
    "duration": 163,
    "start_time": "2022-09-06T22:34:39.033Z"
   },
   {
    "duration": 167,
    "start_time": "2022-09-06T22:34:41.516Z"
   },
   {
    "duration": 776,
    "start_time": "2022-09-06T22:34:44.864Z"
   },
   {
    "duration": 25,
    "start_time": "2022-09-06T22:34:49.493Z"
   },
   {
    "duration": 11,
    "start_time": "2022-09-06T22:34:51.663Z"
   },
   {
    "duration": 153,
    "start_time": "2022-09-06T22:34:53.517Z"
   },
   {
    "duration": 157,
    "start_time": "2022-09-06T22:34:56.001Z"
   },
   {
    "duration": 214,
    "start_time": "2022-09-06T22:34:58.696Z"
   },
   {
    "duration": 276,
    "start_time": "2022-09-06T22:35:04.303Z"
   },
   {
    "duration": 58,
    "start_time": "2022-09-06T22:35:10.174Z"
   },
   {
    "duration": 15,
    "start_time": "2022-09-06T22:35:17.394Z"
   },
   {
    "duration": 12,
    "start_time": "2022-09-06T22:35:19.877Z"
   },
   {
    "duration": 403,
    "start_time": "2022-09-06T22:35:23.362Z"
   },
   {
    "duration": 340,
    "start_time": "2022-09-06T22:35:28.160Z"
   },
   {
    "duration": 13,
    "start_time": "2022-09-06T22:39:35.836Z"
   },
   {
    "duration": 63,
    "start_time": "2022-09-06T22:39:41.479Z"
   },
   {
    "duration": 26,
    "start_time": "2022-09-06T22:40:18.064Z"
   },
   {
    "duration": 42,
    "start_time": "2022-09-06T22:40:22.686Z"
   },
   {
    "duration": 32,
    "start_time": "2022-09-06T22:40:25.461Z"
   },
   {
    "duration": 3,
    "start_time": "2022-09-06T22:40:27.563Z"
   },
   {
    "duration": 8,
    "start_time": "2022-09-06T22:40:28.783Z"
   },
   {
    "duration": 3,
    "start_time": "2022-09-06T22:40:31.295Z"
   },
   {
    "duration": 5,
    "start_time": "2022-09-06T22:40:32.668Z"
   },
   {
    "duration": 133,
    "start_time": "2022-09-06T22:40:35.063Z"
   },
   {
    "duration": 673,
    "start_time": "2022-09-06T22:40:40.520Z"
   },
   {
    "duration": 30,
    "start_time": "2022-09-06T22:43:39.855Z"
   },
   {
    "duration": 126,
    "start_time": "2022-09-06T22:43:42.866Z"
   },
   {
    "duration": 43,
    "start_time": "2022-09-06T22:44:00.762Z"
   },
   {
    "duration": 134,
    "start_time": "2022-09-06T22:44:02.866Z"
   },
   {
    "duration": 18,
    "start_time": "2022-09-06T22:44:19.579Z"
   },
   {
    "duration": 61,
    "start_time": "2022-09-06T22:44:23.189Z"
   },
   {
    "duration": 153,
    "start_time": "2022-09-06T22:44:25.531Z"
   },
   {
    "duration": 17,
    "start_time": "2022-09-06T22:44:27.001Z"
   },
   {
    "duration": 37,
    "start_time": "2022-09-06T22:48:05.774Z"
   },
   {
    "duration": 36,
    "start_time": "2022-09-06T22:48:09.063Z"
   },
   {
    "duration": 22,
    "start_time": "2022-09-06T22:48:10.881Z"
   },
   {
    "duration": 6,
    "start_time": "2022-09-06T22:48:12.786Z"
   },
   {
    "duration": 5,
    "start_time": "2022-09-06T22:48:16.194Z"
   },
   {
    "duration": 9,
    "start_time": "2022-09-06T22:48:27.564Z"
   },
   {
    "duration": 20,
    "start_time": "2022-09-06T22:48:29.482Z"
   },
   {
    "duration": 15,
    "start_time": "2022-09-06T22:48:40.895Z"
   },
   {
    "duration": 17,
    "start_time": "2022-09-06T22:48:42.993Z"
   },
   {
    "duration": 13,
    "start_time": "2022-09-06T22:48:45.199Z"
   },
   {
    "duration": 8,
    "start_time": "2022-09-06T22:48:47.180Z"
   },
   {
    "duration": 6,
    "start_time": "2022-09-06T22:48:48.882Z"
   },
   {
    "duration": 6,
    "start_time": "2022-09-06T22:48:51.566Z"
   },
   {
    "duration": 1107,
    "start_time": "2022-09-06T23:12:43.126Z"
   },
   {
    "duration": 61,
    "start_time": "2022-09-06T23:12:46.210Z"
   },
   {
    "duration": 245,
    "start_time": "2022-09-06T23:12:48.255Z"
   },
   {
    "duration": 7,
    "start_time": "2022-09-06T23:12:50.420Z"
   },
   {
    "duration": 5,
    "start_time": "2022-09-06T23:12:52.463Z"
   },
   {
    "duration": 9,
    "start_time": "2022-09-06T23:12:53.876Z"
   },
   {
    "duration": 12,
    "start_time": "2022-09-06T23:12:55.473Z"
   },
   {
    "duration": 26,
    "start_time": "2022-09-06T23:12:57.162Z"
   },
   {
    "duration": 13,
    "start_time": "2022-09-06T23:12:58.885Z"
   },
   {
    "duration": 37,
    "start_time": "2022-09-06T23:13:00.176Z"
   },
   {
    "duration": 60,
    "start_time": "2022-09-06T23:13:01.429Z"
   },
   {
    "duration": 5,
    "start_time": "2022-09-06T23:13:04.161Z"
   },
   {
    "duration": 70,
    "start_time": "2022-09-06T23:13:05.814Z"
   },
   {
    "duration": 26,
    "start_time": "2022-09-06T23:13:07.772Z"
   },
   {
    "duration": 164,
    "start_time": "2022-09-06T23:13:10.963Z"
   },
   {
    "duration": 160,
    "start_time": "2022-09-06T23:13:12.876Z"
   },
   {
    "duration": 758,
    "start_time": "2022-09-06T23:13:16.619Z"
   },
   {
    "duration": 25,
    "start_time": "2022-09-06T23:14:43.268Z"
   },
   {
    "duration": 11,
    "start_time": "2022-09-06T23:14:45.574Z"
   },
   {
    "duration": 156,
    "start_time": "2022-09-06T23:14:49.965Z"
   },
   {
    "duration": 157,
    "start_time": "2022-09-06T23:14:53.031Z"
   },
   {
    "duration": 209,
    "start_time": "2022-09-06T23:14:59.412Z"
   },
   {
    "duration": 271,
    "start_time": "2022-09-06T23:15:07.340Z"
   },
   {
    "duration": 34,
    "start_time": "2022-09-06T23:15:40.267Z"
   },
   {
    "duration": 16,
    "start_time": "2022-09-06T23:15:51.007Z"
   },
   {
    "duration": 18,
    "start_time": "2022-09-06T23:16:49.164Z"
   },
   {
    "duration": 399,
    "start_time": "2022-09-06T23:16:55.506Z"
   },
   {
    "duration": 350,
    "start_time": "2022-09-06T23:17:02.566Z"
   },
   {
    "duration": 14,
    "start_time": "2022-09-06T23:17:42.417Z"
   },
   {
    "duration": 63,
    "start_time": "2022-09-06T23:17:46.407Z"
   },
   {
    "duration": 28,
    "start_time": "2022-09-06T23:17:48.467Z"
   },
   {
    "duration": 53,
    "start_time": "2022-09-06T23:18:05.713Z"
   },
   {
    "duration": 21,
    "start_time": "2022-09-06T23:18:09.876Z"
   },
   {
    "duration": 3,
    "start_time": "2022-09-06T23:18:11.865Z"
   },
   {
    "duration": 6,
    "start_time": "2022-09-06T23:18:17.088Z"
   },
   {
    "duration": 3,
    "start_time": "2022-09-06T23:18:24.602Z"
   },
   {
    "duration": 3,
    "start_time": "2022-09-06T23:22:05.482Z"
   },
   {
    "duration": 6,
    "start_time": "2022-09-06T23:22:10.622Z"
   },
   {
    "duration": 114,
    "start_time": "2022-09-06T23:22:13.126Z"
   },
   {
    "duration": 585,
    "start_time": "2022-09-06T23:22:16.264Z"
   },
   {
    "duration": 571,
    "start_time": "2022-09-06T23:28:45.627Z"
   },
   {
    "duration": 3,
    "start_time": "2022-09-06T23:30:32.488Z"
   },
   {
    "duration": 6,
    "start_time": "2022-09-06T23:30:33.840Z"
   },
   {
    "duration": 3,
    "start_time": "2022-09-06T23:30:36.080Z"
   },
   {
    "duration": 5,
    "start_time": "2022-09-06T23:30:38.038Z"
   },
   {
    "duration": 122,
    "start_time": "2022-09-06T23:30:40.438Z"
   },
   {
    "duration": 668,
    "start_time": "2022-09-06T23:30:43.110Z"
   },
   {
    "duration": 6,
    "start_time": "2022-09-06T23:31:53.272Z"
   },
   {
    "duration": 635,
    "start_time": "2022-09-06T23:31:58.139Z"
   },
   {
    "duration": 6,
    "start_time": "2022-09-06T23:32:13.460Z"
   },
   {
    "duration": 562,
    "start_time": "2022-09-06T23:32:17.465Z"
   },
   {
    "duration": 105,
    "start_time": "2022-09-06T23:35:44.500Z"
   },
   {
    "duration": 20,
    "start_time": "2022-09-06T23:35:49.088Z"
   },
   {
    "duration": 18,
    "start_time": "2022-09-06T23:37:55.704Z"
   },
   {
    "duration": 15,
    "start_time": "2022-09-06T23:38:10.786Z"
   },
   {
    "duration": 9,
    "start_time": "2022-09-06T23:43:31.631Z"
   },
   {
    "duration": 13,
    "start_time": "2022-09-06T23:43:43.734Z"
   },
   {
    "duration": 16,
    "start_time": "2022-09-06T23:43:59.282Z"
   },
   {
    "duration": 1526,
    "start_time": "2022-09-06T23:45:02.536Z"
   },
   {
    "duration": 698,
    "start_time": "2022-09-06T23:45:25.284Z"
   },
   {
    "duration": 28,
    "start_time": "2022-09-06T23:45:38.207Z"
   },
   {
    "duration": 15,
    "start_time": "2022-09-06T23:49:11.895Z"
   },
   {
    "duration": 25,
    "start_time": "2022-09-06T23:49:35.699Z"
   },
   {
    "duration": 14,
    "start_time": "2022-09-06T23:51:13.905Z"
   },
   {
    "duration": 15,
    "start_time": "2022-09-06T23:51:17.222Z"
   },
   {
    "duration": 22,
    "start_time": "2022-09-06T23:51:26.119Z"
   },
   {
    "duration": 811,
    "start_time": "2022-09-06T23:54:15.781Z"
   },
   {
    "duration": 14,
    "start_time": "2022-09-06T23:54:20.223Z"
   },
   {
    "duration": 36,
    "start_time": "2022-09-06T23:54:22.516Z"
   },
   {
    "duration": 4,
    "start_time": "2022-09-06T23:54:34.106Z"
   },
   {
    "duration": 17,
    "start_time": "2022-09-06T23:54:54.178Z"
   },
   {
    "duration": 116,
    "start_time": "2022-09-07T00:00:02.976Z"
   },
   {
    "duration": 16,
    "start_time": "2022-09-07T00:00:08.109Z"
   },
   {
    "duration": 10,
    "start_time": "2022-09-07T00:03:55.972Z"
   },
   {
    "duration": 1978,
    "start_time": "2022-09-07T00:04:59.378Z"
   },
   {
    "duration": 2011,
    "start_time": "2022-09-07T00:05:16.190Z"
   },
   {
    "duration": 14,
    "start_time": "2022-09-07T00:05:33.597Z"
   },
   {
    "duration": 60,
    "start_time": "2022-09-07T00:06:32.696Z"
   },
   {
    "duration": 1948,
    "start_time": "2022-09-07T00:06:41.072Z"
   },
   {
    "duration": 35,
    "start_time": "2022-09-07T00:06:45.238Z"
   },
   {
    "duration": 59,
    "start_time": "2022-09-07T00:07:45.375Z"
   },
   {
    "duration": 1981,
    "start_time": "2022-09-07T00:09:03.675Z"
   },
   {
    "duration": 83,
    "start_time": "2022-09-07T00:10:11.737Z"
   },
   {
    "duration": 1016,
    "start_time": "2022-09-07T00:10:16.023Z"
   },
   {
    "duration": 2015,
    "start_time": "2022-09-07T00:11:06.843Z"
   },
   {
    "duration": 16,
    "start_time": "2022-09-07T00:11:18.337Z"
   },
   {
    "duration": 1928,
    "start_time": "2022-09-07T00:12:37.007Z"
   },
   {
    "duration": 37,
    "start_time": "2022-09-07T00:12:42.273Z"
   },
   {
    "duration": 73,
    "start_time": "2022-09-07T00:14:39.609Z"
   },
   {
    "duration": 1108,
    "start_time": "2022-09-07T00:15:14.376Z"
   },
   {
    "duration": 88,
    "start_time": "2022-09-07T00:15:16.452Z"
   },
   {
    "duration": 234,
    "start_time": "2022-09-07T00:15:18.388Z"
   },
   {
    "duration": 7,
    "start_time": "2022-09-07T00:15:20.870Z"
   },
   {
    "duration": 6,
    "start_time": "2022-09-07T00:15:22.474Z"
   },
   {
    "duration": 9,
    "start_time": "2022-09-07T00:15:24.511Z"
   },
   {
    "duration": 13,
    "start_time": "2022-09-07T00:15:26.869Z"
   },
   {
    "duration": 26,
    "start_time": "2022-09-07T00:15:28.374Z"
   },
   {
    "duration": 16,
    "start_time": "2022-09-07T00:15:30.468Z"
   },
   {
    "duration": 34,
    "start_time": "2022-09-07T00:15:32.012Z"
   },
   {
    "duration": 61,
    "start_time": "2022-09-07T00:15:33.679Z"
   },
   {
    "duration": 7,
    "start_time": "2022-09-07T00:15:37.940Z"
   },
   {
    "duration": 72,
    "start_time": "2022-09-07T00:15:40.300Z"
   },
   {
    "duration": 27,
    "start_time": "2022-09-07T00:15:46.667Z"
   },
   {
    "duration": 170,
    "start_time": "2022-09-07T00:15:49.521Z"
   },
   {
    "duration": 164,
    "start_time": "2022-09-07T00:15:52.045Z"
   },
   {
    "duration": 779,
    "start_time": "2022-09-07T00:15:55.074Z"
   },
   {
    "duration": 24,
    "start_time": "2022-09-07T00:16:08.573Z"
   },
   {
    "duration": 10,
    "start_time": "2022-09-07T00:16:18.686Z"
   },
   {
    "duration": 154,
    "start_time": "2022-09-07T00:16:21.312Z"
   },
   {
    "duration": 154,
    "start_time": "2022-09-07T00:16:28.871Z"
   },
   {
    "duration": 209,
    "start_time": "2022-09-07T00:16:31.332Z"
   },
   {
    "duration": 224,
    "start_time": "2022-09-07T00:16:35.876Z"
   },
   {
    "duration": 35,
    "start_time": "2022-09-07T00:16:41.090Z"
   },
   {
    "duration": 16,
    "start_time": "2022-09-07T00:16:43.783Z"
   },
   {
    "duration": 12,
    "start_time": "2022-09-07T00:16:46.210Z"
   },
   {
    "duration": 435,
    "start_time": "2022-09-07T00:16:47.979Z"
   },
   {
    "duration": 326,
    "start_time": "2022-09-07T00:16:52.017Z"
   },
   {
    "duration": 15,
    "start_time": "2022-09-07T00:16:55.473Z"
   },
   {
    "duration": 63,
    "start_time": "2022-09-07T00:16:57.509Z"
   },
   {
    "duration": 28,
    "start_time": "2022-09-07T00:16:59.643Z"
   },
   {
    "duration": 41,
    "start_time": "2022-09-07T00:17:01.499Z"
   },
   {
    "duration": 20,
    "start_time": "2022-09-07T00:17:03.836Z"
   },
   {
    "duration": 3,
    "start_time": "2022-09-07T00:17:05.576Z"
   },
   {
    "duration": 6,
    "start_time": "2022-09-07T00:17:07.515Z"
   },
   {
    "duration": 3,
    "start_time": "2022-09-07T00:17:09.503Z"
   },
   {
    "duration": 6,
    "start_time": "2022-09-07T00:17:10.878Z"
   },
   {
    "duration": 116,
    "start_time": "2022-09-07T00:17:13.330Z"
   },
   {
    "duration": 616,
    "start_time": "2022-09-07T00:17:17.225Z"
   },
   {
    "duration": 1996,
    "start_time": "2022-09-07T00:17:24.031Z"
   },
   {
    "duration": 36,
    "start_time": "2022-09-07T00:17:28.910Z"
   },
   {
    "duration": 799,
    "start_time": "2022-09-07T00:19:53.090Z"
   },
   {
    "duration": 115,
    "start_time": "2022-09-07T00:21:16.572Z"
   },
   {
    "duration": 45,
    "start_time": "2022-09-07T00:22:04.886Z"
   },
   {
    "duration": 1948,
    "start_time": "2022-09-07T00:22:40.014Z"
   },
   {
    "duration": 37,
    "start_time": "2022-09-07T00:23:08.191Z"
   },
   {
    "duration": 675,
    "start_time": "2022-09-07T00:23:18.908Z"
   },
   {
    "duration": 18,
    "start_time": "2022-09-07T00:26:30.481Z"
   },
   {
    "duration": 793,
    "start_time": "2022-09-07T00:27:11.024Z"
   },
   {
    "duration": 108,
    "start_time": "2022-09-07T00:27:47.192Z"
   },
   {
    "duration": 864,
    "start_time": "2022-09-07T00:32:19.984Z"
   },
   {
    "duration": 756,
    "start_time": "2022-09-07T00:33:10.020Z"
   },
   {
    "duration": 358,
    "start_time": "2022-09-07T00:33:30.841Z"
   },
   {
    "duration": 447,
    "start_time": "2022-09-07T00:40:09.499Z"
   },
   {
    "duration": 187,
    "start_time": "2022-09-07T00:42:17.241Z"
   },
   {
    "duration": 461,
    "start_time": "2022-09-07T00:42:33.134Z"
   },
   {
    "duration": 465,
    "start_time": "2022-09-07T00:42:39.829Z"
   },
   {
    "duration": 505,
    "start_time": "2022-09-07T00:43:08.274Z"
   },
   {
    "duration": 522,
    "start_time": "2022-09-07T00:44:42.082Z"
   },
   {
    "duration": 651,
    "start_time": "2022-09-07T00:44:50.876Z"
   },
   {
    "duration": 577,
    "start_time": "2022-09-07T00:45:15.586Z"
   },
   {
    "duration": 616,
    "start_time": "2022-09-07T00:45:23.989Z"
   },
   {
    "duration": 653,
    "start_time": "2022-09-07T00:46:06.350Z"
   },
   {
    "duration": 538,
    "start_time": "2022-09-07T00:46:18.625Z"
   },
   {
    "duration": 546,
    "start_time": "2022-09-07T00:46:27.684Z"
   },
   {
    "duration": 553,
    "start_time": "2022-09-07T00:47:27.348Z"
   },
   {
    "duration": 10,
    "start_time": "2022-09-07T00:51:00.927Z"
   },
   {
    "duration": 10,
    "start_time": "2022-09-07T00:51:24.831Z"
   },
   {
    "duration": 11,
    "start_time": "2022-09-07T00:51:52.766Z"
   },
   {
    "duration": 1322,
    "start_time": "2022-09-07T00:52:29.365Z"
   },
   {
    "duration": 565,
    "start_time": "2022-09-07T00:53:20.435Z"
   },
   {
    "duration": 657,
    "start_time": "2022-09-07T00:53:32.033Z"
   },
   {
    "duration": 259,
    "start_time": "2022-09-07T00:54:25.990Z"
   },
   {
    "duration": 246,
    "start_time": "2022-09-07T00:54:45.688Z"
   },
   {
    "duration": 260,
    "start_time": "2022-09-07T00:55:41.550Z"
   },
   {
    "duration": 589,
    "start_time": "2022-09-07T00:56:16.696Z"
   },
   {
    "duration": 217,
    "start_time": "2022-09-07T00:56:59.882Z"
   },
   {
    "duration": 314,
    "start_time": "2022-09-07T00:57:11.830Z"
   },
   {
    "duration": 304,
    "start_time": "2022-09-07T00:57:25.381Z"
   },
   {
    "duration": 314,
    "start_time": "2022-09-07T00:57:36.076Z"
   },
   {
    "duration": 10,
    "start_time": "2022-09-07T01:00:18.309Z"
   },
   {
    "duration": 33,
    "start_time": "2022-09-07T01:00:26.297Z"
   },
   {
    "duration": 128,
    "start_time": "2022-09-07T01:00:56.677Z"
   },
   {
    "duration": 45,
    "start_time": "2022-09-07T01:01:03.982Z"
   },
   {
    "duration": 146,
    "start_time": "2022-09-07T01:01:20.723Z"
   },
   {
    "duration": 19,
    "start_time": "2022-09-07T01:01:25.212Z"
   },
   {
    "duration": 61,
    "start_time": "2022-09-07T01:01:27.818Z"
   },
   {
    "duration": 165,
    "start_time": "2022-09-07T01:01:31.014Z"
   },
   {
    "duration": 17,
    "start_time": "2022-09-07T01:01:32.786Z"
   },
   {
    "duration": 38,
    "start_time": "2022-09-07T01:01:37.092Z"
   },
   {
    "duration": 31,
    "start_time": "2022-09-07T01:01:39.081Z"
   },
   {
    "duration": 22,
    "start_time": "2022-09-07T01:01:41.405Z"
   },
   {
    "duration": 6,
    "start_time": "2022-09-07T01:01:45.037Z"
   },
   {
    "duration": 6,
    "start_time": "2022-09-07T01:01:52.283Z"
   },
   {
    "duration": 11,
    "start_time": "2022-09-07T01:01:54.308Z"
   },
   {
    "duration": 24,
    "start_time": "2022-09-07T01:01:55.982Z"
   },
   {
    "duration": 1052,
    "start_time": "2022-09-07T01:02:05.724Z"
   },
   {
    "duration": 53,
    "start_time": "2022-09-07T01:02:06.778Z"
   },
   {
    "duration": 341,
    "start_time": "2022-09-07T01:02:06.832Z"
   },
   {
    "duration": 5,
    "start_time": "2022-09-07T01:02:07.176Z"
   },
   {
    "duration": 19,
    "start_time": "2022-09-07T01:02:07.183Z"
   },
   {
    "duration": 16,
    "start_time": "2022-09-07T01:02:07.204Z"
   },
   {
    "duration": 27,
    "start_time": "2022-09-07T01:02:07.223Z"
   },
   {
    "duration": 31,
    "start_time": "2022-09-07T01:02:07.252Z"
   },
   {
    "duration": 20,
    "start_time": "2022-09-07T01:02:07.285Z"
   },
   {
    "duration": 38,
    "start_time": "2022-09-07T01:02:07.308Z"
   },
   {
    "duration": 71,
    "start_time": "2022-09-07T01:02:07.348Z"
   },
   {
    "duration": 5,
    "start_time": "2022-09-07T01:02:07.421Z"
   },
   {
    "duration": 89,
    "start_time": "2022-09-07T01:02:07.428Z"
   },
   {
    "duration": 27,
    "start_time": "2022-09-07T01:02:07.518Z"
   },
   {
    "duration": 187,
    "start_time": "2022-09-07T01:02:07.546Z"
   },
   {
    "duration": 178,
    "start_time": "2022-09-07T01:02:07.734Z"
   },
   {
    "duration": 755,
    "start_time": "2022-09-07T01:02:07.914Z"
   },
   {
    "duration": 34,
    "start_time": "2022-09-07T01:02:08.671Z"
   },
   {
    "duration": 11,
    "start_time": "2022-09-07T01:02:08.707Z"
   },
   {
    "duration": 169,
    "start_time": "2022-09-07T01:02:08.720Z"
   },
   {
    "duration": 171,
    "start_time": "2022-09-07T01:02:08.891Z"
   },
   {
    "duration": 204,
    "start_time": "2022-09-07T01:02:09.063Z"
   },
   {
    "duration": 200,
    "start_time": "2022-09-07T01:02:09.269Z"
   },
   {
    "duration": 57,
    "start_time": "2022-09-07T01:02:09.471Z"
   },
   {
    "duration": 15,
    "start_time": "2022-09-07T01:02:09.529Z"
   },
   {
    "duration": 27,
    "start_time": "2022-09-07T01:02:09.545Z"
   },
   {
    "duration": 410,
    "start_time": "2022-09-07T01:02:09.573Z"
   },
   {
    "duration": 297,
    "start_time": "2022-09-07T01:02:09.986Z"
   },
   {
    "duration": 24,
    "start_time": "2022-09-07T01:02:10.284Z"
   },
   {
    "duration": 78,
    "start_time": "2022-09-07T01:02:10.310Z"
   },
   {
    "duration": 33,
    "start_time": "2022-09-07T01:02:10.398Z"
   },
   {
    "duration": 44,
    "start_time": "2022-09-07T01:02:10.433Z"
   },
   {
    "duration": 20,
    "start_time": "2022-09-07T01:02:10.499Z"
   },
   {
    "duration": 2,
    "start_time": "2022-09-07T01:02:10.521Z"
   },
   {
    "duration": 17,
    "start_time": "2022-09-07T01:02:10.525Z"
   },
   {
    "duration": 12,
    "start_time": "2022-09-07T01:02:10.544Z"
   },
   {
    "duration": 14,
    "start_time": "2022-09-07T01:02:10.558Z"
   },
   {
    "duration": 152,
    "start_time": "2022-09-07T01:02:10.574Z"
   },
   {
    "duration": 621,
    "start_time": "2022-09-07T01:02:10.727Z"
   },
   {
    "duration": 1934,
    "start_time": "2022-09-07T01:02:11.350Z"
   },
   {
    "duration": 41,
    "start_time": "2022-09-07T01:02:13.285Z"
   },
   {
    "duration": 597,
    "start_time": "2022-09-07T01:02:13.327Z"
   },
   {
    "duration": 191,
    "start_time": "2022-09-07T01:02:13.925Z"
   },
   {
    "duration": 28,
    "start_time": "2022-09-07T01:02:14.117Z"
   },
   {
    "duration": 136,
    "start_time": "2022-09-07T01:02:14.147Z"
   },
   {
    "duration": 50,
    "start_time": "2022-09-07T01:02:14.285Z"
   },
   {
    "duration": 169,
    "start_time": "2022-09-07T01:02:14.336Z"
   },
   {
    "duration": 17,
    "start_time": "2022-09-07T01:02:14.507Z"
   },
   {
    "duration": 77,
    "start_time": "2022-09-07T01:02:14.526Z"
   },
   {
    "duration": 169,
    "start_time": "2022-09-07T01:02:14.604Z"
   },
   {
    "duration": 16,
    "start_time": "2022-09-07T01:02:14.775Z"
   },
   {
    "duration": 36,
    "start_time": "2022-09-07T01:02:14.798Z"
   },
   {
    "duration": 36,
    "start_time": "2022-09-07T01:02:14.836Z"
   },
   {
    "duration": 38,
    "start_time": "2022-09-07T01:02:14.898Z"
   },
   {
    "duration": 10,
    "start_time": "2022-09-07T01:02:14.938Z"
   },
   {
    "duration": 13,
    "start_time": "2022-09-07T01:02:14.950Z"
   },
   {
    "duration": 11,
    "start_time": "2022-09-07T01:02:14.965Z"
   },
   {
    "duration": 49,
    "start_time": "2022-09-07T01:02:14.978Z"
   },
   {
    "duration": 16,
    "start_time": "2022-09-07T01:02:15.030Z"
   },
   {
    "duration": 18,
    "start_time": "2022-09-07T01:02:15.047Z"
   },
   {
    "duration": 45,
    "start_time": "2022-09-07T01:02:15.067Z"
   },
   {
    "duration": 8,
    "start_time": "2022-09-07T01:02:15.114Z"
   },
   {
    "duration": 5,
    "start_time": "2022-09-07T01:02:15.124Z"
   },
   {
    "duration": 12,
    "start_time": "2022-09-07T01:02:15.131Z"
   },
   {
    "duration": 458,
    "start_time": "2022-09-07T01:28:14.266Z"
   },
   {
    "duration": 17,
    "start_time": "2022-09-07T01:34:09.999Z"
   },
   {
    "duration": 544,
    "start_time": "2022-09-07T01:35:13.799Z"
   },
   {
    "duration": 649,
    "start_time": "2022-09-07T01:36:06.089Z"
   },
   {
    "duration": 598,
    "start_time": "2022-09-07T01:36:54.310Z"
   },
   {
    "duration": 570,
    "start_time": "2022-09-07T01:37:04.559Z"
   },
   {
    "duration": 517,
    "start_time": "2022-09-07T01:39:50.770Z"
   },
   {
    "duration": 21,
    "start_time": "2022-09-07T01:46:01.087Z"
   },
   {
    "duration": 23,
    "start_time": "2022-09-07T01:46:14.752Z"
   },
   {
    "duration": 586,
    "start_time": "2022-09-07T01:46:47.884Z"
   },
   {
    "duration": 8,
    "start_time": "2022-09-07T02:21:05.170Z"
   },
   {
    "duration": 132,
    "start_time": "2022-09-07T02:52:41.743Z"
   },
   {
    "duration": 220,
    "start_time": "2022-09-07T02:53:03.884Z"
   },
   {
    "duration": 283,
    "start_time": "2022-09-07T02:53:18.536Z"
   },
   {
    "duration": 62,
    "start_time": "2022-09-07T02:56:51.715Z"
   },
   {
    "duration": 220,
    "start_time": "2022-09-07T02:57:19.330Z"
   },
   {
    "duration": 34,
    "start_time": "2022-09-07T02:58:51.714Z"
   },
   {
    "duration": 30,
    "start_time": "2022-09-07T03:01:27.087Z"
   },
   {
    "duration": 15,
    "start_time": "2022-09-07T03:02:12.722Z"
   },
   {
    "duration": 29,
    "start_time": "2022-09-07T03:02:16.514Z"
   },
   {
    "duration": 35,
    "start_time": "2022-09-07T03:02:43.757Z"
   },
   {
    "duration": 77,
    "start_time": "2022-09-07T03:02:50.281Z"
   },
   {
    "duration": 23,
    "start_time": "2022-09-07T03:02:55.898Z"
   },
   {
    "duration": 42,
    "start_time": "2022-09-07T03:05:02.844Z"
   },
   {
    "duration": 52,
    "start_time": "2022-09-07T03:05:46.781Z"
   },
   {
    "duration": 209,
    "start_time": "2022-09-07T03:06:08.184Z"
   },
   {
    "duration": 1020,
    "start_time": "2022-09-07T03:06:49.145Z"
   },
   {
    "duration": 88,
    "start_time": "2022-09-07T03:06:50.166Z"
   },
   {
    "duration": 228,
    "start_time": "2022-09-07T03:06:50.256Z"
   },
   {
    "duration": 6,
    "start_time": "2022-09-07T03:06:50.486Z"
   },
   {
    "duration": 13,
    "start_time": "2022-09-07T03:06:50.498Z"
   },
   {
    "duration": 10,
    "start_time": "2022-09-07T03:06:50.512Z"
   },
   {
    "duration": 13,
    "start_time": "2022-09-07T03:06:50.523Z"
   },
   {
    "duration": 29,
    "start_time": "2022-09-07T03:06:50.537Z"
   },
   {
    "duration": 13,
    "start_time": "2022-09-07T03:06:50.567Z"
   },
   {
    "duration": 42,
    "start_time": "2022-09-07T03:06:50.582Z"
   },
   {
    "duration": 73,
    "start_time": "2022-09-07T03:06:50.626Z"
   },
   {
    "duration": 5,
    "start_time": "2022-09-07T03:06:50.700Z"
   },
   {
    "duration": 25,
    "start_time": "2022-09-07T03:06:50.707Z"
   },
   {
    "duration": 108,
    "start_time": "2022-09-07T03:06:50.734Z"
   },
   {
    "duration": 29,
    "start_time": "2022-09-07T03:06:50.843Z"
   },
   {
    "duration": 193,
    "start_time": "2022-09-07T03:06:50.873Z"
   },
   {
    "duration": 173,
    "start_time": "2022-09-07T03:06:51.067Z"
   },
   {
    "duration": 859,
    "start_time": "2022-09-07T03:06:51.241Z"
   },
   {
    "duration": 24,
    "start_time": "2022-09-07T03:06:52.101Z"
   },
   {
    "duration": 9,
    "start_time": "2022-09-07T03:06:52.126Z"
   },
   {
    "duration": 307,
    "start_time": "2022-09-07T03:06:52.136Z"
   },
   {
    "duration": 304,
    "start_time": "2022-09-07T03:06:52.498Z"
   },
   {
    "duration": 403,
    "start_time": "2022-09-07T03:06:52.803Z"
   },
   {
    "duration": 324,
    "start_time": "2022-09-07T03:06:53.207Z"
   },
   {
    "duration": 33,
    "start_time": "2022-09-07T03:06:53.532Z"
   },
   {
    "duration": 31,
    "start_time": "2022-09-07T03:06:53.566Z"
   },
   {
    "duration": 10,
    "start_time": "2022-09-07T03:06:53.598Z"
   },
   {
    "duration": 358,
    "start_time": "2022-09-07T03:06:53.612Z"
   },
   {
    "duration": 305,
    "start_time": "2022-09-07T03:06:53.972Z"
   },
   {
    "duration": 21,
    "start_time": "2022-09-07T03:06:54.278Z"
   },
   {
    "duration": 63,
    "start_time": "2022-09-07T03:06:54.300Z"
   },
   {
    "duration": 49,
    "start_time": "2022-09-07T03:06:54.365Z"
   },
   {
    "duration": 44,
    "start_time": "2022-09-07T03:06:54.416Z"
   },
   {
    "duration": 16,
    "start_time": "2022-09-07T03:06:54.461Z"
   },
   {
    "duration": 20,
    "start_time": "2022-09-07T03:06:54.478Z"
   },
   {
    "duration": 16,
    "start_time": "2022-09-07T03:06:54.500Z"
   },
   {
    "duration": 10,
    "start_time": "2022-09-07T03:06:54.517Z"
   },
   {
    "duration": 7,
    "start_time": "2022-09-07T03:06:54.528Z"
   },
   {
    "duration": 100,
    "start_time": "2022-09-07T03:06:54.537Z"
   },
   {
    "duration": 594,
    "start_time": "2022-09-07T03:06:54.639Z"
   },
   {
    "duration": 1901,
    "start_time": "2022-09-07T03:06:55.235Z"
   },
   {
    "duration": 34,
    "start_time": "2022-09-07T03:06:57.137Z"
   },
   {
    "duration": 37,
    "start_time": "2022-09-07T03:06:57.172Z"
   },
   {
    "duration": 990,
    "start_time": "2022-09-07T03:06:57.211Z"
   },
   {
    "duration": 320,
    "start_time": "2022-09-07T03:06:58.202Z"
   },
   {
    "duration": 14,
    "start_time": "2022-09-07T03:06:58.524Z"
   },
   {
    "duration": 716,
    "start_time": "2022-09-07T03:06:58.539Z"
   },
   {
    "duration": 28,
    "start_time": "2022-09-07T03:06:59.256Z"
   },
   {
    "duration": 133,
    "start_time": "2022-09-07T03:06:59.286Z"
   },
   {
    "duration": 37,
    "start_time": "2022-09-07T03:06:59.421Z"
   },
   {
    "duration": 150,
    "start_time": "2022-09-07T03:06:59.459Z"
   },
   {
    "duration": 15,
    "start_time": "2022-09-07T03:06:59.611Z"
   },
   {
    "duration": 71,
    "start_time": "2022-09-07T03:06:59.628Z"
   },
   {
    "duration": 165,
    "start_time": "2022-09-07T03:06:59.701Z"
   },
   {
    "duration": 16,
    "start_time": "2022-09-07T03:06:59.867Z"
   },
   {
    "duration": 16,
    "start_time": "2022-09-07T03:06:59.884Z"
   },
   {
    "duration": 19,
    "start_time": "2022-09-07T03:06:59.901Z"
   },
   {
    "duration": 35,
    "start_time": "2022-09-07T03:06:59.922Z"
   },
   {
    "duration": 51,
    "start_time": "2022-09-07T03:06:59.959Z"
   },
   {
    "duration": 21,
    "start_time": "2022-09-07T03:07:00.012Z"
   },
   {
    "duration": 8,
    "start_time": "2022-09-07T03:07:00.035Z"
   },
   {
    "duration": 19,
    "start_time": "2022-09-07T03:07:00.044Z"
   },
   {
    "duration": 15,
    "start_time": "2022-09-07T03:07:00.065Z"
   },
   {
    "duration": 32,
    "start_time": "2022-09-07T03:07:00.081Z"
   },
   {
    "duration": 12,
    "start_time": "2022-09-07T03:07:00.115Z"
   },
   {
    "duration": 23,
    "start_time": "2022-09-07T03:07:00.129Z"
   },
   {
    "duration": 13,
    "start_time": "2022-09-07T03:07:00.153Z"
   },
   {
    "duration": 23,
    "start_time": "2022-09-07T03:07:00.168Z"
   },
   {
    "duration": 9,
    "start_time": "2022-09-07T03:07:00.197Z"
   },
   {
    "duration": 24,
    "start_time": "2022-09-07T03:07:00.208Z"
   },
   {
    "duration": 299,
    "start_time": "2022-09-07T03:07:57.588Z"
   },
   {
    "duration": 209,
    "start_time": "2022-09-07T03:09:33.340Z"
   },
   {
    "duration": 1312,
    "start_time": "2022-09-07T12:32:24.916Z"
   },
   {
    "duration": 119,
    "start_time": "2022-09-07T12:32:26.231Z"
   },
   {
    "duration": 332,
    "start_time": "2022-09-07T12:32:26.352Z"
   },
   {
    "duration": 6,
    "start_time": "2022-09-07T12:32:26.685Z"
   },
   {
    "duration": 9,
    "start_time": "2022-09-07T12:32:26.693Z"
   },
   {
    "duration": 9,
    "start_time": "2022-09-07T12:32:26.703Z"
   },
   {
    "duration": 38,
    "start_time": "2022-09-07T12:32:26.713Z"
   },
   {
    "duration": 24,
    "start_time": "2022-09-07T12:32:26.753Z"
   },
   {
    "duration": 14,
    "start_time": "2022-09-07T12:32:26.778Z"
   },
   {
    "duration": 63,
    "start_time": "2022-09-07T12:32:26.796Z"
   },
   {
    "duration": 65,
    "start_time": "2022-09-07T12:32:26.861Z"
   },
   {
    "duration": 14,
    "start_time": "2022-09-07T12:32:26.928Z"
   },
   {
    "duration": 251,
    "start_time": "2022-09-07T12:32:26.944Z"
   },
   {
    "duration": 81,
    "start_time": "2022-09-07T12:32:27.196Z"
   },
   {
    "duration": 26,
    "start_time": "2022-09-07T12:32:27.279Z"
   },
   {
    "duration": 195,
    "start_time": "2022-09-07T12:32:27.307Z"
   },
   {
    "duration": 173,
    "start_time": "2022-09-07T12:32:27.504Z"
   },
   {
    "duration": 774,
    "start_time": "2022-09-07T12:32:27.679Z"
   },
   {
    "duration": 22,
    "start_time": "2022-09-07T12:32:28.455Z"
   },
   {
    "duration": 11,
    "start_time": "2022-09-07T12:32:28.479Z"
   },
   {
    "duration": 198,
    "start_time": "2022-09-07T12:32:28.492Z"
   },
   {
    "duration": 180,
    "start_time": "2022-09-07T12:32:28.692Z"
   },
   {
    "duration": 320,
    "start_time": "2022-09-07T12:32:28.874Z"
   },
   {
    "duration": 234,
    "start_time": "2022-09-07T12:32:29.196Z"
   },
   {
    "duration": 40,
    "start_time": "2022-09-07T12:32:29.432Z"
   },
   {
    "duration": 13,
    "start_time": "2022-09-07T12:32:29.474Z"
   },
   {
    "duration": 10,
    "start_time": "2022-09-07T12:32:29.489Z"
   },
   {
    "duration": 463,
    "start_time": "2022-09-07T12:32:29.503Z"
   },
   {
    "duration": 353,
    "start_time": "2022-09-07T12:32:29.967Z"
   },
   {
    "duration": 21,
    "start_time": "2022-09-07T12:32:30.322Z"
   },
   {
    "duration": 111,
    "start_time": "2022-09-07T12:32:30.345Z"
   },
   {
    "duration": 27,
    "start_time": "2022-09-07T12:32:30.458Z"
   },
   {
    "duration": 66,
    "start_time": "2022-09-07T12:32:30.487Z"
   },
   {
    "duration": 17,
    "start_time": "2022-09-07T12:32:30.555Z"
   },
   {
    "duration": 11,
    "start_time": "2022-09-07T12:32:30.573Z"
   },
   {
    "duration": 19,
    "start_time": "2022-09-07T12:32:30.586Z"
   },
   {
    "duration": 18,
    "start_time": "2022-09-07T12:32:30.607Z"
   },
   {
    "duration": 29,
    "start_time": "2022-09-07T12:32:30.627Z"
   },
   {
    "duration": 135,
    "start_time": "2022-09-07T12:32:30.658Z"
   },
   {
    "duration": 657,
    "start_time": "2022-09-07T12:32:30.795Z"
   },
   {
    "duration": 2105,
    "start_time": "2022-09-07T12:32:31.454Z"
   },
   {
    "duration": 35,
    "start_time": "2022-09-07T12:32:33.561Z"
   },
   {
    "duration": 45,
    "start_time": "2022-09-07T12:32:33.598Z"
   },
   {
    "duration": 699,
    "start_time": "2022-09-07T12:32:33.644Z"
   },
   {
    "duration": 125,
    "start_time": "2022-09-07T12:32:34.345Z"
   },
   {
    "duration": 19,
    "start_time": "2022-09-07T12:32:34.471Z"
   },
   {
    "duration": 607,
    "start_time": "2022-09-07T12:32:34.493Z"
   },
   {
    "duration": 54,
    "start_time": "2022-09-07T12:32:35.102Z"
   },
   {
    "duration": 136,
    "start_time": "2022-09-07T12:32:35.158Z"
   },
   {
    "duration": 54,
    "start_time": "2022-09-07T12:32:35.296Z"
   },
   {
    "duration": 147,
    "start_time": "2022-09-07T12:32:35.351Z"
   },
   {
    "duration": 16,
    "start_time": "2022-09-07T12:32:35.500Z"
   },
   {
    "duration": 90,
    "start_time": "2022-09-07T12:32:35.517Z"
   },
   {
    "duration": 173,
    "start_time": "2022-09-07T12:32:35.609Z"
   },
   {
    "duration": 16,
    "start_time": "2022-09-07T12:32:35.784Z"
   },
   {
    "duration": 68,
    "start_time": "2022-09-07T12:32:35.802Z"
   },
   {
    "duration": 27,
    "start_time": "2022-09-07T12:32:35.872Z"
   },
   {
    "duration": 37,
    "start_time": "2022-09-07T12:32:35.900Z"
   },
   {
    "duration": 35,
    "start_time": "2022-09-07T12:32:35.940Z"
   },
   {
    "duration": 25,
    "start_time": "2022-09-07T12:32:35.977Z"
   },
   {
    "duration": 5,
    "start_time": "2022-09-07T12:32:36.004Z"
   },
   {
    "duration": 32,
    "start_time": "2022-09-07T12:32:36.010Z"
   },
   {
    "duration": 11,
    "start_time": "2022-09-07T12:32:36.043Z"
   },
   {
    "duration": 30,
    "start_time": "2022-09-07T12:32:36.055Z"
   },
   {
    "duration": 18,
    "start_time": "2022-09-07T12:32:36.087Z"
   },
   {
    "duration": 34,
    "start_time": "2022-09-07T12:32:36.107Z"
   },
   {
    "duration": 21,
    "start_time": "2022-09-07T12:32:36.144Z"
   },
   {
    "duration": 8,
    "start_time": "2022-09-07T12:32:36.167Z"
   },
   {
    "duration": 8,
    "start_time": "2022-09-07T12:32:36.177Z"
   },
   {
    "duration": 13,
    "start_time": "2022-09-07T12:32:36.186Z"
   },
   {
    "duration": 15,
    "start_time": "2022-09-07T12:41:40.714Z"
   },
   {
    "duration": 24,
    "start_time": "2022-09-07T12:42:48.801Z"
   },
   {
    "duration": 146,
    "start_time": "2022-09-07T12:44:30.206Z"
   },
   {
    "duration": 151,
    "start_time": "2022-09-07T12:50:37.473Z"
   },
   {
    "duration": 1082,
    "start_time": "2022-09-07T13:37:26.131Z"
   },
   {
    "duration": 76,
    "start_time": "2022-09-07T13:37:27.215Z"
   },
   {
    "duration": 270,
    "start_time": "2022-09-07T13:37:27.293Z"
   },
   {
    "duration": 5,
    "start_time": "2022-09-07T13:37:27.565Z"
   },
   {
    "duration": 13,
    "start_time": "2022-09-07T13:37:27.571Z"
   },
   {
    "duration": 12,
    "start_time": "2022-09-07T13:37:27.585Z"
   },
   {
    "duration": 16,
    "start_time": "2022-09-07T13:37:27.598Z"
   },
   {
    "duration": 37,
    "start_time": "2022-09-07T13:37:27.615Z"
   },
   {
    "duration": 14,
    "start_time": "2022-09-07T13:37:27.654Z"
   },
   {
    "duration": 32,
    "start_time": "2022-09-07T13:37:27.671Z"
   },
   {
    "duration": 89,
    "start_time": "2022-09-07T13:37:27.705Z"
   },
   {
    "duration": 5,
    "start_time": "2022-09-07T13:37:27.796Z"
   },
   {
    "duration": 256,
    "start_time": "2022-09-07T13:37:27.802Z"
   },
   {
    "duration": 153,
    "start_time": "2022-09-07T13:37:28.060Z"
   },
   {
    "duration": 77,
    "start_time": "2022-09-07T13:37:28.214Z"
   },
   {
    "duration": 26,
    "start_time": "2022-09-07T13:37:28.293Z"
   },
   {
    "duration": 173,
    "start_time": "2022-09-07T13:37:28.320Z"
   },
   {
    "duration": 170,
    "start_time": "2022-09-07T13:37:28.494Z"
   },
   {
    "duration": 747,
    "start_time": "2022-09-07T13:37:28.666Z"
   },
   {
    "duration": 29,
    "start_time": "2022-09-07T13:37:29.414Z"
   },
   {
    "duration": 9,
    "start_time": "2022-09-07T13:37:29.445Z"
   },
   {
    "duration": 156,
    "start_time": "2022-09-07T13:37:29.456Z"
   },
   {
    "duration": 162,
    "start_time": "2022-09-07T13:37:29.613Z"
   },
   {
    "duration": 207,
    "start_time": "2022-09-07T13:37:29.777Z"
   },
   {
    "duration": 268,
    "start_time": "2022-09-07T13:37:29.986Z"
   },
   {
    "duration": 31,
    "start_time": "2022-09-07T13:37:30.255Z"
   },
   {
    "duration": 13,
    "start_time": "2022-09-07T13:37:30.287Z"
   },
   {
    "duration": 19,
    "start_time": "2022-09-07T13:37:30.304Z"
   },
   {
    "duration": 316,
    "start_time": "2022-09-07T13:37:30.337Z"
   },
   {
    "duration": 305,
    "start_time": "2022-09-07T13:37:30.655Z"
   },
   {
    "duration": 13,
    "start_time": "2022-09-07T13:37:30.962Z"
   },
   {
    "duration": 81,
    "start_time": "2022-09-07T13:37:30.977Z"
   },
   {
    "duration": 31,
    "start_time": "2022-09-07T13:37:31.059Z"
   },
   {
    "duration": 56,
    "start_time": "2022-09-07T13:37:31.091Z"
   },
   {
    "duration": 17,
    "start_time": "2022-09-07T13:37:31.148Z"
   },
   {
    "duration": 6,
    "start_time": "2022-09-07T13:37:31.167Z"
   },
   {
    "duration": 10,
    "start_time": "2022-09-07T13:37:31.175Z"
   },
   {
    "duration": 23,
    "start_time": "2022-09-07T13:37:31.186Z"
   },
   {
    "duration": 24,
    "start_time": "2022-09-07T13:37:31.211Z"
   },
   {
    "duration": 124,
    "start_time": "2022-09-07T13:37:31.236Z"
   },
   {
    "duration": 612,
    "start_time": "2022-09-07T13:37:31.361Z"
   },
   {
    "duration": 1946,
    "start_time": "2022-09-07T13:37:31.974Z"
   },
   {
    "duration": 39,
    "start_time": "2022-09-07T13:37:33.921Z"
   },
   {
    "duration": 22,
    "start_time": "2022-09-07T13:37:33.962Z"
   },
   {
    "duration": 637,
    "start_time": "2022-09-07T13:37:33.986Z"
   },
   {
    "duration": 113,
    "start_time": "2022-09-07T13:37:34.625Z"
   },
   {
    "duration": 16,
    "start_time": "2022-09-07T13:37:34.740Z"
   },
   {
    "duration": 539,
    "start_time": "2022-09-07T13:37:34.758Z"
   },
   {
    "duration": 27,
    "start_time": "2022-09-07T13:37:35.298Z"
   },
   {
    "duration": 138,
    "start_time": "2022-09-07T13:37:35.327Z"
   },
   {
    "duration": 37,
    "start_time": "2022-09-07T13:37:35.467Z"
   },
   {
    "duration": 157,
    "start_time": "2022-09-07T13:37:35.505Z"
   },
   {
    "duration": 20,
    "start_time": "2022-09-07T13:37:35.664Z"
   },
   {
    "duration": 72,
    "start_time": "2022-09-07T13:37:35.686Z"
   },
   {
    "duration": 163,
    "start_time": "2022-09-07T13:37:35.760Z"
   },
   {
    "duration": 24,
    "start_time": "2022-09-07T13:37:35.924Z"
   },
   {
    "duration": 39,
    "start_time": "2022-09-07T13:37:35.950Z"
   },
   {
    "duration": 49,
    "start_time": "2022-09-07T13:37:35.991Z"
   },
   {
    "duration": 21,
    "start_time": "2022-09-07T13:37:36.042Z"
   },
   {
    "duration": 6,
    "start_time": "2022-09-07T13:37:36.065Z"
   },
   {
    "duration": 13,
    "start_time": "2022-09-07T13:37:36.072Z"
   },
   {
    "duration": 17,
    "start_time": "2022-09-07T13:37:36.086Z"
   },
   {
    "duration": 38,
    "start_time": "2022-09-07T13:37:36.106Z"
   },
   {
    "duration": 14,
    "start_time": "2022-09-07T13:37:36.145Z"
   },
   {
    "duration": 19,
    "start_time": "2022-09-07T13:37:36.161Z"
   },
   {
    "duration": 13,
    "start_time": "2022-09-07T13:37:36.181Z"
   },
   {
    "duration": 14,
    "start_time": "2022-09-07T13:37:36.196Z"
   },
   {
    "duration": 29,
    "start_time": "2022-09-07T13:37:36.211Z"
   },
   {
    "duration": 11,
    "start_time": "2022-09-07T13:37:36.241Z"
   },
   {
    "duration": 232,
    "start_time": "2022-09-07T13:47:35.188Z"
   },
   {
    "duration": 198,
    "start_time": "2022-09-07T13:48:37.836Z"
   },
   {
    "duration": 415,
    "start_time": "2022-09-07T13:53:25.218Z"
   },
   {
    "duration": 1152,
    "start_time": "2022-09-07T14:24:48.993Z"
   },
   {
    "duration": 54,
    "start_time": "2022-09-07T14:24:50.147Z"
   },
   {
    "duration": 261,
    "start_time": "2022-09-07T14:24:50.202Z"
   },
   {
    "duration": 6,
    "start_time": "2022-09-07T14:24:50.466Z"
   },
   {
    "duration": 13,
    "start_time": "2022-09-07T14:24:50.474Z"
   },
   {
    "duration": 24,
    "start_time": "2022-09-07T14:24:50.489Z"
   },
   {
    "duration": 12,
    "start_time": "2022-09-07T14:24:50.515Z"
   },
   {
    "duration": 35,
    "start_time": "2022-09-07T14:24:50.528Z"
   },
   {
    "duration": 14,
    "start_time": "2022-09-07T14:24:50.564Z"
   },
   {
    "duration": 58,
    "start_time": "2022-09-07T14:24:50.581Z"
   },
   {
    "duration": 74,
    "start_time": "2022-09-07T14:24:50.641Z"
   },
   {
    "duration": 24,
    "start_time": "2022-09-07T14:24:50.717Z"
   },
   {
    "duration": 306,
    "start_time": "2022-09-07T14:24:50.742Z"
   },
   {
    "duration": 192,
    "start_time": "2022-09-07T14:24:51.050Z"
   },
   {
    "duration": 71,
    "start_time": "2022-09-07T14:24:51.243Z"
   },
   {
    "duration": 42,
    "start_time": "2022-09-07T14:24:51.315Z"
   },
   {
    "duration": 173,
    "start_time": "2022-09-07T14:24:51.358Z"
   },
   {
    "duration": 179,
    "start_time": "2022-09-07T14:24:51.532Z"
   },
   {
    "duration": 822,
    "start_time": "2022-09-07T14:24:51.713Z"
   },
   {
    "duration": 35,
    "start_time": "2022-09-07T14:24:52.539Z"
   },
   {
    "duration": 12,
    "start_time": "2022-09-07T14:24:52.575Z"
   },
   {
    "duration": 179,
    "start_time": "2022-09-07T14:24:52.589Z"
   },
   {
    "duration": 186,
    "start_time": "2022-09-07T14:24:52.769Z"
   },
   {
    "duration": 254,
    "start_time": "2022-09-07T14:24:52.958Z"
   },
   {
    "duration": 284,
    "start_time": "2022-09-07T14:24:53.213Z"
   },
   {
    "duration": 43,
    "start_time": "2022-09-07T14:24:53.499Z"
   },
   {
    "duration": 16,
    "start_time": "2022-09-07T14:24:53.544Z"
   },
   {
    "duration": 12,
    "start_time": "2022-09-07T14:24:53.564Z"
   },
   {
    "duration": 426,
    "start_time": "2022-09-07T14:24:53.578Z"
   },
   {
    "duration": 366,
    "start_time": "2022-09-07T14:24:54.007Z"
   },
   {
    "duration": 20,
    "start_time": "2022-09-07T14:24:54.374Z"
   },
   {
    "duration": 92,
    "start_time": "2022-09-07T14:24:54.396Z"
   },
   {
    "duration": 33,
    "start_time": "2022-09-07T14:24:54.490Z"
   },
   {
    "duration": 44,
    "start_time": "2022-09-07T14:24:54.539Z"
   },
   {
    "duration": 26,
    "start_time": "2022-09-07T14:24:54.585Z"
   },
   {
    "duration": 26,
    "start_time": "2022-09-07T14:24:54.613Z"
   },
   {
    "duration": 10,
    "start_time": "2022-09-07T14:24:54.641Z"
   },
   {
    "duration": 15,
    "start_time": "2022-09-07T14:24:54.653Z"
   },
   {
    "duration": 16,
    "start_time": "2022-09-07T14:24:54.670Z"
   },
   {
    "duration": 113,
    "start_time": "2022-09-07T14:24:54.688Z"
   },
   {
    "duration": 667,
    "start_time": "2022-09-07T14:24:54.802Z"
   },
   {
    "duration": 2179,
    "start_time": "2022-09-07T14:24:55.471Z"
   },
   {
    "duration": 38,
    "start_time": "2022-09-07T14:24:57.652Z"
   },
   {
    "duration": 27,
    "start_time": "2022-09-07T14:24:57.691Z"
   },
   {
    "duration": 660,
    "start_time": "2022-09-07T14:24:57.738Z"
   },
   {
    "duration": 115,
    "start_time": "2022-09-07T14:24:58.400Z"
   },
   {
    "duration": 22,
    "start_time": "2022-09-07T14:24:58.517Z"
   },
   {
    "duration": 634,
    "start_time": "2022-09-07T14:24:58.541Z"
   },
   {
    "duration": 30,
    "start_time": "2022-09-07T14:24:59.177Z"
   },
   {
    "duration": 167,
    "start_time": "2022-09-07T14:24:59.209Z"
   },
   {
    "duration": 37,
    "start_time": "2022-09-07T14:24:59.377Z"
   },
   {
    "duration": 156,
    "start_time": "2022-09-07T14:24:59.416Z"
   },
   {
    "duration": 19,
    "start_time": "2022-09-07T14:24:59.574Z"
   },
   {
    "duration": 78,
    "start_time": "2022-09-07T14:24:59.595Z"
   },
   {
    "duration": 184,
    "start_time": "2022-09-07T14:24:59.675Z"
   },
   {
    "duration": 21,
    "start_time": "2022-09-07T14:24:59.861Z"
   },
   {
    "duration": 61,
    "start_time": "2022-09-07T14:24:59.885Z"
   },
   {
    "duration": 37,
    "start_time": "2022-09-07T14:24:59.948Z"
   },
   {
    "duration": 21,
    "start_time": "2022-09-07T14:24:59.986Z"
   },
   {
    "duration": 32,
    "start_time": "2022-09-07T14:25:00.009Z"
   },
   {
    "duration": 21,
    "start_time": "2022-09-07T14:25:00.043Z"
   },
   {
    "duration": 14,
    "start_time": "2022-09-07T14:25:00.066Z"
   },
   {
    "duration": 32,
    "start_time": "2022-09-07T14:25:00.082Z"
   },
   {
    "duration": 16,
    "start_time": "2022-09-07T14:25:00.116Z"
   },
   {
    "duration": 22,
    "start_time": "2022-09-07T14:25:00.133Z"
   },
   {
    "duration": 16,
    "start_time": "2022-09-07T14:25:00.156Z"
   },
   {
    "duration": 21,
    "start_time": "2022-09-07T14:25:00.173Z"
   },
   {
    "duration": 6,
    "start_time": "2022-09-07T14:25:00.196Z"
   },
   {
    "duration": 13,
    "start_time": "2022-09-07T14:25:00.204Z"
   },
   {
    "duration": 1167,
    "start_time": "2022-09-08T07:58:33.073Z"
   },
   {
    "duration": 49,
    "start_time": "2022-09-08T07:58:34.242Z"
   },
   {
    "duration": 348,
    "start_time": "2022-09-08T07:58:34.293Z"
   },
   {
    "duration": 6,
    "start_time": "2022-09-08T07:58:34.642Z"
   },
   {
    "duration": 6,
    "start_time": "2022-09-08T07:58:34.651Z"
   },
   {
    "duration": 12,
    "start_time": "2022-09-08T07:58:34.659Z"
   },
   {
    "duration": 12,
    "start_time": "2022-09-08T07:58:34.687Z"
   },
   {
    "duration": 27,
    "start_time": "2022-09-08T07:58:34.700Z"
   },
   {
    "duration": 14,
    "start_time": "2022-09-08T07:58:34.729Z"
   },
   {
    "duration": 54,
    "start_time": "2022-09-08T07:58:34.744Z"
   },
   {
    "duration": 66,
    "start_time": "2022-09-08T07:58:34.799Z"
   },
   {
    "duration": 21,
    "start_time": "2022-09-08T07:58:34.866Z"
   },
   {
    "duration": 278,
    "start_time": "2022-09-08T07:58:34.888Z"
   },
   {
    "duration": 188,
    "start_time": "2022-09-08T07:58:35.168Z"
   },
   {
    "duration": 80,
    "start_time": "2022-09-08T07:58:35.358Z"
   },
   {
    "duration": 26,
    "start_time": "2022-09-08T07:58:35.439Z"
   },
   {
    "duration": 183,
    "start_time": "2022-09-08T07:58:35.466Z"
   },
   {
    "duration": 175,
    "start_time": "2022-09-08T07:58:35.651Z"
   },
   {
    "duration": 937,
    "start_time": "2022-09-08T07:58:35.827Z"
   },
   {
    "duration": 29,
    "start_time": "2022-09-08T07:58:36.765Z"
   },
   {
    "duration": 11,
    "start_time": "2022-09-08T07:58:36.796Z"
   },
   {
    "duration": 175,
    "start_time": "2022-09-08T07:58:36.809Z"
   },
   {
    "duration": 173,
    "start_time": "2022-09-08T07:58:36.986Z"
   },
   {
    "duration": 219,
    "start_time": "2022-09-08T07:58:37.161Z"
   },
   {
    "duration": 297,
    "start_time": "2022-09-08T07:58:37.381Z"
   },
   {
    "duration": 42,
    "start_time": "2022-09-08T07:58:37.679Z"
   },
   {
    "duration": 15,
    "start_time": "2022-09-08T07:58:37.722Z"
   },
   {
    "duration": 11,
    "start_time": "2022-09-08T07:58:37.739Z"
   },
   {
    "duration": 364,
    "start_time": "2022-09-08T07:58:37.751Z"
   },
   {
    "duration": 371,
    "start_time": "2022-09-08T07:58:38.117Z"
   },
   {
    "duration": 16,
    "start_time": "2022-09-08T07:58:38.490Z"
   },
   {
    "duration": 82,
    "start_time": "2022-09-08T07:58:38.508Z"
   },
   {
    "duration": 29,
    "start_time": "2022-09-08T07:58:38.592Z"
   },
   {
    "duration": 42,
    "start_time": "2022-09-08T07:58:38.623Z"
   },
   {
    "duration": 20,
    "start_time": "2022-09-08T07:58:38.687Z"
   },
   {
    "duration": 3,
    "start_time": "2022-09-08T07:58:38.710Z"
   },
   {
    "duration": 15,
    "start_time": "2022-09-08T07:58:38.714Z"
   },
   {
    "duration": 10,
    "start_time": "2022-09-08T07:58:38.731Z"
   },
   {
    "duration": 10,
    "start_time": "2022-09-08T07:58:38.743Z"
   },
   {
    "duration": 113,
    "start_time": "2022-09-08T07:58:38.755Z"
   },
   {
    "duration": 669,
    "start_time": "2022-09-08T07:58:38.873Z"
   },
   {
    "duration": 2116,
    "start_time": "2022-09-08T07:58:39.544Z"
   },
   {
    "duration": 41,
    "start_time": "2022-09-08T07:58:41.662Z"
   },
   {
    "duration": 26,
    "start_time": "2022-09-08T07:58:41.704Z"
   },
   {
    "duration": 674,
    "start_time": "2022-09-08T07:58:41.732Z"
   },
   {
    "duration": 113,
    "start_time": "2022-09-08T07:58:42.408Z"
   },
   {
    "duration": 22,
    "start_time": "2022-09-08T07:58:42.523Z"
   },
   {
    "duration": 567,
    "start_time": "2022-09-08T07:58:42.547Z"
   },
   {
    "duration": 28,
    "start_time": "2022-09-08T07:58:43.115Z"
   },
   {
    "duration": 150,
    "start_time": "2022-09-08T07:58:43.144Z"
   },
   {
    "duration": 39,
    "start_time": "2022-09-08T07:58:43.295Z"
   },
   {
    "duration": 171,
    "start_time": "2022-09-08T07:58:43.335Z"
   },
   {
    "duration": 18,
    "start_time": "2022-09-08T07:58:43.508Z"
   },
   {
    "duration": 76,
    "start_time": "2022-09-08T07:58:43.527Z"
   },
   {
    "duration": 165,
    "start_time": "2022-09-08T07:58:43.605Z"
   },
   {
    "duration": 19,
    "start_time": "2022-09-08T07:58:43.771Z"
   },
   {
    "duration": 42,
    "start_time": "2022-09-08T07:58:43.791Z"
   },
   {
    "duration": 54,
    "start_time": "2022-09-08T07:58:43.834Z"
   },
   {
    "duration": 24,
    "start_time": "2022-09-08T07:58:43.889Z"
   },
   {
    "duration": 6,
    "start_time": "2022-09-08T07:58:43.914Z"
   },
   {
    "duration": 11,
    "start_time": "2022-09-08T07:58:43.922Z"
   },
   {
    "duration": 14,
    "start_time": "2022-09-08T07:58:43.934Z"
   },
   {
    "duration": 45,
    "start_time": "2022-09-08T07:58:43.950Z"
   },
   {
    "duration": 13,
    "start_time": "2022-09-08T07:58:43.997Z"
   },
   {
    "duration": 33,
    "start_time": "2022-09-08T07:58:44.012Z"
   },
   {
    "duration": 26,
    "start_time": "2022-09-08T07:58:44.047Z"
   },
   {
    "duration": 12,
    "start_time": "2022-09-08T07:58:44.074Z"
   },
   {
    "duration": 11,
    "start_time": "2022-09-08T07:58:44.088Z"
   },
   {
    "duration": 20,
    "start_time": "2022-09-08T07:58:44.100Z"
   }
  ],
  "kernelspec": {
   "display_name": "Python 3 (ipykernel)",
   "language": "python",
   "name": "python3"
  },
  "language_info": {
   "codemirror_mode": {
    "name": "ipython",
    "version": 3
   },
   "file_extension": ".py",
   "mimetype": "text/x-python",
   "name": "python",
   "nbconvert_exporter": "python",
   "pygments_lexer": "ipython3",
   "version": "3.9.7"
  },
  "toc": {
   "base_numbering": 1,
   "nav_menu": {},
   "number_sections": true,
   "sideBar": true,
   "skip_h1_title": true,
   "title_cell": "Содержание",
   "title_sidebar": "Contents",
   "toc_cell": true,
   "toc_position": {
    "height": "calc(100% - 180px)",
    "left": "10px",
    "top": "150px",
    "width": "198.712px"
   },
   "toc_section_display": true,
   "toc_window_display": true
  }
 },
 "nbformat": 4,
 "nbformat_minor": 2
}
