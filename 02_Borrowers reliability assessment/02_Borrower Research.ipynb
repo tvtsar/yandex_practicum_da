{
 "cells": [
  {
   "cell_type": "markdown",
   "id": "85da3490",
   "metadata": {},
   "source": [
    "# Исследование надежности заемщиков."
   ]
  },
  {
   "cell_type": "markdown",
   "id": "c2ff0d1d",
   "metadata": {},
   "source": [
    "### Шаг 1. Обзор данных"
   ]
  },
  {
   "cell_type": "markdown",
   "id": "05f61f10",
   "metadata": {},
   "source": [
    "Чтение и вывод таблицы для ее визуализации.\n",
    "Получение информации о таблице и использование метода isna() для определения пропущенных значений."
   ]
  },
  {
   "cell_type": "code",
   "execution_count": 1,
   "id": "5821137c",
   "metadata": {},
   "outputs": [
    {
     "data": {
      "text/html": [
       "<div>\n",
       "<style scoped>\n",
       "    .dataframe tbody tr th:only-of-type {\n",
       "        vertical-align: middle;\n",
       "    }\n",
       "\n",
       "    .dataframe tbody tr th {\n",
       "        vertical-align: top;\n",
       "    }\n",
       "\n",
       "    .dataframe thead th {\n",
       "        text-align: right;\n",
       "    }\n",
       "</style>\n",
       "<table border=\"1\" class=\"dataframe\">\n",
       "  <thead>\n",
       "    <tr style=\"text-align: right;\">\n",
       "      <th></th>\n",
       "      <th>children</th>\n",
       "      <th>days_employed</th>\n",
       "      <th>dob_years</th>\n",
       "      <th>education</th>\n",
       "      <th>education_id</th>\n",
       "      <th>family_status</th>\n",
       "      <th>family_status_id</th>\n",
       "      <th>gender</th>\n",
       "      <th>income_type</th>\n",
       "      <th>debt</th>\n",
       "      <th>total_income</th>\n",
       "      <th>purpose</th>\n",
       "    </tr>\n",
       "  </thead>\n",
       "  <tbody>\n",
       "    <tr>\n",
       "      <th>0</th>\n",
       "      <td>1</td>\n",
       "      <td>-8437.673028</td>\n",
       "      <td>42</td>\n",
       "      <td>высшее</td>\n",
       "      <td>0</td>\n",
       "      <td>женат / замужем</td>\n",
       "      <td>0</td>\n",
       "      <td>F</td>\n",
       "      <td>сотрудник</td>\n",
       "      <td>0</td>\n",
       "      <td>253875.639453</td>\n",
       "      <td>покупка жилья</td>\n",
       "    </tr>\n",
       "    <tr>\n",
       "      <th>1</th>\n",
       "      <td>1</td>\n",
       "      <td>-4024.803754</td>\n",
       "      <td>36</td>\n",
       "      <td>среднее</td>\n",
       "      <td>1</td>\n",
       "      <td>женат / замужем</td>\n",
       "      <td>0</td>\n",
       "      <td>F</td>\n",
       "      <td>сотрудник</td>\n",
       "      <td>0</td>\n",
       "      <td>112080.014102</td>\n",
       "      <td>приобретение автомобиля</td>\n",
       "    </tr>\n",
       "    <tr>\n",
       "      <th>2</th>\n",
       "      <td>0</td>\n",
       "      <td>-5623.422610</td>\n",
       "      <td>33</td>\n",
       "      <td>Среднее</td>\n",
       "      <td>1</td>\n",
       "      <td>женат / замужем</td>\n",
       "      <td>0</td>\n",
       "      <td>M</td>\n",
       "      <td>сотрудник</td>\n",
       "      <td>0</td>\n",
       "      <td>145885.952297</td>\n",
       "      <td>покупка жилья</td>\n",
       "    </tr>\n",
       "    <tr>\n",
       "      <th>3</th>\n",
       "      <td>3</td>\n",
       "      <td>-4124.747207</td>\n",
       "      <td>32</td>\n",
       "      <td>среднее</td>\n",
       "      <td>1</td>\n",
       "      <td>женат / замужем</td>\n",
       "      <td>0</td>\n",
       "      <td>M</td>\n",
       "      <td>сотрудник</td>\n",
       "      <td>0</td>\n",
       "      <td>267628.550329</td>\n",
       "      <td>дополнительное образование</td>\n",
       "    </tr>\n",
       "    <tr>\n",
       "      <th>4</th>\n",
       "      <td>0</td>\n",
       "      <td>340266.072047</td>\n",
       "      <td>53</td>\n",
       "      <td>среднее</td>\n",
       "      <td>1</td>\n",
       "      <td>гражданский брак</td>\n",
       "      <td>1</td>\n",
       "      <td>F</td>\n",
       "      <td>пенсионер</td>\n",
       "      <td>0</td>\n",
       "      <td>158616.077870</td>\n",
       "      <td>сыграть свадьбу</td>\n",
       "    </tr>\n",
       "    <tr>\n",
       "      <th>...</th>\n",
       "      <td>...</td>\n",
       "      <td>...</td>\n",
       "      <td>...</td>\n",
       "      <td>...</td>\n",
       "      <td>...</td>\n",
       "      <td>...</td>\n",
       "      <td>...</td>\n",
       "      <td>...</td>\n",
       "      <td>...</td>\n",
       "      <td>...</td>\n",
       "      <td>...</td>\n",
       "      <td>...</td>\n",
       "    </tr>\n",
       "    <tr>\n",
       "      <th>21520</th>\n",
       "      <td>1</td>\n",
       "      <td>-4529.316663</td>\n",
       "      <td>43</td>\n",
       "      <td>среднее</td>\n",
       "      <td>1</td>\n",
       "      <td>гражданский брак</td>\n",
       "      <td>1</td>\n",
       "      <td>F</td>\n",
       "      <td>компаньон</td>\n",
       "      <td>0</td>\n",
       "      <td>224791.862382</td>\n",
       "      <td>операции с жильем</td>\n",
       "    </tr>\n",
       "    <tr>\n",
       "      <th>21521</th>\n",
       "      <td>0</td>\n",
       "      <td>343937.404131</td>\n",
       "      <td>67</td>\n",
       "      <td>среднее</td>\n",
       "      <td>1</td>\n",
       "      <td>женат / замужем</td>\n",
       "      <td>0</td>\n",
       "      <td>F</td>\n",
       "      <td>пенсионер</td>\n",
       "      <td>0</td>\n",
       "      <td>155999.806512</td>\n",
       "      <td>сделка с автомобилем</td>\n",
       "    </tr>\n",
       "    <tr>\n",
       "      <th>21522</th>\n",
       "      <td>1</td>\n",
       "      <td>-2113.346888</td>\n",
       "      <td>38</td>\n",
       "      <td>среднее</td>\n",
       "      <td>1</td>\n",
       "      <td>гражданский брак</td>\n",
       "      <td>1</td>\n",
       "      <td>M</td>\n",
       "      <td>сотрудник</td>\n",
       "      <td>1</td>\n",
       "      <td>89672.561153</td>\n",
       "      <td>недвижимость</td>\n",
       "    </tr>\n",
       "    <tr>\n",
       "      <th>21523</th>\n",
       "      <td>3</td>\n",
       "      <td>-3112.481705</td>\n",
       "      <td>38</td>\n",
       "      <td>среднее</td>\n",
       "      <td>1</td>\n",
       "      <td>женат / замужем</td>\n",
       "      <td>0</td>\n",
       "      <td>M</td>\n",
       "      <td>сотрудник</td>\n",
       "      <td>1</td>\n",
       "      <td>244093.050500</td>\n",
       "      <td>на покупку своего автомобиля</td>\n",
       "    </tr>\n",
       "    <tr>\n",
       "      <th>21524</th>\n",
       "      <td>2</td>\n",
       "      <td>-1984.507589</td>\n",
       "      <td>40</td>\n",
       "      <td>среднее</td>\n",
       "      <td>1</td>\n",
       "      <td>женат / замужем</td>\n",
       "      <td>0</td>\n",
       "      <td>F</td>\n",
       "      <td>сотрудник</td>\n",
       "      <td>0</td>\n",
       "      <td>82047.418899</td>\n",
       "      <td>на покупку автомобиля</td>\n",
       "    </tr>\n",
       "  </tbody>\n",
       "</table>\n",
       "<p>21525 rows × 12 columns</p>\n",
       "</div>"
      ],
      "text/plain": [
       "       children  days_employed  dob_years education  education_id  \\\n",
       "0             1   -8437.673028         42    высшее             0   \n",
       "1             1   -4024.803754         36   среднее             1   \n",
       "2             0   -5623.422610         33   Среднее             1   \n",
       "3             3   -4124.747207         32   среднее             1   \n",
       "4             0  340266.072047         53   среднее             1   \n",
       "...         ...            ...        ...       ...           ...   \n",
       "21520         1   -4529.316663         43   среднее             1   \n",
       "21521         0  343937.404131         67   среднее             1   \n",
       "21522         1   -2113.346888         38   среднее             1   \n",
       "21523         3   -3112.481705         38   среднее             1   \n",
       "21524         2   -1984.507589         40   среднее             1   \n",
       "\n",
       "          family_status  family_status_id gender income_type  debt  \\\n",
       "0       женат / замужем                 0      F   сотрудник     0   \n",
       "1       женат / замужем                 0      F   сотрудник     0   \n",
       "2       женат / замужем                 0      M   сотрудник     0   \n",
       "3       женат / замужем                 0      M   сотрудник     0   \n",
       "4      гражданский брак                 1      F   пенсионер     0   \n",
       "...                 ...               ...    ...         ...   ...   \n",
       "21520  гражданский брак                 1      F   компаньон     0   \n",
       "21521   женат / замужем                 0      F   пенсионер     0   \n",
       "21522  гражданский брак                 1      M   сотрудник     1   \n",
       "21523   женат / замужем                 0      M   сотрудник     1   \n",
       "21524   женат / замужем                 0      F   сотрудник     0   \n",
       "\n",
       "        total_income                       purpose  \n",
       "0      253875.639453                 покупка жилья  \n",
       "1      112080.014102       приобретение автомобиля  \n",
       "2      145885.952297                 покупка жилья  \n",
       "3      267628.550329    дополнительное образование  \n",
       "4      158616.077870               сыграть свадьбу  \n",
       "...              ...                           ...  \n",
       "21520  224791.862382             операции с жильем  \n",
       "21521  155999.806512          сделка с автомобилем  \n",
       "21522   89672.561153                  недвижимость  \n",
       "21523  244093.050500  на покупку своего автомобиля  \n",
       "21524   82047.418899         на покупку автомобиля  \n",
       "\n",
       "[21525 rows x 12 columns]"
      ]
     },
     "metadata": {},
     "output_type": "display_data"
    },
    {
     "name": "stdout",
     "output_type": "stream",
     "text": [
      "<class 'pandas.core.frame.DataFrame'>\n",
      "RangeIndex: 21525 entries, 0 to 21524\n",
      "Data columns (total 12 columns):\n",
      " #   Column            Non-Null Count  Dtype  \n",
      "---  ------            --------------  -----  \n",
      " 0   children          21525 non-null  int64  \n",
      " 1   days_employed     19351 non-null  float64\n",
      " 2   dob_years         21525 non-null  int64  \n",
      " 3   education         21525 non-null  object \n",
      " 4   education_id      21525 non-null  int64  \n",
      " 5   family_status     21525 non-null  object \n",
      " 6   family_status_id  21525 non-null  int64  \n",
      " 7   gender            21525 non-null  object \n",
      " 8   income_type       21525 non-null  object \n",
      " 9   debt              21525 non-null  int64  \n",
      " 10  total_income      19351 non-null  float64\n",
      " 11  purpose           21525 non-null  object \n",
      "dtypes: float64(2), int64(5), object(5)\n",
      "memory usage: 2.0+ MB\n"
     ]
    },
    {
     "data": {
      "text/html": [
       "<div>\n",
       "<style scoped>\n",
       "    .dataframe tbody tr th:only-of-type {\n",
       "        vertical-align: middle;\n",
       "    }\n",
       "\n",
       "    .dataframe tbody tr th {\n",
       "        vertical-align: top;\n",
       "    }\n",
       "\n",
       "    .dataframe thead th {\n",
       "        text-align: right;\n",
       "    }\n",
       "</style>\n",
       "<table border=\"1\" class=\"dataframe\">\n",
       "  <thead>\n",
       "    <tr style=\"text-align: right;\">\n",
       "      <th></th>\n",
       "      <th>children</th>\n",
       "      <th>days_employed</th>\n",
       "      <th>dob_years</th>\n",
       "      <th>education</th>\n",
       "      <th>education_id</th>\n",
       "      <th>family_status</th>\n",
       "      <th>family_status_id</th>\n",
       "      <th>gender</th>\n",
       "      <th>income_type</th>\n",
       "      <th>debt</th>\n",
       "      <th>total_income</th>\n",
       "      <th>purpose</th>\n",
       "    </tr>\n",
       "  </thead>\n",
       "  <tbody>\n",
       "    <tr>\n",
       "      <th>12</th>\n",
       "      <td>0</td>\n",
       "      <td>NaN</td>\n",
       "      <td>65</td>\n",
       "      <td>среднее</td>\n",
       "      <td>1</td>\n",
       "      <td>гражданский брак</td>\n",
       "      <td>1</td>\n",
       "      <td>M</td>\n",
       "      <td>пенсионер</td>\n",
       "      <td>0</td>\n",
       "      <td>NaN</td>\n",
       "      <td>сыграть свадьбу</td>\n",
       "    </tr>\n",
       "    <tr>\n",
       "      <th>26</th>\n",
       "      <td>0</td>\n",
       "      <td>NaN</td>\n",
       "      <td>41</td>\n",
       "      <td>среднее</td>\n",
       "      <td>1</td>\n",
       "      <td>женат / замужем</td>\n",
       "      <td>0</td>\n",
       "      <td>M</td>\n",
       "      <td>госслужащий</td>\n",
       "      <td>0</td>\n",
       "      <td>NaN</td>\n",
       "      <td>образование</td>\n",
       "    </tr>\n",
       "    <tr>\n",
       "      <th>29</th>\n",
       "      <td>0</td>\n",
       "      <td>NaN</td>\n",
       "      <td>63</td>\n",
       "      <td>среднее</td>\n",
       "      <td>1</td>\n",
       "      <td>Не женат / не замужем</td>\n",
       "      <td>4</td>\n",
       "      <td>F</td>\n",
       "      <td>пенсионер</td>\n",
       "      <td>0</td>\n",
       "      <td>NaN</td>\n",
       "      <td>строительство жилой недвижимости</td>\n",
       "    </tr>\n",
       "    <tr>\n",
       "      <th>41</th>\n",
       "      <td>0</td>\n",
       "      <td>NaN</td>\n",
       "      <td>50</td>\n",
       "      <td>среднее</td>\n",
       "      <td>1</td>\n",
       "      <td>женат / замужем</td>\n",
       "      <td>0</td>\n",
       "      <td>F</td>\n",
       "      <td>госслужащий</td>\n",
       "      <td>0</td>\n",
       "      <td>NaN</td>\n",
       "      <td>сделка с подержанным автомобилем</td>\n",
       "    </tr>\n",
       "    <tr>\n",
       "      <th>55</th>\n",
       "      <td>0</td>\n",
       "      <td>NaN</td>\n",
       "      <td>54</td>\n",
       "      <td>среднее</td>\n",
       "      <td>1</td>\n",
       "      <td>гражданский брак</td>\n",
       "      <td>1</td>\n",
       "      <td>F</td>\n",
       "      <td>пенсионер</td>\n",
       "      <td>1</td>\n",
       "      <td>NaN</td>\n",
       "      <td>сыграть свадьбу</td>\n",
       "    </tr>\n",
       "    <tr>\n",
       "      <th>65</th>\n",
       "      <td>0</td>\n",
       "      <td>NaN</td>\n",
       "      <td>21</td>\n",
       "      <td>среднее</td>\n",
       "      <td>1</td>\n",
       "      <td>Не женат / не замужем</td>\n",
       "      <td>4</td>\n",
       "      <td>M</td>\n",
       "      <td>компаньон</td>\n",
       "      <td>0</td>\n",
       "      <td>NaN</td>\n",
       "      <td>операции с коммерческой недвижимостью</td>\n",
       "    </tr>\n",
       "    <tr>\n",
       "      <th>67</th>\n",
       "      <td>0</td>\n",
       "      <td>NaN</td>\n",
       "      <td>52</td>\n",
       "      <td>высшее</td>\n",
       "      <td>0</td>\n",
       "      <td>женат / замужем</td>\n",
       "      <td>0</td>\n",
       "      <td>F</td>\n",
       "      <td>пенсионер</td>\n",
       "      <td>0</td>\n",
       "      <td>NaN</td>\n",
       "      <td>покупка жилья для семьи</td>\n",
       "    </tr>\n",
       "    <tr>\n",
       "      <th>72</th>\n",
       "      <td>1</td>\n",
       "      <td>NaN</td>\n",
       "      <td>32</td>\n",
       "      <td>высшее</td>\n",
       "      <td>0</td>\n",
       "      <td>женат / замужем</td>\n",
       "      <td>0</td>\n",
       "      <td>M</td>\n",
       "      <td>госслужащий</td>\n",
       "      <td>0</td>\n",
       "      <td>NaN</td>\n",
       "      <td>операции с коммерческой недвижимостью</td>\n",
       "    </tr>\n",
       "    <tr>\n",
       "      <th>82</th>\n",
       "      <td>2</td>\n",
       "      <td>NaN</td>\n",
       "      <td>50</td>\n",
       "      <td>высшее</td>\n",
       "      <td>0</td>\n",
       "      <td>женат / замужем</td>\n",
       "      <td>0</td>\n",
       "      <td>F</td>\n",
       "      <td>сотрудник</td>\n",
       "      <td>0</td>\n",
       "      <td>NaN</td>\n",
       "      <td>жилье</td>\n",
       "    </tr>\n",
       "    <tr>\n",
       "      <th>83</th>\n",
       "      <td>0</td>\n",
       "      <td>NaN</td>\n",
       "      <td>52</td>\n",
       "      <td>среднее</td>\n",
       "      <td>1</td>\n",
       "      <td>женат / замужем</td>\n",
       "      <td>0</td>\n",
       "      <td>M</td>\n",
       "      <td>сотрудник</td>\n",
       "      <td>0</td>\n",
       "      <td>NaN</td>\n",
       "      <td>жилье</td>\n",
       "    </tr>\n",
       "  </tbody>\n",
       "</table>\n",
       "</div>"
      ],
      "text/plain": [
       "    children  days_employed  dob_years education  education_id  \\\n",
       "12         0            NaN         65   среднее             1   \n",
       "26         0            NaN         41   среднее             1   \n",
       "29         0            NaN         63   среднее             1   \n",
       "41         0            NaN         50   среднее             1   \n",
       "55         0            NaN         54   среднее             1   \n",
       "65         0            NaN         21   среднее             1   \n",
       "67         0            NaN         52    высшее             0   \n",
       "72         1            NaN         32    высшее             0   \n",
       "82         2            NaN         50    высшее             0   \n",
       "83         0            NaN         52   среднее             1   \n",
       "\n",
       "            family_status  family_status_id gender  income_type  debt  \\\n",
       "12       гражданский брак                 1      M    пенсионер     0   \n",
       "26        женат / замужем                 0      M  госслужащий     0   \n",
       "29  Не женат / не замужем                 4      F    пенсионер     0   \n",
       "41        женат / замужем                 0      F  госслужащий     0   \n",
       "55       гражданский брак                 1      F    пенсионер     1   \n",
       "65  Не женат / не замужем                 4      M    компаньон     0   \n",
       "67        женат / замужем                 0      F    пенсионер     0   \n",
       "72        женат / замужем                 0      M  госслужащий     0   \n",
       "82        женат / замужем                 0      F    сотрудник     0   \n",
       "83        женат / замужем                 0      M    сотрудник     0   \n",
       "\n",
       "    total_income                                purpose  \n",
       "12           NaN                        сыграть свадьбу  \n",
       "26           NaN                            образование  \n",
       "29           NaN       строительство жилой недвижимости  \n",
       "41           NaN       сделка с подержанным автомобилем  \n",
       "55           NaN                        сыграть свадьбу  \n",
       "65           NaN  операции с коммерческой недвижимостью  \n",
       "67           NaN                покупка жилья для семьи  \n",
       "72           NaN  операции с коммерческой недвижимостью  \n",
       "82           NaN                                  жилье  \n",
       "83           NaN                                  жилье  "
      ]
     },
     "metadata": {},
     "output_type": "display_data"
    }
   ],
   "source": [
    "import pandas as pd\n",
    "data = pd.read_csv('/datasets/data.csv')\n",
    "display(data)\n",
    "data.info()\n",
    "display(data[data['days_employed'].isna()].head(10))"
   ]
  },
  {
   "cell_type": "markdown",
   "id": "6c05c58d",
   "metadata": {},
   "source": [
    "Обнаружены пропуски в столбцах days_employed и total_income"
   ]
  },
  {
   "cell_type": "markdown",
   "id": "77516981",
   "metadata": {},
   "source": [
    "### Шаг 2.1 Заполнение пропусков"
   ]
  },
  {
   "cell_type": "code",
   "execution_count": 2,
   "id": "e07b36ef",
   "metadata": {},
   "outputs": [
    {
     "name": "stdout",
     "output_type": "stream",
     "text": [
      "Доля пропусков в столбце days_employed: 11%\n",
      "Доля пропусков в столбце total_income: 11%\n"
     ]
    }
   ],
   "source": [
    "#доля пропущенных значений\n",
    "days_employed_proportion = data['days_employed'].isna().sum() / data['days_employed'].count()\n",
    "total_income_proportion = data['total_income'].isna().sum() / data['total_income'].count()\n",
    "print(f'Доля пропусков в столбце days_employed: {days_employed_proportion:.0%}')\n",
    "print(f'Доля пропусков в столбце total_income: {total_income_proportion:.0%}')"
   ]
  },
  {
   "cell_type": "markdown",
   "id": "0630a96f",
   "metadata": {},
   "source": [
    "Причинами пропусков могут являться некорректная выгрузка или дублирование записи, но с разным написанием цели кредита.\n",
    "В данном случае для заполнения пропусков корректнее использовать медианное значение, т.к. могут иметься выдающиеся значения."
   ]
  },
  {
   "cell_type": "markdown",
   "id": "1fde7a7b",
   "metadata": {},
   "source": [
    "Заполненим пропуски медианными значениями методом fillna():"
   ]
  },
  {
   "cell_type": "code",
   "execution_count": 3,
   "id": "813e933b",
   "metadata": {},
   "outputs": [
    {
     "name": "stdout",
     "output_type": "stream",
     "text": [
      "<class 'pandas.core.frame.DataFrame'>\n",
      "RangeIndex: 21525 entries, 0 to 21524\n",
      "Data columns (total 12 columns):\n",
      " #   Column            Non-Null Count  Dtype  \n",
      "---  ------            --------------  -----  \n",
      " 0   children          21525 non-null  int64  \n",
      " 1   days_employed     21525 non-null  float64\n",
      " 2   dob_years         21525 non-null  int64  \n",
      " 3   education         21525 non-null  object \n",
      " 4   education_id      21525 non-null  int64  \n",
      " 5   family_status     21525 non-null  object \n",
      " 6   family_status_id  21525 non-null  int64  \n",
      " 7   gender            21525 non-null  object \n",
      " 8   income_type       21525 non-null  object \n",
      " 9   debt              21525 non-null  int64  \n",
      " 10  total_income      21525 non-null  float64\n",
      " 11  purpose           21525 non-null  object \n",
      "dtypes: float64(2), int64(5), object(5)\n",
      "memory usage: 2.0+ MB\n"
     ]
    }
   ],
   "source": [
    "data['days_employed'] = data['days_employed'].fillna(value = data['days_employed'].median())\n",
    "data['total_income'] = data['total_income'].fillna(value = data['total_income'].median())\n",
    "data.info()"
   ]
  },
  {
   "cell_type": "markdown",
   "id": "d7ee7c1c",
   "metadata": {},
   "source": [
    "### Шаг 2.2 Проверка данных на аномалии и исправления."
   ]
  },
  {
   "cell_type": "markdown",
   "id": "1b652d0c",
   "metadata": {},
   "source": [
    "Поиск аномалий в столбцах методом подсчета количества уникальных значений value_counts():"
   ]
  },
  {
   "cell_type": "code",
   "execution_count": 4,
   "id": "5aeb5323",
   "metadata": {},
   "outputs": [
    {
     "data": {
      "text/plain": [
       " 0     14149\n",
       " 1      4818\n",
       " 2      2055\n",
       " 3       330\n",
       " 20       76\n",
       "-1        47\n",
       " 4        41\n",
       " 5         9\n",
       "Name: children, dtype: int64"
      ]
     },
     "execution_count": 4,
     "metadata": {},
     "output_type": "execute_result"
    }
   ],
   "source": [
    "data['children'].value_counts()"
   ]
  },
  {
   "cell_type": "code",
   "execution_count": 5,
   "id": "6ee2680c",
   "metadata": {},
   "outputs": [
    {
     "data": {
      "text/plain": [
       "-1203.369529      2175\n",
       "-8437.673028         1\n",
       "-5135.928528         1\n",
       " 354500.415854       1\n",
       "-769.717438          1\n",
       "                  ... \n",
       "-209.984794          1\n",
       " 398099.392433       1\n",
       "-1271.038880         1\n",
       "-1623.362064         1\n",
       "-1984.507589         1\n",
       "Name: days_employed, Length: 19351, dtype: int64"
      ]
     },
     "execution_count": 5,
     "metadata": {},
     "output_type": "execute_result"
    }
   ],
   "source": [
    "data['days_employed'].value_counts()"
   ]
  },
  {
   "cell_type": "code",
   "execution_count": 6,
   "id": "cbe40573",
   "metadata": {},
   "outputs": [
    {
     "data": {
      "text/plain": [
       "35    617\n",
       "40    609\n",
       "41    607\n",
       "34    603\n",
       "38    598\n",
       "42    597\n",
       "33    581\n",
       "39    573\n",
       "31    560\n",
       "36    555\n",
       "44    547\n",
       "29    545\n",
       "30    540\n",
       "48    538\n",
       "37    537\n",
       "50    514\n",
       "43    513\n",
       "32    510\n",
       "49    508\n",
       "28    503\n",
       "45    497\n",
       "27    493\n",
       "56    487\n",
       "52    484\n",
       "47    480\n",
       "54    479\n",
       "46    475\n",
       "58    461\n",
       "57    460\n",
       "53    459\n",
       "51    448\n",
       "59    444\n",
       "55    443\n",
       "26    408\n",
       "60    377\n",
       "25    357\n",
       "61    355\n",
       "62    352\n",
       "63    269\n",
       "64    265\n",
       "24    264\n",
       "23    254\n",
       "65    194\n",
       "22    183\n",
       "66    183\n",
       "67    167\n",
       "21    111\n",
       "0     101\n",
       "68     99\n",
       "69     85\n",
       "70     65\n",
       "71     58\n",
       "20     51\n",
       "72     33\n",
       "19     14\n",
       "73      8\n",
       "74      6\n",
       "75      1\n",
       "Name: dob_years, dtype: int64"
      ]
     },
     "execution_count": 6,
     "metadata": {},
     "output_type": "execute_result"
    }
   ],
   "source": [
    "data['dob_years'].value_counts()"
   ]
  },
  {
   "cell_type": "code",
   "execution_count": 7,
   "id": "d7e7f7b2",
   "metadata": {},
   "outputs": [
    {
     "data": {
      "text/plain": [
       "1    15233\n",
       "0     5260\n",
       "2      744\n",
       "3      282\n",
       "4        6\n",
       "Name: education_id, dtype: int64"
      ]
     },
     "execution_count": 7,
     "metadata": {},
     "output_type": "execute_result"
    }
   ],
   "source": [
    "data['education_id'].value_counts()"
   ]
  },
  {
   "cell_type": "code",
   "execution_count": 8,
   "id": "f502b82f",
   "metadata": {},
   "outputs": [
    {
     "data": {
      "text/plain": [
       "женат / замужем          12380\n",
       "гражданский брак          4177\n",
       "Не женат / не замужем     2813\n",
       "в разводе                 1195\n",
       "вдовец / вдова             960\n",
       "Name: family_status, dtype: int64"
      ]
     },
     "execution_count": 8,
     "metadata": {},
     "output_type": "execute_result"
    }
   ],
   "source": [
    "data['family_status'].value_counts()"
   ]
  },
  {
   "cell_type": "code",
   "execution_count": 9,
   "id": "dca1d5d5",
   "metadata": {},
   "outputs": [
    {
     "data": {
      "text/plain": [
       "0    12380\n",
       "1     4177\n",
       "4     2813\n",
       "3     1195\n",
       "2      960\n",
       "Name: family_status_id, dtype: int64"
      ]
     },
     "execution_count": 9,
     "metadata": {},
     "output_type": "execute_result"
    }
   ],
   "source": [
    "data['family_status_id'].value_counts()"
   ]
  },
  {
   "cell_type": "code",
   "execution_count": 10,
   "id": "a6260825",
   "metadata": {},
   "outputs": [
    {
     "data": {
      "text/plain": [
       "F      14236\n",
       "M       7288\n",
       "XNA        1\n",
       "Name: gender, dtype: int64"
      ]
     },
     "execution_count": 10,
     "metadata": {},
     "output_type": "execute_result"
    }
   ],
   "source": [
    "data['gender'].value_counts()"
   ]
  },
  {
   "cell_type": "code",
   "execution_count": 11,
   "id": "2231edb0",
   "metadata": {},
   "outputs": [
    {
     "data": {
      "text/plain": [
       "0    19784\n",
       "1     1741\n",
       "Name: debt, dtype: int64"
      ]
     },
     "execution_count": 11,
     "metadata": {},
     "output_type": "execute_result"
    }
   ],
   "source": [
    "data['debt'].value_counts()"
   ]
  },
  {
   "cell_type": "code",
   "execution_count": 12,
   "id": "e6a06454",
   "metadata": {},
   "outputs": [
    {
     "data": {
      "text/plain": [
       "145017.937533    2175\n",
       "253875.639453       1\n",
       "131286.073745       1\n",
       "116196.518662       1\n",
       "157205.834562       1\n",
       "                 ... \n",
       "148042.721049       1\n",
       "60039.334460        1\n",
       "175979.762960       1\n",
       "155819.968351       1\n",
       "82047.418899        1\n",
       "Name: total_income, Length: 19351, dtype: int64"
      ]
     },
     "execution_count": 12,
     "metadata": {},
     "output_type": "execute_result"
    }
   ],
   "source": [
    "data['total_income'].value_counts()"
   ]
  },
  {
   "cell_type": "markdown",
   "id": "02ab4fcf",
   "metadata": {},
   "source": [
    "Аномалии найдены в столбцах: \n",
    "<br><b>days_employed</b> - отрицательные значения (устранение приведением модуля числа) и слишком высокие значения (расчитать приблизительное максимально возможное значение, все данные превышающие эти значения заменить на медиану); \n",
    "<br><b>children</b> - отрицательные значения (устранение приведением модуля числа) и выбросы (количество выбросов не является значимым для выборки, поэтому значения исправить 'отбрасыванием' 0)\n",
    "<br><b>dob_years</b> - значение равное 0 (заменить на среднее, так как столбец не имеет выбросов)\n",
    "<br><b>gender</b> - неожиданное значение (замена на наиболее частое, так как это значение встречается единожды)"
   ]
  },
  {
   "cell_type": "code",
   "execution_count": 13,
   "id": "50b79c18",
   "metadata": {},
   "outputs": [
    {
     "data": {
      "text/html": [
       "<div>\n",
       "<style scoped>\n",
       "    .dataframe tbody tr th:only-of-type {\n",
       "        vertical-align: middle;\n",
       "    }\n",
       "\n",
       "    .dataframe tbody tr th {\n",
       "        vertical-align: top;\n",
       "    }\n",
       "\n",
       "    .dataframe thead th {\n",
       "        text-align: right;\n",
       "    }\n",
       "</style>\n",
       "<table border=\"1\" class=\"dataframe\">\n",
       "  <thead>\n",
       "    <tr style=\"text-align: right;\">\n",
       "      <th></th>\n",
       "      <th>children</th>\n",
       "      <th>days_employed</th>\n",
       "      <th>dob_years</th>\n",
       "      <th>education</th>\n",
       "      <th>education_id</th>\n",
       "      <th>family_status</th>\n",
       "      <th>family_status_id</th>\n",
       "      <th>gender</th>\n",
       "      <th>income_type</th>\n",
       "      <th>debt</th>\n",
       "      <th>total_income</th>\n",
       "      <th>purpose</th>\n",
       "    </tr>\n",
       "  </thead>\n",
       "  <tbody>\n",
       "    <tr>\n",
       "      <th>0</th>\n",
       "      <td>1</td>\n",
       "      <td>8437.673028</td>\n",
       "      <td>42</td>\n",
       "      <td>высшее</td>\n",
       "      <td>0</td>\n",
       "      <td>женат / замужем</td>\n",
       "      <td>0</td>\n",
       "      <td>F</td>\n",
       "      <td>сотрудник</td>\n",
       "      <td>0</td>\n",
       "      <td>253875.639453</td>\n",
       "      <td>покупка жилья</td>\n",
       "    </tr>\n",
       "    <tr>\n",
       "      <th>1</th>\n",
       "      <td>1</td>\n",
       "      <td>4024.803754</td>\n",
       "      <td>36</td>\n",
       "      <td>среднее</td>\n",
       "      <td>1</td>\n",
       "      <td>женат / замужем</td>\n",
       "      <td>0</td>\n",
       "      <td>F</td>\n",
       "      <td>сотрудник</td>\n",
       "      <td>0</td>\n",
       "      <td>112080.014102</td>\n",
       "      <td>приобретение автомобиля</td>\n",
       "    </tr>\n",
       "    <tr>\n",
       "      <th>2</th>\n",
       "      <td>0</td>\n",
       "      <td>5623.422610</td>\n",
       "      <td>33</td>\n",
       "      <td>Среднее</td>\n",
       "      <td>1</td>\n",
       "      <td>женат / замужем</td>\n",
       "      <td>0</td>\n",
       "      <td>M</td>\n",
       "      <td>сотрудник</td>\n",
       "      <td>0</td>\n",
       "      <td>145885.952297</td>\n",
       "      <td>покупка жилья</td>\n",
       "    </tr>\n",
       "    <tr>\n",
       "      <th>3</th>\n",
       "      <td>3</td>\n",
       "      <td>4124.747207</td>\n",
       "      <td>32</td>\n",
       "      <td>среднее</td>\n",
       "      <td>1</td>\n",
       "      <td>женат / замужем</td>\n",
       "      <td>0</td>\n",
       "      <td>M</td>\n",
       "      <td>сотрудник</td>\n",
       "      <td>0</td>\n",
       "      <td>267628.550329</td>\n",
       "      <td>дополнительное образование</td>\n",
       "    </tr>\n",
       "    <tr>\n",
       "      <th>4</th>\n",
       "      <td>0</td>\n",
       "      <td>1808.053434</td>\n",
       "      <td>53</td>\n",
       "      <td>среднее</td>\n",
       "      <td>1</td>\n",
       "      <td>гражданский брак</td>\n",
       "      <td>1</td>\n",
       "      <td>F</td>\n",
       "      <td>пенсионер</td>\n",
       "      <td>0</td>\n",
       "      <td>158616.077870</td>\n",
       "      <td>сыграть свадьбу</td>\n",
       "    </tr>\n",
       "    <tr>\n",
       "      <th>5</th>\n",
       "      <td>0</td>\n",
       "      <td>926.185831</td>\n",
       "      <td>27</td>\n",
       "      <td>высшее</td>\n",
       "      <td>0</td>\n",
       "      <td>гражданский брак</td>\n",
       "      <td>1</td>\n",
       "      <td>M</td>\n",
       "      <td>компаньон</td>\n",
       "      <td>0</td>\n",
       "      <td>255763.565419</td>\n",
       "      <td>покупка жилья</td>\n",
       "    </tr>\n",
       "    <tr>\n",
       "      <th>6</th>\n",
       "      <td>0</td>\n",
       "      <td>2879.202052</td>\n",
       "      <td>43</td>\n",
       "      <td>высшее</td>\n",
       "      <td>0</td>\n",
       "      <td>женат / замужем</td>\n",
       "      <td>0</td>\n",
       "      <td>F</td>\n",
       "      <td>компаньон</td>\n",
       "      <td>0</td>\n",
       "      <td>240525.971920</td>\n",
       "      <td>операции с жильем</td>\n",
       "    </tr>\n",
       "    <tr>\n",
       "      <th>7</th>\n",
       "      <td>0</td>\n",
       "      <td>152.779569</td>\n",
       "      <td>50</td>\n",
       "      <td>СРЕДНЕЕ</td>\n",
       "      <td>1</td>\n",
       "      <td>женат / замужем</td>\n",
       "      <td>0</td>\n",
       "      <td>M</td>\n",
       "      <td>сотрудник</td>\n",
       "      <td>0</td>\n",
       "      <td>135823.934197</td>\n",
       "      <td>образование</td>\n",
       "    </tr>\n",
       "    <tr>\n",
       "      <th>8</th>\n",
       "      <td>2</td>\n",
       "      <td>6929.865299</td>\n",
       "      <td>35</td>\n",
       "      <td>ВЫСШЕЕ</td>\n",
       "      <td>0</td>\n",
       "      <td>гражданский брак</td>\n",
       "      <td>1</td>\n",
       "      <td>F</td>\n",
       "      <td>сотрудник</td>\n",
       "      <td>0</td>\n",
       "      <td>95856.832424</td>\n",
       "      <td>на проведение свадьбы</td>\n",
       "    </tr>\n",
       "    <tr>\n",
       "      <th>9</th>\n",
       "      <td>0</td>\n",
       "      <td>2188.756445</td>\n",
       "      <td>41</td>\n",
       "      <td>среднее</td>\n",
       "      <td>1</td>\n",
       "      <td>женат / замужем</td>\n",
       "      <td>0</td>\n",
       "      <td>M</td>\n",
       "      <td>сотрудник</td>\n",
       "      <td>0</td>\n",
       "      <td>144425.938277</td>\n",
       "      <td>покупка жилья для семьи</td>\n",
       "    </tr>\n",
       "  </tbody>\n",
       "</table>\n",
       "</div>"
      ],
      "text/plain": [
       "   children  days_employed  dob_years education  education_id  \\\n",
       "0         1    8437.673028         42    высшее             0   \n",
       "1         1    4024.803754         36   среднее             1   \n",
       "2         0    5623.422610         33   Среднее             1   \n",
       "3         3    4124.747207         32   среднее             1   \n",
       "4         0    1808.053434         53   среднее             1   \n",
       "5         0     926.185831         27    высшее             0   \n",
       "6         0    2879.202052         43    высшее             0   \n",
       "7         0     152.779569         50   СРЕДНЕЕ             1   \n",
       "8         2    6929.865299         35    ВЫСШЕЕ             0   \n",
       "9         0    2188.756445         41   среднее             1   \n",
       "\n",
       "      family_status  family_status_id gender income_type  debt   total_income  \\\n",
       "0   женат / замужем                 0      F   сотрудник     0  253875.639453   \n",
       "1   женат / замужем                 0      F   сотрудник     0  112080.014102   \n",
       "2   женат / замужем                 0      M   сотрудник     0  145885.952297   \n",
       "3   женат / замужем                 0      M   сотрудник     0  267628.550329   \n",
       "4  гражданский брак                 1      F   пенсионер     0  158616.077870   \n",
       "5  гражданский брак                 1      M   компаньон     0  255763.565419   \n",
       "6   женат / замужем                 0      F   компаньон     0  240525.971920   \n",
       "7   женат / замужем                 0      M   сотрудник     0  135823.934197   \n",
       "8  гражданский брак                 1      F   сотрудник     0   95856.832424   \n",
       "9   женат / замужем                 0      M   сотрудник     0  144425.938277   \n",
       "\n",
       "                      purpose  \n",
       "0               покупка жилья  \n",
       "1     приобретение автомобиля  \n",
       "2               покупка жилья  \n",
       "3  дополнительное образование  \n",
       "4             сыграть свадьбу  \n",
       "5               покупка жилья  \n",
       "6           операции с жильем  \n",
       "7                 образование  \n",
       "8       на проведение свадьбы  \n",
       "9     покупка жилья для семьи  "
      ]
     },
     "metadata": {},
     "output_type": "display_data"
    }
   ],
   "source": [
    "data['days_employed'] = abs(data['days_employed'])\n",
    "data['children'] = abs(data['children'])\n",
    "data.loc[data['children'] == 20, 'children'] = 2\n",
    "dob_years_mean = int(data['dob_years'].mean())\n",
    "data.loc[data['dob_years'] == 0, 'dob_years'] = dob_years_mean\n",
    "days_employed_median_new = data['days_employed'].median()\n",
    "dob_years_max = data['dob_years'].max() * 300\n",
    "data.loc[data['days_employed'] > dob_years_max, 'days_employed'] = days_employed_median_new\n",
    "data.loc[data['gender'] == 'XNA', 'gender'] = 'F'\n",
    "display(data.head(10))"
   ]
  },
  {
   "cell_type": "markdown",
   "id": "d7c9b5aa",
   "metadata": {},
   "source": [
    "### Шаг 2.3. Изменение типов данных."
   ]
  },
  {
   "cell_type": "markdown",
   "id": "33bedb27",
   "metadata": {},
   "source": [
    "Изменение типа данных в столбце <b>total_income</b> с float64 на int методом astype():"
   ]
  },
  {
   "cell_type": "code",
   "execution_count": 14,
   "id": "610ff3ac",
   "metadata": {},
   "outputs": [],
   "source": [
    "data['total_income'] = data['total_income'].astype('int')"
   ]
  },
  {
   "cell_type": "markdown",
   "id": "59a0f795",
   "metadata": {},
   "source": [
    "### Шаг 2.4. Удаление дубликатов."
   ]
  },
  {
   "cell_type": "code",
   "execution_count": 15,
   "id": "332a37cf",
   "metadata": {},
   "outputs": [
    {
     "data": {
      "text/plain": [
       "array(['высшее', 'среднее', 'Среднее', 'СРЕДНЕЕ', 'ВЫСШЕЕ',\n",
       "       'неоконченное высшее', 'начальное', 'Высшее',\n",
       "       'НЕОКОНЧЕННОЕ ВЫСШЕЕ', 'Неоконченное высшее', 'НАЧАЛЬНОЕ',\n",
       "       'Начальное', 'Ученая степень', 'УЧЕНАЯ СТЕПЕНЬ', 'ученая степень'],\n",
       "      dtype=object)"
      ]
     },
     "execution_count": 15,
     "metadata": {},
     "output_type": "execute_result"
    }
   ],
   "source": [
    "#поиск уникальных значений\n",
    "data['education'].unique()"
   ]
  },
  {
   "cell_type": "code",
   "execution_count": 16,
   "id": "b5625565",
   "metadata": {},
   "outputs": [
    {
     "data": {
      "text/html": [
       "<div>\n",
       "<style scoped>\n",
       "    .dataframe tbody tr th:only-of-type {\n",
       "        vertical-align: middle;\n",
       "    }\n",
       "\n",
       "    .dataframe tbody tr th {\n",
       "        vertical-align: top;\n",
       "    }\n",
       "\n",
       "    .dataframe thead th {\n",
       "        text-align: right;\n",
       "    }\n",
       "</style>\n",
       "<table border=\"1\" class=\"dataframe\">\n",
       "  <thead>\n",
       "    <tr style=\"text-align: right;\">\n",
       "      <th></th>\n",
       "      <th>children</th>\n",
       "      <th>days_employed</th>\n",
       "      <th>dob_years</th>\n",
       "      <th>education</th>\n",
       "      <th>education_id</th>\n",
       "      <th>family_status</th>\n",
       "      <th>family_status_id</th>\n",
       "      <th>gender</th>\n",
       "      <th>income_type</th>\n",
       "      <th>debt</th>\n",
       "      <th>total_income</th>\n",
       "      <th>purpose</th>\n",
       "    </tr>\n",
       "  </thead>\n",
       "  <tbody>\n",
       "    <tr>\n",
       "      <th>0</th>\n",
       "      <td>1</td>\n",
       "      <td>8437.673028</td>\n",
       "      <td>42</td>\n",
       "      <td>высшее</td>\n",
       "      <td>0</td>\n",
       "      <td>женат / замужем</td>\n",
       "      <td>0</td>\n",
       "      <td>F</td>\n",
       "      <td>сотрудник</td>\n",
       "      <td>0</td>\n",
       "      <td>253875</td>\n",
       "      <td>покупка жилья</td>\n",
       "    </tr>\n",
       "    <tr>\n",
       "      <th>1</th>\n",
       "      <td>1</td>\n",
       "      <td>4024.803754</td>\n",
       "      <td>36</td>\n",
       "      <td>среднее</td>\n",
       "      <td>1</td>\n",
       "      <td>женат / замужем</td>\n",
       "      <td>0</td>\n",
       "      <td>F</td>\n",
       "      <td>сотрудник</td>\n",
       "      <td>0</td>\n",
       "      <td>112080</td>\n",
       "      <td>приобретение автомобиля</td>\n",
       "    </tr>\n",
       "    <tr>\n",
       "      <th>2</th>\n",
       "      <td>0</td>\n",
       "      <td>5623.422610</td>\n",
       "      <td>33</td>\n",
       "      <td>среднее</td>\n",
       "      <td>1</td>\n",
       "      <td>женат / замужем</td>\n",
       "      <td>0</td>\n",
       "      <td>M</td>\n",
       "      <td>сотрудник</td>\n",
       "      <td>0</td>\n",
       "      <td>145885</td>\n",
       "      <td>покупка жилья</td>\n",
       "    </tr>\n",
       "    <tr>\n",
       "      <th>3</th>\n",
       "      <td>3</td>\n",
       "      <td>4124.747207</td>\n",
       "      <td>32</td>\n",
       "      <td>среднее</td>\n",
       "      <td>1</td>\n",
       "      <td>женат / замужем</td>\n",
       "      <td>0</td>\n",
       "      <td>M</td>\n",
       "      <td>сотрудник</td>\n",
       "      <td>0</td>\n",
       "      <td>267628</td>\n",
       "      <td>дополнительное образование</td>\n",
       "    </tr>\n",
       "    <tr>\n",
       "      <th>4</th>\n",
       "      <td>0</td>\n",
       "      <td>1808.053434</td>\n",
       "      <td>53</td>\n",
       "      <td>среднее</td>\n",
       "      <td>1</td>\n",
       "      <td>гражданский брак</td>\n",
       "      <td>1</td>\n",
       "      <td>F</td>\n",
       "      <td>пенсионер</td>\n",
       "      <td>0</td>\n",
       "      <td>158616</td>\n",
       "      <td>сыграть свадьбу</td>\n",
       "    </tr>\n",
       "    <tr>\n",
       "      <th>5</th>\n",
       "      <td>0</td>\n",
       "      <td>926.185831</td>\n",
       "      <td>27</td>\n",
       "      <td>высшее</td>\n",
       "      <td>0</td>\n",
       "      <td>гражданский брак</td>\n",
       "      <td>1</td>\n",
       "      <td>M</td>\n",
       "      <td>компаньон</td>\n",
       "      <td>0</td>\n",
       "      <td>255763</td>\n",
       "      <td>покупка жилья</td>\n",
       "    </tr>\n",
       "    <tr>\n",
       "      <th>6</th>\n",
       "      <td>0</td>\n",
       "      <td>2879.202052</td>\n",
       "      <td>43</td>\n",
       "      <td>высшее</td>\n",
       "      <td>0</td>\n",
       "      <td>женат / замужем</td>\n",
       "      <td>0</td>\n",
       "      <td>F</td>\n",
       "      <td>компаньон</td>\n",
       "      <td>0</td>\n",
       "      <td>240525</td>\n",
       "      <td>операции с жильем</td>\n",
       "    </tr>\n",
       "    <tr>\n",
       "      <th>7</th>\n",
       "      <td>0</td>\n",
       "      <td>152.779569</td>\n",
       "      <td>50</td>\n",
       "      <td>среднее</td>\n",
       "      <td>1</td>\n",
       "      <td>женат / замужем</td>\n",
       "      <td>0</td>\n",
       "      <td>M</td>\n",
       "      <td>сотрудник</td>\n",
       "      <td>0</td>\n",
       "      <td>135823</td>\n",
       "      <td>образование</td>\n",
       "    </tr>\n",
       "    <tr>\n",
       "      <th>8</th>\n",
       "      <td>2</td>\n",
       "      <td>6929.865299</td>\n",
       "      <td>35</td>\n",
       "      <td>высшее</td>\n",
       "      <td>0</td>\n",
       "      <td>гражданский брак</td>\n",
       "      <td>1</td>\n",
       "      <td>F</td>\n",
       "      <td>сотрудник</td>\n",
       "      <td>0</td>\n",
       "      <td>95856</td>\n",
       "      <td>на проведение свадьбы</td>\n",
       "    </tr>\n",
       "    <tr>\n",
       "      <th>9</th>\n",
       "      <td>0</td>\n",
       "      <td>2188.756445</td>\n",
       "      <td>41</td>\n",
       "      <td>среднее</td>\n",
       "      <td>1</td>\n",
       "      <td>женат / замужем</td>\n",
       "      <td>0</td>\n",
       "      <td>M</td>\n",
       "      <td>сотрудник</td>\n",
       "      <td>0</td>\n",
       "      <td>144425</td>\n",
       "      <td>покупка жилья для семьи</td>\n",
       "    </tr>\n",
       "  </tbody>\n",
       "</table>\n",
       "</div>"
      ],
      "text/plain": [
       "   children  days_employed  dob_years education  education_id  \\\n",
       "0         1    8437.673028         42    высшее             0   \n",
       "1         1    4024.803754         36   среднее             1   \n",
       "2         0    5623.422610         33   среднее             1   \n",
       "3         3    4124.747207         32   среднее             1   \n",
       "4         0    1808.053434         53   среднее             1   \n",
       "5         0     926.185831         27    высшее             0   \n",
       "6         0    2879.202052         43    высшее             0   \n",
       "7         0     152.779569         50   среднее             1   \n",
       "8         2    6929.865299         35    высшее             0   \n",
       "9         0    2188.756445         41   среднее             1   \n",
       "\n",
       "      family_status  family_status_id gender income_type  debt  total_income  \\\n",
       "0   женат / замужем                 0      F   сотрудник     0        253875   \n",
       "1   женат / замужем                 0      F   сотрудник     0        112080   \n",
       "2   женат / замужем                 0      M   сотрудник     0        145885   \n",
       "3   женат / замужем                 0      M   сотрудник     0        267628   \n",
       "4  гражданский брак                 1      F   пенсионер     0        158616   \n",
       "5  гражданский брак                 1      M   компаньон     0        255763   \n",
       "6   женат / замужем                 0      F   компаньон     0        240525   \n",
       "7   женат / замужем                 0      M   сотрудник     0        135823   \n",
       "8  гражданский брак                 1      F   сотрудник     0         95856   \n",
       "9   женат / замужем                 0      M   сотрудник     0        144425   \n",
       "\n",
       "                      purpose  \n",
       "0               покупка жилья  \n",
       "1     приобретение автомобиля  \n",
       "2               покупка жилья  \n",
       "3  дополнительное образование  \n",
       "4             сыграть свадьбу  \n",
       "5               покупка жилья  \n",
       "6           операции с жильем  \n",
       "7                 образование  \n",
       "8       на проведение свадьбы  \n",
       "9     покупка жилья для семьи  "
      ]
     },
     "metadata": {},
     "output_type": "display_data"
    }
   ],
   "source": [
    "#приведение всех значений к нижнему регистру\n",
    "data['education'] = data['education'].str.lower()\n",
    "display(data.head(10))"
   ]
  },
  {
   "cell_type": "code",
   "execution_count": 17,
   "id": "1d329cbd",
   "metadata": {},
   "outputs": [],
   "source": [
    "#удаление дубликатов с созданием новых индексов с помощью reset_index(drop=True)\n",
    "key = ['children', 'days_employed', 'dob_years', 'education_id', 'family_status_id', 'gender', 'income_type', 'total_income']\n",
    "data = data.drop_duplicates(subset=key).reset_index(drop=True)"
   ]
  },
  {
   "cell_type": "markdown",
   "id": "90a8c2ed",
   "metadata": {},
   "source": [
    "### Шаг 2.5. Формирование дополнительных датафреймов словарей, декомпозиция исходного датафрейма."
   ]
  },
  {
   "cell_type": "code",
   "execution_count": 18,
   "id": "831e4c51",
   "metadata": {},
   "outputs": [
    {
     "data": {
      "text/html": [
       "<div>\n",
       "<style scoped>\n",
       "    .dataframe tbody tr th:only-of-type {\n",
       "        vertical-align: middle;\n",
       "    }\n",
       "\n",
       "    .dataframe tbody tr th {\n",
       "        vertical-align: top;\n",
       "    }\n",
       "\n",
       "    .dataframe thead th {\n",
       "        text-align: right;\n",
       "    }\n",
       "</style>\n",
       "<table border=\"1\" class=\"dataframe\">\n",
       "  <thead>\n",
       "    <tr style=\"text-align: right;\">\n",
       "      <th></th>\n",
       "      <th>education</th>\n",
       "      <th>education_id</th>\n",
       "    </tr>\n",
       "  </thead>\n",
       "  <tbody>\n",
       "    <tr>\n",
       "      <th>0</th>\n",
       "      <td>высшее</td>\n",
       "      <td>0</td>\n",
       "    </tr>\n",
       "    <tr>\n",
       "      <th>1</th>\n",
       "      <td>среднее</td>\n",
       "      <td>1</td>\n",
       "    </tr>\n",
       "    <tr>\n",
       "      <th>2</th>\n",
       "      <td>неоконченное высшее</td>\n",
       "      <td>2</td>\n",
       "    </tr>\n",
       "    <tr>\n",
       "      <th>3</th>\n",
       "      <td>начальное</td>\n",
       "      <td>3</td>\n",
       "    </tr>\n",
       "    <tr>\n",
       "      <th>4</th>\n",
       "      <td>ученая степень</td>\n",
       "      <td>4</td>\n",
       "    </tr>\n",
       "  </tbody>\n",
       "</table>\n",
       "</div>"
      ],
      "text/plain": [
       "             education  education_id\n",
       "0               высшее             0\n",
       "1              среднее             1\n",
       "2  неоконченное высшее             2\n",
       "3            начальное             3\n",
       "4       ученая степень             4"
      ]
     },
     "metadata": {},
     "output_type": "display_data"
    }
   ],
   "source": [
    "education = data[['education', 'education_id']].drop_duplicates().reset_index(drop=True)\n",
    "display(education)"
   ]
  },
  {
   "cell_type": "code",
   "execution_count": 19,
   "id": "8e83611d",
   "metadata": {},
   "outputs": [
    {
     "data": {
      "text/html": [
       "<div>\n",
       "<style scoped>\n",
       "    .dataframe tbody tr th:only-of-type {\n",
       "        vertical-align: middle;\n",
       "    }\n",
       "\n",
       "    .dataframe tbody tr th {\n",
       "        vertical-align: top;\n",
       "    }\n",
       "\n",
       "    .dataframe thead th {\n",
       "        text-align: right;\n",
       "    }\n",
       "</style>\n",
       "<table border=\"1\" class=\"dataframe\">\n",
       "  <thead>\n",
       "    <tr style=\"text-align: right;\">\n",
       "      <th></th>\n",
       "      <th>family_status_id</th>\n",
       "      <th>family_status</th>\n",
       "    </tr>\n",
       "  </thead>\n",
       "  <tbody>\n",
       "    <tr>\n",
       "      <th>0</th>\n",
       "      <td>0</td>\n",
       "      <td>женат / замужем</td>\n",
       "    </tr>\n",
       "    <tr>\n",
       "      <th>1</th>\n",
       "      <td>1</td>\n",
       "      <td>гражданский брак</td>\n",
       "    </tr>\n",
       "    <tr>\n",
       "      <th>2</th>\n",
       "      <td>2</td>\n",
       "      <td>вдовец / вдова</td>\n",
       "    </tr>\n",
       "    <tr>\n",
       "      <th>3</th>\n",
       "      <td>3</td>\n",
       "      <td>в разводе</td>\n",
       "    </tr>\n",
       "    <tr>\n",
       "      <th>4</th>\n",
       "      <td>4</td>\n",
       "      <td>Не женат / не замужем</td>\n",
       "    </tr>\n",
       "  </tbody>\n",
       "</table>\n",
       "</div>"
      ],
      "text/plain": [
       "   family_status_id          family_status\n",
       "0                 0        женат / замужем\n",
       "1                 1       гражданский брак\n",
       "2                 2         вдовец / вдова\n",
       "3                 3              в разводе\n",
       "4                 4  Не женат / не замужем"
      ]
     },
     "metadata": {},
     "output_type": "display_data"
    }
   ],
   "source": [
    "family_status = data[['family_status_id', 'family_status']].drop_duplicates().reset_index(drop=True)\n",
    "display(family_status.head())"
   ]
  },
  {
   "cell_type": "code",
   "execution_count": 20,
   "id": "c08e2ffd",
   "metadata": {},
   "outputs": [],
   "source": [
    "#удаление из исходной таблицы столбцов 'education' и 'family_status'\n",
    "data.drop(columns = ['education', 'family_status'],axis = 1, inplace=True)"
   ]
  },
  {
   "cell_type": "markdown",
   "id": "ce80ae29",
   "metadata": {},
   "source": [
    "Из словарей удалены дубликаты."
   ]
  },
  {
   "cell_type": "markdown",
   "id": "70224f3f",
   "metadata": {},
   "source": [
    "### Шаг 2.6. Категоризация дохода."
   ]
  },
  {
   "cell_type": "markdown",
   "id": "e8f27052",
   "metadata": {},
   "source": [
    "Создание функции для категоризации дохода заемщика и добавление нового столбца в исходную таблицу"
   ]
  },
  {
   "cell_type": "code",
   "execution_count": 21,
   "id": "267f2ca6",
   "metadata": {},
   "outputs": [
    {
     "data": {
      "text/html": [
       "<div>\n",
       "<style scoped>\n",
       "    .dataframe tbody tr th:only-of-type {\n",
       "        vertical-align: middle;\n",
       "    }\n",
       "\n",
       "    .dataframe tbody tr th {\n",
       "        vertical-align: top;\n",
       "    }\n",
       "\n",
       "    .dataframe thead th {\n",
       "        text-align: right;\n",
       "    }\n",
       "</style>\n",
       "<table border=\"1\" class=\"dataframe\">\n",
       "  <thead>\n",
       "    <tr style=\"text-align: right;\">\n",
       "      <th></th>\n",
       "      <th>children</th>\n",
       "      <th>days_employed</th>\n",
       "      <th>dob_years</th>\n",
       "      <th>education_id</th>\n",
       "      <th>family_status_id</th>\n",
       "      <th>gender</th>\n",
       "      <th>income_type</th>\n",
       "      <th>debt</th>\n",
       "      <th>total_income</th>\n",
       "      <th>purpose</th>\n",
       "      <th>total_income_category</th>\n",
       "    </tr>\n",
       "  </thead>\n",
       "  <tbody>\n",
       "    <tr>\n",
       "      <th>0</th>\n",
       "      <td>1</td>\n",
       "      <td>8437.673028</td>\n",
       "      <td>42</td>\n",
       "      <td>0</td>\n",
       "      <td>0</td>\n",
       "      <td>F</td>\n",
       "      <td>сотрудник</td>\n",
       "      <td>0</td>\n",
       "      <td>253875</td>\n",
       "      <td>покупка жилья</td>\n",
       "      <td>B</td>\n",
       "    </tr>\n",
       "    <tr>\n",
       "      <th>1</th>\n",
       "      <td>1</td>\n",
       "      <td>4024.803754</td>\n",
       "      <td>36</td>\n",
       "      <td>1</td>\n",
       "      <td>0</td>\n",
       "      <td>F</td>\n",
       "      <td>сотрудник</td>\n",
       "      <td>0</td>\n",
       "      <td>112080</td>\n",
       "      <td>приобретение автомобиля</td>\n",
       "      <td>C</td>\n",
       "    </tr>\n",
       "    <tr>\n",
       "      <th>2</th>\n",
       "      <td>0</td>\n",
       "      <td>5623.422610</td>\n",
       "      <td>33</td>\n",
       "      <td>1</td>\n",
       "      <td>0</td>\n",
       "      <td>M</td>\n",
       "      <td>сотрудник</td>\n",
       "      <td>0</td>\n",
       "      <td>145885</td>\n",
       "      <td>покупка жилья</td>\n",
       "      <td>C</td>\n",
       "    </tr>\n",
       "    <tr>\n",
       "      <th>3</th>\n",
       "      <td>3</td>\n",
       "      <td>4124.747207</td>\n",
       "      <td>32</td>\n",
       "      <td>1</td>\n",
       "      <td>0</td>\n",
       "      <td>M</td>\n",
       "      <td>сотрудник</td>\n",
       "      <td>0</td>\n",
       "      <td>267628</td>\n",
       "      <td>дополнительное образование</td>\n",
       "      <td>B</td>\n",
       "    </tr>\n",
       "    <tr>\n",
       "      <th>4</th>\n",
       "      <td>0</td>\n",
       "      <td>1808.053434</td>\n",
       "      <td>53</td>\n",
       "      <td>1</td>\n",
       "      <td>1</td>\n",
       "      <td>F</td>\n",
       "      <td>пенсионер</td>\n",
       "      <td>0</td>\n",
       "      <td>158616</td>\n",
       "      <td>сыграть свадьбу</td>\n",
       "      <td>C</td>\n",
       "    </tr>\n",
       "    <tr>\n",
       "      <th>...</th>\n",
       "      <td>...</td>\n",
       "      <td>...</td>\n",
       "      <td>...</td>\n",
       "      <td>...</td>\n",
       "      <td>...</td>\n",
       "      <td>...</td>\n",
       "      <td>...</td>\n",
       "      <td>...</td>\n",
       "      <td>...</td>\n",
       "      <td>...</td>\n",
       "      <td>...</td>\n",
       "    </tr>\n",
       "    <tr>\n",
       "      <th>20690</th>\n",
       "      <td>1</td>\n",
       "      <td>4529.316663</td>\n",
       "      <td>43</td>\n",
       "      <td>1</td>\n",
       "      <td>1</td>\n",
       "      <td>F</td>\n",
       "      <td>компаньон</td>\n",
       "      <td>0</td>\n",
       "      <td>224791</td>\n",
       "      <td>операции с жильем</td>\n",
       "      <td>B</td>\n",
       "    </tr>\n",
       "    <tr>\n",
       "      <th>20691</th>\n",
       "      <td>0</td>\n",
       "      <td>1808.053434</td>\n",
       "      <td>67</td>\n",
       "      <td>1</td>\n",
       "      <td>0</td>\n",
       "      <td>F</td>\n",
       "      <td>пенсионер</td>\n",
       "      <td>0</td>\n",
       "      <td>155999</td>\n",
       "      <td>сделка с автомобилем</td>\n",
       "      <td>C</td>\n",
       "    </tr>\n",
       "    <tr>\n",
       "      <th>20692</th>\n",
       "      <td>1</td>\n",
       "      <td>2113.346888</td>\n",
       "      <td>38</td>\n",
       "      <td>1</td>\n",
       "      <td>1</td>\n",
       "      <td>M</td>\n",
       "      <td>сотрудник</td>\n",
       "      <td>1</td>\n",
       "      <td>89672</td>\n",
       "      <td>недвижимость</td>\n",
       "      <td>C</td>\n",
       "    </tr>\n",
       "    <tr>\n",
       "      <th>20693</th>\n",
       "      <td>3</td>\n",
       "      <td>3112.481705</td>\n",
       "      <td>38</td>\n",
       "      <td>1</td>\n",
       "      <td>0</td>\n",
       "      <td>M</td>\n",
       "      <td>сотрудник</td>\n",
       "      <td>1</td>\n",
       "      <td>244093</td>\n",
       "      <td>на покупку своего автомобиля</td>\n",
       "      <td>B</td>\n",
       "    </tr>\n",
       "    <tr>\n",
       "      <th>20694</th>\n",
       "      <td>2</td>\n",
       "      <td>1984.507589</td>\n",
       "      <td>40</td>\n",
       "      <td>1</td>\n",
       "      <td>0</td>\n",
       "      <td>F</td>\n",
       "      <td>сотрудник</td>\n",
       "      <td>0</td>\n",
       "      <td>82047</td>\n",
       "      <td>на покупку автомобиля</td>\n",
       "      <td>C</td>\n",
       "    </tr>\n",
       "  </tbody>\n",
       "</table>\n",
       "<p>20695 rows × 11 columns</p>\n",
       "</div>"
      ],
      "text/plain": [
       "       children  days_employed  dob_years  education_id  family_status_id  \\\n",
       "0             1    8437.673028         42             0                 0   \n",
       "1             1    4024.803754         36             1                 0   \n",
       "2             0    5623.422610         33             1                 0   \n",
       "3             3    4124.747207         32             1                 0   \n",
       "4             0    1808.053434         53             1                 1   \n",
       "...         ...            ...        ...           ...               ...   \n",
       "20690         1    4529.316663         43             1                 1   \n",
       "20691         0    1808.053434         67             1                 0   \n",
       "20692         1    2113.346888         38             1                 1   \n",
       "20693         3    3112.481705         38             1                 0   \n",
       "20694         2    1984.507589         40             1                 0   \n",
       "\n",
       "      gender income_type  debt  total_income                       purpose  \\\n",
       "0          F   сотрудник     0        253875                 покупка жилья   \n",
       "1          F   сотрудник     0        112080       приобретение автомобиля   \n",
       "2          M   сотрудник     0        145885                 покупка жилья   \n",
       "3          M   сотрудник     0        267628    дополнительное образование   \n",
       "4          F   пенсионер     0        158616               сыграть свадьбу   \n",
       "...      ...         ...   ...           ...                           ...   \n",
       "20690      F   компаньон     0        224791             операции с жильем   \n",
       "20691      F   пенсионер     0        155999          сделка с автомобилем   \n",
       "20692      M   сотрудник     1         89672                  недвижимость   \n",
       "20693      M   сотрудник     1        244093  на покупку своего автомобиля   \n",
       "20694      F   сотрудник     0         82047         на покупку автомобиля   \n",
       "\n",
       "      total_income_category  \n",
       "0                         B  \n",
       "1                         C  \n",
       "2                         C  \n",
       "3                         B  \n",
       "4                         C  \n",
       "...                     ...  \n",
       "20690                     B  \n",
       "20691                     C  \n",
       "20692                     C  \n",
       "20693                     B  \n",
       "20694                     C  \n",
       "\n",
       "[20695 rows x 11 columns]"
      ]
     },
     "metadata": {},
     "output_type": "display_data"
    }
   ],
   "source": [
    "def total_income_category(total_income):\n",
    "    if total_income <= 30000:\n",
    "        return 'E'\n",
    "    if total_income <= 50000:\n",
    "        return 'D'\n",
    "    if total_income <= 200000:\n",
    "        return 'C'\n",
    "    if total_income <= 1000000:\n",
    "        return 'B'\n",
    "    return 'A'\n",
    "data['total_income_category'] = data['total_income'].apply(total_income_category)\n",
    "display(data)"
   ]
  },
  {
   "cell_type": "markdown",
   "id": "76787c9f",
   "metadata": {},
   "source": [
    "### Шаг 2.7. Категоризация целей кредита."
   ]
  },
  {
   "cell_type": "markdown",
   "id": "6c1eba55",
   "metadata": {},
   "source": [
    "Создание функции для категоризации целей кредита и добавление нового столбца в исходную таблицу"
   ]
  },
  {
   "cell_type": "code",
   "execution_count": 22,
   "id": "ac54fafb",
   "metadata": {},
   "outputs": [
    {
     "data": {
      "text/html": [
       "<div>\n",
       "<style scoped>\n",
       "    .dataframe tbody tr th:only-of-type {\n",
       "        vertical-align: middle;\n",
       "    }\n",
       "\n",
       "    .dataframe tbody tr th {\n",
       "        vertical-align: top;\n",
       "    }\n",
       "\n",
       "    .dataframe thead th {\n",
       "        text-align: right;\n",
       "    }\n",
       "</style>\n",
       "<table border=\"1\" class=\"dataframe\">\n",
       "  <thead>\n",
       "    <tr style=\"text-align: right;\">\n",
       "      <th></th>\n",
       "      <th>children</th>\n",
       "      <th>days_employed</th>\n",
       "      <th>dob_years</th>\n",
       "      <th>education_id</th>\n",
       "      <th>family_status_id</th>\n",
       "      <th>gender</th>\n",
       "      <th>income_type</th>\n",
       "      <th>debt</th>\n",
       "      <th>total_income</th>\n",
       "      <th>purpose</th>\n",
       "      <th>total_income_category</th>\n",
       "      <th>purpose_category</th>\n",
       "    </tr>\n",
       "  </thead>\n",
       "  <tbody>\n",
       "    <tr>\n",
       "      <th>0</th>\n",
       "      <td>1</td>\n",
       "      <td>8437.673028</td>\n",
       "      <td>42</td>\n",
       "      <td>0</td>\n",
       "      <td>0</td>\n",
       "      <td>F</td>\n",
       "      <td>сотрудник</td>\n",
       "      <td>0</td>\n",
       "      <td>253875</td>\n",
       "      <td>покупка жилья</td>\n",
       "      <td>B</td>\n",
       "      <td>операции с недвижимостью</td>\n",
       "    </tr>\n",
       "    <tr>\n",
       "      <th>1</th>\n",
       "      <td>1</td>\n",
       "      <td>4024.803754</td>\n",
       "      <td>36</td>\n",
       "      <td>1</td>\n",
       "      <td>0</td>\n",
       "      <td>F</td>\n",
       "      <td>сотрудник</td>\n",
       "      <td>0</td>\n",
       "      <td>112080</td>\n",
       "      <td>приобретение автомобиля</td>\n",
       "      <td>C</td>\n",
       "      <td>операции с автомобилем</td>\n",
       "    </tr>\n",
       "    <tr>\n",
       "      <th>2</th>\n",
       "      <td>0</td>\n",
       "      <td>5623.422610</td>\n",
       "      <td>33</td>\n",
       "      <td>1</td>\n",
       "      <td>0</td>\n",
       "      <td>M</td>\n",
       "      <td>сотрудник</td>\n",
       "      <td>0</td>\n",
       "      <td>145885</td>\n",
       "      <td>покупка жилья</td>\n",
       "      <td>C</td>\n",
       "      <td>операции с недвижимостью</td>\n",
       "    </tr>\n",
       "    <tr>\n",
       "      <th>3</th>\n",
       "      <td>3</td>\n",
       "      <td>4124.747207</td>\n",
       "      <td>32</td>\n",
       "      <td>1</td>\n",
       "      <td>0</td>\n",
       "      <td>M</td>\n",
       "      <td>сотрудник</td>\n",
       "      <td>0</td>\n",
       "      <td>267628</td>\n",
       "      <td>дополнительное образование</td>\n",
       "      <td>B</td>\n",
       "      <td>получение образования</td>\n",
       "    </tr>\n",
       "    <tr>\n",
       "      <th>4</th>\n",
       "      <td>0</td>\n",
       "      <td>1808.053434</td>\n",
       "      <td>53</td>\n",
       "      <td>1</td>\n",
       "      <td>1</td>\n",
       "      <td>F</td>\n",
       "      <td>пенсионер</td>\n",
       "      <td>0</td>\n",
       "      <td>158616</td>\n",
       "      <td>сыграть свадьбу</td>\n",
       "      <td>C</td>\n",
       "      <td>проведение свадьбы</td>\n",
       "    </tr>\n",
       "    <tr>\n",
       "      <th>...</th>\n",
       "      <td>...</td>\n",
       "      <td>...</td>\n",
       "      <td>...</td>\n",
       "      <td>...</td>\n",
       "      <td>...</td>\n",
       "      <td>...</td>\n",
       "      <td>...</td>\n",
       "      <td>...</td>\n",
       "      <td>...</td>\n",
       "      <td>...</td>\n",
       "      <td>...</td>\n",
       "      <td>...</td>\n",
       "    </tr>\n",
       "    <tr>\n",
       "      <th>20690</th>\n",
       "      <td>1</td>\n",
       "      <td>4529.316663</td>\n",
       "      <td>43</td>\n",
       "      <td>1</td>\n",
       "      <td>1</td>\n",
       "      <td>F</td>\n",
       "      <td>компаньон</td>\n",
       "      <td>0</td>\n",
       "      <td>224791</td>\n",
       "      <td>операции с жильем</td>\n",
       "      <td>B</td>\n",
       "      <td>операции с недвижимостью</td>\n",
       "    </tr>\n",
       "    <tr>\n",
       "      <th>20691</th>\n",
       "      <td>0</td>\n",
       "      <td>1808.053434</td>\n",
       "      <td>67</td>\n",
       "      <td>1</td>\n",
       "      <td>0</td>\n",
       "      <td>F</td>\n",
       "      <td>пенсионер</td>\n",
       "      <td>0</td>\n",
       "      <td>155999</td>\n",
       "      <td>сделка с автомобилем</td>\n",
       "      <td>C</td>\n",
       "      <td>операции с автомобилем</td>\n",
       "    </tr>\n",
       "    <tr>\n",
       "      <th>20692</th>\n",
       "      <td>1</td>\n",
       "      <td>2113.346888</td>\n",
       "      <td>38</td>\n",
       "      <td>1</td>\n",
       "      <td>1</td>\n",
       "      <td>M</td>\n",
       "      <td>сотрудник</td>\n",
       "      <td>1</td>\n",
       "      <td>89672</td>\n",
       "      <td>недвижимость</td>\n",
       "      <td>C</td>\n",
       "      <td>операции с недвижимостью</td>\n",
       "    </tr>\n",
       "    <tr>\n",
       "      <th>20693</th>\n",
       "      <td>3</td>\n",
       "      <td>3112.481705</td>\n",
       "      <td>38</td>\n",
       "      <td>1</td>\n",
       "      <td>0</td>\n",
       "      <td>M</td>\n",
       "      <td>сотрудник</td>\n",
       "      <td>1</td>\n",
       "      <td>244093</td>\n",
       "      <td>на покупку своего автомобиля</td>\n",
       "      <td>B</td>\n",
       "      <td>операции с автомобилем</td>\n",
       "    </tr>\n",
       "    <tr>\n",
       "      <th>20694</th>\n",
       "      <td>2</td>\n",
       "      <td>1984.507589</td>\n",
       "      <td>40</td>\n",
       "      <td>1</td>\n",
       "      <td>0</td>\n",
       "      <td>F</td>\n",
       "      <td>сотрудник</td>\n",
       "      <td>0</td>\n",
       "      <td>82047</td>\n",
       "      <td>на покупку автомобиля</td>\n",
       "      <td>C</td>\n",
       "      <td>операции с автомобилем</td>\n",
       "    </tr>\n",
       "  </tbody>\n",
       "</table>\n",
       "<p>20695 rows × 12 columns</p>\n",
       "</div>"
      ],
      "text/plain": [
       "       children  days_employed  dob_years  education_id  family_status_id  \\\n",
       "0             1    8437.673028         42             0                 0   \n",
       "1             1    4024.803754         36             1                 0   \n",
       "2             0    5623.422610         33             1                 0   \n",
       "3             3    4124.747207         32             1                 0   \n",
       "4             0    1808.053434         53             1                 1   \n",
       "...         ...            ...        ...           ...               ...   \n",
       "20690         1    4529.316663         43             1                 1   \n",
       "20691         0    1808.053434         67             1                 0   \n",
       "20692         1    2113.346888         38             1                 1   \n",
       "20693         3    3112.481705         38             1                 0   \n",
       "20694         2    1984.507589         40             1                 0   \n",
       "\n",
       "      gender income_type  debt  total_income                       purpose  \\\n",
       "0          F   сотрудник     0        253875                 покупка жилья   \n",
       "1          F   сотрудник     0        112080       приобретение автомобиля   \n",
       "2          M   сотрудник     0        145885                 покупка жилья   \n",
       "3          M   сотрудник     0        267628    дополнительное образование   \n",
       "4          F   пенсионер     0        158616               сыграть свадьбу   \n",
       "...      ...         ...   ...           ...                           ...   \n",
       "20690      F   компаньон     0        224791             операции с жильем   \n",
       "20691      F   пенсионер     0        155999          сделка с автомобилем   \n",
       "20692      M   сотрудник     1         89672                  недвижимость   \n",
       "20693      M   сотрудник     1        244093  на покупку своего автомобиля   \n",
       "20694      F   сотрудник     0         82047         на покупку автомобиля   \n",
       "\n",
       "      total_income_category          purpose_category  \n",
       "0                         B  операции с недвижимостью  \n",
       "1                         C    операции с автомобилем  \n",
       "2                         C  операции с недвижимостью  \n",
       "3                         B     получение образования  \n",
       "4                         C        проведение свадьбы  \n",
       "...                     ...                       ...  \n",
       "20690                     B  операции с недвижимостью  \n",
       "20691                     C    операции с автомобилем  \n",
       "20692                     C  операции с недвижимостью  \n",
       "20693                     B    операции с автомобилем  \n",
       "20694                     C    операции с автомобилем  \n",
       "\n",
       "[20695 rows x 12 columns]"
      ]
     },
     "metadata": {},
     "output_type": "display_data"
    }
   ],
   "source": [
    "def purpose_category(purpose):\n",
    "    if 'жиль' in purpose or 'недвиж' in purpose:\n",
    "        return 'операции с недвижимостью'\n",
    "    if 'автомоб' in purpose:\n",
    "        return 'операции с автомобилем'\n",
    "    if 'свадьб' in purpose:\n",
    "        return 'проведение свадьбы'\n",
    "    return 'получение образования'\n",
    "data['purpose_category'] = data['purpose'].apply(purpose_category)\n",
    "display(data)"
   ]
  },
  {
   "cell_type": "markdown",
   "id": "7118cd75",
   "metadata": {},
   "source": [
    "### Ответы на вопросы."
   ]
  },
  {
   "cell_type": "markdown",
   "id": "cdf2a0a6",
   "metadata": {},
   "source": [
    "<b>Вопрос 1:</b> Есть ли зависимость между количеством детей и возвратом кредита в срок? "
   ]
  },
  {
   "cell_type": "code",
   "execution_count": 23,
   "id": "acc8fd70",
   "metadata": {},
   "outputs": [
    {
     "name": "stdout",
     "output_type": "stream",
     "text": [
      "children\n",
      "0    13518\n",
      "1     4726\n",
      "2     2074\n",
      "3      328\n",
      "4       40\n",
      "5        9\n",
      "Name: debt, dtype: int64\n",
      "children\n",
      "4    10.000000\n",
      "2     9.402122\n",
      "1     9.246720\n",
      "3     8.231707\n",
      "0     7.515905\n",
      "5     0.000000\n",
      "Name: debt, dtype: float64\n"
     ]
    }
   ],
   "source": [
    "print(data.groupby('children')['debt'].count().sort_values(ascending=False))\n",
    "print(data.groupby('children')['debt'].mean().sort_values(ascending=False)* 100)"
   ]
  },
  {
   "cell_type": "markdown",
   "id": "f1aafb58",
   "metadata": {},
   "source": [
    "<b>Вывод 1:</b> Наиболее часто кредиты берут люди без детей. Прослеживается зависимость, что семьи с большем количеством детей реже берут кредиты. Но при этом наибольший процент семей с задолженностями оказался в категории \"4 детей\". Так как выборка в данной категории достаточно маленькая - 40 кредитов, нельзя уверенного говорить о достоверности вывода. Считаю, что следует обратить внимание на семьи с 1 или 2 детьми. Они часто берут кредиты и при этом доля просрочек достаточно высокая (около 10%)."
   ]
  },
  {
   "cell_type": "markdown",
   "id": "4414d928",
   "metadata": {},
   "source": [
    "<b>Вопрос 2:</b> Есть ли зависимость между семейным положением и возвратом кредита в срок? "
   ]
  },
  {
   "cell_type": "code",
   "execution_count": 24,
   "id": "2d6757c8",
   "metadata": {},
   "outputs": [
    {
     "data": {
      "text/plain": [
       "family_status_id\n",
       "0    11788\n",
       "1     4055\n",
       "4     2746\n",
       "3     1180\n",
       "2      926\n",
       "Name: debt, dtype: int64"
      ]
     },
     "metadata": {},
     "output_type": "display_data"
    },
    {
     "data": {
      "text/plain": [
       "family_status_id\n",
       "4    9.868900\n",
       "1    9.321825\n",
       "0    7.533084\n",
       "3    6.949153\n",
       "2    6.479482\n",
       "Name: debt, dtype: float64"
      ]
     },
     "metadata": {},
     "output_type": "display_data"
    }
   ],
   "source": [
    "display(data.groupby('family_status_id')['debt'].count().sort_values(ascending=False))\n",
    "display(data.groupby('family_status_id')['debt'].mean().sort_values(ascending=False)* 100)"
   ]
  },
  {
   "cell_type": "markdown",
   "id": "3098a851",
   "metadata": {},
   "source": [
    "<b>Вывод 2:</b> Люди в гражданском браке и незамужние наиболее часто имеют задолженности по кредиту."
   ]
  },
  {
   "cell_type": "markdown",
   "id": "5449e2d6",
   "metadata": {},
   "source": [
    "<b>Вопрос 3:</b> Есть ли зависимость между уровнем дохода и возвратом кредита в срок? "
   ]
  },
  {
   "cell_type": "code",
   "execution_count": 25,
   "id": "f2f04a66",
   "metadata": {},
   "outputs": [
    {
     "data": {
      "text/plain": [
       "total_income_category\n",
       "C    15257\n",
       "B     5041\n",
       "D      350\n",
       "A       25\n",
       "E       22\n",
       "Name: debt, dtype: int64"
      ]
     },
     "metadata": {},
     "output_type": "display_data"
    },
    {
     "data": {
      "text/plain": [
       "total_income_category\n",
       "E    9.090909\n",
       "C    8.507570\n",
       "A    8.000000\n",
       "B    7.062091\n",
       "D    6.000000\n",
       "Name: debt, dtype: float64"
      ]
     },
     "metadata": {},
     "output_type": "display_data"
    }
   ],
   "source": [
    "display(data.groupby('total_income_category')['debt'].count().sort_values(ascending=False))\n",
    "display(data.groupby('total_income_category')['debt'].mean().sort_values(ascending=False)* 100)"
   ]
  },
  {
   "cell_type": "markdown",
   "id": "5e9ecef7",
   "metadata": {},
   "source": [
    "<b>Вывод 3:</b> Наибольшее количество просрочек у людей с низкими уровнем дохода, но так же как и в ситуации с семьями с детьми данная категория берет наименьшее количество кредитов. Следует обратить внимание на заемщиков с доходом от 50 тыс до 200 тыс, в данной категории наибольшее количество кредитов и высокая доля просрочек."
   ]
  },
  {
   "cell_type": "markdown",
   "id": "8ff5384f",
   "metadata": {},
   "source": [
    "<b>Вопрос 4:</b> Как разные цели кредита влияют на его возврат в срок?"
   ]
  },
  {
   "cell_type": "code",
   "execution_count": 26,
   "id": "dc41229f",
   "metadata": {},
   "outputs": [
    {
     "data": {
      "text/plain": [
       "purpose_category\n",
       "операции с недвижимостью    10425\n",
       "операции с автомобилем       4159\n",
       "получение образования        3831\n",
       "проведение свадьбы           2280\n",
       "Name: debt, dtype: int64"
      ]
     },
     "metadata": {},
     "output_type": "display_data"
    },
    {
     "data": {
      "text/plain": [
       "purpose_category\n",
       "операции с автомобилем      9.449387\n",
       "получение образования       9.240407\n",
       "проведение свадьбы          7.894737\n",
       "операции с недвижимостью    7.213429\n",
       "Name: debt, dtype: float64"
      ]
     },
     "metadata": {},
     "output_type": "display_data"
    }
   ],
   "source": [
    "display(data.groupby('purpose_category')['debt'].count().sort_values(ascending=False))\n",
    "display(data.groupby('purpose_category')['debt'].mean().sort_values(ascending=False)* 100)"
   ]
  },
  {
   "cell_type": "markdown",
   "id": "73b6ff5f",
   "metadata": {},
   "source": [
    "<b>Вывод 4:</b> Наибольшее количество кредитов выдано для проведения операций с недвижимостью, но при этом в данной категории наименьший процент задолженностей. Чаще всего проблемы с возвратом в срок возникают для таких целей как \"операций с автомобилем\" или \"получение образования\"."
   ]
  },
  {
   "cell_type": "markdown",
   "id": "1be5a617",
   "metadata": {},
   "source": [
    "## Общий вывод:"
   ]
  },
  {
   "cell_type": "markdown",
   "id": "317eb57c",
   "metadata": {},
   "source": [
    "Наиболее часто проблемы с задолженностями по кредитам имеют заемщики, находящиеся в гражданском браке, или незамужние/ не женатые, с 1 или 2 детьми, с уровнем дохода от 50 тыс. до 200 тыс., и целью кредита \"операции с автомобилем\" или \"получение образования\". Исходя из данного анализа можно предположить, что наибольшие проблемы с возвратом задолженностей имеют молодые семьи и студенты."
   ]
  }
 ],
 "metadata": {
  "ExecuteTimeLog": [
   {
    "duration": 824,
    "start_time": "2022-02-27T10:05:51.865Z"
   },
   {
    "duration": 93,
    "start_time": "2022-02-27T10:13:29.869Z"
   },
   {
    "duration": 10,
    "start_time": "2022-02-27T10:15:40.043Z"
   },
   {
    "duration": 5,
    "start_time": "2022-02-27T10:23:05.896Z"
   },
   {
    "duration": 6,
    "start_time": "2022-02-27T10:23:34.700Z"
   },
   {
    "duration": 841,
    "start_time": "2022-02-27T10:28:05.419Z"
   },
   {
    "duration": 39,
    "start_time": "2022-02-27T10:28:14.915Z"
   },
   {
    "duration": 53,
    "start_time": "2022-02-27T10:28:30.893Z"
   },
   {
    "duration": 805,
    "start_time": "2022-02-27T10:28:57.937Z"
   },
   {
    "duration": 49,
    "start_time": "2022-02-27T10:29:03.455Z"
   },
   {
    "duration": 45,
    "start_time": "2022-02-27T10:29:28.515Z"
   },
   {
    "duration": 96,
    "start_time": "2022-02-27T10:36:24.461Z"
   },
   {
    "duration": 105,
    "start_time": "2022-02-27T10:36:47.024Z"
   },
   {
    "duration": 370,
    "start_time": "2022-02-27T10:43:36.031Z"
   },
   {
    "duration": 5,
    "start_time": "2022-02-27T10:44:49.808Z"
   },
   {
    "duration": 8,
    "start_time": "2022-02-27T10:45:53.366Z"
   },
   {
    "duration": 19,
    "start_time": "2022-02-27T10:46:25.360Z"
   },
   {
    "duration": 364,
    "start_time": "2022-02-27T16:05:51.368Z"
   },
   {
    "duration": 686,
    "start_time": "2022-02-27T16:06:02.540Z"
   },
   {
    "duration": 6,
    "start_time": "2022-02-27T16:06:07.842Z"
   },
   {
    "duration": 14,
    "start_time": "2022-02-27T16:06:11.081Z"
   },
   {
    "duration": 6041,
    "start_time": "2022-02-27T16:08:07.486Z"
   },
   {
    "duration": 6,
    "start_time": "2022-02-27T16:12:31.141Z"
   },
   {
    "duration": 16,
    "start_time": "2022-02-27T16:13:09.607Z"
   },
   {
    "duration": 20,
    "start_time": "2022-02-27T16:14:51.064Z"
   },
   {
    "duration": 675,
    "start_time": "2022-02-27T16:15:59.138Z"
   },
   {
    "duration": 5,
    "start_time": "2022-02-27T16:16:05.494Z"
   },
   {
    "duration": 14,
    "start_time": "2022-02-27T16:16:08.117Z"
   },
   {
    "duration": 232,
    "start_time": "2022-02-27T16:16:13.150Z"
   },
   {
    "duration": 24,
    "start_time": "2022-02-27T16:16:38.484Z"
   },
   {
    "duration": 627,
    "start_time": "2022-02-27T16:17:11.288Z"
   },
   {
    "duration": 6,
    "start_time": "2022-02-27T16:17:15.394Z"
   },
   {
    "duration": 13,
    "start_time": "2022-02-27T16:17:17.872Z"
   },
   {
    "duration": 17,
    "start_time": "2022-02-27T16:17:33.797Z"
   },
   {
    "duration": 20,
    "start_time": "2022-02-27T16:18:21.095Z"
   },
   {
    "duration": 21,
    "start_time": "2022-02-27T16:18:56.611Z"
   },
   {
    "duration": 79,
    "start_time": "2022-02-27T16:20:13.445Z"
   },
   {
    "duration": 7,
    "start_time": "2022-02-27T16:20:16.721Z"
   },
   {
    "duration": 22,
    "start_time": "2022-02-27T16:20:18.857Z"
   },
   {
    "duration": 22,
    "start_time": "2022-02-27T16:26:46.750Z"
   },
   {
    "duration": 670,
    "start_time": "2022-02-27T16:27:03.149Z"
   },
   {
    "duration": 6,
    "start_time": "2022-02-27T16:27:07.506Z"
   },
   {
    "duration": 15,
    "start_time": "2022-02-27T16:27:10.242Z"
   },
   {
    "duration": 22,
    "start_time": "2022-02-27T16:27:16.041Z"
   },
   {
    "duration": 19,
    "start_time": "2022-02-27T16:27:29.551Z"
   },
   {
    "duration": 4,
    "start_time": "2022-02-27T16:32:22.778Z"
   },
   {
    "duration": 223,
    "start_time": "2022-02-27T16:35:08.131Z"
   },
   {
    "duration": 5,
    "start_time": "2022-02-27T16:35:15.875Z"
   },
   {
    "duration": 6,
    "start_time": "2022-02-27T16:36:06.241Z"
   },
   {
    "duration": 6,
    "start_time": "2022-02-27T16:36:31.823Z"
   },
   {
    "duration": 6,
    "start_time": "2022-02-27T16:36:45.356Z"
   },
   {
    "duration": 5,
    "start_time": "2022-02-27T16:39:13.916Z"
   },
   {
    "duration": 21,
    "start_time": "2022-02-27T16:58:23.880Z"
   },
   {
    "duration": 12,
    "start_time": "2022-02-27T17:06:03.908Z"
   },
   {
    "duration": 10,
    "start_time": "2022-02-27T17:06:17.018Z"
   },
   {
    "duration": 8,
    "start_time": "2022-02-27T17:07:26.207Z"
   },
   {
    "duration": 6,
    "start_time": "2022-02-27T17:14:30.075Z"
   },
   {
    "duration": 20,
    "start_time": "2022-02-27T17:21:06.088Z"
   },
   {
    "duration": 7,
    "start_time": "2022-02-27T17:22:30.613Z"
   },
   {
    "duration": 5,
    "start_time": "2022-02-27T17:29:08.174Z"
   },
   {
    "duration": 160,
    "start_time": "2022-02-27T17:29:14.930Z"
   },
   {
    "duration": 8,
    "start_time": "2022-02-27T17:29:54.973Z"
   },
   {
    "duration": 22,
    "start_time": "2022-02-27T17:46:11.447Z"
   },
   {
    "duration": 6,
    "start_time": "2022-02-27T17:49:12.297Z"
   },
   {
    "duration": 4,
    "start_time": "2022-02-27T17:50:26.243Z"
   },
   {
    "duration": 664,
    "start_time": "2022-02-27T17:50:43.096Z"
   },
   {
    "duration": 5,
    "start_time": "2022-02-27T17:50:47.888Z"
   },
   {
    "duration": 15,
    "start_time": "2022-02-27T17:50:50.483Z"
   },
   {
    "duration": 20,
    "start_time": "2022-02-27T17:50:54.782Z"
   },
   {
    "duration": 4,
    "start_time": "2022-02-27T17:50:58.543Z"
   },
   {
    "duration": 5,
    "start_time": "2022-02-27T17:51:02.968Z"
   },
   {
    "duration": 23,
    "start_time": "2022-02-27T17:51:05.352Z"
   },
   {
    "duration": 9,
    "start_time": "2022-02-27T17:51:08.795Z"
   },
   {
    "duration": 11,
    "start_time": "2022-02-27T17:51:30.250Z"
   },
   {
    "duration": 9,
    "start_time": "2022-02-27T17:51:35.035Z"
   },
   {
    "duration": 6,
    "start_time": "2022-02-27T17:51:38.866Z"
   },
   {
    "duration": 20,
    "start_time": "2022-02-27T17:51:43.476Z"
   },
   {
    "duration": 21,
    "start_time": "2022-02-27T17:52:17.988Z"
   },
   {
    "duration": 6,
    "start_time": "2022-02-27T17:53:19.123Z"
   },
   {
    "duration": 4,
    "start_time": "2022-02-27T17:54:23.399Z"
   },
   {
    "duration": 6,
    "start_time": "2022-02-27T17:56:58.245Z"
   },
   {
    "duration": 221,
    "start_time": "2022-02-27T17:57:48.584Z"
   },
   {
    "duration": 6,
    "start_time": "2022-02-27T17:58:05.860Z"
   },
   {
    "duration": 18,
    "start_time": "2022-02-27T18:00:02.691Z"
   },
   {
    "duration": 4,
    "start_time": "2022-02-27T18:00:07.826Z"
   },
   {
    "duration": 4070,
    "start_time": "2022-02-27T18:00:10.819Z"
   },
   {
    "duration": 697,
    "start_time": "2022-02-27T18:00:24.742Z"
   },
   {
    "duration": 6,
    "start_time": "2022-02-27T18:00:30.079Z"
   },
   {
    "duration": 16,
    "start_time": "2022-02-27T18:00:32.891Z"
   },
   {
    "duration": 18,
    "start_time": "2022-02-27T18:00:35.735Z"
   },
   {
    "duration": 5,
    "start_time": "2022-02-27T18:00:38.836Z"
   },
   {
    "duration": 6,
    "start_time": "2022-02-27T18:00:41.311Z"
   },
   {
    "duration": 23,
    "start_time": "2022-02-27T18:00:45.565Z"
   },
   {
    "duration": 9,
    "start_time": "2022-02-27T18:00:50.387Z"
   },
   {
    "duration": 8,
    "start_time": "2022-02-27T18:00:54.450Z"
   },
   {
    "duration": 9,
    "start_time": "2022-02-27T18:00:59.093Z"
   },
   {
    "duration": 7,
    "start_time": "2022-02-27T18:01:08.723Z"
   },
   {
    "duration": 20,
    "start_time": "2022-02-27T18:01:11.076Z"
   },
   {
    "duration": 21,
    "start_time": "2022-02-27T18:01:14.037Z"
   },
   {
    "duration": 8,
    "start_time": "2022-02-27T18:01:18.176Z"
   },
   {
    "duration": 479,
    "start_time": "2022-02-27T18:21:44.327Z"
   },
   {
    "duration": 22,
    "start_time": "2022-02-27T18:22:28.286Z"
   },
   {
    "duration": 21,
    "start_time": "2022-02-27T18:23:03.804Z"
   },
   {
    "duration": 50,
    "start_time": "2022-02-27T18:26:24.231Z"
   },
   {
    "duration": 689,
    "start_time": "2022-02-27T18:26:39.725Z"
   },
   {
    "duration": 5,
    "start_time": "2022-02-27T18:26:43.902Z"
   },
   {
    "duration": 16,
    "start_time": "2022-02-27T18:26:45.886Z"
   },
   {
    "duration": 58,
    "start_time": "2022-02-27T18:26:48.623Z"
   },
   {
    "duration": 22,
    "start_time": "2022-02-27T18:26:53.721Z"
   },
   {
    "duration": 79,
    "start_time": "2022-02-27T18:27:22.473Z"
   },
   {
    "duration": 7,
    "start_time": "2022-02-27T18:27:27.595Z"
   },
   {
    "duration": 14,
    "start_time": "2022-02-27T18:27:29.591Z"
   },
   {
    "duration": 20,
    "start_time": "2022-02-27T18:27:33.430Z"
   },
   {
    "duration": 33,
    "start_time": "2022-02-27T18:28:02.385Z"
   },
   {
    "duration": 83,
    "start_time": "2022-02-27T18:28:10.510Z"
   },
   {
    "duration": 6,
    "start_time": "2022-02-27T18:28:14.766Z"
   },
   {
    "duration": 15,
    "start_time": "2022-02-27T18:28:16.598Z"
   },
   {
    "duration": 23,
    "start_time": "2022-02-27T18:28:18.925Z"
   },
   {
    "duration": 203,
    "start_time": "2022-02-27T18:31:19.177Z"
   },
   {
    "duration": 646,
    "start_time": "2022-02-27T18:31:25.173Z"
   },
   {
    "duration": 5,
    "start_time": "2022-02-27T18:31:32.041Z"
   },
   {
    "duration": 14,
    "start_time": "2022-02-27T18:31:35.912Z"
   },
   {
    "duration": 24,
    "start_time": "2022-02-27T18:31:41.329Z"
   },
   {
    "duration": 202,
    "start_time": "2022-02-27T18:32:35.000Z"
   },
   {
    "duration": 78,
    "start_time": "2022-02-27T18:32:42.096Z"
   },
   {
    "duration": 6,
    "start_time": "2022-02-27T18:32:50.765Z"
   },
   {
    "duration": 14,
    "start_time": "2022-02-27T18:32:53.414Z"
   },
   {
    "duration": 20,
    "start_time": "2022-02-27T18:33:36.241Z"
   },
   {
    "duration": 4,
    "start_time": "2022-02-27T18:33:42.859Z"
   },
   {
    "duration": 5,
    "start_time": "2022-02-27T18:33:45.224Z"
   },
   {
    "duration": 21,
    "start_time": "2022-02-27T18:33:48.328Z"
   },
   {
    "duration": 8,
    "start_time": "2022-02-27T18:33:52.234Z"
   },
   {
    "duration": 11,
    "start_time": "2022-02-27T18:33:55.423Z"
   },
   {
    "duration": 9,
    "start_time": "2022-02-27T18:33:58.322Z"
   },
   {
    "duration": 5,
    "start_time": "2022-02-27T18:34:01.208Z"
   },
   {
    "duration": 20,
    "start_time": "2022-02-27T18:34:02.982Z"
   },
   {
    "duration": 20,
    "start_time": "2022-02-27T18:34:10.576Z"
   },
   {
    "duration": 8,
    "start_time": "2022-02-27T18:34:14.104Z"
   },
   {
    "duration": 7,
    "start_time": "2022-02-27T18:35:34.574Z"
   },
   {
    "duration": 9,
    "start_time": "2022-02-27T18:36:52.186Z"
   },
   {
    "duration": 175,
    "start_time": "2022-02-27T18:37:11.145Z"
   },
   {
    "duration": 77,
    "start_time": "2022-02-27T18:37:25.556Z"
   },
   {
    "duration": 6,
    "start_time": "2022-02-27T18:37:28.698Z"
   },
   {
    "duration": 14,
    "start_time": "2022-02-27T18:37:30.677Z"
   },
   {
    "duration": 20,
    "start_time": "2022-02-27T18:37:33.007Z"
   },
   {
    "duration": 4,
    "start_time": "2022-02-27T18:37:36.294Z"
   },
   {
    "duration": 5,
    "start_time": "2022-02-27T18:37:38.141Z"
   },
   {
    "duration": 21,
    "start_time": "2022-02-27T18:37:41.837Z"
   },
   {
    "duration": 9,
    "start_time": "2022-02-27T18:37:45.323Z"
   },
   {
    "duration": 166,
    "start_time": "2022-02-27T18:37:49.196Z"
   },
   {
    "duration": 7,
    "start_time": "2022-02-27T18:38:11.502Z"
   },
   {
    "duration": 24,
    "start_time": "2022-02-27T18:40:43.225Z"
   },
   {
    "duration": 3,
    "start_time": "2022-02-27T18:40:50.029Z"
   },
   {
    "duration": 7,
    "start_time": "2022-02-27T18:40:51.749Z"
   },
   {
    "duration": 23,
    "start_time": "2022-02-27T18:41:00.318Z"
   },
   {
    "duration": 711,
    "start_time": "2022-02-27T18:41:16.087Z"
   },
   {
    "duration": 8,
    "start_time": "2022-02-27T18:41:20.565Z"
   },
   {
    "duration": 15,
    "start_time": "2022-02-27T18:41:25.345Z"
   },
   {
    "duration": 24,
    "start_time": "2022-02-27T18:41:36.355Z"
   },
   {
    "duration": 5,
    "start_time": "2022-02-27T18:41:40.369Z"
   },
   {
    "duration": 6,
    "start_time": "2022-02-27T18:41:42.753Z"
   },
   {
    "duration": 24,
    "start_time": "2022-02-27T18:41:45.094Z"
   },
   {
    "duration": 9,
    "start_time": "2022-02-27T18:41:49.897Z"
   },
   {
    "duration": 8,
    "start_time": "2022-02-27T18:41:53.733Z"
   },
   {
    "duration": 30,
    "start_time": "2022-02-27T18:42:18.128Z"
   },
   {
    "duration": 645,
    "start_time": "2022-02-27T18:42:29.994Z"
   },
   {
    "duration": 6,
    "start_time": "2022-02-27T18:42:39.017Z"
   },
   {
    "duration": 17,
    "start_time": "2022-02-27T18:42:41.198Z"
   },
   {
    "duration": 21,
    "start_time": "2022-02-27T18:42:44.876Z"
   },
   {
    "duration": 4,
    "start_time": "2022-02-27T18:42:57.848Z"
   },
   {
    "duration": 5,
    "start_time": "2022-02-27T18:43:00.308Z"
   },
   {
    "duration": 22,
    "start_time": "2022-02-27T18:43:02.654Z"
   },
   {
    "duration": 9,
    "start_time": "2022-02-27T18:43:06.396Z"
   },
   {
    "duration": 7,
    "start_time": "2022-02-27T18:43:08.939Z"
   },
   {
    "duration": 6,
    "start_time": "2022-02-27T18:43:40.613Z"
   },
   {
    "duration": 10,
    "start_time": "2022-02-27T18:45:30.279Z"
   },
   {
    "duration": 8,
    "start_time": "2022-02-27T18:45:57.806Z"
   },
   {
    "duration": 8,
    "start_time": "2022-02-27T18:46:07.832Z"
   },
   {
    "duration": 12,
    "start_time": "2022-02-27T18:47:30.772Z"
   },
   {
    "duration": 7,
    "start_time": "2022-02-27T18:48:06.713Z"
   },
   {
    "duration": 12,
    "start_time": "2022-02-27T18:49:12.035Z"
   },
   {
    "duration": 6,
    "start_time": "2022-02-27T18:52:21.249Z"
   },
   {
    "duration": 636,
    "start_time": "2022-02-27T18:52:31.587Z"
   },
   {
    "duration": 6,
    "start_time": "2022-02-27T18:52:36.091Z"
   },
   {
    "duration": 15,
    "start_time": "2022-02-27T18:52:39.992Z"
   },
   {
    "duration": 6,
    "start_time": "2022-02-27T18:52:43.531Z"
   },
   {
    "duration": 8,
    "start_time": "2022-02-27T18:53:22.998Z"
   },
   {
    "duration": 7,
    "start_time": "2022-02-27T18:54:26.856Z"
   },
   {
    "duration": 294,
    "start_time": "2022-02-27T18:55:12.219Z"
   },
   {
    "duration": 10,
    "start_time": "2022-02-27T18:55:21.797Z"
   },
   {
    "duration": 8,
    "start_time": "2022-02-27T18:55:37.253Z"
   },
   {
    "duration": 7,
    "start_time": "2022-02-27T18:57:06.292Z"
   },
   {
    "duration": 8,
    "start_time": "2022-02-27T18:57:34.284Z"
   },
   {
    "duration": 7,
    "start_time": "2022-02-27T18:58:03.407Z"
   },
   {
    "duration": 7,
    "start_time": "2022-02-27T18:58:36.557Z"
   },
   {
    "duration": 26,
    "start_time": "2022-02-27T19:08:45.338Z"
   },
   {
    "duration": 8,
    "start_time": "2022-02-27T19:09:17.464Z"
   },
   {
    "duration": 9,
    "start_time": "2022-02-27T19:11:12.065Z"
   },
   {
    "duration": 685,
    "start_time": "2022-02-27T19:11:35.463Z"
   },
   {
    "duration": 6,
    "start_time": "2022-02-27T19:11:39.985Z"
   },
   {
    "duration": 16,
    "start_time": "2022-02-27T19:11:41.698Z"
   },
   {
    "duration": 7,
    "start_time": "2022-02-27T19:11:44.347Z"
   },
   {
    "duration": 9,
    "start_time": "2022-02-27T19:11:47.316Z"
   },
   {
    "duration": 6,
    "start_time": "2022-02-27T19:11:51.108Z"
   },
   {
    "duration": 6,
    "start_time": "2022-02-27T19:11:54.417Z"
   },
   {
    "duration": 8,
    "start_time": "2022-02-27T19:11:57.463Z"
   },
   {
    "duration": 5,
    "start_time": "2022-02-27T19:12:08.966Z"
   },
   {
    "duration": 7,
    "start_time": "2022-02-27T19:12:38.608Z"
   },
   {
    "duration": 8,
    "start_time": "2022-02-27T19:12:46.220Z"
   },
   {
    "duration": 8,
    "start_time": "2022-02-27T19:12:48.539Z"
   },
   {
    "duration": 8,
    "start_time": "2022-02-27T19:12:51.205Z"
   },
   {
    "duration": 8,
    "start_time": "2022-02-27T19:12:53.705Z"
   },
   {
    "duration": 25,
    "start_time": "2022-02-27T19:12:59.776Z"
   },
   {
    "duration": 4,
    "start_time": "2022-02-27T19:13:03.183Z"
   },
   {
    "duration": 5,
    "start_time": "2022-02-27T19:13:06.793Z"
   },
   {
    "duration": 24,
    "start_time": "2022-02-27T19:13:10.075Z"
   },
   {
    "duration": 11,
    "start_time": "2022-02-27T19:13:19.291Z"
   },
   {
    "duration": 9,
    "start_time": "2022-02-27T19:14:34.442Z"
   },
   {
    "duration": 10,
    "start_time": "2022-02-27T19:14:55.351Z"
   },
   {
    "duration": 23,
    "start_time": "2022-02-27T19:15:31.509Z"
   },
   {
    "duration": 7,
    "start_time": "2022-02-27T19:20:30.199Z"
   },
   {
    "duration": 612,
    "start_time": "2022-02-27T19:20:45.996Z"
   },
   {
    "duration": 6,
    "start_time": "2022-02-27T19:21:04.891Z"
   },
   {
    "duration": 15,
    "start_time": "2022-02-27T19:21:06.987Z"
   },
   {
    "duration": 7,
    "start_time": "2022-02-27T19:21:10.350Z"
   },
   {
    "duration": 7,
    "start_time": "2022-02-27T19:21:12.766Z"
   },
   {
    "duration": 7,
    "start_time": "2022-02-27T19:21:14.994Z"
   },
   {
    "duration": 6,
    "start_time": "2022-02-27T19:21:18.788Z"
   },
   {
    "duration": 7,
    "start_time": "2022-02-27T19:21:20.800Z"
   },
   {
    "duration": 7,
    "start_time": "2022-02-27T19:21:23.182Z"
   },
   {
    "duration": 7,
    "start_time": "2022-02-27T19:21:25.832Z"
   },
   {
    "duration": 8,
    "start_time": "2022-02-27T19:21:28.375Z"
   },
   {
    "duration": 24,
    "start_time": "2022-02-27T19:21:31.932Z"
   },
   {
    "duration": 5,
    "start_time": "2022-02-27T19:21:35.201Z"
   },
   {
    "duration": 6,
    "start_time": "2022-02-27T19:21:37.740Z"
   },
   {
    "duration": 21,
    "start_time": "2022-02-27T19:21:40.411Z"
   },
   {
    "duration": 5,
    "start_time": "2022-02-27T19:22:25.010Z"
   },
   {
    "duration": 7,
    "start_time": "2022-02-27T19:22:37.471Z"
   },
   {
    "duration": 10,
    "start_time": "2022-02-27T19:22:45.808Z"
   },
   {
    "duration": 8,
    "start_time": "2022-02-27T19:22:48.929Z"
   },
   {
    "duration": 5,
    "start_time": "2022-02-27T19:22:51.641Z"
   },
   {
    "duration": 23,
    "start_time": "2022-02-27T19:22:54.440Z"
   },
   {
    "duration": 22,
    "start_time": "2022-02-27T19:22:58.409Z"
   },
   {
    "duration": 7,
    "start_time": "2022-02-27T19:23:07.639Z"
   },
   {
    "duration": 24,
    "start_time": "2022-02-27T19:23:23.775Z"
   },
   {
    "duration": 12,
    "start_time": "2022-02-27T19:24:11.508Z"
   },
   {
    "duration": 701,
    "start_time": "2022-02-27T19:24:36.055Z"
   },
   {
    "duration": 6,
    "start_time": "2022-02-27T19:24:45.668Z"
   },
   {
    "duration": 14,
    "start_time": "2022-02-27T19:24:47.719Z"
   },
   {
    "duration": 7,
    "start_time": "2022-02-27T19:24:50.845Z"
   },
   {
    "duration": 7,
    "start_time": "2022-02-27T19:24:52.776Z"
   },
   {
    "duration": 7,
    "start_time": "2022-02-27T19:24:55.484Z"
   },
   {
    "duration": 5,
    "start_time": "2022-02-27T19:24:58.961Z"
   },
   {
    "duration": 6,
    "start_time": "2022-02-27T19:25:56.056Z"
   },
   {
    "duration": 7,
    "start_time": "2022-02-27T19:25:58.384Z"
   },
   {
    "duration": 6,
    "start_time": "2022-02-27T19:26:00.875Z"
   },
   {
    "duration": 8,
    "start_time": "2022-02-27T19:26:02.834Z"
   },
   {
    "duration": 9,
    "start_time": "2022-02-27T19:26:05.471Z"
   },
   {
    "duration": 27,
    "start_time": "2022-02-27T19:26:07.697Z"
   },
   {
    "duration": 4,
    "start_time": "2022-02-27T19:26:10.625Z"
   },
   {
    "duration": 6,
    "start_time": "2022-02-27T19:26:12.667Z"
   },
   {
    "duration": 23,
    "start_time": "2022-02-27T19:26:15.319Z"
   },
   {
    "duration": 6,
    "start_time": "2022-02-27T19:26:30.794Z"
   },
   {
    "duration": 14,
    "start_time": "2022-02-27T19:26:44.316Z"
   },
   {
    "duration": 27,
    "start_time": "2022-02-27T19:33:28.824Z"
   },
   {
    "duration": 29,
    "start_time": "2022-02-27T19:34:18.371Z"
   },
   {
    "duration": 650,
    "start_time": "2022-02-27T19:34:33.000Z"
   },
   {
    "duration": 6,
    "start_time": "2022-02-27T19:34:36.927Z"
   },
   {
    "duration": 17,
    "start_time": "2022-02-27T19:34:38.967Z"
   },
   {
    "duration": 6,
    "start_time": "2022-02-27T19:34:41.954Z"
   },
   {
    "duration": 8,
    "start_time": "2022-02-27T19:34:43.756Z"
   },
   {
    "duration": 6,
    "start_time": "2022-02-27T19:34:46.619Z"
   },
   {
    "duration": 7,
    "start_time": "2022-02-27T19:34:50.046Z"
   },
   {
    "duration": 8,
    "start_time": "2022-02-27T19:34:52.016Z"
   },
   {
    "duration": 6,
    "start_time": "2022-02-27T19:34:53.841Z"
   },
   {
    "duration": 7,
    "start_time": "2022-02-27T19:34:56.432Z"
   },
   {
    "duration": 8,
    "start_time": "2022-02-27T19:34:58.256Z"
   },
   {
    "duration": 28,
    "start_time": "2022-02-27T19:35:00.559Z"
   },
   {
    "duration": 5,
    "start_time": "2022-02-27T19:35:03.867Z"
   },
   {
    "duration": 5,
    "start_time": "2022-02-27T19:35:06.505Z"
   },
   {
    "duration": 22,
    "start_time": "2022-02-27T19:35:09.780Z"
   },
   {
    "duration": 228,
    "start_time": "2022-02-27T19:35:29.553Z"
   },
   {
    "duration": 31,
    "start_time": "2022-02-27T19:35:46.748Z"
   },
   {
    "duration": 9,
    "start_time": "2022-02-27T19:35:53.666Z"
   },
   {
    "duration": 8,
    "start_time": "2022-02-27T19:35:56.482Z"
   },
   {
    "duration": 6,
    "start_time": "2022-02-27T19:36:03.511Z"
   },
   {
    "duration": 19,
    "start_time": "2022-02-27T19:36:05.892Z"
   },
   {
    "duration": 23,
    "start_time": "2022-02-27T19:36:20.110Z"
   },
   {
    "duration": 153,
    "start_time": "2022-02-27T19:36:52.747Z"
   },
   {
    "duration": 682,
    "start_time": "2022-02-27T19:37:15.755Z"
   },
   {
    "duration": 6,
    "start_time": "2022-02-27T19:37:21.021Z"
   },
   {
    "duration": 17,
    "start_time": "2022-02-27T19:37:23.249Z"
   },
   {
    "duration": 6,
    "start_time": "2022-02-27T19:37:26.894Z"
   },
   {
    "duration": 8,
    "start_time": "2022-02-27T19:37:29.174Z"
   },
   {
    "duration": 6,
    "start_time": "2022-02-27T19:37:31.605Z"
   },
   {
    "duration": 7,
    "start_time": "2022-02-27T19:37:34.969Z"
   },
   {
    "duration": 8,
    "start_time": "2022-02-27T19:37:36.994Z"
   },
   {
    "duration": 6,
    "start_time": "2022-02-27T19:37:39.422Z"
   },
   {
    "duration": 8,
    "start_time": "2022-02-27T19:37:41.630Z"
   },
   {
    "duration": 9,
    "start_time": "2022-02-27T19:37:43.703Z"
   },
   {
    "duration": 27,
    "start_time": "2022-02-27T19:37:48.025Z"
   },
   {
    "duration": 4,
    "start_time": "2022-02-27T19:37:52.202Z"
   },
   {
    "duration": 6,
    "start_time": "2022-02-27T19:37:54.717Z"
   },
   {
    "duration": 21,
    "start_time": "2022-02-27T19:37:58.134Z"
   },
   {
    "duration": 32,
    "start_time": "2022-02-27T19:38:01.573Z"
   },
   {
    "duration": 10,
    "start_time": "2022-02-27T19:38:05.988Z"
   },
   {
    "duration": 16,
    "start_time": "2022-02-27T19:38:28.278Z"
   },
   {
    "duration": 12,
    "start_time": "2022-02-27T19:38:33.171Z"
   },
   {
    "duration": 9,
    "start_time": "2022-02-27T19:38:36.975Z"
   },
   {
    "duration": 5,
    "start_time": "2022-02-27T19:38:49.967Z"
   },
   {
    "duration": 20,
    "start_time": "2022-02-27T19:38:53.092Z"
   },
   {
    "duration": 23,
    "start_time": "2022-02-27T19:39:02.691Z"
   },
   {
    "duration": 26,
    "start_time": "2022-02-27T19:39:13.483Z"
   },
   {
    "duration": 7,
    "start_time": "2022-02-27T20:01:47.238Z"
   },
   {
    "duration": 54,
    "start_time": "2022-02-27T20:12:08.430Z"
   },
   {
    "duration": 56,
    "start_time": "2022-02-27T20:12:19.567Z"
   },
   {
    "duration": 4,
    "start_time": "2022-02-27T20:12:33.725Z"
   },
   {
    "duration": 230,
    "start_time": "2022-02-27T20:13:25.930Z"
   },
   {
    "duration": 9,
    "start_time": "2022-02-27T20:14:34.567Z"
   },
   {
    "duration": 7,
    "start_time": "2022-02-27T20:15:11.644Z"
   },
   {
    "duration": 6,
    "start_time": "2022-02-27T20:15:52.129Z"
   },
   {
    "duration": 7,
    "start_time": "2022-02-27T20:16:07.867Z"
   },
   {
    "duration": 7,
    "start_time": "2022-02-27T20:16:56.166Z"
   },
   {
    "duration": 10,
    "start_time": "2022-02-27T20:17:41.326Z"
   },
   {
    "duration": 12,
    "start_time": "2022-02-27T20:48:05.006Z"
   },
   {
    "duration": 12,
    "start_time": "2022-02-27T20:48:17.601Z"
   },
   {
    "duration": 17,
    "start_time": "2022-02-27T20:50:42.151Z"
   },
   {
    "duration": 17,
    "start_time": "2022-02-27T20:51:51.873Z"
   },
   {
    "duration": 16,
    "start_time": "2022-02-27T20:52:15.915Z"
   },
   {
    "duration": 315,
    "start_time": "2022-02-28T17:45:09.316Z"
   },
   {
    "duration": 905,
    "start_time": "2022-02-28T17:48:26.255Z"
   },
   {
    "duration": 8,
    "start_time": "2022-02-28T17:48:30.621Z"
   },
   {
    "duration": 19,
    "start_time": "2022-02-28T17:48:32.917Z"
   },
   {
    "duration": 9,
    "start_time": "2022-02-28T17:48:35.716Z"
   },
   {
    "duration": 10,
    "start_time": "2022-02-28T17:48:37.709Z"
   },
   {
    "duration": 9,
    "start_time": "2022-02-28T17:48:40.246Z"
   },
   {
    "duration": 8,
    "start_time": "2022-02-28T17:48:43.671Z"
   },
   {
    "duration": 11,
    "start_time": "2022-02-28T17:48:45.662Z"
   },
   {
    "duration": 9,
    "start_time": "2022-02-28T17:48:48.066Z"
   },
   {
    "duration": 11,
    "start_time": "2022-02-28T17:48:50.025Z"
   },
   {
    "duration": 10,
    "start_time": "2022-02-28T17:48:52.542Z"
   },
   {
    "duration": 11,
    "start_time": "2022-02-28T17:48:54.490Z"
   },
   {
    "duration": 41,
    "start_time": "2022-02-28T17:48:57.474Z"
   },
   {
    "duration": 5,
    "start_time": "2022-02-28T17:49:01.316Z"
   },
   {
    "duration": 7,
    "start_time": "2022-02-28T17:49:03.670Z"
   },
   {
    "duration": 34,
    "start_time": "2022-02-28T17:49:05.738Z"
   },
   {
    "duration": 24,
    "start_time": "2022-02-28T17:49:08.663Z"
   },
   {
    "duration": 16,
    "start_time": "2022-02-28T17:49:10.305Z"
   },
   {
    "duration": 12,
    "start_time": "2022-02-28T17:49:13.710Z"
   },
   {
    "duration": 7,
    "start_time": "2022-02-28T17:49:16.374Z"
   },
   {
    "duration": 39,
    "start_time": "2022-02-28T17:49:18.405Z"
   },
   {
    "duration": 38,
    "start_time": "2022-02-28T17:49:20.859Z"
   },
   {
    "duration": 31,
    "start_time": "2022-02-28T17:49:25.741Z"
   },
   {
    "duration": 26,
    "start_time": "2022-02-28T17:49:38.224Z"
   },
   {
    "duration": 31,
    "start_time": "2022-02-28T17:57:57.355Z"
   },
   {
    "duration": 32,
    "start_time": "2022-02-28T17:58:48.849Z"
   },
   {
    "duration": 31,
    "start_time": "2022-02-28T18:00:05.112Z"
   },
   {
    "duration": 31,
    "start_time": "2022-02-28T18:00:37.111Z"
   },
   {
    "duration": 27,
    "start_time": "2022-02-28T18:19:01.338Z"
   },
   {
    "duration": 949,
    "start_time": "2022-02-28T19:44:25.142Z"
   },
   {
    "duration": 7,
    "start_time": "2022-02-28T19:44:30.773Z"
   },
   {
    "duration": 20,
    "start_time": "2022-02-28T19:44:33.522Z"
   },
   {
    "duration": 8,
    "start_time": "2022-02-28T19:44:39.467Z"
   },
   {
    "duration": 12,
    "start_time": "2022-02-28T19:44:41.950Z"
   },
   {
    "duration": 9,
    "start_time": "2022-02-28T19:44:44.012Z"
   },
   {
    "duration": 8,
    "start_time": "2022-02-28T19:44:47.811Z"
   },
   {
    "duration": 10,
    "start_time": "2022-02-28T19:44:50.393Z"
   },
   {
    "duration": 10,
    "start_time": "2022-02-28T19:44:53.168Z"
   },
   {
    "duration": 10,
    "start_time": "2022-02-28T19:44:55.396Z"
   },
   {
    "duration": 10,
    "start_time": "2022-02-28T19:44:58.035Z"
   },
   {
    "duration": 10,
    "start_time": "2022-02-28T19:45:00.638Z"
   },
   {
    "duration": 39,
    "start_time": "2022-02-28T19:45:03.266Z"
   },
   {
    "duration": 5,
    "start_time": "2022-02-28T19:45:08.741Z"
   },
   {
    "duration": 7,
    "start_time": "2022-02-28T19:45:11.047Z"
   },
   {
    "duration": 30,
    "start_time": "2022-02-28T19:45:13.551Z"
   },
   {
    "duration": 22,
    "start_time": "2022-02-28T19:45:16.778Z"
   },
   {
    "duration": 18,
    "start_time": "2022-02-28T19:45:19.151Z"
   },
   {
    "duration": 12,
    "start_time": "2022-02-28T19:45:21.900Z"
   },
   {
    "duration": 7,
    "start_time": "2022-02-28T19:45:24.466Z"
   },
   {
    "duration": 39,
    "start_time": "2022-02-28T19:45:26.987Z"
   },
   {
    "duration": 40,
    "start_time": "2022-02-28T19:45:30.743Z"
   },
   {
    "duration": 31,
    "start_time": "2022-02-28T19:45:34.736Z"
   },
   {
    "duration": 26,
    "start_time": "2022-02-28T19:45:37.959Z"
   },
   {
    "duration": 31,
    "start_time": "2022-02-28T19:45:40.918Z"
   },
   {
    "duration": 28,
    "start_time": "2022-02-28T19:45:46.406Z"
   },
   {
    "duration": 687,
    "start_time": "2022-03-09T10:41:36.979Z"
   },
   {
    "duration": 5,
    "start_time": "2022-03-09T10:41:37.667Z"
   },
   {
    "duration": 16,
    "start_time": "2022-03-09T10:41:37.674Z"
   },
   {
    "duration": 5,
    "start_time": "2022-03-09T10:41:37.701Z"
   },
   {
    "duration": 7,
    "start_time": "2022-03-09T10:41:37.708Z"
   },
   {
    "duration": 5,
    "start_time": "2022-03-09T10:41:37.716Z"
   },
   {
    "duration": 6,
    "start_time": "2022-03-09T10:41:37.722Z"
   },
   {
    "duration": 5,
    "start_time": "2022-03-09T10:41:37.730Z"
   },
   {
    "duration": 5,
    "start_time": "2022-03-09T10:41:37.737Z"
   },
   {
    "duration": 5,
    "start_time": "2022-03-09T10:41:37.744Z"
   },
   {
    "duration": 8,
    "start_time": "2022-03-09T10:41:37.750Z"
   },
   {
    "duration": 45,
    "start_time": "2022-03-09T10:41:37.759Z"
   },
   {
    "duration": 21,
    "start_time": "2022-03-09T10:41:37.806Z"
   },
   {
    "duration": 3,
    "start_time": "2022-03-09T10:41:37.829Z"
   },
   {
    "duration": 6,
    "start_time": "2022-03-09T10:41:37.834Z"
   },
   {
    "duration": 20,
    "start_time": "2022-03-09T10:41:37.841Z"
   },
   {
    "duration": 39,
    "start_time": "2022-03-09T10:41:37.862Z"
   },
   {
    "duration": 8,
    "start_time": "2022-03-09T10:41:37.903Z"
   },
   {
    "duration": 7,
    "start_time": "2022-03-09T10:41:37.913Z"
   },
   {
    "duration": 7,
    "start_time": "2022-03-09T10:41:37.921Z"
   },
   {
    "duration": 25,
    "start_time": "2022-03-09T10:41:37.929Z"
   },
   {
    "duration": 20,
    "start_time": "2022-03-09T10:41:37.955Z"
   },
   {
    "duration": 39,
    "start_time": "2022-03-09T10:41:37.978Z"
   },
   {
    "duration": 14,
    "start_time": "2022-03-09T10:41:38.018Z"
   },
   {
    "duration": 16,
    "start_time": "2022-03-09T10:41:38.034Z"
   },
   {
    "duration": 14,
    "start_time": "2022-03-09T10:41:38.052Z"
   },
   {
    "duration": 914,
    "start_time": "2022-03-09T15:48:18.681Z"
   },
   {
    "duration": 9,
    "start_time": "2022-03-09T15:48:29.422Z"
   },
   {
    "duration": 21,
    "start_time": "2022-03-09T15:48:33.598Z"
   },
   {
    "duration": 8,
    "start_time": "2022-03-09T15:48:37.423Z"
   },
   {
    "duration": 10,
    "start_time": "2022-03-09T15:48:40.098Z"
   },
   {
    "duration": 8,
    "start_time": "2022-03-09T15:48:42.345Z"
   },
   {
    "duration": 8,
    "start_time": "2022-03-09T15:48:46.323Z"
   },
   {
    "duration": 10,
    "start_time": "2022-03-09T15:48:49.061Z"
   },
   {
    "duration": 8,
    "start_time": "2022-03-09T15:48:51.723Z"
   },
   {
    "duration": 10,
    "start_time": "2022-03-09T15:48:54.448Z"
   },
   {
    "duration": 9,
    "start_time": "2022-03-09T15:48:57.390Z"
   },
   {
    "duration": 12,
    "start_time": "2022-03-09T15:48:59.986Z"
   },
   {
    "duration": 40,
    "start_time": "2022-03-09T15:49:03.419Z"
   },
   {
    "duration": 5,
    "start_time": "2022-03-09T15:49:09.055Z"
   },
   {
    "duration": 7,
    "start_time": "2022-03-09T15:49:11.891Z"
   },
   {
    "duration": 31,
    "start_time": "2022-03-09T15:49:14.241Z"
   },
   {
    "duration": 23,
    "start_time": "2022-03-09T15:49:18.385Z"
   },
   {
    "duration": 19,
    "start_time": "2022-03-09T15:49:22.092Z"
   },
   {
    "duration": 17,
    "start_time": "2022-03-09T15:49:34.998Z"
   },
   {
    "duration": 379,
    "start_time": "2022-03-09T16:06:40.424Z"
   },
   {
    "duration": 331,
    "start_time": "2022-03-09T16:09:13.748Z"
   },
   {
    "duration": 296,
    "start_time": "2022-03-09T16:09:21.788Z"
   },
   {
    "duration": 849,
    "start_time": "2022-03-09T16:09:39.833Z"
   },
   {
    "duration": 9,
    "start_time": "2022-03-09T16:09:44.558Z"
   },
   {
    "duration": 20,
    "start_time": "2022-03-09T16:09:47.189Z"
   },
   {
    "duration": 9,
    "start_time": "2022-03-09T16:09:51.148Z"
   },
   {
    "duration": 10,
    "start_time": "2022-03-09T16:09:53.327Z"
   },
   {
    "duration": 9,
    "start_time": "2022-03-09T16:09:55.576Z"
   },
   {
    "duration": 7,
    "start_time": "2022-03-09T16:10:01.233Z"
   },
   {
    "duration": 9,
    "start_time": "2022-03-09T16:10:03.777Z"
   },
   {
    "duration": 8,
    "start_time": "2022-03-09T16:10:06.278Z"
   },
   {
    "duration": 10,
    "start_time": "2022-03-09T16:10:08.499Z"
   },
   {
    "duration": 7,
    "start_time": "2022-03-09T16:10:10.883Z"
   },
   {
    "duration": 11,
    "start_time": "2022-03-09T16:10:12.940Z"
   },
   {
    "duration": 39,
    "start_time": "2022-03-09T16:10:19.279Z"
   },
   {
    "duration": 5,
    "start_time": "2022-03-09T16:10:23.066Z"
   },
   {
    "duration": 7,
    "start_time": "2022-03-09T16:10:26.115Z"
   },
   {
    "duration": 33,
    "start_time": "2022-03-09T16:10:28.482Z"
   },
   {
    "duration": 22,
    "start_time": "2022-03-09T16:10:31.605Z"
   },
   {
    "duration": 17,
    "start_time": "2022-03-09T16:10:35.395Z"
   },
   {
    "duration": 15,
    "start_time": "2022-03-09T16:10:38.943Z"
   },
   {
    "duration": 7,
    "start_time": "2022-03-09T16:10:42.678Z"
   },
   {
    "duration": 40,
    "start_time": "2022-03-09T16:10:45.116Z"
   },
   {
    "duration": 39,
    "start_time": "2022-03-09T16:10:48.054Z"
   },
   {
    "duration": 439,
    "start_time": "2022-03-09T16:11:05.602Z"
   },
   {
    "duration": 32,
    "start_time": "2022-03-09T16:11:21.995Z"
   },
   {
    "duration": 34,
    "start_time": "2022-03-09T16:11:51.655Z"
   },
   {
    "duration": 312,
    "start_time": "2022-03-09T16:13:15.259Z"
   },
   {
    "duration": 35,
    "start_time": "2022-03-09T16:16:10.184Z"
   },
   {
    "duration": 17,
    "start_time": "2022-03-09T16:17:19.271Z"
   },
   {
    "duration": -57,
    "start_time": "2022-03-09T16:18:26.754Z"
   },
   {
    "duration": 7013,
    "start_time": "2022-03-09T16:18:33.378Z"
   },
   {
    "duration": 7466,
    "start_time": "2022-03-09T16:19:24.618Z"
   },
   {
    "duration": 14,
    "start_time": "2022-03-09T16:19:50.631Z"
   },
   {
    "duration": 84,
    "start_time": "2022-03-09T16:22:36.987Z"
   },
   {
    "duration": 10,
    "start_time": "2022-03-09T16:22:59.336Z"
   },
   {
    "duration": 117,
    "start_time": "2022-03-09T16:25:05.183Z"
   },
   {
    "duration": 11,
    "start_time": "2022-03-09T16:25:18.639Z"
   },
   {
    "duration": 14,
    "start_time": "2022-03-09T16:25:26.481Z"
   },
   {
    "duration": 290,
    "start_time": "2022-03-09T16:30:41.386Z"
   },
   {
    "duration": 13,
    "start_time": "2022-03-09T16:30:55.848Z"
   },
   {
    "duration": 17,
    "start_time": "2022-03-09T16:32:57.968Z"
   },
   {
    "duration": 19,
    "start_time": "2022-03-09T16:33:51.215Z"
   },
   {
    "duration": 351,
    "start_time": "2022-03-09T16:35:50.779Z"
   },
   {
    "duration": 19,
    "start_time": "2022-03-09T16:36:08.367Z"
   },
   {
    "duration": 20,
    "start_time": "2022-03-09T16:37:16.735Z"
   },
   {
    "duration": 22,
    "start_time": "2022-03-09T16:38:49.205Z"
   },
   {
    "duration": 20,
    "start_time": "2022-03-09T16:39:41.442Z"
   },
   {
    "duration": 18,
    "start_time": "2022-03-09T16:40:12.700Z"
   },
   {
    "duration": 27,
    "start_time": "2022-03-09T16:41:21.201Z"
   },
   {
    "duration": 365,
    "start_time": "2022-03-09T16:41:50.679Z"
   },
   {
    "duration": 15,
    "start_time": "2022-03-09T16:42:07.390Z"
   },
   {
    "duration": 14,
    "start_time": "2022-03-09T16:42:39.255Z"
   },
   {
    "duration": 13,
    "start_time": "2022-03-09T16:43:19.641Z"
   },
   {
    "duration": 17,
    "start_time": "2022-03-09T16:44:07.243Z"
   },
   {
    "duration": 21,
    "start_time": "2022-03-09T16:44:37.736Z"
   },
   {
    "duration": 15,
    "start_time": "2022-03-09T16:45:22.454Z"
   },
   {
    "duration": 12,
    "start_time": "2022-03-09T16:49:32.533Z"
   },
   {
    "duration": 11,
    "start_time": "2022-03-09T16:55:16.396Z"
   },
   {
    "duration": 13,
    "start_time": "2022-03-09T16:58:59.089Z"
   },
   {
    "duration": 15,
    "start_time": "2022-03-09T16:59:50.412Z"
   },
   {
    "duration": 12,
    "start_time": "2022-03-09T17:00:02.226Z"
   },
   {
    "duration": 16,
    "start_time": "2022-03-09T17:00:09.599Z"
   },
   {
    "duration": 15,
    "start_time": "2022-03-09T17:00:38.613Z"
   },
   {
    "duration": 98,
    "start_time": "2022-03-09T17:06:07.483Z"
   },
   {
    "duration": 870,
    "start_time": "2022-03-09T17:22:55.281Z"
   },
   {
    "duration": 8,
    "start_time": "2022-03-09T17:23:00.075Z"
   },
   {
    "duration": 24,
    "start_time": "2022-03-09T17:23:02.389Z"
   },
   {
    "duration": 10,
    "start_time": "2022-03-09T17:23:05.665Z"
   },
   {
    "duration": 11,
    "start_time": "2022-03-09T17:23:07.789Z"
   },
   {
    "duration": 8,
    "start_time": "2022-03-09T17:23:09.991Z"
   },
   {
    "duration": 10,
    "start_time": "2022-03-09T17:23:13.126Z"
   },
   {
    "duration": 10,
    "start_time": "2022-03-09T17:23:15.153Z"
   },
   {
    "duration": 9,
    "start_time": "2022-03-09T17:23:19.489Z"
   },
   {
    "duration": 10,
    "start_time": "2022-03-09T17:23:21.885Z"
   },
   {
    "duration": 11,
    "start_time": "2022-03-09T17:23:23.618Z"
   },
   {
    "duration": 11,
    "start_time": "2022-03-09T17:23:25.606Z"
   },
   {
    "duration": 39,
    "start_time": "2022-03-09T17:23:28.739Z"
   },
   {
    "duration": 5,
    "start_time": "2022-03-09T17:23:32.051Z"
   },
   {
    "duration": 7,
    "start_time": "2022-03-09T17:23:34.579Z"
   },
   {
    "duration": 32,
    "start_time": "2022-03-09T17:23:36.817Z"
   },
   {
    "duration": 23,
    "start_time": "2022-03-09T17:23:39.953Z"
   },
   {
    "duration": 17,
    "start_time": "2022-03-09T17:23:42.280Z"
   },
   {
    "duration": 16,
    "start_time": "2022-03-09T17:23:44.638Z"
   },
   {
    "duration": 9,
    "start_time": "2022-03-09T17:23:47.451Z"
   },
   {
    "duration": 39,
    "start_time": "2022-03-09T17:23:50.343Z"
   },
   {
    "duration": 43,
    "start_time": "2022-03-09T17:23:57.178Z"
   },
   {
    "duration": 20,
    "start_time": "2022-03-09T17:24:00.796Z"
   },
   {
    "duration": 12,
    "start_time": "2022-03-09T17:24:04.450Z"
   },
   {
    "duration": 14,
    "start_time": "2022-03-09T17:24:07.811Z"
   },
   {
    "duration": 16,
    "start_time": "2022-03-09T17:24:09.992Z"
   },
   {
    "duration": 618,
    "start_time": "2022-03-09T18:41:59.500Z"
   },
   {
    "duration": 4,
    "start_time": "2022-03-09T18:42:00.120Z"
   },
   {
    "duration": 20,
    "start_time": "2022-03-09T18:42:00.126Z"
   },
   {
    "duration": 6,
    "start_time": "2022-03-09T18:42:00.147Z"
   },
   {
    "duration": 12,
    "start_time": "2022-03-09T18:42:00.155Z"
   },
   {
    "duration": 5,
    "start_time": "2022-03-09T18:42:00.169Z"
   },
   {
    "duration": 9,
    "start_time": "2022-03-09T18:42:00.176Z"
   },
   {
    "duration": 10,
    "start_time": "2022-03-09T18:42:00.187Z"
   },
   {
    "duration": 7,
    "start_time": "2022-03-09T18:42:00.199Z"
   },
   {
    "duration": 27,
    "start_time": "2022-03-09T18:42:00.208Z"
   },
   {
    "duration": 12,
    "start_time": "2022-03-09T18:42:00.236Z"
   },
   {
    "duration": 15,
    "start_time": "2022-03-09T18:42:00.250Z"
   },
   {
    "duration": 24,
    "start_time": "2022-03-09T18:42:00.267Z"
   },
   {
    "duration": 3,
    "start_time": "2022-03-09T18:42:00.293Z"
   },
   {
    "duration": 19,
    "start_time": "2022-03-09T18:42:00.297Z"
   },
   {
    "duration": 32,
    "start_time": "2022-03-09T18:42:00.318Z"
   },
   {
    "duration": 15,
    "start_time": "2022-03-09T18:42:00.352Z"
   },
   {
    "duration": 11,
    "start_time": "2022-03-09T18:42:00.368Z"
   },
   {
    "duration": 16,
    "start_time": "2022-03-09T18:42:00.380Z"
   },
   {
    "duration": 43,
    "start_time": "2022-03-09T18:42:00.403Z"
   },
   {
    "duration": 23,
    "start_time": "2022-03-09T18:42:00.447Z"
   },
   {
    "duration": 9,
    "start_time": "2022-03-09T18:42:00.472Z"
   },
   {
    "duration": 7,
    "start_time": "2022-03-09T18:42:00.483Z"
   },
   {
    "duration": 9,
    "start_time": "2022-03-09T18:42:00.492Z"
   },
   {
    "duration": 36,
    "start_time": "2022-03-09T18:42:00.502Z"
   }
  ],
  "celltoolbar": "Необработанный формат ячейки",
  "kernelspec": {
   "display_name": "Python 3 (ipykernel)",
   "language": "python",
   "name": "python3"
  },
  "language_info": {
   "codemirror_mode": {
    "name": "ipython",
    "version": 3
   },
   "file_extension": ".py",
   "mimetype": "text/x-python",
   "name": "python",
   "nbconvert_exporter": "python",
   "pygments_lexer": "ipython3",
   "version": "3.9.7"
  },
  "toc": {
   "base_numbering": 1,
   "nav_menu": {},
   "number_sections": true,
   "sideBar": true,
   "skip_h1_title": true,
   "title_cell": "Table of Contents",
   "title_sidebar": "Contents",
   "toc_cell": false,
   "toc_position": {},
   "toc_section_display": true,
   "toc_window_display": false
  }
 },
 "nbformat": 4,
 "nbformat_minor": 5
}
