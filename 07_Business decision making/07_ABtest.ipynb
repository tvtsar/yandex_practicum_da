{
 "cells": [
  {
   "cell_type": "markdown",
   "metadata": {},
   "source": [
    "## Часть 1. Приоритизация гипотез"
   ]
  },
  {
   "cell_type": "markdown",
   "metadata": {},
   "source": [
    "### Подготовка данных"
   ]
  },
  {
   "cell_type": "code",
   "execution_count": 1,
   "metadata": {},
   "outputs": [],
   "source": [
    "import pandas as pd\n",
    "import datetime as dt\n",
    "import numpy as np\n",
    "import scipy.stats as stats\n",
    "import matplotlib.pyplot as plt"
   ]
  },
  {
   "cell_type": "code",
   "execution_count": 2,
   "metadata": {},
   "outputs": [
    {
     "data": {
      "text/html": [
       "<div>\n",
       "<style scoped>\n",
       "    .dataframe tbody tr th:only-of-type {\n",
       "        vertical-align: middle;\n",
       "    }\n",
       "\n",
       "    .dataframe tbody tr th {\n",
       "        vertical-align: top;\n",
       "    }\n",
       "\n",
       "    .dataframe thead th {\n",
       "        text-align: right;\n",
       "    }\n",
       "</style>\n",
       "<table border=\"1\" class=\"dataframe\">\n",
       "  <thead>\n",
       "    <tr style=\"text-align: right;\">\n",
       "      <th></th>\n",
       "      <th>Hypothesis</th>\n",
       "      <th>Reach</th>\n",
       "      <th>Impact</th>\n",
       "      <th>Confidence</th>\n",
       "      <th>Efforts</th>\n",
       "    </tr>\n",
       "  </thead>\n",
       "  <tbody>\n",
       "    <tr>\n",
       "      <th>0</th>\n",
       "      <td>Добавить два новых канала привлечения трафика, что позволит привлекать на 30% больше пользователей</td>\n",
       "      <td>3</td>\n",
       "      <td>10</td>\n",
       "      <td>8</td>\n",
       "      <td>6</td>\n",
       "    </tr>\n",
       "    <tr>\n",
       "      <th>1</th>\n",
       "      <td>Запустить собственную службу доставки, что сократит срок доставки заказов</td>\n",
       "      <td>2</td>\n",
       "      <td>5</td>\n",
       "      <td>4</td>\n",
       "      <td>10</td>\n",
       "    </tr>\n",
       "    <tr>\n",
       "      <th>2</th>\n",
       "      <td>Добавить блоки рекомендаций товаров на сайт интернет магазина, чтобы повысить конверсию и средний чек заказа</td>\n",
       "      <td>8</td>\n",
       "      <td>3</td>\n",
       "      <td>7</td>\n",
       "      <td>3</td>\n",
       "    </tr>\n",
       "    <tr>\n",
       "      <th>3</th>\n",
       "      <td>Изменить структура категорий, что увеличит конверсию, т.к. пользователи быстрее найдут нужный товар</td>\n",
       "      <td>8</td>\n",
       "      <td>3</td>\n",
       "      <td>3</td>\n",
       "      <td>8</td>\n",
       "    </tr>\n",
       "    <tr>\n",
       "      <th>4</th>\n",
       "      <td>Изменить цвет фона главной страницы, чтобы увеличить вовлеченность пользователей</td>\n",
       "      <td>3</td>\n",
       "      <td>1</td>\n",
       "      <td>1</td>\n",
       "      <td>1</td>\n",
       "    </tr>\n",
       "    <tr>\n",
       "      <th>5</th>\n",
       "      <td>Добавить страницу отзывов клиентов о магазине, что позволит увеличить количество заказов</td>\n",
       "      <td>3</td>\n",
       "      <td>2</td>\n",
       "      <td>2</td>\n",
       "      <td>3</td>\n",
       "    </tr>\n",
       "    <tr>\n",
       "      <th>6</th>\n",
       "      <td>Показать на главной странице баннеры с актуальными акциями и распродажами, чтобы увеличить конверсию</td>\n",
       "      <td>5</td>\n",
       "      <td>3</td>\n",
       "      <td>8</td>\n",
       "      <td>3</td>\n",
       "    </tr>\n",
       "    <tr>\n",
       "      <th>7</th>\n",
       "      <td>Добавить форму подписки на все основные страницы, чтобы собрать базу клиентов для email-рассылок</td>\n",
       "      <td>10</td>\n",
       "      <td>7</td>\n",
       "      <td>8</td>\n",
       "      <td>5</td>\n",
       "    </tr>\n",
       "    <tr>\n",
       "      <th>8</th>\n",
       "      <td>Запустить акцию, дающую скидку на товар в день рождения</td>\n",
       "      <td>1</td>\n",
       "      <td>9</td>\n",
       "      <td>9</td>\n",
       "      <td>5</td>\n",
       "    </tr>\n",
       "  </tbody>\n",
       "</table>\n",
       "</div>"
      ],
      "text/plain": [
       "                                                                                                     Hypothesis  \\\n",
       "0  Добавить два новых канала привлечения трафика, что позволит привлекать на 30% больше пользователей             \n",
       "1  Запустить собственную службу доставки, что сократит срок доставки заказов                                      \n",
       "2  Добавить блоки рекомендаций товаров на сайт интернет магазина, чтобы повысить конверсию и средний чек заказа   \n",
       "3  Изменить структура категорий, что увеличит конверсию, т.к. пользователи быстрее найдут нужный товар            \n",
       "4  Изменить цвет фона главной страницы, чтобы увеличить вовлеченность пользователей                               \n",
       "5  Добавить страницу отзывов клиентов о магазине, что позволит увеличить количество заказов                       \n",
       "6  Показать на главной странице баннеры с актуальными акциями и распродажами, чтобы увеличить конверсию           \n",
       "7  Добавить форму подписки на все основные страницы, чтобы собрать базу клиентов для email-рассылок               \n",
       "8  Запустить акцию, дающую скидку на товар в день рождения                                                        \n",
       "\n",
       "   Reach  Impact  Confidence  Efforts  \n",
       "0  3      10      8           6        \n",
       "1  2      5       4           10       \n",
       "2  8      3       7           3        \n",
       "3  8      3       3           8        \n",
       "4  3      1       1           1        \n",
       "5  3      2       2           3        \n",
       "6  5      3       8           3        \n",
       "7  10     7       8           5        \n",
       "8  1      9       9           5        "
      ]
     },
     "metadata": {},
     "output_type": "display_data"
    },
    {
     "name": "stdout",
     "output_type": "stream",
     "text": [
      "<class 'pandas.core.frame.DataFrame'>\n",
      "RangeIndex: 9 entries, 0 to 8\n",
      "Data columns (total 5 columns):\n",
      " #   Column      Non-Null Count  Dtype \n",
      "---  ------      --------------  ----- \n",
      " 0   Hypothesis  9 non-null      object\n",
      " 1   Reach       9 non-null      int64 \n",
      " 2   Impact      9 non-null      int64 \n",
      " 3   Confidence  9 non-null      int64 \n",
      " 4   Efforts     9 non-null      int64 \n",
      "dtypes: int64(4), object(1)\n",
      "memory usage: 488.0+ bytes\n"
     ]
    }
   ],
   "source": [
    "#загрузка файла hypothesis и вывод информации\n",
    "hipothesis = pd.read_csv('/datasets/hypothesis.csv')\n",
    "pd.options.display.max_colwidth = 1\n",
    "display(hipothesis)\n",
    "hipothesis.info()"
   ]
  },
  {
   "cell_type": "code",
   "execution_count": 3,
   "metadata": {},
   "outputs": [],
   "source": [
    "hipothesis.columns = hipothesis.columns.str.lower()#замена названий на нижний регистр"
   ]
  },
  {
   "cell_type": "markdown",
   "metadata": {},
   "source": [
    "Данная таблица небольшая, без использования функций видно, что отсутствую пропуски и дубликаты. Для удобства заменили все буквы в названиях столбцов на нижний регистр. Все типы данных корректны. Данные готовы к дальнейшему исследованию."
   ]
  },
  {
   "cell_type": "markdown",
   "metadata": {},
   "source": [
    "### ICE и RICE"
   ]
  },
  {
   "cell_type": "code",
   "execution_count": 4,
   "metadata": {},
   "outputs": [
    {
     "data": {
      "text/html": [
       "<div>\n",
       "<style scoped>\n",
       "    .dataframe tbody tr th:only-of-type {\n",
       "        vertical-align: middle;\n",
       "    }\n",
       "\n",
       "    .dataframe tbody tr th {\n",
       "        vertical-align: top;\n",
       "    }\n",
       "\n",
       "    .dataframe thead th {\n",
       "        text-align: right;\n",
       "    }\n",
       "</style>\n",
       "<table border=\"1\" class=\"dataframe\">\n",
       "  <thead>\n",
       "    <tr style=\"text-align: right;\">\n",
       "      <th></th>\n",
       "      <th>hypothesis</th>\n",
       "      <th>ICE</th>\n",
       "    </tr>\n",
       "  </thead>\n",
       "  <tbody>\n",
       "    <tr>\n",
       "      <th>8</th>\n",
       "      <td>Запустить акцию, дающую скидку на товар в день рождения</td>\n",
       "      <td>16.200000</td>\n",
       "    </tr>\n",
       "    <tr>\n",
       "      <th>0</th>\n",
       "      <td>Добавить два новых канала привлечения трафика, что позволит привлекать на 30% больше пользователей</td>\n",
       "      <td>13.333333</td>\n",
       "    </tr>\n",
       "    <tr>\n",
       "      <th>7</th>\n",
       "      <td>Добавить форму подписки на все основные страницы, чтобы собрать базу клиентов для email-рассылок</td>\n",
       "      <td>11.200000</td>\n",
       "    </tr>\n",
       "    <tr>\n",
       "      <th>6</th>\n",
       "      <td>Показать на главной странице баннеры с актуальными акциями и распродажами, чтобы увеличить конверсию</td>\n",
       "      <td>8.000000</td>\n",
       "    </tr>\n",
       "    <tr>\n",
       "      <th>2</th>\n",
       "      <td>Добавить блоки рекомендаций товаров на сайт интернет магазина, чтобы повысить конверсию и средний чек заказа</td>\n",
       "      <td>7.000000</td>\n",
       "    </tr>\n",
       "    <tr>\n",
       "      <th>1</th>\n",
       "      <td>Запустить собственную службу доставки, что сократит срок доставки заказов</td>\n",
       "      <td>2.000000</td>\n",
       "    </tr>\n",
       "    <tr>\n",
       "      <th>5</th>\n",
       "      <td>Добавить страницу отзывов клиентов о магазине, что позволит увеличить количество заказов</td>\n",
       "      <td>1.333333</td>\n",
       "    </tr>\n",
       "    <tr>\n",
       "      <th>3</th>\n",
       "      <td>Изменить структура категорий, что увеличит конверсию, т.к. пользователи быстрее найдут нужный товар</td>\n",
       "      <td>1.125000</td>\n",
       "    </tr>\n",
       "    <tr>\n",
       "      <th>4</th>\n",
       "      <td>Изменить цвет фона главной страницы, чтобы увеличить вовлеченность пользователей</td>\n",
       "      <td>1.000000</td>\n",
       "    </tr>\n",
       "  </tbody>\n",
       "</table>\n",
       "</div>"
      ],
      "text/plain": [
       "                                                                                                     hypothesis  \\\n",
       "8  Запустить акцию, дающую скидку на товар в день рождения                                                        \n",
       "0  Добавить два новых канала привлечения трафика, что позволит привлекать на 30% больше пользователей             \n",
       "7  Добавить форму подписки на все основные страницы, чтобы собрать базу клиентов для email-рассылок               \n",
       "6  Показать на главной странице баннеры с актуальными акциями и распродажами, чтобы увеличить конверсию           \n",
       "2  Добавить блоки рекомендаций товаров на сайт интернет магазина, чтобы повысить конверсию и средний чек заказа   \n",
       "1  Запустить собственную службу доставки, что сократит срок доставки заказов                                      \n",
       "5  Добавить страницу отзывов клиентов о магазине, что позволит увеличить количество заказов                       \n",
       "3  Изменить структура категорий, что увеличит конверсию, т.к. пользователи быстрее найдут нужный товар            \n",
       "4  Изменить цвет фона главной страницы, чтобы увеличить вовлеченность пользователей                               \n",
       "\n",
       "         ICE  \n",
       "8  16.200000  \n",
       "0  13.333333  \n",
       "7  11.200000  \n",
       "6  8.000000   \n",
       "2  7.000000   \n",
       "1  2.000000   \n",
       "5  1.333333   \n",
       "3  1.125000   \n",
       "4  1.000000   "
      ]
     },
     "metadata": {},
     "output_type": "display_data"
    }
   ],
   "source": [
    "# проведем приоритезацию гипотез с помощью способа ICE\n",
    "hipothesis['ICE'] = hipothesis['impact'] * hipothesis['confidence'] / hipothesis['efforts']\n",
    "pd.options.display.max_colwidth = 1\n",
    "display(hipothesis.loc[:, ['hypothesis', 'ICE']].sort_values(by='ICE', ascending=False))"
   ]
  },
  {
   "cell_type": "markdown",
   "metadata": {},
   "source": [
    "Наиболее перспективные гипотезы по ICE: 8, 0 и 7."
   ]
  },
  {
   "cell_type": "code",
   "execution_count": 5,
   "metadata": {},
   "outputs": [
    {
     "data": {
      "text/html": [
       "<div>\n",
       "<style scoped>\n",
       "    .dataframe tbody tr th:only-of-type {\n",
       "        vertical-align: middle;\n",
       "    }\n",
       "\n",
       "    .dataframe tbody tr th {\n",
       "        vertical-align: top;\n",
       "    }\n",
       "\n",
       "    .dataframe thead th {\n",
       "        text-align: right;\n",
       "    }\n",
       "</style>\n",
       "<table border=\"1\" class=\"dataframe\">\n",
       "  <thead>\n",
       "    <tr style=\"text-align: right;\">\n",
       "      <th></th>\n",
       "      <th>hypothesis</th>\n",
       "      <th>RICE</th>\n",
       "    </tr>\n",
       "  </thead>\n",
       "  <tbody>\n",
       "    <tr>\n",
       "      <th>7</th>\n",
       "      <td>Добавить форму подписки на все основные страницы, чтобы собрать базу клиентов для email-рассылок</td>\n",
       "      <td>112.0</td>\n",
       "    </tr>\n",
       "    <tr>\n",
       "      <th>2</th>\n",
       "      <td>Добавить блоки рекомендаций товаров на сайт интернет магазина, чтобы повысить конверсию и средний чек заказа</td>\n",
       "      <td>56.0</td>\n",
       "    </tr>\n",
       "    <tr>\n",
       "      <th>0</th>\n",
       "      <td>Добавить два новых канала привлечения трафика, что позволит привлекать на 30% больше пользователей</td>\n",
       "      <td>40.0</td>\n",
       "    </tr>\n",
       "    <tr>\n",
       "      <th>6</th>\n",
       "      <td>Показать на главной странице баннеры с актуальными акциями и распродажами, чтобы увеличить конверсию</td>\n",
       "      <td>40.0</td>\n",
       "    </tr>\n",
       "    <tr>\n",
       "      <th>8</th>\n",
       "      <td>Запустить акцию, дающую скидку на товар в день рождения</td>\n",
       "      <td>16.2</td>\n",
       "    </tr>\n",
       "    <tr>\n",
       "      <th>3</th>\n",
       "      <td>Изменить структура категорий, что увеличит конверсию, т.к. пользователи быстрее найдут нужный товар</td>\n",
       "      <td>9.0</td>\n",
       "    </tr>\n",
       "    <tr>\n",
       "      <th>1</th>\n",
       "      <td>Запустить собственную службу доставки, что сократит срок доставки заказов</td>\n",
       "      <td>4.0</td>\n",
       "    </tr>\n",
       "    <tr>\n",
       "      <th>5</th>\n",
       "      <td>Добавить страницу отзывов клиентов о магазине, что позволит увеличить количество заказов</td>\n",
       "      <td>4.0</td>\n",
       "    </tr>\n",
       "    <tr>\n",
       "      <th>4</th>\n",
       "      <td>Изменить цвет фона главной страницы, чтобы увеличить вовлеченность пользователей</td>\n",
       "      <td>3.0</td>\n",
       "    </tr>\n",
       "  </tbody>\n",
       "</table>\n",
       "</div>"
      ],
      "text/plain": [
       "                                                                                                     hypothesis  \\\n",
       "7  Добавить форму подписки на все основные страницы, чтобы собрать базу клиентов для email-рассылок               \n",
       "2  Добавить блоки рекомендаций товаров на сайт интернет магазина, чтобы повысить конверсию и средний чек заказа   \n",
       "0  Добавить два новых канала привлечения трафика, что позволит привлекать на 30% больше пользователей             \n",
       "6  Показать на главной странице баннеры с актуальными акциями и распродажами, чтобы увеличить конверсию           \n",
       "8  Запустить акцию, дающую скидку на товар в день рождения                                                        \n",
       "3  Изменить структура категорий, что увеличит конверсию, т.к. пользователи быстрее найдут нужный товар            \n",
       "1  Запустить собственную службу доставки, что сократит срок доставки заказов                                      \n",
       "5  Добавить страницу отзывов клиентов о магазине, что позволит увеличить количество заказов                       \n",
       "4  Изменить цвет фона главной страницы, чтобы увеличить вовлеченность пользователей                               \n",
       "\n",
       "    RICE  \n",
       "7  112.0  \n",
       "2  56.0   \n",
       "0  40.0   \n",
       "6  40.0   \n",
       "8  16.2   \n",
       "3  9.0    \n",
       "1  4.0    \n",
       "5  4.0    \n",
       "4  3.0    "
      ]
     },
     "metadata": {},
     "output_type": "display_data"
    }
   ],
   "source": [
    "# проведем приоритезацию гипотез с помощью способа RICE\n",
    "hipothesis['RICE'] = hipothesis['reach'] * hipothesis['impact'] * hipothesis['confidence'] / hipothesis['efforts']\n",
    "pd.options.display.max_colwidth = 1\n",
    "display(hipothesis.loc[:, ['hypothesis', 'RICE']].sort_values(by='RICE', ascending=False))\n"
   ]
  },
  {
   "cell_type": "markdown",
   "metadata": {},
   "source": [
    "В данном случае наиболее перспективными гипотезами являютяся: 7 и 2.\n",
    "\n",
    "Гипотеза под номером 7 оказалась в обоих списках, ее можно рассматривать как наиболее перспективную. Разница в полученных разными методами результатах объясняется значением Reach - количество пользователей, которое затронет изменение, которое появляется в числителе при расчете способом RICE. Данный показатель для гипотезы №7 = 10."
   ]
  },
  {
   "cell_type": "markdown",
   "metadata": {},
   "source": [
    "## Часть 2. Анализ A/B-теста"
   ]
  },
  {
   "cell_type": "markdown",
   "metadata": {},
   "source": [
    "### Подготовка данных"
   ]
  },
  {
   "cell_type": "code",
   "execution_count": 6,
   "metadata": {},
   "outputs": [
    {
     "data": {
      "text/html": [
       "<div>\n",
       "<style scoped>\n",
       "    .dataframe tbody tr th:only-of-type {\n",
       "        vertical-align: middle;\n",
       "    }\n",
       "\n",
       "    .dataframe tbody tr th {\n",
       "        vertical-align: top;\n",
       "    }\n",
       "\n",
       "    .dataframe thead th {\n",
       "        text-align: right;\n",
       "    }\n",
       "</style>\n",
       "<table border=\"1\" class=\"dataframe\">\n",
       "  <thead>\n",
       "    <tr style=\"text-align: right;\">\n",
       "      <th></th>\n",
       "      <th>transactionId</th>\n",
       "      <th>visitorId</th>\n",
       "      <th>date</th>\n",
       "      <th>revenue</th>\n",
       "      <th>group</th>\n",
       "    </tr>\n",
       "  </thead>\n",
       "  <tbody>\n",
       "    <tr>\n",
       "      <th>0</th>\n",
       "      <td>3667963787</td>\n",
       "      <td>3312258926</td>\n",
       "      <td>2019-08-15</td>\n",
       "      <td>1650</td>\n",
       "      <td>B</td>\n",
       "    </tr>\n",
       "    <tr>\n",
       "      <th>1</th>\n",
       "      <td>2804400009</td>\n",
       "      <td>3642806036</td>\n",
       "      <td>2019-08-15</td>\n",
       "      <td>730</td>\n",
       "      <td>B</td>\n",
       "    </tr>\n",
       "    <tr>\n",
       "      <th>2</th>\n",
       "      <td>2961555356</td>\n",
       "      <td>4069496402</td>\n",
       "      <td>2019-08-15</td>\n",
       "      <td>400</td>\n",
       "      <td>A</td>\n",
       "    </tr>\n",
       "    <tr>\n",
       "      <th>3</th>\n",
       "      <td>3797467345</td>\n",
       "      <td>1196621759</td>\n",
       "      <td>2019-08-15</td>\n",
       "      <td>9759</td>\n",
       "      <td>B</td>\n",
       "    </tr>\n",
       "    <tr>\n",
       "      <th>4</th>\n",
       "      <td>2282983706</td>\n",
       "      <td>2322279887</td>\n",
       "      <td>2019-08-15</td>\n",
       "      <td>2308</td>\n",
       "      <td>B</td>\n",
       "    </tr>\n",
       "    <tr>\n",
       "      <th>...</th>\n",
       "      <td>...</td>\n",
       "      <td>...</td>\n",
       "      <td>...</td>\n",
       "      <td>...</td>\n",
       "      <td>...</td>\n",
       "    </tr>\n",
       "    <tr>\n",
       "      <th>1192</th>\n",
       "      <td>2662137336</td>\n",
       "      <td>3733762160</td>\n",
       "      <td>2019-08-14</td>\n",
       "      <td>6490</td>\n",
       "      <td>B</td>\n",
       "    </tr>\n",
       "    <tr>\n",
       "      <th>1193</th>\n",
       "      <td>2203539145</td>\n",
       "      <td>370388673</td>\n",
       "      <td>2019-08-14</td>\n",
       "      <td>3190</td>\n",
       "      <td>A</td>\n",
       "    </tr>\n",
       "    <tr>\n",
       "      <th>1194</th>\n",
       "      <td>1807773912</td>\n",
       "      <td>573423106</td>\n",
       "      <td>2019-08-14</td>\n",
       "      <td>10550</td>\n",
       "      <td>A</td>\n",
       "    </tr>\n",
       "    <tr>\n",
       "      <th>1195</th>\n",
       "      <td>1947021204</td>\n",
       "      <td>1614305549</td>\n",
       "      <td>2019-08-14</td>\n",
       "      <td>100</td>\n",
       "      <td>A</td>\n",
       "    </tr>\n",
       "    <tr>\n",
       "      <th>1196</th>\n",
       "      <td>3936777065</td>\n",
       "      <td>2108080724</td>\n",
       "      <td>2019-08-15</td>\n",
       "      <td>202740</td>\n",
       "      <td>B</td>\n",
       "    </tr>\n",
       "  </tbody>\n",
       "</table>\n",
       "<p>1197 rows × 5 columns</p>\n",
       "</div>"
      ],
      "text/plain": [
       "      transactionId   visitorId        date  revenue group\n",
       "0     3667963787     3312258926  2019-08-15  1650     B   \n",
       "1     2804400009     3642806036  2019-08-15  730      B   \n",
       "2     2961555356     4069496402  2019-08-15  400      A   \n",
       "3     3797467345     1196621759  2019-08-15  9759     B   \n",
       "4     2282983706     2322279887  2019-08-15  2308     B   \n",
       "...          ...            ...         ...   ...    ..   \n",
       "1192  2662137336     3733762160  2019-08-14  6490     B   \n",
       "1193  2203539145     370388673   2019-08-14  3190     A   \n",
       "1194  1807773912     573423106   2019-08-14  10550    A   \n",
       "1195  1947021204     1614305549  2019-08-14  100      A   \n",
       "1196  3936777065     2108080724  2019-08-15  202740   B   \n",
       "\n",
       "[1197 rows x 5 columns]"
      ]
     },
     "metadata": {},
     "output_type": "display_data"
    },
    {
     "name": "stdout",
     "output_type": "stream",
     "text": [
      "<class 'pandas.core.frame.DataFrame'>\n",
      "RangeIndex: 1197 entries, 0 to 1196\n",
      "Data columns (total 5 columns):\n",
      " #   Column         Non-Null Count  Dtype \n",
      "---  ------         --------------  ----- \n",
      " 0   transactionId  1197 non-null   int64 \n",
      " 1   visitorId      1197 non-null   int64 \n",
      " 2   date           1197 non-null   object\n",
      " 3   revenue        1197 non-null   int64 \n",
      " 4   group          1197 non-null   object\n",
      "dtypes: int64(3), object(2)\n",
      "memory usage: 46.9+ KB\n"
     ]
    }
   ],
   "source": [
    "#загрузка файла orders и вывод информации\n",
    "orders_old = pd.read_csv('/datasets/orders.csv')\n",
    "display(orders_old)\n",
    "orders_old.info()"
   ]
  },
  {
   "cell_type": "code",
   "execution_count": 7,
   "metadata": {},
   "outputs": [
    {
     "name": "stdout",
     "output_type": "stream",
     "text": [
      "transactionId    0\n",
      "visitorId        0\n",
      "date             0\n",
      "revenue          0\n",
      "group            0\n",
      "dtype: int64\n",
      "\n",
      "Дубликаты 0\n"
     ]
    }
   ],
   "source": [
    "print(orders_old.isna().sum())#проверка на пропуски\n",
    "print()\n",
    "print('Дубликаты', orders_old.duplicated().sum())#проверка на дубликаты"
   ]
  },
  {
   "cell_type": "code",
   "execution_count": 8,
   "metadata": {},
   "outputs": [],
   "source": [
    "# преобразовываем данные столбца data в формат datetime\n",
    "orders_old['date'] = orders_old['date'].map(lambda x: dt.datetime.strptime(x, '%Y-%m-%d'))"
   ]
  },
  {
   "cell_type": "code",
   "execution_count": 9,
   "metadata": {},
   "outputs": [
    {
     "data": {
      "text/html": [
       "<div>\n",
       "<style scoped>\n",
       "    .dataframe tbody tr th:only-of-type {\n",
       "        vertical-align: middle;\n",
       "    }\n",
       "\n",
       "    .dataframe tbody tr th {\n",
       "        vertical-align: top;\n",
       "    }\n",
       "\n",
       "    .dataframe thead th {\n",
       "        text-align: right;\n",
       "    }\n",
       "</style>\n",
       "<table border=\"1\" class=\"dataframe\">\n",
       "  <thead>\n",
       "    <tr style=\"text-align: right;\">\n",
       "      <th></th>\n",
       "      <th>date</th>\n",
       "      <th>group</th>\n",
       "      <th>visitors</th>\n",
       "    </tr>\n",
       "  </thead>\n",
       "  <tbody>\n",
       "    <tr>\n",
       "      <th>0</th>\n",
       "      <td>2019-08-01</td>\n",
       "      <td>A</td>\n",
       "      <td>719</td>\n",
       "    </tr>\n",
       "    <tr>\n",
       "      <th>1</th>\n",
       "      <td>2019-08-02</td>\n",
       "      <td>A</td>\n",
       "      <td>619</td>\n",
       "    </tr>\n",
       "    <tr>\n",
       "      <th>2</th>\n",
       "      <td>2019-08-03</td>\n",
       "      <td>A</td>\n",
       "      <td>507</td>\n",
       "    </tr>\n",
       "    <tr>\n",
       "      <th>3</th>\n",
       "      <td>2019-08-04</td>\n",
       "      <td>A</td>\n",
       "      <td>717</td>\n",
       "    </tr>\n",
       "    <tr>\n",
       "      <th>4</th>\n",
       "      <td>2019-08-05</td>\n",
       "      <td>A</td>\n",
       "      <td>756</td>\n",
       "    </tr>\n",
       "    <tr>\n",
       "      <th>...</th>\n",
       "      <td>...</td>\n",
       "      <td>...</td>\n",
       "      <td>...</td>\n",
       "    </tr>\n",
       "    <tr>\n",
       "      <th>57</th>\n",
       "      <td>2019-08-27</td>\n",
       "      <td>B</td>\n",
       "      <td>720</td>\n",
       "    </tr>\n",
       "    <tr>\n",
       "      <th>58</th>\n",
       "      <td>2019-08-28</td>\n",
       "      <td>B</td>\n",
       "      <td>654</td>\n",
       "    </tr>\n",
       "    <tr>\n",
       "      <th>59</th>\n",
       "      <td>2019-08-29</td>\n",
       "      <td>B</td>\n",
       "      <td>531</td>\n",
       "    </tr>\n",
       "    <tr>\n",
       "      <th>60</th>\n",
       "      <td>2019-08-30</td>\n",
       "      <td>B</td>\n",
       "      <td>490</td>\n",
       "    </tr>\n",
       "    <tr>\n",
       "      <th>61</th>\n",
       "      <td>2019-08-31</td>\n",
       "      <td>B</td>\n",
       "      <td>718</td>\n",
       "    </tr>\n",
       "  </tbody>\n",
       "</table>\n",
       "<p>62 rows × 3 columns</p>\n",
       "</div>"
      ],
      "text/plain": [
       "          date group  visitors\n",
       "0   2019-08-01  A     719     \n",
       "1   2019-08-02  A     619     \n",
       "2   2019-08-03  A     507     \n",
       "3   2019-08-04  A     717     \n",
       "4   2019-08-05  A     756     \n",
       "..         ... ..     ...     \n",
       "57  2019-08-27  B     720     \n",
       "58  2019-08-28  B     654     \n",
       "59  2019-08-29  B     531     \n",
       "60  2019-08-30  B     490     \n",
       "61  2019-08-31  B     718     \n",
       "\n",
       "[62 rows x 3 columns]"
      ]
     },
     "metadata": {},
     "output_type": "display_data"
    },
    {
     "name": "stdout",
     "output_type": "stream",
     "text": [
      "<class 'pandas.core.frame.DataFrame'>\n",
      "RangeIndex: 62 entries, 0 to 61\n",
      "Data columns (total 3 columns):\n",
      " #   Column    Non-Null Count  Dtype \n",
      "---  ------    --------------  ----- \n",
      " 0   date      62 non-null     object\n",
      " 1   group     62 non-null     object\n",
      " 2   visitors  62 non-null     int64 \n",
      "dtypes: int64(1), object(2)\n",
      "memory usage: 1.6+ KB\n"
     ]
    }
   ],
   "source": [
    "#загрузка файла visitors и вывод информации\n",
    "visitors = pd.read_csv('/datasets/visitors.csv')\n",
    "display(visitors)\n",
    "visitors.info()"
   ]
  },
  {
   "cell_type": "code",
   "execution_count": 10,
   "metadata": {},
   "outputs": [],
   "source": [
    "# преобразовываем данные столбца data в формат datetime\n",
    "visitors['date'] = visitors['date'].map(lambda x: dt.datetime.strptime(x, '%Y-%m-%d'))"
   ]
  },
  {
   "cell_type": "code",
   "execution_count": 11,
   "metadata": {
    "scrolled": true
   },
   "outputs": [
    {
     "name": "stdout",
     "output_type": "stream",
     "text": [
      "date        0\n",
      "group       0\n",
      "visitors    0\n",
      "dtype: int64\n",
      "\n",
      "Дубликаты 0\n"
     ]
    }
   ],
   "source": [
    "print(visitors.isna().sum())#проверка на пропуски\n",
    "print()\n",
    "print('Дубликаты', visitors.duplicated().sum())#проверка на дубликаты"
   ]
  },
  {
   "cell_type": "markdown",
   "metadata": {},
   "source": [
    "В данных отсутствуют пропуски и дубликаты, названия столбцов удобны в использовании. Данные столбцов data приведены к корректному формату datetime. Данные готовы для дальнейшего исследования."
   ]
  },
  {
   "cell_type": "markdown",
   "metadata": {},
   "source": [
    "### График кумулятивной выручки по группам"
   ]
  },
  {
   "cell_type": "markdown",
   "metadata": {},
   "source": [
    "Перед анализом А/В-теста проверим, есть ли в данных пользователи, которые входят в обе группы."
   ]
  },
  {
   "cell_type": "code",
   "execution_count": 12,
   "metadata": {},
   "outputs": [
    {
     "data": {
      "text/html": [
       "<div>\n",
       "<style scoped>\n",
       "    .dataframe tbody tr th:only-of-type {\n",
       "        vertical-align: middle;\n",
       "    }\n",
       "\n",
       "    .dataframe tbody tr th {\n",
       "        vertical-align: top;\n",
       "    }\n",
       "\n",
       "    .dataframe thead th {\n",
       "        text-align: right;\n",
       "    }\n",
       "</style>\n",
       "<table border=\"1\" class=\"dataframe\">\n",
       "  <thead>\n",
       "    <tr style=\"text-align: right;\">\n",
       "      <th></th>\n",
       "      <th>visitorId</th>\n",
       "      <th>group</th>\n",
       "    </tr>\n",
       "  </thead>\n",
       "  <tbody>\n",
       "    <tr>\n",
       "      <th>703</th>\n",
       "      <td>8300375</td>\n",
       "      <td>A</td>\n",
       "    </tr>\n",
       "    <tr>\n",
       "      <th>71</th>\n",
       "      <td>8300375</td>\n",
       "      <td>B</td>\n",
       "    </tr>\n",
       "    <tr>\n",
       "      <th>26</th>\n",
       "      <td>199603092</td>\n",
       "      <td>A</td>\n",
       "    </tr>\n",
       "    <tr>\n",
       "      <th>246</th>\n",
       "      <td>199603092</td>\n",
       "      <td>B</td>\n",
       "    </tr>\n",
       "    <tr>\n",
       "      <th>1013</th>\n",
       "      <td>232979603</td>\n",
       "      <td>A</td>\n",
       "    </tr>\n",
       "    <tr>\n",
       "      <th>...</th>\n",
       "      <td>...</td>\n",
       "      <td>...</td>\n",
       "    </tr>\n",
       "    <tr>\n",
       "      <th>814</th>\n",
       "      <td>4186807279</td>\n",
       "      <td>B</td>\n",
       "    </tr>\n",
       "    <tr>\n",
       "      <th>114</th>\n",
       "      <td>4256040402</td>\n",
       "      <td>A</td>\n",
       "    </tr>\n",
       "    <tr>\n",
       "      <th>60</th>\n",
       "      <td>4256040402</td>\n",
       "      <td>B</td>\n",
       "    </tr>\n",
       "    <tr>\n",
       "      <th>662</th>\n",
       "      <td>4266935830</td>\n",
       "      <td>A</td>\n",
       "    </tr>\n",
       "    <tr>\n",
       "      <th>682</th>\n",
       "      <td>4266935830</td>\n",
       "      <td>B</td>\n",
       "    </tr>\n",
       "  </tbody>\n",
       "</table>\n",
       "<p>116 rows × 2 columns</p>\n",
       "</div>"
      ],
      "text/plain": [
       "       visitorId group\n",
       "703   8300375     A   \n",
       "71    8300375     B   \n",
       "26    199603092   A   \n",
       "246   199603092   B   \n",
       "1013  232979603   A   \n",
       "...         ...  ..   \n",
       "814   4186807279  B   \n",
       "114   4256040402  A   \n",
       "60    4256040402  B   \n",
       "662   4266935830  A   \n",
       "682   4266935830  B   \n",
       "\n",
       "[116 rows x 2 columns]"
      ]
     },
     "metadata": {},
     "output_type": "display_data"
    }
   ],
   "source": [
    "user_group = orders_old[['visitorId','group']].drop_duplicates()#сформируем таблицу с уникальными пользователями по группам\n",
    "#проверим наличие дубликатов среди всех групп\n",
    "ids = user_group['visitorId']\n",
    "user_dublicat = user_group[ids.isin(ids[ids.duplicated()])].sort_values(\"visitorId\")\n",
    "display(user_dublicat)"
   ]
  },
  {
   "cell_type": "markdown",
   "metadata": {},
   "source": [
    "Найдено 58 пользователей, которые занесены как в группу А, так и в группу В. Для дальнейшего анализа удалим данных пользователей.\n"
   ]
  },
  {
   "cell_type": "code",
   "execution_count": 13,
   "metadata": {},
   "outputs": [
    {
     "name": "stdout",
     "output_type": "stream",
     "text": [
      "transactionId    181\n",
      "visitorId        181\n",
      "date             181\n",
      "revenue          181\n",
      "group            181\n",
      "dtype: int64\n"
     ]
    }
   ],
   "source": [
    "# проверим сколько записей по данным пользователям\n",
    "user = user_dublicat['visitorId']\n",
    "print(orders_old.query('visitorId in @user').count())"
   ]
  },
  {
   "cell_type": "markdown",
   "metadata": {},
   "source": [
    "Найдена 181 запись с данными пользователями, эта информация необходима для проверки корректности удаления."
   ]
  },
  {
   "cell_type": "code",
   "execution_count": 14,
   "metadata": {},
   "outputs": [
    {
     "data": {
      "text/html": [
       "<div>\n",
       "<style scoped>\n",
       "    .dataframe tbody tr th:only-of-type {\n",
       "        vertical-align: middle;\n",
       "    }\n",
       "\n",
       "    .dataframe tbody tr th {\n",
       "        vertical-align: top;\n",
       "    }\n",
       "\n",
       "    .dataframe thead th {\n",
       "        text-align: right;\n",
       "    }\n",
       "</style>\n",
       "<table border=\"1\" class=\"dataframe\">\n",
       "  <thead>\n",
       "    <tr style=\"text-align: right;\">\n",
       "      <th></th>\n",
       "      <th>transactionId</th>\n",
       "      <th>visitorId</th>\n",
       "      <th>date</th>\n",
       "      <th>revenue</th>\n",
       "      <th>group</th>\n",
       "    </tr>\n",
       "  </thead>\n",
       "  <tbody>\n",
       "    <tr>\n",
       "      <th>0</th>\n",
       "      <td>3667963787</td>\n",
       "      <td>3312258926</td>\n",
       "      <td>2019-08-15</td>\n",
       "      <td>1650</td>\n",
       "      <td>B</td>\n",
       "    </tr>\n",
       "    <tr>\n",
       "      <th>1</th>\n",
       "      <td>2804400009</td>\n",
       "      <td>3642806036</td>\n",
       "      <td>2019-08-15</td>\n",
       "      <td>730</td>\n",
       "      <td>B</td>\n",
       "    </tr>\n",
       "    <tr>\n",
       "      <th>3</th>\n",
       "      <td>3797467345</td>\n",
       "      <td>1196621759</td>\n",
       "      <td>2019-08-15</td>\n",
       "      <td>9759</td>\n",
       "      <td>B</td>\n",
       "    </tr>\n",
       "    <tr>\n",
       "      <th>4</th>\n",
       "      <td>2282983706</td>\n",
       "      <td>2322279887</td>\n",
       "      <td>2019-08-15</td>\n",
       "      <td>2308</td>\n",
       "      <td>B</td>\n",
       "    </tr>\n",
       "    <tr>\n",
       "      <th>5</th>\n",
       "      <td>182168103</td>\n",
       "      <td>935554773</td>\n",
       "      <td>2019-08-15</td>\n",
       "      <td>2210</td>\n",
       "      <td>B</td>\n",
       "    </tr>\n",
       "    <tr>\n",
       "      <th>...</th>\n",
       "      <td>...</td>\n",
       "      <td>...</td>\n",
       "      <td>...</td>\n",
       "      <td>...</td>\n",
       "      <td>...</td>\n",
       "    </tr>\n",
       "    <tr>\n",
       "      <th>1191</th>\n",
       "      <td>3592955527</td>\n",
       "      <td>608641596</td>\n",
       "      <td>2019-08-14</td>\n",
       "      <td>16490</td>\n",
       "      <td>B</td>\n",
       "    </tr>\n",
       "    <tr>\n",
       "      <th>1192</th>\n",
       "      <td>2662137336</td>\n",
       "      <td>3733762160</td>\n",
       "      <td>2019-08-14</td>\n",
       "      <td>6490</td>\n",
       "      <td>B</td>\n",
       "    </tr>\n",
       "    <tr>\n",
       "      <th>1193</th>\n",
       "      <td>2203539145</td>\n",
       "      <td>370388673</td>\n",
       "      <td>2019-08-14</td>\n",
       "      <td>3190</td>\n",
       "      <td>A</td>\n",
       "    </tr>\n",
       "    <tr>\n",
       "      <th>1194</th>\n",
       "      <td>1807773912</td>\n",
       "      <td>573423106</td>\n",
       "      <td>2019-08-14</td>\n",
       "      <td>10550</td>\n",
       "      <td>A</td>\n",
       "    </tr>\n",
       "    <tr>\n",
       "      <th>1196</th>\n",
       "      <td>3936777065</td>\n",
       "      <td>2108080724</td>\n",
       "      <td>2019-08-15</td>\n",
       "      <td>202740</td>\n",
       "      <td>B</td>\n",
       "    </tr>\n",
       "  </tbody>\n",
       "</table>\n",
       "<p>1016 rows × 5 columns</p>\n",
       "</div>"
      ],
      "text/plain": [
       "      transactionId   visitorId       date  revenue group\n",
       "0     3667963787     3312258926 2019-08-15  1650     B   \n",
       "1     2804400009     3642806036 2019-08-15  730      B   \n",
       "3     3797467345     1196621759 2019-08-15  9759     B   \n",
       "4     2282983706     2322279887 2019-08-15  2308     B   \n",
       "5     182168103      935554773  2019-08-15  2210     B   \n",
       "...         ...            ...         ...   ...    ..   \n",
       "1191  3592955527     608641596  2019-08-14  16490    B   \n",
       "1192  2662137336     3733762160 2019-08-14  6490     B   \n",
       "1193  2203539145     370388673  2019-08-14  3190     A   \n",
       "1194  1807773912     573423106  2019-08-14  10550    A   \n",
       "1196  3936777065     2108080724 2019-08-15  202740   B   \n",
       "\n",
       "[1016 rows x 5 columns]"
      ]
     },
     "metadata": {},
     "output_type": "display_data"
    }
   ],
   "source": [
    "# удалим пользователей, которые занесены в обе группы\n",
    "user = user_dublicat['visitorId']\n",
    "orders = orders_old.query('visitorId not in @user')\n",
    "display(orders)"
   ]
  },
  {
   "cell_type": "markdown",
   "metadata": {},
   "source": [
    "В таблице осталось 1016 записей, что говорит о корректном удалении дублирующихся для обеих групп пользователей."
   ]
  },
  {
   "cell_type": "code",
   "execution_count": 15,
   "metadata": {},
   "outputs": [],
   "source": [
    "# создаем массив уникальных пар значений дат и групп теста\n",
    "datesGroups = orders[['date','group']].drop_duplicates()"
   ]
  },
  {
   "cell_type": "code",
   "execution_count": 16,
   "metadata": {},
   "outputs": [],
   "source": [
    "# получаем агрегированные кумулятивные по дням данные о заказах \n",
    "ordersAggregated = datesGroups.apply(\n",
    "    lambda x: orders[\n",
    "        np.logical_and(\n",
    "            orders['date'] <= x['date'], orders['group'] == x['group']\n",
    "        )\n",
    "    ].agg(\n",
    "        {\n",
    "            'date': 'max',\n",
    "            'group': 'max',\n",
    "            'transactionId': 'nunique',\n",
    "            'visitorId': 'nunique',\n",
    "            'revenue': 'sum',\n",
    "        }\n",
    "    ),\n",
    "    axis=1,\n",
    ").sort_values(by=['date', 'group'])\n",
    "\n",
    "# получаем агрегированные кумулятивные по дням данные о посетителях интернет-магазина \n",
    "visitorsAggregated = datesGroups.apply(\n",
    "    lambda x: visitors[\n",
    "        np.logical_and(\n",
    "            visitors['date'] <= x['date'], visitors['group'] == x['group']\n",
    "        )\n",
    "    ].agg(\n",
    "        {\n",
    "            'date': 'max', \n",
    "            'group': 'max', \n",
    "            'visitors': 'sum',\n",
    "        }\n",
    "    ),\n",
    "    axis=1,\n",
    ").sort_values(by=['date', 'group'])"
   ]
  },
  {
   "cell_type": "code",
   "execution_count": 17,
   "metadata": {
    "scrolled": false
   },
   "outputs": [
    {
     "data": {
      "text/html": [
       "<div>\n",
       "<style scoped>\n",
       "    .dataframe tbody tr th:only-of-type {\n",
       "        vertical-align: middle;\n",
       "    }\n",
       "\n",
       "    .dataframe tbody tr th {\n",
       "        vertical-align: top;\n",
       "    }\n",
       "\n",
       "    .dataframe thead th {\n",
       "        text-align: right;\n",
       "    }\n",
       "</style>\n",
       "<table border=\"1\" class=\"dataframe\">\n",
       "  <thead>\n",
       "    <tr style=\"text-align: right;\">\n",
       "      <th></th>\n",
       "      <th>date</th>\n",
       "      <th>group</th>\n",
       "      <th>orders</th>\n",
       "      <th>buyers</th>\n",
       "      <th>revenue</th>\n",
       "      <th>visitors</th>\n",
       "    </tr>\n",
       "  </thead>\n",
       "  <tbody>\n",
       "    <tr>\n",
       "      <th>0</th>\n",
       "      <td>2019-08-01</td>\n",
       "      <td>A</td>\n",
       "      <td>23</td>\n",
       "      <td>19</td>\n",
       "      <td>142779</td>\n",
       "      <td>719</td>\n",
       "    </tr>\n",
       "    <tr>\n",
       "      <th>1</th>\n",
       "      <td>2019-08-01</td>\n",
       "      <td>B</td>\n",
       "      <td>17</td>\n",
       "      <td>17</td>\n",
       "      <td>59758</td>\n",
       "      <td>713</td>\n",
       "    </tr>\n",
       "    <tr>\n",
       "      <th>2</th>\n",
       "      <td>2019-08-02</td>\n",
       "      <td>A</td>\n",
       "      <td>42</td>\n",
       "      <td>36</td>\n",
       "      <td>234381</td>\n",
       "      <td>1338</td>\n",
       "    </tr>\n",
       "    <tr>\n",
       "      <th>3</th>\n",
       "      <td>2019-08-02</td>\n",
       "      <td>B</td>\n",
       "      <td>40</td>\n",
       "      <td>39</td>\n",
       "      <td>221801</td>\n",
       "      <td>1294</td>\n",
       "    </tr>\n",
       "    <tr>\n",
       "      <th>4</th>\n",
       "      <td>2019-08-03</td>\n",
       "      <td>A</td>\n",
       "      <td>66</td>\n",
       "      <td>60</td>\n",
       "      <td>346854</td>\n",
       "      <td>1845</td>\n",
       "    </tr>\n",
       "    <tr>\n",
       "      <th>...</th>\n",
       "      <td>...</td>\n",
       "      <td>...</td>\n",
       "      <td>...</td>\n",
       "      <td>...</td>\n",
       "      <td>...</td>\n",
       "      <td>...</td>\n",
       "    </tr>\n",
       "    <tr>\n",
       "      <th>57</th>\n",
       "      <td>2019-08-29</td>\n",
       "      <td>B</td>\n",
       "      <td>510</td>\n",
       "      <td>490</td>\n",
       "      <td>4746610</td>\n",
       "      <td>17708</td>\n",
       "    </tr>\n",
       "    <tr>\n",
       "      <th>58</th>\n",
       "      <td>2019-08-30</td>\n",
       "      <td>A</td>\n",
       "      <td>460</td>\n",
       "      <td>437</td>\n",
       "      <td>3311413</td>\n",
       "      <td>18037</td>\n",
       "    </tr>\n",
       "    <tr>\n",
       "      <th>59</th>\n",
       "      <td>2019-08-30</td>\n",
       "      <td>B</td>\n",
       "      <td>531</td>\n",
       "      <td>511</td>\n",
       "      <td>4955833</td>\n",
       "      <td>18198</td>\n",
       "    </tr>\n",
       "    <tr>\n",
       "      <th>60</th>\n",
       "      <td>2019-08-31</td>\n",
       "      <td>A</td>\n",
       "      <td>468</td>\n",
       "      <td>445</td>\n",
       "      <td>3364656</td>\n",
       "      <td>18736</td>\n",
       "    </tr>\n",
       "    <tr>\n",
       "      <th>61</th>\n",
       "      <td>2019-08-31</td>\n",
       "      <td>B</td>\n",
       "      <td>548</td>\n",
       "      <td>528</td>\n",
       "      <td>5068972</td>\n",
       "      <td>18916</td>\n",
       "    </tr>\n",
       "  </tbody>\n",
       "</table>\n",
       "<p>62 rows × 6 columns</p>\n",
       "</div>"
      ],
      "text/plain": [
       "         date group  orders  buyers  revenue  visitors\n",
       "0  2019-08-01  A     23      19      142779   719     \n",
       "1  2019-08-01  B     17      17      59758    713     \n",
       "2  2019-08-02  A     42      36      234381   1338    \n",
       "3  2019-08-02  B     40      39      221801   1294    \n",
       "4  2019-08-03  A     66      60      346854   1845    \n",
       "..        ... ..     ..      ..         ...    ...    \n",
       "57 2019-08-29  B     510     490     4746610  17708   \n",
       "58 2019-08-30  A     460     437     3311413  18037   \n",
       "59 2019-08-30  B     531     511     4955833  18198   \n",
       "60 2019-08-31  A     468     445     3364656  18736   \n",
       "61 2019-08-31  B     548     528     5068972  18916   \n",
       "\n",
       "[62 rows x 6 columns]"
      ]
     },
     "metadata": {},
     "output_type": "display_data"
    }
   ],
   "source": [
    "# объединяем кумулятивные данные в одной таблице и присваиваем ее столбцам понятные названия\n",
    "cumulativeData = ordersAggregated.merge(visitorsAggregated, left_on=['date', 'group'], right_on=['date', 'group'])\n",
    "cumulativeData.columns = ['date', 'group', 'orders', 'buyers', 'revenue', 'visitors']\n",
    "\n",
    "display(cumulativeData) "
   ]
  },
  {
   "cell_type": "code",
   "execution_count": 18,
   "metadata": {},
   "outputs": [],
   "source": [
    "# датафрейм с кумулятивным количеством заказов и кумулятивной выручкой по дням в группе А\n",
    "cumulativeRevenueA = cumulativeData[cumulativeData['group']=='A'][['date','revenue', 'orders']]\n",
    "\n",
    "# датафрейм с кумулятивным количеством заказов и кумулятивной выручкой по дням в группе B\n",
    "cumulativeRevenueB = cumulativeData[cumulativeData['group']=='B'][['date','revenue', 'orders']]"
   ]
  },
  {
   "cell_type": "code",
   "execution_count": 19,
   "metadata": {},
   "outputs": [
    {
     "data": {
      "text/plain": [
       "<matplotlib.legend.Legend at 0x7fd90719ae80>"
      ]
     },
     "execution_count": 19,
     "metadata": {},
     "output_type": "execute_result"
    },
    {
     "data": {
      "image/png": "[encoded data removed]",
      "text/plain": [
       "<Figure size 432x288 with 1 Axes>"
      ]
     },
     "metadata": {
      "needs_background": "light"
     },
     "output_type": "display_data"
    }
   ],
   "source": [
    "# Строим график выручки группы А\n",
    "plt.plot(cumulativeRevenueA['date'], cumulativeRevenueA['revenue'], label='A')\n",
    "\n",
    "# Строим график выручки группы B\n",
    "plt.plot(cumulativeRevenueB['date'], cumulativeRevenueB['revenue'], label='B')\n",
    "plt.ylabel('Выручка, руб')\n",
    "plt.title('График кумулятивной выручки по группам')\n",
    "plt.xticks(rotation = 45)\n",
    "plt.legend() "
   ]
  },
  {
   "cell_type": "markdown",
   "metadata": {},
   "source": [
    "В обеих группах выручка растет в течение всего теста, что хорошо. В группе B имеется точка резкого роста, из-за чего выручка в этой группе стала значительно больше, чем в группе А. Это может сигнализировать о всплесках числа заказов, либо о появлении очень дорогих заказов в выборке."
   ]
  },
  {
   "cell_type": "markdown",
   "metadata": {},
   "source": [
    "### График кумулятивного среднего чека по группам"
   ]
  },
  {
   "cell_type": "code",
   "execution_count": 20,
   "metadata": {},
   "outputs": [
    {
     "data": {
      "text/plain": [
       "<matplotlib.legend.Legend at 0x7fd8fedd8a60>"
      ]
     },
     "execution_count": 20,
     "metadata": {},
     "output_type": "execute_result"
    },
    {
     "data": {
      "image/png": "[encoded data removed]",
      "text/plain": [
       "<Figure size 432x288 with 1 Axes>"
      ]
     },
     "metadata": {
      "needs_background": "light"
     },
     "output_type": "display_data"
    }
   ],
   "source": [
    "# Строим графики среднего чека по группами\n",
    "plt.plot(cumulativeRevenueA['date'], cumulativeRevenueA['revenue']/cumulativeRevenueA['orders'], label='A')\n",
    "plt.plot(cumulativeRevenueB['date'], cumulativeRevenueB['revenue']/cumulativeRevenueB['orders'], label='B')\n",
    "plt.ylabel('Средний чек, руб')\n",
    "plt.title('График кумулятивного среднего чека по группам')\n",
    "plt.xticks(rotation = 45)\n",
    "plt.legend()"
   ]
  },
  {
   "cell_type": "markdown",
   "metadata": {},
   "source": [
    "В обеих группах имеет место рост среднего чека. В группе B наблюдается значительный скачок, который мы также видели на предыдущем графике."
   ]
  },
  {
   "cell_type": "markdown",
   "metadata": {},
   "source": [
    "### График относительного изменения кумулятивного среднего чека группы B к группе A"
   ]
  },
  {
   "cell_type": "code",
   "execution_count": 21,
   "metadata": {},
   "outputs": [
    {
     "data": {
      "text/plain": [
       "<matplotlib.lines.Line2D at 0x7fd8fed0e670>"
      ]
     },
     "execution_count": 21,
     "metadata": {},
     "output_type": "execute_result"
    },
    {
     "data": {
      "image/png": "[encoded data removed]",
      "text/plain": [
       "<Figure size 432x288 with 1 Axes>"
      ]
     },
     "metadata": {
      "needs_background": "light"
     },
     "output_type": "display_data"
    }
   ],
   "source": [
    "# собираем график относительного изменения кумулятивного среднего чека группы B к группе A\n",
    "# собираем данные в одном датафрейме\n",
    "mergedCumulativeRevenue = (\n",
    "    cumulativeRevenueA.\n",
    "    merge(cumulativeRevenueB, left_on='date', right_on='date', how='left', suffixes=['A', 'B'])\n",
    ")\n",
    "# cтроим отношение средних чеков\n",
    "plt.plot(mergedCumulativeRevenue['date'], \n",
    "         (mergedCumulativeRevenue['revenueB']/mergedCumulativeRevenue['ordersB'])/\n",
    "         (mergedCumulativeRevenue['revenueA']/mergedCumulativeRevenue['ordersA'])-1, \n",
    "         label='Относительный прирост среднего чека группы B относительно группы A')\n",
    "plt.ylabel('Отношение среднего чека')\n",
    "plt.title('Относительное изменения кумулятивного среднего чека группы B к группе A')\n",
    "plt.xticks(rotation = 45)\n",
    "plt.legend()\n",
    "\n",
    "# добавляем ось X\n",
    "plt.axhline(y=0, color='black', linestyle='--') "
   ]
  },
  {
   "cell_type": "markdown",
   "metadata": {},
   "source": [
    "График различий среднего чека очень колеблется, что говорит о имеющихся аномалиях."
   ]
  },
  {
   "cell_type": "markdown",
   "metadata": {},
   "source": [
    "### График кумулятивной конверсии по группам"
   ]
  },
  {
   "cell_type": "code",
   "execution_count": 22,
   "metadata": {},
   "outputs": [
    {
     "data": {
      "text/plain": [
       "(18109.0, 18140.0, 0.0, 0.05)"
      ]
     },
     "execution_count": 22,
     "metadata": {},
     "output_type": "execute_result"
    },
    {
     "data": {
      "image/png": "[encoded data removed]",
      "text/plain": [
       "<Figure size 432x288 with 1 Axes>"
      ]
     },
     "metadata": {
      "needs_background": "light"
     },
     "output_type": "display_data"
    }
   ],
   "source": [
    "# считаем кумулятивную конверсию\n",
    "cumulativeData['conversion'] = cumulativeData['orders']/cumulativeData['visitors']\n",
    "\n",
    "# отделяем данные по группе A\n",
    "cumulativeDataA = cumulativeData[cumulativeData['group']=='A']\n",
    "\n",
    "# отделяем данные по группе B\n",
    "cumulativeDataB = cumulativeData[cumulativeData['group']=='B']\n",
    "\n",
    "# строим графики\n",
    "plt.plot(cumulativeDataA['date'], cumulativeDataA['conversion'], label='A')\n",
    "plt.plot(cumulativeDataB['date'], cumulativeDataB['conversion'], label='B')\n",
    "plt.ylabel('Конверсия')\n",
    "plt.title('График кумулятивной конверсии по группам')\n",
    "plt.xticks(rotation = 45)\n",
    "plt.legend()\n",
    "\n",
    "# задаем масштаб осей\n",
    "plt.axis([dt.datetime(2019, 8, 1), dt.datetime(2019, 9, 1), 0, 0.05]) "
   ]
  },
  {
   "cell_type": "markdown",
   "metadata": {},
   "source": [
    "Графики конверсии стабилизировались для обоих групп. Конверсия группы В выше конверсии группы А, хотя в начале теста некоторое время конверсия в группе А лидировала."
   ]
  },
  {
   "cell_type": "markdown",
   "metadata": {},
   "source": [
    "### График относительного изменения кумулятивной конверсии группы B к группе A"
   ]
  },
  {
   "cell_type": "code",
   "execution_count": 23,
   "metadata": {},
   "outputs": [
    {
     "data": {
      "text/plain": [
       "(18109.0, 18139.0, -0.5, 0.5)"
      ]
     },
     "execution_count": 23,
     "metadata": {},
     "output_type": "execute_result"
    },
    {
     "data": {
      "image/png": "[encoded data removed]",
      "text/plain": [
       "<Figure size 432x288 with 1 Axes>"
      ]
     },
     "metadata": {
      "needs_background": "light"
     },
     "output_type": "display_data"
    }
   ],
   "source": [
    "# Построим график относительного изменения кумулятивной конверсии группы B к группе A\n",
    "mergedCumulativeConversions = (\n",
    "    cumulativeDataA[['date','conversion']]\n",
    "    .merge(cumulativeDataB[['date','conversion']], left_on='date', right_on='date', how='left', suffixes=['A', 'B'])\n",
    ")\n",
    "plt.plot(mergedCumulativeConversions['date'], mergedCumulativeConversions['conversionB']/mergedCumulativeConversions['conversionA']-1, label=\"Относительный прирост конверсии группы B относительно группы A\")\n",
    "plt.ylabel('Отношение кумулятивной конверсии')\n",
    "plt.title('Относительное изменение кумулятивной конверсии группы B к группе A')\n",
    "plt.xticks(rotation = 45)\n",
    "plt.legend(loc='lower left')\n",
    "\n",
    "plt.axhline(y=0, color='black', linestyle='--')\n",
    "plt.axhline(y=0.2, color='grey', linestyle='--')\n",
    "plt.axis([mergedCumulativeConversions['date'].min(), mergedCumulativeConversions['date'].max(), -0.5, 0.5]) "
   ]
  },
  {
   "cell_type": "markdown",
   "metadata": {},
   "source": [
    "Лишь в начале проведения тест конверсия группы В была ниже чем группы А, после чего конверсия в группе В обогнала конверсию в группе А и стабилизировалась."
   ]
  },
  {
   "cell_type": "markdown",
   "metadata": {},
   "source": [
    "### Точечный график количества заказов по пользователям"
   ]
  },
  {
   "cell_type": "code",
   "execution_count": 24,
   "metadata": {},
   "outputs": [
    {
     "data": {
      "text/plain": [
       "Text(0.5, 1.0, 'График количества заказов по пользователям')"
      ]
     },
     "execution_count": 24,
     "metadata": {},
     "output_type": "execute_result"
    },
    {
     "data": {
      "image/png": "[encoded data removed]",
      "text/plain": [
       "<Figure size 432x288 with 1 Axes>"
      ]
     },
     "metadata": {
      "needs_background": "light"
     },
     "output_type": "display_data"
    }
   ],
   "source": [
    "#соберем таблицу количества заказов по пользователям\n",
    "ordersByUsers = (\n",
    "    orders.groupby('visitorId', as_index=False)\n",
    "    .agg({'transactionId': 'nunique'})\n",
    ")\n",
    "\n",
    "ordersByUsers.columns = ['visitorId', 'orders']\n",
    "\n",
    "# построим точечный график количества заказов по пользователям\n",
    "x_values = pd.Series(range(0,len(ordersByUsers)))\n",
    "plt.scatter(x_values, ordersByUsers['orders']) \n",
    "plt.ylabel('Количество заказов, шт')\n",
    "plt.xlabel('Пользователи')\n",
    "plt.title('График количества заказов по пользователям')"
   ]
  },
  {
   "cell_type": "markdown",
   "metadata": {},
   "source": [
    "Количество заказов составляет 1-3, явные аномалии отсутствуют. Количество пользователей с 3-мя заказами достаточно мало, но для корректного определения верхней границы количества заказов рассчитаем 95-й и 99-й перцентиль."
   ]
  },
  {
   "cell_type": "markdown",
   "metadata": {},
   "source": [
    "### 95-й и 99-й перцентили количества заказов на пользователя"
   ]
  },
  {
   "cell_type": "code",
   "execution_count": 25,
   "metadata": {},
   "outputs": [
    {
     "name": "stdout",
     "output_type": "stream",
     "text": [
      "[1. 2.]\n"
     ]
    }
   ],
   "source": [
    "# посчитаем 95-й и 99-й перцентили количества заказов на пользователя\n",
    "print(np.percentile(ordersByUsers['orders'], [95, 99]))"
   ]
  },
  {
   "cell_type": "markdown",
   "metadata": {},
   "source": [
    "Не более 5% пользователей оформляли больше одного раза. И только 1% пользователей заказывали более 2 раз. Разумно выбрать 2 заказа на одного пользователя за верхнюю границу числа заказов, и отсеять аномальных пользователей по ней."
   ]
  },
  {
   "cell_type": "markdown",
   "metadata": {},
   "source": [
    "### Точечный график стоимостей заказов"
   ]
  },
  {
   "cell_type": "code",
   "execution_count": 26,
   "metadata": {},
   "outputs": [
    {
     "data": {
      "text/plain": [
       "Text(0.5, 1.0, 'График стоимостей заказов')"
      ]
     },
     "execution_count": 26,
     "metadata": {},
     "output_type": "execute_result"
    },
    {
     "data": {
      "image/png": "[encoded data removed]",
      "text/plain": [
       "<Figure size 432x288 with 1 Axes>"
      ]
     },
     "metadata": {
      "needs_background": "light"
     },
     "output_type": "display_data"
    }
   ],
   "source": [
    "# построим точечный график стоимостей заказов\n",
    "x_values = pd.Series(range(0, len(orders['revenue'])))\n",
    "plt.scatter(x_values, orders['revenue'])\n",
    "plt.ylabel('Стоимость заказов, руб')\n",
    "plt.xlabel('Пользователи')\n",
    "plt.title('График стоимостей заказов')"
   ]
  },
  {
   "cell_type": "markdown",
   "metadata": {},
   "source": [
    "На графике видно, что имеет место много недорогих заказов. Из графика сложно выбрать границу аномальных заказов, поэтому для наглядности отсечем явные аномалии, увеличив масштаб графика. "
   ]
  },
  {
   "cell_type": "code",
   "execution_count": 27,
   "metadata": {},
   "outputs": [
    {
     "data": {
      "text/plain": [
       "Text(0.5, 1.0, 'График стоимостей заказов')"
      ]
     },
     "execution_count": 27,
     "metadata": {},
     "output_type": "execute_result"
    },
    {
     "data": {
      "image/png": "[encoded data removed]",
      "text/plain": [
       "<Figure size 432x288 with 1 Axes>"
      ]
     },
     "metadata": {
      "needs_background": "light"
     },
     "output_type": "display_data"
    }
   ],
   "source": [
    "# построим точечный график стоимостей заказов\n",
    "x_values = pd.Series(range(0, len(orders['revenue'])))\n",
    "plt.scatter(x_values, orders['revenue'])\n",
    "plt.ylim([0, 120000])\n",
    "plt.ylabel('Стоимость заказов, руб')\n",
    "plt.xlabel('Пользователи')\n",
    "plt.title('График стоимостей заказов')"
   ]
  },
  {
   "cell_type": "markdown",
   "metadata": {},
   "source": [
    "Теперь на графике видно, что большинсво заказов не превышают сумму в 40000 руб. Для более точного определения аномалий рассчитаем 95-й и 99-й перцентили стоимости заказов."
   ]
  },
  {
   "cell_type": "markdown",
   "metadata": {},
   "source": [
    "### 95-й и 99-й перцентили стоимости заказов"
   ]
  },
  {
   "cell_type": "code",
   "execution_count": 28,
   "metadata": {},
   "outputs": [
    {
     "name": "stdout",
     "output_type": "stream",
     "text": [
      "[26785. 53904.]\n"
     ]
    }
   ],
   "source": [
    "# посчитаем 95-й и 99-й перцентили стоимости заказов\n",
    "print(np.percentile(orders['revenue'], [95, 99])) "
   ]
  },
  {
   "cell_type": "markdown",
   "metadata": {},
   "source": [
    "Не более 5% пользователей оформляли больше чем на 26785 рублей. И только 1% пользователей заказывали больше чем на 53904 рублей. Разумно выбрать за верхнюю границу стоимости заказа 35000 рублей и отсеять аномальных пользователей по ней."
   ]
  },
  {
   "cell_type": "markdown",
   "metadata": {},
   "source": [
    " ### Статистическая значимость различий в конверсии между группами по «сырым» данным"
   ]
  },
  {
   "cell_type": "code",
   "execution_count": 29,
   "metadata": {},
   "outputs": [
    {
     "data": {
      "text/html": [
       "<div>\n",
       "<style scoped>\n",
       "    .dataframe tbody tr th:only-of-type {\n",
       "        vertical-align: middle;\n",
       "    }\n",
       "\n",
       "    .dataframe tbody tr th {\n",
       "        vertical-align: top;\n",
       "    }\n",
       "\n",
       "    .dataframe thead th {\n",
       "        text-align: right;\n",
       "    }\n",
       "</style>\n",
       "<table border=\"1\" class=\"dataframe\">\n",
       "  <thead>\n",
       "    <tr style=\"text-align: right;\">\n",
       "      <th></th>\n",
       "      <th>date</th>\n",
       "      <th>ordersPerDateA</th>\n",
       "      <th>revenuePerDateA</th>\n",
       "      <th>ordersPerDateB</th>\n",
       "      <th>revenuePerDateB</th>\n",
       "      <th>ordersCummulativeA</th>\n",
       "      <th>revenueCummulativeA</th>\n",
       "      <th>ordersCummulativeB</th>\n",
       "      <th>revenueCummulativeB</th>\n",
       "      <th>visitorsPerDateA</th>\n",
       "      <th>visitorsPerDateB</th>\n",
       "      <th>visitorsCummulativeA</th>\n",
       "      <th>visitorsCummulativeB</th>\n",
       "    </tr>\n",
       "  </thead>\n",
       "  <tbody>\n",
       "    <tr>\n",
       "      <th>0</th>\n",
       "      <td>2019-08-01</td>\n",
       "      <td>23</td>\n",
       "      <td>142779</td>\n",
       "      <td>17</td>\n",
       "      <td>59758</td>\n",
       "      <td>23</td>\n",
       "      <td>142779</td>\n",
       "      <td>17</td>\n",
       "      <td>59758</td>\n",
       "      <td>719</td>\n",
       "      <td>713</td>\n",
       "      <td>719</td>\n",
       "      <td>713</td>\n",
       "    </tr>\n",
       "    <tr>\n",
       "      <th>1</th>\n",
       "      <td>2019-08-02</td>\n",
       "      <td>19</td>\n",
       "      <td>91602</td>\n",
       "      <td>23</td>\n",
       "      <td>162043</td>\n",
       "      <td>42</td>\n",
       "      <td>234381</td>\n",
       "      <td>40</td>\n",
       "      <td>221801</td>\n",
       "      <td>619</td>\n",
       "      <td>581</td>\n",
       "      <td>1338</td>\n",
       "      <td>1294</td>\n",
       "    </tr>\n",
       "    <tr>\n",
       "      <th>2</th>\n",
       "      <td>2019-08-03</td>\n",
       "      <td>24</td>\n",
       "      <td>112473</td>\n",
       "      <td>14</td>\n",
       "      <td>67049</td>\n",
       "      <td>66</td>\n",
       "      <td>346854</td>\n",
       "      <td>54</td>\n",
       "      <td>288850</td>\n",
       "      <td>507</td>\n",
       "      <td>509</td>\n",
       "      <td>1845</td>\n",
       "      <td>1803</td>\n",
       "    </tr>\n",
       "    <tr>\n",
       "      <th>3</th>\n",
       "      <td>2019-08-04</td>\n",
       "      <td>11</td>\n",
       "      <td>41176</td>\n",
       "      <td>14</td>\n",
       "      <td>96890</td>\n",
       "      <td>77</td>\n",
       "      <td>388030</td>\n",
       "      <td>68</td>\n",
       "      <td>385740</td>\n",
       "      <td>717</td>\n",
       "      <td>770</td>\n",
       "      <td>2562</td>\n",
       "      <td>2573</td>\n",
       "    </tr>\n",
       "    <tr>\n",
       "      <th>4</th>\n",
       "      <td>2019-08-05</td>\n",
       "      <td>22</td>\n",
       "      <td>86383</td>\n",
       "      <td>21</td>\n",
       "      <td>89908</td>\n",
       "      <td>99</td>\n",
       "      <td>474413</td>\n",
       "      <td>89</td>\n",
       "      <td>475648</td>\n",
       "      <td>756</td>\n",
       "      <td>707</td>\n",
       "      <td>3318</td>\n",
       "      <td>3280</td>\n",
       "    </tr>\n",
       "    <tr>\n",
       "      <th>5</th>\n",
       "      <td>2019-08-06</td>\n",
       "      <td>15</td>\n",
       "      <td>40919</td>\n",
       "      <td>23</td>\n",
       "      <td>214842</td>\n",
       "      <td>114</td>\n",
       "      <td>515332</td>\n",
       "      <td>112</td>\n",
       "      <td>690490</td>\n",
       "      <td>667</td>\n",
       "      <td>655</td>\n",
       "      <td>3985</td>\n",
       "      <td>3935</td>\n",
       "    </tr>\n",
       "    <tr>\n",
       "      <th>6</th>\n",
       "      <td>2019-08-07</td>\n",
       "      <td>16</td>\n",
       "      <td>123248</td>\n",
       "      <td>23</td>\n",
       "      <td>219164</td>\n",
       "      <td>130</td>\n",
       "      <td>638580</td>\n",
       "      <td>135</td>\n",
       "      <td>909654</td>\n",
       "      <td>644</td>\n",
       "      <td>709</td>\n",
       "      <td>4629</td>\n",
       "      <td>4644</td>\n",
       "    </tr>\n",
       "    <tr>\n",
       "      <th>7</th>\n",
       "      <td>2019-08-08</td>\n",
       "      <td>14</td>\n",
       "      <td>88639</td>\n",
       "      <td>22</td>\n",
       "      <td>150141</td>\n",
       "      <td>144</td>\n",
       "      <td>727219</td>\n",
       "      <td>157</td>\n",
       "      <td>1059795</td>\n",
       "      <td>610</td>\n",
       "      <td>654</td>\n",
       "      <td>5239</td>\n",
       "      <td>5298</td>\n",
       "    </tr>\n",
       "    <tr>\n",
       "      <th>8</th>\n",
       "      <td>2019-08-09</td>\n",
       "      <td>11</td>\n",
       "      <td>134237</td>\n",
       "      <td>19</td>\n",
       "      <td>103166</td>\n",
       "      <td>155</td>\n",
       "      <td>861456</td>\n",
       "      <td>176</td>\n",
       "      <td>1162961</td>\n",
       "      <td>617</td>\n",
       "      <td>610</td>\n",
       "      <td>5856</td>\n",
       "      <td>5908</td>\n",
       "    </tr>\n",
       "    <tr>\n",
       "      <th>9</th>\n",
       "      <td>2019-08-10</td>\n",
       "      <td>15</td>\n",
       "      <td>152275</td>\n",
       "      <td>22</td>\n",
       "      <td>105162</td>\n",
       "      <td>170</td>\n",
       "      <td>1013731</td>\n",
       "      <td>198</td>\n",
       "      <td>1268123</td>\n",
       "      <td>406</td>\n",
       "      <td>369</td>\n",
       "      <td>6262</td>\n",
       "      <td>6277</td>\n",
       "    </tr>\n",
       "    <tr>\n",
       "      <th>10</th>\n",
       "      <td>2019-08-11</td>\n",
       "      <td>11</td>\n",
       "      <td>60665</td>\n",
       "      <td>12</td>\n",
       "      <td>53060</td>\n",
       "      <td>181</td>\n",
       "      <td>1074396</td>\n",
       "      <td>210</td>\n",
       "      <td>1321183</td>\n",
       "      <td>718</td>\n",
       "      <td>721</td>\n",
       "      <td>6980</td>\n",
       "      <td>6998</td>\n",
       "    </tr>\n",
       "    <tr>\n",
       "      <th>11</th>\n",
       "      <td>2019-08-12</td>\n",
       "      <td>19</td>\n",
       "      <td>220392</td>\n",
       "      <td>19</td>\n",
       "      <td>104054</td>\n",
       "      <td>200</td>\n",
       "      <td>1294788</td>\n",
       "      <td>229</td>\n",
       "      <td>1425237</td>\n",
       "      <td>595</td>\n",
       "      <td>543</td>\n",
       "      <td>7575</td>\n",
       "      <td>7541</td>\n",
       "    </tr>\n",
       "    <tr>\n",
       "      <th>12</th>\n",
       "      <td>2019-08-13</td>\n",
       "      <td>14</td>\n",
       "      <td>263638</td>\n",
       "      <td>20</td>\n",
       "      <td>117691</td>\n",
       "      <td>214</td>\n",
       "      <td>1558426</td>\n",
       "      <td>249</td>\n",
       "      <td>1542928</td>\n",
       "      <td>748</td>\n",
       "      <td>769</td>\n",
       "      <td>8323</td>\n",
       "      <td>8310</td>\n",
       "    </tr>\n",
       "    <tr>\n",
       "      <th>13</th>\n",
       "      <td>2019-08-14</td>\n",
       "      <td>17</td>\n",
       "      <td>43266</td>\n",
       "      <td>14</td>\n",
       "      <td>107340</td>\n",
       "      <td>231</td>\n",
       "      <td>1601692</td>\n",
       "      <td>263</td>\n",
       "      <td>1650268</td>\n",
       "      <td>735</td>\n",
       "      <td>746</td>\n",
       "      <td>9058</td>\n",
       "      <td>9056</td>\n",
       "    </tr>\n",
       "    <tr>\n",
       "      <th>14</th>\n",
       "      <td>2019-08-15</td>\n",
       "      <td>10</td>\n",
       "      <td>80877</td>\n",
       "      <td>26</td>\n",
       "      <td>310159</td>\n",
       "      <td>241</td>\n",
       "      <td>1682569</td>\n",
       "      <td>289</td>\n",
       "      <td>1960427</td>\n",
       "      <td>628</td>\n",
       "      <td>544</td>\n",
       "      <td>9686</td>\n",
       "      <td>9600</td>\n",
       "    </tr>\n",
       "    <tr>\n",
       "      <th>15</th>\n",
       "      <td>2019-08-16</td>\n",
       "      <td>18</td>\n",
       "      <td>99851</td>\n",
       "      <td>18</td>\n",
       "      <td>114250</td>\n",
       "      <td>259</td>\n",
       "      <td>1782420</td>\n",
       "      <td>307</td>\n",
       "      <td>2074677</td>\n",
       "      <td>361</td>\n",
       "      <td>413</td>\n",
       "      <td>10047</td>\n",
       "      <td>10013</td>\n",
       "    </tr>\n",
       "    <tr>\n",
       "      <th>16</th>\n",
       "      <td>2019-08-17</td>\n",
       "      <td>6</td>\n",
       "      <td>34740</td>\n",
       "      <td>13</td>\n",
       "      <td>80865</td>\n",
       "      <td>265</td>\n",
       "      <td>1817160</td>\n",
       "      <td>320</td>\n",
       "      <td>2155542</td>\n",
       "      <td>412</td>\n",
       "      <td>421</td>\n",
       "      <td>10459</td>\n",
       "      <td>10434</td>\n",
       "    </tr>\n",
       "    <tr>\n",
       "      <th>17</th>\n",
       "      <td>2019-08-18</td>\n",
       "      <td>13</td>\n",
       "      <td>59581</td>\n",
       "      <td>7</td>\n",
       "      <td>35323</td>\n",
       "      <td>278</td>\n",
       "      <td>1876741</td>\n",
       "      <td>327</td>\n",
       "      <td>2190865</td>\n",
       "      <td>668</td>\n",
       "      <td>737</td>\n",
       "      <td>11127</td>\n",
       "      <td>11171</td>\n",
       "    </tr>\n",
       "    <tr>\n",
       "      <th>18</th>\n",
       "      <td>2019-08-19</td>\n",
       "      <td>21</td>\n",
       "      <td>168193</td>\n",
       "      <td>21</td>\n",
       "      <td>1429920</td>\n",
       "      <td>299</td>\n",
       "      <td>2044934</td>\n",
       "      <td>348</td>\n",
       "      <td>3620785</td>\n",
       "      <td>502</td>\n",
       "      <td>487</td>\n",
       "      <td>11629</td>\n",
       "      <td>11658</td>\n",
       "    </tr>\n",
       "    <tr>\n",
       "      <th>19</th>\n",
       "      <td>2019-08-20</td>\n",
       "      <td>10</td>\n",
       "      <td>58679</td>\n",
       "      <td>20</td>\n",
       "      <td>147274</td>\n",
       "      <td>309</td>\n",
       "      <td>2103613</td>\n",
       "      <td>368</td>\n",
       "      <td>3768059</td>\n",
       "      <td>575</td>\n",
       "      <td>560</td>\n",
       "      <td>12204</td>\n",
       "      <td>12218</td>\n",
       "    </tr>\n",
       "    <tr>\n",
       "      <th>20</th>\n",
       "      <td>2019-08-21</td>\n",
       "      <td>20</td>\n",
       "      <td>170169</td>\n",
       "      <td>12</td>\n",
       "      <td>140347</td>\n",
       "      <td>329</td>\n",
       "      <td>2273782</td>\n",
       "      <td>380</td>\n",
       "      <td>3908406</td>\n",
       "      <td>646</td>\n",
       "      <td>656</td>\n",
       "      <td>12850</td>\n",
       "      <td>12874</td>\n",
       "    </tr>\n",
       "    <tr>\n",
       "      <th>21</th>\n",
       "      <td>2019-08-22</td>\n",
       "      <td>10</td>\n",
       "      <td>92365</td>\n",
       "      <td>21</td>\n",
       "      <td>141728</td>\n",
       "      <td>339</td>\n",
       "      <td>2366147</td>\n",
       "      <td>401</td>\n",
       "      <td>4050134</td>\n",
       "      <td>609</td>\n",
       "      <td>650</td>\n",
       "      <td>13459</td>\n",
       "      <td>13524</td>\n",
       "    </tr>\n",
       "    <tr>\n",
       "      <th>22</th>\n",
       "      <td>2019-08-23</td>\n",
       "      <td>20</td>\n",
       "      <td>57863</td>\n",
       "      <td>13</td>\n",
       "      <td>77269</td>\n",
       "      <td>359</td>\n",
       "      <td>2424010</td>\n",
       "      <td>414</td>\n",
       "      <td>4127403</td>\n",
       "      <td>468</td>\n",
       "      <td>546</td>\n",
       "      <td>13927</td>\n",
       "      <td>14070</td>\n",
       "    </tr>\n",
       "    <tr>\n",
       "      <th>23</th>\n",
       "      <td>2019-08-24</td>\n",
       "      <td>13</td>\n",
       "      <td>122013</td>\n",
       "      <td>14</td>\n",
       "      <td>87866</td>\n",
       "      <td>372</td>\n",
       "      <td>2546023</td>\n",
       "      <td>428</td>\n",
       "      <td>4215269</td>\n",
       "      <td>395</td>\n",
       "      <td>378</td>\n",
       "      <td>14322</td>\n",
       "      <td>14448</td>\n",
       "    </tr>\n",
       "    <tr>\n",
       "      <th>24</th>\n",
       "      <td>2019-08-25</td>\n",
       "      <td>8</td>\n",
       "      <td>51884</td>\n",
       "      <td>12</td>\n",
       "      <td>79257</td>\n",
       "      <td>380</td>\n",
       "      <td>2597907</td>\n",
       "      <td>440</td>\n",
       "      <td>4294526</td>\n",
       "      <td>621</td>\n",
       "      <td>679</td>\n",
       "      <td>14943</td>\n",
       "      <td>15127</td>\n",
       "    </tr>\n",
       "    <tr>\n",
       "      <th>25</th>\n",
       "      <td>2019-08-26</td>\n",
       "      <td>16</td>\n",
       "      <td>157214</td>\n",
       "      <td>22</td>\n",
       "      <td>173439</td>\n",
       "      <td>396</td>\n",
       "      <td>2755121</td>\n",
       "      <td>462</td>\n",
       "      <td>4467965</td>\n",
       "      <td>722</td>\n",
       "      <td>676</td>\n",
       "      <td>15665</td>\n",
       "      <td>15803</td>\n",
       "    </tr>\n",
       "    <tr>\n",
       "      <th>26</th>\n",
       "      <td>2019-08-27</td>\n",
       "      <td>23</td>\n",
       "      <td>185350</td>\n",
       "      <td>11</td>\n",
       "      <td>111347</td>\n",
       "      <td>419</td>\n",
       "      <td>2940471</td>\n",
       "      <td>473</td>\n",
       "      <td>4579312</td>\n",
       "      <td>711</td>\n",
       "      <td>720</td>\n",
       "      <td>16376</td>\n",
       "      <td>16523</td>\n",
       "    </tr>\n",
       "    <tr>\n",
       "      <th>27</th>\n",
       "      <td>2019-08-28</td>\n",
       "      <td>15</td>\n",
       "      <td>96462</td>\n",
       "      <td>22</td>\n",
       "      <td>61198</td>\n",
       "      <td>434</td>\n",
       "      <td>3036933</td>\n",
       "      <td>495</td>\n",
       "      <td>4640510</td>\n",
       "      <td>594</td>\n",
       "      <td>654</td>\n",
       "      <td>16970</td>\n",
       "      <td>17177</td>\n",
       "    </tr>\n",
       "    <tr>\n",
       "      <th>28</th>\n",
       "      <td>2019-08-29</td>\n",
       "      <td>17</td>\n",
       "      <td>196300</td>\n",
       "      <td>15</td>\n",
       "      <td>106100</td>\n",
       "      <td>451</td>\n",
       "      <td>3233233</td>\n",
       "      <td>510</td>\n",
       "      <td>4746610</td>\n",
       "      <td>577</td>\n",
       "      <td>531</td>\n",
       "      <td>17547</td>\n",
       "      <td>17708</td>\n",
       "    </tr>\n",
       "    <tr>\n",
       "      <th>29</th>\n",
       "      <td>2019-08-30</td>\n",
       "      <td>9</td>\n",
       "      <td>78180</td>\n",
       "      <td>21</td>\n",
       "      <td>209223</td>\n",
       "      <td>460</td>\n",
       "      <td>3311413</td>\n",
       "      <td>531</td>\n",
       "      <td>4955833</td>\n",
       "      <td>490</td>\n",
       "      <td>490</td>\n",
       "      <td>18037</td>\n",
       "      <td>18198</td>\n",
       "    </tr>\n",
       "    <tr>\n",
       "      <th>30</th>\n",
       "      <td>2019-08-31</td>\n",
       "      <td>8</td>\n",
       "      <td>53243</td>\n",
       "      <td>17</td>\n",
       "      <td>113139</td>\n",
       "      <td>468</td>\n",
       "      <td>3364656</td>\n",
       "      <td>548</td>\n",
       "      <td>5068972</td>\n",
       "      <td>699</td>\n",
       "      <td>718</td>\n",
       "      <td>18736</td>\n",
       "      <td>18916</td>\n",
       "    </tr>\n",
       "  </tbody>\n",
       "</table>\n",
       "</div>"
      ],
      "text/plain": [
       "         date  ordersPerDateA  revenuePerDateA  ordersPerDateB  \\\n",
       "0  2019-08-01  23              142779           17               \n",
       "1  2019-08-02  19              91602            23               \n",
       "2  2019-08-03  24              112473           14               \n",
       "3  2019-08-04  11              41176            14               \n",
       "4  2019-08-05  22              86383            21               \n",
       "5  2019-08-06  15              40919            23               \n",
       "6  2019-08-07  16              123248           23               \n",
       "7  2019-08-08  14              88639            22               \n",
       "8  2019-08-09  11              134237           19               \n",
       "9  2019-08-10  15              152275           22               \n",
       "10 2019-08-11  11              60665            12               \n",
       "11 2019-08-12  19              220392           19               \n",
       "12 2019-08-13  14              263638           20               \n",
       "13 2019-08-14  17              43266            14               \n",
       "14 2019-08-15  10              80877            26               \n",
       "15 2019-08-16  18              99851            18               \n",
       "16 2019-08-17  6               34740            13               \n",
       "17 2019-08-18  13              59581            7                \n",
       "18 2019-08-19  21              168193           21               \n",
       "19 2019-08-20  10              58679            20               \n",
       "20 2019-08-21  20              170169           12               \n",
       "21 2019-08-22  10              92365            21               \n",
       "22 2019-08-23  20              57863            13               \n",
       "23 2019-08-24  13              122013           14               \n",
       "24 2019-08-25  8               51884            12               \n",
       "25 2019-08-26  16              157214           22               \n",
       "26 2019-08-27  23              185350           11               \n",
       "27 2019-08-28  15              96462            22               \n",
       "28 2019-08-29  17              196300           15               \n",
       "29 2019-08-30  9               78180            21               \n",
       "30 2019-08-31  8               53243            17               \n",
       "\n",
       "    revenuePerDateB  ordersCummulativeA  revenueCummulativeA  \\\n",
       "0   59758            23                  142779                \n",
       "1   162043           42                  234381                \n",
       "2   67049            66                  346854                \n",
       "3   96890            77                  388030                \n",
       "4   89908            99                  474413                \n",
       "5   214842           114                 515332                \n",
       "6   219164           130                 638580                \n",
       "7   150141           144                 727219                \n",
       "8   103166           155                 861456                \n",
       "9   105162           170                 1013731               \n",
       "10  53060            181                 1074396               \n",
       "11  104054           200                 1294788               \n",
       "12  117691           214                 1558426               \n",
       "13  107340           231                 1601692               \n",
       "14  310159           241                 1682569               \n",
       "15  114250           259                 1782420               \n",
       "16  80865            265                 1817160               \n",
       "17  35323            278                 1876741               \n",
       "18  1429920          299                 2044934               \n",
       "19  147274           309                 2103613               \n",
       "20  140347           329                 2273782               \n",
       "21  141728           339                 2366147               \n",
       "22  77269            359                 2424010               \n",
       "23  87866            372                 2546023               \n",
       "24  79257            380                 2597907               \n",
       "25  173439           396                 2755121               \n",
       "26  111347           419                 2940471               \n",
       "27  61198            434                 3036933               \n",
       "28  106100           451                 3233233               \n",
       "29  209223           460                 3311413               \n",
       "30  113139           468                 3364656               \n",
       "\n",
       "    ordersCummulativeB  revenueCummulativeB  visitorsPerDateA  \\\n",
       "0   17                  59758                719                \n",
       "1   40                  221801               619                \n",
       "2   54                  288850               507                \n",
       "3   68                  385740               717                \n",
       "4   89                  475648               756                \n",
       "5   112                 690490               667                \n",
       "6   135                 909654               644                \n",
       "7   157                 1059795              610                \n",
       "8   176                 1162961              617                \n",
       "9   198                 1268123              406                \n",
       "10  210                 1321183              718                \n",
       "11  229                 1425237              595                \n",
       "12  249                 1542928              748                \n",
       "13  263                 1650268              735                \n",
       "14  289                 1960427              628                \n",
       "15  307                 2074677              361                \n",
       "16  320                 2155542              412                \n",
       "17  327                 2190865              668                \n",
       "18  348                 3620785              502                \n",
       "19  368                 3768059              575                \n",
       "20  380                 3908406              646                \n",
       "21  401                 4050134              609                \n",
       "22  414                 4127403              468                \n",
       "23  428                 4215269              395                \n",
       "24  440                 4294526              621                \n",
       "25  462                 4467965              722                \n",
       "26  473                 4579312              711                \n",
       "27  495                 4640510              594                \n",
       "28  510                 4746610              577                \n",
       "29  531                 4955833              490                \n",
       "30  548                 5068972              699                \n",
       "\n",
       "    visitorsPerDateB  visitorsCummulativeA  visitorsCummulativeB  \n",
       "0   713               719                   713                   \n",
       "1   581               1338                  1294                  \n",
       "2   509               1845                  1803                  \n",
       "3   770               2562                  2573                  \n",
       "4   707               3318                  3280                  \n",
       "5   655               3985                  3935                  \n",
       "6   709               4629                  4644                  \n",
       "7   654               5239                  5298                  \n",
       "8   610               5856                  5908                  \n",
       "9   369               6262                  6277                  \n",
       "10  721               6980                  6998                  \n",
       "11  543               7575                  7541                  \n",
       "12  769               8323                  8310                  \n",
       "13  746               9058                  9056                  \n",
       "14  544               9686                  9600                  \n",
       "15  413               10047                 10013                 \n",
       "16  421               10459                 10434                 \n",
       "17  737               11127                 11171                 \n",
       "18  487               11629                 11658                 \n",
       "19  560               12204                 12218                 \n",
       "20  656               12850                 12874                 \n",
       "21  650               13459                 13524                 \n",
       "22  546               13927                 14070                 \n",
       "23  378               14322                 14448                 \n",
       "24  679               14943                 15127                 \n",
       "25  676               15665                 15803                 \n",
       "26  720               16376                 16523                 \n",
       "27  654               16970                 17177                 \n",
       "28  531               17547                 17708                 \n",
       "29  490               18037                 18198                 \n",
       "30  718               18736                 18916                 "
      ]
     },
     "metadata": {},
     "output_type": "display_data"
    }
   ],
   "source": [
    "# определяем данные по группе А\n",
    "visitorsADaily = visitors[visitors['group'] == 'A'][['date', 'visitors']]\n",
    "visitorsADaily.columns = ['date', 'visitorsPerDateA']\n",
    "\n",
    "visitorsACummulative = visitorsADaily.apply(\n",
    "    lambda x: visitorsADaily[visitorsADaily['date'] <= x['date']].agg(\n",
    "        {'date': 'max', 'visitorsPerDateA': 'sum'}\n",
    "    ),\n",
    "    axis=1,\n",
    ")\n",
    "visitorsACummulative.columns = ['date', 'visitorsCummulativeA']\n",
    "\n",
    "# определяем данные по группе В\n",
    "visitorsBDaily = visitors[visitors['group'] == 'B'][['date', 'visitors']]\n",
    "visitorsBDaily.columns = ['date', 'visitorsPerDateB']\n",
    "\n",
    "visitorsBCummulative = visitorsBDaily.apply(\n",
    "    lambda x: visitorsBDaily[visitorsBDaily['date'] <= x['date']].agg(\n",
    "        {'date': 'max', 'visitorsPerDateB': 'sum'}\n",
    "    ),\n",
    "    axis=1,\n",
    ")\n",
    "visitorsBCummulative.columns = ['date', 'visitorsCummulativeB']\n",
    "\n",
    "# определяем данные по группе А\n",
    "ordersADaily = (\n",
    "    orders[orders['group'] == 'A'][['date', 'transactionId', 'visitorId', 'revenue']]\n",
    "    .groupby('date', as_index=False)\n",
    "    .agg({'transactionId': pd.Series.nunique, 'revenue': 'sum'})\n",
    ")\n",
    "ordersADaily.columns = ['date', 'ordersPerDateA', 'revenuePerDateA']\n",
    "\n",
    "ordersACummulative = ordersADaily.apply(\n",
    "    lambda x: ordersADaily[ordersADaily['date'] <= x['date']].agg(\n",
    "        {'date': 'max', 'ordersPerDateA': 'sum', 'revenuePerDateA': 'sum'}\n",
    "    ),\n",
    "    axis=1,\n",
    ").sort_values(by=['date'])\n",
    "ordersACummulative.columns = [\n",
    "    'date',\n",
    "    'ordersCummulativeA',\n",
    "    'revenueCummulativeA',\n",
    "]\n",
    "\n",
    "# определяем данные по группе В\n",
    "ordersBDaily = (\n",
    "    orders[orders['group'] == 'B'][['date', 'transactionId', 'visitorId', 'revenue']]\n",
    "    .groupby('date', as_index=False)\n",
    "    .agg({'transactionId': pd.Series.nunique, 'revenue': 'sum'})\n",
    ")\n",
    "ordersBDaily.columns = ['date', 'ordersPerDateB', 'revenuePerDateB']\n",
    "\n",
    "ordersBCummulative = ordersBDaily.apply(\n",
    "    lambda x: ordersBDaily[ordersBDaily['date'] <= x['date']].agg(\n",
    "        {'date': 'max', 'ordersPerDateB': 'sum', 'revenuePerDateB': 'sum'}\n",
    "    ),\n",
    "    axis=1,\n",
    ").sort_values(by=['date'])\n",
    "ordersBCummulative.columns = [\n",
    "    'date',\n",
    "    'ordersCummulativeB',\n",
    "    'revenueCummulativeB',\n",
    "]\n",
    "\n",
    "#объединяем полученные таблицы\n",
    "data = (\n",
    "    ordersADaily.merge(\n",
    "        ordersBDaily, left_on='date', right_on='date', how='left'\n",
    "    )\n",
    "    .merge(ordersACummulative, left_on='date', right_on='date', how='left')\n",
    "    .merge(ordersBCummulative, left_on='date', right_on='date', how='left')\n",
    "    .merge(visitorsADaily, left_on='date', right_on='date', how='left')\n",
    "    .merge(visitorsBDaily, left_on='date', right_on='date', how='left')\n",
    "    .merge(visitorsACummulative, left_on='date', right_on='date', how='left')\n",
    "    .merge(visitorsBCummulative, left_on='date', right_on='date', how='left')\n",
    ")\n",
    "\n",
    "display(data)"
   ]
  },
  {
   "cell_type": "markdown",
   "metadata": {},
   "source": [
    "Из проведенного исследования видно, что в данных имеют место значительные выбросы, которые могут серьезно повлиять на результат. Поэтому, для проверки гипотез воспользуемся непараметрическим тестом Манна-Уитни. "
   ]
  },
  {
   "cell_type": "markdown",
   "metadata": {},
   "source": [
    "<b>Нулевая гипотеза:</b> Cтатистически значимых различий в конверсии между группами нет.\n",
    "\n",
    "<b>Альтернативная гипотеза:</b> В конверсии между группами есть статистически значимые различия.\n",
    "    \n",
    "- критический уровень статистической значимости примем за 0.05"
   ]
  },
  {
   "cell_type": "code",
   "execution_count": 30,
   "metadata": {},
   "outputs": [
    {
     "name": "stdout",
     "output_type": "stream",
     "text": [
      "0.011\n",
      "0.160\n"
     ]
    }
   ],
   "source": [
    "# посчитаем статистическую значимость различий в конверсии между группами по «сырым» данным\n",
    "ordersByUsersA = (\n",
    "    orders[orders['group'] == 'A']\n",
    "    .groupby('visitorId', as_index=False)\n",
    "    .agg({'transactionId': pd.Series.nunique})\n",
    ")\n",
    "ordersByUsersA.columns = ['userId', 'orders']\n",
    "\n",
    "ordersByUsersB = (\n",
    "    orders[orders['group'] == 'B']\n",
    "    .groupby('visitorId', as_index=False)\n",
    "    .agg({'transactionId': pd.Series.nunique})\n",
    ")\n",
    "ordersByUsersB.columns = ['userId', 'orders'] \n",
    "\n",
    "sampleA = (\n",
    "    pd.concat([ordersByUsersA['orders'],\n",
    "               pd.Series(0, index=np.arange(data['visitorsPerDateA'].sum() - len(ordersByUsersA['orders'])), name='orders')],\n",
    "              axis=0)\n",
    "        )\n",
    "\n",
    "sampleB = (\n",
    "    pd.concat([ordersByUsersB['orders'],\n",
    "               pd.Series(0, index=np.arange(data['visitorsPerDateB'].sum() - len(ordersByUsersB['orders'])), name='orders')],\n",
    "              axis=0)\n",
    "        )\n",
    "print(\"{0:.3f}\".format(stats.mannwhitneyu(sampleA, sampleB)[1]))\n",
    "\n",
    "print(\"{0:.3f}\".format(sampleB.mean() / sampleA.mean() - 1))"
   ]
  },
  {
   "cell_type": "markdown",
   "metadata": {},
   "source": [
    "Значение p-value = 0.011 значительно меньше 0.05, потому нулевую гипотезу о том, что статистически значимых различий в конверсии между группами нет, можно отвергать. Анализ данных говорит о том, что в конверсии между группами есть статистически значимые различия. Относительный прирост конверсии группы В к группе А составил 16%."
   ]
  },
  {
   "cell_type": "markdown",
   "metadata": {},
   "source": [
    "### Статистическая значимость различий в среднем чеке заказа между группами по «сырым» данным"
   ]
  },
  {
   "cell_type": "markdown",
   "metadata": {},
   "source": [
    "<b>Нулевая гипотеза:</b> Cтатистически значимых различий в среднем чеке заказа между группами нет.\n",
    "\n",
    "<b>Альтернативная гипотеза:</b> В среднем чеке заказа между группами есть статистически значимые различия.\n",
    "    \n",
    "- критический уровень статистической значимости примем за 0.05"
   ]
  },
  {
   "cell_type": "code",
   "execution_count": 31,
   "metadata": {},
   "outputs": [
    {
     "name": "stdout",
     "output_type": "stream",
     "text": [
      "0.829\n",
      "0.287\n"
     ]
    }
   ],
   "source": [
    "# посчитаем статистическую значимость различий в среднем чеке заказа между группами по «сырым» данным.\n",
    "print('{0:.3f}'.format(stats.mannwhitneyu(orders[orders['group']=='A']['revenue'], orders[orders['group']=='B']['revenue'])[1]))\n",
    "print('{0:.3f}'.format(orders[orders['group']=='B']['revenue'].mean()/orders[orders['group']=='A']['revenue'].mean()-1))"
   ]
  },
  {
   "cell_type": "markdown",
   "metadata": {},
   "source": [
    "p-value больше 0.05, что говорит о том, что статистически значимой разницы в среднем чеке между группами нет. А вот относительная разница между чеками составила 28,7%."
   ]
  },
  {
   "cell_type": "markdown",
   "metadata": {},
   "source": [
    "### Статистическая значимость различий в конверсии между группами по «очищенным» данным"
   ]
  },
  {
   "cell_type": "code",
   "execution_count": 32,
   "metadata": {},
   "outputs": [
    {
     "name": "stdout",
     "output_type": "stream",
     "text": [
      "1099    148427295\n",
      "33      249864742\n",
      "684     358944393\n",
      "648     382846391\n",
      "58      611059232\n",
      "dtype: int64\n",
      "37\n"
     ]
    }
   ],
   "source": [
    "# определим количество аномальных пользователей\n",
    "usersWithManyOrders = pd.concat(\n",
    "    [\n",
    "        ordersByUsersA[ordersByUsersA['orders'] > 2]['userId'],\n",
    "        ordersByUsersB[ordersByUsersB['orders'] > 2]['userId'],\n",
    "    ],\n",
    "    axis=0,\n",
    ")\n",
    "usersWithExpensiveOrders = orders[orders['revenue'] > 35000]['visitorId']\n",
    "abnormalUsers = (\n",
    "    pd.concat([usersWithManyOrders, usersWithExpensiveOrders], axis=0)\n",
    "    .drop_duplicates()\n",
    "    .sort_values()\n",
    ")\n",
    "print(abnormalUsers.head(5))\n",
    "print(abnormalUsers.shape[0]) "
   ]
  },
  {
   "cell_type": "markdown",
   "metadata": {},
   "source": [
    "В данных имеется 37 аномальных пользователя."
   ]
  },
  {
   "cell_type": "markdown",
   "metadata": {},
   "source": [
    "<b>Нулевая гипотеза:</b> Cтатистически значимых различий в конверсии между группами нет.\n",
    "\n",
    "<b>Альтернативная гипотеза:</b> В конверсии между группами есть статистически значимые различия.\n",
    "    \n",
    "- критический уровень статистической значимости примем за 0.05"
   ]
  },
  {
   "cell_type": "code",
   "execution_count": 33,
   "metadata": {},
   "outputs": [
    {
     "name": "stdout",
     "output_type": "stream",
     "text": [
      "0.00700\n",
      "0.194\n"
     ]
    }
   ],
   "source": [
    "# посчитаем статистическую значимость различий в конверсии между группами по «очищенным» данным\n",
    "sampleAFiltered = pd.concat(\n",
    "    [\n",
    "        ordersByUsersA[\n",
    "            np.logical_not(ordersByUsersA['userId'].isin(abnormalUsers))\n",
    "        ]['orders'],\n",
    "        pd.Series(\n",
    "            0,\n",
    "            index=np.arange(\n",
    "                data['visitorsPerDateA'].sum() - len(ordersByUsersA['orders'])\n",
    "            ),\n",
    "            name='orders',\n",
    "        ),\n",
    "    ],\n",
    "    axis=0,\n",
    ")\n",
    "\n",
    "sampleBFiltered = pd.concat(\n",
    "    [\n",
    "        ordersByUsersB[\n",
    "            np.logical_not(ordersByUsersB['userId'].isin(abnormalUsers))\n",
    "        ]['orders'],\n",
    "        pd.Series(\n",
    "            0,\n",
    "            index=np.arange(\n",
    "                data['visitorsPerDateB'].sum() - len(ordersByUsersB['orders'])\n",
    "            ),\n",
    "            name='orders',\n",
    "        ),\n",
    "    ],\n",
    "    axis=0,\n",
    ") \n",
    "\n",
    "print('{0:.5f}'.format(stats.mannwhitneyu(sampleAFiltered, sampleBFiltered)[1]))\n",
    "print('{0:.3f}'.format(sampleBFiltered.mean()/sampleAFiltered.mean()-1))"
   ]
  },
  {
   "cell_type": "markdown",
   "metadata": {},
   "source": [
    "Результат по конверсии относительно \"сырых\" данных практически не изменился."
   ]
  },
  {
   "cell_type": "markdown",
   "metadata": {},
   "source": [
    "### Статистическая значимость различий в среднем чеке заказа между группами по «очищенным» данным"
   ]
  },
  {
   "cell_type": "markdown",
   "metadata": {},
   "source": [
    "<b>Нулевая гипотеза:</b> Cтатистически значимых различий в среднем чеке заказа между группами нет.\n",
    "\n",
    "<b>Альтернативная гипотеза:</b> В среднем чеке заказа между группами есть статистически значимые различия.\n",
    "    \n",
    "- критический уровень статистической значимости примем за 0.05"
   ]
  },
  {
   "cell_type": "code",
   "execution_count": 34,
   "metadata": {},
   "outputs": [
    {
     "name": "stdout",
     "output_type": "stream",
     "text": [
      "0.869\n",
      "0.003\n"
     ]
    }
   ],
   "source": [
    "# посчитаем статистическую значимость различий в среднем чеке заказа между группами по «очищенным» данным\n",
    "print(\n",
    "    '{0:.3f}'.format(\n",
    "        stats.mannwhitneyu(\n",
    "            orders[\n",
    "                np.logical_and(\n",
    "                    orders['group'] == 'A',\n",
    "                    np.logical_not(orders['visitorId'].isin(abnormalUsers)),\n",
    "                )\n",
    "            ]['revenue'],\n",
    "            orders[\n",
    "                np.logical_and(\n",
    "                    orders['group'] == 'B',\n",
    "                    np.logical_not(orders['visitorId'].isin(abnormalUsers)),\n",
    "                )\n",
    "            ]['revenue'],\n",
    "        )[1]\n",
    "    )\n",
    ")\n",
    "\n",
    "print(\n",
    "    \"{0:.3f}\".format(\n",
    "        orders[\n",
    "            np.logical_and(\n",
    "                orders['group'] == 'B',\n",
    "                np.logical_not(orders['visitorId'].isin(abnormalUsers)),\n",
    "            )\n",
    "        ]['revenue'].mean()\n",
    "        / orders[\n",
    "            np.logical_and(\n",
    "                orders['group'] == 'A',\n",
    "                np.logical_not(orders['visitorId'].isin(abnormalUsers)),\n",
    "            )\n",
    "        ]['revenue'].mean()\n",
    "        - 1\n",
    "    )\n",
    ")"
   ]
  },
  {
   "cell_type": "markdown",
   "metadata": {},
   "source": [
    "p-value больше 0.05 и увеличился относительно \"сырых\" данных, что говорит о том, что статистически значимой разницы в среднем чеке между группами нет. И относительная разница между чеками уменьшилась с 28,7% практически до 0%. Видно, что аномально дорогие заказы внесли значительное искажение в данные."
   ]
  },
  {
   "cell_type": "markdown",
   "metadata": {},
   "source": [
    "### Вывод по результатам теста"
   ]
  },
  {
   "cell_type": "markdown",
   "metadata": {},
   "source": [
    "- Есть статистически значимые различия по конверсии между группами и по «сырым», и по данным после фильтрации аномалий;\n",
    "- Нет статистически значимого различия по среднему чеку между группами ни по «сырым», ни по данным после фильтрации аномалий;\n",
    "- График различия конверсии между группами сообщает, что результаты группы B стабильно лучше результатов группы A;\n",
    "- График различия среднего чека говорит о том, что хоть для результата группы В имеется скачок в среднем чеке, после чего его значение снижалось, средний чек для группы В все равно остался выше, чем для группы А.\n",
    "\n",
    "Исходя из вышеперечисленного стоит остановить тест, признать его успешным и зафиксировать победу группы B."
   ]
  },
  {
   "cell_type": "markdown",
   "metadata": {},
   "source": [
    "## Общий вывод\n",
    "\n",
    "<b> Часть 1. Приоритизация гипотез</b>\n",
    "\n",
    "С помощью способов ICE и RICE были приоритизированы 9 гипотез по увеличению прибыли интернет-магазина. Благодаря чему для дальнейшей проверки была выделена 1 гипотеза под №7, которая попала в список наиболее перспективных гипотез при расчете обоими способами.\n",
    "\n",
    "<b> Часть 2. Анализ А/В-теста</b>\n",
    "\n",
    "Перед проведением анализа результатов А/В-теста была проведена проверка на наличие пользователей, которые попали в обе группы. Такие пользователи были обнаружены и удалены для чистоты оценки теста. В ходе анализа результатов А/В-теста было определено, что конверсия в группе В стабильна и выше конверсии в группе А, что подтверждается проведенным тестом Манна-Уитни. А средний чек в обеих группах не имеет статистически значимой разницы. Исходя из полученых результатов предлагается остановить тест, признать его успешным и зафиксировать победу группы B."
   ]
  }
 ],
 "metadata": {
  "ExecuteTimeLog": [
   {
    "duration": 50,
    "start_time": "2022-06-08T21:04:55.488Z"
   },
   {
    "duration": 53,
    "start_time": "2022-06-09T19:08:10.424Z"
   },
   {
    "duration": 394,
    "start_time": "2022-06-09T19:08:12.686Z"
   },
   {
    "duration": 37,
    "start_time": "2022-06-09T19:08:14.435Z"
   },
   {
    "duration": 92,
    "start_time": "2022-06-09T19:08:22.852Z"
   },
   {
    "duration": 3,
    "start_time": "2022-06-09T19:12:31.782Z"
   },
   {
    "duration": 35,
    "start_time": "2022-06-09T19:13:03.510Z"
   },
   {
    "duration": 9,
    "start_time": "2022-06-09T19:14:19.941Z"
   },
   {
    "duration": 95,
    "start_time": "2022-06-09T19:16:07.193Z"
   },
   {
    "duration": 81,
    "start_time": "2022-06-09T19:17:13.119Z"
   },
   {
    "duration": 5,
    "start_time": "2022-06-09T19:18:50.181Z"
   },
   {
    "duration": 4,
    "start_time": "2022-06-09T19:19:39.931Z"
   },
   {
    "duration": 544,
    "start_time": "2022-06-09T19:27:41.834Z"
   },
   {
    "duration": 9,
    "start_time": "2022-06-09T19:29:24.536Z"
   },
   {
    "duration": 7,
    "start_time": "2022-06-09T19:29:59.558Z"
   },
   {
    "duration": 8,
    "start_time": "2022-06-09T19:31:49.815Z"
   },
   {
    "duration": 7,
    "start_time": "2022-06-09T19:32:11.103Z"
   },
   {
    "duration": 39,
    "start_time": "2022-06-09T19:34:52.815Z"
   },
   {
    "duration": 185,
    "start_time": "2022-06-09T19:37:37.824Z"
   },
   {
    "duration": 17,
    "start_time": "2022-06-09T19:37:42.141Z"
   },
   {
    "duration": 148,
    "start_time": "2022-06-09T19:38:39.426Z"
   },
   {
    "duration": 12,
    "start_time": "2022-06-09T19:38:50.995Z"
   },
   {
    "duration": 624,
    "start_time": "2022-06-09T19:41:15.113Z"
   },
   {
    "duration": 43,
    "start_time": "2022-06-09T19:41:15.739Z"
   },
   {
    "duration": 4,
    "start_time": "2022-06-09T19:41:15.784Z"
   },
   {
    "duration": 19,
    "start_time": "2022-06-09T19:41:15.790Z"
   },
   {
    "duration": 11,
    "start_time": "2022-06-09T19:41:15.812Z"
   },
   {
    "duration": 67,
    "start_time": "2022-06-09T19:41:15.825Z"
   },
   {
    "duration": 9,
    "start_time": "2022-06-09T19:41:15.895Z"
   },
   {
    "duration": 14,
    "start_time": "2022-06-09T19:41:15.905Z"
   },
   {
    "duration": 100,
    "start_time": "2022-06-09T19:41:15.921Z"
   },
   {
    "duration": 0,
    "start_time": "2022-06-09T19:41:16.023Z"
   },
   {
    "duration": 0,
    "start_time": "2022-06-09T19:41:16.025Z"
   },
   {
    "duration": 0,
    "start_time": "2022-06-09T19:41:16.026Z"
   },
   {
    "duration": 0,
    "start_time": "2022-06-09T19:41:16.028Z"
   },
   {
    "duration": 0,
    "start_time": "2022-06-09T19:41:16.030Z"
   },
   {
    "duration": 0,
    "start_time": "2022-06-09T19:41:16.031Z"
   },
   {
    "duration": 0,
    "start_time": "2022-06-09T19:41:16.033Z"
   },
   {
    "duration": 15,
    "start_time": "2022-06-09T19:42:18.191Z"
   },
   {
    "duration": 42,
    "start_time": "2022-06-09T19:42:20.817Z"
   },
   {
    "duration": 119,
    "start_time": "2022-06-09T19:42:58.187Z"
   },
   {
    "duration": 5,
    "start_time": "2022-06-09T19:43:19.115Z"
   },
   {
    "duration": 8,
    "start_time": "2022-06-09T19:43:21.598Z"
   },
   {
    "duration": 175,
    "start_time": "2022-06-09T19:43:23.925Z"
   },
   {
    "duration": 13,
    "start_time": "2022-06-09T19:43:27.226Z"
   },
   {
    "duration": 134,
    "start_time": "2022-06-09T19:43:37.795Z"
   },
   {
    "duration": 11,
    "start_time": "2022-06-09T19:43:40.239Z"
   },
   {
    "duration": 5,
    "start_time": "2022-06-09T19:49:46.907Z"
   },
   {
    "duration": 180,
    "start_time": "2022-06-09T19:50:24.893Z"
   },
   {
    "duration": 168,
    "start_time": "2022-06-09T19:50:41.577Z"
   },
   {
    "duration": 17,
    "start_time": "2022-06-09T19:52:20.057Z"
   },
   {
    "duration": 6,
    "start_time": "2022-06-09T19:54:08.785Z"
   },
   {
    "duration": 301,
    "start_time": "2022-06-09T19:54:26.436Z"
   },
   {
    "duration": 175,
    "start_time": "2022-06-09T19:56:19.012Z"
   },
   {
    "duration": 316,
    "start_time": "2022-06-09T20:00:09.169Z"
   },
   {
    "duration": 36,
    "start_time": "2022-06-09T20:04:25.446Z"
   },
   {
    "duration": 233,
    "start_time": "2022-06-09T20:04:33.978Z"
   },
   {
    "duration": 300,
    "start_time": "2022-06-09T20:06:43.501Z"
   },
   {
    "duration": 137,
    "start_time": "2022-06-09T20:11:48.592Z"
   },
   {
    "duration": 117,
    "start_time": "2022-06-09T20:20:25.737Z"
   },
   {
    "duration": 118,
    "start_time": "2022-06-09T20:24:07.760Z"
   },
   {
    "duration": 4,
    "start_time": "2022-06-09T20:25:38.902Z"
   },
   {
    "duration": 138,
    "start_time": "2022-06-09T20:27:54.222Z"
   },
   {
    "duration": 10,
    "start_time": "2022-06-09T20:29:45.260Z"
   },
   {
    "duration": 230,
    "start_time": "2022-06-09T20:44:38.558Z"
   },
   {
    "duration": 246,
    "start_time": "2022-06-09T20:44:48.341Z"
   },
   {
    "duration": 518,
    "start_time": "2022-06-09T20:46:44.719Z"
   },
   {
    "duration": 153,
    "start_time": "2022-06-09T20:46:50.605Z"
   },
   {
    "duration": 16,
    "start_time": "2022-06-09T20:49:42.007Z"
   },
   {
    "duration": 481,
    "start_time": "2022-06-09T20:52:55.043Z"
   },
   {
    "duration": 10,
    "start_time": "2022-06-09T20:53:52.519Z"
   },
   {
    "duration": 33,
    "start_time": "2022-06-09T20:55:41.234Z"
   },
   {
    "duration": 15,
    "start_time": "2022-06-09T20:59:55.519Z"
   },
   {
    "duration": 13,
    "start_time": "2022-06-09T21:26:44.161Z"
   },
   {
    "duration": 9,
    "start_time": "2022-06-09T21:37:00.849Z"
   },
   {
    "duration": 12,
    "start_time": "2022-06-09T21:37:58.884Z"
   },
   {
    "duration": 294,
    "start_time": "2022-06-09T22:27:33.838Z"
   },
   {
    "duration": 303,
    "start_time": "2022-06-09T22:28:35.157Z"
   },
   {
    "duration": 274,
    "start_time": "2022-06-09T22:29:13.384Z"
   },
   {
    "duration": 121,
    "start_time": "2022-06-09T22:43:12.450Z"
   },
   {
    "duration": 112,
    "start_time": "2022-06-09T22:43:19.265Z"
   },
   {
    "duration": 4,
    "start_time": "2022-06-09T22:54:27.347Z"
   },
   {
    "duration": 955,
    "start_time": "2022-06-09T23:38:45.013Z"
   },
   {
    "duration": 95,
    "start_time": "2022-06-09T23:38:45.970Z"
   },
   {
    "duration": 4,
    "start_time": "2022-06-09T23:38:46.067Z"
   },
   {
    "duration": 28,
    "start_time": "2022-06-09T23:38:46.072Z"
   },
   {
    "duration": 48,
    "start_time": "2022-06-09T23:38:46.102Z"
   },
   {
    "duration": 71,
    "start_time": "2022-06-09T23:38:46.151Z"
   },
   {
    "duration": 8,
    "start_time": "2022-06-09T23:38:46.223Z"
   },
   {
    "duration": 17,
    "start_time": "2022-06-09T23:38:46.232Z"
   },
   {
    "duration": 32,
    "start_time": "2022-06-09T23:38:46.251Z"
   },
   {
    "duration": 4,
    "start_time": "2022-06-09T23:38:46.286Z"
   },
   {
    "duration": 11,
    "start_time": "2022-06-09T23:38:46.292Z"
   },
   {
    "duration": 12,
    "start_time": "2022-06-09T23:38:46.305Z"
   },
   {
    "duration": 276,
    "start_time": "2022-06-09T23:38:46.318Z"
   },
   {
    "duration": 16,
    "start_time": "2022-06-09T23:38:46.596Z"
   },
   {
    "duration": 7,
    "start_time": "2022-06-09T23:38:46.613Z"
   },
   {
    "duration": 270,
    "start_time": "2022-06-09T23:38:46.621Z"
   },
   {
    "duration": 187,
    "start_time": "2022-06-09T23:38:46.893Z"
   },
   {
    "duration": 288,
    "start_time": "2022-06-09T23:38:47.082Z"
   },
   {
    "duration": 183,
    "start_time": "2022-06-09T23:38:47.372Z"
   },
   {
    "duration": 307,
    "start_time": "2022-06-09T23:38:47.558Z"
   },
   {
    "duration": 121,
    "start_time": "2022-06-09T23:38:47.867Z"
   },
   {
    "duration": 5,
    "start_time": "2022-06-09T23:38:47.989Z"
   },
   {
    "duration": 148,
    "start_time": "2022-06-09T23:38:47.995Z"
   },
   {
    "duration": 13,
    "start_time": "2022-06-09T23:38:48.145Z"
   },
   {
    "duration": 237,
    "start_time": "2022-06-09T23:38:48.160Z"
   },
   {
    "duration": 174,
    "start_time": "2022-06-09T23:38:48.399Z"
   },
   {
    "duration": 10,
    "start_time": "2022-06-09T23:38:48.575Z"
   },
   {
    "duration": 10,
    "start_time": "2022-06-09T23:38:48.588Z"
   },
   {
    "duration": 31,
    "start_time": "2022-06-09T23:38:48.600Z"
   },
   {
    "duration": 36,
    "start_time": "2022-06-09T23:38:48.632Z"
   },
   {
    "duration": 297,
    "start_time": "2022-06-09T23:46:22.152Z"
   },
   {
    "duration": 286,
    "start_time": "2022-06-09T23:46:56.174Z"
   },
   {
    "duration": 446,
    "start_time": "2022-06-09T23:47:01.558Z"
   },
   {
    "duration": 957,
    "start_time": "2022-06-09T23:49:47.004Z"
   },
   {
    "duration": 96,
    "start_time": "2022-06-09T23:49:47.963Z"
   },
   {
    "duration": 3,
    "start_time": "2022-06-09T23:49:48.061Z"
   },
   {
    "duration": 20,
    "start_time": "2022-06-09T23:49:48.066Z"
   },
   {
    "duration": 8,
    "start_time": "2022-06-09T23:49:48.088Z"
   },
   {
    "duration": 55,
    "start_time": "2022-06-09T23:49:48.098Z"
   },
   {
    "duration": 8,
    "start_time": "2022-06-09T23:49:48.155Z"
   },
   {
    "duration": 13,
    "start_time": "2022-06-09T23:49:48.164Z"
   },
   {
    "duration": 32,
    "start_time": "2022-06-09T23:49:48.179Z"
   },
   {
    "duration": 4,
    "start_time": "2022-06-09T23:49:48.213Z"
   },
   {
    "duration": 12,
    "start_time": "2022-06-09T23:49:48.219Z"
   },
   {
    "duration": 5,
    "start_time": "2022-06-09T23:49:48.233Z"
   },
   {
    "duration": 295,
    "start_time": "2022-06-09T23:49:48.239Z"
   },
   {
    "duration": 23,
    "start_time": "2022-06-09T23:49:48.536Z"
   },
   {
    "duration": 6,
    "start_time": "2022-06-09T23:49:48.561Z"
   },
   {
    "duration": 268,
    "start_time": "2022-06-09T23:49:48.569Z"
   },
   {
    "duration": 184,
    "start_time": "2022-06-09T23:49:48.839Z"
   },
   {
    "duration": 353,
    "start_time": "2022-06-09T23:49:49.024Z"
   },
   {
    "duration": 185,
    "start_time": "2022-06-09T23:49:49.379Z"
   },
   {
    "duration": 277,
    "start_time": "2022-06-09T23:49:49.566Z"
   },
   {
    "duration": 129,
    "start_time": "2022-06-09T23:49:49.844Z"
   },
   {
    "duration": 4,
    "start_time": "2022-06-09T23:49:49.974Z"
   },
   {
    "duration": 147,
    "start_time": "2022-06-09T23:49:49.980Z"
   },
   {
    "duration": 4,
    "start_time": "2022-06-09T23:49:50.128Z"
   },
   {
    "duration": 251,
    "start_time": "2022-06-09T23:49:50.134Z"
   },
   {
    "duration": 165,
    "start_time": "2022-06-09T23:49:50.387Z"
   },
   {
    "duration": 11,
    "start_time": "2022-06-09T23:49:50.554Z"
   },
   {
    "duration": 10,
    "start_time": "2022-06-09T23:49:50.568Z"
   },
   {
    "duration": 33,
    "start_time": "2022-06-09T23:49:50.580Z"
   },
   {
    "duration": 14,
    "start_time": "2022-06-09T23:49:50.614Z"
   },
   {
    "duration": 968,
    "start_time": "2022-06-10T10:37:29.792Z"
   },
   {
    "duration": 83,
    "start_time": "2022-06-10T10:37:30.762Z"
   },
   {
    "duration": 3,
    "start_time": "2022-06-10T10:37:30.846Z"
   },
   {
    "duration": 16,
    "start_time": "2022-06-10T10:37:30.851Z"
   },
   {
    "duration": 7,
    "start_time": "2022-06-10T10:37:30.869Z"
   },
   {
    "duration": 68,
    "start_time": "2022-06-10T10:37:30.877Z"
   },
   {
    "duration": 6,
    "start_time": "2022-06-10T10:37:30.947Z"
   },
   {
    "duration": 17,
    "start_time": "2022-06-10T10:37:30.954Z"
   },
   {
    "duration": 38,
    "start_time": "2022-06-10T10:37:30.973Z"
   },
   {
    "duration": 4,
    "start_time": "2022-06-10T10:37:31.014Z"
   },
   {
    "duration": 14,
    "start_time": "2022-06-10T10:37:31.019Z"
   },
   {
    "duration": 10,
    "start_time": "2022-06-10T10:37:31.035Z"
   },
   {
    "duration": 259,
    "start_time": "2022-06-10T10:37:31.046Z"
   },
   {
    "duration": 23,
    "start_time": "2022-06-10T10:37:31.307Z"
   },
   {
    "duration": 6,
    "start_time": "2022-06-10T10:37:31.331Z"
   },
   {
    "duration": 227,
    "start_time": "2022-06-10T10:37:31.338Z"
   },
   {
    "duration": 160,
    "start_time": "2022-06-10T10:37:31.567Z"
   },
   {
    "duration": 302,
    "start_time": "2022-06-10T10:37:31.728Z"
   },
   {
    "duration": 169,
    "start_time": "2022-06-10T10:37:32.032Z"
   },
   {
    "duration": 296,
    "start_time": "2022-06-10T10:37:32.203Z"
   },
   {
    "duration": 105,
    "start_time": "2022-06-10T10:37:32.501Z"
   },
   {
    "duration": 3,
    "start_time": "2022-06-10T10:37:32.608Z"
   },
   {
    "duration": 139,
    "start_time": "2022-06-10T10:37:32.612Z"
   },
   {
    "duration": 4,
    "start_time": "2022-06-10T10:37:32.752Z"
   },
   {
    "duration": 228,
    "start_time": "2022-06-10T10:37:32.757Z"
   },
   {
    "duration": 155,
    "start_time": "2022-06-10T10:37:32.986Z"
   },
   {
    "duration": 9,
    "start_time": "2022-06-10T10:37:33.143Z"
   },
   {
    "duration": 9,
    "start_time": "2022-06-10T10:37:33.155Z"
   },
   {
    "duration": 31,
    "start_time": "2022-06-10T10:37:33.165Z"
   },
   {
    "duration": 30,
    "start_time": "2022-06-10T10:37:33.197Z"
   },
   {
    "duration": 143,
    "start_time": "2022-06-10T11:05:46.600Z"
   },
   {
    "duration": 946,
    "start_time": "2022-06-10T11:09:57.939Z"
   },
   {
    "duration": 83,
    "start_time": "2022-06-10T11:09:58.887Z"
   },
   {
    "duration": 3,
    "start_time": "2022-06-10T11:09:58.971Z"
   },
   {
    "duration": 16,
    "start_time": "2022-06-10T11:09:58.976Z"
   },
   {
    "duration": 20,
    "start_time": "2022-06-10T11:09:58.994Z"
   },
   {
    "duration": 75,
    "start_time": "2022-06-10T11:09:59.015Z"
   },
   {
    "duration": 6,
    "start_time": "2022-06-10T11:09:59.092Z"
   },
   {
    "duration": 30,
    "start_time": "2022-06-10T11:09:59.099Z"
   },
   {
    "duration": 45,
    "start_time": "2022-06-10T11:09:59.130Z"
   },
   {
    "duration": 3,
    "start_time": "2022-06-10T11:09:59.177Z"
   },
   {
    "duration": 24,
    "start_time": "2022-06-10T11:09:59.182Z"
   },
   {
    "duration": 32,
    "start_time": "2022-06-10T11:09:59.208Z"
   },
   {
    "duration": 264,
    "start_time": "2022-06-10T11:09:59.242Z"
   },
   {
    "duration": 19,
    "start_time": "2022-06-10T11:09:59.509Z"
   },
   {
    "duration": 21,
    "start_time": "2022-06-10T11:09:59.529Z"
   },
   {
    "duration": 244,
    "start_time": "2022-06-10T11:09:59.551Z"
   },
   {
    "duration": 161,
    "start_time": "2022-06-10T11:09:59.797Z"
   },
   {
    "duration": 290,
    "start_time": "2022-06-10T11:09:59.959Z"
   },
   {
    "duration": 161,
    "start_time": "2022-06-10T11:10:00.251Z"
   },
   {
    "duration": 290,
    "start_time": "2022-06-10T11:10:00.414Z"
   },
   {
    "duration": 121,
    "start_time": "2022-06-10T11:10:00.706Z"
   },
   {
    "duration": 5,
    "start_time": "2022-06-10T11:10:00.828Z"
   },
   {
    "duration": 152,
    "start_time": "2022-06-10T11:10:00.834Z"
   },
   {
    "duration": 4,
    "start_time": "2022-06-10T11:10:00.988Z"
   },
   {
    "duration": 240,
    "start_time": "2022-06-10T11:10:00.994Z"
   },
   {
    "duration": 159,
    "start_time": "2022-06-10T11:10:01.236Z"
   },
   {
    "duration": 10,
    "start_time": "2022-06-10T11:10:01.397Z"
   },
   {
    "duration": 36,
    "start_time": "2022-06-10T11:10:01.408Z"
   },
   {
    "duration": 64,
    "start_time": "2022-06-10T11:10:01.446Z"
   },
   {
    "duration": 23,
    "start_time": "2022-06-10T11:10:01.512Z"
   },
   {
    "duration": 1124,
    "start_time": "2022-06-10T15:29:38.567Z"
   },
   {
    "duration": 1040,
    "start_time": "2022-06-10T15:30:15.310Z"
   },
   {
    "duration": 132,
    "start_time": "2022-06-10T15:30:18.069Z"
   },
   {
    "duration": 38,
    "start_time": "2022-06-10T15:30:44.092Z"
   },
   {
    "duration": 4,
    "start_time": "2022-06-10T15:30:51.438Z"
   },
   {
    "duration": 42,
    "start_time": "2022-06-10T15:31:10.222Z"
   },
   {
    "duration": 13,
    "start_time": "2022-06-10T15:31:23.675Z"
   },
   {
    "duration": 10,
    "start_time": "2022-06-10T15:31:32.817Z"
   },
   {
    "duration": 11,
    "start_time": "2022-06-10T15:31:56.211Z"
   },
   {
    "duration": 39,
    "start_time": "2022-06-10T15:32:13.216Z"
   },
   {
    "duration": 107,
    "start_time": "2022-06-10T15:41:08.041Z"
   },
   {
    "duration": 1027,
    "start_time": "2022-06-10T15:41:20.594Z"
   },
   {
    "duration": 105,
    "start_time": "2022-06-10T15:41:23.166Z"
   },
   {
    "duration": 3,
    "start_time": "2022-06-10T15:41:25.366Z"
   },
   {
    "duration": 13,
    "start_time": "2022-06-10T15:41:27.064Z"
   },
   {
    "duration": 11,
    "start_time": "2022-06-10T15:41:30.533Z"
   },
   {
    "duration": 112,
    "start_time": "2022-06-10T15:41:38.243Z"
   },
   {
    "duration": 7,
    "start_time": "2022-06-10T15:41:40.935Z"
   },
   {
    "duration": 11,
    "start_time": "2022-06-10T15:41:42.957Z"
   },
   {
    "duration": 74,
    "start_time": "2022-06-10T15:41:44.706Z"
   },
   {
    "duration": 4,
    "start_time": "2022-06-10T15:41:47.256Z"
   },
   {
    "duration": 8,
    "start_time": "2022-06-10T15:41:49.715Z"
   },
   {
    "duration": 985,
    "start_time": "2022-06-10T15:45:32.523Z"
   },
   {
    "duration": 97,
    "start_time": "2022-06-10T15:45:34.740Z"
   },
   {
    "duration": 4,
    "start_time": "2022-06-10T15:45:37.147Z"
   },
   {
    "duration": 12,
    "start_time": "2022-06-10T15:45:38.528Z"
   },
   {
    "duration": 11,
    "start_time": "2022-06-10T15:45:40.567Z"
   },
   {
    "duration": 63,
    "start_time": "2022-06-10T15:45:43.210Z"
   },
   {
    "duration": 8,
    "start_time": "2022-06-10T15:45:45.115Z"
   },
   {
    "duration": 12,
    "start_time": "2022-06-10T15:45:47.387Z"
   },
   {
    "duration": 39,
    "start_time": "2022-06-10T15:45:48.907Z"
   },
   {
    "duration": 4,
    "start_time": "2022-06-10T15:45:51.284Z"
   },
   {
    "duration": 6,
    "start_time": "2022-06-10T15:45:53.158Z"
   },
   {
    "duration": 6,
    "start_time": "2022-06-10T15:45:57.850Z"
   },
   {
    "duration": 283,
    "start_time": "2022-06-10T15:45:59.133Z"
   },
   {
    "duration": 17,
    "start_time": "2022-06-10T15:46:01.810Z"
   },
   {
    "duration": 7,
    "start_time": "2022-06-10T15:46:03.864Z"
   },
   {
    "duration": 311,
    "start_time": "2022-06-10T15:46:06.674Z"
   },
   {
    "duration": 175,
    "start_time": "2022-06-10T15:47:55.559Z"
   },
   {
    "duration": 188,
    "start_time": "2022-06-10T15:48:55.815Z"
   },
   {
    "duration": 173,
    "start_time": "2022-06-10T15:49:14.520Z"
   },
   {
    "duration": 174,
    "start_time": "2022-06-10T15:49:51.085Z"
   },
   {
    "duration": 312,
    "start_time": "2022-06-10T15:51:03.211Z"
   },
   {
    "duration": 334,
    "start_time": "2022-06-10T15:52:00.843Z"
   },
   {
    "duration": 193,
    "start_time": "2022-06-10T15:52:54.222Z"
   },
   {
    "duration": 348,
    "start_time": "2022-06-10T15:54:17.251Z"
   },
   {
    "duration": 23,
    "start_time": "2022-06-10T15:57:36.596Z"
   },
   {
    "duration": 232,
    "start_time": "2022-06-10T15:57:40.248Z"
   },
   {
    "duration": 135,
    "start_time": "2022-06-10T16:00:54.827Z"
   },
   {
    "duration": 175,
    "start_time": "2022-06-10T16:01:21.922Z"
   },
   {
    "duration": 5,
    "start_time": "2022-06-10T16:01:28.414Z"
   },
   {
    "duration": 166,
    "start_time": "2022-06-10T16:03:27.394Z"
   },
   {
    "duration": 158,
    "start_time": "2022-06-10T16:03:38.097Z"
   },
   {
    "duration": 143,
    "start_time": "2022-06-10T16:04:07.155Z"
   },
   {
    "duration": 177,
    "start_time": "2022-06-10T16:04:16.213Z"
   },
   {
    "duration": 160,
    "start_time": "2022-06-10T16:04:22.420Z"
   },
   {
    "duration": 161,
    "start_time": "2022-06-10T16:04:35.505Z"
   },
   {
    "duration": 154,
    "start_time": "2022-06-10T16:04:45.397Z"
   },
   {
    "duration": 142,
    "start_time": "2022-06-10T16:05:07.626Z"
   },
   {
    "duration": 162,
    "start_time": "2022-06-10T16:10:05.426Z"
   },
   {
    "duration": 152,
    "start_time": "2022-06-10T16:10:18.013Z"
   },
   {
    "duration": 5,
    "start_time": "2022-06-10T16:10:26.419Z"
   },
   {
    "duration": 185,
    "start_time": "2022-06-10T16:30:21.582Z"
   },
   {
    "duration": 11,
    "start_time": "2022-06-10T16:30:24.966Z"
   },
   {
    "duration": 1042,
    "start_time": "2022-06-10T16:33:41.068Z"
   },
   {
    "duration": 92,
    "start_time": "2022-06-10T16:33:42.112Z"
   },
   {
    "duration": 3,
    "start_time": "2022-06-10T16:33:42.206Z"
   },
   {
    "duration": 21,
    "start_time": "2022-06-10T16:33:42.226Z"
   },
   {
    "duration": 12,
    "start_time": "2022-06-10T16:33:42.249Z"
   },
   {
    "duration": 52,
    "start_time": "2022-06-10T16:33:42.263Z"
   },
   {
    "duration": 9,
    "start_time": "2022-06-10T16:33:42.317Z"
   },
   {
    "duration": 27,
    "start_time": "2022-06-10T16:33:42.328Z"
   },
   {
    "duration": 38,
    "start_time": "2022-06-10T16:33:42.357Z"
   },
   {
    "duration": 3,
    "start_time": "2022-06-10T16:33:42.398Z"
   },
   {
    "duration": 10,
    "start_time": "2022-06-10T16:33:42.403Z"
   },
   {
    "duration": 115,
    "start_time": "2022-06-10T16:33:42.415Z"
   },
   {
    "duration": 1,
    "start_time": "2022-06-10T16:33:42.538Z"
   },
   {
    "duration": 0,
    "start_time": "2022-06-10T16:33:42.540Z"
   },
   {
    "duration": 0,
    "start_time": "2022-06-10T16:33:42.542Z"
   },
   {
    "duration": 0,
    "start_time": "2022-06-10T16:33:42.543Z"
   },
   {
    "duration": 0,
    "start_time": "2022-06-10T16:33:42.544Z"
   },
   {
    "duration": 0,
    "start_time": "2022-06-10T16:33:42.546Z"
   },
   {
    "duration": 0,
    "start_time": "2022-06-10T16:33:42.548Z"
   },
   {
    "duration": 0,
    "start_time": "2022-06-10T16:33:42.550Z"
   },
   {
    "duration": 0,
    "start_time": "2022-06-10T16:33:42.552Z"
   },
   {
    "duration": 0,
    "start_time": "2022-06-10T16:33:42.554Z"
   },
   {
    "duration": 0,
    "start_time": "2022-06-10T16:33:42.556Z"
   },
   {
    "duration": 0,
    "start_time": "2022-06-10T16:33:42.558Z"
   },
   {
    "duration": 0,
    "start_time": "2022-06-10T16:33:42.560Z"
   },
   {
    "duration": 0,
    "start_time": "2022-06-10T16:33:42.561Z"
   },
   {
    "duration": 0,
    "start_time": "2022-06-10T16:33:42.563Z"
   },
   {
    "duration": 0,
    "start_time": "2022-06-10T16:33:42.564Z"
   },
   {
    "duration": 0,
    "start_time": "2022-06-10T16:33:42.566Z"
   },
   {
    "duration": 0,
    "start_time": "2022-06-10T16:33:42.567Z"
   },
   {
    "duration": 0,
    "start_time": "2022-06-10T16:33:42.569Z"
   },
   {
    "duration": 0,
    "start_time": "2022-06-10T16:33:42.570Z"
   },
   {
    "duration": 6,
    "start_time": "2022-06-10T16:37:25.315Z"
   },
   {
    "duration": 256,
    "start_time": "2022-06-10T16:37:26.642Z"
   },
   {
    "duration": 16,
    "start_time": "2022-06-10T16:37:29.471Z"
   },
   {
    "duration": 7,
    "start_time": "2022-06-10T16:37:40.394Z"
   },
   {
    "duration": 287,
    "start_time": "2022-06-10T16:37:52.755Z"
   },
   {
    "duration": 192,
    "start_time": "2022-06-10T16:38:00.375Z"
   },
   {
    "duration": 318,
    "start_time": "2022-06-10T16:38:04.130Z"
   },
   {
    "duration": 195,
    "start_time": "2022-06-10T16:38:08.764Z"
   },
   {
    "duration": 300,
    "start_time": "2022-06-10T16:38:14.939Z"
   },
   {
    "duration": 129,
    "start_time": "2022-06-10T16:38:21.230Z"
   },
   {
    "duration": 360,
    "start_time": "2022-06-10T16:39:23.395Z"
   },
   {
    "duration": 332,
    "start_time": "2022-06-10T16:39:44.980Z"
   },
   {
    "duration": 299,
    "start_time": "2022-06-10T16:40:19.333Z"
   },
   {
    "duration": 392,
    "start_time": "2022-06-10T16:40:41.098Z"
   },
   {
    "duration": 316,
    "start_time": "2022-06-10T16:40:57.628Z"
   },
   {
    "duration": 299,
    "start_time": "2022-06-10T16:45:43.730Z"
   },
   {
    "duration": 299,
    "start_time": "2022-06-10T16:46:08.939Z"
   },
   {
    "duration": 313,
    "start_time": "2022-06-10T16:47:38.233Z"
   },
   {
    "duration": 321,
    "start_time": "2022-06-10T16:49:46.319Z"
   },
   {
    "duration": 360,
    "start_time": "2022-06-10T16:50:05.615Z"
   },
   {
    "duration": 330,
    "start_time": "2022-06-10T16:50:34.598Z"
   },
   {
    "duration": 271,
    "start_time": "2022-06-10T16:50:49.760Z"
   },
   {
    "duration": 1115,
    "start_time": "2022-06-10T16:51:44.035Z"
   },
   {
    "duration": 101,
    "start_time": "2022-06-10T16:51:45.152Z"
   },
   {
    "duration": 6,
    "start_time": "2022-06-10T16:51:45.255Z"
   },
   {
    "duration": 17,
    "start_time": "2022-06-10T16:51:45.263Z"
   },
   {
    "duration": 11,
    "start_time": "2022-06-10T16:51:45.282Z"
   },
   {
    "duration": 59,
    "start_time": "2022-06-10T16:51:45.295Z"
   },
   {
    "duration": 8,
    "start_time": "2022-06-10T16:51:45.355Z"
   },
   {
    "duration": 15,
    "start_time": "2022-06-10T16:51:45.364Z"
   },
   {
    "duration": 33,
    "start_time": "2022-06-10T16:51:45.381Z"
   },
   {
    "duration": 4,
    "start_time": "2022-06-10T16:51:45.417Z"
   },
   {
    "duration": 10,
    "start_time": "2022-06-10T16:51:45.423Z"
   },
   {
    "duration": 10,
    "start_time": "2022-06-10T16:51:45.435Z"
   },
   {
    "duration": 19,
    "start_time": "2022-06-10T16:51:45.447Z"
   },
   {
    "duration": 290,
    "start_time": "2022-06-10T16:51:45.468Z"
   },
   {
    "duration": 17,
    "start_time": "2022-06-10T16:51:45.759Z"
   },
   {
    "duration": 13,
    "start_time": "2022-06-10T16:51:45.778Z"
   },
   {
    "duration": 323,
    "start_time": "2022-06-10T16:51:45.793Z"
   },
   {
    "duration": 202,
    "start_time": "2022-06-10T16:51:46.118Z"
   },
   {
    "duration": 337,
    "start_time": "2022-06-10T16:51:46.323Z"
   },
   {
    "duration": 190,
    "start_time": "2022-06-10T16:51:46.662Z"
   },
   {
    "duration": 285,
    "start_time": "2022-06-10T16:51:46.854Z"
   },
   {
    "duration": 139,
    "start_time": "2022-06-10T16:51:47.141Z"
   },
   {
    "duration": 5,
    "start_time": "2022-06-10T16:51:47.282Z"
   },
   {
    "duration": 162,
    "start_time": "2022-06-10T16:51:47.289Z"
   },
   {
    "duration": 146,
    "start_time": "2022-06-10T16:51:47.453Z"
   },
   {
    "duration": 4,
    "start_time": "2022-06-10T16:51:47.601Z"
   },
   {
    "duration": 230,
    "start_time": "2022-06-10T16:51:47.607Z"
   },
   {
    "duration": 173,
    "start_time": "2022-06-10T16:51:47.840Z"
   },
   {
    "duration": 10,
    "start_time": "2022-06-10T16:51:48.023Z"
   },
   {
    "duration": 33,
    "start_time": "2022-06-10T16:51:48.035Z"
   },
   {
    "duration": 70,
    "start_time": "2022-06-10T16:51:48.070Z"
   },
   {
    "duration": 14,
    "start_time": "2022-06-10T16:51:48.142Z"
   },
   {
    "duration": 10,
    "start_time": "2022-06-10T17:02:06.923Z"
   },
   {
    "duration": 11,
    "start_time": "2022-06-10T17:04:29.393Z"
   },
   {
    "duration": 278,
    "start_time": "2022-06-10T17:04:57.928Z"
   },
   {
    "duration": 13,
    "start_time": "2022-06-10T17:05:07.351Z"
   },
   {
    "duration": 22,
    "start_time": "2022-06-10T17:05:47.635Z"
   },
   {
    "duration": 20,
    "start_time": "2022-06-10T17:06:31.994Z"
   },
   {
    "duration": 20,
    "start_time": "2022-06-10T17:06:46.840Z"
   },
   {
    "duration": 14,
    "start_time": "2022-06-10T17:07:21.258Z"
   },
   {
    "duration": 14,
    "start_time": "2022-06-10T17:07:48.855Z"
   },
   {
    "duration": 19,
    "start_time": "2022-06-10T17:09:37.506Z"
   },
   {
    "duration": 9,
    "start_time": "2022-06-10T17:20:10.841Z"
   },
   {
    "duration": 5,
    "start_time": "2022-06-10T17:28:26.082Z"
   },
   {
    "duration": 7,
    "start_time": "2022-06-10T17:29:40.880Z"
   },
   {
    "duration": 434,
    "start_time": "2022-06-10T17:32:42.615Z"
   },
   {
    "duration": 16,
    "start_time": "2022-06-10T17:34:51.271Z"
   },
   {
    "duration": 11,
    "start_time": "2022-06-10T17:35:04.839Z"
   },
   {
    "duration": 14,
    "start_time": "2022-06-10T17:35:10.337Z"
   },
   {
    "duration": 11,
    "start_time": "2022-06-10T17:47:49.255Z"
   },
   {
    "duration": 11,
    "start_time": "2022-06-10T17:48:10.829Z"
   },
   {
    "duration": 10,
    "start_time": "2022-06-10T17:48:50.550Z"
   },
   {
    "duration": 13,
    "start_time": "2022-06-10T17:49:28.806Z"
   },
   {
    "duration": 1038,
    "start_time": "2022-06-10T17:52:44.488Z"
   },
   {
    "duration": 103,
    "start_time": "2022-06-10T17:52:45.527Z"
   },
   {
    "duration": 3,
    "start_time": "2022-06-10T17:52:45.631Z"
   },
   {
    "duration": 14,
    "start_time": "2022-06-10T17:52:45.636Z"
   },
   {
    "duration": 19,
    "start_time": "2022-06-10T17:52:45.651Z"
   },
   {
    "duration": 58,
    "start_time": "2022-06-10T17:52:45.672Z"
   },
   {
    "duration": 8,
    "start_time": "2022-06-10T17:52:45.732Z"
   },
   {
    "duration": 14,
    "start_time": "2022-06-10T17:52:45.741Z"
   },
   {
    "duration": 33,
    "start_time": "2022-06-10T17:52:45.757Z"
   },
   {
    "duration": 4,
    "start_time": "2022-06-10T17:52:45.794Z"
   },
   {
    "duration": 13,
    "start_time": "2022-06-10T17:52:45.800Z"
   },
   {
    "duration": 100,
    "start_time": "2022-06-10T17:52:45.823Z"
   },
   {
    "duration": 0,
    "start_time": "2022-06-10T17:52:45.925Z"
   },
   {
    "duration": 0,
    "start_time": "2022-06-10T17:52:45.926Z"
   },
   {
    "duration": 0,
    "start_time": "2022-06-10T17:52:45.927Z"
   },
   {
    "duration": 0,
    "start_time": "2022-06-10T17:52:45.928Z"
   },
   {
    "duration": 0,
    "start_time": "2022-06-10T17:52:45.929Z"
   },
   {
    "duration": 0,
    "start_time": "2022-06-10T17:52:45.930Z"
   },
   {
    "duration": 0,
    "start_time": "2022-06-10T17:52:45.931Z"
   },
   {
    "duration": 0,
    "start_time": "2022-06-10T17:52:45.932Z"
   },
   {
    "duration": 0,
    "start_time": "2022-06-10T17:52:45.933Z"
   },
   {
    "duration": 0,
    "start_time": "2022-06-10T17:52:45.934Z"
   },
   {
    "duration": 0,
    "start_time": "2022-06-10T17:52:45.936Z"
   },
   {
    "duration": 0,
    "start_time": "2022-06-10T17:52:45.937Z"
   },
   {
    "duration": 0,
    "start_time": "2022-06-10T17:52:45.938Z"
   },
   {
    "duration": 0,
    "start_time": "2022-06-10T17:52:45.939Z"
   },
   {
    "duration": 0,
    "start_time": "2022-06-10T17:52:45.940Z"
   },
   {
    "duration": 0,
    "start_time": "2022-06-10T17:52:45.941Z"
   },
   {
    "duration": 0,
    "start_time": "2022-06-10T17:52:45.945Z"
   },
   {
    "duration": 0,
    "start_time": "2022-06-10T17:52:45.947Z"
   },
   {
    "duration": 0,
    "start_time": "2022-06-10T17:52:45.948Z"
   },
   {
    "duration": 0,
    "start_time": "2022-06-10T17:52:45.950Z"
   },
   {
    "duration": 12,
    "start_time": "2022-06-10T17:55:00.523Z"
   },
   {
    "duration": 7,
    "start_time": "2022-06-10T17:57:05.965Z"
   },
   {
    "duration": 14,
    "start_time": "2022-06-10T17:57:18.529Z"
   },
   {
    "duration": 5,
    "start_time": "2022-06-10T18:02:24.573Z"
   },
   {
    "duration": 8,
    "start_time": "2022-06-10T18:02:35.110Z"
   },
   {
    "duration": 26,
    "start_time": "2022-06-10T18:03:48.928Z"
   },
   {
    "duration": 7,
    "start_time": "2022-06-10T18:05:01.450Z"
   },
   {
    "duration": 279,
    "start_time": "2022-06-10T18:05:02.986Z"
   },
   {
    "duration": 16,
    "start_time": "2022-06-10T18:05:05.660Z"
   },
   {
    "duration": 6,
    "start_time": "2022-06-10T18:05:10.876Z"
   },
   {
    "duration": 290,
    "start_time": "2022-06-10T18:05:12.858Z"
   },
   {
    "duration": 196,
    "start_time": "2022-06-10T18:05:24.968Z"
   },
   {
    "duration": 315,
    "start_time": "2022-06-10T18:05:38.502Z"
   },
   {
    "duration": 190,
    "start_time": "2022-06-10T18:05:42.178Z"
   },
   {
    "duration": 265,
    "start_time": "2022-06-10T18:05:48.347Z"
   },
   {
    "duration": 143,
    "start_time": "2022-06-10T18:05:52.896Z"
   },
   {
    "duration": 126,
    "start_time": "2022-06-10T18:06:15.480Z"
   },
   {
    "duration": 147,
    "start_time": "2022-06-10T18:06:18.915Z"
   },
   {
    "duration": 5,
    "start_time": "2022-06-10T18:06:23.060Z"
   },
   {
    "duration": 4,
    "start_time": "2022-06-10T18:06:38.530Z"
   },
   {
    "duration": 237,
    "start_time": "2022-06-10T18:12:00.644Z"
   },
   {
    "duration": 147,
    "start_time": "2022-06-10T18:12:06.270Z"
   },
   {
    "duration": 13,
    "start_time": "2022-06-10T18:12:09.209Z"
   },
   {
    "duration": 12,
    "start_time": "2022-06-10T18:12:19.392Z"
   },
   {
    "duration": 42,
    "start_time": "2022-06-10T18:12:31.122Z"
   },
   {
    "duration": 14,
    "start_time": "2022-06-10T18:12:50.293Z"
   },
   {
    "duration": 43,
    "start_time": "2022-06-10T18:32:50.090Z"
   },
   {
    "duration": 8,
    "start_time": "2022-06-10T18:33:01.766Z"
   },
   {
    "duration": 1006,
    "start_time": "2022-06-10T18:34:40.396Z"
   },
   {
    "duration": 76,
    "start_time": "2022-06-10T18:34:41.404Z"
   },
   {
    "duration": 5,
    "start_time": "2022-06-10T18:34:41.481Z"
   },
   {
    "duration": 13,
    "start_time": "2022-06-10T18:34:41.488Z"
   },
   {
    "duration": 30,
    "start_time": "2022-06-10T18:34:41.503Z"
   },
   {
    "duration": 53,
    "start_time": "2022-06-10T18:34:41.535Z"
   },
   {
    "duration": 7,
    "start_time": "2022-06-10T18:34:41.590Z"
   },
   {
    "duration": 13,
    "start_time": "2022-06-10T18:34:41.599Z"
   },
   {
    "duration": 33,
    "start_time": "2022-06-10T18:34:41.614Z"
   },
   {
    "duration": 4,
    "start_time": "2022-06-10T18:34:41.650Z"
   },
   {
    "duration": 11,
    "start_time": "2022-06-10T18:34:41.656Z"
   },
   {
    "duration": 19,
    "start_time": "2022-06-10T18:34:41.668Z"
   },
   {
    "duration": 122,
    "start_time": "2022-06-10T18:34:41.689Z"
   },
   {
    "duration": 0,
    "start_time": "2022-06-10T18:34:41.814Z"
   },
   {
    "duration": 0,
    "start_time": "2022-06-10T18:34:41.815Z"
   },
   {
    "duration": 0,
    "start_time": "2022-06-10T18:34:41.823Z"
   },
   {
    "duration": 0,
    "start_time": "2022-06-10T18:34:41.824Z"
   },
   {
    "duration": 0,
    "start_time": "2022-06-10T18:34:41.825Z"
   },
   {
    "duration": 0,
    "start_time": "2022-06-10T18:34:41.825Z"
   },
   {
    "duration": 0,
    "start_time": "2022-06-10T18:34:41.826Z"
   },
   {
    "duration": 0,
    "start_time": "2022-06-10T18:34:41.827Z"
   },
   {
    "duration": 0,
    "start_time": "2022-06-10T18:34:41.828Z"
   },
   {
    "duration": 0,
    "start_time": "2022-06-10T18:34:41.829Z"
   },
   {
    "duration": 0,
    "start_time": "2022-06-10T18:34:41.830Z"
   },
   {
    "duration": 0,
    "start_time": "2022-06-10T18:34:41.832Z"
   },
   {
    "duration": 0,
    "start_time": "2022-06-10T18:34:41.833Z"
   },
   {
    "duration": 0,
    "start_time": "2022-06-10T18:34:41.833Z"
   },
   {
    "duration": 0,
    "start_time": "2022-06-10T18:34:41.834Z"
   },
   {
    "duration": 0,
    "start_time": "2022-06-10T18:34:41.835Z"
   },
   {
    "duration": 0,
    "start_time": "2022-06-10T18:34:41.836Z"
   },
   {
    "duration": 0,
    "start_time": "2022-06-10T18:34:41.836Z"
   },
   {
    "duration": 0,
    "start_time": "2022-06-10T18:34:41.837Z"
   },
   {
    "duration": 0,
    "start_time": "2022-06-10T18:34:41.839Z"
   },
   {
    "duration": 0,
    "start_time": "2022-06-10T18:34:41.841Z"
   },
   {
    "duration": 8,
    "start_time": "2022-06-10T18:35:36.646Z"
   },
   {
    "duration": 13,
    "start_time": "2022-06-10T18:35:39.119Z"
   },
   {
    "duration": 6,
    "start_time": "2022-06-10T18:35:42.860Z"
   },
   {
    "duration": 251,
    "start_time": "2022-06-10T18:36:30.644Z"
   },
   {
    "duration": 15,
    "start_time": "2022-06-10T18:36:36.841Z"
   },
   {
    "duration": 7,
    "start_time": "2022-06-10T18:36:42.202Z"
   },
   {
    "duration": 261,
    "start_time": "2022-06-10T18:36:44.170Z"
   },
   {
    "duration": 202,
    "start_time": "2022-06-10T18:37:02.010Z"
   },
   {
    "duration": 309,
    "start_time": "2022-06-10T18:37:37.821Z"
   },
   {
    "duration": 178,
    "start_time": "2022-06-10T18:37:56.914Z"
   },
   {
    "duration": 298,
    "start_time": "2022-06-10T18:38:20.607Z"
   },
   {
    "duration": 141,
    "start_time": "2022-06-10T18:38:37.596Z"
   },
   {
    "duration": 4,
    "start_time": "2022-06-10T18:39:40.236Z"
   },
   {
    "duration": 29,
    "start_time": "2022-06-10T18:42:12.904Z"
   },
   {
    "duration": 128,
    "start_time": "2022-06-10T18:43:35.830Z"
   },
   {
    "duration": 134,
    "start_time": "2022-06-10T18:44:32.882Z"
   },
   {
    "duration": 5,
    "start_time": "2022-06-10T18:44:42.869Z"
   },
   {
    "duration": 232,
    "start_time": "2022-06-10T18:45:47.156Z"
   },
   {
    "duration": 154,
    "start_time": "2022-06-10T18:46:25.428Z"
   },
   {
    "duration": 11,
    "start_time": "2022-06-10T18:47:28.743Z"
   },
   {
    "duration": 9,
    "start_time": "2022-06-10T18:48:15.637Z"
   },
   {
    "duration": 28,
    "start_time": "2022-06-10T18:48:32.914Z"
   },
   {
    "duration": 14,
    "start_time": "2022-06-10T18:48:47.308Z"
   },
   {
    "duration": 993,
    "start_time": "2022-06-10T19:20:26.018Z"
   },
   {
    "duration": 99,
    "start_time": "2022-06-10T19:20:27.013Z"
   },
   {
    "duration": 3,
    "start_time": "2022-06-10T19:20:27.113Z"
   },
   {
    "duration": 14,
    "start_time": "2022-06-10T19:20:27.118Z"
   },
   {
    "duration": 14,
    "start_time": "2022-06-10T19:20:27.134Z"
   },
   {
    "duration": 58,
    "start_time": "2022-06-10T19:20:27.150Z"
   },
   {
    "duration": 7,
    "start_time": "2022-06-10T19:20:27.209Z"
   },
   {
    "duration": 29,
    "start_time": "2022-06-10T19:20:27.217Z"
   },
   {
    "duration": 50,
    "start_time": "2022-06-10T19:20:27.247Z"
   },
   {
    "duration": 4,
    "start_time": "2022-06-10T19:20:27.300Z"
   },
   {
    "duration": 15,
    "start_time": "2022-06-10T19:20:27.305Z"
   },
   {
    "duration": 26,
    "start_time": "2022-06-10T19:20:27.321Z"
   },
   {
    "duration": 24,
    "start_time": "2022-06-10T19:20:27.349Z"
   },
   {
    "duration": 24,
    "start_time": "2022-06-10T19:20:27.375Z"
   },
   {
    "duration": 33,
    "start_time": "2022-06-10T19:20:27.401Z"
   },
   {
    "duration": 272,
    "start_time": "2022-06-10T19:20:27.435Z"
   },
   {
    "duration": 20,
    "start_time": "2022-06-10T19:20:27.709Z"
   },
   {
    "duration": 16,
    "start_time": "2022-06-10T19:20:27.731Z"
   },
   {
    "duration": 290,
    "start_time": "2022-06-10T19:20:27.748Z"
   },
   {
    "duration": 192,
    "start_time": "2022-06-10T19:20:28.040Z"
   },
   {
    "duration": 298,
    "start_time": "2022-06-10T19:20:28.234Z"
   },
   {
    "duration": 179,
    "start_time": "2022-06-10T19:20:28.534Z"
   },
   {
    "duration": 328,
    "start_time": "2022-06-10T19:20:28.722Z"
   },
   {
    "duration": 157,
    "start_time": "2022-06-10T19:20:29.052Z"
   },
   {
    "duration": 12,
    "start_time": "2022-06-10T19:20:29.211Z"
   },
   {
    "duration": 158,
    "start_time": "2022-06-10T19:20:29.225Z"
   },
   {
    "duration": 140,
    "start_time": "2022-06-10T19:20:29.385Z"
   },
   {
    "duration": 4,
    "start_time": "2022-06-10T19:20:29.528Z"
   },
   {
    "duration": 226,
    "start_time": "2022-06-10T19:20:29.534Z"
   },
   {
    "duration": 143,
    "start_time": "2022-06-10T19:20:29.762Z"
   },
   {
    "duration": 18,
    "start_time": "2022-06-10T19:20:29.906Z"
   },
   {
    "duration": 35,
    "start_time": "2022-06-10T19:20:29.926Z"
   },
   {
    "duration": 38,
    "start_time": "2022-06-10T19:20:29.963Z"
   },
   {
    "duration": 13,
    "start_time": "2022-06-10T19:20:30.003Z"
   },
   {
    "duration": 996,
    "start_time": "2022-06-11T09:37:10.184Z"
   },
   {
    "duration": 124,
    "start_time": "2022-06-11T09:37:11.182Z"
   },
   {
    "duration": 3,
    "start_time": "2022-06-11T09:37:11.308Z"
   },
   {
    "duration": 15,
    "start_time": "2022-06-11T09:37:11.313Z"
   },
   {
    "duration": 10,
    "start_time": "2022-06-11T09:37:11.330Z"
   },
   {
    "duration": 102,
    "start_time": "2022-06-11T09:37:11.341Z"
   },
   {
    "duration": 7,
    "start_time": "2022-06-11T09:37:11.445Z"
   },
   {
    "duration": 14,
    "start_time": "2022-06-11T09:37:11.454Z"
   },
   {
    "duration": 70,
    "start_time": "2022-06-11T09:37:11.470Z"
   },
   {
    "duration": 5,
    "start_time": "2022-06-11T09:37:11.543Z"
   },
   {
    "duration": 22,
    "start_time": "2022-06-11T09:37:11.550Z"
   },
   {
    "duration": 16,
    "start_time": "2022-06-11T09:37:11.574Z"
   },
   {
    "duration": 8,
    "start_time": "2022-06-11T09:37:11.591Z"
   },
   {
    "duration": 14,
    "start_time": "2022-06-11T09:37:11.601Z"
   },
   {
    "duration": 6,
    "start_time": "2022-06-11T09:37:11.617Z"
   },
   {
    "duration": 290,
    "start_time": "2022-06-11T09:37:11.624Z"
   },
   {
    "duration": 17,
    "start_time": "2022-06-11T09:37:11.916Z"
   },
   {
    "duration": 8,
    "start_time": "2022-06-11T09:37:11.935Z"
   },
   {
    "duration": 299,
    "start_time": "2022-06-11T09:37:11.945Z"
   },
   {
    "duration": 206,
    "start_time": "2022-06-11T09:37:12.245Z"
   },
   {
    "duration": 354,
    "start_time": "2022-06-11T09:37:12.453Z"
   },
   {
    "duration": 210,
    "start_time": "2022-06-11T09:37:12.809Z"
   },
   {
    "duration": 319,
    "start_time": "2022-06-11T09:37:13.021Z"
   },
   {
    "duration": 171,
    "start_time": "2022-06-11T09:37:13.342Z"
   },
   {
    "duration": 4,
    "start_time": "2022-06-11T09:37:13.515Z"
   },
   {
    "duration": 174,
    "start_time": "2022-06-11T09:37:13.521Z"
   },
   {
    "duration": 144,
    "start_time": "2022-06-11T09:37:13.697Z"
   },
   {
    "duration": 4,
    "start_time": "2022-06-11T09:37:13.844Z"
   },
   {
    "duration": 263,
    "start_time": "2022-06-11T09:37:13.849Z"
   },
   {
    "duration": 180,
    "start_time": "2022-06-11T09:37:14.113Z"
   },
   {
    "duration": 9,
    "start_time": "2022-06-11T09:37:14.295Z"
   },
   {
    "duration": 10,
    "start_time": "2022-06-11T09:37:14.306Z"
   },
   {
    "duration": 55,
    "start_time": "2022-06-11T09:37:14.317Z"
   },
   {
    "duration": 15,
    "start_time": "2022-06-11T09:37:14.374Z"
   },
   {
    "duration": 982,
    "start_time": "2022-06-11T10:01:15.878Z"
   },
   {
    "duration": 74,
    "start_time": "2022-06-11T10:01:16.861Z"
   },
   {
    "duration": 2,
    "start_time": "2022-06-11T10:01:16.937Z"
   },
   {
    "duration": 26,
    "start_time": "2022-06-11T10:01:16.941Z"
   },
   {
    "duration": 13,
    "start_time": "2022-06-11T10:01:16.971Z"
   },
   {
    "duration": 53,
    "start_time": "2022-06-11T10:01:16.986Z"
   },
   {
    "duration": 6,
    "start_time": "2022-06-11T10:01:17.041Z"
   },
   {
    "duration": 13,
    "start_time": "2022-06-11T10:01:17.049Z"
   },
   {
    "duration": 48,
    "start_time": "2022-06-11T10:01:17.063Z"
   },
   {
    "duration": 4,
    "start_time": "2022-06-11T10:01:17.112Z"
   },
   {
    "duration": 10,
    "start_time": "2022-06-11T10:01:17.118Z"
   },
   {
    "duration": 16,
    "start_time": "2022-06-11T10:01:17.129Z"
   },
   {
    "duration": 7,
    "start_time": "2022-06-11T10:01:17.147Z"
   },
   {
    "duration": 23,
    "start_time": "2022-06-11T10:01:17.156Z"
   },
   {
    "duration": 13,
    "start_time": "2022-06-11T10:01:17.181Z"
   },
   {
    "duration": 323,
    "start_time": "2022-06-11T10:01:17.196Z"
   },
   {
    "duration": 16,
    "start_time": "2022-06-11T10:01:17.521Z"
   },
   {
    "duration": 7,
    "start_time": "2022-06-11T10:01:17.539Z"
   },
   {
    "duration": 293,
    "start_time": "2022-06-11T10:01:17.566Z"
   },
   {
    "duration": 211,
    "start_time": "2022-06-11T10:01:17.864Z"
   },
   {
    "duration": 320,
    "start_time": "2022-06-11T10:01:18.078Z"
   },
   {
    "duration": 206,
    "start_time": "2022-06-11T10:01:18.399Z"
   },
   {
    "duration": 296,
    "start_time": "2022-06-11T10:01:18.608Z"
   },
   {
    "duration": 196,
    "start_time": "2022-06-11T10:01:18.906Z"
   },
   {
    "duration": 5,
    "start_time": "2022-06-11T10:01:19.104Z"
   },
   {
    "duration": 184,
    "start_time": "2022-06-11T10:01:19.112Z"
   },
   {
    "duration": 172,
    "start_time": "2022-06-11T10:01:19.298Z"
   },
   {
    "duration": 9,
    "start_time": "2022-06-11T10:01:19.472Z"
   },
   {
    "duration": 245,
    "start_time": "2022-06-11T10:01:19.482Z"
   },
   {
    "duration": 163,
    "start_time": "2022-06-11T10:01:19.729Z"
   },
   {
    "duration": 11,
    "start_time": "2022-06-11T10:01:19.893Z"
   },
   {
    "duration": 24,
    "start_time": "2022-06-11T10:01:19.905Z"
   },
   {
    "duration": 63,
    "start_time": "2022-06-11T10:01:19.930Z"
   },
   {
    "duration": 12,
    "start_time": "2022-06-11T10:01:19.995Z"
   }
  ],
  "kernelspec": {
   "display_name": "Python 3 (ipykernel)",
   "language": "python",
   "name": "python3"
  },
  "language_info": {
   "codemirror_mode": {
    "name": "ipython",
    "version": 3
   },
   "file_extension": ".py",
   "mimetype": "text/x-python",
   "name": "python",
   "nbconvert_exporter": "python",
   "pygments_lexer": "ipython3",
   "version": "3.9.7"
  },
  "toc": {
   "base_numbering": 1,
   "nav_menu": {},
   "number_sections": true,
   "sideBar": true,
   "skip_h1_title": true,
   "title_cell": "Содержание",
   "title_sidebar": "Contents",
   "toc_cell": true,
   "toc_position": {},
   "toc_section_display": true,
   "toc_window_display": false
  }
 },
 "nbformat": 4,
 "nbformat_minor": 2
}
