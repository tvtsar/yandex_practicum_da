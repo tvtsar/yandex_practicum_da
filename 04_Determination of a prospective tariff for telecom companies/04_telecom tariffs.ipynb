{
 "cells": [
  {
   "cell_type": "markdown",
   "metadata": {},
   "source": [
    "## Изучение данных"
   ]
  },
  {
   "cell_type": "code",
   "execution_count": 1,
   "metadata": {},
   "outputs": [
    {
     "data": {
      "text/html": [
       "<div>\n",
       "<style scoped>\n",
       "    .dataframe tbody tr th:only-of-type {\n",
       "        vertical-align: middle;\n",
       "    }\n",
       "\n",
       "    .dataframe tbody tr th {\n",
       "        vertical-align: top;\n",
       "    }\n",
       "\n",
       "    .dataframe thead th {\n",
       "        text-align: right;\n",
       "    }\n",
       "</style>\n",
       "<table border=\"1\" class=\"dataframe\">\n",
       "  <thead>\n",
       "    <tr style=\"text-align: right;\">\n",
       "      <th></th>\n",
       "      <th>id</th>\n",
       "      <th>call_date</th>\n",
       "      <th>duration</th>\n",
       "      <th>user_id</th>\n",
       "    </tr>\n",
       "  </thead>\n",
       "  <tbody>\n",
       "    <tr>\n",
       "      <th>0</th>\n",
       "      <td>1000_0</td>\n",
       "      <td>2018-07-25</td>\n",
       "      <td>0.00</td>\n",
       "      <td>1000</td>\n",
       "    </tr>\n",
       "    <tr>\n",
       "      <th>1</th>\n",
       "      <td>1000_1</td>\n",
       "      <td>2018-08-17</td>\n",
       "      <td>0.00</td>\n",
       "      <td>1000</td>\n",
       "    </tr>\n",
       "    <tr>\n",
       "      <th>2</th>\n",
       "      <td>1000_2</td>\n",
       "      <td>2018-06-11</td>\n",
       "      <td>2.85</td>\n",
       "      <td>1000</td>\n",
       "    </tr>\n",
       "    <tr>\n",
       "      <th>3</th>\n",
       "      <td>1000_3</td>\n",
       "      <td>2018-09-21</td>\n",
       "      <td>13.80</td>\n",
       "      <td>1000</td>\n",
       "    </tr>\n",
       "    <tr>\n",
       "      <th>4</th>\n",
       "      <td>1000_4</td>\n",
       "      <td>2018-12-15</td>\n",
       "      <td>5.18</td>\n",
       "      <td>1000</td>\n",
       "    </tr>\n",
       "  </tbody>\n",
       "</table>\n",
       "</div>"
      ],
      "text/plain": [
       "       id   call_date  duration  user_id\n",
       "0  1000_0  2018-07-25      0.00     1000\n",
       "1  1000_1  2018-08-17      0.00     1000\n",
       "2  1000_2  2018-06-11      2.85     1000\n",
       "3  1000_3  2018-09-21     13.80     1000\n",
       "4  1000_4  2018-12-15      5.18     1000"
      ]
     },
     "metadata": {},
     "output_type": "display_data"
    },
    {
     "name": "stdout",
     "output_type": "stream",
     "text": [
      "<class 'pandas.core.frame.DataFrame'>\n",
      "RangeIndex: 202607 entries, 0 to 202606\n",
      "Data columns (total 4 columns):\n",
      " #   Column     Non-Null Count   Dtype  \n",
      "---  ------     --------------   -----  \n",
      " 0   id         202607 non-null  object \n",
      " 1   call_date  202607 non-null  object \n",
      " 2   duration   202607 non-null  float64\n",
      " 3   user_id    202607 non-null  int64  \n",
      "dtypes: float64(1), int64(1), object(2)\n",
      "memory usage: 6.2+ MB\n"
     ]
    }
   ],
   "source": [
    "#загрузка данных о звонках\n",
    "import pandas as pd\n",
    "import numpy as np\n",
    "data_calls = pd.read_csv('/datasets/calls.csv')\n",
    "display(data_calls.head())\n",
    "data_calls.info()"
   ]
  },
  {
   "cell_type": "code",
   "execution_count": 2,
   "metadata": {},
   "outputs": [
    {
     "data": {
      "text/plain": [
       "1377    1760\n",
       "1168    1692\n",
       "1375    1560\n",
       "1453    1440\n",
       "1196    1240\n",
       "        ... \n",
       "1397      33\n",
       "1442      28\n",
       "1373      24\n",
       "1016      20\n",
       "1257      14\n",
       "Name: user_id, Length: 492, dtype: int64"
      ]
     },
     "execution_count": 2,
     "metadata": {},
     "output_type": "execute_result"
    }
   ],
   "source": [
    "data_calls['user_id'].value_counts()"
   ]
  },
  {
   "cell_type": "code",
   "execution_count": 3,
   "metadata": {},
   "outputs": [
    {
     "data": {
      "text/html": [
       "<div>\n",
       "<style scoped>\n",
       "    .dataframe tbody tr th:only-of-type {\n",
       "        vertical-align: middle;\n",
       "    }\n",
       "\n",
       "    .dataframe tbody tr th {\n",
       "        vertical-align: top;\n",
       "    }\n",
       "\n",
       "    .dataframe thead th {\n",
       "        text-align: right;\n",
       "    }\n",
       "</style>\n",
       "<table border=\"1\" class=\"dataframe\">\n",
       "  <thead>\n",
       "    <tr style=\"text-align: right;\">\n",
       "      <th></th>\n",
       "      <th>Unnamed: 0</th>\n",
       "      <th>id</th>\n",
       "      <th>mb_used</th>\n",
       "      <th>session_date</th>\n",
       "      <th>user_id</th>\n",
       "    </tr>\n",
       "  </thead>\n",
       "  <tbody>\n",
       "    <tr>\n",
       "      <th>0</th>\n",
       "      <td>0</td>\n",
       "      <td>1000_0</td>\n",
       "      <td>112.95</td>\n",
       "      <td>2018-11-25</td>\n",
       "      <td>1000</td>\n",
       "    </tr>\n",
       "    <tr>\n",
       "      <th>1</th>\n",
       "      <td>1</td>\n",
       "      <td>1000_1</td>\n",
       "      <td>1052.81</td>\n",
       "      <td>2018-09-07</td>\n",
       "      <td>1000</td>\n",
       "    </tr>\n",
       "    <tr>\n",
       "      <th>2</th>\n",
       "      <td>2</td>\n",
       "      <td>1000_2</td>\n",
       "      <td>1197.26</td>\n",
       "      <td>2018-06-25</td>\n",
       "      <td>1000</td>\n",
       "    </tr>\n",
       "    <tr>\n",
       "      <th>3</th>\n",
       "      <td>3</td>\n",
       "      <td>1000_3</td>\n",
       "      <td>550.27</td>\n",
       "      <td>2018-08-22</td>\n",
       "      <td>1000</td>\n",
       "    </tr>\n",
       "    <tr>\n",
       "      <th>4</th>\n",
       "      <td>4</td>\n",
       "      <td>1000_4</td>\n",
       "      <td>302.56</td>\n",
       "      <td>2018-09-24</td>\n",
       "      <td>1000</td>\n",
       "    </tr>\n",
       "  </tbody>\n",
       "</table>\n",
       "</div>"
      ],
      "text/plain": [
       "   Unnamed: 0      id  mb_used session_date  user_id\n",
       "0           0  1000_0   112.95   2018-11-25     1000\n",
       "1           1  1000_1  1052.81   2018-09-07     1000\n",
       "2           2  1000_2  1197.26   2018-06-25     1000\n",
       "3           3  1000_3   550.27   2018-08-22     1000\n",
       "4           4  1000_4   302.56   2018-09-24     1000"
      ]
     },
     "metadata": {},
     "output_type": "display_data"
    },
    {
     "name": "stdout",
     "output_type": "stream",
     "text": [
      "<class 'pandas.core.frame.DataFrame'>\n",
      "RangeIndex: 149396 entries, 0 to 149395\n",
      "Data columns (total 5 columns):\n",
      " #   Column        Non-Null Count   Dtype  \n",
      "---  ------        --------------   -----  \n",
      " 0   Unnamed: 0    149396 non-null  int64  \n",
      " 1   id            149396 non-null  object \n",
      " 2   mb_used       149396 non-null  float64\n",
      " 3   session_date  149396 non-null  object \n",
      " 4   user_id       149396 non-null  int64  \n",
      "dtypes: float64(1), int64(2), object(2)\n",
      "memory usage: 5.7+ MB\n"
     ]
    }
   ],
   "source": [
    "#загрузка данных о трафике\n",
    "data_internet = pd.read_csv('/datasets/internet.csv')\n",
    "display(data_internet.head())\n",
    "data_internet.info()"
   ]
  },
  {
   "cell_type": "code",
   "execution_count": 4,
   "metadata": {},
   "outputs": [
    {
     "data": {
      "text/html": [
       "<div>\n",
       "<style scoped>\n",
       "    .dataframe tbody tr th:only-of-type {\n",
       "        vertical-align: middle;\n",
       "    }\n",
       "\n",
       "    .dataframe tbody tr th {\n",
       "        vertical-align: top;\n",
       "    }\n",
       "\n",
       "    .dataframe thead th {\n",
       "        text-align: right;\n",
       "    }\n",
       "</style>\n",
       "<table border=\"1\" class=\"dataframe\">\n",
       "  <thead>\n",
       "    <tr style=\"text-align: right;\">\n",
       "      <th></th>\n",
       "      <th>id</th>\n",
       "      <th>message_date</th>\n",
       "      <th>user_id</th>\n",
       "    </tr>\n",
       "  </thead>\n",
       "  <tbody>\n",
       "    <tr>\n",
       "      <th>0</th>\n",
       "      <td>1000_0</td>\n",
       "      <td>2018-06-27</td>\n",
       "      <td>1000</td>\n",
       "    </tr>\n",
       "    <tr>\n",
       "      <th>1</th>\n",
       "      <td>1000_1</td>\n",
       "      <td>2018-10-08</td>\n",
       "      <td>1000</td>\n",
       "    </tr>\n",
       "    <tr>\n",
       "      <th>2</th>\n",
       "      <td>1000_2</td>\n",
       "      <td>2018-08-04</td>\n",
       "      <td>1000</td>\n",
       "    </tr>\n",
       "    <tr>\n",
       "      <th>3</th>\n",
       "      <td>1000_3</td>\n",
       "      <td>2018-06-16</td>\n",
       "      <td>1000</td>\n",
       "    </tr>\n",
       "    <tr>\n",
       "      <th>4</th>\n",
       "      <td>1000_4</td>\n",
       "      <td>2018-12-05</td>\n",
       "      <td>1000</td>\n",
       "    </tr>\n",
       "  </tbody>\n",
       "</table>\n",
       "</div>"
      ],
      "text/plain": [
       "       id message_date  user_id\n",
       "0  1000_0   2018-06-27     1000\n",
       "1  1000_1   2018-10-08     1000\n",
       "2  1000_2   2018-08-04     1000\n",
       "3  1000_3   2018-06-16     1000\n",
       "4  1000_4   2018-12-05     1000"
      ]
     },
     "metadata": {},
     "output_type": "display_data"
    },
    {
     "name": "stdout",
     "output_type": "stream",
     "text": [
      "<class 'pandas.core.frame.DataFrame'>\n",
      "RangeIndex: 123036 entries, 0 to 123035\n",
      "Data columns (total 3 columns):\n",
      " #   Column        Non-Null Count   Dtype \n",
      "---  ------        --------------   ----- \n",
      " 0   id            123036 non-null  object\n",
      " 1   message_date  123036 non-null  object\n",
      " 2   user_id       123036 non-null  int64 \n",
      "dtypes: int64(1), object(2)\n",
      "memory usage: 2.8+ MB\n"
     ]
    }
   ],
   "source": [
    "#загрузка данных о сообщениях\n",
    "data_messages = pd.read_csv('/datasets/messages.csv')\n",
    "display(data_messages.head())\n",
    "data_messages.info()"
   ]
  },
  {
   "cell_type": "code",
   "execution_count": 5,
   "metadata": {},
   "outputs": [
    {
     "data": {
      "text/html": [
       "<div>\n",
       "<style scoped>\n",
       "    .dataframe tbody tr th:only-of-type {\n",
       "        vertical-align: middle;\n",
       "    }\n",
       "\n",
       "    .dataframe tbody tr th {\n",
       "        vertical-align: top;\n",
       "    }\n",
       "\n",
       "    .dataframe thead th {\n",
       "        text-align: right;\n",
       "    }\n",
       "</style>\n",
       "<table border=\"1\" class=\"dataframe\">\n",
       "  <thead>\n",
       "    <tr style=\"text-align: right;\">\n",
       "      <th></th>\n",
       "      <th>messages_included</th>\n",
       "      <th>mb_per_month_included</th>\n",
       "      <th>minutes_included</th>\n",
       "      <th>rub_monthly_fee</th>\n",
       "      <th>rub_per_gb</th>\n",
       "      <th>rub_per_message</th>\n",
       "      <th>rub_per_minute</th>\n",
       "      <th>tariff_name</th>\n",
       "    </tr>\n",
       "  </thead>\n",
       "  <tbody>\n",
       "    <tr>\n",
       "      <th>0</th>\n",
       "      <td>50</td>\n",
       "      <td>15360</td>\n",
       "      <td>500</td>\n",
       "      <td>550</td>\n",
       "      <td>200</td>\n",
       "      <td>3</td>\n",
       "      <td>3</td>\n",
       "      <td>smart</td>\n",
       "    </tr>\n",
       "    <tr>\n",
       "      <th>1</th>\n",
       "      <td>1000</td>\n",
       "      <td>30720</td>\n",
       "      <td>3000</td>\n",
       "      <td>1950</td>\n",
       "      <td>150</td>\n",
       "      <td>1</td>\n",
       "      <td>1</td>\n",
       "      <td>ultra</td>\n",
       "    </tr>\n",
       "  </tbody>\n",
       "</table>\n",
       "</div>"
      ],
      "text/plain": [
       "   messages_included  mb_per_month_included  minutes_included  \\\n",
       "0                 50                  15360               500   \n",
       "1               1000                  30720              3000   \n",
       "\n",
       "   rub_monthly_fee  rub_per_gb  rub_per_message  rub_per_minute tariff_name  \n",
       "0              550         200                3               3       smart  \n",
       "1             1950         150                1               1       ultra  "
      ]
     },
     "metadata": {},
     "output_type": "display_data"
    },
    {
     "name": "stdout",
     "output_type": "stream",
     "text": [
      "<class 'pandas.core.frame.DataFrame'>\n",
      "RangeIndex: 2 entries, 0 to 1\n",
      "Data columns (total 8 columns):\n",
      " #   Column                 Non-Null Count  Dtype \n",
      "---  ------                 --------------  ----- \n",
      " 0   messages_included      2 non-null      int64 \n",
      " 1   mb_per_month_included  2 non-null      int64 \n",
      " 2   minutes_included       2 non-null      int64 \n",
      " 3   rub_monthly_fee        2 non-null      int64 \n",
      " 4   rub_per_gb             2 non-null      int64 \n",
      " 5   rub_per_message        2 non-null      int64 \n",
      " 6   rub_per_minute         2 non-null      int64 \n",
      " 7   tariff_name            2 non-null      object\n",
      "dtypes: int64(7), object(1)\n",
      "memory usage: 256.0+ bytes\n"
     ]
    }
   ],
   "source": [
    "#загрузка данных о тарифах\n",
    "data_tariffs = pd.read_csv('/datasets/tariffs.csv')\n",
    "display(data_tariffs.head())\n",
    "data_tariffs.info()"
   ]
  },
  {
   "cell_type": "code",
   "execution_count": 6,
   "metadata": {},
   "outputs": [
    {
     "data": {
      "text/html": [
       "<div>\n",
       "<style scoped>\n",
       "    .dataframe tbody tr th:only-of-type {\n",
       "        vertical-align: middle;\n",
       "    }\n",
       "\n",
       "    .dataframe tbody tr th {\n",
       "        vertical-align: top;\n",
       "    }\n",
       "\n",
       "    .dataframe thead th {\n",
       "        text-align: right;\n",
       "    }\n",
       "</style>\n",
       "<table border=\"1\" class=\"dataframe\">\n",
       "  <thead>\n",
       "    <tr style=\"text-align: right;\">\n",
       "      <th></th>\n",
       "      <th>user_id</th>\n",
       "      <th>age</th>\n",
       "      <th>churn_date</th>\n",
       "      <th>city</th>\n",
       "      <th>first_name</th>\n",
       "      <th>last_name</th>\n",
       "      <th>reg_date</th>\n",
       "      <th>tariff</th>\n",
       "    </tr>\n",
       "  </thead>\n",
       "  <tbody>\n",
       "    <tr>\n",
       "      <th>0</th>\n",
       "      <td>1000</td>\n",
       "      <td>52</td>\n",
       "      <td>NaN</td>\n",
       "      <td>Краснодар</td>\n",
       "      <td>Рафаил</td>\n",
       "      <td>Верещагин</td>\n",
       "      <td>2018-05-25</td>\n",
       "      <td>ultra</td>\n",
       "    </tr>\n",
       "    <tr>\n",
       "      <th>1</th>\n",
       "      <td>1001</td>\n",
       "      <td>41</td>\n",
       "      <td>NaN</td>\n",
       "      <td>Москва</td>\n",
       "      <td>Иван</td>\n",
       "      <td>Ежов</td>\n",
       "      <td>2018-11-01</td>\n",
       "      <td>smart</td>\n",
       "    </tr>\n",
       "    <tr>\n",
       "      <th>2</th>\n",
       "      <td>1002</td>\n",
       "      <td>59</td>\n",
       "      <td>NaN</td>\n",
       "      <td>Стерлитамак</td>\n",
       "      <td>Евгений</td>\n",
       "      <td>Абрамович</td>\n",
       "      <td>2018-06-17</td>\n",
       "      <td>smart</td>\n",
       "    </tr>\n",
       "    <tr>\n",
       "      <th>3</th>\n",
       "      <td>1003</td>\n",
       "      <td>23</td>\n",
       "      <td>NaN</td>\n",
       "      <td>Москва</td>\n",
       "      <td>Белла</td>\n",
       "      <td>Белякова</td>\n",
       "      <td>2018-08-17</td>\n",
       "      <td>ultra</td>\n",
       "    </tr>\n",
       "    <tr>\n",
       "      <th>4</th>\n",
       "      <td>1004</td>\n",
       "      <td>68</td>\n",
       "      <td>NaN</td>\n",
       "      <td>Новокузнецк</td>\n",
       "      <td>Татьяна</td>\n",
       "      <td>Авдеенко</td>\n",
       "      <td>2018-05-14</td>\n",
       "      <td>ultra</td>\n",
       "    </tr>\n",
       "  </tbody>\n",
       "</table>\n",
       "</div>"
      ],
      "text/plain": [
       "   user_id  age churn_date         city first_name  last_name    reg_date  \\\n",
       "0     1000   52        NaN    Краснодар     Рафаил  Верещагин  2018-05-25   \n",
       "1     1001   41        NaN       Москва       Иван       Ежов  2018-11-01   \n",
       "2     1002   59        NaN  Стерлитамак    Евгений  Абрамович  2018-06-17   \n",
       "3     1003   23        NaN       Москва      Белла   Белякова  2018-08-17   \n",
       "4     1004   68        NaN  Новокузнецк    Татьяна   Авдеенко  2018-05-14   \n",
       "\n",
       "  tariff  \n",
       "0  ultra  \n",
       "1  smart  \n",
       "2  smart  \n",
       "3  ultra  \n",
       "4  ultra  "
      ]
     },
     "metadata": {},
     "output_type": "display_data"
    },
    {
     "name": "stdout",
     "output_type": "stream",
     "text": [
      "<class 'pandas.core.frame.DataFrame'>\n",
      "RangeIndex: 500 entries, 0 to 499\n",
      "Data columns (total 8 columns):\n",
      " #   Column      Non-Null Count  Dtype \n",
      "---  ------      --------------  ----- \n",
      " 0   user_id     500 non-null    int64 \n",
      " 1   age         500 non-null    int64 \n",
      " 2   churn_date  38 non-null     object\n",
      " 3   city        500 non-null    object\n",
      " 4   first_name  500 non-null    object\n",
      " 5   last_name   500 non-null    object\n",
      " 6   reg_date    500 non-null    object\n",
      " 7   tariff      500 non-null    object\n",
      "dtypes: int64(2), object(6)\n",
      "memory usage: 31.4+ KB\n"
     ]
    }
   ],
   "source": [
    "#загрузка данных о пользователях\n",
    "data_users = pd.read_csv('/datasets/users.csv')\n",
    "display(data_users.head())\n",
    "data_users.info()"
   ]
  },
  {
   "cell_type": "markdown",
   "metadata": {},
   "source": [
    "<b>Вывод:</b> При изучении полученных данных видно, что таблицы не имеют пропусков, но необходимо привести некоторые столбцы к корректному типу, а именно столбцы с датами."
   ]
  },
  {
   "cell_type": "markdown",
   "metadata": {},
   "source": [
    "## Подготовка данных"
   ]
  },
  {
   "cell_type": "markdown",
   "metadata": {},
   "source": [
    "### Подготовка таблиц к анализу"
   ]
  },
  {
   "cell_type": "markdown",
   "metadata": {},
   "source": [
    "<b>Таблица calls</b>"
   ]
  },
  {
   "cell_type": "code",
   "execution_count": 7,
   "metadata": {},
   "outputs": [
    {
     "data": {
      "text/html": [
       "<div>\n",
       "<style scoped>\n",
       "    .dataframe tbody tr th:only-of-type {\n",
       "        vertical-align: middle;\n",
       "    }\n",
       "\n",
       "    .dataframe tbody tr th {\n",
       "        vertical-align: top;\n",
       "    }\n",
       "\n",
       "    .dataframe thead th {\n",
       "        text-align: right;\n",
       "    }\n",
       "</style>\n",
       "<table border=\"1\" class=\"dataframe\">\n",
       "  <thead>\n",
       "    <tr style=\"text-align: right;\">\n",
       "      <th></th>\n",
       "      <th>id</th>\n",
       "      <th>call_date</th>\n",
       "      <th>duration</th>\n",
       "      <th>user_id</th>\n",
       "    </tr>\n",
       "  </thead>\n",
       "  <tbody>\n",
       "    <tr>\n",
       "      <th>0</th>\n",
       "      <td>1000_0</td>\n",
       "      <td>2018-07-25</td>\n",
       "      <td>0</td>\n",
       "      <td>1000</td>\n",
       "    </tr>\n",
       "    <tr>\n",
       "      <th>1</th>\n",
       "      <td>1000_1</td>\n",
       "      <td>2018-08-17</td>\n",
       "      <td>0</td>\n",
       "      <td>1000</td>\n",
       "    </tr>\n",
       "    <tr>\n",
       "      <th>2</th>\n",
       "      <td>1000_2</td>\n",
       "      <td>2018-06-11</td>\n",
       "      <td>3</td>\n",
       "      <td>1000</td>\n",
       "    </tr>\n",
       "    <tr>\n",
       "      <th>3</th>\n",
       "      <td>1000_3</td>\n",
       "      <td>2018-09-21</td>\n",
       "      <td>14</td>\n",
       "      <td>1000</td>\n",
       "    </tr>\n",
       "    <tr>\n",
       "      <th>4</th>\n",
       "      <td>1000_4</td>\n",
       "      <td>2018-12-15</td>\n",
       "      <td>6</td>\n",
       "      <td>1000</td>\n",
       "    </tr>\n",
       "  </tbody>\n",
       "</table>\n",
       "</div>"
      ],
      "text/plain": [
       "       id  call_date  duration  user_id\n",
       "0  1000_0 2018-07-25         0     1000\n",
       "1  1000_1 2018-08-17         0     1000\n",
       "2  1000_2 2018-06-11         3     1000\n",
       "3  1000_3 2018-09-21        14     1000\n",
       "4  1000_4 2018-12-15         6     1000"
      ]
     },
     "metadata": {},
     "output_type": "display_data"
    }
   ],
   "source": [
    "#округляем минуты звонков в соответствии с тарифом, приводим дату к необходимосму формату\n",
    "data_calls['duration'] = np.ceil(data_calls['duration']).astype('int')\n",
    "data_calls['call_date'] = pd.to_datetime(data_calls['call_date'], format='%Y-%m-%d')\n",
    "display(data_calls.head())"
   ]
  },
  {
   "cell_type": "markdown",
   "metadata": {},
   "source": [
    "<b>Таблица internet</b>"
   ]
  },
  {
   "cell_type": "code",
   "execution_count": 8,
   "metadata": {},
   "outputs": [
    {
     "data": {
      "text/html": [
       "<div>\n",
       "<style scoped>\n",
       "    .dataframe tbody tr th:only-of-type {\n",
       "        vertical-align: middle;\n",
       "    }\n",
       "\n",
       "    .dataframe tbody tr th {\n",
       "        vertical-align: top;\n",
       "    }\n",
       "\n",
       "    .dataframe thead th {\n",
       "        text-align: right;\n",
       "    }\n",
       "</style>\n",
       "<table border=\"1\" class=\"dataframe\">\n",
       "  <thead>\n",
       "    <tr style=\"text-align: right;\">\n",
       "      <th></th>\n",
       "      <th>id</th>\n",
       "      <th>mb_used</th>\n",
       "      <th>session_date</th>\n",
       "      <th>user_id</th>\n",
       "    </tr>\n",
       "  </thead>\n",
       "  <tbody>\n",
       "    <tr>\n",
       "      <th>0</th>\n",
       "      <td>1000_0</td>\n",
       "      <td>112.95</td>\n",
       "      <td>2018-11-25</td>\n",
       "      <td>1000</td>\n",
       "    </tr>\n",
       "    <tr>\n",
       "      <th>1</th>\n",
       "      <td>1000_1</td>\n",
       "      <td>1052.81</td>\n",
       "      <td>2018-09-07</td>\n",
       "      <td>1000</td>\n",
       "    </tr>\n",
       "    <tr>\n",
       "      <th>2</th>\n",
       "      <td>1000_2</td>\n",
       "      <td>1197.26</td>\n",
       "      <td>2018-06-25</td>\n",
       "      <td>1000</td>\n",
       "    </tr>\n",
       "    <tr>\n",
       "      <th>3</th>\n",
       "      <td>1000_3</td>\n",
       "      <td>550.27</td>\n",
       "      <td>2018-08-22</td>\n",
       "      <td>1000</td>\n",
       "    </tr>\n",
       "    <tr>\n",
       "      <th>4</th>\n",
       "      <td>1000_4</td>\n",
       "      <td>302.56</td>\n",
       "      <td>2018-09-24</td>\n",
       "      <td>1000</td>\n",
       "    </tr>\n",
       "  </tbody>\n",
       "</table>\n",
       "</div>"
      ],
      "text/plain": [
       "       id  mb_used session_date  user_id\n",
       "0  1000_0   112.95   2018-11-25     1000\n",
       "1  1000_1  1052.81   2018-09-07     1000\n",
       "2  1000_2  1197.26   2018-06-25     1000\n",
       "3  1000_3   550.27   2018-08-22     1000\n",
       "4  1000_4   302.56   2018-09-24     1000"
      ]
     },
     "metadata": {},
     "output_type": "display_data"
    }
   ],
   "source": [
    "#удаляем присвоеное столбцу индексов название, приводим дату к корректному формату\n",
    "data_internet = data_internet.drop(['Unnamed: 0'], axis=1)\n",
    "data_internet['session_date'] = pd.to_datetime(data_internet['session_date'], format='%Y-%m-%d')\n",
    "display(data_internet.head())"
   ]
  },
  {
   "cell_type": "markdown",
   "metadata": {},
   "source": [
    "<b>Таблица messages</b>"
   ]
  },
  {
   "cell_type": "code",
   "execution_count": 9,
   "metadata": {},
   "outputs": [
    {
     "data": {
      "text/html": [
       "<div>\n",
       "<style scoped>\n",
       "    .dataframe tbody tr th:only-of-type {\n",
       "        vertical-align: middle;\n",
       "    }\n",
       "\n",
       "    .dataframe tbody tr th {\n",
       "        vertical-align: top;\n",
       "    }\n",
       "\n",
       "    .dataframe thead th {\n",
       "        text-align: right;\n",
       "    }\n",
       "</style>\n",
       "<table border=\"1\" class=\"dataframe\">\n",
       "  <thead>\n",
       "    <tr style=\"text-align: right;\">\n",
       "      <th></th>\n",
       "      <th>id</th>\n",
       "      <th>message_date</th>\n",
       "      <th>user_id</th>\n",
       "    </tr>\n",
       "  </thead>\n",
       "  <tbody>\n",
       "    <tr>\n",
       "      <th>0</th>\n",
       "      <td>1000_0</td>\n",
       "      <td>2018-06-27</td>\n",
       "      <td>1000</td>\n",
       "    </tr>\n",
       "    <tr>\n",
       "      <th>1</th>\n",
       "      <td>1000_1</td>\n",
       "      <td>2018-10-08</td>\n",
       "      <td>1000</td>\n",
       "    </tr>\n",
       "    <tr>\n",
       "      <th>2</th>\n",
       "      <td>1000_2</td>\n",
       "      <td>2018-08-04</td>\n",
       "      <td>1000</td>\n",
       "    </tr>\n",
       "    <tr>\n",
       "      <th>3</th>\n",
       "      <td>1000_3</td>\n",
       "      <td>2018-06-16</td>\n",
       "      <td>1000</td>\n",
       "    </tr>\n",
       "    <tr>\n",
       "      <th>4</th>\n",
       "      <td>1000_4</td>\n",
       "      <td>2018-12-05</td>\n",
       "      <td>1000</td>\n",
       "    </tr>\n",
       "  </tbody>\n",
       "</table>\n",
       "</div>"
      ],
      "text/plain": [
       "       id message_date  user_id\n",
       "0  1000_0   2018-06-27     1000\n",
       "1  1000_1   2018-10-08     1000\n",
       "2  1000_2   2018-08-04     1000\n",
       "3  1000_3   2018-06-16     1000\n",
       "4  1000_4   2018-12-05     1000"
      ]
     },
     "metadata": {},
     "output_type": "display_data"
    }
   ],
   "source": [
    "#приводим дату к корректному формату\n",
    "data_messages['message_date'] = pd.to_datetime(data_messages['message_date'], format='%Y-%m-%d')\n",
    "display(data_messages.head())"
   ]
  },
  {
   "cell_type": "markdown",
   "metadata": {},
   "source": [
    "<b>Таблица users</b>"
   ]
  },
  {
   "cell_type": "code",
   "execution_count": 10,
   "metadata": {},
   "outputs": [
    {
     "data": {
      "text/html": [
       "<div>\n",
       "<style scoped>\n",
       "    .dataframe tbody tr th:only-of-type {\n",
       "        vertical-align: middle;\n",
       "    }\n",
       "\n",
       "    .dataframe tbody tr th {\n",
       "        vertical-align: top;\n",
       "    }\n",
       "\n",
       "    .dataframe thead th {\n",
       "        text-align: right;\n",
       "    }\n",
       "</style>\n",
       "<table border=\"1\" class=\"dataframe\">\n",
       "  <thead>\n",
       "    <tr style=\"text-align: right;\">\n",
       "      <th></th>\n",
       "      <th>user_id</th>\n",
       "      <th>age</th>\n",
       "      <th>churn_date</th>\n",
       "      <th>city</th>\n",
       "      <th>first_name</th>\n",
       "      <th>last_name</th>\n",
       "      <th>reg_date</th>\n",
       "      <th>tariff</th>\n",
       "    </tr>\n",
       "  </thead>\n",
       "  <tbody>\n",
       "    <tr>\n",
       "      <th>0</th>\n",
       "      <td>1000</td>\n",
       "      <td>52</td>\n",
       "      <td>NaT</td>\n",
       "      <td>Краснодар</td>\n",
       "      <td>Рафаил</td>\n",
       "      <td>Верещагин</td>\n",
       "      <td>2018-05-25</td>\n",
       "      <td>ultra</td>\n",
       "    </tr>\n",
       "    <tr>\n",
       "      <th>1</th>\n",
       "      <td>1001</td>\n",
       "      <td>41</td>\n",
       "      <td>NaT</td>\n",
       "      <td>Москва</td>\n",
       "      <td>Иван</td>\n",
       "      <td>Ежов</td>\n",
       "      <td>2018-11-01</td>\n",
       "      <td>smart</td>\n",
       "    </tr>\n",
       "    <tr>\n",
       "      <th>2</th>\n",
       "      <td>1002</td>\n",
       "      <td>59</td>\n",
       "      <td>NaT</td>\n",
       "      <td>Стерлитамак</td>\n",
       "      <td>Евгений</td>\n",
       "      <td>Абрамович</td>\n",
       "      <td>2018-06-17</td>\n",
       "      <td>smart</td>\n",
       "    </tr>\n",
       "    <tr>\n",
       "      <th>3</th>\n",
       "      <td>1003</td>\n",
       "      <td>23</td>\n",
       "      <td>NaT</td>\n",
       "      <td>Москва</td>\n",
       "      <td>Белла</td>\n",
       "      <td>Белякова</td>\n",
       "      <td>2018-08-17</td>\n",
       "      <td>ultra</td>\n",
       "    </tr>\n",
       "    <tr>\n",
       "      <th>4</th>\n",
       "      <td>1004</td>\n",
       "      <td>68</td>\n",
       "      <td>NaT</td>\n",
       "      <td>Новокузнецк</td>\n",
       "      <td>Татьяна</td>\n",
       "      <td>Авдеенко</td>\n",
       "      <td>2018-05-14</td>\n",
       "      <td>ultra</td>\n",
       "    </tr>\n",
       "  </tbody>\n",
       "</table>\n",
       "</div>"
      ],
      "text/plain": [
       "   user_id  age churn_date         city first_name  last_name   reg_date  \\\n",
       "0     1000   52        NaT    Краснодар     Рафаил  Верещагин 2018-05-25   \n",
       "1     1001   41        NaT       Москва       Иван       Ежов 2018-11-01   \n",
       "2     1002   59        NaT  Стерлитамак    Евгений  Абрамович 2018-06-17   \n",
       "3     1003   23        NaT       Москва      Белла   Белякова 2018-08-17   \n",
       "4     1004   68        NaT  Новокузнецк    Татьяна   Авдеенко 2018-05-14   \n",
       "\n",
       "  tariff  \n",
       "0  ultra  \n",
       "1  smart  \n",
       "2  smart  \n",
       "3  ultra  \n",
       "4  ultra  "
      ]
     },
     "metadata": {},
     "output_type": "display_data"
    }
   ],
   "source": [
    "#приводим дату к корректному формату\n",
    "data_users['churn_date'] = pd.to_datetime(data_users['churn_date'], format='%Y-%m-%d') #оставить пропуски без изменений\n",
    "data_users['reg_date'] = pd.to_datetime(data_users['reg_date'], format='%Y-%m-%d')\n",
    "display(data_users.head())"
   ]
  },
  {
   "cell_type": "markdown",
   "metadata": {},
   "source": [
    "<b>Количество сделанных звонков и израсходованных минут разговора по месяцам</b>"
   ]
  },
  {
   "cell_type": "code",
   "execution_count": 11,
   "metadata": {},
   "outputs": [
    {
     "data": {
      "text/html": [
       "<div>\n",
       "<style scoped>\n",
       "    .dataframe tbody tr th:only-of-type {\n",
       "        vertical-align: middle;\n",
       "    }\n",
       "\n",
       "    .dataframe tbody tr th {\n",
       "        vertical-align: top;\n",
       "    }\n",
       "\n",
       "    .dataframe thead th {\n",
       "        text-align: right;\n",
       "    }\n",
       "</style>\n",
       "<table border=\"1\" class=\"dataframe\">\n",
       "  <thead>\n",
       "    <tr style=\"text-align: right;\">\n",
       "      <th></th>\n",
       "      <th>id</th>\n",
       "      <th>call_date</th>\n",
       "      <th>duration</th>\n",
       "      <th>user_id</th>\n",
       "      <th>month</th>\n",
       "    </tr>\n",
       "  </thead>\n",
       "  <tbody>\n",
       "    <tr>\n",
       "      <th>0</th>\n",
       "      <td>1000_0</td>\n",
       "      <td>2018-07-25</td>\n",
       "      <td>0</td>\n",
       "      <td>1000</td>\n",
       "      <td>2018-07-01</td>\n",
       "    </tr>\n",
       "    <tr>\n",
       "      <th>1</th>\n",
       "      <td>1000_1</td>\n",
       "      <td>2018-08-17</td>\n",
       "      <td>0</td>\n",
       "      <td>1000</td>\n",
       "      <td>2018-08-01</td>\n",
       "    </tr>\n",
       "    <tr>\n",
       "      <th>2</th>\n",
       "      <td>1000_2</td>\n",
       "      <td>2018-06-11</td>\n",
       "      <td>3</td>\n",
       "      <td>1000</td>\n",
       "      <td>2018-06-01</td>\n",
       "    </tr>\n",
       "    <tr>\n",
       "      <th>3</th>\n",
       "      <td>1000_3</td>\n",
       "      <td>2018-09-21</td>\n",
       "      <td>14</td>\n",
       "      <td>1000</td>\n",
       "      <td>2018-09-01</td>\n",
       "    </tr>\n",
       "    <tr>\n",
       "      <th>4</th>\n",
       "      <td>1000_4</td>\n",
       "      <td>2018-12-15</td>\n",
       "      <td>6</td>\n",
       "      <td>1000</td>\n",
       "      <td>2018-12-01</td>\n",
       "    </tr>\n",
       "    <tr>\n",
       "      <th>...</th>\n",
       "      <td>...</td>\n",
       "      <td>...</td>\n",
       "      <td>...</td>\n",
       "      <td>...</td>\n",
       "      <td>...</td>\n",
       "    </tr>\n",
       "    <tr>\n",
       "      <th>202602</th>\n",
       "      <td>1499_215</td>\n",
       "      <td>2018-12-26</td>\n",
       "      <td>1</td>\n",
       "      <td>1499</td>\n",
       "      <td>2018-12-01</td>\n",
       "    </tr>\n",
       "    <tr>\n",
       "      <th>202603</th>\n",
       "      <td>1499_216</td>\n",
       "      <td>2018-10-18</td>\n",
       "      <td>19</td>\n",
       "      <td>1499</td>\n",
       "      <td>2018-10-01</td>\n",
       "    </tr>\n",
       "    <tr>\n",
       "      <th>202604</th>\n",
       "      <td>1499_217</td>\n",
       "      <td>2018-11-10</td>\n",
       "      <td>11</td>\n",
       "      <td>1499</td>\n",
       "      <td>2018-11-01</td>\n",
       "    </tr>\n",
       "    <tr>\n",
       "      <th>202605</th>\n",
       "      <td>1499_218</td>\n",
       "      <td>2018-10-06</td>\n",
       "      <td>5</td>\n",
       "      <td>1499</td>\n",
       "      <td>2018-10-01</td>\n",
       "    </tr>\n",
       "    <tr>\n",
       "      <th>202606</th>\n",
       "      <td>1499_219</td>\n",
       "      <td>2018-12-14</td>\n",
       "      <td>20</td>\n",
       "      <td>1499</td>\n",
       "      <td>2018-12-01</td>\n",
       "    </tr>\n",
       "  </tbody>\n",
       "</table>\n",
       "<p>202607 rows × 5 columns</p>\n",
       "</div>"
      ],
      "text/plain": [
       "              id  call_date  duration  user_id      month\n",
       "0         1000_0 2018-07-25         0     1000 2018-07-01\n",
       "1         1000_1 2018-08-17         0     1000 2018-08-01\n",
       "2         1000_2 2018-06-11         3     1000 2018-06-01\n",
       "3         1000_3 2018-09-21        14     1000 2018-09-01\n",
       "4         1000_4 2018-12-15         6     1000 2018-12-01\n",
       "...          ...        ...       ...      ...        ...\n",
       "202602  1499_215 2018-12-26         1     1499 2018-12-01\n",
       "202603  1499_216 2018-10-18        19     1499 2018-10-01\n",
       "202604  1499_217 2018-11-10        11     1499 2018-11-01\n",
       "202605  1499_218 2018-10-06         5     1499 2018-10-01\n",
       "202606  1499_219 2018-12-14        20     1499 2018-12-01\n",
       "\n",
       "[202607 rows x 5 columns]"
      ]
     },
     "metadata": {},
     "output_type": "display_data"
    }
   ],
   "source": [
    "#создаем столбец с числом месяца\n",
    "data_calls['month'] = data_calls['call_date'].astype('datetime64[M]')\n",
    "display(data_calls)"
   ]
  },
  {
   "cell_type": "code",
   "execution_count": 12,
   "metadata": {},
   "outputs": [
    {
     "data": {
      "text/html": [
       "<div>\n",
       "<style scoped>\n",
       "    .dataframe tbody tr th:only-of-type {\n",
       "        vertical-align: middle;\n",
       "    }\n",
       "\n",
       "    .dataframe tbody tr th {\n",
       "        vertical-align: top;\n",
       "    }\n",
       "\n",
       "    .dataframe thead th {\n",
       "        text-align: right;\n",
       "    }\n",
       "</style>\n",
       "<table border=\"1\" class=\"dataframe\">\n",
       "  <thead>\n",
       "    <tr style=\"text-align: right;\">\n",
       "      <th></th>\n",
       "      <th>user_id</th>\n",
       "      <th>month</th>\n",
       "      <th>number_calls</th>\n",
       "      <th>call_duration</th>\n",
       "    </tr>\n",
       "  </thead>\n",
       "  <tbody>\n",
       "    <tr>\n",
       "      <th>0</th>\n",
       "      <td>1000</td>\n",
       "      <td>2018-05-01</td>\n",
       "      <td>22</td>\n",
       "      <td>159</td>\n",
       "    </tr>\n",
       "    <tr>\n",
       "      <th>1</th>\n",
       "      <td>1000</td>\n",
       "      <td>2018-06-01</td>\n",
       "      <td>43</td>\n",
       "      <td>172</td>\n",
       "    </tr>\n",
       "    <tr>\n",
       "      <th>2</th>\n",
       "      <td>1000</td>\n",
       "      <td>2018-07-01</td>\n",
       "      <td>47</td>\n",
       "      <td>340</td>\n",
       "    </tr>\n",
       "    <tr>\n",
       "      <th>3</th>\n",
       "      <td>1000</td>\n",
       "      <td>2018-08-01</td>\n",
       "      <td>52</td>\n",
       "      <td>408</td>\n",
       "    </tr>\n",
       "    <tr>\n",
       "      <th>4</th>\n",
       "      <td>1000</td>\n",
       "      <td>2018-09-01</td>\n",
       "      <td>58</td>\n",
       "      <td>466</td>\n",
       "    </tr>\n",
       "    <tr>\n",
       "      <th>...</th>\n",
       "      <td>...</td>\n",
       "      <td>...</td>\n",
       "      <td>...</td>\n",
       "      <td>...</td>\n",
       "    </tr>\n",
       "    <tr>\n",
       "      <th>3169</th>\n",
       "      <td>1498</td>\n",
       "      <td>2018-10-01</td>\n",
       "      <td>41</td>\n",
       "      <td>247</td>\n",
       "    </tr>\n",
       "    <tr>\n",
       "      <th>3170</th>\n",
       "      <td>1499</td>\n",
       "      <td>2018-09-01</td>\n",
       "      <td>9</td>\n",
       "      <td>70</td>\n",
       "    </tr>\n",
       "    <tr>\n",
       "      <th>3171</th>\n",
       "      <td>1499</td>\n",
       "      <td>2018-10-01</td>\n",
       "      <td>68</td>\n",
       "      <td>449</td>\n",
       "    </tr>\n",
       "    <tr>\n",
       "      <th>3172</th>\n",
       "      <td>1499</td>\n",
       "      <td>2018-11-01</td>\n",
       "      <td>74</td>\n",
       "      <td>612</td>\n",
       "    </tr>\n",
       "    <tr>\n",
       "      <th>3173</th>\n",
       "      <td>1499</td>\n",
       "      <td>2018-12-01</td>\n",
       "      <td>69</td>\n",
       "      <td>492</td>\n",
       "    </tr>\n",
       "  </tbody>\n",
       "</table>\n",
       "<p>3174 rows × 4 columns</p>\n",
       "</div>"
      ],
      "text/plain": [
       "      user_id      month  number_calls  call_duration\n",
       "0        1000 2018-05-01            22            159\n",
       "1        1000 2018-06-01            43            172\n",
       "2        1000 2018-07-01            47            340\n",
       "3        1000 2018-08-01            52            408\n",
       "4        1000 2018-09-01            58            466\n",
       "...       ...        ...           ...            ...\n",
       "3169     1498 2018-10-01            41            247\n",
       "3170     1499 2018-09-01             9             70\n",
       "3171     1499 2018-10-01            68            449\n",
       "3172     1499 2018-11-01            74            612\n",
       "3173     1499 2018-12-01            69            492\n",
       "\n",
       "[3174 rows x 4 columns]"
      ]
     },
     "metadata": {},
     "output_type": "display_data"
    }
   ],
   "source": [
    "#находим количество звонков и их длительность для каждого пользователя за каждый месяц\n",
    "calls = data_calls.groupby(['user_id','month']).agg({'id': 'count', 'duration': 'sum'}).reset_index()\n",
    "calls.columns = ['user_id', 'month', 'number_calls', 'call_duration']\n",
    "display(calls)"
   ]
  },
  {
   "cell_type": "markdown",
   "metadata": {},
   "source": [
    "<b>Количество отправленных сообщений по месяцам</b>"
   ]
  },
  {
   "cell_type": "code",
   "execution_count": 13,
   "metadata": {},
   "outputs": [
    {
     "data": {
      "text/html": [
       "<div>\n",
       "<style scoped>\n",
       "    .dataframe tbody tr th:only-of-type {\n",
       "        vertical-align: middle;\n",
       "    }\n",
       "\n",
       "    .dataframe tbody tr th {\n",
       "        vertical-align: top;\n",
       "    }\n",
       "\n",
       "    .dataframe thead th {\n",
       "        text-align: right;\n",
       "    }\n",
       "</style>\n",
       "<table border=\"1\" class=\"dataframe\">\n",
       "  <thead>\n",
       "    <tr style=\"text-align: right;\">\n",
       "      <th></th>\n",
       "      <th>id</th>\n",
       "      <th>message_date</th>\n",
       "      <th>user_id</th>\n",
       "      <th>month</th>\n",
       "    </tr>\n",
       "  </thead>\n",
       "  <tbody>\n",
       "    <tr>\n",
       "      <th>0</th>\n",
       "      <td>1000_0</td>\n",
       "      <td>2018-06-27</td>\n",
       "      <td>1000</td>\n",
       "      <td>2018-06-01</td>\n",
       "    </tr>\n",
       "    <tr>\n",
       "      <th>1</th>\n",
       "      <td>1000_1</td>\n",
       "      <td>2018-10-08</td>\n",
       "      <td>1000</td>\n",
       "      <td>2018-10-01</td>\n",
       "    </tr>\n",
       "    <tr>\n",
       "      <th>2</th>\n",
       "      <td>1000_2</td>\n",
       "      <td>2018-08-04</td>\n",
       "      <td>1000</td>\n",
       "      <td>2018-08-01</td>\n",
       "    </tr>\n",
       "    <tr>\n",
       "      <th>3</th>\n",
       "      <td>1000_3</td>\n",
       "      <td>2018-06-16</td>\n",
       "      <td>1000</td>\n",
       "      <td>2018-06-01</td>\n",
       "    </tr>\n",
       "    <tr>\n",
       "      <th>4</th>\n",
       "      <td>1000_4</td>\n",
       "      <td>2018-12-05</td>\n",
       "      <td>1000</td>\n",
       "      <td>2018-12-01</td>\n",
       "    </tr>\n",
       "    <tr>\n",
       "      <th>...</th>\n",
       "      <td>...</td>\n",
       "      <td>...</td>\n",
       "      <td>...</td>\n",
       "      <td>...</td>\n",
       "    </tr>\n",
       "    <tr>\n",
       "      <th>123031</th>\n",
       "      <td>1499_179</td>\n",
       "      <td>2018-12-12</td>\n",
       "      <td>1499</td>\n",
       "      <td>2018-12-01</td>\n",
       "    </tr>\n",
       "    <tr>\n",
       "      <th>123032</th>\n",
       "      <td>1499_180</td>\n",
       "      <td>2018-09-28</td>\n",
       "      <td>1499</td>\n",
       "      <td>2018-09-01</td>\n",
       "    </tr>\n",
       "    <tr>\n",
       "      <th>123033</th>\n",
       "      <td>1499_181</td>\n",
       "      <td>2018-09-27</td>\n",
       "      <td>1499</td>\n",
       "      <td>2018-09-01</td>\n",
       "    </tr>\n",
       "    <tr>\n",
       "      <th>123034</th>\n",
       "      <td>1499_182</td>\n",
       "      <td>2018-11-15</td>\n",
       "      <td>1499</td>\n",
       "      <td>2018-11-01</td>\n",
       "    </tr>\n",
       "    <tr>\n",
       "      <th>123035</th>\n",
       "      <td>1499_183</td>\n",
       "      <td>2018-11-16</td>\n",
       "      <td>1499</td>\n",
       "      <td>2018-11-01</td>\n",
       "    </tr>\n",
       "  </tbody>\n",
       "</table>\n",
       "<p>123036 rows × 4 columns</p>\n",
       "</div>"
      ],
      "text/plain": [
       "              id message_date  user_id      month\n",
       "0         1000_0   2018-06-27     1000 2018-06-01\n",
       "1         1000_1   2018-10-08     1000 2018-10-01\n",
       "2         1000_2   2018-08-04     1000 2018-08-01\n",
       "3         1000_3   2018-06-16     1000 2018-06-01\n",
       "4         1000_4   2018-12-05     1000 2018-12-01\n",
       "...          ...          ...      ...        ...\n",
       "123031  1499_179   2018-12-12     1499 2018-12-01\n",
       "123032  1499_180   2018-09-28     1499 2018-09-01\n",
       "123033  1499_181   2018-09-27     1499 2018-09-01\n",
       "123034  1499_182   2018-11-15     1499 2018-11-01\n",
       "123035  1499_183   2018-11-16     1499 2018-11-01\n",
       "\n",
       "[123036 rows x 4 columns]"
      ]
     },
     "metadata": {},
     "output_type": "display_data"
    }
   ],
   "source": [
    "#создаем столбец с числом месяца\n",
    "data_messages['month'] = data_messages['message_date'].astype('datetime64[M]')\n",
    "display(data_messages)"
   ]
  },
  {
   "cell_type": "code",
   "execution_count": 14,
   "metadata": {},
   "outputs": [
    {
     "data": {
      "text/html": [
       "<div>\n",
       "<style scoped>\n",
       "    .dataframe tbody tr th:only-of-type {\n",
       "        vertical-align: middle;\n",
       "    }\n",
       "\n",
       "    .dataframe tbody tr th {\n",
       "        vertical-align: top;\n",
       "    }\n",
       "\n",
       "    .dataframe thead th {\n",
       "        text-align: right;\n",
       "    }\n",
       "</style>\n",
       "<table border=\"1\" class=\"dataframe\">\n",
       "  <thead>\n",
       "    <tr style=\"text-align: right;\">\n",
       "      <th></th>\n",
       "      <th>user_id</th>\n",
       "      <th>month</th>\n",
       "      <th>number_messages</th>\n",
       "    </tr>\n",
       "  </thead>\n",
       "  <tbody>\n",
       "    <tr>\n",
       "      <th>0</th>\n",
       "      <td>1000</td>\n",
       "      <td>2018-05-01</td>\n",
       "      <td>22</td>\n",
       "    </tr>\n",
       "    <tr>\n",
       "      <th>1</th>\n",
       "      <td>1000</td>\n",
       "      <td>2018-06-01</td>\n",
       "      <td>60</td>\n",
       "    </tr>\n",
       "    <tr>\n",
       "      <th>2</th>\n",
       "      <td>1000</td>\n",
       "      <td>2018-07-01</td>\n",
       "      <td>75</td>\n",
       "    </tr>\n",
       "    <tr>\n",
       "      <th>3</th>\n",
       "      <td>1000</td>\n",
       "      <td>2018-08-01</td>\n",
       "      <td>81</td>\n",
       "    </tr>\n",
       "    <tr>\n",
       "      <th>4</th>\n",
       "      <td>1000</td>\n",
       "      <td>2018-09-01</td>\n",
       "      <td>57</td>\n",
       "    </tr>\n",
       "    <tr>\n",
       "      <th>...</th>\n",
       "      <td>...</td>\n",
       "      <td>...</td>\n",
       "      <td>...</td>\n",
       "    </tr>\n",
       "    <tr>\n",
       "      <th>2712</th>\n",
       "      <td>1498</td>\n",
       "      <td>2018-10-01</td>\n",
       "      <td>42</td>\n",
       "    </tr>\n",
       "    <tr>\n",
       "      <th>2713</th>\n",
       "      <td>1499</td>\n",
       "      <td>2018-09-01</td>\n",
       "      <td>11</td>\n",
       "    </tr>\n",
       "    <tr>\n",
       "      <th>2714</th>\n",
       "      <td>1499</td>\n",
       "      <td>2018-10-01</td>\n",
       "      <td>48</td>\n",
       "    </tr>\n",
       "    <tr>\n",
       "      <th>2715</th>\n",
       "      <td>1499</td>\n",
       "      <td>2018-11-01</td>\n",
       "      <td>59</td>\n",
       "    </tr>\n",
       "    <tr>\n",
       "      <th>2716</th>\n",
       "      <td>1499</td>\n",
       "      <td>2018-12-01</td>\n",
       "      <td>66</td>\n",
       "    </tr>\n",
       "  </tbody>\n",
       "</table>\n",
       "<p>2717 rows × 3 columns</p>\n",
       "</div>"
      ],
      "text/plain": [
       "      user_id      month  number_messages\n",
       "0        1000 2018-05-01               22\n",
       "1        1000 2018-06-01               60\n",
       "2        1000 2018-07-01               75\n",
       "3        1000 2018-08-01               81\n",
       "4        1000 2018-09-01               57\n",
       "...       ...        ...              ...\n",
       "2712     1498 2018-10-01               42\n",
       "2713     1499 2018-09-01               11\n",
       "2714     1499 2018-10-01               48\n",
       "2715     1499 2018-11-01               59\n",
       "2716     1499 2018-12-01               66\n",
       "\n",
       "[2717 rows x 3 columns]"
      ]
     },
     "metadata": {},
     "output_type": "display_data"
    }
   ],
   "source": [
    "#находим количество сообщений, отправленных пользователем за месяц\n",
    "messages = data_messages.groupby(['user_id','month']).agg({'id': 'count'}).reset_index()\n",
    "messages.columns = ['user_id', 'month', 'number_messages']\n",
    "display(messages)"
   ]
  },
  {
   "cell_type": "markdown",
   "metadata": {},
   "source": [
    "<b>Количество израсходованного трафика по месяцам</b>"
   ]
  },
  {
   "cell_type": "code",
   "execution_count": 15,
   "metadata": {},
   "outputs": [
    {
     "data": {
      "text/html": [
       "<div>\n",
       "<style scoped>\n",
       "    .dataframe tbody tr th:only-of-type {\n",
       "        vertical-align: middle;\n",
       "    }\n",
       "\n",
       "    .dataframe tbody tr th {\n",
       "        vertical-align: top;\n",
       "    }\n",
       "\n",
       "    .dataframe thead th {\n",
       "        text-align: right;\n",
       "    }\n",
       "</style>\n",
       "<table border=\"1\" class=\"dataframe\">\n",
       "  <thead>\n",
       "    <tr style=\"text-align: right;\">\n",
       "      <th></th>\n",
       "      <th>id</th>\n",
       "      <th>mb_used</th>\n",
       "      <th>session_date</th>\n",
       "      <th>user_id</th>\n",
       "      <th>month</th>\n",
       "    </tr>\n",
       "  </thead>\n",
       "  <tbody>\n",
       "    <tr>\n",
       "      <th>0</th>\n",
       "      <td>1000_0</td>\n",
       "      <td>112.95</td>\n",
       "      <td>2018-11-25</td>\n",
       "      <td>1000</td>\n",
       "      <td>2018-11-01</td>\n",
       "    </tr>\n",
       "    <tr>\n",
       "      <th>1</th>\n",
       "      <td>1000_1</td>\n",
       "      <td>1052.81</td>\n",
       "      <td>2018-09-07</td>\n",
       "      <td>1000</td>\n",
       "      <td>2018-09-01</td>\n",
       "    </tr>\n",
       "    <tr>\n",
       "      <th>2</th>\n",
       "      <td>1000_2</td>\n",
       "      <td>1197.26</td>\n",
       "      <td>2018-06-25</td>\n",
       "      <td>1000</td>\n",
       "      <td>2018-06-01</td>\n",
       "    </tr>\n",
       "    <tr>\n",
       "      <th>3</th>\n",
       "      <td>1000_3</td>\n",
       "      <td>550.27</td>\n",
       "      <td>2018-08-22</td>\n",
       "      <td>1000</td>\n",
       "      <td>2018-08-01</td>\n",
       "    </tr>\n",
       "    <tr>\n",
       "      <th>4</th>\n",
       "      <td>1000_4</td>\n",
       "      <td>302.56</td>\n",
       "      <td>2018-09-24</td>\n",
       "      <td>1000</td>\n",
       "      <td>2018-09-01</td>\n",
       "    </tr>\n",
       "    <tr>\n",
       "      <th>...</th>\n",
       "      <td>...</td>\n",
       "      <td>...</td>\n",
       "      <td>...</td>\n",
       "      <td>...</td>\n",
       "      <td>...</td>\n",
       "    </tr>\n",
       "    <tr>\n",
       "      <th>149391</th>\n",
       "      <td>1499_152</td>\n",
       "      <td>318.90</td>\n",
       "      <td>2018-10-03</td>\n",
       "      <td>1499</td>\n",
       "      <td>2018-10-01</td>\n",
       "    </tr>\n",
       "    <tr>\n",
       "      <th>149392</th>\n",
       "      <td>1499_153</td>\n",
       "      <td>490.13</td>\n",
       "      <td>2018-12-14</td>\n",
       "      <td>1499</td>\n",
       "      <td>2018-12-01</td>\n",
       "    </tr>\n",
       "    <tr>\n",
       "      <th>149393</th>\n",
       "      <td>1499_154</td>\n",
       "      <td>0.00</td>\n",
       "      <td>2018-10-27</td>\n",
       "      <td>1499</td>\n",
       "      <td>2018-10-01</td>\n",
       "    </tr>\n",
       "    <tr>\n",
       "      <th>149394</th>\n",
       "      <td>1499_155</td>\n",
       "      <td>1246.32</td>\n",
       "      <td>2018-11-26</td>\n",
       "      <td>1499</td>\n",
       "      <td>2018-11-01</td>\n",
       "    </tr>\n",
       "    <tr>\n",
       "      <th>149395</th>\n",
       "      <td>1499_156</td>\n",
       "      <td>544.37</td>\n",
       "      <td>2018-10-26</td>\n",
       "      <td>1499</td>\n",
       "      <td>2018-10-01</td>\n",
       "    </tr>\n",
       "  </tbody>\n",
       "</table>\n",
       "<p>149396 rows × 5 columns</p>\n",
       "</div>"
      ],
      "text/plain": [
       "              id  mb_used session_date  user_id      month\n",
       "0         1000_0   112.95   2018-11-25     1000 2018-11-01\n",
       "1         1000_1  1052.81   2018-09-07     1000 2018-09-01\n",
       "2         1000_2  1197.26   2018-06-25     1000 2018-06-01\n",
       "3         1000_3   550.27   2018-08-22     1000 2018-08-01\n",
       "4         1000_4   302.56   2018-09-24     1000 2018-09-01\n",
       "...          ...      ...          ...      ...        ...\n",
       "149391  1499_152   318.90   2018-10-03     1499 2018-10-01\n",
       "149392  1499_153   490.13   2018-12-14     1499 2018-12-01\n",
       "149393  1499_154     0.00   2018-10-27     1499 2018-10-01\n",
       "149394  1499_155  1246.32   2018-11-26     1499 2018-11-01\n",
       "149395  1499_156   544.37   2018-10-26     1499 2018-10-01\n",
       "\n",
       "[149396 rows x 5 columns]"
      ]
     },
     "metadata": {},
     "output_type": "display_data"
    }
   ],
   "source": [
    "#создаем столбец с числом месяца\n",
    "data_internet['month'] = data_internet['session_date'].astype('datetime64[M]')\n",
    "display(data_internet)"
   ]
  },
  {
   "cell_type": "code",
   "execution_count": 16,
   "metadata": {},
   "outputs": [
    {
     "data": {
      "text/html": [
       "<div>\n",
       "<style scoped>\n",
       "    .dataframe tbody tr th:only-of-type {\n",
       "        vertical-align: middle;\n",
       "    }\n",
       "\n",
       "    .dataframe tbody tr th {\n",
       "        vertical-align: top;\n",
       "    }\n",
       "\n",
       "    .dataframe thead th {\n",
       "        text-align: right;\n",
       "    }\n",
       "</style>\n",
       "<table border=\"1\" class=\"dataframe\">\n",
       "  <thead>\n",
       "    <tr style=\"text-align: right;\">\n",
       "      <th></th>\n",
       "      <th>user_id</th>\n",
       "      <th>month</th>\n",
       "      <th>mb_used</th>\n",
       "      <th>gb_used</th>\n",
       "      <th>mb_used_month</th>\n",
       "    </tr>\n",
       "  </thead>\n",
       "  <tbody>\n",
       "    <tr>\n",
       "      <th>0</th>\n",
       "      <td>1000</td>\n",
       "      <td>2018-05-01</td>\n",
       "      <td>2253.49</td>\n",
       "      <td>3</td>\n",
       "      <td>3072</td>\n",
       "    </tr>\n",
       "    <tr>\n",
       "      <th>1</th>\n",
       "      <td>1000</td>\n",
       "      <td>2018-06-01</td>\n",
       "      <td>23233.77</td>\n",
       "      <td>23</td>\n",
       "      <td>23552</td>\n",
       "    </tr>\n",
       "    <tr>\n",
       "      <th>2</th>\n",
       "      <td>1000</td>\n",
       "      <td>2018-07-01</td>\n",
       "      <td>14003.64</td>\n",
       "      <td>14</td>\n",
       "      <td>14336</td>\n",
       "    </tr>\n",
       "    <tr>\n",
       "      <th>3</th>\n",
       "      <td>1000</td>\n",
       "      <td>2018-08-01</td>\n",
       "      <td>14055.93</td>\n",
       "      <td>14</td>\n",
       "      <td>14336</td>\n",
       "    </tr>\n",
       "    <tr>\n",
       "      <th>4</th>\n",
       "      <td>1000</td>\n",
       "      <td>2018-09-01</td>\n",
       "      <td>14568.91</td>\n",
       "      <td>15</td>\n",
       "      <td>15360</td>\n",
       "    </tr>\n",
       "    <tr>\n",
       "      <th>...</th>\n",
       "      <td>...</td>\n",
       "      <td>...</td>\n",
       "      <td>...</td>\n",
       "      <td>...</td>\n",
       "      <td>...</td>\n",
       "    </tr>\n",
       "    <tr>\n",
       "      <th>3198</th>\n",
       "      <td>1498</td>\n",
       "      <td>2018-10-01</td>\n",
       "      <td>20579.36</td>\n",
       "      <td>21</td>\n",
       "      <td>21504</td>\n",
       "    </tr>\n",
       "    <tr>\n",
       "      <th>3199</th>\n",
       "      <td>1499</td>\n",
       "      <td>2018-09-01</td>\n",
       "      <td>1845.75</td>\n",
       "      <td>2</td>\n",
       "      <td>2048</td>\n",
       "    </tr>\n",
       "    <tr>\n",
       "      <th>3200</th>\n",
       "      <td>1499</td>\n",
       "      <td>2018-10-01</td>\n",
       "      <td>17788.51</td>\n",
       "      <td>18</td>\n",
       "      <td>18432</td>\n",
       "    </tr>\n",
       "    <tr>\n",
       "      <th>3201</th>\n",
       "      <td>1499</td>\n",
       "      <td>2018-11-01</td>\n",
       "      <td>17963.31</td>\n",
       "      <td>18</td>\n",
       "      <td>18432</td>\n",
       "    </tr>\n",
       "    <tr>\n",
       "      <th>3202</th>\n",
       "      <td>1499</td>\n",
       "      <td>2018-12-01</td>\n",
       "      <td>13055.58</td>\n",
       "      <td>13</td>\n",
       "      <td>13312</td>\n",
       "    </tr>\n",
       "  </tbody>\n",
       "</table>\n",
       "<p>3203 rows × 5 columns</p>\n",
       "</div>"
      ],
      "text/plain": [
       "      user_id      month   mb_used  gb_used  mb_used_month\n",
       "0        1000 2018-05-01   2253.49        3           3072\n",
       "1        1000 2018-06-01  23233.77       23          23552\n",
       "2        1000 2018-07-01  14003.64       14          14336\n",
       "3        1000 2018-08-01  14055.93       14          14336\n",
       "4        1000 2018-09-01  14568.91       15          15360\n",
       "...       ...        ...       ...      ...            ...\n",
       "3198     1498 2018-10-01  20579.36       21          21504\n",
       "3199     1499 2018-09-01   1845.75        2           2048\n",
       "3200     1499 2018-10-01  17788.51       18          18432\n",
       "3201     1499 2018-11-01  17963.31       18          18432\n",
       "3202     1499 2018-12-01  13055.58       13          13312\n",
       "\n",
       "[3203 rows x 5 columns]"
      ]
     },
     "metadata": {},
     "output_type": "display_data"
    }
   ],
   "source": [
    "#находим количество мб использованных каждым пользователем за месяц, так же создаем столбец с переводом мб в Гб\n",
    "internet = data_internet.groupby(['user_id','month']).agg({'mb_used': 'sum'}).reset_index()\n",
    "internet['gb_used'] = np.ceil(internet['mb_used'] / 1024).astype('int')\n",
    "internet['mb_used_month'] = internet['gb_used'] * 1024\n",
    "display(internet)"
   ]
  },
  {
   "cell_type": "markdown",
   "metadata": {},
   "source": [
    "### Расчет выручки с каждого пользователя"
   ]
  },
  {
   "cell_type": "markdown",
   "metadata": {},
   "source": [
    "<b>Звонки<b/>"
   ]
  },
  {
   "cell_type": "code",
   "execution_count": 17,
   "metadata": {},
   "outputs": [
    {
     "data": {
      "text/html": [
       "<div>\n",
       "<style scoped>\n",
       "    .dataframe tbody tr th:only-of-type {\n",
       "        vertical-align: middle;\n",
       "    }\n",
       "\n",
       "    .dataframe tbody tr th {\n",
       "        vertical-align: top;\n",
       "    }\n",
       "\n",
       "    .dataframe thead th {\n",
       "        text-align: right;\n",
       "    }\n",
       "</style>\n",
       "<table border=\"1\" class=\"dataframe\">\n",
       "  <thead>\n",
       "    <tr style=\"text-align: right;\">\n",
       "      <th></th>\n",
       "      <th>user_id</th>\n",
       "      <th>month</th>\n",
       "      <th>number_calls</th>\n",
       "      <th>call_duration</th>\n",
       "      <th>tariff_name</th>\n",
       "    </tr>\n",
       "  </thead>\n",
       "  <tbody>\n",
       "    <tr>\n",
       "      <th>0</th>\n",
       "      <td>1000</td>\n",
       "      <td>2018-05-01</td>\n",
       "      <td>22</td>\n",
       "      <td>159</td>\n",
       "      <td>ultra</td>\n",
       "    </tr>\n",
       "    <tr>\n",
       "      <th>1</th>\n",
       "      <td>1000</td>\n",
       "      <td>2018-06-01</td>\n",
       "      <td>43</td>\n",
       "      <td>172</td>\n",
       "      <td>ultra</td>\n",
       "    </tr>\n",
       "    <tr>\n",
       "      <th>2</th>\n",
       "      <td>1000</td>\n",
       "      <td>2018-07-01</td>\n",
       "      <td>47</td>\n",
       "      <td>340</td>\n",
       "      <td>ultra</td>\n",
       "    </tr>\n",
       "    <tr>\n",
       "      <th>3</th>\n",
       "      <td>1000</td>\n",
       "      <td>2018-08-01</td>\n",
       "      <td>52</td>\n",
       "      <td>408</td>\n",
       "      <td>ultra</td>\n",
       "    </tr>\n",
       "    <tr>\n",
       "      <th>4</th>\n",
       "      <td>1000</td>\n",
       "      <td>2018-09-01</td>\n",
       "      <td>58</td>\n",
       "      <td>466</td>\n",
       "      <td>ultra</td>\n",
       "    </tr>\n",
       "    <tr>\n",
       "      <th>5</th>\n",
       "      <td>1000</td>\n",
       "      <td>2018-10-01</td>\n",
       "      <td>57</td>\n",
       "      <td>350</td>\n",
       "      <td>ultra</td>\n",
       "    </tr>\n",
       "    <tr>\n",
       "      <th>6</th>\n",
       "      <td>1000</td>\n",
       "      <td>2018-11-01</td>\n",
       "      <td>43</td>\n",
       "      <td>338</td>\n",
       "      <td>ultra</td>\n",
       "    </tr>\n",
       "    <tr>\n",
       "      <th>7</th>\n",
       "      <td>1000</td>\n",
       "      <td>2018-12-01</td>\n",
       "      <td>46</td>\n",
       "      <td>333</td>\n",
       "      <td>ultra</td>\n",
       "    </tr>\n",
       "    <tr>\n",
       "      <th>8</th>\n",
       "      <td>1001</td>\n",
       "      <td>2018-11-01</td>\n",
       "      <td>59</td>\n",
       "      <td>430</td>\n",
       "      <td>smart</td>\n",
       "    </tr>\n",
       "    <tr>\n",
       "      <th>9</th>\n",
       "      <td>1001</td>\n",
       "      <td>2018-12-01</td>\n",
       "      <td>63</td>\n",
       "      <td>414</td>\n",
       "      <td>smart</td>\n",
       "    </tr>\n",
       "    <tr>\n",
       "      <th>10</th>\n",
       "      <td>1002</td>\n",
       "      <td>2018-06-01</td>\n",
       "      <td>15</td>\n",
       "      <td>117</td>\n",
       "      <td>smart</td>\n",
       "    </tr>\n",
       "    <tr>\n",
       "      <th>11</th>\n",
       "      <td>1002</td>\n",
       "      <td>2018-07-01</td>\n",
       "      <td>26</td>\n",
       "      <td>214</td>\n",
       "      <td>smart</td>\n",
       "    </tr>\n",
       "    <tr>\n",
       "      <th>12</th>\n",
       "      <td>1002</td>\n",
       "      <td>2018-08-01</td>\n",
       "      <td>42</td>\n",
       "      <td>289</td>\n",
       "      <td>smart</td>\n",
       "    </tr>\n",
       "    <tr>\n",
       "      <th>13</th>\n",
       "      <td>1002</td>\n",
       "      <td>2018-09-01</td>\n",
       "      <td>36</td>\n",
       "      <td>206</td>\n",
       "      <td>smart</td>\n",
       "    </tr>\n",
       "    <tr>\n",
       "      <th>14</th>\n",
       "      <td>1002</td>\n",
       "      <td>2018-10-01</td>\n",
       "      <td>33</td>\n",
       "      <td>212</td>\n",
       "      <td>smart</td>\n",
       "    </tr>\n",
       "  </tbody>\n",
       "</table>\n",
       "</div>"
      ],
      "text/plain": [
       "    user_id      month  number_calls  call_duration tariff_name\n",
       "0      1000 2018-05-01            22            159       ultra\n",
       "1      1000 2018-06-01            43            172       ultra\n",
       "2      1000 2018-07-01            47            340       ultra\n",
       "3      1000 2018-08-01            52            408       ultra\n",
       "4      1000 2018-09-01            58            466       ultra\n",
       "5      1000 2018-10-01            57            350       ultra\n",
       "6      1000 2018-11-01            43            338       ultra\n",
       "7      1000 2018-12-01            46            333       ultra\n",
       "8      1001 2018-11-01            59            430       smart\n",
       "9      1001 2018-12-01            63            414       smart\n",
       "10     1002 2018-06-01            15            117       smart\n",
       "11     1002 2018-07-01            26            214       smart\n",
       "12     1002 2018-08-01            42            289       smart\n",
       "13     1002 2018-09-01            36            206       smart\n",
       "14     1002 2018-10-01            33            212       smart"
      ]
     },
     "metadata": {},
     "output_type": "display_data"
    }
   ],
   "source": [
    "#добавляем в получившуюся таблицу по звонкам информацию по используемому тарифу, переименовываем столбец с тарифом\n",
    "calls = calls.merge(data_users[['user_id', 'tariff']], on='user_id')\n",
    "calls.columns = ['user_id', 'month', 'number_calls', 'call_duration', 'tariff_name']\n",
    "display(calls.head(15))"
   ]
  },
  {
   "cell_type": "code",
   "execution_count": 18,
   "metadata": {},
   "outputs": [
    {
     "data": {
      "text/html": [
       "<div>\n",
       "<style scoped>\n",
       "    .dataframe tbody tr th:only-of-type {\n",
       "        vertical-align: middle;\n",
       "    }\n",
       "\n",
       "    .dataframe tbody tr th {\n",
       "        vertical-align: top;\n",
       "    }\n",
       "\n",
       "    .dataframe thead th {\n",
       "        text-align: right;\n",
       "    }\n",
       "</style>\n",
       "<table border=\"1\" class=\"dataframe\">\n",
       "  <thead>\n",
       "    <tr style=\"text-align: right;\">\n",
       "      <th></th>\n",
       "      <th>user_id</th>\n",
       "      <th>month</th>\n",
       "      <th>number_calls</th>\n",
       "      <th>call_duration</th>\n",
       "      <th>tariff_name</th>\n",
       "      <th>minutes_included</th>\n",
       "      <th>rub_per_minute</th>\n",
       "    </tr>\n",
       "  </thead>\n",
       "  <tbody>\n",
       "    <tr>\n",
       "      <th>0</th>\n",
       "      <td>1000</td>\n",
       "      <td>2018-05-01</td>\n",
       "      <td>22</td>\n",
       "      <td>159</td>\n",
       "      <td>ultra</td>\n",
       "      <td>3000</td>\n",
       "      <td>1</td>\n",
       "    </tr>\n",
       "    <tr>\n",
       "      <th>1</th>\n",
       "      <td>1000</td>\n",
       "      <td>2018-06-01</td>\n",
       "      <td>43</td>\n",
       "      <td>172</td>\n",
       "      <td>ultra</td>\n",
       "      <td>3000</td>\n",
       "      <td>1</td>\n",
       "    </tr>\n",
       "    <tr>\n",
       "      <th>2</th>\n",
       "      <td>1000</td>\n",
       "      <td>2018-07-01</td>\n",
       "      <td>47</td>\n",
       "      <td>340</td>\n",
       "      <td>ultra</td>\n",
       "      <td>3000</td>\n",
       "      <td>1</td>\n",
       "    </tr>\n",
       "    <tr>\n",
       "      <th>3</th>\n",
       "      <td>1000</td>\n",
       "      <td>2018-08-01</td>\n",
       "      <td>52</td>\n",
       "      <td>408</td>\n",
       "      <td>ultra</td>\n",
       "      <td>3000</td>\n",
       "      <td>1</td>\n",
       "    </tr>\n",
       "    <tr>\n",
       "      <th>4</th>\n",
       "      <td>1000</td>\n",
       "      <td>2018-09-01</td>\n",
       "      <td>58</td>\n",
       "      <td>466</td>\n",
       "      <td>ultra</td>\n",
       "      <td>3000</td>\n",
       "      <td>1</td>\n",
       "    </tr>\n",
       "    <tr>\n",
       "      <th>5</th>\n",
       "      <td>1000</td>\n",
       "      <td>2018-10-01</td>\n",
       "      <td>57</td>\n",
       "      <td>350</td>\n",
       "      <td>ultra</td>\n",
       "      <td>3000</td>\n",
       "      <td>1</td>\n",
       "    </tr>\n",
       "    <tr>\n",
       "      <th>6</th>\n",
       "      <td>1000</td>\n",
       "      <td>2018-11-01</td>\n",
       "      <td>43</td>\n",
       "      <td>338</td>\n",
       "      <td>ultra</td>\n",
       "      <td>3000</td>\n",
       "      <td>1</td>\n",
       "    </tr>\n",
       "    <tr>\n",
       "      <th>7</th>\n",
       "      <td>1000</td>\n",
       "      <td>2018-12-01</td>\n",
       "      <td>46</td>\n",
       "      <td>333</td>\n",
       "      <td>ultra</td>\n",
       "      <td>3000</td>\n",
       "      <td>1</td>\n",
       "    </tr>\n",
       "    <tr>\n",
       "      <th>8</th>\n",
       "      <td>1003</td>\n",
       "      <td>2018-08-01</td>\n",
       "      <td>55</td>\n",
       "      <td>380</td>\n",
       "      <td>ultra</td>\n",
       "      <td>3000</td>\n",
       "      <td>1</td>\n",
       "    </tr>\n",
       "    <tr>\n",
       "      <th>9</th>\n",
       "      <td>1003</td>\n",
       "      <td>2018-09-01</td>\n",
       "      <td>134</td>\n",
       "      <td>961</td>\n",
       "      <td>ultra</td>\n",
       "      <td>3000</td>\n",
       "      <td>1</td>\n",
       "    </tr>\n",
       "    <tr>\n",
       "      <th>10</th>\n",
       "      <td>1003</td>\n",
       "      <td>2018-10-01</td>\n",
       "      <td>108</td>\n",
       "      <td>855</td>\n",
       "      <td>ultra</td>\n",
       "      <td>3000</td>\n",
       "      <td>1</td>\n",
       "    </tr>\n",
       "    <tr>\n",
       "      <th>11</th>\n",
       "      <td>1003</td>\n",
       "      <td>2018-11-01</td>\n",
       "      <td>115</td>\n",
       "      <td>824</td>\n",
       "      <td>ultra</td>\n",
       "      <td>3000</td>\n",
       "      <td>1</td>\n",
       "    </tr>\n",
       "    <tr>\n",
       "      <th>12</th>\n",
       "      <td>1003</td>\n",
       "      <td>2018-12-01</td>\n",
       "      <td>108</td>\n",
       "      <td>802</td>\n",
       "      <td>ultra</td>\n",
       "      <td>3000</td>\n",
       "      <td>1</td>\n",
       "    </tr>\n",
       "    <tr>\n",
       "      <th>13</th>\n",
       "      <td>1004</td>\n",
       "      <td>2018-05-01</td>\n",
       "      <td>9</td>\n",
       "      <td>35</td>\n",
       "      <td>ultra</td>\n",
       "      <td>3000</td>\n",
       "      <td>1</td>\n",
       "    </tr>\n",
       "    <tr>\n",
       "      <th>14</th>\n",
       "      <td>1004</td>\n",
       "      <td>2018-06-01</td>\n",
       "      <td>31</td>\n",
       "      <td>171</td>\n",
       "      <td>ultra</td>\n",
       "      <td>3000</td>\n",
       "      <td>1</td>\n",
       "    </tr>\n",
       "  </tbody>\n",
       "</table>\n",
       "</div>"
      ],
      "text/plain": [
       "    user_id      month  number_calls  call_duration tariff_name  \\\n",
       "0      1000 2018-05-01            22            159       ultra   \n",
       "1      1000 2018-06-01            43            172       ultra   \n",
       "2      1000 2018-07-01            47            340       ultra   \n",
       "3      1000 2018-08-01            52            408       ultra   \n",
       "4      1000 2018-09-01            58            466       ultra   \n",
       "5      1000 2018-10-01            57            350       ultra   \n",
       "6      1000 2018-11-01            43            338       ultra   \n",
       "7      1000 2018-12-01            46            333       ultra   \n",
       "8      1003 2018-08-01            55            380       ultra   \n",
       "9      1003 2018-09-01           134            961       ultra   \n",
       "10     1003 2018-10-01           108            855       ultra   \n",
       "11     1003 2018-11-01           115            824       ultra   \n",
       "12     1003 2018-12-01           108            802       ultra   \n",
       "13     1004 2018-05-01             9             35       ultra   \n",
       "14     1004 2018-06-01            31            171       ultra   \n",
       "\n",
       "    minutes_included  rub_per_minute  \n",
       "0               3000               1  \n",
       "1               3000               1  \n",
       "2               3000               1  \n",
       "3               3000               1  \n",
       "4               3000               1  \n",
       "5               3000               1  \n",
       "6               3000               1  \n",
       "7               3000               1  \n",
       "8               3000               1  \n",
       "9               3000               1  \n",
       "10              3000               1  \n",
       "11              3000               1  \n",
       "12              3000               1  \n",
       "13              3000               1  \n",
       "14              3000               1  "
      ]
     },
     "metadata": {},
     "output_type": "display_data"
    }
   ],
   "source": [
    "#добавляем данные о тарифе\n",
    "calls = calls.merge(data_tariffs[['tariff_name', 'minutes_included', 'rub_per_minute']], on='tariff_name')\n",
    "display(calls.head(15))"
   ]
  },
  {
   "cell_type": "code",
   "execution_count": 19,
   "metadata": {},
   "outputs": [],
   "source": [
    "#создаем функцию расчета оплаты минут, использованных сверх тарифа\n",
    "def excess_call(row):\n",
    "    if row['call_duration'] > row['minutes_included']:\n",
    "        excess_call = (row['call_duration'] - row['minutes_included']) * row['rub_per_minute']\n",
    "        return excess_call\n",
    "    if row['call_duration'] <= row['minutes_included']:\n",
    "        return 0"
   ]
  },
  {
   "cell_type": "code",
   "execution_count": 20,
   "metadata": {},
   "outputs": [
    {
     "data": {
      "text/html": [
       "<div>\n",
       "<style scoped>\n",
       "    .dataframe tbody tr th:only-of-type {\n",
       "        vertical-align: middle;\n",
       "    }\n",
       "\n",
       "    .dataframe tbody tr th {\n",
       "        vertical-align: top;\n",
       "    }\n",
       "\n",
       "    .dataframe thead th {\n",
       "        text-align: right;\n",
       "    }\n",
       "</style>\n",
       "<table border=\"1\" class=\"dataframe\">\n",
       "  <thead>\n",
       "    <tr style=\"text-align: right;\">\n",
       "      <th></th>\n",
       "      <th>user_id</th>\n",
       "      <th>month</th>\n",
       "      <th>number_calls</th>\n",
       "      <th>call_duration</th>\n",
       "      <th>tariff_name</th>\n",
       "      <th>minutes_included</th>\n",
       "      <th>rub_per_minute</th>\n",
       "      <th>excess_call</th>\n",
       "    </tr>\n",
       "  </thead>\n",
       "  <tbody>\n",
       "    <tr>\n",
       "      <th>3144</th>\n",
       "      <td>1492</td>\n",
       "      <td>2018-11-01</td>\n",
       "      <td>81</td>\n",
       "      <td>510</td>\n",
       "      <td>smart</td>\n",
       "      <td>500</td>\n",
       "      <td>3</td>\n",
       "      <td>30</td>\n",
       "    </tr>\n",
       "    <tr>\n",
       "      <th>3145</th>\n",
       "      <td>1492</td>\n",
       "      <td>2018-12-01</td>\n",
       "      <td>102</td>\n",
       "      <td>781</td>\n",
       "      <td>smart</td>\n",
       "      <td>500</td>\n",
       "      <td>3</td>\n",
       "      <td>843</td>\n",
       "    </tr>\n",
       "    <tr>\n",
       "      <th>3146</th>\n",
       "      <td>1494</td>\n",
       "      <td>2018-08-01</td>\n",
       "      <td>32</td>\n",
       "      <td>262</td>\n",
       "      <td>smart</td>\n",
       "      <td>500</td>\n",
       "      <td>3</td>\n",
       "      <td>0</td>\n",
       "    </tr>\n",
       "    <tr>\n",
       "      <th>3147</th>\n",
       "      <td>1494</td>\n",
       "      <td>2018-09-01</td>\n",
       "      <td>66</td>\n",
       "      <td>501</td>\n",
       "      <td>smart</td>\n",
       "      <td>500</td>\n",
       "      <td>3</td>\n",
       "      <td>3</td>\n",
       "    </tr>\n",
       "    <tr>\n",
       "      <th>3148</th>\n",
       "      <td>1494</td>\n",
       "      <td>2018-10-01</td>\n",
       "      <td>52</td>\n",
       "      <td>354</td>\n",
       "      <td>smart</td>\n",
       "      <td>500</td>\n",
       "      <td>3</td>\n",
       "      <td>0</td>\n",
       "    </tr>\n",
       "    <tr>\n",
       "      <th>3149</th>\n",
       "      <td>1494</td>\n",
       "      <td>2018-11-01</td>\n",
       "      <td>63</td>\n",
       "      <td>411</td>\n",
       "      <td>smart</td>\n",
       "      <td>500</td>\n",
       "      <td>3</td>\n",
       "      <td>0</td>\n",
       "    </tr>\n",
       "    <tr>\n",
       "      <th>3150</th>\n",
       "      <td>1494</td>\n",
       "      <td>2018-12-01</td>\n",
       "      <td>62</td>\n",
       "      <td>418</td>\n",
       "      <td>smart</td>\n",
       "      <td>500</td>\n",
       "      <td>3</td>\n",
       "      <td>0</td>\n",
       "    </tr>\n",
       "    <tr>\n",
       "      <th>3151</th>\n",
       "      <td>1496</td>\n",
       "      <td>2018-01-01</td>\n",
       "      <td>7</td>\n",
       "      <td>48</td>\n",
       "      <td>smart</td>\n",
       "      <td>500</td>\n",
       "      <td>3</td>\n",
       "      <td>0</td>\n",
       "    </tr>\n",
       "    <tr>\n",
       "      <th>3152</th>\n",
       "      <td>1496</td>\n",
       "      <td>2018-02-01</td>\n",
       "      <td>77</td>\n",
       "      <td>594</td>\n",
       "      <td>smart</td>\n",
       "      <td>500</td>\n",
       "      <td>3</td>\n",
       "      <td>282</td>\n",
       "    </tr>\n",
       "    <tr>\n",
       "      <th>3153</th>\n",
       "      <td>1496</td>\n",
       "      <td>2018-03-01</td>\n",
       "      <td>79</td>\n",
       "      <td>557</td>\n",
       "      <td>smart</td>\n",
       "      <td>500</td>\n",
       "      <td>3</td>\n",
       "      <td>171</td>\n",
       "    </tr>\n",
       "    <tr>\n",
       "      <th>3154</th>\n",
       "      <td>1496</td>\n",
       "      <td>2018-04-01</td>\n",
       "      <td>67</td>\n",
       "      <td>521</td>\n",
       "      <td>smart</td>\n",
       "      <td>500</td>\n",
       "      <td>3</td>\n",
       "      <td>63</td>\n",
       "    </tr>\n",
       "    <tr>\n",
       "      <th>3155</th>\n",
       "      <td>1496</td>\n",
       "      <td>2018-05-01</td>\n",
       "      <td>63</td>\n",
       "      <td>484</td>\n",
       "      <td>smart</td>\n",
       "      <td>500</td>\n",
       "      <td>3</td>\n",
       "      <td>0</td>\n",
       "    </tr>\n",
       "    <tr>\n",
       "      <th>3156</th>\n",
       "      <td>1496</td>\n",
       "      <td>2018-06-01</td>\n",
       "      <td>74</td>\n",
       "      <td>555</td>\n",
       "      <td>smart</td>\n",
       "      <td>500</td>\n",
       "      <td>3</td>\n",
       "      <td>165</td>\n",
       "    </tr>\n",
       "    <tr>\n",
       "      <th>3157</th>\n",
       "      <td>1496</td>\n",
       "      <td>2018-07-01</td>\n",
       "      <td>73</td>\n",
       "      <td>582</td>\n",
       "      <td>smart</td>\n",
       "      <td>500</td>\n",
       "      <td>3</td>\n",
       "      <td>246</td>\n",
       "    </tr>\n",
       "    <tr>\n",
       "      <th>3158</th>\n",
       "      <td>1496</td>\n",
       "      <td>2018-08-01</td>\n",
       "      <td>88</td>\n",
       "      <td>527</td>\n",
       "      <td>smart</td>\n",
       "      <td>500</td>\n",
       "      <td>3</td>\n",
       "      <td>81</td>\n",
       "    </tr>\n",
       "    <tr>\n",
       "      <th>3159</th>\n",
       "      <td>1496</td>\n",
       "      <td>2018-09-01</td>\n",
       "      <td>68</td>\n",
       "      <td>486</td>\n",
       "      <td>smart</td>\n",
       "      <td>500</td>\n",
       "      <td>3</td>\n",
       "      <td>0</td>\n",
       "    </tr>\n",
       "    <tr>\n",
       "      <th>3160</th>\n",
       "      <td>1496</td>\n",
       "      <td>2018-10-01</td>\n",
       "      <td>72</td>\n",
       "      <td>450</td>\n",
       "      <td>smart</td>\n",
       "      <td>500</td>\n",
       "      <td>3</td>\n",
       "      <td>0</td>\n",
       "    </tr>\n",
       "    <tr>\n",
       "      <th>3161</th>\n",
       "      <td>1496</td>\n",
       "      <td>2018-11-01</td>\n",
       "      <td>80</td>\n",
       "      <td>662</td>\n",
       "      <td>smart</td>\n",
       "      <td>500</td>\n",
       "      <td>3</td>\n",
       "      <td>486</td>\n",
       "    </tr>\n",
       "    <tr>\n",
       "      <th>3162</th>\n",
       "      <td>1496</td>\n",
       "      <td>2018-12-01</td>\n",
       "      <td>80</td>\n",
       "      <td>518</td>\n",
       "      <td>smart</td>\n",
       "      <td>500</td>\n",
       "      <td>3</td>\n",
       "      <td>54</td>\n",
       "    </tr>\n",
       "    <tr>\n",
       "      <th>3163</th>\n",
       "      <td>1497</td>\n",
       "      <td>2018-10-01</td>\n",
       "      <td>66</td>\n",
       "      <td>490</td>\n",
       "      <td>smart</td>\n",
       "      <td>500</td>\n",
       "      <td>3</td>\n",
       "      <td>0</td>\n",
       "    </tr>\n",
       "    <tr>\n",
       "      <th>3164</th>\n",
       "      <td>1497</td>\n",
       "      <td>2018-11-01</td>\n",
       "      <td>64</td>\n",
       "      <td>371</td>\n",
       "      <td>smart</td>\n",
       "      <td>500</td>\n",
       "      <td>3</td>\n",
       "      <td>0</td>\n",
       "    </tr>\n",
       "    <tr>\n",
       "      <th>3165</th>\n",
       "      <td>1497</td>\n",
       "      <td>2018-12-01</td>\n",
       "      <td>71</td>\n",
       "      <td>545</td>\n",
       "      <td>smart</td>\n",
       "      <td>500</td>\n",
       "      <td>3</td>\n",
       "      <td>135</td>\n",
       "    </tr>\n",
       "    <tr>\n",
       "      <th>3166</th>\n",
       "      <td>1498</td>\n",
       "      <td>2018-07-01</td>\n",
       "      <td>23</td>\n",
       "      <td>175</td>\n",
       "      <td>smart</td>\n",
       "      <td>500</td>\n",
       "      <td>3</td>\n",
       "      <td>0</td>\n",
       "    </tr>\n",
       "    <tr>\n",
       "      <th>3167</th>\n",
       "      <td>1498</td>\n",
       "      <td>2018-08-01</td>\n",
       "      <td>57</td>\n",
       "      <td>400</td>\n",
       "      <td>smart</td>\n",
       "      <td>500</td>\n",
       "      <td>3</td>\n",
       "      <td>0</td>\n",
       "    </tr>\n",
       "    <tr>\n",
       "      <th>3168</th>\n",
       "      <td>1498</td>\n",
       "      <td>2018-09-01</td>\n",
       "      <td>59</td>\n",
       "      <td>471</td>\n",
       "      <td>smart</td>\n",
       "      <td>500</td>\n",
       "      <td>3</td>\n",
       "      <td>0</td>\n",
       "    </tr>\n",
       "    <tr>\n",
       "      <th>3169</th>\n",
       "      <td>1498</td>\n",
       "      <td>2018-10-01</td>\n",
       "      <td>41</td>\n",
       "      <td>247</td>\n",
       "      <td>smart</td>\n",
       "      <td>500</td>\n",
       "      <td>3</td>\n",
       "      <td>0</td>\n",
       "    </tr>\n",
       "    <tr>\n",
       "      <th>3170</th>\n",
       "      <td>1499</td>\n",
       "      <td>2018-09-01</td>\n",
       "      <td>9</td>\n",
       "      <td>70</td>\n",
       "      <td>smart</td>\n",
       "      <td>500</td>\n",
       "      <td>3</td>\n",
       "      <td>0</td>\n",
       "    </tr>\n",
       "    <tr>\n",
       "      <th>3171</th>\n",
       "      <td>1499</td>\n",
       "      <td>2018-10-01</td>\n",
       "      <td>68</td>\n",
       "      <td>449</td>\n",
       "      <td>smart</td>\n",
       "      <td>500</td>\n",
       "      <td>3</td>\n",
       "      <td>0</td>\n",
       "    </tr>\n",
       "    <tr>\n",
       "      <th>3172</th>\n",
       "      <td>1499</td>\n",
       "      <td>2018-11-01</td>\n",
       "      <td>74</td>\n",
       "      <td>612</td>\n",
       "      <td>smart</td>\n",
       "      <td>500</td>\n",
       "      <td>3</td>\n",
       "      <td>336</td>\n",
       "    </tr>\n",
       "    <tr>\n",
       "      <th>3173</th>\n",
       "      <td>1499</td>\n",
       "      <td>2018-12-01</td>\n",
       "      <td>69</td>\n",
       "      <td>492</td>\n",
       "      <td>smart</td>\n",
       "      <td>500</td>\n",
       "      <td>3</td>\n",
       "      <td>0</td>\n",
       "    </tr>\n",
       "  </tbody>\n",
       "</table>\n",
       "</div>"
      ],
      "text/plain": [
       "      user_id      month  number_calls  call_duration tariff_name  \\\n",
       "3144     1492 2018-11-01            81            510       smart   \n",
       "3145     1492 2018-12-01           102            781       smart   \n",
       "3146     1494 2018-08-01            32            262       smart   \n",
       "3147     1494 2018-09-01            66            501       smart   \n",
       "3148     1494 2018-10-01            52            354       smart   \n",
       "3149     1494 2018-11-01            63            411       smart   \n",
       "3150     1494 2018-12-01            62            418       smart   \n",
       "3151     1496 2018-01-01             7             48       smart   \n",
       "3152     1496 2018-02-01            77            594       smart   \n",
       "3153     1496 2018-03-01            79            557       smart   \n",
       "3154     1496 2018-04-01            67            521       smart   \n",
       "3155     1496 2018-05-01            63            484       smart   \n",
       "3156     1496 2018-06-01            74            555       smart   \n",
       "3157     1496 2018-07-01            73            582       smart   \n",
       "3158     1496 2018-08-01            88            527       smart   \n",
       "3159     1496 2018-09-01            68            486       smart   \n",
       "3160     1496 2018-10-01            72            450       smart   \n",
       "3161     1496 2018-11-01            80            662       smart   \n",
       "3162     1496 2018-12-01            80            518       smart   \n",
       "3163     1497 2018-10-01            66            490       smart   \n",
       "3164     1497 2018-11-01            64            371       smart   \n",
       "3165     1497 2018-12-01            71            545       smart   \n",
       "3166     1498 2018-07-01            23            175       smart   \n",
       "3167     1498 2018-08-01            57            400       smart   \n",
       "3168     1498 2018-09-01            59            471       smart   \n",
       "3169     1498 2018-10-01            41            247       smart   \n",
       "3170     1499 2018-09-01             9             70       smart   \n",
       "3171     1499 2018-10-01            68            449       smart   \n",
       "3172     1499 2018-11-01            74            612       smart   \n",
       "3173     1499 2018-12-01            69            492       smart   \n",
       "\n",
       "      minutes_included  rub_per_minute  excess_call  \n",
       "3144               500               3           30  \n",
       "3145               500               3          843  \n",
       "3146               500               3            0  \n",
       "3147               500               3            3  \n",
       "3148               500               3            0  \n",
       "3149               500               3            0  \n",
       "3150               500               3            0  \n",
       "3151               500               3            0  \n",
       "3152               500               3          282  \n",
       "3153               500               3          171  \n",
       "3154               500               3           63  \n",
       "3155               500               3            0  \n",
       "3156               500               3          165  \n",
       "3157               500               3          246  \n",
       "3158               500               3           81  \n",
       "3159               500               3            0  \n",
       "3160               500               3            0  \n",
       "3161               500               3          486  \n",
       "3162               500               3           54  \n",
       "3163               500               3            0  \n",
       "3164               500               3            0  \n",
       "3165               500               3          135  \n",
       "3166               500               3            0  \n",
       "3167               500               3            0  \n",
       "3168               500               3            0  \n",
       "3169               500               3            0  \n",
       "3170               500               3            0  \n",
       "3171               500               3            0  \n",
       "3172               500               3          336  \n",
       "3173               500               3            0  "
      ]
     },
     "metadata": {},
     "output_type": "display_data"
    }
   ],
   "source": [
    "#добавляем столбец с использованием функции\n",
    "calls['excess_call'] = calls[['call_duration', 'minutes_included', 'rub_per_minute']].apply(excess_call, axis=1)\n",
    "display(calls.tail(30))"
   ]
  },
  {
   "cell_type": "markdown",
   "metadata": {},
   "source": [
    "<b>SMS</b>"
   ]
  },
  {
   "cell_type": "code",
   "execution_count": 21,
   "metadata": {},
   "outputs": [
    {
     "data": {
      "text/html": [
       "<div>\n",
       "<style scoped>\n",
       "    .dataframe tbody tr th:only-of-type {\n",
       "        vertical-align: middle;\n",
       "    }\n",
       "\n",
       "    .dataframe tbody tr th {\n",
       "        vertical-align: top;\n",
       "    }\n",
       "\n",
       "    .dataframe thead th {\n",
       "        text-align: right;\n",
       "    }\n",
       "</style>\n",
       "<table border=\"1\" class=\"dataframe\">\n",
       "  <thead>\n",
       "    <tr style=\"text-align: right;\">\n",
       "      <th></th>\n",
       "      <th>user_id</th>\n",
       "      <th>month</th>\n",
       "      <th>number_messages</th>\n",
       "      <th>tariff_name</th>\n",
       "    </tr>\n",
       "  </thead>\n",
       "  <tbody>\n",
       "    <tr>\n",
       "      <th>0</th>\n",
       "      <td>1000</td>\n",
       "      <td>2018-05-01</td>\n",
       "      <td>22</td>\n",
       "      <td>ultra</td>\n",
       "    </tr>\n",
       "    <tr>\n",
       "      <th>1</th>\n",
       "      <td>1000</td>\n",
       "      <td>2018-06-01</td>\n",
       "      <td>60</td>\n",
       "      <td>ultra</td>\n",
       "    </tr>\n",
       "    <tr>\n",
       "      <th>2</th>\n",
       "      <td>1000</td>\n",
       "      <td>2018-07-01</td>\n",
       "      <td>75</td>\n",
       "      <td>ultra</td>\n",
       "    </tr>\n",
       "    <tr>\n",
       "      <th>3</th>\n",
       "      <td>1000</td>\n",
       "      <td>2018-08-01</td>\n",
       "      <td>81</td>\n",
       "      <td>ultra</td>\n",
       "    </tr>\n",
       "    <tr>\n",
       "      <th>4</th>\n",
       "      <td>1000</td>\n",
       "      <td>2018-09-01</td>\n",
       "      <td>57</td>\n",
       "      <td>ultra</td>\n",
       "    </tr>\n",
       "    <tr>\n",
       "      <th>5</th>\n",
       "      <td>1000</td>\n",
       "      <td>2018-10-01</td>\n",
       "      <td>73</td>\n",
       "      <td>ultra</td>\n",
       "    </tr>\n",
       "    <tr>\n",
       "      <th>6</th>\n",
       "      <td>1000</td>\n",
       "      <td>2018-11-01</td>\n",
       "      <td>58</td>\n",
       "      <td>ultra</td>\n",
       "    </tr>\n",
       "    <tr>\n",
       "      <th>7</th>\n",
       "      <td>1000</td>\n",
       "      <td>2018-12-01</td>\n",
       "      <td>70</td>\n",
       "      <td>ultra</td>\n",
       "    </tr>\n",
       "    <tr>\n",
       "      <th>8</th>\n",
       "      <td>1002</td>\n",
       "      <td>2018-06-01</td>\n",
       "      <td>4</td>\n",
       "      <td>smart</td>\n",
       "    </tr>\n",
       "    <tr>\n",
       "      <th>9</th>\n",
       "      <td>1002</td>\n",
       "      <td>2018-07-01</td>\n",
       "      <td>11</td>\n",
       "      <td>smart</td>\n",
       "    </tr>\n",
       "    <tr>\n",
       "      <th>10</th>\n",
       "      <td>1002</td>\n",
       "      <td>2018-08-01</td>\n",
       "      <td>13</td>\n",
       "      <td>smart</td>\n",
       "    </tr>\n",
       "    <tr>\n",
       "      <th>11</th>\n",
       "      <td>1002</td>\n",
       "      <td>2018-09-01</td>\n",
       "      <td>4</td>\n",
       "      <td>smart</td>\n",
       "    </tr>\n",
       "    <tr>\n",
       "      <th>12</th>\n",
       "      <td>1002</td>\n",
       "      <td>2018-10-01</td>\n",
       "      <td>10</td>\n",
       "      <td>smart</td>\n",
       "    </tr>\n",
       "    <tr>\n",
       "      <th>13</th>\n",
       "      <td>1002</td>\n",
       "      <td>2018-11-01</td>\n",
       "      <td>16</td>\n",
       "      <td>smart</td>\n",
       "    </tr>\n",
       "    <tr>\n",
       "      <th>14</th>\n",
       "      <td>1002</td>\n",
       "      <td>2018-12-01</td>\n",
       "      <td>12</td>\n",
       "      <td>smart</td>\n",
       "    </tr>\n",
       "  </tbody>\n",
       "</table>\n",
       "</div>"
      ],
      "text/plain": [
       "    user_id      month  number_messages tariff_name\n",
       "0      1000 2018-05-01               22       ultra\n",
       "1      1000 2018-06-01               60       ultra\n",
       "2      1000 2018-07-01               75       ultra\n",
       "3      1000 2018-08-01               81       ultra\n",
       "4      1000 2018-09-01               57       ultra\n",
       "5      1000 2018-10-01               73       ultra\n",
       "6      1000 2018-11-01               58       ultra\n",
       "7      1000 2018-12-01               70       ultra\n",
       "8      1002 2018-06-01                4       smart\n",
       "9      1002 2018-07-01               11       smart\n",
       "10     1002 2018-08-01               13       smart\n",
       "11     1002 2018-09-01                4       smart\n",
       "12     1002 2018-10-01               10       smart\n",
       "13     1002 2018-11-01               16       smart\n",
       "14     1002 2018-12-01               12       smart"
      ]
     },
     "metadata": {},
     "output_type": "display_data"
    }
   ],
   "source": [
    "#добавляем в получившуюся таблицу по сообщениям информацию по используемому тарифу, переименовываем столбец с тарифом\n",
    "messages = messages.merge(data_users[['user_id', 'tariff']], on='user_id')\n",
    "messages.columns = ['user_id', 'month', 'number_messages', 'tariff_name']\n",
    "display(messages.head(15))"
   ]
  },
  {
   "cell_type": "code",
   "execution_count": 22,
   "metadata": {},
   "outputs": [
    {
     "data": {
      "text/html": [
       "<div>\n",
       "<style scoped>\n",
       "    .dataframe tbody tr th:only-of-type {\n",
       "        vertical-align: middle;\n",
       "    }\n",
       "\n",
       "    .dataframe tbody tr th {\n",
       "        vertical-align: top;\n",
       "    }\n",
       "\n",
       "    .dataframe thead th {\n",
       "        text-align: right;\n",
       "    }\n",
       "</style>\n",
       "<table border=\"1\" class=\"dataframe\">\n",
       "  <thead>\n",
       "    <tr style=\"text-align: right;\">\n",
       "      <th></th>\n",
       "      <th>user_id</th>\n",
       "      <th>month</th>\n",
       "      <th>number_messages</th>\n",
       "      <th>tariff_name</th>\n",
       "      <th>messages_included</th>\n",
       "      <th>rub_per_message</th>\n",
       "    </tr>\n",
       "  </thead>\n",
       "  <tbody>\n",
       "    <tr>\n",
       "      <th>0</th>\n",
       "      <td>1000</td>\n",
       "      <td>2018-05-01</td>\n",
       "      <td>22</td>\n",
       "      <td>ultra</td>\n",
       "      <td>1000</td>\n",
       "      <td>1</td>\n",
       "    </tr>\n",
       "    <tr>\n",
       "      <th>1</th>\n",
       "      <td>1000</td>\n",
       "      <td>2018-06-01</td>\n",
       "      <td>60</td>\n",
       "      <td>ultra</td>\n",
       "      <td>1000</td>\n",
       "      <td>1</td>\n",
       "    </tr>\n",
       "    <tr>\n",
       "      <th>2</th>\n",
       "      <td>1000</td>\n",
       "      <td>2018-07-01</td>\n",
       "      <td>75</td>\n",
       "      <td>ultra</td>\n",
       "      <td>1000</td>\n",
       "      <td>1</td>\n",
       "    </tr>\n",
       "    <tr>\n",
       "      <th>3</th>\n",
       "      <td>1000</td>\n",
       "      <td>2018-08-01</td>\n",
       "      <td>81</td>\n",
       "      <td>ultra</td>\n",
       "      <td>1000</td>\n",
       "      <td>1</td>\n",
       "    </tr>\n",
       "    <tr>\n",
       "      <th>4</th>\n",
       "      <td>1000</td>\n",
       "      <td>2018-09-01</td>\n",
       "      <td>57</td>\n",
       "      <td>ultra</td>\n",
       "      <td>1000</td>\n",
       "      <td>1</td>\n",
       "    </tr>\n",
       "    <tr>\n",
       "      <th>5</th>\n",
       "      <td>1000</td>\n",
       "      <td>2018-10-01</td>\n",
       "      <td>73</td>\n",
       "      <td>ultra</td>\n",
       "      <td>1000</td>\n",
       "      <td>1</td>\n",
       "    </tr>\n",
       "    <tr>\n",
       "      <th>6</th>\n",
       "      <td>1000</td>\n",
       "      <td>2018-11-01</td>\n",
       "      <td>58</td>\n",
       "      <td>ultra</td>\n",
       "      <td>1000</td>\n",
       "      <td>1</td>\n",
       "    </tr>\n",
       "    <tr>\n",
       "      <th>7</th>\n",
       "      <td>1000</td>\n",
       "      <td>2018-12-01</td>\n",
       "      <td>70</td>\n",
       "      <td>ultra</td>\n",
       "      <td>1000</td>\n",
       "      <td>1</td>\n",
       "    </tr>\n",
       "    <tr>\n",
       "      <th>8</th>\n",
       "      <td>1003</td>\n",
       "      <td>2018-08-01</td>\n",
       "      <td>37</td>\n",
       "      <td>ultra</td>\n",
       "      <td>1000</td>\n",
       "      <td>1</td>\n",
       "    </tr>\n",
       "    <tr>\n",
       "      <th>9</th>\n",
       "      <td>1003</td>\n",
       "      <td>2018-09-01</td>\n",
       "      <td>91</td>\n",
       "      <td>ultra</td>\n",
       "      <td>1000</td>\n",
       "      <td>1</td>\n",
       "    </tr>\n",
       "    <tr>\n",
       "      <th>10</th>\n",
       "      <td>1003</td>\n",
       "      <td>2018-10-01</td>\n",
       "      <td>83</td>\n",
       "      <td>ultra</td>\n",
       "      <td>1000</td>\n",
       "      <td>1</td>\n",
       "    </tr>\n",
       "    <tr>\n",
       "      <th>11</th>\n",
       "      <td>1003</td>\n",
       "      <td>2018-11-01</td>\n",
       "      <td>94</td>\n",
       "      <td>ultra</td>\n",
       "      <td>1000</td>\n",
       "      <td>1</td>\n",
       "    </tr>\n",
       "    <tr>\n",
       "      <th>12</th>\n",
       "      <td>1003</td>\n",
       "      <td>2018-12-01</td>\n",
       "      <td>75</td>\n",
       "      <td>ultra</td>\n",
       "      <td>1000</td>\n",
       "      <td>1</td>\n",
       "    </tr>\n",
       "    <tr>\n",
       "      <th>13</th>\n",
       "      <td>1004</td>\n",
       "      <td>2018-05-01</td>\n",
       "      <td>95</td>\n",
       "      <td>ultra</td>\n",
       "      <td>1000</td>\n",
       "      <td>1</td>\n",
       "    </tr>\n",
       "    <tr>\n",
       "      <th>14</th>\n",
       "      <td>1004</td>\n",
       "      <td>2018-06-01</td>\n",
       "      <td>134</td>\n",
       "      <td>ultra</td>\n",
       "      <td>1000</td>\n",
       "      <td>1</td>\n",
       "    </tr>\n",
       "  </tbody>\n",
       "</table>\n",
       "</div>"
      ],
      "text/plain": [
       "    user_id      month  number_messages tariff_name  messages_included  \\\n",
       "0      1000 2018-05-01               22       ultra               1000   \n",
       "1      1000 2018-06-01               60       ultra               1000   \n",
       "2      1000 2018-07-01               75       ultra               1000   \n",
       "3      1000 2018-08-01               81       ultra               1000   \n",
       "4      1000 2018-09-01               57       ultra               1000   \n",
       "5      1000 2018-10-01               73       ultra               1000   \n",
       "6      1000 2018-11-01               58       ultra               1000   \n",
       "7      1000 2018-12-01               70       ultra               1000   \n",
       "8      1003 2018-08-01               37       ultra               1000   \n",
       "9      1003 2018-09-01               91       ultra               1000   \n",
       "10     1003 2018-10-01               83       ultra               1000   \n",
       "11     1003 2018-11-01               94       ultra               1000   \n",
       "12     1003 2018-12-01               75       ultra               1000   \n",
       "13     1004 2018-05-01               95       ultra               1000   \n",
       "14     1004 2018-06-01              134       ultra               1000   \n",
       "\n",
       "    rub_per_message  \n",
       "0                 1  \n",
       "1                 1  \n",
       "2                 1  \n",
       "3                 1  \n",
       "4                 1  \n",
       "5                 1  \n",
       "6                 1  \n",
       "7                 1  \n",
       "8                 1  \n",
       "9                 1  \n",
       "10                1  \n",
       "11                1  \n",
       "12                1  \n",
       "13                1  \n",
       "14                1  "
      ]
     },
     "metadata": {},
     "output_type": "display_data"
    }
   ],
   "source": [
    "#добавляем данные о тарифе\n",
    "messages = messages.merge(data_tariffs[['tariff_name', 'messages_included', 'rub_per_message']], on='tariff_name')\n",
    "display(messages.head(15))"
   ]
  },
  {
   "cell_type": "code",
   "execution_count": 23,
   "metadata": {},
   "outputs": [],
   "source": [
    "#создаем функцию расчета оплаты сообщений, использованных сверх тарифа\n",
    "def excess_message(row):\n",
    "    if row['number_messages'] > row['messages_included']:\n",
    "        excess_message = (row['number_messages'] - row['messages_included']) * row['rub_per_message']\n",
    "        return excess_message\n",
    "    if row['number_messages'] <= row['messages_included']:\n",
    "        return 0"
   ]
  },
  {
   "cell_type": "code",
   "execution_count": 24,
   "metadata": {},
   "outputs": [
    {
     "data": {
      "text/html": [
       "<div>\n",
       "<style scoped>\n",
       "    .dataframe tbody tr th:only-of-type {\n",
       "        vertical-align: middle;\n",
       "    }\n",
       "\n",
       "    .dataframe tbody tr th {\n",
       "        vertical-align: top;\n",
       "    }\n",
       "\n",
       "    .dataframe thead th {\n",
       "        text-align: right;\n",
       "    }\n",
       "</style>\n",
       "<table border=\"1\" class=\"dataframe\">\n",
       "  <thead>\n",
       "    <tr style=\"text-align: right;\">\n",
       "      <th></th>\n",
       "      <th>user_id</th>\n",
       "      <th>month</th>\n",
       "      <th>number_messages</th>\n",
       "      <th>tariff_name</th>\n",
       "      <th>messages_included</th>\n",
       "      <th>rub_per_message</th>\n",
       "      <th>excess_message</th>\n",
       "    </tr>\n",
       "  </thead>\n",
       "  <tbody>\n",
       "    <tr>\n",
       "      <th>0</th>\n",
       "      <td>1000</td>\n",
       "      <td>2018-05-01</td>\n",
       "      <td>22</td>\n",
       "      <td>ultra</td>\n",
       "      <td>1000</td>\n",
       "      <td>1</td>\n",
       "      <td>0</td>\n",
       "    </tr>\n",
       "    <tr>\n",
       "      <th>1</th>\n",
       "      <td>1000</td>\n",
       "      <td>2018-06-01</td>\n",
       "      <td>60</td>\n",
       "      <td>ultra</td>\n",
       "      <td>1000</td>\n",
       "      <td>1</td>\n",
       "      <td>0</td>\n",
       "    </tr>\n",
       "    <tr>\n",
       "      <th>2</th>\n",
       "      <td>1000</td>\n",
       "      <td>2018-07-01</td>\n",
       "      <td>75</td>\n",
       "      <td>ultra</td>\n",
       "      <td>1000</td>\n",
       "      <td>1</td>\n",
       "      <td>0</td>\n",
       "    </tr>\n",
       "    <tr>\n",
       "      <th>3</th>\n",
       "      <td>1000</td>\n",
       "      <td>2018-08-01</td>\n",
       "      <td>81</td>\n",
       "      <td>ultra</td>\n",
       "      <td>1000</td>\n",
       "      <td>1</td>\n",
       "      <td>0</td>\n",
       "    </tr>\n",
       "    <tr>\n",
       "      <th>4</th>\n",
       "      <td>1000</td>\n",
       "      <td>2018-09-01</td>\n",
       "      <td>57</td>\n",
       "      <td>ultra</td>\n",
       "      <td>1000</td>\n",
       "      <td>1</td>\n",
       "      <td>0</td>\n",
       "    </tr>\n",
       "    <tr>\n",
       "      <th>...</th>\n",
       "      <td>...</td>\n",
       "      <td>...</td>\n",
       "      <td>...</td>\n",
       "      <td>...</td>\n",
       "      <td>...</td>\n",
       "      <td>...</td>\n",
       "      <td>...</td>\n",
       "    </tr>\n",
       "    <tr>\n",
       "      <th>2712</th>\n",
       "      <td>1498</td>\n",
       "      <td>2018-10-01</td>\n",
       "      <td>42</td>\n",
       "      <td>smart</td>\n",
       "      <td>50</td>\n",
       "      <td>3</td>\n",
       "      <td>0</td>\n",
       "    </tr>\n",
       "    <tr>\n",
       "      <th>2713</th>\n",
       "      <td>1499</td>\n",
       "      <td>2018-09-01</td>\n",
       "      <td>11</td>\n",
       "      <td>smart</td>\n",
       "      <td>50</td>\n",
       "      <td>3</td>\n",
       "      <td>0</td>\n",
       "    </tr>\n",
       "    <tr>\n",
       "      <th>2714</th>\n",
       "      <td>1499</td>\n",
       "      <td>2018-10-01</td>\n",
       "      <td>48</td>\n",
       "      <td>smart</td>\n",
       "      <td>50</td>\n",
       "      <td>3</td>\n",
       "      <td>0</td>\n",
       "    </tr>\n",
       "    <tr>\n",
       "      <th>2715</th>\n",
       "      <td>1499</td>\n",
       "      <td>2018-11-01</td>\n",
       "      <td>59</td>\n",
       "      <td>smart</td>\n",
       "      <td>50</td>\n",
       "      <td>3</td>\n",
       "      <td>27</td>\n",
       "    </tr>\n",
       "    <tr>\n",
       "      <th>2716</th>\n",
       "      <td>1499</td>\n",
       "      <td>2018-12-01</td>\n",
       "      <td>66</td>\n",
       "      <td>smart</td>\n",
       "      <td>50</td>\n",
       "      <td>3</td>\n",
       "      <td>48</td>\n",
       "    </tr>\n",
       "  </tbody>\n",
       "</table>\n",
       "<p>2717 rows × 7 columns</p>\n",
       "</div>"
      ],
      "text/plain": [
       "      user_id      month  number_messages tariff_name  messages_included  \\\n",
       "0        1000 2018-05-01               22       ultra               1000   \n",
       "1        1000 2018-06-01               60       ultra               1000   \n",
       "2        1000 2018-07-01               75       ultra               1000   \n",
       "3        1000 2018-08-01               81       ultra               1000   \n",
       "4        1000 2018-09-01               57       ultra               1000   \n",
       "...       ...        ...              ...         ...                ...   \n",
       "2712     1498 2018-10-01               42       smart                 50   \n",
       "2713     1499 2018-09-01               11       smart                 50   \n",
       "2714     1499 2018-10-01               48       smart                 50   \n",
       "2715     1499 2018-11-01               59       smart                 50   \n",
       "2716     1499 2018-12-01               66       smart                 50   \n",
       "\n",
       "      rub_per_message  excess_message  \n",
       "0                   1               0  \n",
       "1                   1               0  \n",
       "2                   1               0  \n",
       "3                   1               0  \n",
       "4                   1               0  \n",
       "...               ...             ...  \n",
       "2712                3               0  \n",
       "2713                3               0  \n",
       "2714                3               0  \n",
       "2715                3              27  \n",
       "2716                3              48  \n",
       "\n",
       "[2717 rows x 7 columns]"
      ]
     },
     "metadata": {},
     "output_type": "display_data"
    }
   ],
   "source": [
    "#добавляем столбец с использованием функции\n",
    "messages['excess_message'] = messages[['number_messages', 'messages_included', 'rub_per_message']].apply(excess_message, axis=1)\n",
    "display(messages)"
   ]
  },
  {
   "cell_type": "markdown",
   "metadata": {},
   "source": [
    "<b>Internet</b>"
   ]
  },
  {
   "cell_type": "code",
   "execution_count": 25,
   "metadata": {},
   "outputs": [
    {
     "data": {
      "text/html": [
       "<div>\n",
       "<style scoped>\n",
       "    .dataframe tbody tr th:only-of-type {\n",
       "        vertical-align: middle;\n",
       "    }\n",
       "\n",
       "    .dataframe tbody tr th {\n",
       "        vertical-align: top;\n",
       "    }\n",
       "\n",
       "    .dataframe thead th {\n",
       "        text-align: right;\n",
       "    }\n",
       "</style>\n",
       "<table border=\"1\" class=\"dataframe\">\n",
       "  <thead>\n",
       "    <tr style=\"text-align: right;\">\n",
       "      <th></th>\n",
       "      <th>user_id</th>\n",
       "      <th>month</th>\n",
       "      <th>mb_used</th>\n",
       "      <th>gb_used</th>\n",
       "      <th>mb_used_month</th>\n",
       "      <th>tariff_name</th>\n",
       "    </tr>\n",
       "  </thead>\n",
       "  <tbody>\n",
       "    <tr>\n",
       "      <th>0</th>\n",
       "      <td>1000</td>\n",
       "      <td>2018-05-01</td>\n",
       "      <td>2253.49</td>\n",
       "      <td>3</td>\n",
       "      <td>3072</td>\n",
       "      <td>ultra</td>\n",
       "    </tr>\n",
       "    <tr>\n",
       "      <th>1</th>\n",
       "      <td>1000</td>\n",
       "      <td>2018-06-01</td>\n",
       "      <td>23233.77</td>\n",
       "      <td>23</td>\n",
       "      <td>23552</td>\n",
       "      <td>ultra</td>\n",
       "    </tr>\n",
       "    <tr>\n",
       "      <th>2</th>\n",
       "      <td>1000</td>\n",
       "      <td>2018-07-01</td>\n",
       "      <td>14003.64</td>\n",
       "      <td>14</td>\n",
       "      <td>14336</td>\n",
       "      <td>ultra</td>\n",
       "    </tr>\n",
       "    <tr>\n",
       "      <th>3</th>\n",
       "      <td>1000</td>\n",
       "      <td>2018-08-01</td>\n",
       "      <td>14055.93</td>\n",
       "      <td>14</td>\n",
       "      <td>14336</td>\n",
       "      <td>ultra</td>\n",
       "    </tr>\n",
       "    <tr>\n",
       "      <th>4</th>\n",
       "      <td>1000</td>\n",
       "      <td>2018-09-01</td>\n",
       "      <td>14568.91</td>\n",
       "      <td>15</td>\n",
       "      <td>15360</td>\n",
       "      <td>ultra</td>\n",
       "    </tr>\n",
       "    <tr>\n",
       "      <th>5</th>\n",
       "      <td>1000</td>\n",
       "      <td>2018-10-01</td>\n",
       "      <td>14702.49</td>\n",
       "      <td>15</td>\n",
       "      <td>15360</td>\n",
       "      <td>ultra</td>\n",
       "    </tr>\n",
       "    <tr>\n",
       "      <th>6</th>\n",
       "      <td>1000</td>\n",
       "      <td>2018-11-01</td>\n",
       "      <td>14756.47</td>\n",
       "      <td>15</td>\n",
       "      <td>15360</td>\n",
       "      <td>ultra</td>\n",
       "    </tr>\n",
       "    <tr>\n",
       "      <th>7</th>\n",
       "      <td>1000</td>\n",
       "      <td>2018-12-01</td>\n",
       "      <td>9817.61</td>\n",
       "      <td>10</td>\n",
       "      <td>10240</td>\n",
       "      <td>ultra</td>\n",
       "    </tr>\n",
       "    <tr>\n",
       "      <th>8</th>\n",
       "      <td>1001</td>\n",
       "      <td>2018-11-01</td>\n",
       "      <td>18429.34</td>\n",
       "      <td>18</td>\n",
       "      <td>18432</td>\n",
       "      <td>smart</td>\n",
       "    </tr>\n",
       "    <tr>\n",
       "      <th>9</th>\n",
       "      <td>1001</td>\n",
       "      <td>2018-12-01</td>\n",
       "      <td>14036.66</td>\n",
       "      <td>14</td>\n",
       "      <td>14336</td>\n",
       "      <td>smart</td>\n",
       "    </tr>\n",
       "    <tr>\n",
       "      <th>10</th>\n",
       "      <td>1002</td>\n",
       "      <td>2018-06-01</td>\n",
       "      <td>10856.82</td>\n",
       "      <td>11</td>\n",
       "      <td>11264</td>\n",
       "      <td>smart</td>\n",
       "    </tr>\n",
       "    <tr>\n",
       "      <th>11</th>\n",
       "      <td>1002</td>\n",
       "      <td>2018-07-01</td>\n",
       "      <td>17580.10</td>\n",
       "      <td>18</td>\n",
       "      <td>18432</td>\n",
       "      <td>smart</td>\n",
       "    </tr>\n",
       "    <tr>\n",
       "      <th>12</th>\n",
       "      <td>1002</td>\n",
       "      <td>2018-08-01</td>\n",
       "      <td>20319.26</td>\n",
       "      <td>20</td>\n",
       "      <td>20480</td>\n",
       "      <td>smart</td>\n",
       "    </tr>\n",
       "    <tr>\n",
       "      <th>13</th>\n",
       "      <td>1002</td>\n",
       "      <td>2018-09-01</td>\n",
       "      <td>16691.08</td>\n",
       "      <td>17</td>\n",
       "      <td>17408</td>\n",
       "      <td>smart</td>\n",
       "    </tr>\n",
       "    <tr>\n",
       "      <th>14</th>\n",
       "      <td>1002</td>\n",
       "      <td>2018-10-01</td>\n",
       "      <td>13888.25</td>\n",
       "      <td>14</td>\n",
       "      <td>14336</td>\n",
       "      <td>smart</td>\n",
       "    </tr>\n",
       "  </tbody>\n",
       "</table>\n",
       "</div>"
      ],
      "text/plain": [
       "    user_id      month   mb_used  gb_used  mb_used_month tariff_name\n",
       "0      1000 2018-05-01   2253.49        3           3072       ultra\n",
       "1      1000 2018-06-01  23233.77       23          23552       ultra\n",
       "2      1000 2018-07-01  14003.64       14          14336       ultra\n",
       "3      1000 2018-08-01  14055.93       14          14336       ultra\n",
       "4      1000 2018-09-01  14568.91       15          15360       ultra\n",
       "5      1000 2018-10-01  14702.49       15          15360       ultra\n",
       "6      1000 2018-11-01  14756.47       15          15360       ultra\n",
       "7      1000 2018-12-01   9817.61       10          10240       ultra\n",
       "8      1001 2018-11-01  18429.34       18          18432       smart\n",
       "9      1001 2018-12-01  14036.66       14          14336       smart\n",
       "10     1002 2018-06-01  10856.82       11          11264       smart\n",
       "11     1002 2018-07-01  17580.10       18          18432       smart\n",
       "12     1002 2018-08-01  20319.26       20          20480       smart\n",
       "13     1002 2018-09-01  16691.08       17          17408       smart\n",
       "14     1002 2018-10-01  13888.25       14          14336       smart"
      ]
     },
     "metadata": {},
     "output_type": "display_data"
    }
   ],
   "source": [
    "#добавляем в получившуюся таблицу с трафиком информацию по используемому тарифу, переименовываем столбец с тарифом\n",
    "internet = internet.merge(data_users[['user_id', 'tariff']], on='user_id')\n",
    "internet.columns = ['user_id', 'month', 'mb_used', 'gb_used', 'mb_used_month', 'tariff_name']\n",
    "display(internet.head(15))"
   ]
  },
  {
   "cell_type": "code",
   "execution_count": 26,
   "metadata": {},
   "outputs": [
    {
     "data": {
      "text/html": [
       "<div>\n",
       "<style scoped>\n",
       "    .dataframe tbody tr th:only-of-type {\n",
       "        vertical-align: middle;\n",
       "    }\n",
       "\n",
       "    .dataframe tbody tr th {\n",
       "        vertical-align: top;\n",
       "    }\n",
       "\n",
       "    .dataframe thead th {\n",
       "        text-align: right;\n",
       "    }\n",
       "</style>\n",
       "<table border=\"1\" class=\"dataframe\">\n",
       "  <thead>\n",
       "    <tr style=\"text-align: right;\">\n",
       "      <th></th>\n",
       "      <th>user_id</th>\n",
       "      <th>month</th>\n",
       "      <th>mb_used</th>\n",
       "      <th>gb_used</th>\n",
       "      <th>mb_used_month</th>\n",
       "      <th>tariff_name</th>\n",
       "      <th>mb_per_month_included</th>\n",
       "      <th>rub_per_gb</th>\n",
       "    </tr>\n",
       "  </thead>\n",
       "  <tbody>\n",
       "    <tr>\n",
       "      <th>0</th>\n",
       "      <td>1000</td>\n",
       "      <td>2018-05-01</td>\n",
       "      <td>2253.49</td>\n",
       "      <td>3</td>\n",
       "      <td>3072</td>\n",
       "      <td>ultra</td>\n",
       "      <td>30720</td>\n",
       "      <td>150</td>\n",
       "    </tr>\n",
       "    <tr>\n",
       "      <th>1</th>\n",
       "      <td>1000</td>\n",
       "      <td>2018-06-01</td>\n",
       "      <td>23233.77</td>\n",
       "      <td>23</td>\n",
       "      <td>23552</td>\n",
       "      <td>ultra</td>\n",
       "      <td>30720</td>\n",
       "      <td>150</td>\n",
       "    </tr>\n",
       "    <tr>\n",
       "      <th>2</th>\n",
       "      <td>1000</td>\n",
       "      <td>2018-07-01</td>\n",
       "      <td>14003.64</td>\n",
       "      <td>14</td>\n",
       "      <td>14336</td>\n",
       "      <td>ultra</td>\n",
       "      <td>30720</td>\n",
       "      <td>150</td>\n",
       "    </tr>\n",
       "    <tr>\n",
       "      <th>3</th>\n",
       "      <td>1000</td>\n",
       "      <td>2018-08-01</td>\n",
       "      <td>14055.93</td>\n",
       "      <td>14</td>\n",
       "      <td>14336</td>\n",
       "      <td>ultra</td>\n",
       "      <td>30720</td>\n",
       "      <td>150</td>\n",
       "    </tr>\n",
       "    <tr>\n",
       "      <th>4</th>\n",
       "      <td>1000</td>\n",
       "      <td>2018-09-01</td>\n",
       "      <td>14568.91</td>\n",
       "      <td>15</td>\n",
       "      <td>15360</td>\n",
       "      <td>ultra</td>\n",
       "      <td>30720</td>\n",
       "      <td>150</td>\n",
       "    </tr>\n",
       "    <tr>\n",
       "      <th>5</th>\n",
       "      <td>1000</td>\n",
       "      <td>2018-10-01</td>\n",
       "      <td>14702.49</td>\n",
       "      <td>15</td>\n",
       "      <td>15360</td>\n",
       "      <td>ultra</td>\n",
       "      <td>30720</td>\n",
       "      <td>150</td>\n",
       "    </tr>\n",
       "    <tr>\n",
       "      <th>6</th>\n",
       "      <td>1000</td>\n",
       "      <td>2018-11-01</td>\n",
       "      <td>14756.47</td>\n",
       "      <td>15</td>\n",
       "      <td>15360</td>\n",
       "      <td>ultra</td>\n",
       "      <td>30720</td>\n",
       "      <td>150</td>\n",
       "    </tr>\n",
       "    <tr>\n",
       "      <th>7</th>\n",
       "      <td>1000</td>\n",
       "      <td>2018-12-01</td>\n",
       "      <td>9817.61</td>\n",
       "      <td>10</td>\n",
       "      <td>10240</td>\n",
       "      <td>ultra</td>\n",
       "      <td>30720</td>\n",
       "      <td>150</td>\n",
       "    </tr>\n",
       "    <tr>\n",
       "      <th>8</th>\n",
       "      <td>1003</td>\n",
       "      <td>2018-08-01</td>\n",
       "      <td>8565.21</td>\n",
       "      <td>9</td>\n",
       "      <td>9216</td>\n",
       "      <td>ultra</td>\n",
       "      <td>30720</td>\n",
       "      <td>150</td>\n",
       "    </tr>\n",
       "    <tr>\n",
       "      <th>9</th>\n",
       "      <td>1003</td>\n",
       "      <td>2018-09-01</td>\n",
       "      <td>12468.87</td>\n",
       "      <td>13</td>\n",
       "      <td>13312</td>\n",
       "      <td>ultra</td>\n",
       "      <td>30720</td>\n",
       "      <td>150</td>\n",
       "    </tr>\n",
       "    <tr>\n",
       "      <th>10</th>\n",
       "      <td>1003</td>\n",
       "      <td>2018-10-01</td>\n",
       "      <td>14768.14</td>\n",
       "      <td>15</td>\n",
       "      <td>15360</td>\n",
       "      <td>ultra</td>\n",
       "      <td>30720</td>\n",
       "      <td>150</td>\n",
       "    </tr>\n",
       "    <tr>\n",
       "      <th>11</th>\n",
       "      <td>1003</td>\n",
       "      <td>2018-11-01</td>\n",
       "      <td>11356.89</td>\n",
       "      <td>12</td>\n",
       "      <td>12288</td>\n",
       "      <td>ultra</td>\n",
       "      <td>30720</td>\n",
       "      <td>150</td>\n",
       "    </tr>\n",
       "    <tr>\n",
       "      <th>12</th>\n",
       "      <td>1003</td>\n",
       "      <td>2018-12-01</td>\n",
       "      <td>10121.53</td>\n",
       "      <td>10</td>\n",
       "      <td>10240</td>\n",
       "      <td>ultra</td>\n",
       "      <td>30720</td>\n",
       "      <td>150</td>\n",
       "    </tr>\n",
       "    <tr>\n",
       "      <th>13</th>\n",
       "      <td>1004</td>\n",
       "      <td>2018-05-01</td>\n",
       "      <td>13403.98</td>\n",
       "      <td>14</td>\n",
       "      <td>14336</td>\n",
       "      <td>ultra</td>\n",
       "      <td>30720</td>\n",
       "      <td>150</td>\n",
       "    </tr>\n",
       "    <tr>\n",
       "      <th>14</th>\n",
       "      <td>1004</td>\n",
       "      <td>2018-06-01</td>\n",
       "      <td>17600.02</td>\n",
       "      <td>18</td>\n",
       "      <td>18432</td>\n",
       "      <td>ultra</td>\n",
       "      <td>30720</td>\n",
       "      <td>150</td>\n",
       "    </tr>\n",
       "  </tbody>\n",
       "</table>\n",
       "</div>"
      ],
      "text/plain": [
       "    user_id      month   mb_used  gb_used  mb_used_month tariff_name  \\\n",
       "0      1000 2018-05-01   2253.49        3           3072       ultra   \n",
       "1      1000 2018-06-01  23233.77       23          23552       ultra   \n",
       "2      1000 2018-07-01  14003.64       14          14336       ultra   \n",
       "3      1000 2018-08-01  14055.93       14          14336       ultra   \n",
       "4      1000 2018-09-01  14568.91       15          15360       ultra   \n",
       "5      1000 2018-10-01  14702.49       15          15360       ultra   \n",
       "6      1000 2018-11-01  14756.47       15          15360       ultra   \n",
       "7      1000 2018-12-01   9817.61       10          10240       ultra   \n",
       "8      1003 2018-08-01   8565.21        9           9216       ultra   \n",
       "9      1003 2018-09-01  12468.87       13          13312       ultra   \n",
       "10     1003 2018-10-01  14768.14       15          15360       ultra   \n",
       "11     1003 2018-11-01  11356.89       12          12288       ultra   \n",
       "12     1003 2018-12-01  10121.53       10          10240       ultra   \n",
       "13     1004 2018-05-01  13403.98       14          14336       ultra   \n",
       "14     1004 2018-06-01  17600.02       18          18432       ultra   \n",
       "\n",
       "    mb_per_month_included  rub_per_gb  \n",
       "0                   30720         150  \n",
       "1                   30720         150  \n",
       "2                   30720         150  \n",
       "3                   30720         150  \n",
       "4                   30720         150  \n",
       "5                   30720         150  \n",
       "6                   30720         150  \n",
       "7                   30720         150  \n",
       "8                   30720         150  \n",
       "9                   30720         150  \n",
       "10                  30720         150  \n",
       "11                  30720         150  \n",
       "12                  30720         150  \n",
       "13                  30720         150  \n",
       "14                  30720         150  "
      ]
     },
     "metadata": {},
     "output_type": "display_data"
    }
   ],
   "source": [
    "#добавляем данные о тарифе\n",
    "internet = internet.merge(data_tariffs[['tariff_name', 'mb_per_month_included', 'rub_per_gb']], on='tariff_name')\n",
    "display(internet.head(15))"
   ]
  },
  {
   "cell_type": "code",
   "execution_count": 27,
   "metadata": {},
   "outputs": [],
   "source": [
    "#создаем функцию расчета оплаты мб, использованных сверх тарифа\n",
    "def excess_gb(row):\n",
    "    if row['mb_used_month'] > row['mb_per_month_included']:\n",
    "        excess_gb = (row['gb_used'] - (row['mb_per_month_included'] / 1024)) * row['rub_per_gb']\n",
    "        return excess_gb\n",
    "    if row['mb_used_month'] <= row['mb_per_month_included']:\n",
    "        return 0"
   ]
  },
  {
   "cell_type": "code",
   "execution_count": 28,
   "metadata": {},
   "outputs": [
    {
     "data": {
      "text/html": [
       "<div>\n",
       "<style scoped>\n",
       "    .dataframe tbody tr th:only-of-type {\n",
       "        vertical-align: middle;\n",
       "    }\n",
       "\n",
       "    .dataframe tbody tr th {\n",
       "        vertical-align: top;\n",
       "    }\n",
       "\n",
       "    .dataframe thead th {\n",
       "        text-align: right;\n",
       "    }\n",
       "</style>\n",
       "<table border=\"1\" class=\"dataframe\">\n",
       "  <thead>\n",
       "    <tr style=\"text-align: right;\">\n",
       "      <th></th>\n",
       "      <th>user_id</th>\n",
       "      <th>month</th>\n",
       "      <th>mb_used</th>\n",
       "      <th>gb_used</th>\n",
       "      <th>mb_used_month</th>\n",
       "      <th>tariff_name</th>\n",
       "      <th>mb_per_month_included</th>\n",
       "      <th>rub_per_gb</th>\n",
       "      <th>excess_gb</th>\n",
       "    </tr>\n",
       "  </thead>\n",
       "  <tbody>\n",
       "    <tr>\n",
       "      <th>0</th>\n",
       "      <td>1000</td>\n",
       "      <td>2018-05-01</td>\n",
       "      <td>2253.49</td>\n",
       "      <td>3</td>\n",
       "      <td>3072</td>\n",
       "      <td>ultra</td>\n",
       "      <td>30720</td>\n",
       "      <td>150</td>\n",
       "      <td>0.0</td>\n",
       "    </tr>\n",
       "    <tr>\n",
       "      <th>1</th>\n",
       "      <td>1000</td>\n",
       "      <td>2018-06-01</td>\n",
       "      <td>23233.77</td>\n",
       "      <td>23</td>\n",
       "      <td>23552</td>\n",
       "      <td>ultra</td>\n",
       "      <td>30720</td>\n",
       "      <td>150</td>\n",
       "      <td>0.0</td>\n",
       "    </tr>\n",
       "    <tr>\n",
       "      <th>2</th>\n",
       "      <td>1000</td>\n",
       "      <td>2018-07-01</td>\n",
       "      <td>14003.64</td>\n",
       "      <td>14</td>\n",
       "      <td>14336</td>\n",
       "      <td>ultra</td>\n",
       "      <td>30720</td>\n",
       "      <td>150</td>\n",
       "      <td>0.0</td>\n",
       "    </tr>\n",
       "    <tr>\n",
       "      <th>3</th>\n",
       "      <td>1000</td>\n",
       "      <td>2018-08-01</td>\n",
       "      <td>14055.93</td>\n",
       "      <td>14</td>\n",
       "      <td>14336</td>\n",
       "      <td>ultra</td>\n",
       "      <td>30720</td>\n",
       "      <td>150</td>\n",
       "      <td>0.0</td>\n",
       "    </tr>\n",
       "    <tr>\n",
       "      <th>4</th>\n",
       "      <td>1000</td>\n",
       "      <td>2018-09-01</td>\n",
       "      <td>14568.91</td>\n",
       "      <td>15</td>\n",
       "      <td>15360</td>\n",
       "      <td>ultra</td>\n",
       "      <td>30720</td>\n",
       "      <td>150</td>\n",
       "      <td>0.0</td>\n",
       "    </tr>\n",
       "    <tr>\n",
       "      <th>...</th>\n",
       "      <td>...</td>\n",
       "      <td>...</td>\n",
       "      <td>...</td>\n",
       "      <td>...</td>\n",
       "      <td>...</td>\n",
       "      <td>...</td>\n",
       "      <td>...</td>\n",
       "      <td>...</td>\n",
       "      <td>...</td>\n",
       "    </tr>\n",
       "    <tr>\n",
       "      <th>3198</th>\n",
       "      <td>1498</td>\n",
       "      <td>2018-10-01</td>\n",
       "      <td>20579.36</td>\n",
       "      <td>21</td>\n",
       "      <td>21504</td>\n",
       "      <td>smart</td>\n",
       "      <td>15360</td>\n",
       "      <td>200</td>\n",
       "      <td>1200.0</td>\n",
       "    </tr>\n",
       "    <tr>\n",
       "      <th>3199</th>\n",
       "      <td>1499</td>\n",
       "      <td>2018-09-01</td>\n",
       "      <td>1845.75</td>\n",
       "      <td>2</td>\n",
       "      <td>2048</td>\n",
       "      <td>smart</td>\n",
       "      <td>15360</td>\n",
       "      <td>200</td>\n",
       "      <td>0.0</td>\n",
       "    </tr>\n",
       "    <tr>\n",
       "      <th>3200</th>\n",
       "      <td>1499</td>\n",
       "      <td>2018-10-01</td>\n",
       "      <td>17788.51</td>\n",
       "      <td>18</td>\n",
       "      <td>18432</td>\n",
       "      <td>smart</td>\n",
       "      <td>15360</td>\n",
       "      <td>200</td>\n",
       "      <td>600.0</td>\n",
       "    </tr>\n",
       "    <tr>\n",
       "      <th>3201</th>\n",
       "      <td>1499</td>\n",
       "      <td>2018-11-01</td>\n",
       "      <td>17963.31</td>\n",
       "      <td>18</td>\n",
       "      <td>18432</td>\n",
       "      <td>smart</td>\n",
       "      <td>15360</td>\n",
       "      <td>200</td>\n",
       "      <td>600.0</td>\n",
       "    </tr>\n",
       "    <tr>\n",
       "      <th>3202</th>\n",
       "      <td>1499</td>\n",
       "      <td>2018-12-01</td>\n",
       "      <td>13055.58</td>\n",
       "      <td>13</td>\n",
       "      <td>13312</td>\n",
       "      <td>smart</td>\n",
       "      <td>15360</td>\n",
       "      <td>200</td>\n",
       "      <td>0.0</td>\n",
       "    </tr>\n",
       "  </tbody>\n",
       "</table>\n",
       "<p>3203 rows × 9 columns</p>\n",
       "</div>"
      ],
      "text/plain": [
       "      user_id      month   mb_used  gb_used  mb_used_month tariff_name  \\\n",
       "0        1000 2018-05-01   2253.49        3           3072       ultra   \n",
       "1        1000 2018-06-01  23233.77       23          23552       ultra   \n",
       "2        1000 2018-07-01  14003.64       14          14336       ultra   \n",
       "3        1000 2018-08-01  14055.93       14          14336       ultra   \n",
       "4        1000 2018-09-01  14568.91       15          15360       ultra   \n",
       "...       ...        ...       ...      ...            ...         ...   \n",
       "3198     1498 2018-10-01  20579.36       21          21504       smart   \n",
       "3199     1499 2018-09-01   1845.75        2           2048       smart   \n",
       "3200     1499 2018-10-01  17788.51       18          18432       smart   \n",
       "3201     1499 2018-11-01  17963.31       18          18432       smart   \n",
       "3202     1499 2018-12-01  13055.58       13          13312       smart   \n",
       "\n",
       "      mb_per_month_included  rub_per_gb  excess_gb  \n",
       "0                     30720         150        0.0  \n",
       "1                     30720         150        0.0  \n",
       "2                     30720         150        0.0  \n",
       "3                     30720         150        0.0  \n",
       "4                     30720         150        0.0  \n",
       "...                     ...         ...        ...  \n",
       "3198                  15360         200     1200.0  \n",
       "3199                  15360         200        0.0  \n",
       "3200                  15360         200      600.0  \n",
       "3201                  15360         200      600.0  \n",
       "3202                  15360         200        0.0  \n",
       "\n",
       "[3203 rows x 9 columns]"
      ]
     },
     "metadata": {},
     "output_type": "display_data"
    }
   ],
   "source": [
    "#добавляем столбец с использованием функции\n",
    "internet['excess_gb'] = internet[['gb_used', 'mb_per_month_included', 'rub_per_gb', 'mb_used_month']].apply(excess_gb, axis=1)\n",
    "display(internet)"
   ]
  },
  {
   "cell_type": "markdown",
   "metadata": {},
   "source": [
    "<b>Расчет выручки</b>"
   ]
  },
  {
   "cell_type": "code",
   "execution_count": 29,
   "metadata": {},
   "outputs": [
    {
     "data": {
      "text/html": [
       "<div>\n",
       "<style scoped>\n",
       "    .dataframe tbody tr th:only-of-type {\n",
       "        vertical-align: middle;\n",
       "    }\n",
       "\n",
       "    .dataframe tbody tr th {\n",
       "        vertical-align: top;\n",
       "    }\n",
       "\n",
       "    .dataframe thead th {\n",
       "        text-align: right;\n",
       "    }\n",
       "</style>\n",
       "<table border=\"1\" class=\"dataframe\">\n",
       "  <thead>\n",
       "    <tr style=\"text-align: right;\">\n",
       "      <th></th>\n",
       "      <th>user_id</th>\n",
       "      <th>month</th>\n",
       "      <th>excess_gb</th>\n",
       "      <th>excess_message</th>\n",
       "      <th>excess_call</th>\n",
       "      <th>tariff_name</th>\n",
       "      <th>rub_monthly_fee</th>\n",
       "    </tr>\n",
       "  </thead>\n",
       "  <tbody>\n",
       "    <tr>\n",
       "      <th>0</th>\n",
       "      <td>1000</td>\n",
       "      <td>2018-05-01</td>\n",
       "      <td>0.0</td>\n",
       "      <td>0.0</td>\n",
       "      <td>0.0</td>\n",
       "      <td>ultra</td>\n",
       "      <td>1950</td>\n",
       "    </tr>\n",
       "    <tr>\n",
       "      <th>1</th>\n",
       "      <td>1000</td>\n",
       "      <td>2018-06-01</td>\n",
       "      <td>0.0</td>\n",
       "      <td>0.0</td>\n",
       "      <td>0.0</td>\n",
       "      <td>ultra</td>\n",
       "      <td>1950</td>\n",
       "    </tr>\n",
       "    <tr>\n",
       "      <th>2</th>\n",
       "      <td>1000</td>\n",
       "      <td>2018-07-01</td>\n",
       "      <td>0.0</td>\n",
       "      <td>0.0</td>\n",
       "      <td>0.0</td>\n",
       "      <td>ultra</td>\n",
       "      <td>1950</td>\n",
       "    </tr>\n",
       "    <tr>\n",
       "      <th>3</th>\n",
       "      <td>1000</td>\n",
       "      <td>2018-08-01</td>\n",
       "      <td>0.0</td>\n",
       "      <td>0.0</td>\n",
       "      <td>0.0</td>\n",
       "      <td>ultra</td>\n",
       "      <td>1950</td>\n",
       "    </tr>\n",
       "    <tr>\n",
       "      <th>4</th>\n",
       "      <td>1000</td>\n",
       "      <td>2018-09-01</td>\n",
       "      <td>0.0</td>\n",
       "      <td>0.0</td>\n",
       "      <td>0.0</td>\n",
       "      <td>ultra</td>\n",
       "      <td>1950</td>\n",
       "    </tr>\n",
       "    <tr>\n",
       "      <th>...</th>\n",
       "      <td>...</td>\n",
       "      <td>...</td>\n",
       "      <td>...</td>\n",
       "      <td>...</td>\n",
       "      <td>...</td>\n",
       "      <td>...</td>\n",
       "      <td>...</td>\n",
       "    </tr>\n",
       "    <tr>\n",
       "      <th>3211</th>\n",
       "      <td>1499</td>\n",
       "      <td>2018-09-01</td>\n",
       "      <td>0.0</td>\n",
       "      <td>0.0</td>\n",
       "      <td>0.0</td>\n",
       "      <td>smart</td>\n",
       "      <td>550</td>\n",
       "    </tr>\n",
       "    <tr>\n",
       "      <th>3212</th>\n",
       "      <td>1499</td>\n",
       "      <td>2018-10-01</td>\n",
       "      <td>600.0</td>\n",
       "      <td>0.0</td>\n",
       "      <td>0.0</td>\n",
       "      <td>smart</td>\n",
       "      <td>550</td>\n",
       "    </tr>\n",
       "    <tr>\n",
       "      <th>3213</th>\n",
       "      <td>1499</td>\n",
       "      <td>2018-11-01</td>\n",
       "      <td>600.0</td>\n",
       "      <td>27.0</td>\n",
       "      <td>336.0</td>\n",
       "      <td>smart</td>\n",
       "      <td>550</td>\n",
       "    </tr>\n",
       "    <tr>\n",
       "      <th>3214</th>\n",
       "      <td>1499</td>\n",
       "      <td>2018-12-01</td>\n",
       "      <td>0.0</td>\n",
       "      <td>48.0</td>\n",
       "      <td>0.0</td>\n",
       "      <td>smart</td>\n",
       "      <td>550</td>\n",
       "    </tr>\n",
       "    <tr>\n",
       "      <th>3215</th>\n",
       "      <td>1371</td>\n",
       "      <td>NaT</td>\n",
       "      <td>NaN</td>\n",
       "      <td>NaN</td>\n",
       "      <td>NaN</td>\n",
       "      <td>smart</td>\n",
       "      <td>550</td>\n",
       "    </tr>\n",
       "  </tbody>\n",
       "</table>\n",
       "<p>3216 rows × 7 columns</p>\n",
       "</div>"
      ],
      "text/plain": [
       "      user_id      month  excess_gb  excess_message  excess_call tariff_name  \\\n",
       "0        1000 2018-05-01        0.0             0.0          0.0       ultra   \n",
       "1        1000 2018-06-01        0.0             0.0          0.0       ultra   \n",
       "2        1000 2018-07-01        0.0             0.0          0.0       ultra   \n",
       "3        1000 2018-08-01        0.0             0.0          0.0       ultra   \n",
       "4        1000 2018-09-01        0.0             0.0          0.0       ultra   \n",
       "...       ...        ...        ...             ...          ...         ...   \n",
       "3211     1499 2018-09-01        0.0             0.0          0.0       smart   \n",
       "3212     1499 2018-10-01      600.0             0.0          0.0       smart   \n",
       "3213     1499 2018-11-01      600.0            27.0        336.0       smart   \n",
       "3214     1499 2018-12-01        0.0            48.0          0.0       smart   \n",
       "3215     1371        NaT        NaN             NaN          NaN       smart   \n",
       "\n",
       "      rub_monthly_fee  \n",
       "0                1950  \n",
       "1                1950  \n",
       "2                1950  \n",
       "3                1950  \n",
       "4                1950  \n",
       "...               ...  \n",
       "3211              550  \n",
       "3212              550  \n",
       "3213              550  \n",
       "3214              550  \n",
       "3215              550  \n",
       "\n",
       "[3216 rows x 7 columns]"
      ]
     },
     "metadata": {},
     "output_type": "display_data"
    }
   ],
   "source": [
    "#создаем таблицу для расчета выручки, для этого берем начальную таблицу, которая содержала максимальное количество данных\n",
    "excess = internet.loc[:, ['user_id', 'month', 'excess_gb']]\n",
    "#добавляем полученые в ходе подготовки данных таблицы с расчетом выручки\n",
    "excess = excess.merge(messages[['excess_message', 'user_id', 'month']], on=['user_id', 'month'], how='outer')\n",
    "excess = excess.merge(calls[['excess_call', 'user_id', 'month']], on=['user_id', 'month'], how='outer')\n",
    "excess = excess.merge(data_users[['user_id', 'tariff']], on='user_id', how='outer')\n",
    "#переименовываем столбец тарифа для добавления соотношения пользователь-тариф\n",
    "excess.columns = ['user_id', 'month', 'excess_gb', 'excess_message', 'excess_call', 'tariff_name']\n",
    "#добавляем данные о тарифе\n",
    "excess = excess.merge(data_tariffs[['tariff_name', 'rub_monthly_fee']], on='tariff_name', how='outer')\n",
    "display(excess)"
   ]
  },
  {
   "cell_type": "code",
   "execution_count": 30,
   "metadata": {},
   "outputs": [
    {
     "data": {
      "text/html": [
       "<div>\n",
       "<style scoped>\n",
       "    .dataframe tbody tr th:only-of-type {\n",
       "        vertical-align: middle;\n",
       "    }\n",
       "\n",
       "    .dataframe tbody tr th {\n",
       "        vertical-align: top;\n",
       "    }\n",
       "\n",
       "    .dataframe thead th {\n",
       "        text-align: right;\n",
       "    }\n",
       "</style>\n",
       "<table border=\"1\" class=\"dataframe\">\n",
       "  <thead>\n",
       "    <tr style=\"text-align: right;\">\n",
       "      <th></th>\n",
       "      <th>user_id</th>\n",
       "      <th>month</th>\n",
       "      <th>excess_gb</th>\n",
       "      <th>excess_message</th>\n",
       "      <th>excess_call</th>\n",
       "      <th>tariff_name</th>\n",
       "      <th>rub_monthly_fee</th>\n",
       "    </tr>\n",
       "  </thead>\n",
       "  <tbody>\n",
       "    <tr>\n",
       "      <th>0</th>\n",
       "      <td>1000</td>\n",
       "      <td>2018-05-01</td>\n",
       "      <td>0.0</td>\n",
       "      <td>0.0</td>\n",
       "      <td>0.0</td>\n",
       "      <td>ultra</td>\n",
       "      <td>1950</td>\n",
       "    </tr>\n",
       "    <tr>\n",
       "      <th>1</th>\n",
       "      <td>1000</td>\n",
       "      <td>2018-06-01</td>\n",
       "      <td>0.0</td>\n",
       "      <td>0.0</td>\n",
       "      <td>0.0</td>\n",
       "      <td>ultra</td>\n",
       "      <td>1950</td>\n",
       "    </tr>\n",
       "    <tr>\n",
       "      <th>2</th>\n",
       "      <td>1000</td>\n",
       "      <td>2018-07-01</td>\n",
       "      <td>0.0</td>\n",
       "      <td>0.0</td>\n",
       "      <td>0.0</td>\n",
       "      <td>ultra</td>\n",
       "      <td>1950</td>\n",
       "    </tr>\n",
       "    <tr>\n",
       "      <th>3</th>\n",
       "      <td>1000</td>\n",
       "      <td>2018-08-01</td>\n",
       "      <td>0.0</td>\n",
       "      <td>0.0</td>\n",
       "      <td>0.0</td>\n",
       "      <td>ultra</td>\n",
       "      <td>1950</td>\n",
       "    </tr>\n",
       "    <tr>\n",
       "      <th>4</th>\n",
       "      <td>1000</td>\n",
       "      <td>2018-09-01</td>\n",
       "      <td>0.0</td>\n",
       "      <td>0.0</td>\n",
       "      <td>0.0</td>\n",
       "      <td>ultra</td>\n",
       "      <td>1950</td>\n",
       "    </tr>\n",
       "    <tr>\n",
       "      <th>...</th>\n",
       "      <td>...</td>\n",
       "      <td>...</td>\n",
       "      <td>...</td>\n",
       "      <td>...</td>\n",
       "      <td>...</td>\n",
       "      <td>...</td>\n",
       "      <td>...</td>\n",
       "    </tr>\n",
       "    <tr>\n",
       "      <th>3210</th>\n",
       "      <td>1498</td>\n",
       "      <td>2018-10-01</td>\n",
       "      <td>1200.0</td>\n",
       "      <td>0.0</td>\n",
       "      <td>0.0</td>\n",
       "      <td>smart</td>\n",
       "      <td>550</td>\n",
       "    </tr>\n",
       "    <tr>\n",
       "      <th>3211</th>\n",
       "      <td>1499</td>\n",
       "      <td>2018-09-01</td>\n",
       "      <td>0.0</td>\n",
       "      <td>0.0</td>\n",
       "      <td>0.0</td>\n",
       "      <td>smart</td>\n",
       "      <td>550</td>\n",
       "    </tr>\n",
       "    <tr>\n",
       "      <th>3212</th>\n",
       "      <td>1499</td>\n",
       "      <td>2018-10-01</td>\n",
       "      <td>600.0</td>\n",
       "      <td>0.0</td>\n",
       "      <td>0.0</td>\n",
       "      <td>smart</td>\n",
       "      <td>550</td>\n",
       "    </tr>\n",
       "    <tr>\n",
       "      <th>3213</th>\n",
       "      <td>1499</td>\n",
       "      <td>2018-11-01</td>\n",
       "      <td>600.0</td>\n",
       "      <td>27.0</td>\n",
       "      <td>336.0</td>\n",
       "      <td>smart</td>\n",
       "      <td>550</td>\n",
       "    </tr>\n",
       "    <tr>\n",
       "      <th>3214</th>\n",
       "      <td>1499</td>\n",
       "      <td>2018-12-01</td>\n",
       "      <td>0.0</td>\n",
       "      <td>48.0</td>\n",
       "      <td>0.0</td>\n",
       "      <td>smart</td>\n",
       "      <td>550</td>\n",
       "    </tr>\n",
       "  </tbody>\n",
       "</table>\n",
       "<p>3214 rows × 7 columns</p>\n",
       "</div>"
      ],
      "text/plain": [
       "      user_id      month  excess_gb  excess_message  excess_call tariff_name  \\\n",
       "0        1000 2018-05-01        0.0             0.0          0.0       ultra   \n",
       "1        1000 2018-06-01        0.0             0.0          0.0       ultra   \n",
       "2        1000 2018-07-01        0.0             0.0          0.0       ultra   \n",
       "3        1000 2018-08-01        0.0             0.0          0.0       ultra   \n",
       "4        1000 2018-09-01        0.0             0.0          0.0       ultra   \n",
       "...       ...        ...        ...             ...          ...         ...   \n",
       "3210     1498 2018-10-01     1200.0             0.0          0.0       smart   \n",
       "3211     1499 2018-09-01        0.0             0.0          0.0       smart   \n",
       "3212     1499 2018-10-01      600.0             0.0          0.0       smart   \n",
       "3213     1499 2018-11-01      600.0            27.0        336.0       smart   \n",
       "3214     1499 2018-12-01        0.0            48.0          0.0       smart   \n",
       "\n",
       "      rub_monthly_fee  \n",
       "0                1950  \n",
       "1                1950  \n",
       "2                1950  \n",
       "3                1950  \n",
       "4                1950  \n",
       "...               ...  \n",
       "3210              550  \n",
       "3211              550  \n",
       "3212              550  \n",
       "3213              550  \n",
       "3214              550  \n",
       "\n",
       "[3214 rows x 7 columns]"
      ]
     },
     "metadata": {},
     "output_type": "display_data"
    }
   ],
   "source": [
    "#удаляем строки в столбце month которых есть пропуски\n",
    "excess.dropna(subset=['month'], inplace=True)\n",
    "display(excess)"
   ]
  },
  {
   "cell_type": "code",
   "execution_count": 31,
   "metadata": {},
   "outputs": [],
   "source": [
    "#заменяем пропуски в оставшихся столбцах на 0\n",
    "excess = excess.fillna(0)"
   ]
  },
  {
   "cell_type": "code",
   "execution_count": 32,
   "metadata": {},
   "outputs": [
    {
     "data": {
      "text/html": [
       "<div>\n",
       "<style scoped>\n",
       "    .dataframe tbody tr th:only-of-type {\n",
       "        vertical-align: middle;\n",
       "    }\n",
       "\n",
       "    .dataframe tbody tr th {\n",
       "        vertical-align: top;\n",
       "    }\n",
       "\n",
       "    .dataframe thead th {\n",
       "        text-align: right;\n",
       "    }\n",
       "</style>\n",
       "<table border=\"1\" class=\"dataframe\">\n",
       "  <thead>\n",
       "    <tr style=\"text-align: right;\">\n",
       "      <th></th>\n",
       "      <th>user_id</th>\n",
       "      <th>month</th>\n",
       "      <th>excess_gb</th>\n",
       "      <th>excess_message</th>\n",
       "      <th>excess_call</th>\n",
       "      <th>tariff_name</th>\n",
       "      <th>rub_monthly_fee</th>\n",
       "      <th>city</th>\n",
       "      <th>total</th>\n",
       "    </tr>\n",
       "  </thead>\n",
       "  <tbody>\n",
       "    <tr>\n",
       "      <th>0</th>\n",
       "      <td>1000</td>\n",
       "      <td>2018-05-01</td>\n",
       "      <td>0.0</td>\n",
       "      <td>0.0</td>\n",
       "      <td>0.0</td>\n",
       "      <td>ultra</td>\n",
       "      <td>1950</td>\n",
       "      <td>Краснодар</td>\n",
       "      <td>1950.0</td>\n",
       "    </tr>\n",
       "    <tr>\n",
       "      <th>1</th>\n",
       "      <td>1000</td>\n",
       "      <td>2018-06-01</td>\n",
       "      <td>0.0</td>\n",
       "      <td>0.0</td>\n",
       "      <td>0.0</td>\n",
       "      <td>ultra</td>\n",
       "      <td>1950</td>\n",
       "      <td>Краснодар</td>\n",
       "      <td>1950.0</td>\n",
       "    </tr>\n",
       "    <tr>\n",
       "      <th>2</th>\n",
       "      <td>1000</td>\n",
       "      <td>2018-07-01</td>\n",
       "      <td>0.0</td>\n",
       "      <td>0.0</td>\n",
       "      <td>0.0</td>\n",
       "      <td>ultra</td>\n",
       "      <td>1950</td>\n",
       "      <td>Краснодар</td>\n",
       "      <td>1950.0</td>\n",
       "    </tr>\n",
       "    <tr>\n",
       "      <th>3</th>\n",
       "      <td>1000</td>\n",
       "      <td>2018-08-01</td>\n",
       "      <td>0.0</td>\n",
       "      <td>0.0</td>\n",
       "      <td>0.0</td>\n",
       "      <td>ultra</td>\n",
       "      <td>1950</td>\n",
       "      <td>Краснодар</td>\n",
       "      <td>1950.0</td>\n",
       "    </tr>\n",
       "    <tr>\n",
       "      <th>4</th>\n",
       "      <td>1000</td>\n",
       "      <td>2018-09-01</td>\n",
       "      <td>0.0</td>\n",
       "      <td>0.0</td>\n",
       "      <td>0.0</td>\n",
       "      <td>ultra</td>\n",
       "      <td>1950</td>\n",
       "      <td>Краснодар</td>\n",
       "      <td>1950.0</td>\n",
       "    </tr>\n",
       "    <tr>\n",
       "      <th>...</th>\n",
       "      <td>...</td>\n",
       "      <td>...</td>\n",
       "      <td>...</td>\n",
       "      <td>...</td>\n",
       "      <td>...</td>\n",
       "      <td>...</td>\n",
       "      <td>...</td>\n",
       "      <td>...</td>\n",
       "      <td>...</td>\n",
       "    </tr>\n",
       "    <tr>\n",
       "      <th>3209</th>\n",
       "      <td>1498</td>\n",
       "      <td>2018-10-01</td>\n",
       "      <td>1200.0</td>\n",
       "      <td>0.0</td>\n",
       "      <td>0.0</td>\n",
       "      <td>smart</td>\n",
       "      <td>550</td>\n",
       "      <td>Владикавказ</td>\n",
       "      <td>1750.0</td>\n",
       "    </tr>\n",
       "    <tr>\n",
       "      <th>3210</th>\n",
       "      <td>1499</td>\n",
       "      <td>2018-09-01</td>\n",
       "      <td>0.0</td>\n",
       "      <td>0.0</td>\n",
       "      <td>0.0</td>\n",
       "      <td>smart</td>\n",
       "      <td>550</td>\n",
       "      <td>Пермь</td>\n",
       "      <td>550.0</td>\n",
       "    </tr>\n",
       "    <tr>\n",
       "      <th>3211</th>\n",
       "      <td>1499</td>\n",
       "      <td>2018-10-01</td>\n",
       "      <td>600.0</td>\n",
       "      <td>0.0</td>\n",
       "      <td>0.0</td>\n",
       "      <td>smart</td>\n",
       "      <td>550</td>\n",
       "      <td>Пермь</td>\n",
       "      <td>1150.0</td>\n",
       "    </tr>\n",
       "    <tr>\n",
       "      <th>3212</th>\n",
       "      <td>1499</td>\n",
       "      <td>2018-11-01</td>\n",
       "      <td>600.0</td>\n",
       "      <td>27.0</td>\n",
       "      <td>336.0</td>\n",
       "      <td>smart</td>\n",
       "      <td>550</td>\n",
       "      <td>Пермь</td>\n",
       "      <td>1513.0</td>\n",
       "    </tr>\n",
       "    <tr>\n",
       "      <th>3213</th>\n",
       "      <td>1499</td>\n",
       "      <td>2018-12-01</td>\n",
       "      <td>0.0</td>\n",
       "      <td>48.0</td>\n",
       "      <td>0.0</td>\n",
       "      <td>smart</td>\n",
       "      <td>550</td>\n",
       "      <td>Пермь</td>\n",
       "      <td>598.0</td>\n",
       "    </tr>\n",
       "  </tbody>\n",
       "</table>\n",
       "<p>3214 rows × 9 columns</p>\n",
       "</div>"
      ],
      "text/plain": [
       "      user_id      month  excess_gb  excess_message  excess_call tariff_name  \\\n",
       "0        1000 2018-05-01        0.0             0.0          0.0       ultra   \n",
       "1        1000 2018-06-01        0.0             0.0          0.0       ultra   \n",
       "2        1000 2018-07-01        0.0             0.0          0.0       ultra   \n",
       "3        1000 2018-08-01        0.0             0.0          0.0       ultra   \n",
       "4        1000 2018-09-01        0.0             0.0          0.0       ultra   \n",
       "...       ...        ...        ...             ...          ...         ...   \n",
       "3209     1498 2018-10-01     1200.0             0.0          0.0       smart   \n",
       "3210     1499 2018-09-01        0.0             0.0          0.0       smart   \n",
       "3211     1499 2018-10-01      600.0             0.0          0.0       smart   \n",
       "3212     1499 2018-11-01      600.0            27.0        336.0       smart   \n",
       "3213     1499 2018-12-01        0.0            48.0          0.0       smart   \n",
       "\n",
       "      rub_monthly_fee         city   total  \n",
       "0                1950    Краснодар  1950.0  \n",
       "1                1950    Краснодар  1950.0  \n",
       "2                1950    Краснодар  1950.0  \n",
       "3                1950    Краснодар  1950.0  \n",
       "4                1950    Краснодар  1950.0  \n",
       "...               ...          ...     ...  \n",
       "3209              550  Владикавказ  1750.0  \n",
       "3210              550        Пермь   550.0  \n",
       "3211              550        Пермь  1150.0  \n",
       "3212              550        Пермь  1513.0  \n",
       "3213              550        Пермь   598.0  \n",
       "\n",
       "[3214 rows x 9 columns]"
      ]
     },
     "metadata": {},
     "output_type": "display_data"
    }
   ],
   "source": [
    "#расчитываем выручку по месяцам для каждого пользователя и добавляем столбец с регионом пользователя\n",
    "excess = excess.merge(data_users[['user_id', 'city']], on='user_id')\n",
    "excess['total'] = excess['excess_gb'] + excess['excess_message'] + excess['excess_call'] + excess['rub_monthly_fee']\n",
    "display(excess)"
   ]
  },
  {
   "cell_type": "code",
   "execution_count": 33,
   "metadata": {},
   "outputs": [
    {
     "data": {
      "text/html": [
       "<div>\n",
       "<style scoped>\n",
       "    .dataframe tbody tr th:only-of-type {\n",
       "        vertical-align: middle;\n",
       "    }\n",
       "\n",
       "    .dataframe tbody tr th {\n",
       "        vertical-align: top;\n",
       "    }\n",
       "\n",
       "    .dataframe thead th {\n",
       "        text-align: right;\n",
       "    }\n",
       "</style>\n",
       "<table border=\"1\" class=\"dataframe\">\n",
       "  <thead>\n",
       "    <tr style=\"text-align: right;\">\n",
       "      <th></th>\n",
       "      <th>user_id</th>\n",
       "      <th>month</th>\n",
       "      <th>excess_gb</th>\n",
       "      <th>excess_message</th>\n",
       "      <th>excess_call</th>\n",
       "      <th>tariff_name</th>\n",
       "      <th>rub_monthly_fee</th>\n",
       "      <th>city</th>\n",
       "      <th>total</th>\n",
       "    </tr>\n",
       "  </thead>\n",
       "  <tbody>\n",
       "    <tr>\n",
       "      <th>0</th>\n",
       "      <td>1000</td>\n",
       "      <td>2018-05-01</td>\n",
       "      <td>0.0</td>\n",
       "      <td>0.0</td>\n",
       "      <td>0.0</td>\n",
       "      <td>ultra</td>\n",
       "      <td>1950</td>\n",
       "      <td>Краснодар</td>\n",
       "      <td>1950.0</td>\n",
       "    </tr>\n",
       "    <tr>\n",
       "      <th>1</th>\n",
       "      <td>1000</td>\n",
       "      <td>2018-06-01</td>\n",
       "      <td>0.0</td>\n",
       "      <td>0.0</td>\n",
       "      <td>0.0</td>\n",
       "      <td>ultra</td>\n",
       "      <td>1950</td>\n",
       "      <td>Краснодар</td>\n",
       "      <td>1950.0</td>\n",
       "    </tr>\n",
       "    <tr>\n",
       "      <th>2</th>\n",
       "      <td>1000</td>\n",
       "      <td>2018-07-01</td>\n",
       "      <td>0.0</td>\n",
       "      <td>0.0</td>\n",
       "      <td>0.0</td>\n",
       "      <td>ultra</td>\n",
       "      <td>1950</td>\n",
       "      <td>Краснодар</td>\n",
       "      <td>1950.0</td>\n",
       "    </tr>\n",
       "    <tr>\n",
       "      <th>3</th>\n",
       "      <td>1000</td>\n",
       "      <td>2018-08-01</td>\n",
       "      <td>0.0</td>\n",
       "      <td>0.0</td>\n",
       "      <td>0.0</td>\n",
       "      <td>ultra</td>\n",
       "      <td>1950</td>\n",
       "      <td>Краснодар</td>\n",
       "      <td>1950.0</td>\n",
       "    </tr>\n",
       "    <tr>\n",
       "      <th>4</th>\n",
       "      <td>1000</td>\n",
       "      <td>2018-09-01</td>\n",
       "      <td>0.0</td>\n",
       "      <td>0.0</td>\n",
       "      <td>0.0</td>\n",
       "      <td>ultra</td>\n",
       "      <td>1950</td>\n",
       "      <td>Краснодар</td>\n",
       "      <td>1950.0</td>\n",
       "    </tr>\n",
       "    <tr>\n",
       "      <th>...</th>\n",
       "      <td>...</td>\n",
       "      <td>...</td>\n",
       "      <td>...</td>\n",
       "      <td>...</td>\n",
       "      <td>...</td>\n",
       "      <td>...</td>\n",
       "      <td>...</td>\n",
       "      <td>...</td>\n",
       "      <td>...</td>\n",
       "    </tr>\n",
       "    <tr>\n",
       "      <th>980</th>\n",
       "      <td>1273</td>\n",
       "      <td>2018-08-01</td>\n",
       "      <td>0.0</td>\n",
       "      <td>0.0</td>\n",
       "      <td>0.0</td>\n",
       "      <td>ultra</td>\n",
       "      <td>1950</td>\n",
       "      <td>Курган</td>\n",
       "      <td>1950.0</td>\n",
       "    </tr>\n",
       "    <tr>\n",
       "      <th>981</th>\n",
       "      <td>1273</td>\n",
       "      <td>2018-09-01</td>\n",
       "      <td>0.0</td>\n",
       "      <td>0.0</td>\n",
       "      <td>0.0</td>\n",
       "      <td>ultra</td>\n",
       "      <td>1950</td>\n",
       "      <td>Курган</td>\n",
       "      <td>1950.0</td>\n",
       "    </tr>\n",
       "    <tr>\n",
       "      <th>982</th>\n",
       "      <td>1273</td>\n",
       "      <td>2018-10-01</td>\n",
       "      <td>0.0</td>\n",
       "      <td>0.0</td>\n",
       "      <td>0.0</td>\n",
       "      <td>ultra</td>\n",
       "      <td>1950</td>\n",
       "      <td>Курган</td>\n",
       "      <td>1950.0</td>\n",
       "    </tr>\n",
       "    <tr>\n",
       "      <th>983</th>\n",
       "      <td>1273</td>\n",
       "      <td>2018-11-01</td>\n",
       "      <td>0.0</td>\n",
       "      <td>0.0</td>\n",
       "      <td>0.0</td>\n",
       "      <td>ultra</td>\n",
       "      <td>1950</td>\n",
       "      <td>Курган</td>\n",
       "      <td>1950.0</td>\n",
       "    </tr>\n",
       "    <tr>\n",
       "      <th>984</th>\n",
       "      <td>1273</td>\n",
       "      <td>2018-12-01</td>\n",
       "      <td>0.0</td>\n",
       "      <td>0.0</td>\n",
       "      <td>0.0</td>\n",
       "      <td>ultra</td>\n",
       "      <td>1950</td>\n",
       "      <td>Курган</td>\n",
       "      <td>1950.0</td>\n",
       "    </tr>\n",
       "  </tbody>\n",
       "</table>\n",
       "<p>985 rows × 9 columns</p>\n",
       "</div>"
      ],
      "text/plain": [
       "     user_id      month  excess_gb  excess_message  excess_call tariff_name  \\\n",
       "0       1000 2018-05-01        0.0             0.0          0.0       ultra   \n",
       "1       1000 2018-06-01        0.0             0.0          0.0       ultra   \n",
       "2       1000 2018-07-01        0.0             0.0          0.0       ultra   \n",
       "3       1000 2018-08-01        0.0             0.0          0.0       ultra   \n",
       "4       1000 2018-09-01        0.0             0.0          0.0       ultra   \n",
       "..       ...        ...        ...             ...          ...         ...   \n",
       "980     1273 2018-08-01        0.0             0.0          0.0       ultra   \n",
       "981     1273 2018-09-01        0.0             0.0          0.0       ultra   \n",
       "982     1273 2018-10-01        0.0             0.0          0.0       ultra   \n",
       "983     1273 2018-11-01        0.0             0.0          0.0       ultra   \n",
       "984     1273 2018-12-01        0.0             0.0          0.0       ultra   \n",
       "\n",
       "     rub_monthly_fee       city   total  \n",
       "0               1950  Краснодар  1950.0  \n",
       "1               1950  Краснодар  1950.0  \n",
       "2               1950  Краснодар  1950.0  \n",
       "3               1950  Краснодар  1950.0  \n",
       "4               1950  Краснодар  1950.0  \n",
       "..               ...        ...     ...  \n",
       "980             1950     Курган  1950.0  \n",
       "981             1950     Курган  1950.0  \n",
       "982             1950     Курган  1950.0  \n",
       "983             1950     Курган  1950.0  \n",
       "984             1950     Курган  1950.0  \n",
       "\n",
       "[985 rows x 9 columns]"
      ]
     },
     "metadata": {},
     "output_type": "display_data"
    },
    {
     "name": "stdout",
     "output_type": "stream",
     "text": [
      "2039100.0\n"
     ]
    }
   ],
   "source": [
    "#создадим отдельную таблицу для тарифа smart\n",
    "excess_total_ultra = excess.query('tariff_name == \"ultra\"')\n",
    "display(excess_total_ultra)\n",
    "print(excess_total_ultra['total'].sum())"
   ]
  },
  {
   "cell_type": "code",
   "execution_count": 34,
   "metadata": {},
   "outputs": [
    {
     "data": {
      "text/html": [
       "<div>\n",
       "<style scoped>\n",
       "    .dataframe tbody tr th:only-of-type {\n",
       "        vertical-align: middle;\n",
       "    }\n",
       "\n",
       "    .dataframe tbody tr th {\n",
       "        vertical-align: top;\n",
       "    }\n",
       "\n",
       "    .dataframe thead th {\n",
       "        text-align: right;\n",
       "    }\n",
       "</style>\n",
       "<table border=\"1\" class=\"dataframe\">\n",
       "  <thead>\n",
       "    <tr style=\"text-align: right;\">\n",
       "      <th></th>\n",
       "      <th>user_id</th>\n",
       "      <th>month</th>\n",
       "      <th>excess_gb</th>\n",
       "      <th>excess_message</th>\n",
       "      <th>excess_call</th>\n",
       "      <th>tariff_name</th>\n",
       "      <th>rub_monthly_fee</th>\n",
       "      <th>city</th>\n",
       "      <th>total</th>\n",
       "    </tr>\n",
       "  </thead>\n",
       "  <tbody>\n",
       "    <tr>\n",
       "      <th>985</th>\n",
       "      <td>1001</td>\n",
       "      <td>2018-11-01</td>\n",
       "      <td>600.0</td>\n",
       "      <td>0.0</td>\n",
       "      <td>0.0</td>\n",
       "      <td>smart</td>\n",
       "      <td>550</td>\n",
       "      <td>Москва</td>\n",
       "      <td>1150.0</td>\n",
       "    </tr>\n",
       "    <tr>\n",
       "      <th>986</th>\n",
       "      <td>1001</td>\n",
       "      <td>2018-12-01</td>\n",
       "      <td>0.0</td>\n",
       "      <td>0.0</td>\n",
       "      <td>0.0</td>\n",
       "      <td>smart</td>\n",
       "      <td>550</td>\n",
       "      <td>Москва</td>\n",
       "      <td>550.0</td>\n",
       "    </tr>\n",
       "    <tr>\n",
       "      <th>987</th>\n",
       "      <td>1002</td>\n",
       "      <td>2018-06-01</td>\n",
       "      <td>0.0</td>\n",
       "      <td>0.0</td>\n",
       "      <td>0.0</td>\n",
       "      <td>smart</td>\n",
       "      <td>550</td>\n",
       "      <td>Стерлитамак</td>\n",
       "      <td>550.0</td>\n",
       "    </tr>\n",
       "    <tr>\n",
       "      <th>988</th>\n",
       "      <td>1002</td>\n",
       "      <td>2018-07-01</td>\n",
       "      <td>600.0</td>\n",
       "      <td>0.0</td>\n",
       "      <td>0.0</td>\n",
       "      <td>smart</td>\n",
       "      <td>550</td>\n",
       "      <td>Стерлитамак</td>\n",
       "      <td>1150.0</td>\n",
       "    </tr>\n",
       "    <tr>\n",
       "      <th>989</th>\n",
       "      <td>1002</td>\n",
       "      <td>2018-08-01</td>\n",
       "      <td>1000.0</td>\n",
       "      <td>0.0</td>\n",
       "      <td>0.0</td>\n",
       "      <td>smart</td>\n",
       "      <td>550</td>\n",
       "      <td>Стерлитамак</td>\n",
       "      <td>1550.0</td>\n",
       "    </tr>\n",
       "    <tr>\n",
       "      <th>...</th>\n",
       "      <td>...</td>\n",
       "      <td>...</td>\n",
       "      <td>...</td>\n",
       "      <td>...</td>\n",
       "      <td>...</td>\n",
       "      <td>...</td>\n",
       "      <td>...</td>\n",
       "      <td>...</td>\n",
       "      <td>...</td>\n",
       "    </tr>\n",
       "    <tr>\n",
       "      <th>3209</th>\n",
       "      <td>1498</td>\n",
       "      <td>2018-10-01</td>\n",
       "      <td>1200.0</td>\n",
       "      <td>0.0</td>\n",
       "      <td>0.0</td>\n",
       "      <td>smart</td>\n",
       "      <td>550</td>\n",
       "      <td>Владикавказ</td>\n",
       "      <td>1750.0</td>\n",
       "    </tr>\n",
       "    <tr>\n",
       "      <th>3210</th>\n",
       "      <td>1499</td>\n",
       "      <td>2018-09-01</td>\n",
       "      <td>0.0</td>\n",
       "      <td>0.0</td>\n",
       "      <td>0.0</td>\n",
       "      <td>smart</td>\n",
       "      <td>550</td>\n",
       "      <td>Пермь</td>\n",
       "      <td>550.0</td>\n",
       "    </tr>\n",
       "    <tr>\n",
       "      <th>3211</th>\n",
       "      <td>1499</td>\n",
       "      <td>2018-10-01</td>\n",
       "      <td>600.0</td>\n",
       "      <td>0.0</td>\n",
       "      <td>0.0</td>\n",
       "      <td>smart</td>\n",
       "      <td>550</td>\n",
       "      <td>Пермь</td>\n",
       "      <td>1150.0</td>\n",
       "    </tr>\n",
       "    <tr>\n",
       "      <th>3212</th>\n",
       "      <td>1499</td>\n",
       "      <td>2018-11-01</td>\n",
       "      <td>600.0</td>\n",
       "      <td>27.0</td>\n",
       "      <td>336.0</td>\n",
       "      <td>smart</td>\n",
       "      <td>550</td>\n",
       "      <td>Пермь</td>\n",
       "      <td>1513.0</td>\n",
       "    </tr>\n",
       "    <tr>\n",
       "      <th>3213</th>\n",
       "      <td>1499</td>\n",
       "      <td>2018-12-01</td>\n",
       "      <td>0.0</td>\n",
       "      <td>48.0</td>\n",
       "      <td>0.0</td>\n",
       "      <td>smart</td>\n",
       "      <td>550</td>\n",
       "      <td>Пермь</td>\n",
       "      <td>598.0</td>\n",
       "    </tr>\n",
       "  </tbody>\n",
       "</table>\n",
       "<p>2229 rows × 9 columns</p>\n",
       "</div>"
      ],
      "text/plain": [
       "      user_id      month  excess_gb  excess_message  excess_call tariff_name  \\\n",
       "985      1001 2018-11-01      600.0             0.0          0.0       smart   \n",
       "986      1001 2018-12-01        0.0             0.0          0.0       smart   \n",
       "987      1002 2018-06-01        0.0             0.0          0.0       smart   \n",
       "988      1002 2018-07-01      600.0             0.0          0.0       smart   \n",
       "989      1002 2018-08-01     1000.0             0.0          0.0       smart   \n",
       "...       ...        ...        ...             ...          ...         ...   \n",
       "3209     1498 2018-10-01     1200.0             0.0          0.0       smart   \n",
       "3210     1499 2018-09-01        0.0             0.0          0.0       smart   \n",
       "3211     1499 2018-10-01      600.0             0.0          0.0       smart   \n",
       "3212     1499 2018-11-01      600.0            27.0        336.0       smart   \n",
       "3213     1499 2018-12-01        0.0            48.0          0.0       smart   \n",
       "\n",
       "      rub_monthly_fee         city   total  \n",
       "985               550       Москва  1150.0  \n",
       "986               550       Москва   550.0  \n",
       "987               550  Стерлитамак   550.0  \n",
       "988               550  Стерлитамак  1150.0  \n",
       "989               550  Стерлитамак  1550.0  \n",
       "...               ...          ...     ...  \n",
       "3209              550  Владикавказ  1750.0  \n",
       "3210              550        Пермь   550.0  \n",
       "3211              550        Пермь  1150.0  \n",
       "3212              550        Пермь  1513.0  \n",
       "3213              550        Пермь   598.0  \n",
       "\n",
       "[2229 rows x 9 columns]"
      ]
     },
     "metadata": {},
     "output_type": "display_data"
    },
    {
     "name": "stdout",
     "output_type": "stream",
     "text": [
      "2875351.0\n"
     ]
    }
   ],
   "source": [
    "#создадим отдельную таблицу для тарифа ultra\n",
    "excess_total_smart = excess.query('tariff_name == \"smart\"')\n",
    "display(excess_total_smart)\n",
    "print(excess_total_smart['total'].sum())"
   ]
  },
  {
   "cell_type": "code",
   "execution_count": 35,
   "metadata": {},
   "outputs": [
    {
     "data": {
      "text/html": [
       "<div>\n",
       "<style scoped>\n",
       "    .dataframe tbody tr th:only-of-type {\n",
       "        vertical-align: middle;\n",
       "    }\n",
       "\n",
       "    .dataframe tbody tr th {\n",
       "        vertical-align: top;\n",
       "    }\n",
       "\n",
       "    .dataframe thead th {\n",
       "        text-align: right;\n",
       "    }\n",
       "</style>\n",
       "<table border=\"1\" class=\"dataframe\">\n",
       "  <thead>\n",
       "    <tr style=\"text-align: right;\">\n",
       "      <th></th>\n",
       "      <th>total</th>\n",
       "    </tr>\n",
       "    <tr>\n",
       "      <th>user_id</th>\n",
       "      <th></th>\n",
       "    </tr>\n",
       "  </thead>\n",
       "  <tbody>\n",
       "    <tr>\n",
       "      <th>1001</th>\n",
       "      <td>850.000000</td>\n",
       "    </tr>\n",
       "    <tr>\n",
       "      <th>1002</th>\n",
       "      <td>1035.714286</td>\n",
       "    </tr>\n",
       "    <tr>\n",
       "      <th>1005</th>\n",
       "      <td>827.000000</td>\n",
       "    </tr>\n",
       "    <tr>\n",
       "      <th>1006</th>\n",
       "      <td>931.818182</td>\n",
       "    </tr>\n",
       "    <tr>\n",
       "      <th>1007</th>\n",
       "      <td>913.444444</td>\n",
       "    </tr>\n",
       "    <tr>\n",
       "      <th>...</th>\n",
       "      <td>...</td>\n",
       "    </tr>\n",
       "    <tr>\n",
       "      <th>1494</th>\n",
       "      <td>990.600000</td>\n",
       "    </tr>\n",
       "    <tr>\n",
       "      <th>1496</th>\n",
       "      <td>2362.583333</td>\n",
       "    </tr>\n",
       "    <tr>\n",
       "      <th>1497</th>\n",
       "      <td>928.333333</td>\n",
       "    </tr>\n",
       "    <tr>\n",
       "      <th>1498</th>\n",
       "      <td>1659.000000</td>\n",
       "    </tr>\n",
       "    <tr>\n",
       "      <th>1499</th>\n",
       "      <td>952.750000</td>\n",
       "    </tr>\n",
       "  </tbody>\n",
       "</table>\n",
       "<p>350 rows × 1 columns</p>\n",
       "</div>"
      ],
      "text/plain": [
       "               total\n",
       "user_id             \n",
       "1001      850.000000\n",
       "1002     1035.714286\n",
       "1005      827.000000\n",
       "1006      931.818182\n",
       "1007      913.444444\n",
       "...              ...\n",
       "1494      990.600000\n",
       "1496     2362.583333\n",
       "1497      928.333333\n",
       "1498     1659.000000\n",
       "1499      952.750000\n",
       "\n",
       "[350 rows x 1 columns]"
      ]
     },
     "metadata": {},
     "output_type": "display_data"
    }
   ],
   "source": [
    "#находим среднюю выручку для каждого пользователя тарифа smart\n",
    "excess_user_smart = excess_total_smart.pivot_table(index=['user_id'], values='total')\n",
    "display(excess_user_smart)"
   ]
  },
  {
   "cell_type": "code",
   "execution_count": 36,
   "metadata": {},
   "outputs": [
    {
     "data": {
      "text/html": [
       "<div>\n",
       "<style scoped>\n",
       "    .dataframe tbody tr th:only-of-type {\n",
       "        vertical-align: middle;\n",
       "    }\n",
       "\n",
       "    .dataframe tbody tr th {\n",
       "        vertical-align: top;\n",
       "    }\n",
       "\n",
       "    .dataframe thead th {\n",
       "        text-align: right;\n",
       "    }\n",
       "</style>\n",
       "<table border=\"1\" class=\"dataframe\">\n",
       "  <thead>\n",
       "    <tr style=\"text-align: right;\">\n",
       "      <th></th>\n",
       "      <th>total</th>\n",
       "    </tr>\n",
       "    <tr>\n",
       "      <th>user_id</th>\n",
       "      <th></th>\n",
       "    </tr>\n",
       "  </thead>\n",
       "  <tbody>\n",
       "    <tr>\n",
       "      <th>1000</th>\n",
       "      <td>1950.0</td>\n",
       "    </tr>\n",
       "    <tr>\n",
       "      <th>1003</th>\n",
       "      <td>1950.0</td>\n",
       "    </tr>\n",
       "    <tr>\n",
       "      <th>1004</th>\n",
       "      <td>1950.0</td>\n",
       "    </tr>\n",
       "    <tr>\n",
       "      <th>1013</th>\n",
       "      <td>1950.0</td>\n",
       "    </tr>\n",
       "    <tr>\n",
       "      <th>1016</th>\n",
       "      <td>1950.0</td>\n",
       "    </tr>\n",
       "    <tr>\n",
       "      <th>...</th>\n",
       "      <td>...</td>\n",
       "    </tr>\n",
       "    <tr>\n",
       "      <th>1476</th>\n",
       "      <td>1950.0</td>\n",
       "    </tr>\n",
       "    <tr>\n",
       "      <th>1485</th>\n",
       "      <td>1950.0</td>\n",
       "    </tr>\n",
       "    <tr>\n",
       "      <th>1491</th>\n",
       "      <td>1950.0</td>\n",
       "    </tr>\n",
       "    <tr>\n",
       "      <th>1493</th>\n",
       "      <td>2850.0</td>\n",
       "    </tr>\n",
       "    <tr>\n",
       "      <th>1495</th>\n",
       "      <td>2310.0</td>\n",
       "    </tr>\n",
       "  </tbody>\n",
       "</table>\n",
       "<p>148 rows × 1 columns</p>\n",
       "</div>"
      ],
      "text/plain": [
       "          total\n",
       "user_id        \n",
       "1000     1950.0\n",
       "1003     1950.0\n",
       "1004     1950.0\n",
       "1013     1950.0\n",
       "1016     1950.0\n",
       "...         ...\n",
       "1476     1950.0\n",
       "1485     1950.0\n",
       "1491     1950.0\n",
       "1493     2850.0\n",
       "1495     2310.0\n",
       "\n",
       "[148 rows x 1 columns]"
      ]
     },
     "metadata": {},
     "output_type": "display_data"
    }
   ],
   "source": [
    "#находим среднюю выручку для каждого пользователя тарифа ultra\n",
    "excess_user_ultra = excess_total_ultra.pivot_table(index=['user_id'], values='total')\n",
    "display(excess_user_ultra)"
   ]
  },
  {
   "cell_type": "code",
   "execution_count": 37,
   "metadata": {},
   "outputs": [
    {
     "data": {
      "text/html": [
       "<div>\n",
       "<style scoped>\n",
       "    .dataframe tbody tr th:only-of-type {\n",
       "        vertical-align: middle;\n",
       "    }\n",
       "\n",
       "    .dataframe tbody tr th {\n",
       "        vertical-align: top;\n",
       "    }\n",
       "\n",
       "    .dataframe thead th {\n",
       "        text-align: right;\n",
       "    }\n",
       "</style>\n",
       "<table border=\"1\" class=\"dataframe\">\n",
       "  <thead>\n",
       "    <tr style=\"text-align: right;\">\n",
       "      <th></th>\n",
       "      <th>user_id</th>\n",
       "      <th>month</th>\n",
       "      <th>excess_gb</th>\n",
       "      <th>excess_message</th>\n",
       "      <th>excess_call</th>\n",
       "      <th>tariff_name</th>\n",
       "      <th>rub_monthly_fee</th>\n",
       "      <th>city</th>\n",
       "      <th>total</th>\n",
       "    </tr>\n",
       "  </thead>\n",
       "  <tbody>\n",
       "    <tr>\n",
       "      <th>8</th>\n",
       "      <td>1003</td>\n",
       "      <td>2018-08-01</td>\n",
       "      <td>0.0</td>\n",
       "      <td>0.0</td>\n",
       "      <td>0.0</td>\n",
       "      <td>ultra</td>\n",
       "      <td>1950</td>\n",
       "      <td>Москва</td>\n",
       "      <td>1950.0</td>\n",
       "    </tr>\n",
       "    <tr>\n",
       "      <th>9</th>\n",
       "      <td>1003</td>\n",
       "      <td>2018-09-01</td>\n",
       "      <td>0.0</td>\n",
       "      <td>0.0</td>\n",
       "      <td>0.0</td>\n",
       "      <td>ultra</td>\n",
       "      <td>1950</td>\n",
       "      <td>Москва</td>\n",
       "      <td>1950.0</td>\n",
       "    </tr>\n",
       "    <tr>\n",
       "      <th>10</th>\n",
       "      <td>1003</td>\n",
       "      <td>2018-10-01</td>\n",
       "      <td>0.0</td>\n",
       "      <td>0.0</td>\n",
       "      <td>0.0</td>\n",
       "      <td>ultra</td>\n",
       "      <td>1950</td>\n",
       "      <td>Москва</td>\n",
       "      <td>1950.0</td>\n",
       "    </tr>\n",
       "    <tr>\n",
       "      <th>11</th>\n",
       "      <td>1003</td>\n",
       "      <td>2018-11-01</td>\n",
       "      <td>0.0</td>\n",
       "      <td>0.0</td>\n",
       "      <td>0.0</td>\n",
       "      <td>ultra</td>\n",
       "      <td>1950</td>\n",
       "      <td>Москва</td>\n",
       "      <td>1950.0</td>\n",
       "    </tr>\n",
       "    <tr>\n",
       "      <th>12</th>\n",
       "      <td>1003</td>\n",
       "      <td>2018-12-01</td>\n",
       "      <td>0.0</td>\n",
       "      <td>0.0</td>\n",
       "      <td>0.0</td>\n",
       "      <td>ultra</td>\n",
       "      <td>1950</td>\n",
       "      <td>Москва</td>\n",
       "      <td>1950.0</td>\n",
       "    </tr>\n",
       "    <tr>\n",
       "      <th>...</th>\n",
       "      <td>...</td>\n",
       "      <td>...</td>\n",
       "      <td>...</td>\n",
       "      <td>...</td>\n",
       "      <td>...</td>\n",
       "      <td>...</td>\n",
       "      <td>...</td>\n",
       "      <td>...</td>\n",
       "      <td>...</td>\n",
       "    </tr>\n",
       "    <tr>\n",
       "      <th>3174</th>\n",
       "      <td>1490</td>\n",
       "      <td>2018-08-01</td>\n",
       "      <td>400.0</td>\n",
       "      <td>0.0</td>\n",
       "      <td>0.0</td>\n",
       "      <td>smart</td>\n",
       "      <td>550</td>\n",
       "      <td>Москва</td>\n",
       "      <td>950.0</td>\n",
       "    </tr>\n",
       "    <tr>\n",
       "      <th>3175</th>\n",
       "      <td>1490</td>\n",
       "      <td>2018-09-01</td>\n",
       "      <td>0.0</td>\n",
       "      <td>0.0</td>\n",
       "      <td>0.0</td>\n",
       "      <td>smart</td>\n",
       "      <td>550</td>\n",
       "      <td>Москва</td>\n",
       "      <td>550.0</td>\n",
       "    </tr>\n",
       "    <tr>\n",
       "      <th>3176</th>\n",
       "      <td>1490</td>\n",
       "      <td>2018-10-01</td>\n",
       "      <td>1200.0</td>\n",
       "      <td>0.0</td>\n",
       "      <td>0.0</td>\n",
       "      <td>smart</td>\n",
       "      <td>550</td>\n",
       "      <td>Москва</td>\n",
       "      <td>1750.0</td>\n",
       "    </tr>\n",
       "    <tr>\n",
       "      <th>3177</th>\n",
       "      <td>1490</td>\n",
       "      <td>2018-11-01</td>\n",
       "      <td>800.0</td>\n",
       "      <td>0.0</td>\n",
       "      <td>0.0</td>\n",
       "      <td>smart</td>\n",
       "      <td>550</td>\n",
       "      <td>Москва</td>\n",
       "      <td>1350.0</td>\n",
       "    </tr>\n",
       "    <tr>\n",
       "      <th>3178</th>\n",
       "      <td>1490</td>\n",
       "      <td>2018-12-01</td>\n",
       "      <td>200.0</td>\n",
       "      <td>0.0</td>\n",
       "      <td>0.0</td>\n",
       "      <td>smart</td>\n",
       "      <td>550</td>\n",
       "      <td>Москва</td>\n",
       "      <td>750.0</td>\n",
       "    </tr>\n",
       "  </tbody>\n",
       "</table>\n",
       "<p>611 rows × 9 columns</p>\n",
       "</div>"
      ],
      "text/plain": [
       "      user_id      month  excess_gb  excess_message  excess_call tariff_name  \\\n",
       "8        1003 2018-08-01        0.0             0.0          0.0       ultra   \n",
       "9        1003 2018-09-01        0.0             0.0          0.0       ultra   \n",
       "10       1003 2018-10-01        0.0             0.0          0.0       ultra   \n",
       "11       1003 2018-11-01        0.0             0.0          0.0       ultra   \n",
       "12       1003 2018-12-01        0.0             0.0          0.0       ultra   \n",
       "...       ...        ...        ...             ...          ...         ...   \n",
       "3174     1490 2018-08-01      400.0             0.0          0.0       smart   \n",
       "3175     1490 2018-09-01        0.0             0.0          0.0       smart   \n",
       "3176     1490 2018-10-01     1200.0             0.0          0.0       smart   \n",
       "3177     1490 2018-11-01      800.0             0.0          0.0       smart   \n",
       "3178     1490 2018-12-01      200.0             0.0          0.0       smart   \n",
       "\n",
       "      rub_monthly_fee    city   total  \n",
       "8                1950  Москва  1950.0  \n",
       "9                1950  Москва  1950.0  \n",
       "10               1950  Москва  1950.0  \n",
       "11               1950  Москва  1950.0  \n",
       "12               1950  Москва  1950.0  \n",
       "...               ...     ...     ...  \n",
       "3174              550  Москва   950.0  \n",
       "3175              550  Москва   550.0  \n",
       "3176              550  Москва  1750.0  \n",
       "3177              550  Москва  1350.0  \n",
       "3178              550  Москва   750.0  \n",
       "\n",
       "[611 rows x 9 columns]"
      ]
     },
     "metadata": {},
     "output_type": "display_data"
    },
    {
     "data": {
      "text/html": [
       "<div>\n",
       "<style scoped>\n",
       "    .dataframe tbody tr th:only-of-type {\n",
       "        vertical-align: middle;\n",
       "    }\n",
       "\n",
       "    .dataframe tbody tr th {\n",
       "        vertical-align: top;\n",
       "    }\n",
       "\n",
       "    .dataframe thead th {\n",
       "        text-align: right;\n",
       "    }\n",
       "</style>\n",
       "<table border=\"1\" class=\"dataframe\">\n",
       "  <thead>\n",
       "    <tr style=\"text-align: right;\">\n",
       "      <th></th>\n",
       "      <th>total</th>\n",
       "    </tr>\n",
       "    <tr>\n",
       "      <th>user_id</th>\n",
       "      <th></th>\n",
       "    </tr>\n",
       "  </thead>\n",
       "  <tbody>\n",
       "    <tr>\n",
       "      <th>1001</th>\n",
       "      <td>850.000000</td>\n",
       "    </tr>\n",
       "    <tr>\n",
       "      <th>1003</th>\n",
       "      <td>1950.000000</td>\n",
       "    </tr>\n",
       "    <tr>\n",
       "      <th>1007</th>\n",
       "      <td>913.444444</td>\n",
       "    </tr>\n",
       "    <tr>\n",
       "      <th>1031</th>\n",
       "      <td>890.500000</td>\n",
       "    </tr>\n",
       "    <tr>\n",
       "      <th>1033</th>\n",
       "      <td>1914.000000</td>\n",
       "    </tr>\n",
       "    <tr>\n",
       "      <th>...</th>\n",
       "      <td>...</td>\n",
       "    </tr>\n",
       "    <tr>\n",
       "      <th>1453</th>\n",
       "      <td>1950.000000</td>\n",
       "    </tr>\n",
       "    <tr>\n",
       "      <th>1461</th>\n",
       "      <td>1950.000000</td>\n",
       "    </tr>\n",
       "    <tr>\n",
       "      <th>1476</th>\n",
       "      <td>1950.000000</td>\n",
       "    </tr>\n",
       "    <tr>\n",
       "      <th>1481</th>\n",
       "      <td>1150.000000</td>\n",
       "    </tr>\n",
       "    <tr>\n",
       "      <th>1490</th>\n",
       "      <td>1087.333333</td>\n",
       "    </tr>\n",
       "  </tbody>\n",
       "</table>\n",
       "<p>99 rows × 1 columns</p>\n",
       "</div>"
      ],
      "text/plain": [
       "               total\n",
       "user_id             \n",
       "1001      850.000000\n",
       "1003     1950.000000\n",
       "1007      913.444444\n",
       "1031      890.500000\n",
       "1033     1914.000000\n",
       "...              ...\n",
       "1453     1950.000000\n",
       "1461     1950.000000\n",
       "1476     1950.000000\n",
       "1481     1150.000000\n",
       "1490     1087.333333\n",
       "\n",
       "[99 rows x 1 columns]"
      ]
     },
     "metadata": {},
     "output_type": "display_data"
    }
   ],
   "source": [
    "#создаем таблицу с пользователями из Москвы и рассчитываем среднее для каждого пользователя\n",
    "excess_total_mos = excess.query('city == \"Москва\"')\n",
    "excess_user_mos = excess_total_mos.pivot_table(index=['user_id'], values='total')\n",
    "display(excess_total_mos)\n",
    "display(excess_user_mos)"
   ]
  },
  {
   "cell_type": "code",
   "execution_count": 38,
   "metadata": {},
   "outputs": [
    {
     "data": {
      "text/html": [
       "<div>\n",
       "<style scoped>\n",
       "    .dataframe tbody tr th:only-of-type {\n",
       "        vertical-align: middle;\n",
       "    }\n",
       "\n",
       "    .dataframe tbody tr th {\n",
       "        vertical-align: top;\n",
       "    }\n",
       "\n",
       "    .dataframe thead th {\n",
       "        text-align: right;\n",
       "    }\n",
       "</style>\n",
       "<table border=\"1\" class=\"dataframe\">\n",
       "  <thead>\n",
       "    <tr style=\"text-align: right;\">\n",
       "      <th></th>\n",
       "      <th>user_id</th>\n",
       "      <th>month</th>\n",
       "      <th>excess_gb</th>\n",
       "      <th>excess_message</th>\n",
       "      <th>excess_call</th>\n",
       "      <th>tariff_name</th>\n",
       "      <th>rub_monthly_fee</th>\n",
       "      <th>city</th>\n",
       "      <th>total</th>\n",
       "    </tr>\n",
       "  </thead>\n",
       "  <tbody>\n",
       "    <tr>\n",
       "      <th>0</th>\n",
       "      <td>1000</td>\n",
       "      <td>2018-05-01</td>\n",
       "      <td>0.0</td>\n",
       "      <td>0.0</td>\n",
       "      <td>0.0</td>\n",
       "      <td>ultra</td>\n",
       "      <td>1950</td>\n",
       "      <td>Краснодар</td>\n",
       "      <td>1950.0</td>\n",
       "    </tr>\n",
       "    <tr>\n",
       "      <th>1</th>\n",
       "      <td>1000</td>\n",
       "      <td>2018-06-01</td>\n",
       "      <td>0.0</td>\n",
       "      <td>0.0</td>\n",
       "      <td>0.0</td>\n",
       "      <td>ultra</td>\n",
       "      <td>1950</td>\n",
       "      <td>Краснодар</td>\n",
       "      <td>1950.0</td>\n",
       "    </tr>\n",
       "    <tr>\n",
       "      <th>2</th>\n",
       "      <td>1000</td>\n",
       "      <td>2018-07-01</td>\n",
       "      <td>0.0</td>\n",
       "      <td>0.0</td>\n",
       "      <td>0.0</td>\n",
       "      <td>ultra</td>\n",
       "      <td>1950</td>\n",
       "      <td>Краснодар</td>\n",
       "      <td>1950.0</td>\n",
       "    </tr>\n",
       "    <tr>\n",
       "      <th>3</th>\n",
       "      <td>1000</td>\n",
       "      <td>2018-08-01</td>\n",
       "      <td>0.0</td>\n",
       "      <td>0.0</td>\n",
       "      <td>0.0</td>\n",
       "      <td>ultra</td>\n",
       "      <td>1950</td>\n",
       "      <td>Краснодар</td>\n",
       "      <td>1950.0</td>\n",
       "    </tr>\n",
       "    <tr>\n",
       "      <th>4</th>\n",
       "      <td>1000</td>\n",
       "      <td>2018-09-01</td>\n",
       "      <td>0.0</td>\n",
       "      <td>0.0</td>\n",
       "      <td>0.0</td>\n",
       "      <td>ultra</td>\n",
       "      <td>1950</td>\n",
       "      <td>Краснодар</td>\n",
       "      <td>1950.0</td>\n",
       "    </tr>\n",
       "    <tr>\n",
       "      <th>...</th>\n",
       "      <td>...</td>\n",
       "      <td>...</td>\n",
       "      <td>...</td>\n",
       "      <td>...</td>\n",
       "      <td>...</td>\n",
       "      <td>...</td>\n",
       "      <td>...</td>\n",
       "      <td>...</td>\n",
       "      <td>...</td>\n",
       "    </tr>\n",
       "    <tr>\n",
       "      <th>3209</th>\n",
       "      <td>1498</td>\n",
       "      <td>2018-10-01</td>\n",
       "      <td>1200.0</td>\n",
       "      <td>0.0</td>\n",
       "      <td>0.0</td>\n",
       "      <td>smart</td>\n",
       "      <td>550</td>\n",
       "      <td>Владикавказ</td>\n",
       "      <td>1750.0</td>\n",
       "    </tr>\n",
       "    <tr>\n",
       "      <th>3210</th>\n",
       "      <td>1499</td>\n",
       "      <td>2018-09-01</td>\n",
       "      <td>0.0</td>\n",
       "      <td>0.0</td>\n",
       "      <td>0.0</td>\n",
       "      <td>smart</td>\n",
       "      <td>550</td>\n",
       "      <td>Пермь</td>\n",
       "      <td>550.0</td>\n",
       "    </tr>\n",
       "    <tr>\n",
       "      <th>3211</th>\n",
       "      <td>1499</td>\n",
       "      <td>2018-10-01</td>\n",
       "      <td>600.0</td>\n",
       "      <td>0.0</td>\n",
       "      <td>0.0</td>\n",
       "      <td>smart</td>\n",
       "      <td>550</td>\n",
       "      <td>Пермь</td>\n",
       "      <td>1150.0</td>\n",
       "    </tr>\n",
       "    <tr>\n",
       "      <th>3212</th>\n",
       "      <td>1499</td>\n",
       "      <td>2018-11-01</td>\n",
       "      <td>600.0</td>\n",
       "      <td>27.0</td>\n",
       "      <td>336.0</td>\n",
       "      <td>smart</td>\n",
       "      <td>550</td>\n",
       "      <td>Пермь</td>\n",
       "      <td>1513.0</td>\n",
       "    </tr>\n",
       "    <tr>\n",
       "      <th>3213</th>\n",
       "      <td>1499</td>\n",
       "      <td>2018-12-01</td>\n",
       "      <td>0.0</td>\n",
       "      <td>48.0</td>\n",
       "      <td>0.0</td>\n",
       "      <td>smart</td>\n",
       "      <td>550</td>\n",
       "      <td>Пермь</td>\n",
       "      <td>598.0</td>\n",
       "    </tr>\n",
       "  </tbody>\n",
       "</table>\n",
       "<p>2603 rows × 9 columns</p>\n",
       "</div>"
      ],
      "text/plain": [
       "      user_id      month  excess_gb  excess_message  excess_call tariff_name  \\\n",
       "0        1000 2018-05-01        0.0             0.0          0.0       ultra   \n",
       "1        1000 2018-06-01        0.0             0.0          0.0       ultra   \n",
       "2        1000 2018-07-01        0.0             0.0          0.0       ultra   \n",
       "3        1000 2018-08-01        0.0             0.0          0.0       ultra   \n",
       "4        1000 2018-09-01        0.0             0.0          0.0       ultra   \n",
       "...       ...        ...        ...             ...          ...         ...   \n",
       "3209     1498 2018-10-01     1200.0             0.0          0.0       smart   \n",
       "3210     1499 2018-09-01        0.0             0.0          0.0       smart   \n",
       "3211     1499 2018-10-01      600.0             0.0          0.0       smart   \n",
       "3212     1499 2018-11-01      600.0            27.0        336.0       smart   \n",
       "3213     1499 2018-12-01        0.0            48.0          0.0       smart   \n",
       "\n",
       "      rub_monthly_fee         city   total  \n",
       "0                1950    Краснодар  1950.0  \n",
       "1                1950    Краснодар  1950.0  \n",
       "2                1950    Краснодар  1950.0  \n",
       "3                1950    Краснодар  1950.0  \n",
       "4                1950    Краснодар  1950.0  \n",
       "...               ...          ...     ...  \n",
       "3209              550  Владикавказ  1750.0  \n",
       "3210              550        Пермь   550.0  \n",
       "3211              550        Пермь  1150.0  \n",
       "3212              550        Пермь  1513.0  \n",
       "3213              550        Пермь   598.0  \n",
       "\n",
       "[2603 rows x 9 columns]"
      ]
     },
     "metadata": {},
     "output_type": "display_data"
    },
    {
     "data": {
      "text/html": [
       "<div>\n",
       "<style scoped>\n",
       "    .dataframe tbody tr th:only-of-type {\n",
       "        vertical-align: middle;\n",
       "    }\n",
       "\n",
       "    .dataframe tbody tr th {\n",
       "        vertical-align: top;\n",
       "    }\n",
       "\n",
       "    .dataframe thead th {\n",
       "        text-align: right;\n",
       "    }\n",
       "</style>\n",
       "<table border=\"1\" class=\"dataframe\">\n",
       "  <thead>\n",
       "    <tr style=\"text-align: right;\">\n",
       "      <th></th>\n",
       "      <th>total</th>\n",
       "    </tr>\n",
       "    <tr>\n",
       "      <th>user_id</th>\n",
       "      <th></th>\n",
       "    </tr>\n",
       "  </thead>\n",
       "  <tbody>\n",
       "    <tr>\n",
       "      <th>1000</th>\n",
       "      <td>1950.000000</td>\n",
       "    </tr>\n",
       "    <tr>\n",
       "      <th>1002</th>\n",
       "      <td>1035.714286</td>\n",
       "    </tr>\n",
       "    <tr>\n",
       "      <th>1004</th>\n",
       "      <td>1950.000000</td>\n",
       "    </tr>\n",
       "    <tr>\n",
       "      <th>1005</th>\n",
       "      <td>827.000000</td>\n",
       "    </tr>\n",
       "    <tr>\n",
       "      <th>1006</th>\n",
       "      <td>931.818182</td>\n",
       "    </tr>\n",
       "    <tr>\n",
       "      <th>...</th>\n",
       "      <td>...</td>\n",
       "    </tr>\n",
       "    <tr>\n",
       "      <th>1495</th>\n",
       "      <td>2310.000000</td>\n",
       "    </tr>\n",
       "    <tr>\n",
       "      <th>1496</th>\n",
       "      <td>2362.583333</td>\n",
       "    </tr>\n",
       "    <tr>\n",
       "      <th>1497</th>\n",
       "      <td>928.333333</td>\n",
       "    </tr>\n",
       "    <tr>\n",
       "      <th>1498</th>\n",
       "      <td>1659.000000</td>\n",
       "    </tr>\n",
       "    <tr>\n",
       "      <th>1499</th>\n",
       "      <td>952.750000</td>\n",
       "    </tr>\n",
       "  </tbody>\n",
       "</table>\n",
       "<p>399 rows × 1 columns</p>\n",
       "</div>"
      ],
      "text/plain": [
       "               total\n",
       "user_id             \n",
       "1000     1950.000000\n",
       "1002     1035.714286\n",
       "1004     1950.000000\n",
       "1005      827.000000\n",
       "1006      931.818182\n",
       "...              ...\n",
       "1495     2310.000000\n",
       "1496     2362.583333\n",
       "1497      928.333333\n",
       "1498     1659.000000\n",
       "1499      952.750000\n",
       "\n",
       "[399 rows x 1 columns]"
      ]
     },
     "metadata": {},
     "output_type": "display_data"
    }
   ],
   "source": [
    "#создаем таблицу с пользователями из регионов и рассчитываем среднее для каждого пользователя\n",
    "excess_total_other = excess.query('city != \"Москва\"')\n",
    "excess_user_other = excess_total_other.pivot_table(index=['user_id'], values='total')\n",
    "display(excess_total_other)\n",
    "display(excess_user_other)"
   ]
  },
  {
   "cell_type": "markdown",
   "metadata": {},
   "source": [
    "## Анализ данных"
   ]
  },
  {
   "cell_type": "markdown",
   "metadata": {},
   "source": [
    "### Статистические данные для звонков"
   ]
  },
  {
   "cell_type": "code",
   "execution_count": 39,
   "metadata": {},
   "outputs": [
    {
     "data": {
      "text/html": [
       "<div>\n",
       "<style scoped>\n",
       "    .dataframe tbody tr th:only-of-type {\n",
       "        vertical-align: middle;\n",
       "    }\n",
       "\n",
       "    .dataframe tbody tr th {\n",
       "        vertical-align: top;\n",
       "    }\n",
       "\n",
       "    .dataframe thead th {\n",
       "        text-align: right;\n",
       "    }\n",
       "</style>\n",
       "<table border=\"1\" class=\"dataframe\">\n",
       "  <thead>\n",
       "    <tr style=\"text-align: right;\">\n",
       "      <th></th>\n",
       "      <th>user_id</th>\n",
       "      <th>month</th>\n",
       "      <th>number_calls</th>\n",
       "      <th>call_duration</th>\n",
       "      <th>tariff_name</th>\n",
       "      <th>minutes_included</th>\n",
       "      <th>rub_per_minute</th>\n",
       "      <th>excess_call</th>\n",
       "    </tr>\n",
       "  </thead>\n",
       "  <tbody>\n",
       "    <tr>\n",
       "      <th>951</th>\n",
       "      <td>1001</td>\n",
       "      <td>2018-11-01</td>\n",
       "      <td>59</td>\n",
       "      <td>430</td>\n",
       "      <td>smart</td>\n",
       "      <td>500</td>\n",
       "      <td>3</td>\n",
       "      <td>0</td>\n",
       "    </tr>\n",
       "    <tr>\n",
       "      <th>952</th>\n",
       "      <td>1001</td>\n",
       "      <td>2018-12-01</td>\n",
       "      <td>63</td>\n",
       "      <td>414</td>\n",
       "      <td>smart</td>\n",
       "      <td>500</td>\n",
       "      <td>3</td>\n",
       "      <td>0</td>\n",
       "    </tr>\n",
       "    <tr>\n",
       "      <th>953</th>\n",
       "      <td>1002</td>\n",
       "      <td>2018-06-01</td>\n",
       "      <td>15</td>\n",
       "      <td>117</td>\n",
       "      <td>smart</td>\n",
       "      <td>500</td>\n",
       "      <td>3</td>\n",
       "      <td>0</td>\n",
       "    </tr>\n",
       "    <tr>\n",
       "      <th>954</th>\n",
       "      <td>1002</td>\n",
       "      <td>2018-07-01</td>\n",
       "      <td>26</td>\n",
       "      <td>214</td>\n",
       "      <td>smart</td>\n",
       "      <td>500</td>\n",
       "      <td>3</td>\n",
       "      <td>0</td>\n",
       "    </tr>\n",
       "    <tr>\n",
       "      <th>955</th>\n",
       "      <td>1002</td>\n",
       "      <td>2018-08-01</td>\n",
       "      <td>42</td>\n",
       "      <td>289</td>\n",
       "      <td>smart</td>\n",
       "      <td>500</td>\n",
       "      <td>3</td>\n",
       "      <td>0</td>\n",
       "    </tr>\n",
       "    <tr>\n",
       "      <th>...</th>\n",
       "      <td>...</td>\n",
       "      <td>...</td>\n",
       "      <td>...</td>\n",
       "      <td>...</td>\n",
       "      <td>...</td>\n",
       "      <td>...</td>\n",
       "      <td>...</td>\n",
       "      <td>...</td>\n",
       "    </tr>\n",
       "    <tr>\n",
       "      <th>3169</th>\n",
       "      <td>1498</td>\n",
       "      <td>2018-10-01</td>\n",
       "      <td>41</td>\n",
       "      <td>247</td>\n",
       "      <td>smart</td>\n",
       "      <td>500</td>\n",
       "      <td>3</td>\n",
       "      <td>0</td>\n",
       "    </tr>\n",
       "    <tr>\n",
       "      <th>3170</th>\n",
       "      <td>1499</td>\n",
       "      <td>2018-09-01</td>\n",
       "      <td>9</td>\n",
       "      <td>70</td>\n",
       "      <td>smart</td>\n",
       "      <td>500</td>\n",
       "      <td>3</td>\n",
       "      <td>0</td>\n",
       "    </tr>\n",
       "    <tr>\n",
       "      <th>3171</th>\n",
       "      <td>1499</td>\n",
       "      <td>2018-10-01</td>\n",
       "      <td>68</td>\n",
       "      <td>449</td>\n",
       "      <td>smart</td>\n",
       "      <td>500</td>\n",
       "      <td>3</td>\n",
       "      <td>0</td>\n",
       "    </tr>\n",
       "    <tr>\n",
       "      <th>3172</th>\n",
       "      <td>1499</td>\n",
       "      <td>2018-11-01</td>\n",
       "      <td>74</td>\n",
       "      <td>612</td>\n",
       "      <td>smart</td>\n",
       "      <td>500</td>\n",
       "      <td>3</td>\n",
       "      <td>336</td>\n",
       "    </tr>\n",
       "    <tr>\n",
       "      <th>3173</th>\n",
       "      <td>1499</td>\n",
       "      <td>2018-12-01</td>\n",
       "      <td>69</td>\n",
       "      <td>492</td>\n",
       "      <td>smart</td>\n",
       "      <td>500</td>\n",
       "      <td>3</td>\n",
       "      <td>0</td>\n",
       "    </tr>\n",
       "  </tbody>\n",
       "</table>\n",
       "<p>2223 rows × 8 columns</p>\n",
       "</div>"
      ],
      "text/plain": [
       "      user_id      month  number_calls  call_duration tariff_name  \\\n",
       "951      1001 2018-11-01            59            430       smart   \n",
       "952      1001 2018-12-01            63            414       smart   \n",
       "953      1002 2018-06-01            15            117       smart   \n",
       "954      1002 2018-07-01            26            214       smart   \n",
       "955      1002 2018-08-01            42            289       smart   \n",
       "...       ...        ...           ...            ...         ...   \n",
       "3169     1498 2018-10-01            41            247       smart   \n",
       "3170     1499 2018-09-01             9             70       smart   \n",
       "3171     1499 2018-10-01            68            449       smart   \n",
       "3172     1499 2018-11-01            74            612       smart   \n",
       "3173     1499 2018-12-01            69            492       smart   \n",
       "\n",
       "      minutes_included  rub_per_minute  excess_call  \n",
       "951                500               3            0  \n",
       "952                500               3            0  \n",
       "953                500               3            0  \n",
       "954                500               3            0  \n",
       "955                500               3            0  \n",
       "...                ...             ...          ...  \n",
       "3169               500               3            0  \n",
       "3170               500               3            0  \n",
       "3171               500               3            0  \n",
       "3172               500               3          336  \n",
       "3173               500               3            0  \n",
       "\n",
       "[2223 rows x 8 columns]"
      ]
     },
     "metadata": {},
     "output_type": "display_data"
    }
   ],
   "source": [
    "#создаем таблицу звонков для тарифа smart\n",
    "calls_smart = calls.query('tariff_name == \"smart\"')\n",
    "display(calls_smart)"
   ]
  },
  {
   "cell_type": "code",
   "execution_count": 40,
   "metadata": {},
   "outputs": [
    {
     "data": {
      "text/html": [
       "<div>\n",
       "<style scoped>\n",
       "    .dataframe tbody tr th:only-of-type {\n",
       "        vertical-align: middle;\n",
       "    }\n",
       "\n",
       "    .dataframe tbody tr th {\n",
       "        vertical-align: top;\n",
       "    }\n",
       "\n",
       "    .dataframe thead th {\n",
       "        text-align: right;\n",
       "    }\n",
       "</style>\n",
       "<table border=\"1\" class=\"dataframe\">\n",
       "  <thead>\n",
       "    <tr style=\"text-align: right;\">\n",
       "      <th></th>\n",
       "      <th>user_id</th>\n",
       "      <th>month</th>\n",
       "      <th>number_calls</th>\n",
       "      <th>call_duration</th>\n",
       "      <th>tariff_name</th>\n",
       "      <th>minutes_included</th>\n",
       "      <th>rub_per_minute</th>\n",
       "      <th>excess_call</th>\n",
       "    </tr>\n",
       "  </thead>\n",
       "  <tbody>\n",
       "    <tr>\n",
       "      <th>0</th>\n",
       "      <td>1000</td>\n",
       "      <td>2018-05-01</td>\n",
       "      <td>22</td>\n",
       "      <td>159</td>\n",
       "      <td>ultra</td>\n",
       "      <td>3000</td>\n",
       "      <td>1</td>\n",
       "      <td>0</td>\n",
       "    </tr>\n",
       "    <tr>\n",
       "      <th>1</th>\n",
       "      <td>1000</td>\n",
       "      <td>2018-06-01</td>\n",
       "      <td>43</td>\n",
       "      <td>172</td>\n",
       "      <td>ultra</td>\n",
       "      <td>3000</td>\n",
       "      <td>1</td>\n",
       "      <td>0</td>\n",
       "    </tr>\n",
       "    <tr>\n",
       "      <th>2</th>\n",
       "      <td>1000</td>\n",
       "      <td>2018-07-01</td>\n",
       "      <td>47</td>\n",
       "      <td>340</td>\n",
       "      <td>ultra</td>\n",
       "      <td>3000</td>\n",
       "      <td>1</td>\n",
       "      <td>0</td>\n",
       "    </tr>\n",
       "    <tr>\n",
       "      <th>3</th>\n",
       "      <td>1000</td>\n",
       "      <td>2018-08-01</td>\n",
       "      <td>52</td>\n",
       "      <td>408</td>\n",
       "      <td>ultra</td>\n",
       "      <td>3000</td>\n",
       "      <td>1</td>\n",
       "      <td>0</td>\n",
       "    </tr>\n",
       "    <tr>\n",
       "      <th>4</th>\n",
       "      <td>1000</td>\n",
       "      <td>2018-09-01</td>\n",
       "      <td>58</td>\n",
       "      <td>466</td>\n",
       "      <td>ultra</td>\n",
       "      <td>3000</td>\n",
       "      <td>1</td>\n",
       "      <td>0</td>\n",
       "    </tr>\n",
       "    <tr>\n",
       "      <th>...</th>\n",
       "      <td>...</td>\n",
       "      <td>...</td>\n",
       "      <td>...</td>\n",
       "      <td>...</td>\n",
       "      <td>...</td>\n",
       "      <td>...</td>\n",
       "      <td>...</td>\n",
       "      <td>...</td>\n",
       "    </tr>\n",
       "    <tr>\n",
       "      <th>946</th>\n",
       "      <td>1495</td>\n",
       "      <td>2018-08-01</td>\n",
       "      <td>17</td>\n",
       "      <td>92</td>\n",
       "      <td>ultra</td>\n",
       "      <td>3000</td>\n",
       "      <td>1</td>\n",
       "      <td>0</td>\n",
       "    </tr>\n",
       "    <tr>\n",
       "      <th>947</th>\n",
       "      <td>1495</td>\n",
       "      <td>2018-09-01</td>\n",
       "      <td>112</td>\n",
       "      <td>813</td>\n",
       "      <td>ultra</td>\n",
       "      <td>3000</td>\n",
       "      <td>1</td>\n",
       "      <td>0</td>\n",
       "    </tr>\n",
       "    <tr>\n",
       "      <th>948</th>\n",
       "      <td>1495</td>\n",
       "      <td>2018-10-01</td>\n",
       "      <td>152</td>\n",
       "      <td>1030</td>\n",
       "      <td>ultra</td>\n",
       "      <td>3000</td>\n",
       "      <td>1</td>\n",
       "      <td>0</td>\n",
       "    </tr>\n",
       "    <tr>\n",
       "      <th>949</th>\n",
       "      <td>1495</td>\n",
       "      <td>2018-11-01</td>\n",
       "      <td>129</td>\n",
       "      <td>954</td>\n",
       "      <td>ultra</td>\n",
       "      <td>3000</td>\n",
       "      <td>1</td>\n",
       "      <td>0</td>\n",
       "    </tr>\n",
       "    <tr>\n",
       "      <th>950</th>\n",
       "      <td>1495</td>\n",
       "      <td>2018-12-01</td>\n",
       "      <td>155</td>\n",
       "      <td>1031</td>\n",
       "      <td>ultra</td>\n",
       "      <td>3000</td>\n",
       "      <td>1</td>\n",
       "      <td>0</td>\n",
       "    </tr>\n",
       "  </tbody>\n",
       "</table>\n",
       "<p>951 rows × 8 columns</p>\n",
       "</div>"
      ],
      "text/plain": [
       "     user_id      month  number_calls  call_duration tariff_name  \\\n",
       "0       1000 2018-05-01            22            159       ultra   \n",
       "1       1000 2018-06-01            43            172       ultra   \n",
       "2       1000 2018-07-01            47            340       ultra   \n",
       "3       1000 2018-08-01            52            408       ultra   \n",
       "4       1000 2018-09-01            58            466       ultra   \n",
       "..       ...        ...           ...            ...         ...   \n",
       "946     1495 2018-08-01            17             92       ultra   \n",
       "947     1495 2018-09-01           112            813       ultra   \n",
       "948     1495 2018-10-01           152           1030       ultra   \n",
       "949     1495 2018-11-01           129            954       ultra   \n",
       "950     1495 2018-12-01           155           1031       ultra   \n",
       "\n",
       "     minutes_included  rub_per_minute  excess_call  \n",
       "0                3000               1            0  \n",
       "1                3000               1            0  \n",
       "2                3000               1            0  \n",
       "3                3000               1            0  \n",
       "4                3000               1            0  \n",
       "..                ...             ...          ...  \n",
       "946              3000               1            0  \n",
       "947              3000               1            0  \n",
       "948              3000               1            0  \n",
       "949              3000               1            0  \n",
       "950              3000               1            0  \n",
       "\n",
       "[951 rows x 8 columns]"
      ]
     },
     "metadata": {},
     "output_type": "display_data"
    }
   ],
   "source": [
    "#создаем таблицу звонков для тарифа ultra\n",
    "calls_ultra = calls.query('tariff_name == \"ultra\"')\n",
    "display(calls_ultra)"
   ]
  },
  {
   "cell_type": "code",
   "execution_count": 41,
   "metadata": {},
   "outputs": [
    {
     "data": {
      "text/html": [
       "<div>\n",
       "<style scoped>\n",
       "    .dataframe tbody tr th:only-of-type {\n",
       "        vertical-align: middle;\n",
       "    }\n",
       "\n",
       "    .dataframe tbody tr th {\n",
       "        vertical-align: top;\n",
       "    }\n",
       "\n",
       "    .dataframe thead th {\n",
       "        text-align: right;\n",
       "    }\n",
       "</style>\n",
       "<table border=\"1\" class=\"dataframe\">\n",
       "  <thead>\n",
       "    <tr style=\"text-align: right;\">\n",
       "      <th>month</th>\n",
       "      <th>2018-01-01</th>\n",
       "      <th>2018-02-01</th>\n",
       "      <th>2018-03-01</th>\n",
       "      <th>2018-04-01</th>\n",
       "      <th>2018-05-01</th>\n",
       "      <th>2018-06-01</th>\n",
       "      <th>2018-07-01</th>\n",
       "      <th>2018-08-01</th>\n",
       "      <th>2018-09-01</th>\n",
       "      <th>2018-10-01</th>\n",
       "      <th>2018-11-01</th>\n",
       "      <th>2018-12-01</th>\n",
       "    </tr>\n",
       "    <tr>\n",
       "      <th>tariff_name</th>\n",
       "      <th></th>\n",
       "      <th></th>\n",
       "      <th></th>\n",
       "      <th></th>\n",
       "      <th></th>\n",
       "      <th></th>\n",
       "      <th></th>\n",
       "      <th></th>\n",
       "      <th></th>\n",
       "      <th></th>\n",
       "      <th></th>\n",
       "      <th></th>\n",
       "    </tr>\n",
       "  </thead>\n",
       "  <tbody>\n",
       "    <tr>\n",
       "      <th>smart</th>\n",
       "      <td>203.852941</td>\n",
       "      <td>298.689655</td>\n",
       "      <td>390.051948</td>\n",
       "      <td>367.133929</td>\n",
       "      <td>387.361702</td>\n",
       "      <td>398.067485</td>\n",
       "      <td>408.353234</td>\n",
       "      <td>423.269231</td>\n",
       "      <td>430.266409</td>\n",
       "      <td>427.590444</td>\n",
       "      <td>436.647619</td>\n",
       "      <td>479.985119</td>\n",
       "    </tr>\n",
       "    <tr>\n",
       "      <th>ultra</th>\n",
       "      <td>428.111111</td>\n",
       "      <td>297.125000</td>\n",
       "      <td>489.648649</td>\n",
       "      <td>475.301887</td>\n",
       "      <td>534.250000</td>\n",
       "      <td>497.469136</td>\n",
       "      <td>564.397727</td>\n",
       "      <td>530.611650</td>\n",
       "      <td>558.882883</td>\n",
       "      <td>581.728814</td>\n",
       "      <td>562.364341</td>\n",
       "      <td>614.925373</td>\n",
       "    </tr>\n",
       "  </tbody>\n",
       "</table>\n",
       "</div>"
      ],
      "text/plain": [
       "month        2018-01-01  2018-02-01  2018-03-01  2018-04-01  2018-05-01  \\\n",
       "tariff_name                                                               \n",
       "smart        203.852941  298.689655  390.051948  367.133929  387.361702   \n",
       "ultra        428.111111  297.125000  489.648649  475.301887  534.250000   \n",
       "\n",
       "month        2018-06-01  2018-07-01  2018-08-01  2018-09-01  2018-10-01  \\\n",
       "tariff_name                                                               \n",
       "smart        398.067485  408.353234  423.269231  430.266409  427.590444   \n",
       "ultra        497.469136  564.397727  530.611650  558.882883  581.728814   \n",
       "\n",
       "month        2018-11-01  2018-12-01  \n",
       "tariff_name                          \n",
       "smart        436.647619  479.985119  \n",
       "ultra        562.364341  614.925373  "
      ]
     },
     "metadata": {},
     "output_type": "display_data"
    }
   ],
   "source": [
    "#находим среднее количество использованных минут для каждого тарифа по месяцам\n",
    "calls_stat = calls.pivot_table(index=['tariff_name'], columns='month', values='call_duration')\n",
    "display(calls_stat)"
   ]
  },
  {
   "cell_type": "code",
   "execution_count": 42,
   "metadata": {},
   "outputs": [
    {
     "data": {
      "text/html": [
       "<div>\n",
       "<style scoped>\n",
       "    .dataframe tbody tr th:only-of-type {\n",
       "        vertical-align: middle;\n",
       "    }\n",
       "\n",
       "    .dataframe tbody tr th {\n",
       "        vertical-align: top;\n",
       "    }\n",
       "\n",
       "    .dataframe thead th {\n",
       "        text-align: right;\n",
       "    }\n",
       "</style>\n",
       "<table border=\"1\" class=\"dataframe\">\n",
       "  <thead>\n",
       "    <tr style=\"text-align: right;\">\n",
       "      <th>month</th>\n",
       "      <th>2018-01-01</th>\n",
       "      <th>2018-02-01</th>\n",
       "      <th>2018-03-01</th>\n",
       "      <th>2018-04-01</th>\n",
       "      <th>2018-05-01</th>\n",
       "      <th>2018-06-01</th>\n",
       "      <th>2018-07-01</th>\n",
       "      <th>2018-08-01</th>\n",
       "      <th>2018-09-01</th>\n",
       "      <th>2018-10-01</th>\n",
       "      <th>2018-11-01</th>\n",
       "      <th>2018-12-01</th>\n",
       "    </tr>\n",
       "    <tr>\n",
       "      <th>tariff_name</th>\n",
       "      <th></th>\n",
       "      <th></th>\n",
       "      <th></th>\n",
       "      <th></th>\n",
       "      <th></th>\n",
       "      <th></th>\n",
       "      <th></th>\n",
       "      <th></th>\n",
       "      <th></th>\n",
       "      <th></th>\n",
       "      <th></th>\n",
       "      <th></th>\n",
       "    </tr>\n",
       "  </thead>\n",
       "  <tbody>\n",
       "    <tr>\n",
       "      <th>smart</th>\n",
       "      <td>23787.341355</td>\n",
       "      <td>36412.287961</td>\n",
       "      <td>36823.155161</td>\n",
       "      <td>34778.207127</td>\n",
       "      <td>34820.061094</td>\n",
       "      <td>29960.520109</td>\n",
       "      <td>32250.269602</td>\n",
       "      <td>34177.270551</td>\n",
       "      <td>32950.529526</td>\n",
       "      <td>34889.530319</td>\n",
       "      <td>31100.611101</td>\n",
       "      <td>39131.447539</td>\n",
       "    </tr>\n",
       "    <tr>\n",
       "      <th>ultra</th>\n",
       "      <td>72769.361111</td>\n",
       "      <td>87919.679348</td>\n",
       "      <td>111384.900901</td>\n",
       "      <td>66036.830189</td>\n",
       "      <td>74881.015873</td>\n",
       "      <td>86019.652160</td>\n",
       "      <td>86952.587121</td>\n",
       "      <td>91169.553588</td>\n",
       "      <td>98597.904341</td>\n",
       "      <td>97140.336086</td>\n",
       "      <td>88449.624031</td>\n",
       "      <td>107981.031983</td>\n",
       "    </tr>\n",
       "  </tbody>\n",
       "</table>\n",
       "</div>"
      ],
      "text/plain": [
       "month          2018-01-01    2018-02-01     2018-03-01    2018-04-01  \\\n",
       "tariff_name                                                            \n",
       "smart        23787.341355  36412.287961   36823.155161  34778.207127   \n",
       "ultra        72769.361111  87919.679348  111384.900901  66036.830189   \n",
       "\n",
       "month          2018-05-01    2018-06-01    2018-07-01    2018-08-01  \\\n",
       "tariff_name                                                           \n",
       "smart        34820.061094  29960.520109  32250.269602  34177.270551   \n",
       "ultra        74881.015873  86019.652160  86952.587121  91169.553588   \n",
       "\n",
       "month          2018-09-01    2018-10-01    2018-11-01     2018-12-01  \n",
       "tariff_name                                                           \n",
       "smart        32950.529526  34889.530319  31100.611101   39131.447539  \n",
       "ultra        98597.904341  97140.336086  88449.624031  107981.031983  "
      ]
     },
     "metadata": {},
     "output_type": "display_data"
    }
   ],
   "source": [
    "#находим дисперсию использованных минут для каждого тарифа по месяцам\n",
    "import numpy as np\n",
    "calls_var = calls.pivot_table(index=['tariff_name'], columns='month', values='call_duration', aggfunc=np.var)\n",
    "display(calls_var)"
   ]
  },
  {
   "cell_type": "code",
   "execution_count": 43,
   "metadata": {},
   "outputs": [
    {
     "data": {
      "text/html": [
       "<div>\n",
       "<style scoped>\n",
       "    .dataframe tbody tr th:only-of-type {\n",
       "        vertical-align: middle;\n",
       "    }\n",
       "\n",
       "    .dataframe tbody tr th {\n",
       "        vertical-align: top;\n",
       "    }\n",
       "\n",
       "    .dataframe thead th {\n",
       "        text-align: right;\n",
       "    }\n",
       "</style>\n",
       "<table border=\"1\" class=\"dataframe\">\n",
       "  <thead>\n",
       "    <tr style=\"text-align: right;\">\n",
       "      <th>month</th>\n",
       "      <th>2018-01-01</th>\n",
       "      <th>2018-02-01</th>\n",
       "      <th>2018-03-01</th>\n",
       "      <th>2018-04-01</th>\n",
       "      <th>2018-05-01</th>\n",
       "      <th>2018-06-01</th>\n",
       "      <th>2018-07-01</th>\n",
       "      <th>2018-08-01</th>\n",
       "      <th>2018-09-01</th>\n",
       "      <th>2018-10-01</th>\n",
       "      <th>2018-11-01</th>\n",
       "      <th>2018-12-01</th>\n",
       "    </tr>\n",
       "    <tr>\n",
       "      <th>tariff_name</th>\n",
       "      <th></th>\n",
       "      <th></th>\n",
       "      <th></th>\n",
       "      <th></th>\n",
       "      <th></th>\n",
       "      <th></th>\n",
       "      <th></th>\n",
       "      <th></th>\n",
       "      <th></th>\n",
       "      <th></th>\n",
       "      <th></th>\n",
       "      <th></th>\n",
       "    </tr>\n",
       "  </thead>\n",
       "  <tbody>\n",
       "    <tr>\n",
       "      <th>smart</th>\n",
       "      <td>154.231454</td>\n",
       "      <td>190.820041</td>\n",
       "      <td>191.893604</td>\n",
       "      <td>186.489161</td>\n",
       "      <td>186.601343</td>\n",
       "      <td>173.091075</td>\n",
       "      <td>179.583601</td>\n",
       "      <td>184.870956</td>\n",
       "      <td>181.522807</td>\n",
       "      <td>186.787393</td>\n",
       "      <td>176.353653</td>\n",
       "      <td>197.816702</td>\n",
       "    </tr>\n",
       "    <tr>\n",
       "      <th>ultra</th>\n",
       "      <td>269.757968</td>\n",
       "      <td>296.512528</td>\n",
       "      <td>333.743765</td>\n",
       "      <td>256.976322</td>\n",
       "      <td>273.643958</td>\n",
       "      <td>293.291071</td>\n",
       "      <td>294.877241</td>\n",
       "      <td>301.942964</td>\n",
       "      <td>314.003032</td>\n",
       "      <td>311.673445</td>\n",
       "      <td>297.404815</td>\n",
       "      <td>328.604674</td>\n",
       "    </tr>\n",
       "  </tbody>\n",
       "</table>\n",
       "</div>"
      ],
      "text/plain": [
       "month        2018-01-01  2018-02-01  2018-03-01  2018-04-01  2018-05-01  \\\n",
       "tariff_name                                                               \n",
       "smart        154.231454  190.820041  191.893604  186.489161  186.601343   \n",
       "ultra        269.757968  296.512528  333.743765  256.976322  273.643958   \n",
       "\n",
       "month        2018-06-01  2018-07-01  2018-08-01  2018-09-01  2018-10-01  \\\n",
       "tariff_name                                                               \n",
       "smart        173.091075  179.583601  184.870956  181.522807  186.787393   \n",
       "ultra        293.291071  294.877241  301.942964  314.003032  311.673445   \n",
       "\n",
       "month        2018-11-01  2018-12-01  \n",
       "tariff_name                          \n",
       "smart        176.353653  197.816702  \n",
       "ultra        297.404815  328.604674  "
      ]
     },
     "metadata": {},
     "output_type": "display_data"
    }
   ],
   "source": [
    "#находим стандартное отклонение использованных минут для каждого тарифа по месяцам\n",
    "calls_std = calls.pivot_table(index=['tariff_name'], columns='month', values='call_duration', aggfunc=np.std)\n",
    "display(calls_std)"
   ]
  },
  {
   "cell_type": "code",
   "execution_count": 44,
   "metadata": {},
   "outputs": [
    {
     "ename": "AttributeError",
     "evalue": "'tuple' object has no attribute 'show'",
     "output_type": "error",
     "traceback": [
      "\u001b[1;31m---------------------------------------------------------------------------\u001b[0m",
      "\u001b[1;31mAttributeError\u001b[0m                            Traceback (most recent call last)",
      "\u001b[1;32mC:\\Users\\2106~1\\AppData\\Local\\Temp/ipykernel_13848/26171666.py\u001b[0m in \u001b[0;36m<module>\u001b[1;34m\u001b[0m\n\u001b[0;32m      2\u001b[0m \u001b[1;32mimport\u001b[0m \u001b[0mmatplotlib\u001b[0m\u001b[1;33m.\u001b[0m\u001b[0mpyplot\u001b[0m \u001b[1;32mas\u001b[0m \u001b[0mplt\u001b[0m\u001b[1;33m\u001b[0m\u001b[1;33m\u001b[0m\u001b[0m\n\u001b[0;32m      3\u001b[0m \u001b[0mplot\u001b[0m \u001b[1;33m=\u001b[0m \u001b[0mplt\u001b[0m\u001b[1;33m.\u001b[0m\u001b[0mhist\u001b[0m\u001b[1;33m(\u001b[0m\u001b[1;33m[\u001b[0m\u001b[0mcalls_ultra\u001b[0m\u001b[1;33m[\u001b[0m\u001b[1;34m'call_duration'\u001b[0m\u001b[1;33m]\u001b[0m\u001b[1;33m,\u001b[0m \u001b[0mcalls_smart\u001b[0m\u001b[1;33m[\u001b[0m\u001b[1;34m'call_duration'\u001b[0m\u001b[1;33m]\u001b[0m\u001b[1;33m]\u001b[0m\u001b[1;33m,\u001b[0m \u001b[0mbins\u001b[0m\u001b[1;33m=\u001b[0m\u001b[1;36m500\u001b[0m\u001b[1;33m,\u001b[0m \u001b[0mhisttype\u001b[0m\u001b[1;33m=\u001b[0m\u001b[1;34m'step'\u001b[0m\u001b[1;33m)\u001b[0m\u001b[1;33m\u001b[0m\u001b[1;33m\u001b[0m\u001b[0m\n\u001b[1;32m----> 4\u001b[1;33m \u001b[0mplot\u001b[0m\u001b[1;33m.\u001b[0m\u001b[0mshow\u001b[0m\u001b[1;33m(\u001b[0m\u001b[1;33m)\u001b[0m\u001b[1;33m\u001b[0m\u001b[1;33m\u001b[0m\u001b[0m\n\u001b[0m",
      "\u001b[1;31mAttributeError\u001b[0m: 'tuple' object has no attribute 'show'"
     ]
    },
    {
     "data": {
      "image/png": "[encoded data removed]",
      "text/plain": [
       "<Figure size 432x288 with 1 Axes>"
      ]
     },
     "metadata": {
      "needs_background": "light"
     },
     "output_type": "display_data"
    }
   ],
   "source": [
    "#построим гистограмму для каждого тарифа по использованию минут\n",
    "import matplotlib.pyplot as plt\n",
    "plot = plt.hist([calls_ultra['call_duration'], calls_smart['call_duration']], bins=500, histtype='step')\n",
    "plot.show()"
   ]
  },
  {
   "cell_type": "markdown",
   "metadata": {},
   "source": [
    "<b>Вывод:</b> Из полученных данных видно, что пользователи тарифа Ultra тратят больше минут, чем пользователи тарифа Smart, но эта разница не является крупной. В среднем пользователи обоих тарифов укладываются в пакетное количество минут. Пакет тарифа Ultra имеет значительный запас по минутам, так как пользователи не тратят больше 2/3 количества доступных минут."
   ]
  },
  {
   "cell_type": "markdown",
   "metadata": {},
   "source": [
    "### Статистические данные для сообщений"
   ]
  },
  {
   "cell_type": "code",
   "execution_count": 45,
   "metadata": {},
   "outputs": [
    {
     "data": {
      "text/html": [
       "<div>\n",
       "<style scoped>\n",
       "    .dataframe tbody tr th:only-of-type {\n",
       "        vertical-align: middle;\n",
       "    }\n",
       "\n",
       "    .dataframe tbody tr th {\n",
       "        vertical-align: top;\n",
       "    }\n",
       "\n",
       "    .dataframe thead th {\n",
       "        text-align: right;\n",
       "    }\n",
       "</style>\n",
       "<table border=\"1\" class=\"dataframe\">\n",
       "  <thead>\n",
       "    <tr style=\"text-align: right;\">\n",
       "      <th></th>\n",
       "      <th>user_id</th>\n",
       "      <th>month</th>\n",
       "      <th>number_messages</th>\n",
       "      <th>tariff_name</th>\n",
       "      <th>messages_included</th>\n",
       "      <th>rub_per_message</th>\n",
       "      <th>excess_message</th>\n",
       "    </tr>\n",
       "  </thead>\n",
       "  <tbody>\n",
       "    <tr>\n",
       "      <th>795</th>\n",
       "      <td>1002</td>\n",
       "      <td>2018-06-01</td>\n",
       "      <td>4</td>\n",
       "      <td>smart</td>\n",
       "      <td>50</td>\n",
       "      <td>3</td>\n",
       "      <td>0</td>\n",
       "    </tr>\n",
       "    <tr>\n",
       "      <th>796</th>\n",
       "      <td>1002</td>\n",
       "      <td>2018-07-01</td>\n",
       "      <td>11</td>\n",
       "      <td>smart</td>\n",
       "      <td>50</td>\n",
       "      <td>3</td>\n",
       "      <td>0</td>\n",
       "    </tr>\n",
       "    <tr>\n",
       "      <th>797</th>\n",
       "      <td>1002</td>\n",
       "      <td>2018-08-01</td>\n",
       "      <td>13</td>\n",
       "      <td>smart</td>\n",
       "      <td>50</td>\n",
       "      <td>3</td>\n",
       "      <td>0</td>\n",
       "    </tr>\n",
       "    <tr>\n",
       "      <th>798</th>\n",
       "      <td>1002</td>\n",
       "      <td>2018-09-01</td>\n",
       "      <td>4</td>\n",
       "      <td>smart</td>\n",
       "      <td>50</td>\n",
       "      <td>3</td>\n",
       "      <td>0</td>\n",
       "    </tr>\n",
       "    <tr>\n",
       "      <th>799</th>\n",
       "      <td>1002</td>\n",
       "      <td>2018-10-01</td>\n",
       "      <td>10</td>\n",
       "      <td>smart</td>\n",
       "      <td>50</td>\n",
       "      <td>3</td>\n",
       "      <td>0</td>\n",
       "    </tr>\n",
       "    <tr>\n",
       "      <th>...</th>\n",
       "      <td>...</td>\n",
       "      <td>...</td>\n",
       "      <td>...</td>\n",
       "      <td>...</td>\n",
       "      <td>...</td>\n",
       "      <td>...</td>\n",
       "      <td>...</td>\n",
       "    </tr>\n",
       "    <tr>\n",
       "      <th>2712</th>\n",
       "      <td>1498</td>\n",
       "      <td>2018-10-01</td>\n",
       "      <td>42</td>\n",
       "      <td>smart</td>\n",
       "      <td>50</td>\n",
       "      <td>3</td>\n",
       "      <td>0</td>\n",
       "    </tr>\n",
       "    <tr>\n",
       "      <th>2713</th>\n",
       "      <td>1499</td>\n",
       "      <td>2018-09-01</td>\n",
       "      <td>11</td>\n",
       "      <td>smart</td>\n",
       "      <td>50</td>\n",
       "      <td>3</td>\n",
       "      <td>0</td>\n",
       "    </tr>\n",
       "    <tr>\n",
       "      <th>2714</th>\n",
       "      <td>1499</td>\n",
       "      <td>2018-10-01</td>\n",
       "      <td>48</td>\n",
       "      <td>smart</td>\n",
       "      <td>50</td>\n",
       "      <td>3</td>\n",
       "      <td>0</td>\n",
       "    </tr>\n",
       "    <tr>\n",
       "      <th>2715</th>\n",
       "      <td>1499</td>\n",
       "      <td>2018-11-01</td>\n",
       "      <td>59</td>\n",
       "      <td>smart</td>\n",
       "      <td>50</td>\n",
       "      <td>3</td>\n",
       "      <td>27</td>\n",
       "    </tr>\n",
       "    <tr>\n",
       "      <th>2716</th>\n",
       "      <td>1499</td>\n",
       "      <td>2018-12-01</td>\n",
       "      <td>66</td>\n",
       "      <td>smart</td>\n",
       "      <td>50</td>\n",
       "      <td>3</td>\n",
       "      <td>48</td>\n",
       "    </tr>\n",
       "  </tbody>\n",
       "</table>\n",
       "<p>1922 rows × 7 columns</p>\n",
       "</div>"
      ],
      "text/plain": [
       "      user_id      month  number_messages tariff_name  messages_included  \\\n",
       "795      1002 2018-06-01                4       smart                 50   \n",
       "796      1002 2018-07-01               11       smart                 50   \n",
       "797      1002 2018-08-01               13       smart                 50   \n",
       "798      1002 2018-09-01                4       smart                 50   \n",
       "799      1002 2018-10-01               10       smart                 50   \n",
       "...       ...        ...              ...         ...                ...   \n",
       "2712     1498 2018-10-01               42       smart                 50   \n",
       "2713     1499 2018-09-01               11       smart                 50   \n",
       "2714     1499 2018-10-01               48       smart                 50   \n",
       "2715     1499 2018-11-01               59       smart                 50   \n",
       "2716     1499 2018-12-01               66       smart                 50   \n",
       "\n",
       "      rub_per_message  excess_message  \n",
       "795                 3               0  \n",
       "796                 3               0  \n",
       "797                 3               0  \n",
       "798                 3               0  \n",
       "799                 3               0  \n",
       "...               ...             ...  \n",
       "2712                3               0  \n",
       "2713                3               0  \n",
       "2714                3               0  \n",
       "2715                3              27  \n",
       "2716                3              48  \n",
       "\n",
       "[1922 rows x 7 columns]"
      ]
     },
     "metadata": {},
     "output_type": "display_data"
    }
   ],
   "source": [
    "#создаем таблицу сообщений для тарифа smart\n",
    "messages_smart = messages.query('tariff_name == \"smart\"')\n",
    "display(messages_smart)"
   ]
  },
  {
   "cell_type": "code",
   "execution_count": 46,
   "metadata": {},
   "outputs": [
    {
     "data": {
      "text/html": [
       "<div>\n",
       "<style scoped>\n",
       "    .dataframe tbody tr th:only-of-type {\n",
       "        vertical-align: middle;\n",
       "    }\n",
       "\n",
       "    .dataframe tbody tr th {\n",
       "        vertical-align: top;\n",
       "    }\n",
       "\n",
       "    .dataframe thead th {\n",
       "        text-align: right;\n",
       "    }\n",
       "</style>\n",
       "<table border=\"1\" class=\"dataframe\">\n",
       "  <thead>\n",
       "    <tr style=\"text-align: right;\">\n",
       "      <th></th>\n",
       "      <th>user_id</th>\n",
       "      <th>month</th>\n",
       "      <th>number_messages</th>\n",
       "      <th>tariff_name</th>\n",
       "      <th>messages_included</th>\n",
       "      <th>rub_per_message</th>\n",
       "      <th>excess_message</th>\n",
       "    </tr>\n",
       "  </thead>\n",
       "  <tbody>\n",
       "    <tr>\n",
       "      <th>0</th>\n",
       "      <td>1000</td>\n",
       "      <td>2018-05-01</td>\n",
       "      <td>22</td>\n",
       "      <td>ultra</td>\n",
       "      <td>1000</td>\n",
       "      <td>1</td>\n",
       "      <td>0</td>\n",
       "    </tr>\n",
       "    <tr>\n",
       "      <th>1</th>\n",
       "      <td>1000</td>\n",
       "      <td>2018-06-01</td>\n",
       "      <td>60</td>\n",
       "      <td>ultra</td>\n",
       "      <td>1000</td>\n",
       "      <td>1</td>\n",
       "      <td>0</td>\n",
       "    </tr>\n",
       "    <tr>\n",
       "      <th>2</th>\n",
       "      <td>1000</td>\n",
       "      <td>2018-07-01</td>\n",
       "      <td>75</td>\n",
       "      <td>ultra</td>\n",
       "      <td>1000</td>\n",
       "      <td>1</td>\n",
       "      <td>0</td>\n",
       "    </tr>\n",
       "    <tr>\n",
       "      <th>3</th>\n",
       "      <td>1000</td>\n",
       "      <td>2018-08-01</td>\n",
       "      <td>81</td>\n",
       "      <td>ultra</td>\n",
       "      <td>1000</td>\n",
       "      <td>1</td>\n",
       "      <td>0</td>\n",
       "    </tr>\n",
       "    <tr>\n",
       "      <th>4</th>\n",
       "      <td>1000</td>\n",
       "      <td>2018-09-01</td>\n",
       "      <td>57</td>\n",
       "      <td>ultra</td>\n",
       "      <td>1000</td>\n",
       "      <td>1</td>\n",
       "      <td>0</td>\n",
       "    </tr>\n",
       "    <tr>\n",
       "      <th>...</th>\n",
       "      <td>...</td>\n",
       "      <td>...</td>\n",
       "      <td>...</td>\n",
       "      <td>...</td>\n",
       "      <td>...</td>\n",
       "      <td>...</td>\n",
       "      <td>...</td>\n",
       "    </tr>\n",
       "    <tr>\n",
       "      <th>790</th>\n",
       "      <td>1495</td>\n",
       "      <td>2018-08-01</td>\n",
       "      <td>13</td>\n",
       "      <td>ultra</td>\n",
       "      <td>1000</td>\n",
       "      <td>1</td>\n",
       "      <td>0</td>\n",
       "    </tr>\n",
       "    <tr>\n",
       "      <th>791</th>\n",
       "      <td>1495</td>\n",
       "      <td>2018-09-01</td>\n",
       "      <td>82</td>\n",
       "      <td>ultra</td>\n",
       "      <td>1000</td>\n",
       "      <td>1</td>\n",
       "      <td>0</td>\n",
       "    </tr>\n",
       "    <tr>\n",
       "      <th>792</th>\n",
       "      <td>1495</td>\n",
       "      <td>2018-10-01</td>\n",
       "      <td>82</td>\n",
       "      <td>ultra</td>\n",
       "      <td>1000</td>\n",
       "      <td>1</td>\n",
       "      <td>0</td>\n",
       "    </tr>\n",
       "    <tr>\n",
       "      <th>793</th>\n",
       "      <td>1495</td>\n",
       "      <td>2018-11-01</td>\n",
       "      <td>79</td>\n",
       "      <td>ultra</td>\n",
       "      <td>1000</td>\n",
       "      <td>1</td>\n",
       "      <td>0</td>\n",
       "    </tr>\n",
       "    <tr>\n",
       "      <th>794</th>\n",
       "      <td>1495</td>\n",
       "      <td>2018-12-01</td>\n",
       "      <td>84</td>\n",
       "      <td>ultra</td>\n",
       "      <td>1000</td>\n",
       "      <td>1</td>\n",
       "      <td>0</td>\n",
       "    </tr>\n",
       "  </tbody>\n",
       "</table>\n",
       "<p>795 rows × 7 columns</p>\n",
       "</div>"
      ],
      "text/plain": [
       "     user_id      month  number_messages tariff_name  messages_included  \\\n",
       "0       1000 2018-05-01               22       ultra               1000   \n",
       "1       1000 2018-06-01               60       ultra               1000   \n",
       "2       1000 2018-07-01               75       ultra               1000   \n",
       "3       1000 2018-08-01               81       ultra               1000   \n",
       "4       1000 2018-09-01               57       ultra               1000   \n",
       "..       ...        ...              ...         ...                ...   \n",
       "790     1495 2018-08-01               13       ultra               1000   \n",
       "791     1495 2018-09-01               82       ultra               1000   \n",
       "792     1495 2018-10-01               82       ultra               1000   \n",
       "793     1495 2018-11-01               79       ultra               1000   \n",
       "794     1495 2018-12-01               84       ultra               1000   \n",
       "\n",
       "     rub_per_message  excess_message  \n",
       "0                  1               0  \n",
       "1                  1               0  \n",
       "2                  1               0  \n",
       "3                  1               0  \n",
       "4                  1               0  \n",
       "..               ...             ...  \n",
       "790                1               0  \n",
       "791                1               0  \n",
       "792                1               0  \n",
       "793                1               0  \n",
       "794                1               0  \n",
       "\n",
       "[795 rows x 7 columns]"
      ]
     },
     "metadata": {},
     "output_type": "display_data"
    }
   ],
   "source": [
    "#создаем таблицу сообщений для тарифа ultra\n",
    "messages_ultra = messages.query('tariff_name == \"ultra\"')\n",
    "display(messages_ultra)"
   ]
  },
  {
   "cell_type": "code",
   "execution_count": 47,
   "metadata": {},
   "outputs": [
    {
     "data": {
      "text/html": [
       "<div>\n",
       "<style scoped>\n",
       "    .dataframe tbody tr th:only-of-type {\n",
       "        vertical-align: middle;\n",
       "    }\n",
       "\n",
       "    .dataframe tbody tr th {\n",
       "        vertical-align: top;\n",
       "    }\n",
       "\n",
       "    .dataframe thead th {\n",
       "        text-align: right;\n",
       "    }\n",
       "</style>\n",
       "<table border=\"1\" class=\"dataframe\">\n",
       "  <thead>\n",
       "    <tr style=\"text-align: right;\">\n",
       "      <th>month</th>\n",
       "      <th>2018-01-01</th>\n",
       "      <th>2018-02-01</th>\n",
       "      <th>2018-03-01</th>\n",
       "      <th>2018-04-01</th>\n",
       "      <th>2018-05-01</th>\n",
       "      <th>2018-06-01</th>\n",
       "      <th>2018-07-01</th>\n",
       "      <th>2018-08-01</th>\n",
       "      <th>2018-09-01</th>\n",
       "      <th>2018-10-01</th>\n",
       "      <th>2018-11-01</th>\n",
       "      <th>2018-12-01</th>\n",
       "    </tr>\n",
       "    <tr>\n",
       "      <th>tariff_name</th>\n",
       "      <th></th>\n",
       "      <th></th>\n",
       "      <th></th>\n",
       "      <th></th>\n",
       "      <th></th>\n",
       "      <th></th>\n",
       "      <th></th>\n",
       "      <th></th>\n",
       "      <th></th>\n",
       "      <th></th>\n",
       "      <th></th>\n",
       "      <th></th>\n",
       "    </tr>\n",
       "  </thead>\n",
       "  <tbody>\n",
       "    <tr>\n",
       "      <th>smart</th>\n",
       "      <td>20.000000</td>\n",
       "      <td>27.9400</td>\n",
       "      <td>35.550725</td>\n",
       "      <td>35.864583</td>\n",
       "      <td>39.032787</td>\n",
       "      <td>38.577465</td>\n",
       "      <td>38.988506</td>\n",
       "      <td>38.750000</td>\n",
       "      <td>39.219731</td>\n",
       "      <td>39.082677</td>\n",
       "      <td>39.881481</td>\n",
       "      <td>42.264808</td>\n",
       "    </tr>\n",
       "    <tr>\n",
       "      <th>ultra</th>\n",
       "      <td>43.428571</td>\n",
       "      <td>32.9375</td>\n",
       "      <td>47.800000</td>\n",
       "      <td>44.512821</td>\n",
       "      <td>48.769231</td>\n",
       "      <td>52.313433</td>\n",
       "      <td>62.136986</td>\n",
       "      <td>58.897727</td>\n",
       "      <td>63.294737</td>\n",
       "      <td>69.776699</td>\n",
       "      <td>66.159292</td>\n",
       "      <td>72.008547</td>\n",
       "    </tr>\n",
       "  </tbody>\n",
       "</table>\n",
       "</div>"
      ],
      "text/plain": [
       "month        2018-01-01  2018-02-01  2018-03-01  2018-04-01  2018-05-01  \\\n",
       "tariff_name                                                               \n",
       "smart         20.000000     27.9400   35.550725   35.864583   39.032787   \n",
       "ultra         43.428571     32.9375   47.800000   44.512821   48.769231   \n",
       "\n",
       "month        2018-06-01  2018-07-01  2018-08-01  2018-09-01  2018-10-01  \\\n",
       "tariff_name                                                               \n",
       "smart         38.577465   38.988506   38.750000   39.219731   39.082677   \n",
       "ultra         52.313433   62.136986   58.897727   63.294737   69.776699   \n",
       "\n",
       "month        2018-11-01  2018-12-01  \n",
       "tariff_name                          \n",
       "smart         39.881481   42.264808  \n",
       "ultra         66.159292   72.008547  "
      ]
     },
     "metadata": {},
     "output_type": "display_data"
    }
   ],
   "source": [
    "#находим среднее количество отправленных сообщений для каждого тарифа по месяцам\n",
    "messages_stat = messages.pivot_table(index=['tariff_name'], columns='month', values='number_messages')\n",
    "display(messages_stat)"
   ]
  },
  {
   "cell_type": "code",
   "execution_count": 48,
   "metadata": {},
   "outputs": [
    {
     "data": {
      "text/html": [
       "<div>\n",
       "<style scoped>\n",
       "    .dataframe tbody tr th:only-of-type {\n",
       "        vertical-align: middle;\n",
       "    }\n",
       "\n",
       "    .dataframe tbody tr th {\n",
       "        vertical-align: top;\n",
       "    }\n",
       "\n",
       "    .dataframe thead th {\n",
       "        text-align: right;\n",
       "    }\n",
       "</style>\n",
       "<table border=\"1\" class=\"dataframe\">\n",
       "  <thead>\n",
       "    <tr style=\"text-align: right;\">\n",
       "      <th>month</th>\n",
       "      <th>2018-01-01</th>\n",
       "      <th>2018-02-01</th>\n",
       "      <th>2018-03-01</th>\n",
       "      <th>2018-04-01</th>\n",
       "      <th>2018-05-01</th>\n",
       "      <th>2018-06-01</th>\n",
       "      <th>2018-07-01</th>\n",
       "      <th>2018-08-01</th>\n",
       "      <th>2018-09-01</th>\n",
       "      <th>2018-10-01</th>\n",
       "      <th>2018-11-01</th>\n",
       "      <th>2018-12-01</th>\n",
       "    </tr>\n",
       "    <tr>\n",
       "      <th>tariff_name</th>\n",
       "      <th></th>\n",
       "      <th></th>\n",
       "      <th></th>\n",
       "      <th></th>\n",
       "      <th></th>\n",
       "      <th></th>\n",
       "      <th></th>\n",
       "      <th></th>\n",
       "      <th></th>\n",
       "      <th></th>\n",
       "      <th></th>\n",
       "      <th></th>\n",
       "    </tr>\n",
       "  </thead>\n",
       "  <tbody>\n",
       "    <tr>\n",
       "      <th>smart</th>\n",
       "      <td>252.133333</td>\n",
       "      <td>440.465714</td>\n",
       "      <td>669.780477</td>\n",
       "      <td>517.86568</td>\n",
       "      <td>638.775776</td>\n",
       "      <td>731.635801</td>\n",
       "      <td>719.352468</td>\n",
       "      <td>767.213054</td>\n",
       "      <td>702.505555</td>\n",
       "      <td>736.503019</td>\n",
       "      <td>711.361366</td>\n",
       "      <td>832.447114</td>\n",
       "    </tr>\n",
       "    <tr>\n",
       "      <th>ultra</th>\n",
       "      <td>765.285714</td>\n",
       "      <td>713.395833</td>\n",
       "      <td>1826.666667</td>\n",
       "      <td>1408.25641</td>\n",
       "      <td>1559.553544</td>\n",
       "      <td>1935.672999</td>\n",
       "      <td>2190.730974</td>\n",
       "      <td>2022.966432</td>\n",
       "      <td>1906.763270</td>\n",
       "      <td>2426.606511</td>\n",
       "      <td>2249.295828</td>\n",
       "      <td>2362.870616</td>\n",
       "    </tr>\n",
       "  </tbody>\n",
       "</table>\n",
       "</div>"
      ],
      "text/plain": [
       "month        2018-01-01  2018-02-01   2018-03-01  2018-04-01   2018-05-01  \\\n",
       "tariff_name                                                                 \n",
       "smart        252.133333  440.465714   669.780477   517.86568   638.775776   \n",
       "ultra        765.285714  713.395833  1826.666667  1408.25641  1559.553544   \n",
       "\n",
       "month         2018-06-01   2018-07-01   2018-08-01   2018-09-01   2018-10-01  \\\n",
       "tariff_name                                                                    \n",
       "smart         731.635801   719.352468   767.213054   702.505555   736.503019   \n",
       "ultra        1935.672999  2190.730974  2022.966432  1906.763270  2426.606511   \n",
       "\n",
       "month         2018-11-01   2018-12-01  \n",
       "tariff_name                            \n",
       "smart         711.361366   832.447114  \n",
       "ultra        2249.295828  2362.870616  "
      ]
     },
     "metadata": {},
     "output_type": "display_data"
    }
   ],
   "source": [
    "#находим дисперсию отправленных сообщений для каждого тарифа по месяцам\n",
    "messages_var = messages.pivot_table(index=['tariff_name'], columns='month', values='number_messages', aggfunc=np.var)\n",
    "display(messages_var)"
   ]
  },
  {
   "cell_type": "code",
   "execution_count": 49,
   "metadata": {},
   "outputs": [
    {
     "data": {
      "text/html": [
       "<div>\n",
       "<style scoped>\n",
       "    .dataframe tbody tr th:only-of-type {\n",
       "        vertical-align: middle;\n",
       "    }\n",
       "\n",
       "    .dataframe tbody tr th {\n",
       "        vertical-align: top;\n",
       "    }\n",
       "\n",
       "    .dataframe thead th {\n",
       "        text-align: right;\n",
       "    }\n",
       "</style>\n",
       "<table border=\"1\" class=\"dataframe\">\n",
       "  <thead>\n",
       "    <tr style=\"text-align: right;\">\n",
       "      <th>month</th>\n",
       "      <th>2018-01-01</th>\n",
       "      <th>2018-02-01</th>\n",
       "      <th>2018-03-01</th>\n",
       "      <th>2018-04-01</th>\n",
       "      <th>2018-05-01</th>\n",
       "      <th>2018-06-01</th>\n",
       "      <th>2018-07-01</th>\n",
       "      <th>2018-08-01</th>\n",
       "      <th>2018-09-01</th>\n",
       "      <th>2018-10-01</th>\n",
       "      <th>2018-11-01</th>\n",
       "      <th>2018-12-01</th>\n",
       "    </tr>\n",
       "    <tr>\n",
       "      <th>tariff_name</th>\n",
       "      <th></th>\n",
       "      <th></th>\n",
       "      <th></th>\n",
       "      <th></th>\n",
       "      <th></th>\n",
       "      <th></th>\n",
       "      <th></th>\n",
       "      <th></th>\n",
       "      <th></th>\n",
       "      <th></th>\n",
       "      <th></th>\n",
       "      <th></th>\n",
       "    </tr>\n",
       "  </thead>\n",
       "  <tbody>\n",
       "    <tr>\n",
       "      <th>smart</th>\n",
       "      <td>15.878707</td>\n",
       "      <td>20.987275</td>\n",
       "      <td>25.880117</td>\n",
       "      <td>22.756662</td>\n",
       "      <td>25.274014</td>\n",
       "      <td>27.048767</td>\n",
       "      <td>26.820747</td>\n",
       "      <td>27.698611</td>\n",
       "      <td>26.504821</td>\n",
       "      <td>27.138589</td>\n",
       "      <td>26.671359</td>\n",
       "      <td>28.852160</td>\n",
       "    </tr>\n",
       "    <tr>\n",
       "      <th>ultra</th>\n",
       "      <td>27.663798</td>\n",
       "      <td>26.709471</td>\n",
       "      <td>42.739521</td>\n",
       "      <td>37.526743</td>\n",
       "      <td>39.491183</td>\n",
       "      <td>43.996284</td>\n",
       "      <td>46.805245</td>\n",
       "      <td>44.977399</td>\n",
       "      <td>43.666501</td>\n",
       "      <td>49.260598</td>\n",
       "      <td>47.426742</td>\n",
       "      <td>48.609368</td>\n",
       "    </tr>\n",
       "  </tbody>\n",
       "</table>\n",
       "</div>"
      ],
      "text/plain": [
       "month        2018-01-01  2018-02-01  2018-03-01  2018-04-01  2018-05-01  \\\n",
       "tariff_name                                                               \n",
       "smart         15.878707   20.987275   25.880117   22.756662   25.274014   \n",
       "ultra         27.663798   26.709471   42.739521   37.526743   39.491183   \n",
       "\n",
       "month        2018-06-01  2018-07-01  2018-08-01  2018-09-01  2018-10-01  \\\n",
       "tariff_name                                                               \n",
       "smart         27.048767   26.820747   27.698611   26.504821   27.138589   \n",
       "ultra         43.996284   46.805245   44.977399   43.666501   49.260598   \n",
       "\n",
       "month        2018-11-01  2018-12-01  \n",
       "tariff_name                          \n",
       "smart         26.671359   28.852160  \n",
       "ultra         47.426742   48.609368  "
      ]
     },
     "metadata": {},
     "output_type": "display_data"
    }
   ],
   "source": [
    "#находим стандартное отклонение отправленных сообщений для каждого тарифа по месяцам\n",
    "messages_std = messages.pivot_table(index=['tariff_name'], columns='month', values='number_messages', aggfunc=np.std)\n",
    "display(messages_std)"
   ]
  },
  {
   "cell_type": "code",
   "execution_count": 50,
   "metadata": {},
   "outputs": [
    {
     "ename": "AttributeError",
     "evalue": "'tuple' object has no attribute 'show'",
     "output_type": "error",
     "traceback": [
      "\u001b[1;31m---------------------------------------------------------------------------\u001b[0m",
      "\u001b[1;31mAttributeError\u001b[0m                            Traceback (most recent call last)",
      "\u001b[1;32mC:\\Users\\2106~1\\AppData\\Local\\Temp/ipykernel_13848/1904134992.py\u001b[0m in \u001b[0;36m<module>\u001b[1;34m\u001b[0m\n\u001b[0;32m      1\u001b[0m \u001b[1;31m#построим гистограмму для каждого тарифа по количеству отправленных сообщений\u001b[0m\u001b[1;33m\u001b[0m\u001b[1;33m\u001b[0m\u001b[0m\n\u001b[0;32m      2\u001b[0m \u001b[0mplot_m\u001b[0m \u001b[1;33m=\u001b[0m \u001b[0mplt\u001b[0m\u001b[1;33m.\u001b[0m\u001b[0mhist\u001b[0m\u001b[1;33m(\u001b[0m\u001b[1;33m[\u001b[0m\u001b[0mmessages_ultra\u001b[0m\u001b[1;33m[\u001b[0m\u001b[1;34m'number_messages'\u001b[0m\u001b[1;33m]\u001b[0m\u001b[1;33m,\u001b[0m \u001b[0mmessages_smart\u001b[0m\u001b[1;33m[\u001b[0m\u001b[1;34m'number_messages'\u001b[0m\u001b[1;33m]\u001b[0m\u001b[1;33m]\u001b[0m\u001b[1;33m,\u001b[0m \u001b[0mbins\u001b[0m\u001b[1;33m=\u001b[0m\u001b[1;36m150\u001b[0m\u001b[1;33m,\u001b[0m \u001b[0mhisttype\u001b[0m\u001b[1;33m=\u001b[0m\u001b[1;34m'step'\u001b[0m\u001b[1;33m)\u001b[0m\u001b[1;33m\u001b[0m\u001b[1;33m\u001b[0m\u001b[0m\n\u001b[1;32m----> 3\u001b[1;33m \u001b[0mplot_m\u001b[0m\u001b[1;33m.\u001b[0m\u001b[0mshow\u001b[0m\u001b[1;33m(\u001b[0m\u001b[1;33m)\u001b[0m\u001b[1;33m\u001b[0m\u001b[1;33m\u001b[0m\u001b[0m\n\u001b[0m",
      "\u001b[1;31mAttributeError\u001b[0m: 'tuple' object has no attribute 'show'"
     ]
    },
    {
     "data": {
      "image/png": "[encoded data removed]",
      "text/plain": [
       "<Figure size 432x288 with 1 Axes>"
      ]
     },
     "metadata": {
      "needs_background": "light"
     },
     "output_type": "display_data"
    }
   ],
   "source": [
    "#построим гистограмму для каждого тарифа по количеству отправленных сообщений\n",
    "plot_m = plt.hist([messages_ultra['number_messages'], messages_smart['number_messages']], bins=150, histtype='step')\n",
    "plot_m.show()"
   ]
  },
  {
   "cell_type": "markdown",
   "metadata": {},
   "source": [
    "<b>Вывод:</b> как и в ситуации со звонками пользователи тарифа Ultra отправляют больше сообщений чем пользователи тарифа Smart. В среднем пользователи обоих тарифов укладываются в пакет тарифа. А количество отправленных сообщений пользователей тарифа Ultra намного меньше, чем доступно в пакете тарифа."
   ]
  },
  {
   "cell_type": "markdown",
   "metadata": {},
   "source": [
    "### Статистические данные для интернет-трафика"
   ]
  },
  {
   "cell_type": "code",
   "execution_count": 51,
   "metadata": {},
   "outputs": [
    {
     "data": {
      "text/html": [
       "<div>\n",
       "<style scoped>\n",
       "    .dataframe tbody tr th:only-of-type {\n",
       "        vertical-align: middle;\n",
       "    }\n",
       "\n",
       "    .dataframe tbody tr th {\n",
       "        vertical-align: top;\n",
       "    }\n",
       "\n",
       "    .dataframe thead th {\n",
       "        text-align: right;\n",
       "    }\n",
       "</style>\n",
       "<table border=\"1\" class=\"dataframe\">\n",
       "  <thead>\n",
       "    <tr style=\"text-align: right;\">\n",
       "      <th></th>\n",
       "      <th>user_id</th>\n",
       "      <th>month</th>\n",
       "      <th>mb_used</th>\n",
       "      <th>gb_used</th>\n",
       "      <th>mb_used_month</th>\n",
       "      <th>tariff_name</th>\n",
       "      <th>mb_per_month_included</th>\n",
       "      <th>rub_per_gb</th>\n",
       "      <th>excess_gb</th>\n",
       "    </tr>\n",
       "  </thead>\n",
       "  <tbody>\n",
       "    <tr>\n",
       "      <th>975</th>\n",
       "      <td>1001</td>\n",
       "      <td>2018-11-01</td>\n",
       "      <td>18429.34</td>\n",
       "      <td>18</td>\n",
       "      <td>18432</td>\n",
       "      <td>smart</td>\n",
       "      <td>15360</td>\n",
       "      <td>200</td>\n",
       "      <td>600.0</td>\n",
       "    </tr>\n",
       "    <tr>\n",
       "      <th>976</th>\n",
       "      <td>1001</td>\n",
       "      <td>2018-12-01</td>\n",
       "      <td>14036.66</td>\n",
       "      <td>14</td>\n",
       "      <td>14336</td>\n",
       "      <td>smart</td>\n",
       "      <td>15360</td>\n",
       "      <td>200</td>\n",
       "      <td>0.0</td>\n",
       "    </tr>\n",
       "    <tr>\n",
       "      <th>977</th>\n",
       "      <td>1002</td>\n",
       "      <td>2018-06-01</td>\n",
       "      <td>10856.82</td>\n",
       "      <td>11</td>\n",
       "      <td>11264</td>\n",
       "      <td>smart</td>\n",
       "      <td>15360</td>\n",
       "      <td>200</td>\n",
       "      <td>0.0</td>\n",
       "    </tr>\n",
       "    <tr>\n",
       "      <th>978</th>\n",
       "      <td>1002</td>\n",
       "      <td>2018-07-01</td>\n",
       "      <td>17580.10</td>\n",
       "      <td>18</td>\n",
       "      <td>18432</td>\n",
       "      <td>smart</td>\n",
       "      <td>15360</td>\n",
       "      <td>200</td>\n",
       "      <td>600.0</td>\n",
       "    </tr>\n",
       "    <tr>\n",
       "      <th>979</th>\n",
       "      <td>1002</td>\n",
       "      <td>2018-08-01</td>\n",
       "      <td>20319.26</td>\n",
       "      <td>20</td>\n",
       "      <td>20480</td>\n",
       "      <td>smart</td>\n",
       "      <td>15360</td>\n",
       "      <td>200</td>\n",
       "      <td>1000.0</td>\n",
       "    </tr>\n",
       "    <tr>\n",
       "      <th>...</th>\n",
       "      <td>...</td>\n",
       "      <td>...</td>\n",
       "      <td>...</td>\n",
       "      <td>...</td>\n",
       "      <td>...</td>\n",
       "      <td>...</td>\n",
       "      <td>...</td>\n",
       "      <td>...</td>\n",
       "      <td>...</td>\n",
       "    </tr>\n",
       "    <tr>\n",
       "      <th>3198</th>\n",
       "      <td>1498</td>\n",
       "      <td>2018-10-01</td>\n",
       "      <td>20579.36</td>\n",
       "      <td>21</td>\n",
       "      <td>21504</td>\n",
       "      <td>smart</td>\n",
       "      <td>15360</td>\n",
       "      <td>200</td>\n",
       "      <td>1200.0</td>\n",
       "    </tr>\n",
       "    <tr>\n",
       "      <th>3199</th>\n",
       "      <td>1499</td>\n",
       "      <td>2018-09-01</td>\n",
       "      <td>1845.75</td>\n",
       "      <td>2</td>\n",
       "      <td>2048</td>\n",
       "      <td>smart</td>\n",
       "      <td>15360</td>\n",
       "      <td>200</td>\n",
       "      <td>0.0</td>\n",
       "    </tr>\n",
       "    <tr>\n",
       "      <th>3200</th>\n",
       "      <td>1499</td>\n",
       "      <td>2018-10-01</td>\n",
       "      <td>17788.51</td>\n",
       "      <td>18</td>\n",
       "      <td>18432</td>\n",
       "      <td>smart</td>\n",
       "      <td>15360</td>\n",
       "      <td>200</td>\n",
       "      <td>600.0</td>\n",
       "    </tr>\n",
       "    <tr>\n",
       "      <th>3201</th>\n",
       "      <td>1499</td>\n",
       "      <td>2018-11-01</td>\n",
       "      <td>17963.31</td>\n",
       "      <td>18</td>\n",
       "      <td>18432</td>\n",
       "      <td>smart</td>\n",
       "      <td>15360</td>\n",
       "      <td>200</td>\n",
       "      <td>600.0</td>\n",
       "    </tr>\n",
       "    <tr>\n",
       "      <th>3202</th>\n",
       "      <td>1499</td>\n",
       "      <td>2018-12-01</td>\n",
       "      <td>13055.58</td>\n",
       "      <td>13</td>\n",
       "      <td>13312</td>\n",
       "      <td>smart</td>\n",
       "      <td>15360</td>\n",
       "      <td>200</td>\n",
       "      <td>0.0</td>\n",
       "    </tr>\n",
       "  </tbody>\n",
       "</table>\n",
       "<p>2228 rows × 9 columns</p>\n",
       "</div>"
      ],
      "text/plain": [
       "      user_id      month   mb_used  gb_used  mb_used_month tariff_name  \\\n",
       "975      1001 2018-11-01  18429.34       18          18432       smart   \n",
       "976      1001 2018-12-01  14036.66       14          14336       smart   \n",
       "977      1002 2018-06-01  10856.82       11          11264       smart   \n",
       "978      1002 2018-07-01  17580.10       18          18432       smart   \n",
       "979      1002 2018-08-01  20319.26       20          20480       smart   \n",
       "...       ...        ...       ...      ...            ...         ...   \n",
       "3198     1498 2018-10-01  20579.36       21          21504       smart   \n",
       "3199     1499 2018-09-01   1845.75        2           2048       smart   \n",
       "3200     1499 2018-10-01  17788.51       18          18432       smart   \n",
       "3201     1499 2018-11-01  17963.31       18          18432       smart   \n",
       "3202     1499 2018-12-01  13055.58       13          13312       smart   \n",
       "\n",
       "      mb_per_month_included  rub_per_gb  excess_gb  \n",
       "975                   15360         200      600.0  \n",
       "976                   15360         200        0.0  \n",
       "977                   15360         200        0.0  \n",
       "978                   15360         200      600.0  \n",
       "979                   15360         200     1000.0  \n",
       "...                     ...         ...        ...  \n",
       "3198                  15360         200     1200.0  \n",
       "3199                  15360         200        0.0  \n",
       "3200                  15360         200      600.0  \n",
       "3201                  15360         200      600.0  \n",
       "3202                  15360         200        0.0  \n",
       "\n",
       "[2228 rows x 9 columns]"
      ]
     },
     "metadata": {},
     "output_type": "display_data"
    }
   ],
   "source": [
    "#создаем таблицу интернет-трафика для тарифа smart\n",
    "internet_smart = internet.query('tariff_name == \"smart\"')\n",
    "display(internet_smart)"
   ]
  },
  {
   "cell_type": "code",
   "execution_count": 52,
   "metadata": {},
   "outputs": [
    {
     "data": {
      "text/html": [
       "<div>\n",
       "<style scoped>\n",
       "    .dataframe tbody tr th:only-of-type {\n",
       "        vertical-align: middle;\n",
       "    }\n",
       "\n",
       "    .dataframe tbody tr th {\n",
       "        vertical-align: top;\n",
       "    }\n",
       "\n",
       "    .dataframe thead th {\n",
       "        text-align: right;\n",
       "    }\n",
       "</style>\n",
       "<table border=\"1\" class=\"dataframe\">\n",
       "  <thead>\n",
       "    <tr style=\"text-align: right;\">\n",
       "      <th></th>\n",
       "      <th>user_id</th>\n",
       "      <th>month</th>\n",
       "      <th>mb_used</th>\n",
       "      <th>gb_used</th>\n",
       "      <th>mb_used_month</th>\n",
       "      <th>tariff_name</th>\n",
       "      <th>mb_per_month_included</th>\n",
       "      <th>rub_per_gb</th>\n",
       "      <th>excess_gb</th>\n",
       "    </tr>\n",
       "  </thead>\n",
       "  <tbody>\n",
       "    <tr>\n",
       "      <th>0</th>\n",
       "      <td>1000</td>\n",
       "      <td>2018-05-01</td>\n",
       "      <td>2253.49</td>\n",
       "      <td>3</td>\n",
       "      <td>3072</td>\n",
       "      <td>ultra</td>\n",
       "      <td>30720</td>\n",
       "      <td>150</td>\n",
       "      <td>0.0</td>\n",
       "    </tr>\n",
       "    <tr>\n",
       "      <th>1</th>\n",
       "      <td>1000</td>\n",
       "      <td>2018-06-01</td>\n",
       "      <td>23233.77</td>\n",
       "      <td>23</td>\n",
       "      <td>23552</td>\n",
       "      <td>ultra</td>\n",
       "      <td>30720</td>\n",
       "      <td>150</td>\n",
       "      <td>0.0</td>\n",
       "    </tr>\n",
       "    <tr>\n",
       "      <th>2</th>\n",
       "      <td>1000</td>\n",
       "      <td>2018-07-01</td>\n",
       "      <td>14003.64</td>\n",
       "      <td>14</td>\n",
       "      <td>14336</td>\n",
       "      <td>ultra</td>\n",
       "      <td>30720</td>\n",
       "      <td>150</td>\n",
       "      <td>0.0</td>\n",
       "    </tr>\n",
       "    <tr>\n",
       "      <th>3</th>\n",
       "      <td>1000</td>\n",
       "      <td>2018-08-01</td>\n",
       "      <td>14055.93</td>\n",
       "      <td>14</td>\n",
       "      <td>14336</td>\n",
       "      <td>ultra</td>\n",
       "      <td>30720</td>\n",
       "      <td>150</td>\n",
       "      <td>0.0</td>\n",
       "    </tr>\n",
       "    <tr>\n",
       "      <th>4</th>\n",
       "      <td>1000</td>\n",
       "      <td>2018-09-01</td>\n",
       "      <td>14568.91</td>\n",
       "      <td>15</td>\n",
       "      <td>15360</td>\n",
       "      <td>ultra</td>\n",
       "      <td>30720</td>\n",
       "      <td>150</td>\n",
       "      <td>0.0</td>\n",
       "    </tr>\n",
       "    <tr>\n",
       "      <th>...</th>\n",
       "      <td>...</td>\n",
       "      <td>...</td>\n",
       "      <td>...</td>\n",
       "      <td>...</td>\n",
       "      <td>...</td>\n",
       "      <td>...</td>\n",
       "      <td>...</td>\n",
       "      <td>...</td>\n",
       "      <td>...</td>\n",
       "    </tr>\n",
       "    <tr>\n",
       "      <th>970</th>\n",
       "      <td>1495</td>\n",
       "      <td>2018-08-01</td>\n",
       "      <td>2614.07</td>\n",
       "      <td>3</td>\n",
       "      <td>3072</td>\n",
       "      <td>ultra</td>\n",
       "      <td>30720</td>\n",
       "      <td>150</td>\n",
       "      <td>0.0</td>\n",
       "    </tr>\n",
       "    <tr>\n",
       "      <th>971</th>\n",
       "      <td>1495</td>\n",
       "      <td>2018-09-01</td>\n",
       "      <td>33067.62</td>\n",
       "      <td>33</td>\n",
       "      <td>33792</td>\n",
       "      <td>ultra</td>\n",
       "      <td>30720</td>\n",
       "      <td>150</td>\n",
       "      <td>450.0</td>\n",
       "    </tr>\n",
       "    <tr>\n",
       "      <th>972</th>\n",
       "      <td>1495</td>\n",
       "      <td>2018-10-01</td>\n",
       "      <td>29363.00</td>\n",
       "      <td>29</td>\n",
       "      <td>29696</td>\n",
       "      <td>ultra</td>\n",
       "      <td>30720</td>\n",
       "      <td>150</td>\n",
       "      <td>0.0</td>\n",
       "    </tr>\n",
       "    <tr>\n",
       "      <th>973</th>\n",
       "      <td>1495</td>\n",
       "      <td>2018-11-01</td>\n",
       "      <td>38939.11</td>\n",
       "      <td>39</td>\n",
       "      <td>39936</td>\n",
       "      <td>ultra</td>\n",
       "      <td>30720</td>\n",
       "      <td>150</td>\n",
       "      <td>1350.0</td>\n",
       "    </tr>\n",
       "    <tr>\n",
       "      <th>974</th>\n",
       "      <td>1495</td>\n",
       "      <td>2018-12-01</td>\n",
       "      <td>23426.76</td>\n",
       "      <td>23</td>\n",
       "      <td>23552</td>\n",
       "      <td>ultra</td>\n",
       "      <td>30720</td>\n",
       "      <td>150</td>\n",
       "      <td>0.0</td>\n",
       "    </tr>\n",
       "  </tbody>\n",
       "</table>\n",
       "<p>975 rows × 9 columns</p>\n",
       "</div>"
      ],
      "text/plain": [
       "     user_id      month   mb_used  gb_used  mb_used_month tariff_name  \\\n",
       "0       1000 2018-05-01   2253.49        3           3072       ultra   \n",
       "1       1000 2018-06-01  23233.77       23          23552       ultra   \n",
       "2       1000 2018-07-01  14003.64       14          14336       ultra   \n",
       "3       1000 2018-08-01  14055.93       14          14336       ultra   \n",
       "4       1000 2018-09-01  14568.91       15          15360       ultra   \n",
       "..       ...        ...       ...      ...            ...         ...   \n",
       "970     1495 2018-08-01   2614.07        3           3072       ultra   \n",
       "971     1495 2018-09-01  33067.62       33          33792       ultra   \n",
       "972     1495 2018-10-01  29363.00       29          29696       ultra   \n",
       "973     1495 2018-11-01  38939.11       39          39936       ultra   \n",
       "974     1495 2018-12-01  23426.76       23          23552       ultra   \n",
       "\n",
       "     mb_per_month_included  rub_per_gb  excess_gb  \n",
       "0                    30720         150        0.0  \n",
       "1                    30720         150        0.0  \n",
       "2                    30720         150        0.0  \n",
       "3                    30720         150        0.0  \n",
       "4                    30720         150        0.0  \n",
       "..                     ...         ...        ...  \n",
       "970                  30720         150        0.0  \n",
       "971                  30720         150      450.0  \n",
       "972                  30720         150        0.0  \n",
       "973                  30720         150     1350.0  \n",
       "974                  30720         150        0.0  \n",
       "\n",
       "[975 rows x 9 columns]"
      ]
     },
     "metadata": {},
     "output_type": "display_data"
    }
   ],
   "source": [
    "#создаем таблицу интернет-трафика для тарифа ultra\n",
    "internet_ultra = internet.query('tariff_name == \"ultra\"')\n",
    "display(internet_ultra)"
   ]
  },
  {
   "cell_type": "code",
   "execution_count": 53,
   "metadata": {},
   "outputs": [
    {
     "data": {
      "text/html": [
       "<div>\n",
       "<style scoped>\n",
       "    .dataframe tbody tr th:only-of-type {\n",
       "        vertical-align: middle;\n",
       "    }\n",
       "\n",
       "    .dataframe tbody tr th {\n",
       "        vertical-align: top;\n",
       "    }\n",
       "\n",
       "    .dataframe thead th {\n",
       "        text-align: right;\n",
       "    }\n",
       "</style>\n",
       "<table border=\"1\" class=\"dataframe\">\n",
       "  <thead>\n",
       "    <tr style=\"text-align: right;\">\n",
       "      <th>month</th>\n",
       "      <th>2018-01-01</th>\n",
       "      <th>2018-02-01</th>\n",
       "      <th>2018-03-01</th>\n",
       "      <th>2018-04-01</th>\n",
       "      <th>2018-05-01</th>\n",
       "      <th>2018-06-01</th>\n",
       "      <th>2018-07-01</th>\n",
       "      <th>2018-08-01</th>\n",
       "      <th>2018-09-01</th>\n",
       "      <th>2018-10-01</th>\n",
       "      <th>2018-11-01</th>\n",
       "      <th>2018-12-01</th>\n",
       "    </tr>\n",
       "    <tr>\n",
       "      <th>tariff_name</th>\n",
       "      <th></th>\n",
       "      <th></th>\n",
       "      <th></th>\n",
       "      <th></th>\n",
       "      <th></th>\n",
       "      <th></th>\n",
       "      <th></th>\n",
       "      <th></th>\n",
       "      <th></th>\n",
       "      <th></th>\n",
       "      <th></th>\n",
       "      <th></th>\n",
       "    </tr>\n",
       "  </thead>\n",
       "  <tbody>\n",
       "    <tr>\n",
       "      <th>smart</th>\n",
       "      <td>8.735294</td>\n",
       "      <td>11.844828</td>\n",
       "      <td>15.233766</td>\n",
       "      <td>13.625000</td>\n",
       "      <td>15.907801</td>\n",
       "      <td>15.951220</td>\n",
       "      <td>15.875622</td>\n",
       "      <td>16.807692</td>\n",
       "      <td>16.392308</td>\n",
       "      <td>16.880952</td>\n",
       "      <td>17.000000</td>\n",
       "      <td>18.201780</td>\n",
       "    </tr>\n",
       "    <tr>\n",
       "      <th>ultra</th>\n",
       "      <td>13.222222</td>\n",
       "      <td>13.090909</td>\n",
       "      <td>17.648649</td>\n",
       "      <td>16.963636</td>\n",
       "      <td>19.666667</td>\n",
       "      <td>19.168675</td>\n",
       "      <td>20.733333</td>\n",
       "      <td>19.783019</td>\n",
       "      <td>19.412281</td>\n",
       "      <td>20.229508</td>\n",
       "      <td>19.954887</td>\n",
       "      <td>21.898551</td>\n",
       "    </tr>\n",
       "  </tbody>\n",
       "</table>\n",
       "</div>"
      ],
      "text/plain": [
       "month        2018-01-01  2018-02-01  2018-03-01  2018-04-01  2018-05-01  \\\n",
       "tariff_name                                                               \n",
       "smart          8.735294   11.844828   15.233766   13.625000   15.907801   \n",
       "ultra         13.222222   13.090909   17.648649   16.963636   19.666667   \n",
       "\n",
       "month        2018-06-01  2018-07-01  2018-08-01  2018-09-01  2018-10-01  \\\n",
       "tariff_name                                                               \n",
       "smart         15.951220   15.875622   16.807692   16.392308   16.880952   \n",
       "ultra         19.168675   20.733333   19.783019   19.412281   20.229508   \n",
       "\n",
       "month        2018-11-01  2018-12-01  \n",
       "tariff_name                          \n",
       "smart         17.000000   18.201780  \n",
       "ultra         19.954887   21.898551  "
      ]
     },
     "metadata": {},
     "output_type": "display_data"
    }
   ],
   "source": [
    "#находим среднее количество использованного трафика для каждого тарифа по месяцам\n",
    "internet_stat = internet.pivot_table(index=['tariff_name'], columns='month', values='gb_used')\n",
    "display(internet_stat)"
   ]
  },
  {
   "cell_type": "code",
   "execution_count": 54,
   "metadata": {},
   "outputs": [
    {
     "data": {
      "text/html": [
       "<div>\n",
       "<style scoped>\n",
       "    .dataframe tbody tr th:only-of-type {\n",
       "        vertical-align: middle;\n",
       "    }\n",
       "\n",
       "    .dataframe tbody tr th {\n",
       "        vertical-align: top;\n",
       "    }\n",
       "\n",
       "    .dataframe thead th {\n",
       "        text-align: right;\n",
       "    }\n",
       "</style>\n",
       "<table border=\"1\" class=\"dataframe\">\n",
       "  <thead>\n",
       "    <tr style=\"text-align: right;\">\n",
       "      <th>month</th>\n",
       "      <th>2018-01-01</th>\n",
       "      <th>2018-02-01</th>\n",
       "      <th>2018-03-01</th>\n",
       "      <th>2018-04-01</th>\n",
       "      <th>2018-05-01</th>\n",
       "      <th>2018-06-01</th>\n",
       "      <th>2018-07-01</th>\n",
       "      <th>2018-08-01</th>\n",
       "      <th>2018-09-01</th>\n",
       "      <th>2018-10-01</th>\n",
       "      <th>2018-11-01</th>\n",
       "      <th>2018-12-01</th>\n",
       "    </tr>\n",
       "    <tr>\n",
       "      <th>tariff_name</th>\n",
       "      <th></th>\n",
       "      <th></th>\n",
       "      <th></th>\n",
       "      <th></th>\n",
       "      <th></th>\n",
       "      <th></th>\n",
       "      <th></th>\n",
       "      <th></th>\n",
       "      <th></th>\n",
       "      <th></th>\n",
       "      <th></th>\n",
       "      <th></th>\n",
       "    </tr>\n",
       "  </thead>\n",
       "  <tbody>\n",
       "    <tr>\n",
       "      <th>smart</th>\n",
       "      <td>39.412656</td>\n",
       "      <td>37.150938</td>\n",
       "      <td>32.549897</td>\n",
       "      <td>31.299550</td>\n",
       "      <td>34.370010</td>\n",
       "      <td>31.911716</td>\n",
       "      <td>33.419453</td>\n",
       "      <td>28.962859</td>\n",
       "      <td>25.884110</td>\n",
       "      <td>32.897042</td>\n",
       "      <td>27.180952</td>\n",
       "      <td>29.786544</td>\n",
       "    </tr>\n",
       "    <tr>\n",
       "      <th>ultra</th>\n",
       "      <td>44.444444</td>\n",
       "      <td>104.562771</td>\n",
       "      <td>114.345345</td>\n",
       "      <td>89.443098</td>\n",
       "      <td>91.241026</td>\n",
       "      <td>78.971202</td>\n",
       "      <td>92.737079</td>\n",
       "      <td>102.457233</td>\n",
       "      <td>83.713476</td>\n",
       "      <td>88.657634</td>\n",
       "      <td>91.513101</td>\n",
       "      <td>100.515180</td>\n",
       "    </tr>\n",
       "  </tbody>\n",
       "</table>\n",
       "</div>"
      ],
      "text/plain": [
       "month        2018-01-01  2018-02-01  2018-03-01  2018-04-01  2018-05-01  \\\n",
       "tariff_name                                                               \n",
       "smart         39.412656   37.150938   32.549897   31.299550   34.370010   \n",
       "ultra         44.444444  104.562771  114.345345   89.443098   91.241026   \n",
       "\n",
       "month        2018-06-01  2018-07-01  2018-08-01  2018-09-01  2018-10-01  \\\n",
       "tariff_name                                                               \n",
       "smart         31.911716   33.419453   28.962859   25.884110   32.897042   \n",
       "ultra         78.971202   92.737079  102.457233   83.713476   88.657634   \n",
       "\n",
       "month        2018-11-01  2018-12-01  \n",
       "tariff_name                          \n",
       "smart         27.180952   29.786544  \n",
       "ultra         91.513101  100.515180  "
      ]
     },
     "metadata": {},
     "output_type": "display_data"
    }
   ],
   "source": [
    "#находим дисперсию использованного трафика для каждого тарифа по месяцам\n",
    "internet_var = internet.pivot_table(index=['tariff_name'], columns='month', values='gb_used', aggfunc=np.var)\n",
    "display(internet_var)"
   ]
  },
  {
   "cell_type": "code",
   "execution_count": 55,
   "metadata": {},
   "outputs": [
    {
     "data": {
      "text/html": [
       "<div>\n",
       "<style scoped>\n",
       "    .dataframe tbody tr th:only-of-type {\n",
       "        vertical-align: middle;\n",
       "    }\n",
       "\n",
       "    .dataframe tbody tr th {\n",
       "        vertical-align: top;\n",
       "    }\n",
       "\n",
       "    .dataframe thead th {\n",
       "        text-align: right;\n",
       "    }\n",
       "</style>\n",
       "<table border=\"1\" class=\"dataframe\">\n",
       "  <thead>\n",
       "    <tr style=\"text-align: right;\">\n",
       "      <th>month</th>\n",
       "      <th>2018-01-01</th>\n",
       "      <th>2018-02-01</th>\n",
       "      <th>2018-03-01</th>\n",
       "      <th>2018-04-01</th>\n",
       "      <th>2018-05-01</th>\n",
       "      <th>2018-06-01</th>\n",
       "      <th>2018-07-01</th>\n",
       "      <th>2018-08-01</th>\n",
       "      <th>2018-09-01</th>\n",
       "      <th>2018-10-01</th>\n",
       "      <th>2018-11-01</th>\n",
       "      <th>2018-12-01</th>\n",
       "    </tr>\n",
       "    <tr>\n",
       "      <th>tariff_name</th>\n",
       "      <th></th>\n",
       "      <th></th>\n",
       "      <th></th>\n",
       "      <th></th>\n",
       "      <th></th>\n",
       "      <th></th>\n",
       "      <th></th>\n",
       "      <th></th>\n",
       "      <th></th>\n",
       "      <th></th>\n",
       "      <th></th>\n",
       "      <th></th>\n",
       "    </tr>\n",
       "  </thead>\n",
       "  <tbody>\n",
       "    <tr>\n",
       "      <th>smart</th>\n",
       "      <td>6.277950</td>\n",
       "      <td>6.095157</td>\n",
       "      <td>5.705252</td>\n",
       "      <td>5.594600</td>\n",
       "      <td>5.862594</td>\n",
       "      <td>5.649046</td>\n",
       "      <td>5.780956</td>\n",
       "      <td>5.381715</td>\n",
       "      <td>5.087643</td>\n",
       "      <td>5.735594</td>\n",
       "      <td>5.213535</td>\n",
       "      <td>5.457705</td>\n",
       "    </tr>\n",
       "    <tr>\n",
       "      <th>ultra</th>\n",
       "      <td>6.666667</td>\n",
       "      <td>10.225594</td>\n",
       "      <td>10.693238</td>\n",
       "      <td>9.457436</td>\n",
       "      <td>9.552017</td>\n",
       "      <td>8.886574</td>\n",
       "      <td>9.630009</td>\n",
       "      <td>10.122116</td>\n",
       "      <td>9.149507</td>\n",
       "      <td>9.415818</td>\n",
       "      <td>9.566248</td>\n",
       "      <td>10.025726</td>\n",
       "    </tr>\n",
       "  </tbody>\n",
       "</table>\n",
       "</div>"
      ],
      "text/plain": [
       "month        2018-01-01  2018-02-01  2018-03-01  2018-04-01  2018-05-01  \\\n",
       "tariff_name                                                               \n",
       "smart          6.277950    6.095157    5.705252    5.594600    5.862594   \n",
       "ultra          6.666667   10.225594   10.693238    9.457436    9.552017   \n",
       "\n",
       "month        2018-06-01  2018-07-01  2018-08-01  2018-09-01  2018-10-01  \\\n",
       "tariff_name                                                               \n",
       "smart          5.649046    5.780956    5.381715    5.087643    5.735594   \n",
       "ultra          8.886574    9.630009   10.122116    9.149507    9.415818   \n",
       "\n",
       "month        2018-11-01  2018-12-01  \n",
       "tariff_name                          \n",
       "smart          5.213535    5.457705  \n",
       "ultra          9.566248   10.025726  "
      ]
     },
     "metadata": {},
     "output_type": "display_data"
    }
   ],
   "source": [
    "#находим стандартное отклонение использованного трафика для каждого тарифа по месяцам\n",
    "internet_std = internet.pivot_table(index=['tariff_name'], columns='month', values='gb_used', aggfunc=np.std)\n",
    "display(internet_std)"
   ]
  },
  {
   "cell_type": "code",
   "execution_count": 56,
   "metadata": {},
   "outputs": [
    {
     "ename": "AttributeError",
     "evalue": "'tuple' object has no attribute 'show'",
     "output_type": "error",
     "traceback": [
      "\u001b[1;31m---------------------------------------------------------------------------\u001b[0m",
      "\u001b[1;31mAttributeError\u001b[0m                            Traceback (most recent call last)",
      "\u001b[1;32mC:\\Users\\2106~1\\AppData\\Local\\Temp/ipykernel_13848/3650580962.py\u001b[0m in \u001b[0;36m<module>\u001b[1;34m\u001b[0m\n\u001b[0;32m      1\u001b[0m \u001b[1;31m#построим гистограмму для каждого тарифа по количеству использованных Гб\u001b[0m\u001b[1;33m\u001b[0m\u001b[1;33m\u001b[0m\u001b[0m\n\u001b[0;32m      2\u001b[0m \u001b[0mplot_i\u001b[0m \u001b[1;33m=\u001b[0m \u001b[0mplt\u001b[0m\u001b[1;33m.\u001b[0m\u001b[0mhist\u001b[0m\u001b[1;33m(\u001b[0m\u001b[1;33m[\u001b[0m\u001b[0minternet_ultra\u001b[0m\u001b[1;33m[\u001b[0m\u001b[1;34m'gb_used'\u001b[0m\u001b[1;33m]\u001b[0m\u001b[1;33m,\u001b[0m \u001b[0minternet_smart\u001b[0m\u001b[1;33m[\u001b[0m\u001b[1;34m'gb_used'\u001b[0m\u001b[1;33m]\u001b[0m\u001b[1;33m]\u001b[0m\u001b[1;33m,\u001b[0m \u001b[0mbins\u001b[0m\u001b[1;33m=\u001b[0m\u001b[1;36m30\u001b[0m\u001b[1;33m,\u001b[0m \u001b[0mhisttype\u001b[0m\u001b[1;33m=\u001b[0m\u001b[1;34m'step'\u001b[0m\u001b[1;33m)\u001b[0m\u001b[1;33m\u001b[0m\u001b[1;33m\u001b[0m\u001b[0m\n\u001b[1;32m----> 3\u001b[1;33m \u001b[0mplot_i\u001b[0m\u001b[1;33m.\u001b[0m\u001b[0mshow\u001b[0m\u001b[1;33m(\u001b[0m\u001b[1;33m)\u001b[0m\u001b[1;33m\u001b[0m\u001b[1;33m\u001b[0m\u001b[0m\n\u001b[0m",
      "\u001b[1;31mAttributeError\u001b[0m: 'tuple' object has no attribute 'show'"
     ]
    },
    {
     "data": {
      "image/png": "[encoded data removed]",
      "text/plain": [
       "<Figure size 432x288 with 1 Axes>"
      ]
     },
     "metadata": {
      "needs_background": "light"
     },
     "output_type": "display_data"
    }
   ],
   "source": [
    "#построим гистограмму для каждого тарифа по количеству использованных Гб\n",
    "plot_i = plt.hist([internet_ultra['gb_used'], internet_smart['gb_used']], bins=30, histtype='step')\n",
    "plot_i.show()"
   ]
  },
  {
   "cell_type": "markdown",
   "metadata": {},
   "source": [
    "<b>Вывод:</b> в большинстве случаев пользователи тарифа Smart не укладываются в имеющийся в пакете тарифа интернет-трафик, у пользователей пакета Ultra такой проблемы нет."
   ]
  },
  {
   "cell_type": "markdown",
   "metadata": {},
   "source": [
    "## Шаг 4. Проверка гипотез"
   ]
  },
  {
   "cell_type": "markdown",
   "metadata": {},
   "source": [
    "<b>Нулевая гипотеза:</b> Средняя выручка пользователей тарифов «Ультра» и «Смарт» равны\n",
    "\n",
    "<b>Альтернативная гипотеза:</b> Средняя выручка пользователей тарифов «Ультра» и «Смарт» различны"
   ]
  },
  {
   "cell_type": "code",
   "execution_count": 57,
   "metadata": {},
   "outputs": [
    {
     "name": "stdout",
     "output_type": "stream",
     "text": [
      "p-значение: 2.983728825353049e-40\n",
      "Отвергаем нулевую гипотезу\n"
     ]
    }
   ],
   "source": [
    "#проверка гипотезы с использованием t-теста\n",
    "from scipy import stats as st\n",
    "sample_1 = excess_user_smart['total']\n",
    "sample_2 = excess_user_ultra['total']\n",
    "alpha = .05\n",
    "\n",
    "results = st.ttest_ind(\n",
    "    sample_1, \n",
    "    sample_2)\n",
    "\n",
    "print('p-значение:', results.pvalue)\n",
    "\n",
    "if  results.pvalue < alpha:\n",
    "    print(\"Отвергаем нулевую гипотезу\")\n",
    "else:\n",
    "    print(\"Не получилось отвергнуть нулевую гипотезу\")"
   ]
  },
  {
   "cell_type": "markdown",
   "metadata": {},
   "source": [
    "<b>Вывод:</b> Полученное значение p-value говорит о том, что средняя выручка  пользователей тарифов Ultra и Smart имеют значительные различия"
   ]
  },
  {
   "cell_type": "markdown",
   "metadata": {},
   "source": [
    "<b>Нулевая гипотеза: </b>Средняя выручка пользователей из Москвы равна выручке пользователей из других регионов\n",
    "\n",
    "<b>Альтернативная гипотеза:</b> Средняя выручка пользователей из Москвы отличается от выручки пользователей из других регионов"
   ]
  },
  {
   "cell_type": "code",
   "execution_count": 58,
   "metadata": {},
   "outputs": [
    {
     "name": "stdout",
     "output_type": "stream",
     "text": [
      "p-значение: 0.36094633224451433\n",
      "Не получилось отвергнуть нулевую гипотезу\n"
     ]
    }
   ],
   "source": [
    "#проверка гипотезы с использованием t-теста\n",
    "sample_3 = excess_user_mos['total']\n",
    "sample_4 = excess_user_other['total']\n",
    "alpha = .05\n",
    "\n",
    "results = st.ttest_ind(\n",
    "    sample_3, \n",
    "    sample_4)\n",
    "\n",
    "print('p-значение:', results.pvalue)\n",
    "\n",
    "if  results.pvalue < alpha:\n",
    "    print(\"Отвергаем нулевую гипотезу\")\n",
    "else:\n",
    "    print(\"Не получилось отвергнуть нулевую гипотезу\")"
   ]
  },
  {
   "cell_type": "markdown",
   "metadata": {},
   "source": [
    "<b>Вывод:</b> Полученное значение p-value говорит о том, что вероятность получить такое или большее различие случайно почти 35%, это говорит о том, что нельзя сделать вывод о значимом различии между средними выручками."
   ]
  },
  {
   "cell_type": "markdown",
   "metadata": {},
   "source": [
    "## Вывод"
   ]
  },
  {
   "cell_type": "markdown",
   "metadata": {},
   "source": [
    "<b>Краткий обзор проведённой работы.</b> В ходе исследования были проанализированы таблицы с данными о звонках, отправленных сообщениях и использованном интернет-трафике пользователей компании \"Мегалайн\". Данные были приведены к корректному виду. Получена информация по действиям каждого пользователя и для каждого расчитана выручка. Также с помощью статистического исследования были получены данные о поведении пользователей по месяцам и построены графики. В заключении были проверены гипотезы о тратах пользователей в зависимости от тарифа и от региона.\n",
    "\n",
    "<b>Главные выводы.</b> \n",
    "\n",
    "В среднем пользователи обоих тарифов укладываются в пакет тарифа по звонками и сообщениям, а вот интернет-трафик часто превышают объем, заложенный в пакете тарифного плана, для пользователей обоих тарифов.\n",
    "В среднем в январе, феврале и марте пользователи реже пользуются телефоном.\n",
    "Пользователи тарифа смарт и ультра приносят компании \"Мегалайн\" разную выручку. Выручка по тарифу смарт примерно в 1,5 раз больше выручки по тарифу ультра. Исходя из полученных данных количество пользователей тарифа смарт приблизительно в 2 раза больше чем пользователей тарифа ультра, при этом пользователи тарифа смарт чаще превышают объем предоставленных в пакете данных и следовательно несут дополнительные расходы. А вот разница в выручке в зависимости от региона (Москва и другие) - отсутсвует."
   ]
  }
 ],
 "metadata": {
  "ExecuteTimeLog": [
   {
    "duration": 715,
    "start_time": "2022-04-17T12:31:36.058Z"
   },
   {
    "duration": 247,
    "start_time": "2022-04-17T12:32:15.242Z"
   },
   {
    "duration": 11,
    "start_time": "2022-04-17T12:32:27.149Z"
   },
   {
    "duration": 89,
    "start_time": "2022-04-17T12:32:37.578Z"
   },
   {
    "duration": 196,
    "start_time": "2022-04-17T12:32:53.528Z"
   },
   {
    "duration": 136,
    "start_time": "2022-04-17T12:33:20.437Z"
   },
   {
    "duration": 30,
    "start_time": "2022-04-17T12:33:47.197Z"
   },
   {
    "duration": 53,
    "start_time": "2022-04-17T12:34:03.235Z"
   },
   {
    "duration": 61,
    "start_time": "2022-04-17T12:34:44.513Z"
   },
   {
    "duration": 162,
    "start_time": "2022-04-17T12:35:09.465Z"
   },
   {
    "duration": 38,
    "start_time": "2022-04-17T12:35:34.875Z"
   },
   {
    "duration": 132,
    "start_time": "2022-04-17T12:35:52.496Z"
   },
   {
    "duration": 20,
    "start_time": "2022-04-17T12:36:04.727Z"
   },
   {
    "duration": 45,
    "start_time": "2022-04-17T12:36:28.501Z"
   },
   {
    "duration": 51,
    "start_time": "2022-04-17T12:36:38.201Z"
   },
   {
    "duration": 32,
    "start_time": "2022-04-17T12:36:57.438Z"
   },
   {
    "duration": 34,
    "start_time": "2022-04-17T12:37:07.033Z"
   },
   {
    "duration": 47,
    "start_time": "2022-04-17T12:37:16.122Z"
   },
   {
    "duration": 794,
    "start_time": "2022-04-23T11:27:56.782Z"
   },
   {
    "duration": 16,
    "start_time": "2022-04-23T11:28:02.424Z"
   },
   {
    "duration": 245,
    "start_time": "2022-04-23T11:28:06.283Z"
   },
   {
    "duration": 156,
    "start_time": "2022-04-23T11:28:11.137Z"
   },
   {
    "duration": 32,
    "start_time": "2022-04-23T11:28:14.741Z"
   },
   {
    "duration": 46,
    "start_time": "2022-04-23T11:28:19.984Z"
   },
   {
    "duration": 72,
    "start_time": "2022-04-23T11:28:26.197Z"
   },
   {
    "duration": 252,
    "start_time": "2022-04-23T11:28:31.798Z"
   },
   {
    "duration": 38,
    "start_time": "2022-04-23T11:28:36.377Z"
   },
   {
    "duration": 21,
    "start_time": "2022-04-23T11:28:38.861Z"
   },
   {
    "duration": 50,
    "start_time": "2022-04-23T11:28:42.537Z"
   },
   {
    "duration": 60,
    "start_time": "2022-04-23T11:28:44.980Z"
   },
   {
    "duration": 41,
    "start_time": "2022-04-23T11:28:47.106Z"
   },
   {
    "duration": 35,
    "start_time": "2022-04-23T11:28:49.538Z"
   },
   {
    "duration": 22,
    "start_time": "2022-04-23T11:28:53.181Z"
   },
   {
    "duration": 2248,
    "start_time": "2022-04-23T11:33:53.594Z"
   },
   {
    "duration": 35,
    "start_time": "2022-04-23T11:34:28.956Z"
   },
   {
    "duration": 829,
    "start_time": "2022-04-23T11:35:41.407Z"
   },
   {
    "duration": 11,
    "start_time": "2022-04-23T11:35:45.106Z"
   },
   {
    "duration": 226,
    "start_time": "2022-04-23T11:35:46.946Z"
   },
   {
    "duration": 161,
    "start_time": "2022-04-23T11:35:49.301Z"
   },
   {
    "duration": 40,
    "start_time": "2022-04-23T11:35:51.223Z"
   },
   {
    "duration": 51,
    "start_time": "2022-04-23T11:35:53.327Z"
   },
   {
    "duration": 66,
    "start_time": "2022-04-23T11:36:21.656Z"
   },
   {
    "duration": 81,
    "start_time": "2022-04-23T11:37:13.608Z"
   },
   {
    "duration": 48,
    "start_time": "2022-04-23T11:37:17.039Z"
   },
   {
    "duration": 115,
    "start_time": "2022-04-23T11:37:38.284Z"
   },
   {
    "duration": 2272,
    "start_time": "2022-04-23T11:37:54.608Z"
   },
   {
    "duration": 11,
    "start_time": "2022-04-23T11:37:59.892Z"
   },
   {
    "duration": 239,
    "start_time": "2022-04-23T11:38:01.902Z"
   },
   {
    "duration": 160,
    "start_time": "2022-04-23T11:38:03.977Z"
   },
   {
    "duration": 38,
    "start_time": "2022-04-23T11:38:05.612Z"
   },
   {
    "duration": 52,
    "start_time": "2022-04-23T11:38:07.178Z"
   },
   {
    "duration": 72,
    "start_time": "2022-04-23T11:38:09.483Z"
   },
   {
    "duration": 63,
    "start_time": "2022-04-23T11:38:11.721Z"
   },
   {
    "duration": 41,
    "start_time": "2022-04-23T11:38:16.698Z"
   },
   {
    "duration": 20,
    "start_time": "2022-04-23T11:39:20.837Z"
   },
   {
    "duration": 44,
    "start_time": "2022-04-23T11:39:28.739Z"
   },
   {
    "duration": 55,
    "start_time": "2022-04-23T11:39:34.393Z"
   },
   {
    "duration": 45,
    "start_time": "2022-04-23T11:40:08.825Z"
   },
   {
    "duration": 39,
    "start_time": "2022-04-23T11:40:13.402Z"
   },
   {
    "duration": 20,
    "start_time": "2022-04-23T11:40:22.748Z"
   },
   {
    "duration": 42,
    "start_time": "2022-04-23T11:42:37.621Z"
   },
   {
    "duration": 35,
    "start_time": "2022-04-23T11:44:55.647Z"
   },
   {
    "duration": 43,
    "start_time": "2022-04-23T11:51:01.842Z"
   },
   {
    "duration": 19,
    "start_time": "2022-04-23T12:22:09.058Z"
   },
   {
    "duration": 21,
    "start_time": "2022-04-23T12:22:18.925Z"
   },
   {
    "duration": 256,
    "start_time": "2022-04-23T12:23:03.788Z"
   },
   {
    "duration": 11,
    "start_time": "2022-04-23T12:23:06.248Z"
   },
   {
    "duration": 211,
    "start_time": "2022-04-23T12:23:08.276Z"
   },
   {
    "duration": 143,
    "start_time": "2022-04-23T12:23:10.084Z"
   },
   {
    "duration": 30,
    "start_time": "2022-04-23T12:23:12.077Z"
   },
   {
    "duration": 47,
    "start_time": "2022-04-23T12:23:14.234Z"
   },
   {
    "duration": 58,
    "start_time": "2022-04-23T12:23:16.356Z"
   },
   {
    "duration": 53,
    "start_time": "2022-04-23T12:23:18.330Z"
   },
   {
    "duration": 35,
    "start_time": "2022-04-23T12:23:20.421Z"
   },
   {
    "duration": 19,
    "start_time": "2022-04-23T12:23:22.676Z"
   },
   {
    "duration": 43,
    "start_time": "2022-04-23T12:23:24.984Z"
   },
   {
    "duration": 46,
    "start_time": "2022-04-23T12:23:26.795Z"
   },
   {
    "duration": 32,
    "start_time": "2022-04-23T12:23:28.757Z"
   },
   {
    "duration": 31,
    "start_time": "2022-04-23T12:23:30.688Z"
   },
   {
    "duration": 39,
    "start_time": "2022-04-23T12:23:32.608Z"
   },
   {
    "duration": 32,
    "start_time": "2022-04-23T12:23:34.460Z"
   },
   {
    "duration": 113,
    "start_time": "2022-04-23T12:23:36.725Z"
   },
   {
    "duration": 19,
    "start_time": "2022-04-23T12:23:47.515Z"
   },
   {
    "duration": 35,
    "start_time": "2022-04-23T12:33:34.766Z"
   },
   {
    "duration": 17,
    "start_time": "2022-04-23T12:34:25.882Z"
   },
   {
    "duration": 22,
    "start_time": "2022-04-23T12:40:10.337Z"
   },
   {
    "duration": 819,
    "start_time": "2022-04-23T12:40:33.181Z"
   },
   {
    "duration": 11,
    "start_time": "2022-04-23T12:40:36.524Z"
   },
   {
    "duration": 212,
    "start_time": "2022-04-23T12:40:37.816Z"
   },
   {
    "duration": 141,
    "start_time": "2022-04-23T12:40:38.947Z"
   },
   {
    "duration": 32,
    "start_time": "2022-04-23T12:40:40.020Z"
   },
   {
    "duration": 41,
    "start_time": "2022-04-23T12:40:40.978Z"
   },
   {
    "duration": 65,
    "start_time": "2022-04-23T12:40:43.242Z"
   },
   {
    "duration": 84,
    "start_time": "2022-04-23T12:40:44.807Z"
   },
   {
    "duration": 39,
    "start_time": "2022-04-23T12:40:46.292Z"
   },
   {
    "duration": 20,
    "start_time": "2022-04-23T12:40:47.612Z"
   },
   {
    "duration": 46,
    "start_time": "2022-04-23T12:40:49.512Z"
   },
   {
    "duration": 53,
    "start_time": "2022-04-23T12:40:50.617Z"
   },
   {
    "duration": 115,
    "start_time": "2022-04-23T12:40:52.393Z"
   },
   {
    "duration": 33,
    "start_time": "2022-04-23T12:40:56.781Z"
   },
   {
    "duration": 35,
    "start_time": "2022-04-23T12:40:59.704Z"
   },
   {
    "duration": 39,
    "start_time": "2022-04-23T12:41:01.745Z"
   },
   {
    "duration": 43,
    "start_time": "2022-04-23T12:41:03.927Z"
   },
   {
    "duration": 19,
    "start_time": "2022-04-23T12:41:05.995Z"
   },
   {
    "duration": 20,
    "start_time": "2022-04-23T12:41:18.126Z"
   },
   {
    "duration": 20,
    "start_time": "2022-04-23T12:41:22.052Z"
   },
   {
    "duration": 22,
    "start_time": "2022-04-23T12:41:33.212Z"
   },
   {
    "duration": 247,
    "start_time": "2022-04-23T12:43:05.872Z"
   },
   {
    "duration": 10,
    "start_time": "2022-04-23T12:43:09.605Z"
   },
   {
    "duration": 755,
    "start_time": "2022-04-23T12:43:17.733Z"
   },
   {
    "duration": 11,
    "start_time": "2022-04-23T12:43:22.234Z"
   },
   {
    "duration": 211,
    "start_time": "2022-04-23T12:43:25.286Z"
   },
   {
    "duration": 147,
    "start_time": "2022-04-23T12:43:28.118Z"
   },
   {
    "duration": 31,
    "start_time": "2022-04-23T12:43:31.226Z"
   },
   {
    "duration": 39,
    "start_time": "2022-04-23T12:43:36.143Z"
   },
   {
    "duration": 65,
    "start_time": "2022-04-23T12:43:40.787Z"
   },
   {
    "duration": 56,
    "start_time": "2022-04-23T12:43:43.309Z"
   },
   {
    "duration": 37,
    "start_time": "2022-04-23T12:43:45.852Z"
   },
   {
    "duration": 21,
    "start_time": "2022-04-23T12:43:48.784Z"
   },
   {
    "duration": 46,
    "start_time": "2022-04-23T12:43:51.579Z"
   },
   {
    "duration": 50,
    "start_time": "2022-04-23T12:43:55.557Z"
   },
   {
    "duration": 33,
    "start_time": "2022-04-23T12:43:58.370Z"
   },
   {
    "duration": 35,
    "start_time": "2022-04-23T12:44:00.860Z"
   },
   {
    "duration": 39,
    "start_time": "2022-04-23T12:44:03.415Z"
   },
   {
    "duration": 42,
    "start_time": "2022-04-23T12:44:05.935Z"
   },
   {
    "duration": 22,
    "start_time": "2022-04-23T12:44:35.042Z"
   },
   {
    "duration": 104,
    "start_time": "2022-04-23T12:45:21.122Z"
   },
   {
    "duration": 22,
    "start_time": "2022-04-23T12:45:34.287Z"
   },
   {
    "duration": 11,
    "start_time": "2022-04-23T12:46:39.336Z"
   },
   {
    "duration": 13,
    "start_time": "2022-04-23T12:47:02.559Z"
   },
   {
    "duration": 750,
    "start_time": "2022-04-23T12:48:54.630Z"
   },
   {
    "duration": 754,
    "start_time": "2022-04-23T12:49:28.462Z"
   },
   {
    "duration": 11,
    "start_time": "2022-04-23T12:49:30.866Z"
   },
   {
    "duration": 205,
    "start_time": "2022-04-23T12:49:32.529Z"
   },
   {
    "duration": 139,
    "start_time": "2022-04-23T12:49:34.311Z"
   },
   {
    "duration": 30,
    "start_time": "2022-04-23T12:49:35.995Z"
   },
   {
    "duration": 41,
    "start_time": "2022-04-23T12:49:37.860Z"
   },
   {
    "duration": 67,
    "start_time": "2022-04-23T12:49:41.170Z"
   },
   {
    "duration": 58,
    "start_time": "2022-04-23T12:49:42.964Z"
   },
   {
    "duration": 36,
    "start_time": "2022-04-23T12:49:44.579Z"
   },
   {
    "duration": 21,
    "start_time": "2022-04-23T12:49:46.427Z"
   },
   {
    "duration": 45,
    "start_time": "2022-04-23T12:49:48.140Z"
   },
   {
    "duration": 52,
    "start_time": "2022-04-23T12:49:49.867Z"
   },
   {
    "duration": 34,
    "start_time": "2022-04-23T12:49:52.290Z"
   },
   {
    "duration": 36,
    "start_time": "2022-04-23T12:49:55.706Z"
   },
   {
    "duration": 38,
    "start_time": "2022-04-23T12:49:57.499Z"
   },
   {
    "duration": 42,
    "start_time": "2022-04-23T12:49:59.314Z"
   },
   {
    "duration": 20,
    "start_time": "2022-04-23T12:50:19.726Z"
   },
   {
    "duration": 20,
    "start_time": "2022-04-23T12:50:30.812Z"
   },
   {
    "duration": 5,
    "start_time": "2022-04-23T12:53:07.180Z"
   },
   {
    "duration": 110,
    "start_time": "2022-04-23T12:55:54.867Z"
   },
   {
    "duration": 93,
    "start_time": "2022-04-23T12:56:02.874Z"
   },
   {
    "duration": 92,
    "start_time": "2022-04-23T12:56:30.669Z"
   },
   {
    "duration": 816,
    "start_time": "2022-04-23T12:58:01.386Z"
   },
   {
    "duration": 10,
    "start_time": "2022-04-23T12:58:04.166Z"
   },
   {
    "duration": 242,
    "start_time": "2022-04-23T12:58:06.038Z"
   },
   {
    "duration": 164,
    "start_time": "2022-04-23T12:58:08.111Z"
   },
   {
    "duration": 32,
    "start_time": "2022-04-23T12:58:10.446Z"
   },
   {
    "duration": 41,
    "start_time": "2022-04-23T12:58:16.854Z"
   },
   {
    "duration": 66,
    "start_time": "2022-04-23T12:58:25.627Z"
   },
   {
    "duration": 57,
    "start_time": "2022-04-23T12:58:27.453Z"
   },
   {
    "duration": 46,
    "start_time": "2022-04-23T12:58:30.008Z"
   },
   {
    "duration": 20,
    "start_time": "2022-04-23T12:58:32.385Z"
   },
   {
    "duration": 46,
    "start_time": "2022-04-23T12:59:21.641Z"
   },
   {
    "duration": 49,
    "start_time": "2022-04-23T12:59:23.952Z"
   },
   {
    "duration": 33,
    "start_time": "2022-04-23T12:59:27.068Z"
   },
   {
    "duration": 45,
    "start_time": "2022-04-23T12:59:29.104Z"
   },
   {
    "duration": 41,
    "start_time": "2022-04-23T12:59:32.088Z"
   },
   {
    "duration": 41,
    "start_time": "2022-04-23T12:59:42.961Z"
   },
   {
    "duration": 20,
    "start_time": "2022-04-23T13:00:04.151Z"
   },
   {
    "duration": 20,
    "start_time": "2022-04-23T13:00:13.852Z"
   },
   {
    "duration": 754,
    "start_time": "2022-04-23T13:02:16.348Z"
   },
   {
    "duration": 829,
    "start_time": "2022-04-23T13:02:28.507Z"
   },
   {
    "duration": 16,
    "start_time": "2022-04-23T13:02:31.618Z"
   },
   {
    "duration": 232,
    "start_time": "2022-04-23T13:02:33.208Z"
   },
   {
    "duration": 162,
    "start_time": "2022-04-23T13:02:34.788Z"
   },
   {
    "duration": 32,
    "start_time": "2022-04-23T13:02:36.562Z"
   },
   {
    "duration": 44,
    "start_time": "2022-04-23T13:02:39.132Z"
   },
   {
    "duration": 72,
    "start_time": "2022-04-23T13:02:41.198Z"
   },
   {
    "duration": 58,
    "start_time": "2022-04-23T13:02:43.138Z"
   },
   {
    "duration": 47,
    "start_time": "2022-04-23T13:02:44.921Z"
   },
   {
    "duration": 26,
    "start_time": "2022-04-23T13:02:46.791Z"
   },
   {
    "duration": 47,
    "start_time": "2022-04-23T13:02:48.434Z"
   },
   {
    "duration": 51,
    "start_time": "2022-04-23T13:02:50.321Z"
   },
   {
    "duration": 33,
    "start_time": "2022-04-23T13:02:52.383Z"
   },
   {
    "duration": 34,
    "start_time": "2022-04-23T13:02:54.152Z"
   },
   {
    "duration": 38,
    "start_time": "2022-04-23T13:02:56.240Z"
   },
   {
    "duration": 41,
    "start_time": "2022-04-23T13:03:00.040Z"
   },
   {
    "duration": 21,
    "start_time": "2022-04-23T13:03:02.796Z"
   },
   {
    "duration": 21,
    "start_time": "2022-04-23T13:03:04.842Z"
   },
   {
    "duration": 144,
    "start_time": "2022-04-23T13:14:13.211Z"
   },
   {
    "duration": 13,
    "start_time": "2022-04-23T13:14:17.600Z"
   },
   {
    "duration": 828,
    "start_time": "2022-04-23T13:14:28.608Z"
   },
   {
    "duration": 10,
    "start_time": "2022-04-23T13:14:32.662Z"
   },
   {
    "duration": 254,
    "start_time": "2022-04-23T13:14:34.712Z"
   },
   {
    "duration": 148,
    "start_time": "2022-04-23T13:14:36.499Z"
   },
   {
    "duration": 32,
    "start_time": "2022-04-23T13:14:39.760Z"
   },
   {
    "duration": 14,
    "start_time": "2022-04-23T13:14:42.338Z"
   },
   {
    "duration": 47,
    "start_time": "2022-04-23T13:14:45.092Z"
   },
   {
    "duration": 21,
    "start_time": "2022-04-23T13:15:43.136Z"
   },
   {
    "duration": 64,
    "start_time": "2022-04-23T13:15:47.838Z"
   },
   {
    "duration": 54,
    "start_time": "2022-04-23T13:15:49.656Z"
   },
   {
    "duration": 38,
    "start_time": "2022-04-23T13:15:51.468Z"
   },
   {
    "duration": 20,
    "start_time": "2022-04-23T13:15:53.199Z"
   },
   {
    "duration": 50,
    "start_time": "2022-04-23T13:15:55.197Z"
   },
   {
    "duration": 56,
    "start_time": "2022-04-23T13:15:57.177Z"
   },
   {
    "duration": 32,
    "start_time": "2022-04-23T13:16:01.341Z"
   },
   {
    "duration": 34,
    "start_time": "2022-04-23T13:16:03.238Z"
   },
   {
    "duration": 48,
    "start_time": "2022-04-23T13:16:04.999Z"
   },
   {
    "duration": 49,
    "start_time": "2022-04-23T13:16:19.999Z"
   },
   {
    "duration": 20,
    "start_time": "2022-04-23T13:16:24.338Z"
   },
   {
    "duration": 29,
    "start_time": "2022-04-23T13:16:26.609Z"
   },
   {
    "duration": 1029,
    "start_time": "2022-04-23T13:17:40.382Z"
   },
   {
    "duration": 849,
    "start_time": "2022-04-23T13:17:48.116Z"
   },
   {
    "duration": 11,
    "start_time": "2022-04-23T13:17:51.206Z"
   },
   {
    "duration": 235,
    "start_time": "2022-04-23T13:17:52.883Z"
   },
   {
    "duration": 146,
    "start_time": "2022-04-23T13:17:54.892Z"
   },
   {
    "duration": 32,
    "start_time": "2022-04-23T13:17:56.641Z"
   },
   {
    "duration": 14,
    "start_time": "2022-04-23T13:17:58.609Z"
   },
   {
    "duration": 51,
    "start_time": "2022-04-23T13:18:01.118Z"
   },
   {
    "duration": 23,
    "start_time": "2022-04-23T13:18:07.262Z"
   },
   {
    "duration": 11,
    "start_time": "2022-04-23T13:19:08.041Z"
   },
   {
    "duration": 22,
    "start_time": "2022-04-23T13:19:23.796Z"
   },
   {
    "duration": 13,
    "start_time": "2022-04-23T13:19:38.793Z"
   },
   {
    "duration": 78,
    "start_time": "2022-04-23T13:19:46.583Z"
   },
   {
    "duration": 56,
    "start_time": "2022-04-23T13:19:48.450Z"
   },
   {
    "duration": 46,
    "start_time": "2022-04-23T13:19:50.198Z"
   },
   {
    "duration": 19,
    "start_time": "2022-04-23T13:19:51.764Z"
   },
   {
    "duration": 51,
    "start_time": "2022-04-23T13:19:53.508Z"
   },
   {
    "duration": 61,
    "start_time": "2022-04-23T13:19:55.622Z"
   },
   {
    "duration": 33,
    "start_time": "2022-04-23T13:19:57.280Z"
   },
   {
    "duration": 36,
    "start_time": "2022-04-23T13:19:59.170Z"
   },
   {
    "duration": 48,
    "start_time": "2022-04-23T13:20:01.099Z"
   },
   {
    "duration": 42,
    "start_time": "2022-04-23T13:20:02.675Z"
   },
   {
    "duration": 20,
    "start_time": "2022-04-23T13:20:04.938Z"
   },
   {
    "duration": 13,
    "start_time": "2022-04-23T13:20:11.970Z"
   },
   {
    "duration": 21,
    "start_time": "2022-04-23T13:20:35.655Z"
   },
   {
    "duration": 182,
    "start_time": "2022-04-23T13:27:50.705Z"
   },
   {
    "duration": 40,
    "start_time": "2022-04-23T13:27:57.107Z"
   },
   {
    "duration": 821,
    "start_time": "2022-04-23T13:28:35.000Z"
   },
   {
    "duration": 11,
    "start_time": "2022-04-23T13:28:38.397Z"
   },
   {
    "duration": 240,
    "start_time": "2022-04-23T13:28:40.247Z"
   },
   {
    "duration": 183,
    "start_time": "2022-04-23T13:28:42.784Z"
   },
   {
    "duration": 42,
    "start_time": "2022-04-23T13:28:45.042Z"
   },
   {
    "duration": 85,
    "start_time": "2022-04-23T13:28:57.121Z"
   },
   {
    "duration": 87,
    "start_time": "2022-04-23T13:29:10.285Z"
   },
   {
    "duration": 74,
    "start_time": "2022-04-23T13:29:12.086Z"
   },
   {
    "duration": 50,
    "start_time": "2022-04-23T13:29:13.830Z"
   },
   {
    "duration": 20,
    "start_time": "2022-04-23T13:29:15.658Z"
   },
   {
    "duration": 57,
    "start_time": "2022-04-23T13:29:17.395Z"
   },
   {
    "duration": 83,
    "start_time": "2022-04-23T13:29:19.164Z"
   },
   {
    "duration": 32,
    "start_time": "2022-04-23T13:29:20.978Z"
   },
   {
    "duration": 34,
    "start_time": "2022-04-23T13:29:23.376Z"
   },
   {
    "duration": 39,
    "start_time": "2022-04-23T13:29:25.271Z"
   },
   {
    "duration": 42,
    "start_time": "2022-04-23T13:29:27.573Z"
   },
   {
    "duration": 21,
    "start_time": "2022-04-23T13:29:29.683Z"
   },
   {
    "duration": 18,
    "start_time": "2022-04-23T13:29:44.085Z"
   },
   {
    "duration": 39,
    "start_time": "2022-04-23T13:33:39.946Z"
   },
   {
    "duration": 8,
    "start_time": "2022-04-23T13:34:41.509Z"
   },
   {
    "duration": 5,
    "start_time": "2022-04-23T13:35:05.791Z"
   },
   {
    "duration": 107,
    "start_time": "2022-04-23T13:35:08.172Z"
   },
   {
    "duration": 87,
    "start_time": "2022-04-23T13:35:17.539Z"
   },
   {
    "duration": 32,
    "start_time": "2022-04-23T13:38:42.127Z"
   },
   {
    "duration": 123,
    "start_time": "2022-04-23T13:41:25.845Z"
   },
   {
    "duration": 4,
    "start_time": "2022-04-23T13:41:32.351Z"
   },
   {
    "duration": 24,
    "start_time": "2022-04-23T13:41:34.051Z"
   },
   {
    "duration": 844,
    "start_time": "2022-04-23T13:42:00.835Z"
   },
   {
    "duration": 11,
    "start_time": "2022-04-23T13:42:03.271Z"
   },
   {
    "duration": 349,
    "start_time": "2022-04-23T13:42:04.783Z"
   },
   {
    "duration": 160,
    "start_time": "2022-04-23T13:42:06.849Z"
   },
   {
    "duration": 33,
    "start_time": "2022-04-23T13:42:08.540Z"
   },
   {
    "duration": 56,
    "start_time": "2022-04-23T13:42:10.249Z"
   },
   {
    "duration": 80,
    "start_time": "2022-04-23T13:42:12.875Z"
   },
   {
    "duration": 64,
    "start_time": "2022-04-23T13:42:14.619Z"
   },
   {
    "duration": 45,
    "start_time": "2022-04-23T13:42:16.446Z"
   },
   {
    "duration": 30,
    "start_time": "2022-04-23T13:42:17.986Z"
   },
   {
    "duration": 70,
    "start_time": "2022-04-23T13:42:19.600Z"
   },
   {
    "duration": 51,
    "start_time": "2022-04-23T13:42:21.269Z"
   },
   {
    "duration": 36,
    "start_time": "2022-04-23T13:42:23.056Z"
   },
   {
    "duration": 49,
    "start_time": "2022-04-23T13:42:24.705Z"
   },
   {
    "duration": 55,
    "start_time": "2022-04-23T13:42:26.614Z"
   },
   {
    "duration": 51,
    "start_time": "2022-04-23T13:42:30.040Z"
   },
   {
    "duration": 46,
    "start_time": "2022-04-23T13:42:33.310Z"
   },
   {
    "duration": 23,
    "start_time": "2022-04-23T13:42:37.159Z"
   },
   {
    "duration": 8,
    "start_time": "2022-04-23T13:42:40.191Z"
   },
   {
    "duration": 4,
    "start_time": "2022-04-23T13:43:21.075Z"
   },
   {
    "duration": 173,
    "start_time": "2022-04-23T13:43:23.397Z"
   },
   {
    "duration": 19,
    "start_time": "2022-04-23T13:43:40.276Z"
   },
   {
    "duration": 20,
    "start_time": "2022-04-23T13:45:25.251Z"
   },
   {
    "duration": 42,
    "start_time": "2022-04-23T13:46:30.030Z"
   },
   {
    "duration": 5,
    "start_time": "2022-04-23T13:47:23.888Z"
   },
   {
    "duration": 135,
    "start_time": "2022-04-23T13:47:46.615Z"
   },
   {
    "duration": 21,
    "start_time": "2022-04-23T13:49:51.374Z"
   },
   {
    "duration": 25,
    "start_time": "2022-04-23T13:51:21.595Z"
   },
   {
    "duration": 10,
    "start_time": "2022-04-23T13:53:49.322Z"
   },
   {
    "duration": 2590,
    "start_time": "2022-04-23T13:54:48.978Z"
   },
   {
    "duration": 124,
    "start_time": "2022-04-23T13:56:28.844Z"
   },
   {
    "duration": 864,
    "start_time": "2022-04-23T13:56:54.247Z"
   },
   {
    "duration": 10,
    "start_time": "2022-04-23T13:56:57.050Z"
   },
   {
    "duration": 226,
    "start_time": "2022-04-23T13:56:58.946Z"
   },
   {
    "duration": 177,
    "start_time": "2022-04-23T13:57:00.918Z"
   },
   {
    "duration": 54,
    "start_time": "2022-04-23T13:57:03.712Z"
   },
   {
    "duration": 46,
    "start_time": "2022-04-23T13:57:05.492Z"
   },
   {
    "duration": 124,
    "start_time": "2022-04-23T13:57:08.512Z"
   },
   {
    "duration": 79,
    "start_time": "2022-04-23T13:57:10.294Z"
   },
   {
    "duration": 65,
    "start_time": "2022-04-23T13:57:13.209Z"
   },
   {
    "duration": 41,
    "start_time": "2022-04-23T13:57:15.699Z"
   },
   {
    "duration": 45,
    "start_time": "2022-04-23T13:57:17.672Z"
   },
   {
    "duration": 62,
    "start_time": "2022-04-23T13:57:19.376Z"
   },
   {
    "duration": 53,
    "start_time": "2022-04-23T13:57:21.314Z"
   },
   {
    "duration": 35,
    "start_time": "2022-04-23T13:57:22.972Z"
   },
   {
    "duration": 38,
    "start_time": "2022-04-23T13:57:25.057Z"
   },
   {
    "duration": 55,
    "start_time": "2022-04-23T13:57:26.700Z"
   },
   {
    "duration": 33,
    "start_time": "2022-04-23T13:57:29.723Z"
   },
   {
    "duration": 36,
    "start_time": "2022-04-23T13:57:31.722Z"
   },
   {
    "duration": 14,
    "start_time": "2022-04-23T13:57:35.228Z"
   },
   {
    "duration": 6,
    "start_time": "2022-04-23T13:57:37.358Z"
   },
   {
    "duration": 133,
    "start_time": "2022-04-23T13:57:46.865Z"
   },
   {
    "duration": 23,
    "start_time": "2022-04-23T13:57:50.939Z"
   },
   {
    "duration": 31,
    "start_time": "2022-04-23T13:57:59.407Z"
   },
   {
    "duration": 4,
    "start_time": "2022-04-23T13:58:02.996Z"
   },
   {
    "duration": 103,
    "start_time": "2022-04-23T13:58:05.058Z"
   },
   {
    "duration": 30,
    "start_time": "2022-04-23T13:58:11.666Z"
   },
   {
    "duration": 26,
    "start_time": "2022-04-23T13:58:13.610Z"
   },
   {
    "duration": 7,
    "start_time": "2022-04-23T13:58:15.839Z"
   },
   {
    "duration": 114,
    "start_time": "2022-04-23T13:58:18.143Z"
   },
   {
    "duration": 73,
    "start_time": "2022-04-23T14:01:40.847Z"
   },
   {
    "duration": 33,
    "start_time": "2022-04-23T14:02:03.967Z"
   },
   {
    "duration": 2570,
    "start_time": "2022-04-23T15:19:21.746Z"
   },
   {
    "duration": 10,
    "start_time": "2022-04-23T15:19:50.190Z"
   },
   {
    "duration": 1284,
    "start_time": "2022-04-23T15:20:28.702Z"
   },
   {
    "duration": 2122,
    "start_time": "2022-04-23T15:23:11.682Z"
   },
   {
    "duration": 14,
    "start_time": "2022-04-23T15:24:25.559Z"
   },
   {
    "duration": 1101,
    "start_time": "2022-04-23T15:26:00.411Z"
   },
   {
    "duration": 19,
    "start_time": "2022-04-23T15:26:19.371Z"
   },
   {
    "duration": 111,
    "start_time": "2022-04-23T15:26:54.845Z"
   },
   {
    "duration": 2218,
    "start_time": "2022-04-23T15:29:29.738Z"
   },
   {
    "duration": 121,
    "start_time": "2022-04-23T15:29:51.421Z"
   },
   {
    "duration": 4,
    "start_time": "2022-04-23T15:31:02.109Z"
   },
   {
    "duration": 136,
    "start_time": "2022-04-23T15:31:04.522Z"
   },
   {
    "duration": 20,
    "start_time": "2022-04-23T15:31:25.348Z"
   },
   {
    "duration": 142,
    "start_time": "2022-04-23T15:33:39.341Z"
   },
   {
    "duration": 17,
    "start_time": "2022-04-23T15:33:45.022Z"
   },
   {
    "duration": 21,
    "start_time": "2022-04-23T15:34:04.774Z"
   },
   {
    "duration": 18,
    "start_time": "2022-04-23T15:34:38.624Z"
   },
   {
    "duration": 29,
    "start_time": "2022-04-23T15:40:12.201Z"
   },
   {
    "duration": 821,
    "start_time": "2022-04-23T15:43:58.587Z"
   },
   {
    "duration": 11,
    "start_time": "2022-04-23T15:44:00.755Z"
   },
   {
    "duration": 242,
    "start_time": "2022-04-23T15:44:02.312Z"
   },
   {
    "duration": 167,
    "start_time": "2022-04-23T15:44:04.095Z"
   },
   {
    "duration": 31,
    "start_time": "2022-04-23T15:44:05.948Z"
   },
   {
    "duration": 38,
    "start_time": "2022-04-23T15:44:11.440Z"
   },
   {
    "duration": 69,
    "start_time": "2022-04-23T15:44:14.627Z"
   },
   {
    "duration": 65,
    "start_time": "2022-04-23T15:44:17.282Z"
   },
   {
    "duration": 36,
    "start_time": "2022-04-23T15:44:19.357Z"
   },
   {
    "duration": 19,
    "start_time": "2022-04-23T15:44:21.442Z"
   },
   {
    "duration": 47,
    "start_time": "2022-04-23T15:44:23.643Z"
   },
   {
    "duration": 58,
    "start_time": "2022-04-23T15:44:25.374Z"
   },
   {
    "duration": 33,
    "start_time": "2022-04-23T15:44:28.167Z"
   },
   {
    "duration": 36,
    "start_time": "2022-04-23T15:44:29.770Z"
   },
   {
    "duration": 43,
    "start_time": "2022-04-23T15:44:32.490Z"
   },
   {
    "duration": 42,
    "start_time": "2022-04-23T15:44:34.177Z"
   },
   {
    "duration": 21,
    "start_time": "2022-04-23T15:44:36.856Z"
   },
   {
    "duration": 21,
    "start_time": "2022-04-23T15:44:38.365Z"
   },
   {
    "duration": 10,
    "start_time": "2022-04-23T15:44:40.319Z"
   },
   {
    "duration": 6,
    "start_time": "2022-04-23T15:44:42.192Z"
   },
   {
    "duration": 115,
    "start_time": "2022-04-23T15:44:43.877Z"
   },
   {
    "duration": 20,
    "start_time": "2022-04-23T15:44:46.175Z"
   },
   {
    "duration": 26,
    "start_time": "2022-04-23T15:44:47.713Z"
   },
   {
    "duration": 5,
    "start_time": "2022-04-23T15:44:49.736Z"
   },
   {
    "duration": 101,
    "start_time": "2022-04-23T15:44:51.383Z"
   },
   {
    "duration": 29,
    "start_time": "2022-04-23T15:44:54.200Z"
   },
   {
    "duration": 25,
    "start_time": "2022-04-23T15:44:55.838Z"
   },
   {
    "duration": 5,
    "start_time": "2022-04-23T15:44:57.506Z"
   },
   {
    "duration": 136,
    "start_time": "2022-04-23T15:44:59.212Z"
   },
   {
    "duration": 19,
    "start_time": "2022-04-23T15:45:02.386Z"
   },
   {
    "duration": 39,
    "start_time": "2022-04-23T15:45:07.659Z"
   },
   {
    "duration": 38,
    "start_time": "2022-04-23T15:46:28.801Z"
   },
   {
    "duration": 23,
    "start_time": "2022-04-23T15:55:06.097Z"
   },
   {
    "duration": 19,
    "start_time": "2022-04-23T15:57:20.156Z"
   },
   {
    "duration": 23,
    "start_time": "2022-04-23T16:09:31.549Z"
   },
   {
    "duration": 777,
    "start_time": "2022-05-04T08:55:16.107Z"
   },
   {
    "duration": 11,
    "start_time": "2022-05-04T08:55:18.279Z"
   },
   {
    "duration": 207,
    "start_time": "2022-05-04T08:55:19.561Z"
   },
   {
    "duration": 140,
    "start_time": "2022-05-04T08:55:20.745Z"
   },
   {
    "duration": 32,
    "start_time": "2022-05-04T08:55:21.960Z"
   },
   {
    "duration": 46,
    "start_time": "2022-05-04T08:55:23.220Z"
   },
   {
    "duration": 67,
    "start_time": "2022-05-04T08:55:25.643Z"
   },
   {
    "duration": 56,
    "start_time": "2022-05-04T08:55:28.398Z"
   },
   {
    "duration": 38,
    "start_time": "2022-05-04T08:55:29.739Z"
   },
   {
    "duration": 21,
    "start_time": "2022-05-04T08:55:31.364Z"
   },
   {
    "duration": 48,
    "start_time": "2022-05-04T08:55:32.840Z"
   },
   {
    "duration": 52,
    "start_time": "2022-05-04T08:55:35.161Z"
   },
   {
    "duration": 34,
    "start_time": "2022-05-04T08:55:37.503Z"
   },
   {
    "duration": 34,
    "start_time": "2022-05-04T08:55:38.801Z"
   },
   {
    "duration": 38,
    "start_time": "2022-05-04T08:55:40.306Z"
   },
   {
    "duration": 44,
    "start_time": "2022-05-04T08:55:41.856Z"
   },
   {
    "duration": 21,
    "start_time": "2022-05-04T08:55:44.113Z"
   },
   {
    "duration": 23,
    "start_time": "2022-05-04T08:55:45.700Z"
   },
   {
    "duration": 9,
    "start_time": "2022-05-04T08:55:47.181Z"
   },
   {
    "duration": 4,
    "start_time": "2022-05-04T08:55:48.842Z"
   },
   {
    "duration": 99,
    "start_time": "2022-05-04T08:55:50.033Z"
   },
   {
    "duration": 18,
    "start_time": "2022-05-04T08:55:53.506Z"
   },
   {
    "duration": 21,
    "start_time": "2022-05-04T08:55:55.340Z"
   },
   {
    "duration": 7,
    "start_time": "2022-05-04T08:55:56.642Z"
   },
   {
    "duration": 83,
    "start_time": "2022-05-04T08:55:57.751Z"
   },
   {
    "duration": 21,
    "start_time": "2022-05-04T08:55:59.982Z"
   },
   {
    "duration": 23,
    "start_time": "2022-05-04T08:56:01.643Z"
   },
   {
    "duration": 4,
    "start_time": "2022-05-04T08:56:02.904Z"
   },
   {
    "duration": 117,
    "start_time": "2022-05-04T08:56:04.177Z"
   },
   {
    "duration": 17,
    "start_time": "2022-05-04T08:56:06.283Z"
   },
   {
    "duration": 37,
    "start_time": "2022-05-04T08:56:08.353Z"
   },
   {
    "duration": 28,
    "start_time": "2022-05-04T08:56:09.693Z"
   },
   {
    "duration": 20,
    "start_time": "2022-05-04T08:56:12.231Z"
   },
   {
    "duration": 23,
    "start_time": "2022-05-04T08:56:16.220Z"
   },
   {
    "duration": 35,
    "start_time": "2022-05-04T09:04:55.486Z"
   },
   {
    "duration": 39,
    "start_time": "2022-05-04T09:12:09.990Z"
   },
   {
    "duration": 34,
    "start_time": "2022-05-04T09:13:09.427Z"
   },
   {
    "duration": 171,
    "start_time": "2022-05-04T09:16:54.718Z"
   },
   {
    "duration": 36,
    "start_time": "2022-05-04T09:47:07.132Z"
   },
   {
    "duration": 35,
    "start_time": "2022-05-04T09:47:45.369Z"
   },
   {
    "duration": 113,
    "start_time": "2022-05-04T09:52:31.356Z"
   },
   {
    "duration": 23,
    "start_time": "2022-05-04T09:55:54.330Z"
   },
   {
    "duration": 28,
    "start_time": "2022-05-04T09:56:36.592Z"
   },
   {
    "duration": 1038,
    "start_time": "2022-05-04T10:10:27.678Z"
   },
   {
    "duration": 2212,
    "start_time": "2022-05-04T10:12:50.874Z"
   },
   {
    "duration": 21,
    "start_time": "2022-05-04T10:22:30.926Z"
   },
   {
    "duration": 36,
    "start_time": "2022-05-04T10:23:34.673Z"
   },
   {
    "duration": 35,
    "start_time": "2022-05-04T10:24:14.493Z"
   },
   {
    "duration": 31,
    "start_time": "2022-05-04T10:26:16.888Z"
   },
   {
    "duration": 50,
    "start_time": "2022-05-04T10:27:21.467Z"
   },
   {
    "duration": 34,
    "start_time": "2022-05-04T10:28:12.839Z"
   },
   {
    "duration": 39,
    "start_time": "2022-05-04T10:29:11.543Z"
   },
   {
    "duration": 36,
    "start_time": "2022-05-04T10:29:37.875Z"
   },
   {
    "duration": 35,
    "start_time": "2022-05-04T10:30:34.992Z"
   },
   {
    "duration": 29,
    "start_time": "2022-05-04T13:28:45.994Z"
   },
   {
    "duration": 193,
    "start_time": "2022-05-04T13:38:29.517Z"
   },
   {
    "duration": 4116,
    "start_time": "2022-05-04T13:39:28.846Z"
   },
   {
    "duration": 409,
    "start_time": "2022-05-04T13:40:46.463Z"
   },
   {
    "duration": 232,
    "start_time": "2022-05-04T13:41:26.734Z"
   },
   {
    "duration": 238,
    "start_time": "2022-05-04T13:41:58.315Z"
   },
   {
    "duration": 189,
    "start_time": "2022-05-04T13:43:49.507Z"
   },
   {
    "duration": 23,
    "start_time": "2022-05-04T13:44:32.120Z"
   },
   {
    "duration": 21,
    "start_time": "2022-05-04T13:44:58.719Z"
   },
   {
    "duration": 201,
    "start_time": "2022-05-04T13:46:18.105Z"
   },
   {
    "duration": 188,
    "start_time": "2022-05-04T13:46:58.045Z"
   },
   {
    "duration": 188,
    "start_time": "2022-05-04T13:47:28.764Z"
   },
   {
    "duration": 198,
    "start_time": "2022-05-04T13:48:06.348Z"
   },
   {
    "duration": 28,
    "start_time": "2022-05-04T13:49:06.852Z"
   },
   {
    "duration": 27,
    "start_time": "2022-05-04T13:49:30.104Z"
   },
   {
    "duration": 2818,
    "start_time": "2022-05-04T13:50:20.537Z"
   },
   {
    "duration": 6077,
    "start_time": "2022-05-04T13:51:01.680Z"
   },
   {
    "duration": 189,
    "start_time": "2022-05-04T13:52:19.857Z"
   },
   {
    "duration": 196,
    "start_time": "2022-05-04T13:52:43.580Z"
   },
   {
    "duration": 206,
    "start_time": "2022-05-04T13:53:39.139Z"
   },
   {
    "duration": 202,
    "start_time": "2022-05-04T13:53:55.400Z"
   },
   {
    "duration": 28,
    "start_time": "2022-05-04T13:54:30.668Z"
   },
   {
    "duration": 33,
    "start_time": "2022-05-04T13:54:34.776Z"
   },
   {
    "duration": 37,
    "start_time": "2022-05-04T13:54:45.683Z"
   },
   {
    "duration": 34,
    "start_time": "2022-05-04T13:54:49.947Z"
   },
   {
    "duration": 189,
    "start_time": "2022-05-04T13:54:53.235Z"
   },
   {
    "duration": 36,
    "start_time": "2022-05-04T13:55:51.561Z"
   },
   {
    "duration": 36,
    "start_time": "2022-05-04T13:55:54.640Z"
   },
   {
    "duration": 37,
    "start_time": "2022-05-04T13:55:57.431Z"
   },
   {
    "duration": 704,
    "start_time": "2022-05-11T08:43:59.619Z"
   },
   {
    "duration": 9,
    "start_time": "2022-05-11T08:44:02.487Z"
   },
   {
    "duration": 181,
    "start_time": "2022-05-11T08:44:04.438Z"
   },
   {
    "duration": 122,
    "start_time": "2022-05-11T08:44:05.997Z"
   },
   {
    "duration": 40,
    "start_time": "2022-05-11T08:44:07.518Z"
   },
   {
    "duration": 45,
    "start_time": "2022-05-11T08:44:08.727Z"
   },
   {
    "duration": 67,
    "start_time": "2022-05-11T08:44:11.537Z"
   },
   {
    "duration": 47,
    "start_time": "2022-05-11T08:44:14.797Z"
   },
   {
    "duration": 35,
    "start_time": "2022-05-11T08:44:17.037Z"
   },
   {
    "duration": 13,
    "start_time": "2022-05-11T08:44:18.805Z"
   },
   {
    "duration": 34,
    "start_time": "2022-05-11T08:44:22.146Z"
   },
   {
    "duration": 35,
    "start_time": "2022-05-11T08:44:25.467Z"
   },
   {
    "duration": 24,
    "start_time": "2022-05-11T08:44:27.705Z"
   },
   {
    "duration": 36,
    "start_time": "2022-05-11T08:44:29.220Z"
   },
   {
    "duration": 28,
    "start_time": "2022-05-11T08:44:31.067Z"
   },
   {
    "duration": 30,
    "start_time": "2022-05-11T08:44:32.652Z"
   },
   {
    "duration": 14,
    "start_time": "2022-05-11T08:44:35.278Z"
   },
   {
    "duration": 16,
    "start_time": "2022-05-11T08:44:36.647Z"
   },
   {
    "duration": 9,
    "start_time": "2022-05-11T08:44:38.738Z"
   },
   {
    "duration": 4,
    "start_time": "2022-05-11T08:44:40.019Z"
   },
   {
    "duration": 63,
    "start_time": "2022-05-11T08:44:41.467Z"
   },
   {
    "duration": 16,
    "start_time": "2022-05-11T08:44:43.838Z"
   },
   {
    "duration": 14,
    "start_time": "2022-05-11T08:44:45.358Z"
   },
   {
    "duration": 4,
    "start_time": "2022-05-11T08:44:47.091Z"
   },
   {
    "duration": 67,
    "start_time": "2022-05-11T08:44:49.227Z"
   },
   {
    "duration": 16,
    "start_time": "2022-05-11T08:44:52.084Z"
   },
   {
    "duration": 17,
    "start_time": "2022-05-11T08:44:55.667Z"
   },
   {
    "duration": 4,
    "start_time": "2022-05-11T08:44:57.371Z"
   },
   {
    "duration": 78,
    "start_time": "2022-05-11T08:44:59.013Z"
   },
   {
    "duration": 20,
    "start_time": "2022-05-11T08:45:03.341Z"
   },
   {
    "duration": 39,
    "start_time": "2022-05-11T08:45:04.818Z"
   },
   {
    "duration": 19,
    "start_time": "2022-05-11T08:45:07.507Z"
   },
   {
    "duration": 14,
    "start_time": "2022-05-11T08:45:10.198Z"
   },
   {
    "duration": 14,
    "start_time": "2022-05-11T08:45:15.677Z"
   },
   {
    "duration": 24,
    "start_time": "2022-05-11T08:45:18.457Z"
   },
   {
    "duration": 26,
    "start_time": "2022-05-11T08:45:20.057Z"
   },
   {
    "duration": 28,
    "start_time": "2022-05-11T08:45:21.867Z"
   },
   {
    "duration": 739,
    "start_time": "2022-05-11T08:45:23.815Z"
   },
   {
    "duration": 19,
    "start_time": "2022-05-11T08:45:35.519Z"
   },
   {
    "duration": 15,
    "start_time": "2022-05-11T08:45:36.899Z"
   },
   {
    "duration": 26,
    "start_time": "2022-05-11T08:45:38.178Z"
   },
   {
    "duration": 33,
    "start_time": "2022-05-11T08:45:39.318Z"
   },
   {
    "duration": 25,
    "start_time": "2022-05-11T08:45:41.248Z"
   },
   {
    "duration": 127,
    "start_time": "2022-05-11T08:45:42.659Z"
   },
   {
    "duration": 20,
    "start_time": "2022-05-11T08:45:44.957Z"
   },
   {
    "duration": 20,
    "start_time": "2022-05-11T08:45:46.268Z"
   },
   {
    "duration": 25,
    "start_time": "2022-05-11T08:45:47.855Z"
   },
   {
    "duration": 24,
    "start_time": "2022-05-11T08:45:49.368Z"
   },
   {
    "duration": 27,
    "start_time": "2022-05-11T08:45:51.146Z"
   },
   {
    "duration": 142,
    "start_time": "2022-05-11T08:45:52.595Z"
   },
   {
    "duration": 18,
    "start_time": "2022-05-11T09:21:27.165Z"
   },
   {
    "duration": 18,
    "start_time": "2022-05-11T09:23:09.542Z"
   },
   {
    "duration": 458,
    "start_time": "2022-05-11T09:24:32.045Z"
   },
   {
    "duration": 44,
    "start_time": "2022-05-11T09:26:44.673Z"
   },
   {
    "duration": 19,
    "start_time": "2022-05-11T09:27:09.152Z"
   },
   {
    "duration": 29,
    "start_time": "2022-05-11T09:27:39.082Z"
   },
   {
    "duration": 7,
    "start_time": "2022-05-11T09:28:12.489Z"
   },
   {
    "duration": 6,
    "start_time": "2022-05-11T09:28:23.837Z"
   },
   {
    "duration": 6,
    "start_time": "2022-05-11T09:28:37.147Z"
   },
   {
    "duration": 20,
    "start_time": "2022-05-11T09:37:47.627Z"
   },
   {
    "duration": 20,
    "start_time": "2022-05-11T09:38:27.174Z"
   },
   {
    "duration": 14,
    "start_time": "2022-05-11T09:39:07.071Z"
   },
   {
    "duration": 15,
    "start_time": "2022-05-11T09:39:13.722Z"
   },
   {
    "duration": 18,
    "start_time": "2022-05-11T09:39:24.165Z"
   },
   {
    "duration": 7,
    "start_time": "2022-05-11T09:42:24.941Z"
   },
   {
    "duration": 6,
    "start_time": "2022-05-11T09:44:33.813Z"
   },
   {
    "duration": 170,
    "start_time": "2022-05-11T09:52:13.975Z"
   },
   {
    "duration": 17,
    "start_time": "2022-05-11T09:52:23.880Z"
   },
   {
    "duration": 2202,
    "start_time": "2022-05-11T09:56:18.536Z"
   },
   {
    "duration": 28,
    "start_time": "2022-05-11T09:56:29.967Z"
   },
   {
    "duration": 20,
    "start_time": "2022-05-11T09:58:06.911Z"
   },
   {
    "duration": 32,
    "start_time": "2022-05-11T09:59:14.735Z"
   },
   {
    "duration": 34,
    "start_time": "2022-05-11T09:59:51.574Z"
   },
   {
    "duration": 5,
    "start_time": "2022-05-11T10:01:22.295Z"
   },
   {
    "duration": 700,
    "start_time": "2022-05-11T17:42:09.503Z"
   },
   {
    "duration": 8,
    "start_time": "2022-05-11T17:42:13.859Z"
   },
   {
    "duration": 189,
    "start_time": "2022-05-11T17:42:17.445Z"
   },
   {
    "duration": 131,
    "start_time": "2022-05-11T17:42:21.271Z"
   },
   {
    "duration": 276,
    "start_time": "2022-05-11T17:42:23.974Z"
   },
   {
    "duration": 102,
    "start_time": "2022-05-11T17:42:27.239Z"
   },
   {
    "duration": 55,
    "start_time": "2022-05-11T17:42:48.591Z"
   },
   {
    "duration": 65,
    "start_time": "2022-05-11T17:44:26.846Z"
   },
   {
    "duration": 33,
    "start_time": "2022-05-11T17:44:31.323Z"
   },
   {
    "duration": 16,
    "start_time": "2022-05-11T17:44:44.754Z"
   },
   {
    "duration": 35,
    "start_time": "2022-05-11T17:45:13.755Z"
   },
   {
    "duration": 40,
    "start_time": "2022-05-11T17:45:16.615Z"
   },
   {
    "duration": 25,
    "start_time": "2022-05-11T17:45:43.590Z"
   },
   {
    "duration": 33,
    "start_time": "2022-05-11T17:45:47.014Z"
   },
   {
    "duration": 31,
    "start_time": "2022-05-11T17:46:15.438Z"
   },
   {
    "duration": 31,
    "start_time": "2022-05-11T17:46:18.090Z"
   },
   {
    "duration": 25,
    "start_time": "2022-05-11T17:46:48.607Z"
   },
   {
    "duration": 18,
    "start_time": "2022-05-11T17:46:52.631Z"
   },
   {
    "duration": 4,
    "start_time": "2022-05-11T17:46:55.412Z"
   },
   {
    "duration": 70,
    "start_time": "2022-05-11T17:46:58.378Z"
   },
   {
    "duration": 16,
    "start_time": "2022-05-11T17:47:27.726Z"
   },
   {
    "duration": 16,
    "start_time": "2022-05-11T17:47:30.643Z"
   },
   {
    "duration": 4,
    "start_time": "2022-05-11T17:47:33.866Z"
   },
   {
    "duration": 64,
    "start_time": "2022-05-11T17:47:36.878Z"
   },
   {
    "duration": 15,
    "start_time": "2022-05-11T17:47:51.102Z"
   },
   {
    "duration": 16,
    "start_time": "2022-05-11T17:47:53.706Z"
   },
   {
    "duration": 4,
    "start_time": "2022-05-11T17:47:56.793Z"
   },
   {
    "duration": 124,
    "start_time": "2022-05-11T17:47:59.570Z"
   },
   {
    "duration": 14,
    "start_time": "2022-05-11T17:48:11.763Z"
   },
   {
    "duration": 33,
    "start_time": "2022-05-11T17:48:14.310Z"
   },
   {
    "duration": 26,
    "start_time": "2022-05-11T17:48:19.244Z"
   },
   {
    "duration": 20,
    "start_time": "2022-05-11T17:48:35.074Z"
   },
   {
    "duration": 22,
    "start_time": "2022-05-11T17:48:38.819Z"
   },
   {
    "duration": 16,
    "start_time": "2022-05-11T17:48:45.850Z"
   },
   {
    "duration": 16,
    "start_time": "2022-05-11T17:48:48.458Z"
   },
   {
    "duration": 32,
    "start_time": "2022-05-11T17:48:51.018Z"
   },
   {
    "duration": 33,
    "start_time": "2022-05-11T17:48:54.538Z"
   },
   {
    "duration": 19,
    "start_time": "2022-05-11T17:49:12.126Z"
   },
   {
    "duration": 23,
    "start_time": "2022-05-11T17:49:14.905Z"
   },
   {
    "duration": 35,
    "start_time": "2022-05-11T17:49:18.277Z"
   },
   {
    "duration": 32,
    "start_time": "2022-05-11T17:49:20.707Z"
   },
   {
    "duration": 33,
    "start_time": "2022-05-11T17:49:23.265Z"
   },
   {
    "duration": 756,
    "start_time": "2022-05-11T17:49:25.782Z"
   },
   {
    "duration": 17,
    "start_time": "2022-05-11T17:49:43.921Z"
   },
   {
    "duration": 14,
    "start_time": "2022-05-11T17:49:46.598Z"
   },
   {
    "duration": 33,
    "start_time": "2022-05-11T17:49:48.913Z"
   },
   {
    "duration": 23,
    "start_time": "2022-05-11T17:49:51.677Z"
   },
   {
    "duration": 26,
    "start_time": "2022-05-11T17:49:54.285Z"
   },
   {
    "duration": 132,
    "start_time": "2022-05-11T17:49:57.508Z"
   },
   {
    "duration": 21,
    "start_time": "2022-05-11T17:50:00.834Z"
   },
   {
    "duration": 20,
    "start_time": "2022-05-11T17:50:03.739Z"
   },
   {
    "duration": 22,
    "start_time": "2022-05-11T17:50:07.195Z"
   },
   {
    "duration": 24,
    "start_time": "2022-05-11T17:50:09.953Z"
   },
   {
    "duration": 30,
    "start_time": "2022-05-11T17:50:12.621Z"
   },
   {
    "duration": 131,
    "start_time": "2022-05-11T17:50:16.019Z"
   },
   {
    "duration": 503,
    "start_time": "2022-05-11T17:56:43.997Z"
   },
   {
    "duration": 6,
    "start_time": "2022-05-11T17:56:47.105Z"
   },
   {
    "duration": 766,
    "start_time": "2022-05-11T21:45:55.735Z"
   },
   {
    "duration": 22,
    "start_time": "2022-05-11T21:45:56.504Z"
   },
   {
    "duration": 228,
    "start_time": "2022-05-11T21:45:56.528Z"
   },
   {
    "duration": 164,
    "start_time": "2022-05-11T21:45:56.760Z"
   },
   {
    "duration": 32,
    "start_time": "2022-05-11T21:45:56.927Z"
   },
   {
    "duration": 43,
    "start_time": "2022-05-11T21:45:56.961Z"
   },
   {
    "duration": 82,
    "start_time": "2022-05-11T21:45:57.006Z"
   },
   {
    "duration": 77,
    "start_time": "2022-05-11T21:45:57.091Z"
   },
   {
    "duration": 56,
    "start_time": "2022-05-11T21:45:57.170Z"
   },
   {
    "duration": 20,
    "start_time": "2022-05-11T21:45:57.230Z"
   },
   {
    "duration": 52,
    "start_time": "2022-05-11T21:45:57.251Z"
   },
   {
    "duration": 52,
    "start_time": "2022-05-11T21:45:57.324Z"
   },
   {
    "duration": 53,
    "start_time": "2022-05-11T21:45:57.378Z"
   },
   {
    "duration": 35,
    "start_time": "2022-05-11T21:45:57.433Z"
   },
   {
    "duration": 58,
    "start_time": "2022-05-11T21:45:57.470Z"
   },
   {
    "duration": 42,
    "start_time": "2022-05-11T21:45:57.531Z"
   },
   {
    "duration": 21,
    "start_time": "2022-05-11T21:45:57.575Z"
   },
   {
    "duration": 22,
    "start_time": "2022-05-11T21:45:57.624Z"
   },
   {
    "duration": 5,
    "start_time": "2022-05-11T21:45:57.648Z"
   },
   {
    "duration": 127,
    "start_time": "2022-05-11T21:45:57.656Z"
   },
   {
    "duration": 20,
    "start_time": "2022-05-11T21:45:57.786Z"
   },
   {
    "duration": 22,
    "start_time": "2022-05-11T21:45:57.825Z"
   },
   {
    "duration": 4,
    "start_time": "2022-05-11T21:45:57.851Z"
   },
   {
    "duration": 112,
    "start_time": "2022-05-11T21:45:57.857Z"
   },
   {
    "duration": 22,
    "start_time": "2022-05-11T21:45:57.972Z"
   },
   {
    "duration": 46,
    "start_time": "2022-05-11T21:45:57.996Z"
   },
   {
    "duration": 4,
    "start_time": "2022-05-11T21:45:58.045Z"
   },
   {
    "duration": 141,
    "start_time": "2022-05-11T21:45:58.055Z"
   },
   {
    "duration": 28,
    "start_time": "2022-05-11T21:45:58.198Z"
   },
   {
    "duration": 55,
    "start_time": "2022-05-11T21:45:58.228Z"
   },
   {
    "duration": 45,
    "start_time": "2022-05-11T21:45:58.286Z"
   },
   {
    "duration": 29,
    "start_time": "2022-05-11T21:45:58.333Z"
   },
   {
    "duration": 30,
    "start_time": "2022-05-11T21:45:58.364Z"
   },
   {
    "duration": 22,
    "start_time": "2022-05-11T21:45:58.424Z"
   },
   {
    "duration": 22,
    "start_time": "2022-05-11T21:45:58.448Z"
   },
   {
    "duration": 73,
    "start_time": "2022-05-11T21:45:58.473Z"
   },
   {
    "duration": 42,
    "start_time": "2022-05-11T21:45:58.548Z"
   },
   {
    "duration": 51,
    "start_time": "2022-05-11T21:45:58.593Z"
   },
   {
    "duration": 20,
    "start_time": "2022-05-11T21:45:58.646Z"
   },
   {
    "duration": 58,
    "start_time": "2022-05-11T21:45:58.668Z"
   },
   {
    "duration": 33,
    "start_time": "2022-05-11T21:45:58.728Z"
   },
   {
    "duration": 61,
    "start_time": "2022-05-11T21:45:58.763Z"
   },
   {
    "duration": 643,
    "start_time": "2022-05-11T21:45:58.827Z"
   },
   {
    "duration": 0,
    "start_time": "2022-05-11T21:45:59.473Z"
   },
   {
    "duration": 0,
    "start_time": "2022-05-11T21:45:59.474Z"
   },
   {
    "duration": 0,
    "start_time": "2022-05-11T21:45:59.476Z"
   },
   {
    "duration": 0,
    "start_time": "2022-05-11T21:45:59.477Z"
   },
   {
    "duration": 0,
    "start_time": "2022-05-11T21:45:59.479Z"
   },
   {
    "duration": 0,
    "start_time": "2022-05-11T21:45:59.480Z"
   },
   {
    "duration": 0,
    "start_time": "2022-05-11T21:45:59.482Z"
   },
   {
    "duration": 0,
    "start_time": "2022-05-11T21:45:59.483Z"
   },
   {
    "duration": 0,
    "start_time": "2022-05-11T21:45:59.485Z"
   },
   {
    "duration": 1,
    "start_time": "2022-05-11T21:45:59.486Z"
   },
   {
    "duration": 0,
    "start_time": "2022-05-11T21:45:59.488Z"
   },
   {
    "duration": 0,
    "start_time": "2022-05-11T21:45:59.489Z"
   },
   {
    "duration": 0,
    "start_time": "2022-05-11T21:45:59.491Z"
   },
   {
    "duration": 0,
    "start_time": "2022-05-11T21:45:59.525Z"
   },
   {
    "duration": 17,
    "start_time": "2022-05-11T21:50:43.071Z"
   }
  ],
  "kernelspec": {
   "display_name": "Python 3 (ipykernel)",
   "language": "python",
   "name": "python3"
  },
  "language_info": {
   "codemirror_mode": {
    "name": "ipython",
    "version": 3
   },
   "file_extension": ".py",
   "mimetype": "text/x-python",
   "name": "python",
   "nbconvert_exporter": "python",
   "pygments_lexer": "ipython3",
   "version": "3.9.7"
  },
  "toc": {
   "base_numbering": 1,
   "nav_menu": {
    "height": "130px",
    "width": "278px"
   },
   "number_sections": true,
   "sideBar": true,
   "skip_h1_title": true,
   "title_cell": "Содержание",
   "title_sidebar": "Contents",
   "toc_cell": true,
   "toc_position": {
    "height": "calc(100% - 180px)",
    "left": "10px",
    "top": "150px",
    "width": "289.6px"
   },
   "toc_section_display": true,
   "toc_window_display": false
  }
 },
 "nbformat": 4,
 "nbformat_minor": 2
}
