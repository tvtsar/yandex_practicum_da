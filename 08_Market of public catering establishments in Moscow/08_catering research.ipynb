{
 "cells": [
  {
   "cell_type": "markdown",
   "metadata": {},
   "source": [
    "## Подготовка данных"
   ]
  },
  {
   "cell_type": "code",
   "execution_count": 1,
   "metadata": {},
   "outputs": [],
   "source": [
    "import pandas as pd\n",
    "import matplotlib.pyplot as plt\n",
    "import numpy as np\n",
    "import seaborn as sns"
   ]
  },
  {
   "cell_type": "code",
   "execution_count": 2,
   "metadata": {},
   "outputs": [
    {
     "data": {
      "text/html": [
       "<div>\n",
       "<style scoped>\n",
       "    .dataframe tbody tr th:only-of-type {\n",
       "        vertical-align: middle;\n",
       "    }\n",
       "\n",
       "    .dataframe tbody tr th {\n",
       "        vertical-align: top;\n",
       "    }\n",
       "\n",
       "    .dataframe thead th {\n",
       "        text-align: right;\n",
       "    }\n",
       "</style>\n",
       "<table border=\"1\" class=\"dataframe\">\n",
       "  <thead>\n",
       "    <tr style=\"text-align: right;\">\n",
       "      <th></th>\n",
       "      <th>id</th>\n",
       "      <th>object_name</th>\n",
       "      <th>chain</th>\n",
       "      <th>object_type</th>\n",
       "      <th>address</th>\n",
       "      <th>number</th>\n",
       "    </tr>\n",
       "  </thead>\n",
       "  <tbody>\n",
       "    <tr>\n",
       "      <th>0</th>\n",
       "      <td>151635</td>\n",
       "      <td>СМЕТАНА</td>\n",
       "      <td>нет</td>\n",
       "      <td>кафе</td>\n",
       "      <td>город Москва, улица Егора Абакумова, дом 9</td>\n",
       "      <td>48</td>\n",
       "    </tr>\n",
       "    <tr>\n",
       "      <th>1</th>\n",
       "      <td>77874</td>\n",
       "      <td>Родник</td>\n",
       "      <td>нет</td>\n",
       "      <td>кафе</td>\n",
       "      <td>город Москва, улица Талалихина, дом 2/1, корпус 1</td>\n",
       "      <td>35</td>\n",
       "    </tr>\n",
       "    <tr>\n",
       "      <th>2</th>\n",
       "      <td>24309</td>\n",
       "      <td>Кафе «Академия»</td>\n",
       "      <td>нет</td>\n",
       "      <td>кафе</td>\n",
       "      <td>город Москва, Абельмановская улица, дом 6</td>\n",
       "      <td>95</td>\n",
       "    </tr>\n",
       "    <tr>\n",
       "      <th>3</th>\n",
       "      <td>21894</td>\n",
       "      <td>ПИЦЦЕТОРИЯ</td>\n",
       "      <td>да</td>\n",
       "      <td>кафе</td>\n",
       "      <td>город Москва, Абрамцевская улица, дом 1</td>\n",
       "      <td>40</td>\n",
       "    </tr>\n",
       "    <tr>\n",
       "      <th>4</th>\n",
       "      <td>119365</td>\n",
       "      <td>Кафе «Вишневая метель»</td>\n",
       "      <td>нет</td>\n",
       "      <td>кафе</td>\n",
       "      <td>город Москва, Абрамцевская улица, дом 9, корпус 1</td>\n",
       "      <td>50</td>\n",
       "    </tr>\n",
       "    <tr>\n",
       "      <th>...</th>\n",
       "      <td>...</td>\n",
       "      <td>...</td>\n",
       "      <td>...</td>\n",
       "      <td>...</td>\n",
       "      <td>...</td>\n",
       "      <td>...</td>\n",
       "    </tr>\n",
       "    <tr>\n",
       "      <th>15361</th>\n",
       "      <td>208537</td>\n",
       "      <td>Шоколадница</td>\n",
       "      <td>да</td>\n",
       "      <td>кафе</td>\n",
       "      <td>город Москва, 3-й Крутицкий переулок, дом 18</td>\n",
       "      <td>50</td>\n",
       "    </tr>\n",
       "    <tr>\n",
       "      <th>15362</th>\n",
       "      <td>209264</td>\n",
       "      <td>Шоколадница</td>\n",
       "      <td>да</td>\n",
       "      <td>кафе</td>\n",
       "      <td>город Москва, улица Земляной Вал, дом 33</td>\n",
       "      <td>10</td>\n",
       "    </tr>\n",
       "    <tr>\n",
       "      <th>15363</th>\n",
       "      <td>209186</td>\n",
       "      <td>Шоколадница</td>\n",
       "      <td>да</td>\n",
       "      <td>кафе</td>\n",
       "      <td>город Москва, улица Земляной Вал, дом 33</td>\n",
       "      <td>20</td>\n",
       "    </tr>\n",
       "    <tr>\n",
       "      <th>15364</th>\n",
       "      <td>221900</td>\n",
       "      <td>Шоколадница</td>\n",
       "      <td>да</td>\n",
       "      <td>кафе</td>\n",
       "      <td>город Москва, поселение Московский, Киевское ш...</td>\n",
       "      <td>36</td>\n",
       "    </tr>\n",
       "    <tr>\n",
       "      <th>15365</th>\n",
       "      <td>222535</td>\n",
       "      <td>Шоколадница</td>\n",
       "      <td>да</td>\n",
       "      <td>кафе</td>\n",
       "      <td>город Москва, Ходынский бульвар, дом 4</td>\n",
       "      <td>10</td>\n",
       "    </tr>\n",
       "  </tbody>\n",
       "</table>\n",
       "<p>15366 rows × 6 columns</p>\n",
       "</div>"
      ],
      "text/plain": [
       "           id             object_name chain object_type  \\\n",
       "0      151635                 СМЕТАНА   нет        кафе   \n",
       "1       77874                  Родник   нет        кафе   \n",
       "2       24309         Кафе «Академия»   нет        кафе   \n",
       "3       21894              ПИЦЦЕТОРИЯ    да        кафе   \n",
       "4      119365  Кафе «Вишневая метель»   нет        кафе   \n",
       "...       ...                     ...   ...         ...   \n",
       "15361  208537             Шоколадница    да        кафе   \n",
       "15362  209264             Шоколадница    да        кафе   \n",
       "15363  209186             Шоколадница    да        кафе   \n",
       "15364  221900             Шоколадница    да        кафе   \n",
       "15365  222535             Шоколадница    да        кафе   \n",
       "\n",
       "                                                 address  number  \n",
       "0             город Москва, улица Егора Абакумова, дом 9      48  \n",
       "1      город Москва, улица Талалихина, дом 2/1, корпус 1      35  \n",
       "2              город Москва, Абельмановская улица, дом 6      95  \n",
       "3                город Москва, Абрамцевская улица, дом 1      40  \n",
       "4      город Москва, Абрамцевская улица, дом 9, корпус 1      50  \n",
       "...                                                  ...     ...  \n",
       "15361       город Москва, 3-й Крутицкий переулок, дом 18      50  \n",
       "15362           город Москва, улица Земляной Вал, дом 33      10  \n",
       "15363           город Москва, улица Земляной Вал, дом 33      20  \n",
       "15364  город Москва, поселение Московский, Киевское ш...      36  \n",
       "15365             город Москва, Ходынский бульвар, дом 4      10  \n",
       "\n",
       "[15366 rows x 6 columns]"
      ]
     },
     "metadata": {},
     "output_type": "display_data"
    },
    {
     "name": "stdout",
     "output_type": "stream",
     "text": [
      "<class 'pandas.core.frame.DataFrame'>\n",
      "RangeIndex: 15366 entries, 0 to 15365\n",
      "Data columns (total 6 columns):\n",
      " #   Column       Non-Null Count  Dtype \n",
      "---  ------       --------------  ----- \n",
      " 0   id           15366 non-null  int64 \n",
      " 1   object_name  15366 non-null  object\n",
      " 2   chain        15366 non-null  object\n",
      " 3   object_type  15366 non-null  object\n",
      " 4   address      15366 non-null  object\n",
      " 5   number       15366 non-null  int64 \n",
      "dtypes: int64(2), object(4)\n",
      "memory usage: 720.4+ KB\n"
     ]
    }
   ],
   "source": [
    "#загрузка файла и вывод информации\n",
    "rest_data = pd.read_csv('/datasets/rest_data.csv')\n",
    "display(rest_data)\n",
    "rest_data.info()"
   ]
  },
  {
   "cell_type": "code",
   "execution_count": 3,
   "metadata": {},
   "outputs": [
    {
     "name": "stdout",
     "output_type": "stream",
     "text": [
      "Пропуски:\n",
      "id             0\n",
      "object_name    0\n",
      "chain          0\n",
      "object_type    0\n",
      "address        0\n",
      "number         0\n",
      "dtype: int64\n",
      "Дубликаты: 0\n"
     ]
    }
   ],
   "source": [
    "#проверка на пропуски и дубликаты\n",
    "print('Пропуски:')\n",
    "print(rest_data.isna().sum())\n",
    "print('Дубликаты:', rest_data.duplicated().sum())"
   ]
  },
  {
   "cell_type": "code",
   "execution_count": 4,
   "metadata": {},
   "outputs": [
    {
     "data": {
      "text/plain": [
       "array(['нет', 'да'], dtype=object)"
      ]
     },
     "execution_count": 4,
     "metadata": {},
     "output_type": "execute_result"
    }
   ],
   "source": [
    "# проверка уникальных значений для столбцов с категориями\n",
    "rest_data['chain'].unique()"
   ]
  },
  {
   "cell_type": "code",
   "execution_count": 5,
   "metadata": {},
   "outputs": [
    {
     "data": {
      "text/plain": [
       "array(['кафе', 'столовая', 'закусочная',\n",
       "       'предприятие быстрого обслуживания', 'ресторан', 'кафетерий',\n",
       "       'буфет', 'бар', 'магазин (отдел кулинарии)'], dtype=object)"
      ]
     },
     "execution_count": 5,
     "metadata": {},
     "output_type": "execute_result"
    }
   ],
   "source": [
    "rest_data['object_type'].unique()"
   ]
  },
  {
   "cell_type": "markdown",
   "metadata": {},
   "source": [
    "В данных отсутствуют пропуски и явные дубликаты, названия столбцов удобны в использовании, форматы столбцов корректны. Проверим данные на неявные дубликаты - строки, которые содержат одинаковые названия, вид объекта и адрес."
   ]
  },
  {
   "cell_type": "code",
   "execution_count": 6,
   "metadata": {},
   "outputs": [],
   "source": [
    "#создадим новый датасет\n",
    "rest_data_1 = rest_data.copy()"
   ]
  },
  {
   "cell_type": "code",
   "execution_count": 7,
   "metadata": {},
   "outputs": [
    {
     "data": {
      "text/html": [
       "<div>\n",
       "<style scoped>\n",
       "    .dataframe tbody tr th:only-of-type {\n",
       "        vertical-align: middle;\n",
       "    }\n",
       "\n",
       "    .dataframe tbody tr th {\n",
       "        vertical-align: top;\n",
       "    }\n",
       "\n",
       "    .dataframe thead th {\n",
       "        text-align: right;\n",
       "    }\n",
       "</style>\n",
       "<table border=\"1\" class=\"dataframe\">\n",
       "  <thead>\n",
       "    <tr style=\"text-align: right;\">\n",
       "      <th></th>\n",
       "      <th>id</th>\n",
       "      <th>object_name</th>\n",
       "      <th>chain</th>\n",
       "      <th>object_type</th>\n",
       "      <th>address</th>\n",
       "      <th>number</th>\n",
       "    </tr>\n",
       "  </thead>\n",
       "  <tbody>\n",
       "    <tr>\n",
       "      <th>0</th>\n",
       "      <td>151635</td>\n",
       "      <td>сметана</td>\n",
       "      <td>нет</td>\n",
       "      <td>кафе</td>\n",
       "      <td>город Москва, улица Егора Абакумова, дом 9</td>\n",
       "      <td>48</td>\n",
       "    </tr>\n",
       "    <tr>\n",
       "      <th>1</th>\n",
       "      <td>77874</td>\n",
       "      <td>родник</td>\n",
       "      <td>нет</td>\n",
       "      <td>кафе</td>\n",
       "      <td>город Москва, улица Талалихина, дом 2/1, корпус 1</td>\n",
       "      <td>35</td>\n",
       "    </tr>\n",
       "    <tr>\n",
       "      <th>2</th>\n",
       "      <td>24309</td>\n",
       "      <td>кафе «академия»</td>\n",
       "      <td>нет</td>\n",
       "      <td>кафе</td>\n",
       "      <td>город Москва, Абельмановская улица, дом 6</td>\n",
       "      <td>95</td>\n",
       "    </tr>\n",
       "    <tr>\n",
       "      <th>3</th>\n",
       "      <td>21894</td>\n",
       "      <td>пиццетория</td>\n",
       "      <td>да</td>\n",
       "      <td>кафе</td>\n",
       "      <td>город Москва, Абрамцевская улица, дом 1</td>\n",
       "      <td>40</td>\n",
       "    </tr>\n",
       "    <tr>\n",
       "      <th>4</th>\n",
       "      <td>119365</td>\n",
       "      <td>кафе «вишневая метель»</td>\n",
       "      <td>нет</td>\n",
       "      <td>кафе</td>\n",
       "      <td>город Москва, Абрамцевская улица, дом 9, корпус 1</td>\n",
       "      <td>50</td>\n",
       "    </tr>\n",
       "    <tr>\n",
       "      <th>...</th>\n",
       "      <td>...</td>\n",
       "      <td>...</td>\n",
       "      <td>...</td>\n",
       "      <td>...</td>\n",
       "      <td>...</td>\n",
       "      <td>...</td>\n",
       "    </tr>\n",
       "    <tr>\n",
       "      <th>15361</th>\n",
       "      <td>208537</td>\n",
       "      <td>шоколадница</td>\n",
       "      <td>да</td>\n",
       "      <td>кафе</td>\n",
       "      <td>город Москва, 3-й Крутицкий переулок, дом 18</td>\n",
       "      <td>50</td>\n",
       "    </tr>\n",
       "    <tr>\n",
       "      <th>15362</th>\n",
       "      <td>209264</td>\n",
       "      <td>шоколадница</td>\n",
       "      <td>да</td>\n",
       "      <td>кафе</td>\n",
       "      <td>город Москва, улица Земляной Вал, дом 33</td>\n",
       "      <td>10</td>\n",
       "    </tr>\n",
       "    <tr>\n",
       "      <th>15363</th>\n",
       "      <td>209186</td>\n",
       "      <td>шоколадница</td>\n",
       "      <td>да</td>\n",
       "      <td>кафе</td>\n",
       "      <td>город Москва, улица Земляной Вал, дом 33</td>\n",
       "      <td>20</td>\n",
       "    </tr>\n",
       "    <tr>\n",
       "      <th>15364</th>\n",
       "      <td>221900</td>\n",
       "      <td>шоколадница</td>\n",
       "      <td>да</td>\n",
       "      <td>кафе</td>\n",
       "      <td>город Москва, поселение Московский, Киевское ш...</td>\n",
       "      <td>36</td>\n",
       "    </tr>\n",
       "    <tr>\n",
       "      <th>15365</th>\n",
       "      <td>222535</td>\n",
       "      <td>шоколадница</td>\n",
       "      <td>да</td>\n",
       "      <td>кафе</td>\n",
       "      <td>город Москва, Ходынский бульвар, дом 4</td>\n",
       "      <td>10</td>\n",
       "    </tr>\n",
       "  </tbody>\n",
       "</table>\n",
       "<p>15366 rows × 6 columns</p>\n",
       "</div>"
      ],
      "text/plain": [
       "           id             object_name chain object_type  \\\n",
       "0      151635                 сметана   нет        кафе   \n",
       "1       77874                  родник   нет        кафе   \n",
       "2       24309         кафе «академия»   нет        кафе   \n",
       "3       21894              пиццетория    да        кафе   \n",
       "4      119365  кафе «вишневая метель»   нет        кафе   \n",
       "...       ...                     ...   ...         ...   \n",
       "15361  208537             шоколадница    да        кафе   \n",
       "15362  209264             шоколадница    да        кафе   \n",
       "15363  209186             шоколадница    да        кафе   \n",
       "15364  221900             шоколадница    да        кафе   \n",
       "15365  222535             шоколадница    да        кафе   \n",
       "\n",
       "                                                 address  number  \n",
       "0             город Москва, улица Егора Абакумова, дом 9      48  \n",
       "1      город Москва, улица Талалихина, дом 2/1, корпус 1      35  \n",
       "2              город Москва, Абельмановская улица, дом 6      95  \n",
       "3                город Москва, Абрамцевская улица, дом 1      40  \n",
       "4      город Москва, Абрамцевская улица, дом 9, корпус 1      50  \n",
       "...                                                  ...     ...  \n",
       "15361       город Москва, 3-й Крутицкий переулок, дом 18      50  \n",
       "15362           город Москва, улица Земляной Вал, дом 33      10  \n",
       "15363           город Москва, улица Земляной Вал, дом 33      20  \n",
       "15364  город Москва, поселение Московский, Киевское ш...      36  \n",
       "15365             город Москва, Ходынский бульвар, дом 4      10  \n",
       "\n",
       "[15366 rows x 6 columns]"
      ]
     },
     "metadata": {},
     "output_type": "display_data"
    }
   ],
   "source": [
    "#заменим все буквы в названиях заведений на нижний регистр\n",
    "rest_data_1['object_name'] = rest_data_1.object_name.str.lower()\n",
    "display(rest_data_1)"
   ]
  },
  {
   "cell_type": "code",
   "execution_count": 8,
   "metadata": {},
   "outputs": [
    {
     "data": {
      "text/plain": [
       "184"
      ]
     },
     "execution_count": 8,
     "metadata": {},
     "output_type": "execute_result"
    }
   ],
   "source": [
    "rest_data_1.duplicated(subset=['object_name', 'object_type', 'address']).sum() #подсчет дубликатов"
   ]
  },
  {
   "cell_type": "code",
   "execution_count": 9,
   "metadata": {},
   "outputs": [
    {
     "data": {
      "text/html": [
       "<div>\n",
       "<style scoped>\n",
       "    .dataframe tbody tr th:only-of-type {\n",
       "        vertical-align: middle;\n",
       "    }\n",
       "\n",
       "    .dataframe tbody tr th {\n",
       "        vertical-align: top;\n",
       "    }\n",
       "\n",
       "    .dataframe thead th {\n",
       "        text-align: right;\n",
       "    }\n",
       "</style>\n",
       "<table border=\"1\" class=\"dataframe\">\n",
       "  <thead>\n",
       "    <tr style=\"text-align: right;\">\n",
       "      <th></th>\n",
       "      <th>id</th>\n",
       "      <th>object_name</th>\n",
       "      <th>chain</th>\n",
       "      <th>object_type</th>\n",
       "      <th>address</th>\n",
       "      <th>number</th>\n",
       "    </tr>\n",
       "  </thead>\n",
       "  <tbody>\n",
       "    <tr>\n",
       "      <th>5191</th>\n",
       "      <td>107485</td>\n",
       "      <td>кафе</td>\n",
       "      <td>нет</td>\n",
       "      <td>кафе</td>\n",
       "      <td>город Москва, 1-я Останкинская улица, дом 55</td>\n",
       "      <td>6</td>\n",
       "    </tr>\n",
       "    <tr>\n",
       "      <th>5185</th>\n",
       "      <td>107442</td>\n",
       "      <td>кафе</td>\n",
       "      <td>нет</td>\n",
       "      <td>кафе</td>\n",
       "      <td>город Москва, 1-я Останкинская улица, дом 55</td>\n",
       "      <td>20</td>\n",
       "    </tr>\n",
       "    <tr>\n",
       "      <th>5186</th>\n",
       "      <td>107574</td>\n",
       "      <td>кафе</td>\n",
       "      <td>нет</td>\n",
       "      <td>кафе</td>\n",
       "      <td>город Москва, 1-я Останкинская улица, дом 55</td>\n",
       "      <td>10</td>\n",
       "    </tr>\n",
       "    <tr>\n",
       "      <th>5187</th>\n",
       "      <td>107462</td>\n",
       "      <td>кафе</td>\n",
       "      <td>нет</td>\n",
       "      <td>кафе</td>\n",
       "      <td>город Москва, 1-я Останкинская улица, дом 55</td>\n",
       "      <td>5</td>\n",
       "    </tr>\n",
       "    <tr>\n",
       "      <th>5188</th>\n",
       "      <td>107466</td>\n",
       "      <td>кафе</td>\n",
       "      <td>нет</td>\n",
       "      <td>кафе</td>\n",
       "      <td>город Москва, 1-я Останкинская улица, дом 55</td>\n",
       "      <td>5</td>\n",
       "    </tr>\n",
       "    <tr>\n",
       "      <th>5189</th>\n",
       "      <td>107471</td>\n",
       "      <td>кафе</td>\n",
       "      <td>нет</td>\n",
       "      <td>кафе</td>\n",
       "      <td>город Москва, 1-я Останкинская улица, дом 55</td>\n",
       "      <td>4</td>\n",
       "    </tr>\n",
       "    <tr>\n",
       "      <th>5190</th>\n",
       "      <td>107480</td>\n",
       "      <td>кафе</td>\n",
       "      <td>нет</td>\n",
       "      <td>кафе</td>\n",
       "      <td>город Москва, 1-я Останкинская улица, дом 55</td>\n",
       "      <td>5</td>\n",
       "    </tr>\n",
       "    <tr>\n",
       "      <th>5184</th>\n",
       "      <td>107456</td>\n",
       "      <td>кафе</td>\n",
       "      <td>нет</td>\n",
       "      <td>кафе</td>\n",
       "      <td>город Москва, 1-я Останкинская улица, дом 55</td>\n",
       "      <td>10</td>\n",
       "    </tr>\n",
       "    <tr>\n",
       "      <th>5183</th>\n",
       "      <td>107450</td>\n",
       "      <td>кафе</td>\n",
       "      <td>нет</td>\n",
       "      <td>кафе</td>\n",
       "      <td>город Москва, 1-я Останкинская улица, дом 55</td>\n",
       "      <td>20</td>\n",
       "    </tr>\n",
       "    <tr>\n",
       "      <th>9182</th>\n",
       "      <td>162548</td>\n",
       "      <td>кафе</td>\n",
       "      <td>нет</td>\n",
       "      <td>кафе</td>\n",
       "      <td>город Москва, 19-й километр Московской Кольцев...</td>\n",
       "      <td>20</td>\n",
       "    </tr>\n",
       "    <tr>\n",
       "      <th>9275</th>\n",
       "      <td>166766</td>\n",
       "      <td>кафе</td>\n",
       "      <td>нет</td>\n",
       "      <td>кафе</td>\n",
       "      <td>город Москва, 19-й километр Московской Кольцев...</td>\n",
       "      <td>42</td>\n",
       "    </tr>\n",
       "    <tr>\n",
       "      <th>2375</th>\n",
       "      <td>28604</td>\n",
       "      <td>комбинат питания мгту им.н.э.баумана</td>\n",
       "      <td>нет</td>\n",
       "      <td>столовая</td>\n",
       "      <td>город Москва, 2-я Бауманская улица, дом 5, стр...</td>\n",
       "      <td>150</td>\n",
       "    </tr>\n",
       "    <tr>\n",
       "      <th>2374</th>\n",
       "      <td>28603</td>\n",
       "      <td>комбинат питания мгту им.н.э.баумана</td>\n",
       "      <td>нет</td>\n",
       "      <td>столовая</td>\n",
       "      <td>город Москва, 2-я Бауманская улица, дом 5, стр...</td>\n",
       "      <td>100</td>\n",
       "    </tr>\n",
       "    <tr>\n",
       "      <th>2384</th>\n",
       "      <td>28617</td>\n",
       "      <td>комбинат питания мгту им.н.э.баумана</td>\n",
       "      <td>нет</td>\n",
       "      <td>столовая</td>\n",
       "      <td>город Москва, 2-я Бауманская улица, дом 5, стр...</td>\n",
       "      <td>108</td>\n",
       "    </tr>\n",
       "    <tr>\n",
       "      <th>2383</th>\n",
       "      <td>28616</td>\n",
       "      <td>комбинат питания мгту им.н.э.баумана</td>\n",
       "      <td>нет</td>\n",
       "      <td>закусочная</td>\n",
       "      <td>город Москва, 2-я Бауманская улица, дом 5, стр...</td>\n",
       "      <td>64</td>\n",
       "    </tr>\n",
       "    <tr>\n",
       "      <th>2377</th>\n",
       "      <td>28606</td>\n",
       "      <td>комбинат питания мгту им.н.э.баумана</td>\n",
       "      <td>нет</td>\n",
       "      <td>буфет</td>\n",
       "      <td>город Москва, 2-я Бауманская улица, дом 5, стр...</td>\n",
       "      <td>16</td>\n",
       "    </tr>\n",
       "    <tr>\n",
       "      <th>2381</th>\n",
       "      <td>28611</td>\n",
       "      <td>комбинат питания мгту им.н.э.баумана</td>\n",
       "      <td>нет</td>\n",
       "      <td>столовая</td>\n",
       "      <td>город Москва, 2-я Бауманская улица, дом 5, стр...</td>\n",
       "      <td>100</td>\n",
       "    </tr>\n",
       "    <tr>\n",
       "      <th>2382</th>\n",
       "      <td>28615</td>\n",
       "      <td>комбинат питания мгту им.н.э.баумана</td>\n",
       "      <td>нет</td>\n",
       "      <td>столовая</td>\n",
       "      <td>город Москва, 2-я Бауманская улица, дом 5, стр...</td>\n",
       "      <td>168</td>\n",
       "    </tr>\n",
       "    <tr>\n",
       "      <th>2378</th>\n",
       "      <td>28607</td>\n",
       "      <td>комбинат питания мгту им.н.э.баумана</td>\n",
       "      <td>нет</td>\n",
       "      <td>закусочная</td>\n",
       "      <td>город Москва, 2-я Бауманская улица, дом 5, стр...</td>\n",
       "      <td>16</td>\n",
       "    </tr>\n",
       "    <tr>\n",
       "      <th>2379</th>\n",
       "      <td>28609</td>\n",
       "      <td>комбинат питания мгту им.н.э.баумана</td>\n",
       "      <td>нет</td>\n",
       "      <td>буфет</td>\n",
       "      <td>город Москва, 2-я Бауманская улица, дом 5, стр...</td>\n",
       "      <td>30</td>\n",
       "    </tr>\n",
       "  </tbody>\n",
       "</table>\n",
       "</div>"
      ],
      "text/plain": [
       "          id                           object_name chain object_type  \\\n",
       "5191  107485                                  кафе   нет        кафе   \n",
       "5185  107442                                  кафе   нет        кафе   \n",
       "5186  107574                                  кафе   нет        кафе   \n",
       "5187  107462                                  кафе   нет        кафе   \n",
       "5188  107466                                  кафе   нет        кафе   \n",
       "5189  107471                                  кафе   нет        кафе   \n",
       "5190  107480                                  кафе   нет        кафе   \n",
       "5184  107456                                  кафе   нет        кафе   \n",
       "5183  107450                                  кафе   нет        кафе   \n",
       "9182  162548                                  кафе   нет        кафе   \n",
       "9275  166766                                  кафе   нет        кафе   \n",
       "2375   28604  комбинат питания мгту им.н.э.баумана   нет    столовая   \n",
       "2374   28603  комбинат питания мгту им.н.э.баумана   нет    столовая   \n",
       "2384   28617  комбинат питания мгту им.н.э.баумана   нет    столовая   \n",
       "2383   28616  комбинат питания мгту им.н.э.баумана   нет  закусочная   \n",
       "2377   28606  комбинат питания мгту им.н.э.баумана   нет       буфет   \n",
       "2381   28611  комбинат питания мгту им.н.э.баумана   нет    столовая   \n",
       "2382   28615  комбинат питания мгту им.н.э.баумана   нет    столовая   \n",
       "2378   28607  комбинат питания мгту им.н.э.баумана   нет  закусочная   \n",
       "2379   28609  комбинат питания мгту им.н.э.баумана   нет       буфет   \n",
       "\n",
       "                                                address  number  \n",
       "5191       город Москва, 1-я Останкинская улица, дом 55       6  \n",
       "5185       город Москва, 1-я Останкинская улица, дом 55      20  \n",
       "5186       город Москва, 1-я Останкинская улица, дом 55      10  \n",
       "5187       город Москва, 1-я Останкинская улица, дом 55       5  \n",
       "5188       город Москва, 1-я Останкинская улица, дом 55       5  \n",
       "5189       город Москва, 1-я Останкинская улица, дом 55       4  \n",
       "5190       город Москва, 1-я Останкинская улица, дом 55       5  \n",
       "5184       город Москва, 1-я Останкинская улица, дом 55      10  \n",
       "5183       город Москва, 1-я Останкинская улица, дом 55      20  \n",
       "9182  город Москва, 19-й километр Московской Кольцев...      20  \n",
       "9275  город Москва, 19-й километр Московской Кольцев...      42  \n",
       "2375  город Москва, 2-я Бауманская улица, дом 5, стр...     150  \n",
       "2374  город Москва, 2-я Бауманская улица, дом 5, стр...     100  \n",
       "2384  город Москва, 2-я Бауманская улица, дом 5, стр...     108  \n",
       "2383  город Москва, 2-я Бауманская улица, дом 5, стр...      64  \n",
       "2377  город Москва, 2-я Бауманская улица, дом 5, стр...      16  \n",
       "2381  город Москва, 2-я Бауманская улица, дом 5, стр...     100  \n",
       "2382  город Москва, 2-я Бауманская улица, дом 5, стр...     168  \n",
       "2378  город Москва, 2-я Бауманская улица, дом 5, стр...      16  \n",
       "2379  город Москва, 2-я Бауманская улица, дом 5, стр...      30  "
      ]
     },
     "metadata": {},
     "output_type": "display_data"
    }
   ],
   "source": [
    "display(rest_data_1[rest_data_1.duplicated(subset=['object_name', 'object_type', 'address'], keep=False)].sort_values(by='address').head(20))"
   ]
  },
  {
   "cell_type": "markdown",
   "metadata": {},
   "source": [
    "Видно, что некоторые дубликаты отличаются в части количества мест, но т.к дубликаты составляют менее 1,5% от исходного датасета - удалим их. Это не должно повлиять на данные, если в дубликатах нет выбросов."
   ]
  },
  {
   "cell_type": "code",
   "execution_count": 10,
   "metadata": {},
   "outputs": [
    {
     "name": "stdout",
     "output_type": "stream",
     "text": [
      "<class 'pandas.core.frame.DataFrame'>\n",
      "RangeIndex: 15182 entries, 0 to 15181\n",
      "Data columns (total 6 columns):\n",
      " #   Column       Non-Null Count  Dtype \n",
      "---  ------       --------------  ----- \n",
      " 0   id           15182 non-null  int64 \n",
      " 1   object_name  15182 non-null  object\n",
      " 2   chain        15182 non-null  object\n",
      " 3   object_type  15182 non-null  object\n",
      " 4   address      15182 non-null  object\n",
      " 5   number       15182 non-null  int64 \n",
      "dtypes: int64(2), object(4)\n",
      "memory usage: 711.8+ KB\n"
     ]
    }
   ],
   "source": [
    "# удалим дубликаты\n",
    "rest_data_1 = rest_data_1.drop_duplicates(subset=['object_name', 'object_type', 'address']).reset_index(drop=True)\n",
    "rest_data_1.info()"
   ]
  },
  {
   "cell_type": "markdown",
   "metadata": {},
   "source": [
    "## Анализ данных"
   ]
  },
  {
   "cell_type": "markdown",
   "metadata": {},
   "source": [
    "### Соотношение видов объектов по количеству"
   ]
  },
  {
   "cell_type": "code",
   "execution_count": 11,
   "metadata": {},
   "outputs": [
    {
     "data": {
      "text/html": [
       "<div>\n",
       "<style scoped>\n",
       "    .dataframe tbody tr th:only-of-type {\n",
       "        vertical-align: middle;\n",
       "    }\n",
       "\n",
       "    .dataframe tbody tr th {\n",
       "        vertical-align: top;\n",
       "    }\n",
       "\n",
       "    .dataframe thead th {\n",
       "        text-align: right;\n",
       "    }\n",
       "</style>\n",
       "<table border=\"1\" class=\"dataframe\">\n",
       "  <thead>\n",
       "    <tr style=\"text-align: right;\">\n",
       "      <th></th>\n",
       "      <th>object_type</th>\n",
       "      <th>id</th>\n",
       "    </tr>\n",
       "  </thead>\n",
       "  <tbody>\n",
       "    <tr>\n",
       "      <th>3</th>\n",
       "      <td>кафе</td>\n",
       "      <td>6008</td>\n",
       "    </tr>\n",
       "    <tr>\n",
       "      <th>8</th>\n",
       "      <td>столовая</td>\n",
       "      <td>2575</td>\n",
       "    </tr>\n",
       "    <tr>\n",
       "      <th>7</th>\n",
       "      <td>ресторан</td>\n",
       "      <td>2274</td>\n",
       "    </tr>\n",
       "    <tr>\n",
       "      <th>6</th>\n",
       "      <td>предприятие быстрого обслуживания</td>\n",
       "      <td>1890</td>\n",
       "    </tr>\n",
       "    <tr>\n",
       "      <th>0</th>\n",
       "      <td>бар</td>\n",
       "      <td>853</td>\n",
       "    </tr>\n",
       "    <tr>\n",
       "      <th>1</th>\n",
       "      <td>буфет</td>\n",
       "      <td>570</td>\n",
       "    </tr>\n",
       "    <tr>\n",
       "      <th>4</th>\n",
       "      <td>кафетерий</td>\n",
       "      <td>393</td>\n",
       "    </tr>\n",
       "    <tr>\n",
       "      <th>2</th>\n",
       "      <td>закусочная</td>\n",
       "      <td>347</td>\n",
       "    </tr>\n",
       "    <tr>\n",
       "      <th>5</th>\n",
       "      <td>магазин (отдел кулинарии)</td>\n",
       "      <td>272</td>\n",
       "    </tr>\n",
       "  </tbody>\n",
       "</table>\n",
       "</div>"
      ],
      "text/plain": [
       "                         object_type    id\n",
       "3                               кафе  6008\n",
       "8                           столовая  2575\n",
       "7                           ресторан  2274\n",
       "6  предприятие быстрого обслуживания  1890\n",
       "0                                бар   853\n",
       "1                              буфет   570\n",
       "4                          кафетерий   393\n",
       "2                         закусочная   347\n",
       "5          магазин (отдел кулинарии)   272"
      ]
     },
     "metadata": {},
     "output_type": "display_data"
    }
   ],
   "source": [
    "#группировка по объектам и подсчет их количества\n",
    "rest_object_type = rest_data_1.groupby('object_type', as_index=False).agg({'id': 'count'}).sort_values(by='id',ascending=False)\n",
    "display(rest_object_type)"
   ]
  },
  {
   "cell_type": "code",
   "execution_count": 12,
   "metadata": {},
   "outputs": [
    {
     "data": {
      "image/png": "[encoded data removed]",
      "text/plain": [
       "<Figure size 720x432 with 1 Axes>"
      ]
     },
     "metadata": {
      "needs_background": "light"
     },
     "output_type": "display_data"
    }
   ],
   "source": [
    "# построим график количества заведения по видам объектов\n",
    "plt.figure(figsize=(10,6))\n",
    "plt.barh(rest_object_type['object_type'], rest_object_type['id'])\n",
    "plt.title('Количество заведений по видам')\n",
    "plt.xlabel('Количество заведений')\n",
    "plt.ylabel('Вид объекта')\n",
    "plt.show()"
   ]
  },
  {
   "cell_type": "markdown",
   "metadata": {},
   "source": [
    "Из графика видно, что наибольшее количество заведений в категории Кафе, затем идут Столовая, Ресторан и Предприятие быстрого обслуживания."
   ]
  },
  {
   "cell_type": "markdown",
   "metadata": {},
   "source": [
    "### Соотношение сетевых и несетевых заведений"
   ]
  },
  {
   "cell_type": "code",
   "execution_count": 13,
   "metadata": {},
   "outputs": [
    {
     "data": {
      "text/html": [
       "<div>\n",
       "<style scoped>\n",
       "    .dataframe tbody tr th:only-of-type {\n",
       "        vertical-align: middle;\n",
       "    }\n",
       "\n",
       "    .dataframe tbody tr th {\n",
       "        vertical-align: top;\n",
       "    }\n",
       "\n",
       "    .dataframe thead th {\n",
       "        text-align: right;\n",
       "    }\n",
       "</style>\n",
       "<table border=\"1\" class=\"dataframe\">\n",
       "  <thead>\n",
       "    <tr style=\"text-align: right;\">\n",
       "      <th></th>\n",
       "      <th>id</th>\n",
       "    </tr>\n",
       "    <tr>\n",
       "      <th>chain</th>\n",
       "      <th></th>\n",
       "    </tr>\n",
       "  </thead>\n",
       "  <tbody>\n",
       "    <tr>\n",
       "      <th>да</th>\n",
       "      <td>2948</td>\n",
       "    </tr>\n",
       "    <tr>\n",
       "      <th>нет</th>\n",
       "      <td>12234</td>\n",
       "    </tr>\n",
       "  </tbody>\n",
       "</table>\n",
       "</div>"
      ],
      "text/plain": [
       "          id\n",
       "chain       \n",
       "да      2948\n",
       "нет    12234"
      ]
     },
     "metadata": {},
     "output_type": "display_data"
    }
   ],
   "source": [
    "# группировка по категории сетевой да/нет, подсчет количества заведений\n",
    "rest_chain = rest_data_1.groupby('chain').agg({'id': 'count'})\n",
    "display(rest_chain)"
   ]
  },
  {
   "cell_type": "code",
   "execution_count": 14,
   "metadata": {},
   "outputs": [
    {
     "data": {
      "image/png": "[encoded data removed]",
      "text/plain": [
       "<Figure size 432x288 with 1 Axes>"
      ]
     },
     "metadata": {},
     "output_type": "display_data"
    }
   ],
   "source": [
    "#построим график количества сетевых и несетевых заведений\n",
    "plt.figure(figsize=(6,4))\n",
    "plt.pie(rest_chain['id'], labels=['сетевые', 'несетевые'], autopct = '% 1.1f %%')\n",
    "plt.title('Количество сетевых и несетевых заведений')\n",
    "plt.show()"
   ]
  },
  {
   "cell_type": "markdown",
   "metadata": {},
   "source": [
    "Из полученного графика видно, что в Москве преобладают несетевые заведения. Их количество примерно в 4 раза больше сетевых."
   ]
  },
  {
   "cell_type": "markdown",
   "metadata": {},
   "source": [
    "### Доля сетевых заведений по видам объектов"
   ]
  },
  {
   "cell_type": "code",
   "execution_count": 15,
   "metadata": {},
   "outputs": [
    {
     "data": {
      "text/html": [
       "<div>\n",
       "<style scoped>\n",
       "    .dataframe tbody tr th:only-of-type {\n",
       "        vertical-align: middle;\n",
       "    }\n",
       "\n",
       "    .dataframe tbody tr th {\n",
       "        vertical-align: top;\n",
       "    }\n",
       "\n",
       "    .dataframe thead th {\n",
       "        text-align: right;\n",
       "    }\n",
       "</style>\n",
       "<table border=\"1\" class=\"dataframe\">\n",
       "  <thead>\n",
       "    <tr style=\"text-align: right;\">\n",
       "      <th></th>\n",
       "      <th>id</th>\n",
       "    </tr>\n",
       "    <tr>\n",
       "      <th>object_type</th>\n",
       "      <th></th>\n",
       "    </tr>\n",
       "  </thead>\n",
       "  <tbody>\n",
       "    <tr>\n",
       "      <th>бар</th>\n",
       "      <td>37</td>\n",
       "    </tr>\n",
       "    <tr>\n",
       "      <th>буфет</th>\n",
       "      <td>11</td>\n",
       "    </tr>\n",
       "    <tr>\n",
       "      <th>закусочная</th>\n",
       "      <td>56</td>\n",
       "    </tr>\n",
       "    <tr>\n",
       "      <th>кафе</th>\n",
       "      <td>1387</td>\n",
       "    </tr>\n",
       "    <tr>\n",
       "      <th>кафетерий</th>\n",
       "      <td>51</td>\n",
       "    </tr>\n",
       "    <tr>\n",
       "      <th>магазин (отдел кулинарии)</th>\n",
       "      <td>78</td>\n",
       "    </tr>\n",
       "    <tr>\n",
       "      <th>предприятие быстрого обслуживания</th>\n",
       "      <td>784</td>\n",
       "    </tr>\n",
       "    <tr>\n",
       "      <th>ресторан</th>\n",
       "      <td>541</td>\n",
       "    </tr>\n",
       "    <tr>\n",
       "      <th>столовая</th>\n",
       "      <td>3</td>\n",
       "    </tr>\n",
       "  </tbody>\n",
       "</table>\n",
       "</div>"
      ],
      "text/plain": [
       "                                     id\n",
       "object_type                            \n",
       "бар                                  37\n",
       "буфет                                11\n",
       "закусочная                           56\n",
       "кафе                               1387\n",
       "кафетерий                            51\n",
       "магазин (отдел кулинарии)            78\n",
       "предприятие быстрого обслуживания   784\n",
       "ресторан                            541\n",
       "столовая                              3"
      ]
     },
     "metadata": {},
     "output_type": "display_data"
    }
   ],
   "source": [
    "#создадим таблицу с количеством сетевых заведений\n",
    "rest_network = rest_data_1[rest_data_1['chain'] == 'да'].groupby('object_type').agg({'id': 'count'})\n",
    "display(rest_network)"
   ]
  },
  {
   "cell_type": "code",
   "execution_count": 16,
   "metadata": {},
   "outputs": [
    {
     "data": {
      "text/html": [
       "<div>\n",
       "<style scoped>\n",
       "    .dataframe tbody tr th:only-of-type {\n",
       "        vertical-align: middle;\n",
       "    }\n",
       "\n",
       "    .dataframe tbody tr th {\n",
       "        vertical-align: top;\n",
       "    }\n",
       "\n",
       "    .dataframe thead th {\n",
       "        text-align: right;\n",
       "    }\n",
       "</style>\n",
       "<table border=\"1\" class=\"dataframe\">\n",
       "  <thead>\n",
       "    <tr style=\"text-align: right;\">\n",
       "      <th></th>\n",
       "      <th>object_type</th>\n",
       "      <th>count</th>\n",
       "      <th>chain_yes</th>\n",
       "      <th>share</th>\n",
       "    </tr>\n",
       "  </thead>\n",
       "  <tbody>\n",
       "    <tr>\n",
       "      <th>3</th>\n",
       "      <td>предприятие быстрого обслуживания</td>\n",
       "      <td>1890</td>\n",
       "      <td>784</td>\n",
       "      <td>41.48</td>\n",
       "    </tr>\n",
       "    <tr>\n",
       "      <th>8</th>\n",
       "      <td>магазин (отдел кулинарии)</td>\n",
       "      <td>272</td>\n",
       "      <td>78</td>\n",
       "      <td>28.68</td>\n",
       "    </tr>\n",
       "    <tr>\n",
       "      <th>2</th>\n",
       "      <td>ресторан</td>\n",
       "      <td>2274</td>\n",
       "      <td>541</td>\n",
       "      <td>23.79</td>\n",
       "    </tr>\n",
       "    <tr>\n",
       "      <th>0</th>\n",
       "      <td>кафе</td>\n",
       "      <td>6008</td>\n",
       "      <td>1387</td>\n",
       "      <td>23.09</td>\n",
       "    </tr>\n",
       "    <tr>\n",
       "      <th>7</th>\n",
       "      <td>закусочная</td>\n",
       "      <td>347</td>\n",
       "      <td>56</td>\n",
       "      <td>16.14</td>\n",
       "    </tr>\n",
       "    <tr>\n",
       "      <th>6</th>\n",
       "      <td>кафетерий</td>\n",
       "      <td>393</td>\n",
       "      <td>51</td>\n",
       "      <td>12.98</td>\n",
       "    </tr>\n",
       "    <tr>\n",
       "      <th>4</th>\n",
       "      <td>бар</td>\n",
       "      <td>853</td>\n",
       "      <td>37</td>\n",
       "      <td>4.34</td>\n",
       "    </tr>\n",
       "    <tr>\n",
       "      <th>5</th>\n",
       "      <td>буфет</td>\n",
       "      <td>570</td>\n",
       "      <td>11</td>\n",
       "      <td>1.93</td>\n",
       "    </tr>\n",
       "    <tr>\n",
       "      <th>1</th>\n",
       "      <td>столовая</td>\n",
       "      <td>2575</td>\n",
       "      <td>3</td>\n",
       "      <td>0.12</td>\n",
       "    </tr>\n",
       "  </tbody>\n",
       "</table>\n",
       "</div>"
      ],
      "text/plain": [
       "                         object_type  count  chain_yes  share\n",
       "3  предприятие быстрого обслуживания   1890        784  41.48\n",
       "8          магазин (отдел кулинарии)    272         78  28.68\n",
       "2                           ресторан   2274        541  23.79\n",
       "0                               кафе   6008       1387  23.09\n",
       "7                         закусочная    347         56  16.14\n",
       "6                          кафетерий    393         51  12.98\n",
       "4                                бар    853         37   4.34\n",
       "5                              буфет    570         11   1.93\n",
       "1                           столовая   2575          3   0.12"
      ]
     },
     "metadata": {},
     "output_type": "display_data"
    }
   ],
   "source": [
    "#объединим таблицы сетевых заведений и общее количество и посчитаем долю сетевых\n",
    "rest_network_share = rest_object_type.merge(rest_network, left_on='object_type', right_on=rest_network.index)\n",
    "rest_network_share['share'] = (rest_network_share['id_y'] / rest_network_share['id_x'] * 100).round(2)\n",
    "rest_network_share.rename(columns={'key_0': 'object_type', 'id_x': 'count', 'id_y': 'chain_yes'}, inplace=True)\n",
    "rest_network_share = rest_network_share.sort_values('share', ascending=False)\n",
    "display(rest_network_share)"
   ]
  },
  {
   "cell_type": "code",
   "execution_count": 17,
   "metadata": {},
   "outputs": [
    {
     "data": {
      "image/png": "[encoded data removed]",
      "text/plain": [
       "<Figure size 720x432 with 1 Axes>"
      ]
     },
     "metadata": {
      "needs_background": "light"
     },
     "output_type": "display_data"
    }
   ],
   "source": [
    "#построим график по долям сетевых заведений от общего количества в виде\n",
    "plt.figure(figsize=(10,6))\n",
    "plt.barh(rest_network_share['object_type'], rest_network_share['share'])\n",
    "plt.title('Доля сетевых заведений по видам')\n",
    "plt.xlabel('Доля заведений')\n",
    "plt.ylabel('Вид объекта')\n",
    "plt.show()"
   ]
  },
  {
   "cell_type": "markdown",
   "metadata": {},
   "source": [
    "Из графика видно, что сетевые заведения наиболее характерны для Предприятий быстрого обслуживания, Магазинов(отделов кулинарии), Ресторанов и Кафе. Доля каждого составляет более 20%."
   ]
  },
  {
   "cell_type": "markdown",
   "metadata": {},
   "source": [
    "### Специфика сетевых заведений"
   ]
  },
  {
   "cell_type": "code",
   "execution_count": 18,
   "metadata": {},
   "outputs": [
    {
     "data": {
      "text/html": [
       "<div>\n",
       "<style scoped>\n",
       "    .dataframe tbody tr th:only-of-type {\n",
       "        vertical-align: middle;\n",
       "    }\n",
       "\n",
       "    .dataframe tbody tr th {\n",
       "        vertical-align: top;\n",
       "    }\n",
       "\n",
       "    .dataframe thead th {\n",
       "        text-align: right;\n",
       "    }\n",
       "</style>\n",
       "<table border=\"1\" class=\"dataframe\">\n",
       "  <thead>\n",
       "    <tr style=\"text-align: right;\">\n",
       "      <th></th>\n",
       "      <th>id</th>\n",
       "      <th>object_name</th>\n",
       "      <th>chain</th>\n",
       "      <th>object_type</th>\n",
       "      <th>address</th>\n",
       "      <th>number</th>\n",
       "    </tr>\n",
       "  </thead>\n",
       "  <tbody>\n",
       "    <tr>\n",
       "      <th>3</th>\n",
       "      <td>21894</td>\n",
       "      <td>пиццетория</td>\n",
       "      <td>да</td>\n",
       "      <td>кафе</td>\n",
       "      <td>город Москва, Абрамцевская улица, дом 1</td>\n",
       "      <td>40</td>\n",
       "    </tr>\n",
       "    <tr>\n",
       "      <th>6</th>\n",
       "      <td>148815</td>\n",
       "      <td>брусника</td>\n",
       "      <td>да</td>\n",
       "      <td>кафе</td>\n",
       "      <td>город Москва, переулок Сивцев Вражек, дом 6/2</td>\n",
       "      <td>10</td>\n",
       "    </tr>\n",
       "    <tr>\n",
       "      <th>13</th>\n",
       "      <td>22579</td>\n",
       "      <td>алло пицца</td>\n",
       "      <td>да</td>\n",
       "      <td>кафе</td>\n",
       "      <td>город Москва, улица Авиаторов, дом 14</td>\n",
       "      <td>32</td>\n",
       "    </tr>\n",
       "    <tr>\n",
       "      <th>16</th>\n",
       "      <td>144107</td>\n",
       "      <td>суши wok</td>\n",
       "      <td>да</td>\n",
       "      <td>предприятие быстрого обслуживания</td>\n",
       "      <td>город Москва, Азовская улица, дом 3</td>\n",
       "      <td>7</td>\n",
       "    </tr>\n",
       "    <tr>\n",
       "      <th>18</th>\n",
       "      <td>58565</td>\n",
       "      <td>тануки</td>\n",
       "      <td>да</td>\n",
       "      <td>ресторан</td>\n",
       "      <td>город Москва, Большая Академическая улица, дом 65</td>\n",
       "      <td>160</td>\n",
       "    </tr>\n",
       "    <tr>\n",
       "      <th>...</th>\n",
       "      <td>...</td>\n",
       "      <td>...</td>\n",
       "      <td>...</td>\n",
       "      <td>...</td>\n",
       "      <td>...</td>\n",
       "      <td>...</td>\n",
       "    </tr>\n",
       "    <tr>\n",
       "      <th>15177</th>\n",
       "      <td>222077</td>\n",
       "      <td>кофейня «шоколадница»</td>\n",
       "      <td>да</td>\n",
       "      <td>кафе</td>\n",
       "      <td>город Москва, Кантемировская улица, дом 47</td>\n",
       "      <td>72</td>\n",
       "    </tr>\n",
       "    <tr>\n",
       "      <th>15178</th>\n",
       "      <td>219759</td>\n",
       "      <td>шоколадница</td>\n",
       "      <td>да</td>\n",
       "      <td>кафе</td>\n",
       "      <td>город Москва, улица Вавилова, дом 3</td>\n",
       "      <td>36</td>\n",
       "    </tr>\n",
       "    <tr>\n",
       "      <th>15179</th>\n",
       "      <td>208537</td>\n",
       "      <td>шоколадница</td>\n",
       "      <td>да</td>\n",
       "      <td>кафе</td>\n",
       "      <td>город Москва, 3-й Крутицкий переулок, дом 18</td>\n",
       "      <td>50</td>\n",
       "    </tr>\n",
       "    <tr>\n",
       "      <th>15180</th>\n",
       "      <td>209264</td>\n",
       "      <td>шоколадница</td>\n",
       "      <td>да</td>\n",
       "      <td>кафе</td>\n",
       "      <td>город Москва, улица Земляной Вал, дом 33</td>\n",
       "      <td>10</td>\n",
       "    </tr>\n",
       "    <tr>\n",
       "      <th>15181</th>\n",
       "      <td>221900</td>\n",
       "      <td>шоколадница</td>\n",
       "      <td>да</td>\n",
       "      <td>кафе</td>\n",
       "      <td>город Москва, поселение Московский, Киевское ш...</td>\n",
       "      <td>36</td>\n",
       "    </tr>\n",
       "  </tbody>\n",
       "</table>\n",
       "<p>2948 rows × 6 columns</p>\n",
       "</div>"
      ],
      "text/plain": [
       "           id            object_name chain                        object_type  \\\n",
       "3       21894             пиццетория    да                               кафе   \n",
       "6      148815               брусника    да                               кафе   \n",
       "13      22579             алло пицца    да                               кафе   \n",
       "16     144107               суши wok    да  предприятие быстрого обслуживания   \n",
       "18      58565                 тануки    да                           ресторан   \n",
       "...       ...                    ...   ...                                ...   \n",
       "15177  222077  кофейня «шоколадница»    да                               кафе   \n",
       "15178  219759            шоколадница    да                               кафе   \n",
       "15179  208537            шоколадница    да                               кафе   \n",
       "15180  209264            шоколадница    да                               кафе   \n",
       "15181  221900            шоколадница    да                               кафе   \n",
       "\n",
       "                                                 address  number  \n",
       "3                город Москва, Абрамцевская улица, дом 1      40  \n",
       "6          город Москва, переулок Сивцев Вражек, дом 6/2      10  \n",
       "13                 город Москва, улица Авиаторов, дом 14      32  \n",
       "16                   город Москва, Азовская улица, дом 3       7  \n",
       "18     город Москва, Большая Академическая улица, дом 65     160  \n",
       "...                                                  ...     ...  \n",
       "15177         город Москва, Кантемировская улица, дом 47      72  \n",
       "15178                город Москва, улица Вавилова, дом 3      36  \n",
       "15179       город Москва, 3-й Крутицкий переулок, дом 18      50  \n",
       "15180           город Москва, улица Земляной Вал, дом 33      10  \n",
       "15181  город Москва, поселение Московский, Киевское ш...      36  \n",
       "\n",
       "[2948 rows x 6 columns]"
      ]
     },
     "metadata": {},
     "output_type": "display_data"
    }
   ],
   "source": [
    "# создадим таблицу только сетевых заведений\n",
    "rest_network_yes = rest_data_1.query('chain == \"да\"')\n",
    "display(rest_network_yes)"
   ]
  },
  {
   "cell_type": "code",
   "execution_count": 19,
   "metadata": {},
   "outputs": [
    {
     "data": {
      "text/plain": [
       "[Text(0.5, 1.0, 'Количество мест в сетевых заведениях'),\n",
       " Text(0.5, 0, 'Количество мест')]"
      ]
     },
     "execution_count": 19,
     "metadata": {},
     "output_type": "execute_result"
    },
    {
     "data": {
      "image/png": "[encoded data removed]",
      "text/plain": [
       "<Figure size 936x576 with 1 Axes>"
      ]
     },
     "metadata": {
      "needs_background": "light"
     },
     "output_type": "display_data"
    }
   ],
   "source": [
    "#построим график распределения количества мест в сетевых заведениях\n",
    "import warnings\n",
    "warnings.filterwarnings(\"ignore\")\n",
    "plt.figure(figsize=(13, 8))\n",
    "sns.distplot(rest_network_yes['number']).set(title='Количество мест в сетевых заведениях', xlabel='Количество мест')"
   ]
  },
  {
   "cell_type": "markdown",
   "metadata": {},
   "source": [
    "Из графика видно, что большинство сетевых заведений не превышают 100 мест. Для более точной оценки рассчитаем 95 и 99 перцентиль."
   ]
  },
  {
   "cell_type": "code",
   "execution_count": 20,
   "metadata": {},
   "outputs": [
    {
     "name": "stdout",
     "output_type": "stream",
     "text": [
      "[159.   275.53]\n"
     ]
    }
   ],
   "source": [
    "# посчитаем 95-й и 99-й перцентили количества мест\n",
    "print(np.percentile(rest_network_yes['number'], [95, 99]))"
   ]
  },
  {
   "cell_type": "markdown",
   "metadata": {},
   "source": [
    "Не более 5% процентов сетевых заведений имеют больше 160 посадочных мест.\n",
    "\n",
    "Посмотрим картину по заведениям. Сгруппируем заведения по названию и построим диаграмму рассеяния."
   ]
  },
  {
   "cell_type": "code",
   "execution_count": 21,
   "metadata": {},
   "outputs": [
    {
     "data": {
      "text/plain": [
       "([], [])"
      ]
     },
     "execution_count": 21,
     "metadata": {},
     "output_type": "execute_result"
    },
    {
     "data": {
      "image/png": "[encoded data removed]",
      "text/plain": [
       "<Figure size 576x432 with 1 Axes>"
      ]
     },
     "metadata": {
      "needs_background": "light"
     },
     "output_type": "display_data"
    }
   ],
   "source": [
    "rest_name = rest_network_yes.groupby('object_name', as_index=False).agg({'number': 'count'})\n",
    "rest_name.plot(x='object_name', y='number', kind='scatter', figsize=(8,6))\n",
    "plt.title('Диаграмма рассеяния количества мест по заведениям')\n",
    "plt.xlabel('Заведения')\n",
    "plt.ylabel('Количество мест')\n",
    "plt.xticks([])"
   ]
  },
  {
   "cell_type": "markdown",
   "metadata": {},
   "source": [
    "Масштабируем график для удобства отображения информации."
   ]
  },
  {
   "cell_type": "code",
   "execution_count": 22,
   "metadata": {},
   "outputs": [
    {
     "data": {
      "text/plain": [
       "([], [])"
      ]
     },
     "execution_count": 22,
     "metadata": {},
     "output_type": "execute_result"
    },
    {
     "data": {
      "image/png": "[encoded data removed]",
      "text/plain": [
       "<Figure size 576x432 with 1 Axes>"
      ]
     },
     "metadata": {
      "needs_background": "light"
     },
     "output_type": "display_data"
    }
   ],
   "source": [
    "rest_name.plot(x='object_name', y='number', kind='scatter', figsize=(8,6), ylim=(0, 40))\n",
    "plt.title('Диаграмма рассеяния количества мест по заведениям')\n",
    "plt.xlabel('Заведения')\n",
    "plt.ylabel('Количество мест')\n",
    "plt.xticks([])"
   ]
  },
  {
   "cell_type": "markdown",
   "metadata": {},
   "source": [
    "Из диаграммы видно, что в большинстве заведений до 20 мест."
   ]
  },
  {
   "cell_type": "markdown",
   "metadata": {},
   "source": [
    "### Среднее количество мест по видам объектов"
   ]
  },
  {
   "cell_type": "code",
   "execution_count": 23,
   "metadata": {},
   "outputs": [
    {
     "data": {
      "text/html": [
       "<div>\n",
       "<style scoped>\n",
       "    .dataframe tbody tr th:only-of-type {\n",
       "        vertical-align: middle;\n",
       "    }\n",
       "\n",
       "    .dataframe tbody tr th {\n",
       "        vertical-align: top;\n",
       "    }\n",
       "\n",
       "    .dataframe thead th {\n",
       "        text-align: right;\n",
       "    }\n",
       "</style>\n",
       "<table border=\"1\" class=\"dataframe\">\n",
       "  <thead>\n",
       "    <tr style=\"text-align: right;\">\n",
       "      <th></th>\n",
       "      <th>object_type</th>\n",
       "      <th>number</th>\n",
       "    </tr>\n",
       "  </thead>\n",
       "  <tbody>\n",
       "    <tr>\n",
       "      <th>8</th>\n",
       "      <td>столовая</td>\n",
       "      <td>130.367767</td>\n",
       "    </tr>\n",
       "    <tr>\n",
       "      <th>7</th>\n",
       "      <td>ресторан</td>\n",
       "      <td>97.065963</td>\n",
       "    </tr>\n",
       "    <tr>\n",
       "      <th>1</th>\n",
       "      <td>буфет</td>\n",
       "      <td>51.487719</td>\n",
       "    </tr>\n",
       "    <tr>\n",
       "      <th>0</th>\n",
       "      <td>бар</td>\n",
       "      <td>43.602579</td>\n",
       "    </tr>\n",
       "    <tr>\n",
       "      <th>3</th>\n",
       "      <td>кафе</td>\n",
       "      <td>39.886984</td>\n",
       "    </tr>\n",
       "    <tr>\n",
       "      <th>6</th>\n",
       "      <td>предприятие быстрого обслуживания</td>\n",
       "      <td>20.787302</td>\n",
       "    </tr>\n",
       "    <tr>\n",
       "      <th>4</th>\n",
       "      <td>кафетерий</td>\n",
       "      <td>9.221374</td>\n",
       "    </tr>\n",
       "    <tr>\n",
       "      <th>2</th>\n",
       "      <td>закусочная</td>\n",
       "      <td>7.685879</td>\n",
       "    </tr>\n",
       "    <tr>\n",
       "      <th>5</th>\n",
       "      <td>магазин (отдел кулинарии)</td>\n",
       "      <td>5.610294</td>\n",
       "    </tr>\n",
       "  </tbody>\n",
       "</table>\n",
       "</div>"
      ],
      "text/plain": [
       "                         object_type      number\n",
       "8                           столовая  130.367767\n",
       "7                           ресторан   97.065963\n",
       "1                              буфет   51.487719\n",
       "0                                бар   43.602579\n",
       "3                               кафе   39.886984\n",
       "6  предприятие быстрого обслуживания   20.787302\n",
       "4                          кафетерий    9.221374\n",
       "2                         закусочная    7.685879\n",
       "5          магазин (отдел кулинарии)    5.610294"
      ]
     },
     "metadata": {},
     "output_type": "display_data"
    }
   ],
   "source": [
    "#сгруппируем объекты по видам и посчитаем среднее количество мест\n",
    "number_count = rest_data_1.groupby('object_type', as_index=False).agg({'number': 'mean'}).sort_values(by='number', ascending=False)\n",
    "display(number_count)"
   ]
  },
  {
   "cell_type": "code",
   "execution_count": 24,
   "metadata": {},
   "outputs": [
    {
     "data": {
      "image/png": "[encoded data removed]",
      "text/plain": [
       "<Figure size 720x432 with 1 Axes>"
      ]
     },
     "metadata": {
      "needs_background": "light"
     },
     "output_type": "display_data"
    }
   ],
   "source": [
    "# построим график среднего количества мест по видам объектов\n",
    "plt.figure(figsize=(10,6))\n",
    "plt.barh(number_count['object_type'], number_count['number'])\n",
    "plt.title('Среднее количество мест по видам объектов')\n",
    "plt.xlabel('Среднее количество мест')\n",
    "plt.ylabel('Вид объекта')\n",
    "plt.show()"
   ]
  },
  {
   "cell_type": "markdown",
   "metadata": {},
   "source": [
    "Наибольшее среднее количество мест наблюдается для ресторанов и столовых. Для проверки влияния выбросов на данный показатель построим диаграмму \"ящик с усами\"."
   ]
  },
  {
   "cell_type": "code",
   "execution_count": 25,
   "metadata": {},
   "outputs": [
    {
     "data": {
      "image/png": "[encoded data removed]",
      "text/plain": [
       "<Figure size 936x576 with 1 Axes>"
      ]
     },
     "metadata": {
      "needs_background": "light"
     },
     "output_type": "display_data"
    }
   ],
   "source": [
    "#построим ящик с усами\n",
    "plt.figure(figsize=(13,8))\n",
    "sns.boxplot(data=rest_data_1, x = 'object_type', y = 'number', color='#9d89d8')\n",
    "sns.despine(bottom=True)\n",
    "plt.title('Количество мест по видам объектов')\n",
    "plt.xlabel('Вид объекта')\n",
    "plt.ylabel('Количество мест')\n",
    "plt.xticks(rotation=45)\n",
    "plt.show()"
   ]
  },
  {
   "cell_type": "code",
   "execution_count": 26,
   "metadata": {},
   "outputs": [
    {
     "data": {
      "image/png": "[encoded data removed]",
      "text/plain": [
       "<Figure size 936x576 with 1 Axes>"
      ]
     },
     "metadata": {
      "needs_background": "light"
     },
     "output_type": "display_data"
    }
   ],
   "source": [
    "# изменим масштаб оси Y для нагрлядности\n",
    "plt.figure(figsize=(13,8))\n",
    "sns.boxplot(data=rest_data_1, x = 'object_type', y = 'number', color='#9d89d8').set(ylim=(0, 450))\n",
    "sns.despine(bottom=True)\n",
    "plt.title('Количество мест по видам объектов')\n",
    "plt.xlabel('Вид объекта')\n",
    "plt.ylabel('Количество мест')\n",
    "plt.xticks(rotation=45)\n",
    "plt.show()"
   ]
  },
  {
   "cell_type": "markdown",
   "metadata": {},
   "source": [
    "Из данного графика видно, что действительно такие видов объектов как столовая и ресторан имеют наибольшее среднее и медианное значение."
   ]
  },
  {
   "cell_type": "markdown",
   "metadata": {},
   "source": [
    "### Расположение объектов общественного питания"
   ]
  },
  {
   "cell_type": "code",
   "execution_count": 27,
   "metadata": {},
   "outputs": [
    {
     "name": "stdout",
     "output_type": "stream",
     "text": [
      "Пропуски\n",
      "id               0\n",
      "object_name      0\n",
      "chain            0\n",
      "object_type      0\n",
      "address          0\n",
      "number           0\n",
      "street         377\n",
      "dtype: int64\n"
     ]
    },
    {
     "data": {
      "text/html": [
       "<div>\n",
       "<style scoped>\n",
       "    .dataframe tbody tr th:only-of-type {\n",
       "        vertical-align: middle;\n",
       "    }\n",
       "\n",
       "    .dataframe tbody tr th {\n",
       "        vertical-align: top;\n",
       "    }\n",
       "\n",
       "    .dataframe thead th {\n",
       "        text-align: right;\n",
       "    }\n",
       "</style>\n",
       "<table border=\"1\" class=\"dataframe\">\n",
       "  <thead>\n",
       "    <tr style=\"text-align: right;\">\n",
       "      <th></th>\n",
       "      <th>id</th>\n",
       "      <th>object_name</th>\n",
       "      <th>chain</th>\n",
       "      <th>object_type</th>\n",
       "      <th>address</th>\n",
       "      <th>number</th>\n",
       "      <th>street</th>\n",
       "    </tr>\n",
       "  </thead>\n",
       "  <tbody>\n",
       "    <tr>\n",
       "      <th>0</th>\n",
       "      <td>151635</td>\n",
       "      <td>сметана</td>\n",
       "      <td>нет</td>\n",
       "      <td>кафе</td>\n",
       "      <td>город Москва, улица Егора Абакумова, дом 9</td>\n",
       "      <td>48</td>\n",
       "      <td>улица Егора Абакумова</td>\n",
       "    </tr>\n",
       "    <tr>\n",
       "      <th>1</th>\n",
       "      <td>77874</td>\n",
       "      <td>родник</td>\n",
       "      <td>нет</td>\n",
       "      <td>кафе</td>\n",
       "      <td>город Москва, улица Талалихина, дом 2/1, корпус 1</td>\n",
       "      <td>35</td>\n",
       "      <td>улица Талалихина</td>\n",
       "    </tr>\n",
       "    <tr>\n",
       "      <th>2</th>\n",
       "      <td>24309</td>\n",
       "      <td>кафе «академия»</td>\n",
       "      <td>нет</td>\n",
       "      <td>кафе</td>\n",
       "      <td>город Москва, Абельмановская улица, дом 6</td>\n",
       "      <td>95</td>\n",
       "      <td>Абельмановская улица</td>\n",
       "    </tr>\n",
       "    <tr>\n",
       "      <th>3</th>\n",
       "      <td>21894</td>\n",
       "      <td>пиццетория</td>\n",
       "      <td>да</td>\n",
       "      <td>кафе</td>\n",
       "      <td>город Москва, Абрамцевская улица, дом 1</td>\n",
       "      <td>40</td>\n",
       "      <td>Абрамцевская улица</td>\n",
       "    </tr>\n",
       "    <tr>\n",
       "      <th>4</th>\n",
       "      <td>119365</td>\n",
       "      <td>кафе «вишневая метель»</td>\n",
       "      <td>нет</td>\n",
       "      <td>кафе</td>\n",
       "      <td>город Москва, Абрамцевская улица, дом 9, корпус 1</td>\n",
       "      <td>50</td>\n",
       "      <td>Абрамцевская улица</td>\n",
       "    </tr>\n",
       "    <tr>\n",
       "      <th>...</th>\n",
       "      <td>...</td>\n",
       "      <td>...</td>\n",
       "      <td>...</td>\n",
       "      <td>...</td>\n",
       "      <td>...</td>\n",
       "      <td>...</td>\n",
       "      <td>...</td>\n",
       "    </tr>\n",
       "    <tr>\n",
       "      <th>15177</th>\n",
       "      <td>222077</td>\n",
       "      <td>кофейня «шоколадница»</td>\n",
       "      <td>да</td>\n",
       "      <td>кафе</td>\n",
       "      <td>город Москва, Кантемировская улица, дом 47</td>\n",
       "      <td>72</td>\n",
       "      <td>Кантемировская улица</td>\n",
       "    </tr>\n",
       "    <tr>\n",
       "      <th>15178</th>\n",
       "      <td>219759</td>\n",
       "      <td>шоколадница</td>\n",
       "      <td>да</td>\n",
       "      <td>кафе</td>\n",
       "      <td>город Москва, улица Вавилова, дом 3</td>\n",
       "      <td>36</td>\n",
       "      <td>улица Вавилова</td>\n",
       "    </tr>\n",
       "    <tr>\n",
       "      <th>15179</th>\n",
       "      <td>208537</td>\n",
       "      <td>шоколадница</td>\n",
       "      <td>да</td>\n",
       "      <td>кафе</td>\n",
       "      <td>город Москва, 3-й Крутицкий переулок, дом 18</td>\n",
       "      <td>50</td>\n",
       "      <td>3-й Крутицкий переулок</td>\n",
       "    </tr>\n",
       "    <tr>\n",
       "      <th>15180</th>\n",
       "      <td>209264</td>\n",
       "      <td>шоколадница</td>\n",
       "      <td>да</td>\n",
       "      <td>кафе</td>\n",
       "      <td>город Москва, улица Земляной Вал, дом 33</td>\n",
       "      <td>10</td>\n",
       "      <td>улица Земляной Вал</td>\n",
       "    </tr>\n",
       "    <tr>\n",
       "      <th>15181</th>\n",
       "      <td>221900</td>\n",
       "      <td>шоколадница</td>\n",
       "      <td>да</td>\n",
       "      <td>кафе</td>\n",
       "      <td>город Москва, поселение Московский, Киевское ш...</td>\n",
       "      <td>36</td>\n",
       "      <td>Киевское шоссе</td>\n",
       "    </tr>\n",
       "  </tbody>\n",
       "</table>\n",
       "<p>15182 rows × 7 columns</p>\n",
       "</div>"
      ],
      "text/plain": [
       "           id             object_name chain object_type  \\\n",
       "0      151635                 сметана   нет        кафе   \n",
       "1       77874                  родник   нет        кафе   \n",
       "2       24309         кафе «академия»   нет        кафе   \n",
       "3       21894              пиццетория    да        кафе   \n",
       "4      119365  кафе «вишневая метель»   нет        кафе   \n",
       "...       ...                     ...   ...         ...   \n",
       "15177  222077   кофейня «шоколадница»    да        кафе   \n",
       "15178  219759             шоколадница    да        кафе   \n",
       "15179  208537             шоколадница    да        кафе   \n",
       "15180  209264             шоколадница    да        кафе   \n",
       "15181  221900             шоколадница    да        кафе   \n",
       "\n",
       "                                                 address  number  \\\n",
       "0             город Москва, улица Егора Абакумова, дом 9      48   \n",
       "1      город Москва, улица Талалихина, дом 2/1, корпус 1      35   \n",
       "2              город Москва, Абельмановская улица, дом 6      95   \n",
       "3                город Москва, Абрамцевская улица, дом 1      40   \n",
       "4      город Москва, Абрамцевская улица, дом 9, корпус 1      50   \n",
       "...                                                  ...     ...   \n",
       "15177         город Москва, Кантемировская улица, дом 47      72   \n",
       "15178                город Москва, улица Вавилова, дом 3      36   \n",
       "15179       город Москва, 3-й Крутицкий переулок, дом 18      50   \n",
       "15180           город Москва, улица Земляной Вал, дом 33      10   \n",
       "15181  город Москва, поселение Московский, Киевское ш...      36   \n",
       "\n",
       "                       street  \n",
       "0       улица Егора Абакумова  \n",
       "1            улица Талалихина  \n",
       "2        Абельмановская улица  \n",
       "3          Абрамцевская улица  \n",
       "4          Абрамцевская улица  \n",
       "...                       ...  \n",
       "15177    Кантемировская улица  \n",
       "15178          улица Вавилова  \n",
       "15179  3-й Крутицкий переулок  \n",
       "15180      улица Земляной Вал  \n",
       "15181          Киевское шоссе  \n",
       "\n",
       "[15182 rows x 7 columns]"
      ]
     },
     "metadata": {},
     "output_type": "display_data"
    }
   ],
   "source": [
    "#создаем список со всеми возможными указаниями улиц\n",
    "street_types = ['улица', 'бульвар', 'проспект', 'переулок', 'шоссе', \n",
    "'проезд', 'набережная', 'площадь', 'аллея', 'линия', 'квартал', 'мост', 'тупик', 'просека']\n",
    "#создаем формулу выделения улицы\n",
    "def street_finder(address):\n",
    "    for address_part in address.split(', '):\n",
    "        for street_type in street_types:\n",
    "            if address_part.lower().find(street_type)!= -1:\n",
    "                return address_part\n",
    "#применяем формулу к таблице для создания нового столбца\n",
    "rest_data_1['street'] = rest_data_1['address'].apply(street_finder)\n",
    "print('Пропуски')\n",
    "print(rest_data_1.isna().sum())#проверяем на наличие пропусков\n",
    "display(rest_data_1)"
   ]
  },
  {
   "cell_type": "markdown",
   "metadata": {},
   "source": [
    "В столбце с наименованиями улиц найдено 377 пропуска. Посмотрим где они находятся."
   ]
  },
  {
   "cell_type": "code",
   "execution_count": 28,
   "metadata": {},
   "outputs": [
    {
     "data": {
      "text/html": [
       "<div>\n",
       "<style scoped>\n",
       "    .dataframe tbody tr th:only-of-type {\n",
       "        vertical-align: middle;\n",
       "    }\n",
       "\n",
       "    .dataframe tbody tr th {\n",
       "        vertical-align: top;\n",
       "    }\n",
       "\n",
       "    .dataframe thead th {\n",
       "        text-align: right;\n",
       "    }\n",
       "</style>\n",
       "<table border=\"1\" class=\"dataframe\">\n",
       "  <thead>\n",
       "    <tr style=\"text-align: right;\">\n",
       "      <th></th>\n",
       "      <th>id</th>\n",
       "      <th>object_name</th>\n",
       "      <th>chain</th>\n",
       "      <th>object_type</th>\n",
       "      <th>address</th>\n",
       "      <th>number</th>\n",
       "      <th>street</th>\n",
       "    </tr>\n",
       "  </thead>\n",
       "  <tbody>\n",
       "    <tr>\n",
       "      <th>1402</th>\n",
       "      <td>20199</td>\n",
       "      <td>это</td>\n",
       "      <td>нет</td>\n",
       "      <td>кафе</td>\n",
       "      <td>город Москва, город Зеленоград, корпус 401</td>\n",
       "      <td>35</td>\n",
       "      <td>None</td>\n",
       "    </tr>\n",
       "    <tr>\n",
       "      <th>1403</th>\n",
       "      <td>68113</td>\n",
       "      <td>френдс</td>\n",
       "      <td>нет</td>\n",
       "      <td>кафе</td>\n",
       "      <td>город Москва, город Зеленоград, корпус 435</td>\n",
       "      <td>34</td>\n",
       "      <td>None</td>\n",
       "    </tr>\n",
       "    <tr>\n",
       "      <th>1404</th>\n",
       "      <td>20105</td>\n",
       "      <td>кафе «граф монте-кристо»</td>\n",
       "      <td>нет</td>\n",
       "      <td>кафе</td>\n",
       "      <td>город Москва, город Зеленоград, корпус 436</td>\n",
       "      <td>40</td>\n",
       "      <td>None</td>\n",
       "    </tr>\n",
       "    <tr>\n",
       "      <th>1405</th>\n",
       "      <td>22982</td>\n",
       "      <td>альфорно</td>\n",
       "      <td>нет</td>\n",
       "      <td>кафе</td>\n",
       "      <td>город Москва, город Зеленоград, корпус 438</td>\n",
       "      <td>49</td>\n",
       "      <td>None</td>\n",
       "    </tr>\n",
       "    <tr>\n",
       "      <th>1406</th>\n",
       "      <td>150537</td>\n",
       "      <td>кафе «вечный зов»</td>\n",
       "      <td>нет</td>\n",
       "      <td>кафе</td>\n",
       "      <td>город Москва, город Зеленоград, корпус 834А</td>\n",
       "      <td>30</td>\n",
       "      <td>None</td>\n",
       "    </tr>\n",
       "    <tr>\n",
       "      <th>...</th>\n",
       "      <td>...</td>\n",
       "      <td>...</td>\n",
       "      <td>...</td>\n",
       "      <td>...</td>\n",
       "      <td>...</td>\n",
       "      <td>...</td>\n",
       "      <td>...</td>\n",
       "    </tr>\n",
       "    <tr>\n",
       "      <th>14822</th>\n",
       "      <td>216942</td>\n",
       "      <td>шашлычный дворик</td>\n",
       "      <td>нет</td>\n",
       "      <td>кафе</td>\n",
       "      <td>город Москва, поселение Десеновское, деревня В...</td>\n",
       "      <td>15</td>\n",
       "      <td>None</td>\n",
       "    </tr>\n",
       "    <tr>\n",
       "      <th>14823</th>\n",
       "      <td>216926</td>\n",
       "      <td>кафе «сахли»</td>\n",
       "      <td>нет</td>\n",
       "      <td>закусочная</td>\n",
       "      <td>город Москва, поселение Десеновское, деревня В...</td>\n",
       "      <td>10</td>\n",
       "      <td>None</td>\n",
       "    </tr>\n",
       "    <tr>\n",
       "      <th>14836</th>\n",
       "      <td>208239</td>\n",
       "      <td>газпромнефть</td>\n",
       "      <td>нет</td>\n",
       "      <td>кафе</td>\n",
       "      <td>поселение \"Мосрентген\", деревня Дудкино, владе...</td>\n",
       "      <td>20</td>\n",
       "      <td>None</td>\n",
       "    </tr>\n",
       "    <tr>\n",
       "      <th>15004</th>\n",
       "      <td>220587</td>\n",
       "      <td>пицца паоло</td>\n",
       "      <td>да</td>\n",
       "      <td>кафетерий</td>\n",
       "      <td>город Москва, город Зеленоград, корпус 1627</td>\n",
       "      <td>0</td>\n",
       "      <td>None</td>\n",
       "    </tr>\n",
       "    <tr>\n",
       "      <th>15092</th>\n",
       "      <td>211230</td>\n",
       "      <td>предприятие быстрого обслуживания «милти»</td>\n",
       "      <td>да</td>\n",
       "      <td>предприятие быстрого обслуживания</td>\n",
       "      <td>город Москва, микрорайон Северное Чертаново, д...</td>\n",
       "      <td>0</td>\n",
       "      <td>None</td>\n",
       "    </tr>\n",
       "  </tbody>\n",
       "</table>\n",
       "<p>377 rows × 7 columns</p>\n",
       "</div>"
      ],
      "text/plain": [
       "           id                                object_name chain  \\\n",
       "1402    20199                                        это   нет   \n",
       "1403    68113                                     френдс   нет   \n",
       "1404    20105                   кафе «граф монте-кристо»   нет   \n",
       "1405    22982                                   альфорно   нет   \n",
       "1406   150537                          кафе «вечный зов»   нет   \n",
       "...       ...                                        ...   ...   \n",
       "14822  216942                           шашлычный дворик   нет   \n",
       "14823  216926                               кафе «сахли»   нет   \n",
       "14836  208239                               газпромнефть   нет   \n",
       "15004  220587                                пицца паоло    да   \n",
       "15092  211230  предприятие быстрого обслуживания «милти»    да   \n",
       "\n",
       "                             object_type  \\\n",
       "1402                                кафе   \n",
       "1403                                кафе   \n",
       "1404                                кафе   \n",
       "1405                                кафе   \n",
       "1406                                кафе   \n",
       "...                                  ...   \n",
       "14822                               кафе   \n",
       "14823                         закусочная   \n",
       "14836                               кафе   \n",
       "15004                          кафетерий   \n",
       "15092  предприятие быстрого обслуживания   \n",
       "\n",
       "                                                 address  number street  \n",
       "1402          город Москва, город Зеленоград, корпус 401      35   None  \n",
       "1403          город Москва, город Зеленоград, корпус 435      34   None  \n",
       "1404          город Москва, город Зеленоград, корпус 436      40   None  \n",
       "1405          город Москва, город Зеленоград, корпус 438      49   None  \n",
       "1406         город Москва, город Зеленоград, корпус 834А      30   None  \n",
       "...                                                  ...     ...    ...  \n",
       "14822  город Москва, поселение Десеновское, деревня В...      15   None  \n",
       "14823  город Москва, поселение Десеновское, деревня В...      10   None  \n",
       "14836  поселение \"Мосрентген\", деревня Дудкино, владе...      20   None  \n",
       "15004        город Москва, город Зеленоград, корпус 1627       0   None  \n",
       "15092  город Москва, микрорайон Северное Чертаново, д...       0   None  \n",
       "\n",
       "[377 rows x 7 columns]"
      ]
     },
     "execution_count": 28,
     "metadata": {},
     "output_type": "execute_result"
    }
   ],
   "source": [
    "rest_data_1[rest_data_1['street'].isna()]"
   ]
  },
  {
   "cell_type": "markdown",
   "metadata": {},
   "source": [
    "Пропуски находятся в строках с поселениями/деревнями и др., для дальнейшего анализа удалим эти строки."
   ]
  },
  {
   "cell_type": "code",
   "execution_count": 29,
   "metadata": {},
   "outputs": [],
   "source": [
    "data_with_streets = rest_data_1[~(rest_data_1['street'].isnull())]"
   ]
  },
  {
   "cell_type": "markdown",
   "metadata": {},
   "source": [
    "### Топ 10 улиц с наибольшим количеством заведений"
   ]
  },
  {
   "cell_type": "code",
   "execution_count": 30,
   "metadata": {},
   "outputs": [
    {
     "data": {
      "text/html": [
       "<div>\n",
       "<style scoped>\n",
       "    .dataframe tbody tr th:only-of-type {\n",
       "        vertical-align: middle;\n",
       "    }\n",
       "\n",
       "    .dataframe tbody tr th {\n",
       "        vertical-align: top;\n",
       "    }\n",
       "\n",
       "    .dataframe thead th {\n",
       "        text-align: right;\n",
       "    }\n",
       "</style>\n",
       "<table border=\"1\" class=\"dataframe\">\n",
       "  <thead>\n",
       "    <tr style=\"text-align: right;\">\n",
       "      <th></th>\n",
       "      <th>street</th>\n",
       "      <th>id</th>\n",
       "    </tr>\n",
       "  </thead>\n",
       "  <tbody>\n",
       "    <tr>\n",
       "      <th>1426</th>\n",
       "      <td>проспект Мира</td>\n",
       "      <td>196</td>\n",
       "    </tr>\n",
       "    <tr>\n",
       "      <th>1014</th>\n",
       "      <td>Профсоюзная улица</td>\n",
       "      <td>181</td>\n",
       "    </tr>\n",
       "    <tr>\n",
       "      <th>686</th>\n",
       "      <td>Ленинградский проспект</td>\n",
       "      <td>172</td>\n",
       "    </tr>\n",
       "    <tr>\n",
       "      <th>997</th>\n",
       "      <td>Пресненская набережная</td>\n",
       "      <td>165</td>\n",
       "    </tr>\n",
       "    <tr>\n",
       "      <th>399</th>\n",
       "      <td>Варшавское шоссе</td>\n",
       "      <td>163</td>\n",
       "    </tr>\n",
       "    <tr>\n",
       "      <th>689</th>\n",
       "      <td>Ленинский проспект</td>\n",
       "      <td>148</td>\n",
       "    </tr>\n",
       "    <tr>\n",
       "      <th>1422</th>\n",
       "      <td>проспект Вернадского</td>\n",
       "      <td>126</td>\n",
       "    </tr>\n",
       "    <tr>\n",
       "      <th>676</th>\n",
       "      <td>Кутузовский проспект</td>\n",
       "      <td>114</td>\n",
       "    </tr>\n",
       "    <tr>\n",
       "      <th>599</th>\n",
       "      <td>Каширское шоссе</td>\n",
       "      <td>110</td>\n",
       "    </tr>\n",
       "    <tr>\n",
       "      <th>606</th>\n",
       "      <td>Кировоградская улица</td>\n",
       "      <td>107</td>\n",
       "    </tr>\n",
       "  </tbody>\n",
       "</table>\n",
       "</div>"
      ],
      "text/plain": [
       "                      street   id\n",
       "1426           проспект Мира  196\n",
       "1014       Профсоюзная улица  181\n",
       "686   Ленинградский проспект  172\n",
       "997   Пресненская набережная  165\n",
       "399         Варшавское шоссе  163\n",
       "689       Ленинский проспект  148\n",
       "1422    проспект Вернадского  126\n",
       "676     Кутузовский проспект  114\n",
       "599          Каширское шоссе  110\n",
       "606     Кировоградская улица  107"
      ]
     },
     "metadata": {},
     "output_type": "display_data"
    }
   ],
   "source": [
    "#создадим таблицу топ 10 наиболее популярных для заведения улиц\n",
    "top_street = data_with_streets.groupby('street', as_index=False).agg({'id': 'count'}).sort_values(by='id', ascending=False).head(10)\n",
    "display(top_street)"
   ]
  },
  {
   "cell_type": "code",
   "execution_count": 31,
   "metadata": {},
   "outputs": [
    {
     "data": {
      "image/png": "[encoded data removed]",
      "text/plain": [
       "<Figure size 720x432 with 1 Axes>"
      ]
     },
     "metadata": {
      "needs_background": "light"
     },
     "output_type": "display_data"
    }
   ],
   "source": [
    "# построим график топ 10 популярных улиц\n",
    "plt.figure(figsize=(10,6))\n",
    "plt.barh(top_street['street'], top_street['id'])\n",
    "plt.title('Топ-10 улиц по количеству заведений')\n",
    "plt.xlabel('Количество заведений')\n",
    "plt.ylabel('Улица')\n",
    "plt.show()"
   ]
  },
  {
   "cell_type": "code",
   "execution_count": 32,
   "metadata": {},
   "outputs": [
    {
     "data": {
      "text/html": [
       "<div>\n",
       "<style scoped>\n",
       "    .dataframe tbody tr th:only-of-type {\n",
       "        vertical-align: middle;\n",
       "    }\n",
       "\n",
       "    .dataframe tbody tr th {\n",
       "        vertical-align: top;\n",
       "    }\n",
       "\n",
       "    .dataframe thead th {\n",
       "        text-align: right;\n",
       "    }\n",
       "</style>\n",
       "<table border=\"1\" class=\"dataframe\">\n",
       "  <thead>\n",
       "    <tr style=\"text-align: right;\">\n",
       "      <th></th>\n",
       "      <th>streetname</th>\n",
       "      <th>areaid</th>\n",
       "      <th>okrug</th>\n",
       "      <th>area</th>\n",
       "    </tr>\n",
       "  </thead>\n",
       "  <tbody>\n",
       "    <tr>\n",
       "      <th>0</th>\n",
       "      <td>Выставочный переулок</td>\n",
       "      <td>17</td>\n",
       "      <td>ЦАО</td>\n",
       "      <td>Пресненский район</td>\n",
       "    </tr>\n",
       "    <tr>\n",
       "      <th>1</th>\n",
       "      <td>улица Гашека</td>\n",
       "      <td>17</td>\n",
       "      <td>ЦАО</td>\n",
       "      <td>Пресненский район</td>\n",
       "    </tr>\n",
       "    <tr>\n",
       "      <th>2</th>\n",
       "      <td>Большая Никитская улица</td>\n",
       "      <td>17</td>\n",
       "      <td>ЦАО</td>\n",
       "      <td>Пресненский район</td>\n",
       "    </tr>\n",
       "    <tr>\n",
       "      <th>3</th>\n",
       "      <td>Глубокий переулок</td>\n",
       "      <td>17</td>\n",
       "      <td>ЦАО</td>\n",
       "      <td>Пресненский район</td>\n",
       "    </tr>\n",
       "    <tr>\n",
       "      <th>4</th>\n",
       "      <td>Большой Гнездниковский переулок</td>\n",
       "      <td>17</td>\n",
       "      <td>ЦАО</td>\n",
       "      <td>Пресненский район</td>\n",
       "    </tr>\n",
       "    <tr>\n",
       "      <th>...</th>\n",
       "      <td>...</td>\n",
       "      <td>...</td>\n",
       "      <td>...</td>\n",
       "      <td>...</td>\n",
       "    </tr>\n",
       "    <tr>\n",
       "      <th>4401</th>\n",
       "      <td>Пыжёвский переулок</td>\n",
       "      <td>21</td>\n",
       "      <td>ЦАО</td>\n",
       "      <td>Район Якиманка</td>\n",
       "    </tr>\n",
       "    <tr>\n",
       "      <th>4402</th>\n",
       "      <td>Новохорошёвский проезд</td>\n",
       "      <td>92</td>\n",
       "      <td>СЗАО</td>\n",
       "      <td>Район Хорошево-Мневники</td>\n",
       "    </tr>\n",
       "    <tr>\n",
       "      <th>4403</th>\n",
       "      <td>Новобутовский проезд</td>\n",
       "      <td>133</td>\n",
       "      <td>ЮЗАО</td>\n",
       "      <td>Район Южное Бутово</td>\n",
       "    </tr>\n",
       "    <tr>\n",
       "      <th>4404</th>\n",
       "      <td>Нижний Таганский тупик</td>\n",
       "      <td>18</td>\n",
       "      <td>ЦАО</td>\n",
       "      <td>Таганский район</td>\n",
       "    </tr>\n",
       "    <tr>\n",
       "      <th>4405</th>\n",
       "      <td>Молодежная улица</td>\n",
       "      <td>124</td>\n",
       "      <td>ЮЗАО</td>\n",
       "      <td>Район Гагаринский</td>\n",
       "    </tr>\n",
       "  </tbody>\n",
       "</table>\n",
       "<p>4406 rows × 4 columns</p>\n",
       "</div>"
      ],
      "text/plain": [
       "                           streetname  areaid okrug                     area\n",
       "0                Выставочный переулок      17   ЦАО        Пресненский район\n",
       "1                        улица Гашека      17   ЦАО        Пресненский район\n",
       "2             Большая Никитская улица      17   ЦАО        Пресненский район\n",
       "3                   Глубокий переулок      17   ЦАО        Пресненский район\n",
       "4     Большой Гнездниковский переулок      17   ЦАО        Пресненский район\n",
       "...                               ...     ...   ...                      ...\n",
       "4401               Пыжёвский переулок      21   ЦАО           Район Якиманка\n",
       "4402           Новохорошёвский проезд      92  СЗАО  Район Хорошево-Мневники\n",
       "4403             Новобутовский проезд     133  ЮЗАО       Район Южное Бутово\n",
       "4404           Нижний Таганский тупик      18   ЦАО          Таганский район\n",
       "4405                 Молодежная улица     124  ЮЗАО        Район Гагаринский\n",
       "\n",
       "[4406 rows x 4 columns]"
      ]
     },
     "execution_count": 32,
     "metadata": {},
     "output_type": "execute_result"
    }
   ],
   "source": [
    "#подгружаем базу с улицами и районами Москвы\n",
    "from io import BytesIO\n",
    "import requests\n",
    "spreadsheet_id = '1awwhvwLXOqgU7ik7DeT-XJVrjRgmeaeTs8wjnSAdTsw'\n",
    "file_name = 'https://docs.google.com/spreadsheets/d/{}/export?format=csv'.format(spreadsheet_id)\n",
    "r = requests.get(file_name)\n",
    "df = pd.read_csv(BytesIO(r.content))\n",
    "df"
   ]
  },
  {
   "cell_type": "code",
   "execution_count": 33,
   "metadata": {},
   "outputs": [],
   "source": [
    "df.columns = ['street', 'areaid', 'okrug', 'area']#для удобства изменим название столбца с улицами"
   ]
  },
  {
   "cell_type": "code",
   "execution_count": 34,
   "metadata": {},
   "outputs": [
    {
     "data": {
      "text/html": [
       "<div>\n",
       "<style scoped>\n",
       "    .dataframe tbody tr th:only-of-type {\n",
       "        vertical-align: middle;\n",
       "    }\n",
       "\n",
       "    .dataframe tbody tr th {\n",
       "        vertical-align: top;\n",
       "    }\n",
       "\n",
       "    .dataframe thead th {\n",
       "        text-align: right;\n",
       "    }\n",
       "</style>\n",
       "<table border=\"1\" class=\"dataframe\">\n",
       "  <thead>\n",
       "    <tr style=\"text-align: right;\">\n",
       "      <th></th>\n",
       "      <th>street</th>\n",
       "      <th>id</th>\n",
       "      <th>area</th>\n",
       "    </tr>\n",
       "  </thead>\n",
       "  <tbody>\n",
       "    <tr>\n",
       "      <th>0</th>\n",
       "      <td>проспект Мира</td>\n",
       "      <td>196</td>\n",
       "      <td>Алексеевский район</td>\n",
       "    </tr>\n",
       "    <tr>\n",
       "      <th>1</th>\n",
       "      <td>проспект Мира</td>\n",
       "      <td>196</td>\n",
       "      <td>Ярославский Район</td>\n",
       "    </tr>\n",
       "    <tr>\n",
       "      <th>2</th>\n",
       "      <td>проспект Мира</td>\n",
       "      <td>196</td>\n",
       "      <td>Район Марьина роща</td>\n",
       "    </tr>\n",
       "    <tr>\n",
       "      <th>3</th>\n",
       "      <td>проспект Мира</td>\n",
       "      <td>196</td>\n",
       "      <td>Останкинский район</td>\n",
       "    </tr>\n",
       "    <tr>\n",
       "      <th>4</th>\n",
       "      <td>проспект Мира</td>\n",
       "      <td>196</td>\n",
       "      <td>Район Ростокино</td>\n",
       "    </tr>\n",
       "    <tr>\n",
       "      <th>5</th>\n",
       "      <td>проспект Мира</td>\n",
       "      <td>196</td>\n",
       "      <td>Район Свиблово</td>\n",
       "    </tr>\n",
       "    <tr>\n",
       "      <th>6</th>\n",
       "      <td>проспект Мира</td>\n",
       "      <td>196</td>\n",
       "      <td>Мещанский район</td>\n",
       "    </tr>\n",
       "    <tr>\n",
       "      <th>7</th>\n",
       "      <td>Профсоюзная улица</td>\n",
       "      <td>181</td>\n",
       "      <td>Академический район</td>\n",
       "    </tr>\n",
       "    <tr>\n",
       "      <th>8</th>\n",
       "      <td>Профсоюзная улица</td>\n",
       "      <td>181</td>\n",
       "      <td>Район Черемушки</td>\n",
       "    </tr>\n",
       "    <tr>\n",
       "      <th>9</th>\n",
       "      <td>Профсоюзная улица</td>\n",
       "      <td>181</td>\n",
       "      <td>Район Ясенево</td>\n",
       "    </tr>\n",
       "    <tr>\n",
       "      <th>10</th>\n",
       "      <td>Профсоюзная улица</td>\n",
       "      <td>181</td>\n",
       "      <td>Район Коньково</td>\n",
       "    </tr>\n",
       "    <tr>\n",
       "      <th>11</th>\n",
       "      <td>Профсоюзная улица</td>\n",
       "      <td>181</td>\n",
       "      <td>Обручевский район</td>\n",
       "    </tr>\n",
       "    <tr>\n",
       "      <th>12</th>\n",
       "      <td>Профсоюзная улица</td>\n",
       "      <td>181</td>\n",
       "      <td>Район Теплый Стан</td>\n",
       "    </tr>\n",
       "    <tr>\n",
       "      <th>13</th>\n",
       "      <td>Ленинградский проспект</td>\n",
       "      <td>172</td>\n",
       "      <td>Район Аэропорт</td>\n",
       "    </tr>\n",
       "    <tr>\n",
       "      <th>14</th>\n",
       "      <td>Ленинградский проспект</td>\n",
       "      <td>172</td>\n",
       "      <td>Район Беговой</td>\n",
       "    </tr>\n",
       "    <tr>\n",
       "      <th>15</th>\n",
       "      <td>Ленинградский проспект</td>\n",
       "      <td>172</td>\n",
       "      <td>Хорошевский район</td>\n",
       "    </tr>\n",
       "    <tr>\n",
       "      <th>16</th>\n",
       "      <td>Ленинградский проспект</td>\n",
       "      <td>172</td>\n",
       "      <td>Район Сокол</td>\n",
       "    </tr>\n",
       "    <tr>\n",
       "      <th>17</th>\n",
       "      <td>Пресненская набережная</td>\n",
       "      <td>165</td>\n",
       "      <td>Пресненский район</td>\n",
       "    </tr>\n",
       "    <tr>\n",
       "      <th>18</th>\n",
       "      <td>Варшавское шоссе</td>\n",
       "      <td>163</td>\n",
       "      <td>Район Чертаново Центральное</td>\n",
       "    </tr>\n",
       "    <tr>\n",
       "      <th>19</th>\n",
       "      <td>Варшавское шоссе</td>\n",
       "      <td>163</td>\n",
       "      <td>Район Чертаново Северное</td>\n",
       "    </tr>\n",
       "    <tr>\n",
       "      <th>20</th>\n",
       "      <td>Варшавское шоссе</td>\n",
       "      <td>163</td>\n",
       "      <td>Район Чертаново Южное</td>\n",
       "    </tr>\n",
       "    <tr>\n",
       "      <th>21</th>\n",
       "      <td>Варшавское шоссе</td>\n",
       "      <td>163</td>\n",
       "      <td>Донской район</td>\n",
       "    </tr>\n",
       "    <tr>\n",
       "      <th>22</th>\n",
       "      <td>Варшавское шоссе</td>\n",
       "      <td>163</td>\n",
       "      <td>Район Нагатино-Садовники</td>\n",
       "    </tr>\n",
       "    <tr>\n",
       "      <th>23</th>\n",
       "      <td>Варшавское шоссе</td>\n",
       "      <td>163</td>\n",
       "      <td>Нагорный район</td>\n",
       "    </tr>\n",
       "    <tr>\n",
       "      <th>24</th>\n",
       "      <td>Варшавское шоссе</td>\n",
       "      <td>163</td>\n",
       "      <td>Район Северное Бутово</td>\n",
       "    </tr>\n",
       "    <tr>\n",
       "      <th>25</th>\n",
       "      <td>Варшавское шоссе</td>\n",
       "      <td>163</td>\n",
       "      <td>Район Южное Бутово</td>\n",
       "    </tr>\n",
       "    <tr>\n",
       "      <th>26</th>\n",
       "      <td>Ленинский проспект</td>\n",
       "      <td>148</td>\n",
       "      <td>Район Проспект Вернадского</td>\n",
       "    </tr>\n",
       "    <tr>\n",
       "      <th>27</th>\n",
       "      <td>Ленинский проспект</td>\n",
       "      <td>148</td>\n",
       "      <td>Район Тропарево-Никулино</td>\n",
       "    </tr>\n",
       "    <tr>\n",
       "      <th>28</th>\n",
       "      <td>Ленинский проспект</td>\n",
       "      <td>148</td>\n",
       "      <td>Донской район</td>\n",
       "    </tr>\n",
       "    <tr>\n",
       "      <th>29</th>\n",
       "      <td>Ленинский проспект</td>\n",
       "      <td>148</td>\n",
       "      <td>Район Гагаринский</td>\n",
       "    </tr>\n",
       "    <tr>\n",
       "      <th>30</th>\n",
       "      <td>Ленинский проспект</td>\n",
       "      <td>148</td>\n",
       "      <td>Ломоносовский район</td>\n",
       "    </tr>\n",
       "    <tr>\n",
       "      <th>31</th>\n",
       "      <td>Ленинский проспект</td>\n",
       "      <td>148</td>\n",
       "      <td>Обручевский район</td>\n",
       "    </tr>\n",
       "    <tr>\n",
       "      <th>32</th>\n",
       "      <td>Ленинский проспект</td>\n",
       "      <td>148</td>\n",
       "      <td>Район Теплый Стан</td>\n",
       "    </tr>\n",
       "    <tr>\n",
       "      <th>33</th>\n",
       "      <td>Ленинский проспект</td>\n",
       "      <td>148</td>\n",
       "      <td>Район Якиманка</td>\n",
       "    </tr>\n",
       "    <tr>\n",
       "      <th>34</th>\n",
       "      <td>проспект Вернадского</td>\n",
       "      <td>126</td>\n",
       "      <td>Район Проспект Вернадского</td>\n",
       "    </tr>\n",
       "    <tr>\n",
       "      <th>35</th>\n",
       "      <td>проспект Вернадского</td>\n",
       "      <td>126</td>\n",
       "      <td>Район Раменки</td>\n",
       "    </tr>\n",
       "    <tr>\n",
       "      <th>36</th>\n",
       "      <td>проспект Вернадского</td>\n",
       "      <td>126</td>\n",
       "      <td>Район Тропарево-Никулино</td>\n",
       "    </tr>\n",
       "    <tr>\n",
       "      <th>37</th>\n",
       "      <td>проспект Вернадского</td>\n",
       "      <td>126</td>\n",
       "      <td>Район Гагаринский</td>\n",
       "    </tr>\n",
       "    <tr>\n",
       "      <th>38</th>\n",
       "      <td>проспект Вернадского</td>\n",
       "      <td>126</td>\n",
       "      <td>Ломоносовский район</td>\n",
       "    </tr>\n",
       "    <tr>\n",
       "      <th>39</th>\n",
       "      <td>Кутузовский проспект</td>\n",
       "      <td>114</td>\n",
       "      <td>Район Дорогомилово</td>\n",
       "    </tr>\n",
       "    <tr>\n",
       "      <th>40</th>\n",
       "      <td>Кутузовский проспект</td>\n",
       "      <td>114</td>\n",
       "      <td>Район Фили-Давыдково</td>\n",
       "    </tr>\n",
       "    <tr>\n",
       "      <th>41</th>\n",
       "      <td>Каширское шоссе</td>\n",
       "      <td>110</td>\n",
       "      <td>Район Москворечье-Сабурово</td>\n",
       "    </tr>\n",
       "    <tr>\n",
       "      <th>42</th>\n",
       "      <td>Каширское шоссе</td>\n",
       "      <td>110</td>\n",
       "      <td>Район Нагатино-Садовники</td>\n",
       "    </tr>\n",
       "    <tr>\n",
       "      <th>43</th>\n",
       "      <td>Каширское шоссе</td>\n",
       "      <td>110</td>\n",
       "      <td>Район Орехово-Борисово Южное</td>\n",
       "    </tr>\n",
       "    <tr>\n",
       "      <th>44</th>\n",
       "      <td>Каширское шоссе</td>\n",
       "      <td>110</td>\n",
       "      <td>Район Орехово-Борисово Северное</td>\n",
       "    </tr>\n",
       "    <tr>\n",
       "      <th>45</th>\n",
       "      <td>Кировоградская улица</td>\n",
       "      <td>107</td>\n",
       "      <td>Район Чертаново Центральное</td>\n",
       "    </tr>\n",
       "    <tr>\n",
       "      <th>46</th>\n",
       "      <td>Кировоградская улица</td>\n",
       "      <td>107</td>\n",
       "      <td>Район Чертаново Северное</td>\n",
       "    </tr>\n",
       "    <tr>\n",
       "      <th>47</th>\n",
       "      <td>Кировоградская улица</td>\n",
       "      <td>107</td>\n",
       "      <td>Район Чертаново Южное</td>\n",
       "    </tr>\n",
       "  </tbody>\n",
       "</table>\n",
       "</div>"
      ],
      "text/plain": [
       "                    street   id                             area\n",
       "0            проспект Мира  196               Алексеевский район\n",
       "1            проспект Мира  196                Ярославский Район\n",
       "2            проспект Мира  196               Район Марьина роща\n",
       "3            проспект Мира  196               Останкинский район\n",
       "4            проспект Мира  196                  Район Ростокино\n",
       "5            проспект Мира  196                   Район Свиблово\n",
       "6            проспект Мира  196                  Мещанский район\n",
       "7        Профсоюзная улица  181              Академический район\n",
       "8        Профсоюзная улица  181                  Район Черемушки\n",
       "9        Профсоюзная улица  181                    Район Ясенево\n",
       "10       Профсоюзная улица  181                   Район Коньково\n",
       "11       Профсоюзная улица  181                Обручевский район\n",
       "12       Профсоюзная улица  181                Район Теплый Стан\n",
       "13  Ленинградский проспект  172                   Район Аэропорт\n",
       "14  Ленинградский проспект  172                    Район Беговой\n",
       "15  Ленинградский проспект  172                Хорошевский район\n",
       "16  Ленинградский проспект  172                      Район Сокол\n",
       "17  Пресненская набережная  165                Пресненский район\n",
       "18        Варшавское шоссе  163      Район Чертаново Центральное\n",
       "19        Варшавское шоссе  163         Район Чертаново Северное\n",
       "20        Варшавское шоссе  163            Район Чертаново Южное\n",
       "21        Варшавское шоссе  163                    Донской район\n",
       "22        Варшавское шоссе  163         Район Нагатино-Садовники\n",
       "23        Варшавское шоссе  163                   Нагорный район\n",
       "24        Варшавское шоссе  163            Район Северное Бутово\n",
       "25        Варшавское шоссе  163               Район Южное Бутово\n",
       "26      Ленинский проспект  148       Район Проспект Вернадского\n",
       "27      Ленинский проспект  148         Район Тропарево-Никулино\n",
       "28      Ленинский проспект  148                    Донской район\n",
       "29      Ленинский проспект  148                Район Гагаринский\n",
       "30      Ленинский проспект  148              Ломоносовский район\n",
       "31      Ленинский проспект  148                Обручевский район\n",
       "32      Ленинский проспект  148                Район Теплый Стан\n",
       "33      Ленинский проспект  148                   Район Якиманка\n",
       "34    проспект Вернадского  126       Район Проспект Вернадского\n",
       "35    проспект Вернадского  126                    Район Раменки\n",
       "36    проспект Вернадского  126         Район Тропарево-Никулино\n",
       "37    проспект Вернадского  126                Район Гагаринский\n",
       "38    проспект Вернадского  126              Ломоносовский район\n",
       "39    Кутузовский проспект  114               Район Дорогомилово\n",
       "40    Кутузовский проспект  114             Район Фили-Давыдково\n",
       "41         Каширское шоссе  110       Район Москворечье-Сабурово\n",
       "42         Каширское шоссе  110         Район Нагатино-Садовники\n",
       "43         Каширское шоссе  110     Район Орехово-Борисово Южное\n",
       "44         Каширское шоссе  110  Район Орехово-Борисово Северное\n",
       "45    Кировоградская улица  107      Район Чертаново Центральное\n",
       "46    Кировоградская улица  107         Район Чертаново Северное\n",
       "47    Кировоградская улица  107            Район Чертаново Южное"
      ]
     },
     "metadata": {},
     "output_type": "display_data"
    },
    {
     "name": "stdout",
     "output_type": "stream",
     "text": [
      "Пропуски 0\n"
     ]
    }
   ],
   "source": [
    "#объединим таблицы по таблице с 1 заведением\n",
    "streets_top_merged = top_street.merge(df[['street', 'area']], left_on='street', right_on='street', how='left')\n",
    "display(streets_top_merged)\n",
    "print('Пропуски', streets_top_merged['area'].isna().sum())"
   ]
  },
  {
   "cell_type": "code",
   "execution_count": 35,
   "metadata": {},
   "outputs": [
    {
     "name": "stdout",
     "output_type": "stream",
     "text": [
      "Районы, в которых находятся улицы из топ 10:\n",
      "- Академический район\n",
      "- Алексеевский район\n",
      "- Донской район\n",
      "- Ломоносовский район\n",
      "- Мещанский район\n",
      "- Нагорный район\n",
      "- Обручевский район\n",
      "- Останкинский район\n",
      "- Пресненский район\n",
      "- Район Аэропорт\n",
      "- Район Беговой\n",
      "- Район Гагаринский\n",
      "- Район Дорогомилово\n",
      "- Район Коньково\n",
      "- Район Марьина роща\n",
      "- Район Москворечье-Сабурово\n",
      "- Район Нагатино-Садовники\n",
      "- Район Орехово-Борисово Северное\n",
      "- Район Орехово-Борисово Южное\n",
      "- Район Проспект Вернадского\n",
      "- Район Раменки\n",
      "- Район Ростокино\n",
      "- Район Свиблово\n",
      "- Район Северное Бутово\n",
      "- Район Сокол\n",
      "- Район Теплый Стан\n",
      "- Район Тропарево-Никулино\n",
      "- Район Фили-Давыдково\n",
      "- Район Черемушки\n",
      "- Район Чертаново Северное\n",
      "- Район Чертаново Центральное\n",
      "- Район Чертаново Южное\n",
      "- Район Южное Бутово\n",
      "- Район Якиманка\n",
      "- Район Ясенево\n",
      "- Хорошевский район\n",
      "- Ярославский Район\n"
     ]
    }
   ],
   "source": [
    "print('Районы, в которых находятся улицы из топ 10:')\n",
    "for area in streets_top_merged['area'].sort_values().unique():\n",
    "    print('-', area)"
   ]
  },
  {
   "cell_type": "markdown",
   "metadata": {},
   "source": [
    "### Улицы с одним объектом общественного питания"
   ]
  },
  {
   "cell_type": "code",
   "execution_count": 36,
   "metadata": {
    "scrolled": false
   },
   "outputs": [
    {
     "data": {
      "text/html": [
       "<div>\n",
       "<style scoped>\n",
       "    .dataframe tbody tr th:only-of-type {\n",
       "        vertical-align: middle;\n",
       "    }\n",
       "\n",
       "    .dataframe tbody tr th {\n",
       "        vertical-align: top;\n",
       "    }\n",
       "\n",
       "    .dataframe thead th {\n",
       "        text-align: right;\n",
       "    }\n",
       "</style>\n",
       "<table border=\"1\" class=\"dataframe\">\n",
       "  <thead>\n",
       "    <tr style=\"text-align: right;\">\n",
       "      <th></th>\n",
       "      <th>street</th>\n",
       "      <th>id</th>\n",
       "    </tr>\n",
       "  </thead>\n",
       "  <tbody>\n",
       "    <tr>\n",
       "      <th>2</th>\n",
       "      <td>1-й Балтийский переулок</td>\n",
       "      <td>1</td>\n",
       "    </tr>\n",
       "    <tr>\n",
       "      <th>3</th>\n",
       "      <td>1-й Басманный переулок</td>\n",
       "      <td>1</td>\n",
       "    </tr>\n",
       "    <tr>\n",
       "      <th>4</th>\n",
       "      <td>1-й Ботанический проезд</td>\n",
       "      <td>1</td>\n",
       "    </tr>\n",
       "    <tr>\n",
       "      <th>7</th>\n",
       "      <td>1-й Вешняковский проезд</td>\n",
       "      <td>1</td>\n",
       "    </tr>\n",
       "    <tr>\n",
       "      <th>9</th>\n",
       "      <td>1-й Голутвинский переулок</td>\n",
       "      <td>1</td>\n",
       "    </tr>\n",
       "    <tr>\n",
       "      <th>...</th>\n",
       "      <td>...</td>\n",
       "      <td>...</td>\n",
       "    </tr>\n",
       "    <tr>\n",
       "      <th>1891</th>\n",
       "      <td>улица Шумилова</td>\n",
       "      <td>1</td>\n",
       "    </tr>\n",
       "    <tr>\n",
       "      <th>1892</th>\n",
       "      <td>улица Шумкина</td>\n",
       "      <td>1</td>\n",
       "    </tr>\n",
       "    <tr>\n",
       "      <th>1896</th>\n",
       "      <td>улица Щорса</td>\n",
       "      <td>1</td>\n",
       "    </tr>\n",
       "    <tr>\n",
       "      <th>1897</th>\n",
       "      <td>улица Энгельса</td>\n",
       "      <td>1</td>\n",
       "    </tr>\n",
       "    <tr>\n",
       "      <th>1902</th>\n",
       "      <td>шоссе Фрезер</td>\n",
       "      <td>1</td>\n",
       "    </tr>\n",
       "  </tbody>\n",
       "</table>\n",
       "<p>551 rows × 2 columns</p>\n",
       "</div>"
      ],
      "text/plain": [
       "                         street  id\n",
       "2       1-й Балтийский переулок   1\n",
       "3        1-й Басманный переулок   1\n",
       "4       1-й Ботанический проезд   1\n",
       "7       1-й Вешняковский проезд   1\n",
       "9     1-й Голутвинский переулок   1\n",
       "...                         ...  ..\n",
       "1891             улица Шумилова   1\n",
       "1892              улица Шумкина   1\n",
       "1896                улица Щорса   1\n",
       "1897             улица Энгельса   1\n",
       "1902               шоссе Фрезер   1\n",
       "\n",
       "[551 rows x 2 columns]"
      ]
     },
     "metadata": {},
     "output_type": "display_data"
    }
   ],
   "source": [
    "#получим таблицу с 1 заведением на улице\n",
    "street_group = data_with_streets.groupby('street', as_index=False).agg({'id': 'count'})\n",
    "street_with_one = street_group.query('id == 1')\n",
    "display(street_with_one)"
   ]
  },
  {
   "cell_type": "code",
   "execution_count": 37,
   "metadata": {},
   "outputs": [
    {
     "data": {
      "text/html": [
       "<div>\n",
       "<style scoped>\n",
       "    .dataframe tbody tr th:only-of-type {\n",
       "        vertical-align: middle;\n",
       "    }\n",
       "\n",
       "    .dataframe tbody tr th {\n",
       "        vertical-align: top;\n",
       "    }\n",
       "\n",
       "    .dataframe thead th {\n",
       "        text-align: right;\n",
       "    }\n",
       "</style>\n",
       "<table border=\"1\" class=\"dataframe\">\n",
       "  <thead>\n",
       "    <tr style=\"text-align: right;\">\n",
       "      <th></th>\n",
       "      <th>street</th>\n",
       "      <th>id</th>\n",
       "      <th>area</th>\n",
       "    </tr>\n",
       "  </thead>\n",
       "  <tbody>\n",
       "    <tr>\n",
       "      <th>0</th>\n",
       "      <td>1-й Балтийский переулок</td>\n",
       "      <td>1</td>\n",
       "      <td>Район Аэропорт</td>\n",
       "    </tr>\n",
       "    <tr>\n",
       "      <th>1</th>\n",
       "      <td>1-й Басманный переулок</td>\n",
       "      <td>1</td>\n",
       "      <td>Басманный район</td>\n",
       "    </tr>\n",
       "    <tr>\n",
       "      <th>2</th>\n",
       "      <td>1-й Басманный переулок</td>\n",
       "      <td>1</td>\n",
       "      <td>Красносельский район</td>\n",
       "    </tr>\n",
       "    <tr>\n",
       "      <th>3</th>\n",
       "      <td>1-й Ботанический проезд</td>\n",
       "      <td>1</td>\n",
       "      <td>Район Свиблово</td>\n",
       "    </tr>\n",
       "    <tr>\n",
       "      <th>4</th>\n",
       "      <td>1-й Вешняковский проезд</td>\n",
       "      <td>1</td>\n",
       "      <td>Рязанский район</td>\n",
       "    </tr>\n",
       "    <tr>\n",
       "      <th>...</th>\n",
       "      <td>...</td>\n",
       "      <td>...</td>\n",
       "      <td>...</td>\n",
       "    </tr>\n",
       "    <tr>\n",
       "      <th>592</th>\n",
       "      <td>улица Шумилова</td>\n",
       "      <td>1</td>\n",
       "      <td>Район Кузьминки</td>\n",
       "    </tr>\n",
       "    <tr>\n",
       "      <th>593</th>\n",
       "      <td>улица Шумкина</td>\n",
       "      <td>1</td>\n",
       "      <td>Район Сокольники</td>\n",
       "    </tr>\n",
       "    <tr>\n",
       "      <th>594</th>\n",
       "      <td>улица Щорса</td>\n",
       "      <td>1</td>\n",
       "      <td>Район Солнцево</td>\n",
       "    </tr>\n",
       "    <tr>\n",
       "      <th>595</th>\n",
       "      <td>улица Энгельса</td>\n",
       "      <td>1</td>\n",
       "      <td>Басманный район</td>\n",
       "    </tr>\n",
       "    <tr>\n",
       "      <th>596</th>\n",
       "      <td>шоссе Фрезер</td>\n",
       "      <td>1</td>\n",
       "      <td>Нижегородский район</td>\n",
       "    </tr>\n",
       "  </tbody>\n",
       "</table>\n",
       "<p>597 rows × 3 columns</p>\n",
       "</div>"
      ],
      "text/plain": [
       "                      street  id                  area\n",
       "0    1-й Балтийский переулок   1        Район Аэропорт\n",
       "1     1-й Басманный переулок   1       Басманный район\n",
       "2     1-й Басманный переулок   1  Красносельский район\n",
       "3    1-й Ботанический проезд   1        Район Свиблово\n",
       "4    1-й Вешняковский проезд   1       Рязанский район\n",
       "..                       ...  ..                   ...\n",
       "592           улица Шумилова   1       Район Кузьминки\n",
       "593            улица Шумкина   1      Район Сокольники\n",
       "594              улица Щорса   1        Район Солнцево\n",
       "595           улица Энгельса   1       Басманный район\n",
       "596             шоссе Фрезер   1   Нижегородский район\n",
       "\n",
       "[597 rows x 3 columns]"
      ]
     },
     "metadata": {},
     "output_type": "display_data"
    },
    {
     "name": "stdout",
     "output_type": "stream",
     "text": [
      "Пропуски 25\n"
     ]
    }
   ],
   "source": [
    "#объединим таблицы по таблице с 1 заведением\n",
    "streets_with_one_merged = street_with_one.merge(df[['street', 'area']], left_on='street', right_on='street', how='left')\n",
    "display(streets_with_one_merged)\n",
    "print('Пропуски', streets_with_one_merged['area'].isna().sum())"
   ]
  },
  {
   "cell_type": "markdown",
   "metadata": {},
   "source": [
    "Видно, что таблица содержит пропуск, проверим где они находятся."
   ]
  },
  {
   "cell_type": "code",
   "execution_count": 38,
   "metadata": {},
   "outputs": [
    {
     "data": {
      "text/html": [
       "<div>\n",
       "<style scoped>\n",
       "    .dataframe tbody tr th:only-of-type {\n",
       "        vertical-align: middle;\n",
       "    }\n",
       "\n",
       "    .dataframe tbody tr th {\n",
       "        vertical-align: top;\n",
       "    }\n",
       "\n",
       "    .dataframe thead th {\n",
       "        text-align: right;\n",
       "    }\n",
       "</style>\n",
       "<table border=\"1\" class=\"dataframe\">\n",
       "  <thead>\n",
       "    <tr style=\"text-align: right;\">\n",
       "      <th></th>\n",
       "      <th>street</th>\n",
       "      <th>id</th>\n",
       "      <th>area</th>\n",
       "    </tr>\n",
       "  </thead>\n",
       "  <tbody>\n",
       "    <tr>\n",
       "      <th>6</th>\n",
       "      <td>1-й Заречный переулок</td>\n",
       "      <td>1</td>\n",
       "      <td>NaN</td>\n",
       "    </tr>\n",
       "    <tr>\n",
       "      <th>32</th>\n",
       "      <td>1-я Ватутинская улица</td>\n",
       "      <td>1</td>\n",
       "      <td>NaN</td>\n",
       "    </tr>\n",
       "    <tr>\n",
       "      <th>68</th>\n",
       "      <td>2-я Барышевская улица</td>\n",
       "      <td>1</td>\n",
       "      <td>NaN</td>\n",
       "    </tr>\n",
       "    <tr>\n",
       "      <th>92</th>\n",
       "      <td>3-я Подрезковская улица</td>\n",
       "      <td>1</td>\n",
       "      <td>NaN</td>\n",
       "    </tr>\n",
       "    <tr>\n",
       "      <th>95</th>\n",
       "      <td>39-й километр Калужского шоссе</td>\n",
       "      <td>1</td>\n",
       "      <td>NaN</td>\n",
       "    </tr>\n",
       "    <tr>\n",
       "      <th>123</th>\n",
       "      <td>Армейская улица</td>\n",
       "      <td>1</td>\n",
       "      <td>NaN</td>\n",
       "    </tr>\n",
       "    <tr>\n",
       "      <th>143</th>\n",
       "      <td>Большая Октябрьская улица</td>\n",
       "      <td>1</td>\n",
       "      <td>NaN</td>\n",
       "    </tr>\n",
       "    <tr>\n",
       "      <th>219</th>\n",
       "      <td>Институтский проезд</td>\n",
       "      <td>1</td>\n",
       "      <td>NaN</td>\n",
       "    </tr>\n",
       "    <tr>\n",
       "      <th>417</th>\n",
       "      <td>Троицкий бульвар</td>\n",
       "      <td>1</td>\n",
       "      <td>NaN</td>\n",
       "    </tr>\n",
       "    <tr>\n",
       "      <th>427</th>\n",
       "      <td>Физическая улица</td>\n",
       "      <td>1</td>\n",
       "      <td>NaN</td>\n",
       "    </tr>\n",
       "    <tr>\n",
       "      <th>429</th>\n",
       "      <td>Фитарёвская улица</td>\n",
       "      <td>1</td>\n",
       "      <td>NaN</td>\n",
       "    </tr>\n",
       "    <tr>\n",
       "      <th>444</th>\n",
       "      <td>Цветочная улица</td>\n",
       "      <td>1</td>\n",
       "      <td>NaN</td>\n",
       "    </tr>\n",
       "    <tr>\n",
       "      <th>469</th>\n",
       "      <td>деревня Мостовское</td>\n",
       "      <td>1</td>\n",
       "      <td>NaN</td>\n",
       "    </tr>\n",
       "    <tr>\n",
       "      <th>470</th>\n",
       "      <td>квартал № 30</td>\n",
       "      <td>1</td>\n",
       "      <td>NaN</td>\n",
       "    </tr>\n",
       "    <tr>\n",
       "      <th>471</th>\n",
       "      <td>квартал № 80</td>\n",
       "      <td>1</td>\n",
       "      <td>NaN</td>\n",
       "    </tr>\n",
       "    <tr>\n",
       "      <th>486</th>\n",
       "      <td>улица 1-й километр Объездной Дороги</td>\n",
       "      <td>1</td>\n",
       "      <td>NaN</td>\n",
       "    </tr>\n",
       "    <tr>\n",
       "      <th>515</th>\n",
       "      <td>улица Горького</td>\n",
       "      <td>1</td>\n",
       "      <td>NaN</td>\n",
       "    </tr>\n",
       "    <tr>\n",
       "      <th>518</th>\n",
       "      <td>улица Дмитрия Рябинкина</td>\n",
       "      <td>1</td>\n",
       "      <td>NaN</td>\n",
       "    </tr>\n",
       "    <tr>\n",
       "      <th>523</th>\n",
       "      <td>улица Евгения Родионова</td>\n",
       "      <td>1</td>\n",
       "      <td>NaN</td>\n",
       "    </tr>\n",
       "    <tr>\n",
       "      <th>535</th>\n",
       "      <td>улица Корнея Чуковского</td>\n",
       "      <td>1</td>\n",
       "      <td>NaN</td>\n",
       "    </tr>\n",
       "    <tr>\n",
       "      <th>556</th>\n",
       "      <td>улица Никитина</td>\n",
       "      <td>1</td>\n",
       "      <td>NaN</td>\n",
       "    </tr>\n",
       "    <tr>\n",
       "      <th>565</th>\n",
       "      <td>улица Потаповская Роща</td>\n",
       "      <td>1</td>\n",
       "      <td>NaN</td>\n",
       "    </tr>\n",
       "    <tr>\n",
       "      <th>568</th>\n",
       "      <td>улица Рассудовское Лесничество</td>\n",
       "      <td>1</td>\n",
       "      <td>NaN</td>\n",
       "    </tr>\n",
       "    <tr>\n",
       "      <th>583</th>\n",
       "      <td>улица Старые Кузьминки</td>\n",
       "      <td>1</td>\n",
       "      <td>NaN</td>\n",
       "    </tr>\n",
       "    <tr>\n",
       "      <th>591</th>\n",
       "      <td>улица Школа-интернат</td>\n",
       "      <td>1</td>\n",
       "      <td>NaN</td>\n",
       "    </tr>\n",
       "  </tbody>\n",
       "</table>\n",
       "</div>"
      ],
      "text/plain": [
       "                                  street  id area\n",
       "6                  1-й Заречный переулок   1  NaN\n",
       "32                 1-я Ватутинская улица   1  NaN\n",
       "68                 2-я Барышевская улица   1  NaN\n",
       "92               3-я Подрезковская улица   1  NaN\n",
       "95        39-й километр Калужского шоссе   1  NaN\n",
       "123                      Армейская улица   1  NaN\n",
       "143            Большая Октябрьская улица   1  NaN\n",
       "219                  Институтский проезд   1  NaN\n",
       "417                     Троицкий бульвар   1  NaN\n",
       "427                     Физическая улица   1  NaN\n",
       "429                    Фитарёвская улица   1  NaN\n",
       "444                      Цветочная улица   1  NaN\n",
       "469                   деревня Мостовское   1  NaN\n",
       "470                         квартал № 30   1  NaN\n",
       "471                         квартал № 80   1  NaN\n",
       "486  улица 1-й километр Объездной Дороги   1  NaN\n",
       "515                       улица Горького   1  NaN\n",
       "518              улица Дмитрия Рябинкина   1  NaN\n",
       "523              улица Евгения Родионова   1  NaN\n",
       "535              улица Корнея Чуковского   1  NaN\n",
       "556                       улица Никитина   1  NaN\n",
       "565               улица Потаповская Роща   1  NaN\n",
       "568       улица Рассудовское Лесничество   1  NaN\n",
       "583               улица Старые Кузьминки   1  NaN\n",
       "591                 улица Школа-интернат   1  NaN"
      ]
     },
     "execution_count": 38,
     "metadata": {},
     "output_type": "execute_result"
    }
   ],
   "source": [
    "streets_with_one_merged[streets_with_one_merged['area'].isna()]"
   ]
  },
  {
   "cell_type": "markdown",
   "metadata": {},
   "source": [
    "После проверки по карте данных улиц оказалось, что они все находятся в населенных пунктах, которые относятся к Москве, но ранее мы их исключили из анализа. Удалим данные значения."
   ]
  },
  {
   "cell_type": "code",
   "execution_count": 39,
   "metadata": {},
   "outputs": [
    {
     "data": {
      "text/plain": [
       "(572, 3)"
      ]
     },
     "execution_count": 39,
     "metadata": {},
     "output_type": "execute_result"
    }
   ],
   "source": [
    "streets_with_one_merged.dropna(subset=['area'], inplace=True)\n",
    "streets_with_one_merged.shape #проверка количества строк после удаления"
   ]
  },
  {
   "cell_type": "code",
   "execution_count": 40,
   "metadata": {},
   "outputs": [
    {
     "data": {
      "text/html": [
       "<div>\n",
       "<style scoped>\n",
       "    .dataframe tbody tr th:only-of-type {\n",
       "        vertical-align: middle;\n",
       "    }\n",
       "\n",
       "    .dataframe tbody tr th {\n",
       "        vertical-align: top;\n",
       "    }\n",
       "\n",
       "    .dataframe thead th {\n",
       "        text-align: right;\n",
       "    }\n",
       "</style>\n",
       "<table border=\"1\" class=\"dataframe\">\n",
       "  <thead>\n",
       "    <tr style=\"text-align: right;\">\n",
       "      <th></th>\n",
       "      <th>area</th>\n",
       "      <th>id</th>\n",
       "    </tr>\n",
       "  </thead>\n",
       "  <tbody>\n",
       "    <tr>\n",
       "      <th>97</th>\n",
       "      <td>Таганский район</td>\n",
       "      <td>28</td>\n",
       "    </tr>\n",
       "    <tr>\n",
       "      <th>83</th>\n",
       "      <td>Район Хамовники</td>\n",
       "      <td>26</td>\n",
       "    </tr>\n",
       "    <tr>\n",
       "      <th>3</th>\n",
       "      <td>Басманный район</td>\n",
       "      <td>26</td>\n",
       "    </tr>\n",
       "    <tr>\n",
       "      <th>21</th>\n",
       "      <td>Пресненский район</td>\n",
       "      <td>20</td>\n",
       "    </tr>\n",
       "    <tr>\n",
       "      <th>98</th>\n",
       "      <td>Тверской район</td>\n",
       "      <td>20</td>\n",
       "    </tr>\n",
       "    <tr>\n",
       "      <th>...</th>\n",
       "      <td>...</td>\n",
       "      <td>...</td>\n",
       "    </tr>\n",
       "    <tr>\n",
       "      <th>1</th>\n",
       "      <td>Алтуфьевский район</td>\n",
       "      <td>1</td>\n",
       "    </tr>\n",
       "    <tr>\n",
       "      <th>52</th>\n",
       "      <td>Район Марфино</td>\n",
       "      <td>1</td>\n",
       "    </tr>\n",
       "    <tr>\n",
       "      <th>18</th>\n",
       "      <td>Обручевский район</td>\n",
       "      <td>1</td>\n",
       "    </tr>\n",
       "    <tr>\n",
       "      <th>54</th>\n",
       "      <td>Район Марьино</td>\n",
       "      <td>1</td>\n",
       "    </tr>\n",
       "    <tr>\n",
       "      <th>44</th>\n",
       "      <td>Район Крюково</td>\n",
       "      <td>1</td>\n",
       "    </tr>\n",
       "  </tbody>\n",
       "</table>\n",
       "<p>103 rows × 2 columns</p>\n",
       "</div>"
      ],
      "text/plain": [
       "                  area  id\n",
       "97     Таганский район  28\n",
       "83     Район Хамовники  26\n",
       "3      Басманный район  26\n",
       "21   Пресненский район  20\n",
       "98      Тверской район  20\n",
       "..                 ...  ..\n",
       "1   Алтуфьевский район   1\n",
       "52       Район Марфино   1\n",
       "18   Обручевский район   1\n",
       "54       Район Марьино   1\n",
       "44       Район Крюково   1\n",
       "\n",
       "[103 rows x 2 columns]"
      ]
     },
     "metadata": {},
     "output_type": "display_data"
    }
   ],
   "source": [
    "#найдем районы с наибольшим количеством улиц с 1 заведением\n",
    "area_with_one = (streets_with_one_merged.\n",
    "            groupby('area', as_index=False).\n",
    "            agg({'id': 'count'}).\n",
    "            sort_values(by='id', ascending=False))\n",
    "display(area_with_one)"
   ]
  },
  {
   "cell_type": "code",
   "execution_count": 41,
   "metadata": {},
   "outputs": [
    {
     "data": {
      "image/png": "[encoded data removed]",
      "text/plain": [
       "<Figure size 720x432 with 1 Axes>"
      ]
     },
     "metadata": {
      "needs_background": "light"
     },
     "output_type": "display_data"
    }
   ],
   "source": [
    "plt.figure(figsize=(10,6))\n",
    "plt.barh(area_with_one['area'].head(5), area_with_one['id'].head(5))\n",
    "plt.title('ТРайоны с наибольшим количеством улиц с 1 заведение')\n",
    "plt.xlabel('Количество улиц')\n",
    "plt.ylabel('Район')\n",
    "plt.show()"
   ]
  },
  {
   "cell_type": "markdown",
   "metadata": {},
   "source": [
    "Наибольшее количество улиц с 1 заведением находится в центральных районах."
   ]
  },
  {
   "cell_type": "code",
   "execution_count": 42,
   "metadata": {},
   "outputs": [
    {
     "name": "stdout",
     "output_type": "stream",
     "text": [
      "Районы, в которых находятся улицы с одним объектом общественного питания:\n",
      "- Алексеевский район\n",
      "- Алтуфьевский район\n",
      "- Бабушкинский район\n",
      "- Басманный район\n",
      "- Бескудниковский Район\n",
      "- Бутырский район\n",
      "- Войковский Район\n",
      "- Головинский район\n",
      "- Даниловский район\n",
      "- Дмитровский район\n",
      "- Донской район\n",
      "- Красносельский район\n",
      "- Лосиноостровский район\n",
      "- Мещанский район\n",
      "- Можайский Район\n",
      "- Молжаниновский район\n",
      "- Нагорный район\n",
      "- Нижегородский район\n",
      "- Обручевский район\n",
      "- Останкинский район\n",
      "- Панфиловский район\n",
      "- Пресненский район\n",
      "- Район Арбат\n",
      "- Район Аэропорт\n",
      "- Район Беговой\n",
      "- Район Бирюлево Восточное\n",
      "- Район Богородское\n",
      "- Район Внуково\n",
      "- Район Восточное Измайлово\n",
      "- Район Восточный\n",
      "- Район Выхино-Жулебино\n",
      "- Район Гагаринский\n",
      "- Район Гольяново\n",
      "- Район Дорогомилово\n",
      "- Район Замоскворечье\n",
      "- Район Западное Дегунино\n",
      "- Район Зюзино\n",
      "- Район Ивановское\n",
      "- Район Измайлово\n",
      "- Район Капотня\n",
      "- Район Коньково\n",
      "- Район Коптево\n",
      "- Район Косино-Ухтомский\n",
      "- Район Котловка\n",
      "- Район Крюково\n",
      "- Район Кузьминки\n",
      "- Район Кунцево\n",
      "- Район Куркино\n",
      "- Район Левобережный\n",
      "- Район Лефортово\n",
      "- Район Лианозово\n",
      "- Район Люблино\n",
      "- Район Марфино\n",
      "- Район Марьина роща\n",
      "- Район Марьино\n",
      "- Район Матушкино-Савелки\n",
      "- Район Метрогородок\n",
      "- Район Митино\n",
      "- Район Москворечье-Сабурово\n",
      "- Район Некрасовка\n",
      "- Район Ново-Переделкино\n",
      "- Район Новогиреево\n",
      "- Район Отрадное\n",
      "- Район Очаково-Матвеевское\n",
      "- Район Перово\n",
      "- Район Печатники\n",
      "- Район Покровское-Стрешнево\n",
      "- Район Преображенское\n",
      "- Район Раменки\n",
      "- Район Ростокино\n",
      "- Район Свиблово\n",
      "- Район Северное Бутово\n",
      "- Район Северное Измайлово\n",
      "- Район Северное Медведково\n",
      "- Район Северный\n",
      "- Район Сокол\n",
      "- Район Соколиная Гора\n",
      "- Район Сокольники\n",
      "- Район Солнцево\n",
      "- Район Строгино\n",
      "- Район Текстильщики\n",
      "- Район Филевский Парк\n",
      "- Район Фили-Давыдково\n",
      "- Район Хамовники\n",
      "- Район Хорошево-Мневники\n",
      "- Район Царицыно\n",
      "- Район Черемушки\n",
      "- Район Чертаново Северное\n",
      "- Район Чертаново Южное\n",
      "- Район Щукино\n",
      "- Район Южное Бутово\n",
      "- Район Южное Медведково\n",
      "- Район Южное Тушино\n",
      "- Район Якиманка\n",
      "- Район Ясенево\n",
      "- Рязанский район\n",
      "- Савеловский район\n",
      "- Таганский район\n",
      "- Тверской район\n",
      "- Тимирязевский Район\n",
      "- Хорошевский район\n",
      "- Южнопортовый Район\n",
      "- Ярославский Район\n"
     ]
    }
   ],
   "source": [
    "print('Районы, в которых находятся улицы с одним объектом общественного питания:')\n",
    "for area in streets_with_one_merged['area'].sort_values().unique():\n",
    "    print('-', area)"
   ]
  },
  {
   "cell_type": "markdown",
   "metadata": {},
   "source": [
    "## Общий вывод"
   ]
  },
  {
   "cell_type": "markdown",
   "metadata": {},
   "source": [
    "Наибольшую долю рынка занимаю кафе (6008 заведений), столовые(2575 заведений), рестораны (2274 заведений) и предприятия общественного обслуживания (1890 заведения). При этом доля сетевых заведений составляет только 20% от всего числа заведений.\n",
    "\n",
    "Среди сетевых заведений наиболее распространенные такие виды объектов, как: предприятия быстрого обслуживания (41%), магазинов(отделы кулинарии) (28.7%), рестораны (23.8%) и кафе (23%).\n",
    "\n",
    "Для сетевых заведений характерно много заведений с небольшим количеством посадочных мест. Менее 5% сетевых заведений имеют больше 160 посадочных мест.\n",
    "\n",
    "Наибольшее среднее и медианное количество мест в столовых и ресторанах 100±.\n",
    "\n",
    "<b>Топ 10 улиц Москвы с наибольшим количеством заведений</b>\n",
    "\n",
    "- проспект Мира - 196 заведения\n",
    "- Профсоюзная улица\t181 заведения\n",
    "- Ленинградский проспект - 172 заведения\n",
    "- Пресненская набережная - 165 заведений\n",
    "- Варшавское шоссе - 163 заведений\n",
    "- Ленинский проспект - 148 заведений\n",
    "- проспект Вернадского - 126 заведения\n",
    "- Кутузовский проспект - 114 заведений\n",
    "- Каширское шоссе - 110 заведений\n",
    "- Кировоградская улица - 107 заведений\n",
    "\n",
    "Обратим внимание что все эти улицы длинные и расположены не в 1 районе Москвы. Их протяженность один из основных факторов большого количества заведений + на них расположены крупные торговые центы с большими зонами фудкорт. Они располагаются в следующих районах:\n",
    "- Проспект Мира -  Алексеевский, Марьина роща, Мещанский, Останкинский, Ростокино, Свиблово, Ярославский;\n",
    "- Профсоюзная улица - Академический, Коньково, Обручевский, Тёплый Стан, Черёмушки, Ясенево;\n",
    "- Ленинградский проспект - Аэропорт, Беговой, Сокол, Хорошёвский;\n",
    "- Пресненская набережная - Пресненский;\n",
    "- Варшавское шоссе - Северное Бутово, Южное Бутово, Донской, Нагатино-Садовники, Нагорный, Северное Чертаново, Центральное Чертаново, Южное Чертаново;\n",
    "- Ленинский проспект - Гагаринский, Донской, Ломоносовский, Обручевский, Проспект Вернадского, Тёплый Стан, Тропарёво-Никулино, Якиманка;\n",
    "- проспект Вернадского - Гагаринский, Ломоносовский, Проспект Вернадского, Раменки, Тропарёво-Никулино;\n",
    "- Кутузовский проспект - Дорогомилово, Фили-Давыдково;\n",
    "- Каширское шоссе - Москворечье-Сабурово, Нагатино-Садовники, Северное Орехово-Борисово, Южное Орехово-Борисово;\n",
    "- Кировоградская улица - Северное Чертаново, Центральное Чертаново, Южное Чертаново.\n",
    "\n",
    "В Москве также имеются улицы, на которых расположено только 1 заведение общественного питания. Наибольшее количество таких улиц расположено в центральных районах: Таганский район (28 улиц), Район Хамовники (26 улиц), Басманный район (26 улиц), Пресненский район (20 улиц), Тверской район\t(20 улиц).\n",
    "\n",
    "<b>Рекомендации</b>\n",
    "\n",
    "Для открытия можно выбрать такой вид заведения, как кафе, так как он является самым популярным, с общим количеством мест до 40. \n",
    "\n",
    "Можно рассмотреть варианты расположения около крупных университетов, так как данная аудитория более склонна к инновациям + постоянный приток новых людей за счет проведения постоянных форумов/конференций и набора новых студентов. Возможно стоит поискать такое место на улицах, которые попали в топ 10, но здесь неоднозначно.\n",
    "\n",
    "В решении развития сети стоит отталкиваться от заинтересованности клиентов."
   ]
  }
 ],
 "metadata": {
  "ExecuteTimeLog": [
   {
    "duration": 398,
    "start_time": "2022-06-11T10:08:31.107Z"
   },
   {
    "duration": 138,
    "start_time": "2022-06-11T10:08:32.711Z"
   },
   {
    "duration": 20,
    "start_time": "2022-06-11T10:10:45.806Z"
   },
   {
    "duration": 10,
    "start_time": "2022-06-11T10:20:19.334Z"
   },
   {
    "duration": 57,
    "start_time": "2022-06-11T10:20:48.412Z"
   },
   {
    "duration": 6,
    "start_time": "2022-06-11T10:21:07.588Z"
   },
   {
    "duration": 6,
    "start_time": "2022-06-11T10:21:36.552Z"
   },
   {
    "duration": 6,
    "start_time": "2022-06-11T10:22:05.784Z"
   },
   {
    "duration": 13,
    "start_time": "2022-06-11T10:27:12.497Z"
   },
   {
    "duration": 8,
    "start_time": "2022-06-11T10:27:50.796Z"
   },
   {
    "duration": 822,
    "start_time": "2022-06-11T10:28:09.993Z"
   },
   {
    "duration": 229,
    "start_time": "2022-06-11T10:28:13.219Z"
   },
   {
    "duration": 187,
    "start_time": "2022-06-11T10:28:54.257Z"
   },
   {
    "duration": 165,
    "start_time": "2022-06-11T10:30:33.458Z"
   },
   {
    "duration": 204,
    "start_time": "2022-06-11T10:30:44.560Z"
   },
   {
    "duration": 194,
    "start_time": "2022-06-11T10:30:58.811Z"
   },
   {
    "duration": 184,
    "start_time": "2022-06-11T10:31:42.347Z"
   },
   {
    "duration": 243,
    "start_time": "2022-06-11T10:32:01.759Z"
   },
   {
    "duration": 41,
    "start_time": "2022-06-11T10:33:04.466Z"
   },
   {
    "duration": 253,
    "start_time": "2022-06-11T10:38:49.429Z"
   },
   {
    "duration": 181,
    "start_time": "2022-06-11T10:38:55.864Z"
   },
   {
    "duration": 14,
    "start_time": "2022-06-11T10:48:14.269Z"
   },
   {
    "duration": 9,
    "start_time": "2022-06-11T10:48:22.046Z"
   },
   {
    "duration": 112,
    "start_time": "2022-06-11T10:49:33.258Z"
   },
   {
    "duration": 97,
    "start_time": "2022-06-11T10:49:43.821Z"
   },
   {
    "duration": 105,
    "start_time": "2022-06-11T10:49:51.659Z"
   },
   {
    "duration": 92,
    "start_time": "2022-06-11T10:49:58.505Z"
   },
   {
    "duration": 1007,
    "start_time": "2022-06-11T10:50:06.392Z"
   },
   {
    "duration": 81,
    "start_time": "2022-06-11T10:50:07.401Z"
   },
   {
    "duration": 19,
    "start_time": "2022-06-11T10:50:07.483Z"
   },
   {
    "duration": 6,
    "start_time": "2022-06-11T10:50:07.504Z"
   },
   {
    "duration": 4,
    "start_time": "2022-06-11T10:50:07.525Z"
   },
   {
    "duration": 8,
    "start_time": "2022-06-11T10:50:07.531Z"
   },
   {
    "duration": 10,
    "start_time": "2022-06-11T10:50:07.540Z"
   },
   {
    "duration": 203,
    "start_time": "2022-06-11T10:50:07.551Z"
   },
   {
    "duration": 8,
    "start_time": "2022-06-11T10:50:07.755Z"
   },
   {
    "duration": 113,
    "start_time": "2022-06-11T10:50:07.765Z"
   },
   {
    "duration": 91,
    "start_time": "2022-06-11T10:57:28.390Z"
   },
   {
    "duration": 37,
    "start_time": "2022-06-11T10:57:32.689Z"
   },
   {
    "duration": 13,
    "start_time": "2022-06-11T10:57:40.522Z"
   },
   {
    "duration": 11,
    "start_time": "2022-06-11T10:59:21.615Z"
   },
   {
    "duration": 1368,
    "start_time": "2022-06-14T20:16:18.148Z"
   },
   {
    "duration": 593,
    "start_time": "2022-06-14T20:16:19.518Z"
   },
   {
    "duration": 21,
    "start_time": "2022-06-14T20:16:20.116Z"
   },
   {
    "duration": 6,
    "start_time": "2022-06-14T20:16:20.139Z"
   },
   {
    "duration": 6,
    "start_time": "2022-06-14T20:16:20.146Z"
   },
   {
    "duration": 6,
    "start_time": "2022-06-14T20:16:20.153Z"
   },
   {
    "duration": 47,
    "start_time": "2022-06-14T20:16:20.161Z"
   },
   {
    "duration": 239,
    "start_time": "2022-06-14T20:16:20.210Z"
   },
   {
    "duration": 11,
    "start_time": "2022-06-14T20:16:20.451Z"
   },
   {
    "duration": 150,
    "start_time": "2022-06-14T20:16:20.465Z"
   },
   {
    "duration": 18,
    "start_time": "2022-06-14T20:21:42.557Z"
   },
   {
    "duration": 10,
    "start_time": "2022-06-14T20:22:44.165Z"
   },
   {
    "duration": 10,
    "start_time": "2022-06-14T20:22:53.107Z"
   },
   {
    "duration": 118,
    "start_time": "2022-06-14T20:22:57.471Z"
   },
   {
    "duration": 13,
    "start_time": "2022-06-14T20:23:29.966Z"
   },
   {
    "duration": 9,
    "start_time": "2022-06-14T20:26:14.212Z"
   },
   {
    "duration": 10,
    "start_time": "2022-06-14T20:27:34.168Z"
   },
   {
    "duration": 27,
    "start_time": "2022-06-14T20:28:46.517Z"
   },
   {
    "duration": 13,
    "start_time": "2022-06-14T20:28:59.639Z"
   },
   {
    "duration": 12,
    "start_time": "2022-06-14T20:29:15.279Z"
   },
   {
    "duration": 14,
    "start_time": "2022-06-14T20:29:30.768Z"
   },
   {
    "duration": 15,
    "start_time": "2022-06-14T20:36:18.034Z"
   },
   {
    "duration": 33,
    "start_time": "2022-06-14T20:36:26.582Z"
   },
   {
    "duration": 239,
    "start_time": "2022-06-14T20:37:28.418Z"
   },
   {
    "duration": 24,
    "start_time": "2022-06-14T20:40:14.065Z"
   },
   {
    "duration": 105,
    "start_time": "2022-06-14T20:57:25.910Z"
   },
   {
    "duration": 1646,
    "start_time": "2022-06-14T20:57:38.261Z"
   },
   {
    "duration": 1542,
    "start_time": "2022-06-14T20:58:00.126Z"
   },
   {
    "duration": 14,
    "start_time": "2022-06-14T21:01:27.409Z"
   },
   {
    "duration": 17,
    "start_time": "2022-06-14T21:01:37.434Z"
   },
   {
    "duration": 8,
    "start_time": "2022-06-14T21:03:28.164Z"
   },
   {
    "duration": 20,
    "start_time": "2022-06-14T21:04:28.970Z"
   },
   {
    "duration": 137,
    "start_time": "2022-06-14T21:05:36.506Z"
   },
   {
    "duration": 1417,
    "start_time": "2022-06-14T21:05:54.301Z"
   },
   {
    "duration": 1520,
    "start_time": "2022-06-14T21:06:03.210Z"
   },
   {
    "duration": 1466,
    "start_time": "2022-06-14T21:08:01.112Z"
   },
   {
    "duration": 163,
    "start_time": "2022-06-14T21:10:09.259Z"
   },
   {
    "duration": 9,
    "start_time": "2022-06-14T21:13:06.050Z"
   },
   {
    "duration": 3,
    "start_time": "2022-06-14T21:13:28.022Z"
   },
   {
    "duration": 1160,
    "start_time": "2022-06-14T21:13:33.114Z"
   },
   {
    "duration": 103,
    "start_time": "2022-06-14T21:13:34.276Z"
   },
   {
    "duration": 33,
    "start_time": "2022-06-14T21:13:34.381Z"
   },
   {
    "duration": 6,
    "start_time": "2022-06-14T21:13:34.416Z"
   },
   {
    "duration": 18,
    "start_time": "2022-06-14T21:13:34.424Z"
   },
   {
    "duration": 27,
    "start_time": "2022-06-14T21:13:34.444Z"
   },
   {
    "duration": 10,
    "start_time": "2022-06-14T21:13:34.473Z"
   },
   {
    "duration": 238,
    "start_time": "2022-06-14T21:13:34.485Z"
   },
   {
    "duration": 9,
    "start_time": "2022-06-14T21:13:34.725Z"
   },
   {
    "duration": 127,
    "start_time": "2022-06-14T21:13:34.736Z"
   },
   {
    "duration": 10,
    "start_time": "2022-06-14T21:13:34.865Z"
   },
   {
    "duration": 33,
    "start_time": "2022-06-14T21:13:34.877Z"
   },
   {
    "duration": 246,
    "start_time": "2022-06-14T21:13:34.912Z"
   },
   {
    "duration": 16,
    "start_time": "2022-06-14T21:13:35.161Z"
   },
   {
    "duration": 183,
    "start_time": "2022-06-14T21:13:35.179Z"
   },
   {
    "duration": 5,
    "start_time": "2022-06-14T21:13:35.364Z"
   },
   {
    "duration": 1445,
    "start_time": "2022-06-14T21:13:35.371Z"
   },
   {
    "duration": 114,
    "start_time": "2022-06-14T21:14:46.610Z"
   },
   {
    "duration": 23,
    "start_time": "2022-06-14T21:27:58.957Z"
   },
   {
    "duration": 120,
    "start_time": "2022-06-14T21:28:05.241Z"
   },
   {
    "duration": 24,
    "start_time": "2022-06-14T21:28:19.824Z"
   },
   {
    "duration": 30,
    "start_time": "2022-06-14T21:31:29.918Z"
   },
   {
    "duration": 31,
    "start_time": "2022-06-14T21:31:47.226Z"
   },
   {
    "duration": 9,
    "start_time": "2022-06-14T21:44:41.471Z"
   },
   {
    "duration": 94,
    "start_time": "2022-06-14T21:48:47.492Z"
   },
   {
    "duration": 6,
    "start_time": "2022-06-14T21:50:05.319Z"
   },
   {
    "duration": 6,
    "start_time": "2022-06-14T21:50:37.203Z"
   },
   {
    "duration": 19,
    "start_time": "2022-06-14T21:51:52.760Z"
   },
   {
    "duration": 38,
    "start_time": "2022-06-14T21:57:24.719Z"
   },
   {
    "duration": 150,
    "start_time": "2022-06-14T21:57:38.028Z"
   },
   {
    "duration": 9,
    "start_time": "2022-06-14T22:01:01.117Z"
   },
   {
    "duration": 13,
    "start_time": "2022-06-14T22:07:13.865Z"
   },
   {
    "duration": 15,
    "start_time": "2022-06-14T22:07:55.924Z"
   },
   {
    "duration": 14,
    "start_time": "2022-06-14T22:08:01.131Z"
   },
   {
    "duration": 11,
    "start_time": "2022-06-14T22:11:22.837Z"
   },
   {
    "duration": 193,
    "start_time": "2022-06-14T22:15:24.226Z"
   },
   {
    "duration": 188,
    "start_time": "2022-06-14T22:16:15.892Z"
   },
   {
    "duration": 246,
    "start_time": "2022-06-14T22:17:28.036Z"
   },
   {
    "duration": 243,
    "start_time": "2022-06-14T22:19:24.158Z"
   },
   {
    "duration": 242,
    "start_time": "2022-06-14T22:20:26.300Z"
   },
   {
    "duration": 241,
    "start_time": "2022-06-14T22:20:36.290Z"
   },
   {
    "duration": 360,
    "start_time": "2022-06-14T22:20:46.101Z"
   },
   {
    "duration": 240,
    "start_time": "2022-06-14T22:20:57.778Z"
   },
   {
    "duration": 247,
    "start_time": "2022-06-14T22:21:06.817Z"
   },
   {
    "duration": 253,
    "start_time": "2022-06-14T22:23:00.317Z"
   },
   {
    "duration": 260,
    "start_time": "2022-06-14T22:23:06.570Z"
   },
   {
    "duration": 10,
    "start_time": "2022-06-14T22:25:48.788Z"
   },
   {
    "duration": 127,
    "start_time": "2022-06-14T22:26:03.236Z"
   },
   {
    "duration": 52,
    "start_time": "2022-06-14T22:26:14.406Z"
   },
   {
    "duration": 1062,
    "start_time": "2022-06-14T22:26:29.156Z"
   },
   {
    "duration": 94,
    "start_time": "2022-06-14T22:26:30.221Z"
   },
   {
    "duration": 24,
    "start_time": "2022-06-14T22:26:30.316Z"
   },
   {
    "duration": 8,
    "start_time": "2022-06-14T22:26:30.343Z"
   },
   {
    "duration": 8,
    "start_time": "2022-06-14T22:26:30.353Z"
   },
   {
    "duration": 35,
    "start_time": "2022-06-14T22:26:30.363Z"
   },
   {
    "duration": 14,
    "start_time": "2022-06-14T22:26:30.400Z"
   },
   {
    "duration": 246,
    "start_time": "2022-06-14T22:26:30.416Z"
   },
   {
    "duration": 11,
    "start_time": "2022-06-14T22:26:30.664Z"
   },
   {
    "duration": 127,
    "start_time": "2022-06-14T22:26:30.693Z"
   },
   {
    "duration": 12,
    "start_time": "2022-06-14T22:26:30.822Z"
   },
   {
    "duration": 27,
    "start_time": "2022-06-14T22:26:30.835Z"
   },
   {
    "duration": 221,
    "start_time": "2022-06-14T22:26:30.863Z"
   },
   {
    "duration": 20,
    "start_time": "2022-06-14T22:26:31.086Z"
   },
   {
    "duration": 168,
    "start_time": "2022-06-14T22:26:31.107Z"
   },
   {
    "duration": 5,
    "start_time": "2022-06-14T22:26:31.276Z"
   },
   {
    "duration": 1270,
    "start_time": "2022-06-14T22:26:31.282Z"
   },
   {
    "duration": 11,
    "start_time": "2022-06-14T22:26:32.553Z"
   },
   {
    "duration": 277,
    "start_time": "2022-06-14T22:26:32.565Z"
   },
   {
    "duration": 289,
    "start_time": "2022-06-14T22:26:32.844Z"
   },
   {
    "duration": 283,
    "start_time": "2022-06-14T22:26:33.134Z"
   },
   {
    "duration": 47,
    "start_time": "2022-06-14T22:26:33.418Z"
   },
   {
    "duration": 6,
    "start_time": "2022-06-14T22:26:33.466Z"
   },
   {
    "duration": 107,
    "start_time": "2022-06-14T22:26:33.494Z"
   },
   {
    "duration": 29,
    "start_time": "2022-06-14T22:41:35.365Z"
   },
   {
    "duration": 23,
    "start_time": "2022-06-14T22:43:04.869Z"
   },
   {
    "duration": 21,
    "start_time": "2022-06-14T22:43:20.361Z"
   },
   {
    "duration": 22,
    "start_time": "2022-06-14T22:43:31.748Z"
   },
   {
    "duration": 21,
    "start_time": "2022-06-14T22:43:42.701Z"
   },
   {
    "duration": 28,
    "start_time": "2022-06-14T22:43:50.511Z"
   },
   {
    "duration": 59,
    "start_time": "2022-06-14T22:45:04.620Z"
   },
   {
    "duration": 31,
    "start_time": "2022-06-14T22:45:23.025Z"
   },
   {
    "duration": 20,
    "start_time": "2022-06-14T22:45:48.006Z"
   },
   {
    "duration": 15,
    "start_time": "2022-06-14T22:46:11.990Z"
   },
   {
    "duration": 16,
    "start_time": "2022-06-14T22:46:45.317Z"
   },
   {
    "duration": 15,
    "start_time": "2022-06-14T22:47:42.002Z"
   },
   {
    "duration": 53,
    "start_time": "2022-06-14T22:49:02.205Z"
   },
   {
    "duration": 6,
    "start_time": "2022-06-14T22:49:12.980Z"
   },
   {
    "duration": 15,
    "start_time": "2022-06-14T22:49:18.605Z"
   },
   {
    "duration": 16,
    "start_time": "2022-06-14T22:49:47.324Z"
   },
   {
    "duration": 15,
    "start_time": "2022-06-14T22:51:02.978Z"
   },
   {
    "duration": 61,
    "start_time": "2022-06-14T22:52:11.070Z"
   },
   {
    "duration": 30,
    "start_time": "2022-06-14T22:56:37.494Z"
   },
   {
    "duration": 15,
    "start_time": "2022-06-14T22:56:51.842Z"
   },
   {
    "duration": 16,
    "start_time": "2022-06-14T22:57:47.401Z"
   },
   {
    "duration": 18,
    "start_time": "2022-06-14T23:02:31.800Z"
   },
   {
    "duration": 15,
    "start_time": "2022-06-14T23:02:38.426Z"
   },
   {
    "duration": 12,
    "start_time": "2022-06-14T23:04:07.027Z"
   },
   {
    "duration": 754,
    "start_time": "2022-06-14T23:04:26.699Z"
   },
   {
    "duration": 12,
    "start_time": "2022-06-14T23:04:48.145Z"
   },
   {
    "duration": 7,
    "start_time": "2022-06-14T23:05:39.082Z"
   },
   {
    "duration": 144,
    "start_time": "2022-06-14T23:05:58.580Z"
   },
   {
    "duration": 7,
    "start_time": "2022-06-14T23:06:05.983Z"
   },
   {
    "duration": 9,
    "start_time": "2022-06-14T23:06:35.511Z"
   },
   {
    "duration": 10,
    "start_time": "2022-06-14T23:07:01.621Z"
   },
   {
    "duration": 11,
    "start_time": "2022-06-14T23:08:38.866Z"
   },
   {
    "duration": 18,
    "start_time": "2022-06-14T23:09:39.254Z"
   },
   {
    "duration": 9,
    "start_time": "2022-06-14T23:11:22.816Z"
   },
   {
    "duration": 14,
    "start_time": "2022-06-14T23:11:34.705Z"
   },
   {
    "duration": 12,
    "start_time": "2022-06-14T23:11:42.596Z"
   },
   {
    "duration": 17,
    "start_time": "2022-06-14T23:22:09.944Z"
   },
   {
    "duration": 15,
    "start_time": "2022-06-14T23:25:10.156Z"
   },
   {
    "duration": 16,
    "start_time": "2022-06-14T23:28:19.321Z"
   },
   {
    "duration": 15,
    "start_time": "2022-06-14T23:30:04.195Z"
   },
   {
    "duration": 260,
    "start_time": "2022-06-14T23:32:26.085Z"
   },
   {
    "duration": 5,
    "start_time": "2022-06-14T23:33:50.501Z"
   },
   {
    "duration": 8,
    "start_time": "2022-06-14T23:34:29.793Z"
   },
   {
    "duration": 10,
    "start_time": "2022-06-14T23:34:52.664Z"
   },
   {
    "duration": 15,
    "start_time": "2022-06-14T23:35:24.987Z"
   },
   {
    "duration": 4,
    "start_time": "2022-06-14T23:36:04.013Z"
   },
   {
    "duration": 5,
    "start_time": "2022-06-14T23:36:07.896Z"
   },
   {
    "duration": 320,
    "start_time": "2022-06-14T23:37:05.561Z"
   },
   {
    "duration": 17,
    "start_time": "2022-06-14T23:37:57.804Z"
   },
   {
    "duration": 14,
    "start_time": "2022-06-14T23:38:01.046Z"
   },
   {
    "duration": 9,
    "start_time": "2022-06-14T23:38:49.484Z"
   },
   {
    "duration": 8,
    "start_time": "2022-06-14T23:39:04.652Z"
   },
   {
    "duration": 5,
    "start_time": "2022-06-14T23:42:11.961Z"
   },
   {
    "duration": 14,
    "start_time": "2022-06-14T23:42:22.361Z"
   },
   {
    "duration": 14,
    "start_time": "2022-06-14T23:42:31.445Z"
   },
   {
    "duration": 19,
    "start_time": "2022-06-14T23:49:16.378Z"
   },
   {
    "duration": 13,
    "start_time": "2022-06-14T23:50:05.223Z"
   },
   {
    "duration": 12,
    "start_time": "2022-06-14T23:52:14.792Z"
   },
   {
    "duration": 1270,
    "start_time": "2022-06-15T14:51:09.186Z"
   },
   {
    "duration": 246,
    "start_time": "2022-06-15T14:51:10.458Z"
   },
   {
    "duration": 23,
    "start_time": "2022-06-15T14:51:10.706Z"
   },
   {
    "duration": 6,
    "start_time": "2022-06-15T14:51:10.731Z"
   },
   {
    "duration": 28,
    "start_time": "2022-06-15T14:51:10.739Z"
   },
   {
    "duration": 12,
    "start_time": "2022-06-15T14:51:10.768Z"
   },
   {
    "duration": 13,
    "start_time": "2022-06-15T14:51:10.782Z"
   },
   {
    "duration": 225,
    "start_time": "2022-06-15T14:51:10.797Z"
   },
   {
    "duration": 10,
    "start_time": "2022-06-15T14:51:11.024Z"
   },
   {
    "duration": 134,
    "start_time": "2022-06-15T14:51:11.037Z"
   },
   {
    "duration": 11,
    "start_time": "2022-06-15T14:51:11.173Z"
   },
   {
    "duration": 20,
    "start_time": "2022-06-15T14:51:11.185Z"
   },
   {
    "duration": 238,
    "start_time": "2022-06-15T14:51:11.206Z"
   },
   {
    "duration": 21,
    "start_time": "2022-06-15T14:51:11.445Z"
   },
   {
    "duration": 162,
    "start_time": "2022-06-15T14:51:11.467Z"
   },
   {
    "duration": 5,
    "start_time": "2022-06-15T14:51:11.630Z"
   },
   {
    "duration": 1396,
    "start_time": "2022-06-15T14:51:11.636Z"
   },
   {
    "duration": 19,
    "start_time": "2022-06-15T14:51:13.034Z"
   },
   {
    "duration": 274,
    "start_time": "2022-06-15T14:51:13.055Z"
   },
   {
    "duration": 277,
    "start_time": "2022-06-15T14:51:13.331Z"
   },
   {
    "duration": 286,
    "start_time": "2022-06-15T14:51:13.609Z"
   },
   {
    "duration": 68,
    "start_time": "2022-06-15T14:51:13.896Z"
   },
   {
    "duration": 7,
    "start_time": "2022-06-15T14:51:13.966Z"
   },
   {
    "duration": 18,
    "start_time": "2022-06-15T14:51:13.975Z"
   },
   {
    "duration": 5,
    "start_time": "2022-06-15T14:51:13.995Z"
   },
   {
    "duration": 25,
    "start_time": "2022-06-15T14:51:14.001Z"
   },
   {
    "duration": 31,
    "start_time": "2022-06-15T14:51:14.028Z"
   },
   {
    "duration": 27,
    "start_time": "2022-06-15T14:51:14.063Z"
   },
   {
    "duration": 15,
    "start_time": "2022-06-15T14:51:14.092Z"
   },
   {
    "duration": 32,
    "start_time": "2022-06-15T14:51:14.108Z"
   },
   {
    "duration": 14,
    "start_time": "2022-06-15T14:51:14.144Z"
   },
   {
    "duration": 24,
    "start_time": "2022-06-15T14:53:32.343Z"
   },
   {
    "duration": 33,
    "start_time": "2022-06-15T14:58:44.125Z"
   },
   {
    "duration": 470,
    "start_time": "2022-06-15T14:58:52.598Z"
   },
   {
    "duration": 441,
    "start_time": "2022-06-15T14:59:49.553Z"
   },
   {
    "duration": 12,
    "start_time": "2022-06-15T15:00:32.513Z"
   },
   {
    "duration": 405,
    "start_time": "2022-06-15T15:01:13.284Z"
   },
   {
    "duration": 21,
    "start_time": "2022-06-15T15:02:35.487Z"
   },
   {
    "duration": 23,
    "start_time": "2022-06-15T15:03:34.326Z"
   },
   {
    "duration": 23,
    "start_time": "2022-06-15T15:03:46.616Z"
   },
   {
    "duration": 20,
    "start_time": "2022-06-15T15:03:58.590Z"
   },
   {
    "duration": 24,
    "start_time": "2022-06-15T15:04:15.998Z"
   },
   {
    "duration": 11,
    "start_time": "2022-06-15T15:04:43.966Z"
   },
   {
    "duration": 46,
    "start_time": "2022-06-15T15:05:48.088Z"
   },
   {
    "duration": 57,
    "start_time": "2022-06-15T15:08:04.565Z"
   },
   {
    "duration": 14,
    "start_time": "2022-06-15T15:08:08.689Z"
   },
   {
    "duration": 11,
    "start_time": "2022-06-15T15:12:58.753Z"
   },
   {
    "duration": 11,
    "start_time": "2022-06-15T15:14:03.354Z"
   },
   {
    "duration": 11,
    "start_time": "2022-06-15T15:16:39.489Z"
   },
   {
    "duration": 11,
    "start_time": "2022-06-15T15:16:51.782Z"
   },
   {
    "duration": 10,
    "start_time": "2022-06-15T15:17:01.397Z"
   },
   {
    "duration": 10,
    "start_time": "2022-06-15T15:17:30.489Z"
   },
   {
    "duration": 64,
    "start_time": "2022-06-15T15:18:48.326Z"
   },
   {
    "duration": 7,
    "start_time": "2022-06-15T15:18:53.167Z"
   },
   {
    "duration": 20,
    "start_time": "2022-06-15T15:18:55.898Z"
   },
   {
    "duration": 6,
    "start_time": "2022-06-15T15:19:02.103Z"
   },
   {
    "duration": 10,
    "start_time": "2022-06-15T15:19:07.349Z"
   },
   {
    "duration": 17,
    "start_time": "2022-06-15T15:19:10.577Z"
   },
   {
    "duration": 18,
    "start_time": "2022-06-15T15:19:14.684Z"
   },
   {
    "duration": 15,
    "start_time": "2022-06-15T15:19:17.901Z"
   },
   {
    "duration": 25,
    "start_time": "2022-06-15T15:19:20.355Z"
   },
   {
    "duration": 14,
    "start_time": "2022-06-15T15:19:23.750Z"
   },
   {
    "duration": 11,
    "start_time": "2022-06-15T15:19:26.909Z"
   },
   {
    "duration": 3,
    "start_time": "2022-06-15T15:21:04.285Z"
   },
   {
    "duration": 16,
    "start_time": "2022-06-15T15:22:05.546Z"
   },
   {
    "duration": 9,
    "start_time": "2022-06-15T15:23:45.048Z"
   },
   {
    "duration": 3,
    "start_time": "2022-06-15T15:24:21.539Z"
   },
   {
    "duration": 15,
    "start_time": "2022-06-15T15:25:23.908Z"
   },
   {
    "duration": 23,
    "start_time": "2022-06-15T15:27:12.083Z"
   },
   {
    "duration": 3,
    "start_time": "2022-06-15T15:27:17.901Z"
   },
   {
    "duration": 19,
    "start_time": "2022-06-15T15:27:53.876Z"
   },
   {
    "duration": 9,
    "start_time": "2022-06-15T15:28:03.503Z"
   },
   {
    "duration": 9,
    "start_time": "2022-06-15T15:28:10.036Z"
   },
   {
    "duration": 23,
    "start_time": "2022-06-15T15:29:15.965Z"
   },
   {
    "duration": 3,
    "start_time": "2022-06-15T15:29:21.280Z"
   },
   {
    "duration": 17,
    "start_time": "2022-06-15T15:29:24.412Z"
   },
   {
    "duration": 542,
    "start_time": "2022-06-15T15:32:28.779Z"
   },
   {
    "duration": 18,
    "start_time": "2022-06-15T15:32:38.913Z"
   },
   {
    "duration": 16,
    "start_time": "2022-06-15T15:36:32.297Z"
   },
   {
    "duration": 15,
    "start_time": "2022-06-15T15:38:09.906Z"
   },
   {
    "duration": 4,
    "start_time": "2022-06-15T15:40:18.969Z"
   },
   {
    "duration": 13,
    "start_time": "2022-06-15T15:40:23.187Z"
   },
   {
    "duration": 234,
    "start_time": "2022-06-15T15:42:29.653Z"
   },
   {
    "duration": 211,
    "start_time": "2022-06-15T15:43:06.002Z"
   },
   {
    "duration": 1090,
    "start_time": "2022-06-15T15:43:13.769Z"
   },
   {
    "duration": 90,
    "start_time": "2022-06-15T15:43:14.861Z"
   },
   {
    "duration": 25,
    "start_time": "2022-06-15T15:43:14.953Z"
   },
   {
    "duration": 7,
    "start_time": "2022-06-15T15:43:14.980Z"
   },
   {
    "duration": 37,
    "start_time": "2022-06-15T15:43:14.990Z"
   },
   {
    "duration": 54,
    "start_time": "2022-06-15T15:43:15.029Z"
   },
   {
    "duration": 20,
    "start_time": "2022-06-15T15:43:15.085Z"
   },
   {
    "duration": 266,
    "start_time": "2022-06-15T15:43:15.106Z"
   },
   {
    "duration": 9,
    "start_time": "2022-06-15T15:43:15.374Z"
   },
   {
    "duration": 136,
    "start_time": "2022-06-15T15:43:15.385Z"
   },
   {
    "duration": 10,
    "start_time": "2022-06-15T15:43:15.523Z"
   },
   {
    "duration": 28,
    "start_time": "2022-06-15T15:43:15.535Z"
   },
   {
    "duration": 236,
    "start_time": "2022-06-15T15:43:15.565Z"
   },
   {
    "duration": 16,
    "start_time": "2022-06-15T15:43:15.804Z"
   },
   {
    "duration": 169,
    "start_time": "2022-06-15T15:43:15.822Z"
   },
   {
    "duration": 5,
    "start_time": "2022-06-15T15:43:15.992Z"
   },
   {
    "duration": 1344,
    "start_time": "2022-06-15T15:43:15.998Z"
   },
   {
    "duration": 12,
    "start_time": "2022-06-15T15:43:17.344Z"
   },
   {
    "duration": 288,
    "start_time": "2022-06-15T15:43:17.358Z"
   },
   {
    "duration": 276,
    "start_time": "2022-06-15T15:43:17.648Z"
   },
   {
    "duration": 312,
    "start_time": "2022-06-15T15:43:17.926Z"
   },
   {
    "duration": 64,
    "start_time": "2022-06-15T15:43:18.240Z"
   },
   {
    "duration": 7,
    "start_time": "2022-06-15T15:43:18.306Z"
   },
   {
    "duration": 38,
    "start_time": "2022-06-15T15:43:18.315Z"
   },
   {
    "duration": 5,
    "start_time": "2022-06-15T15:43:18.355Z"
   },
   {
    "duration": 17,
    "start_time": "2022-06-15T15:43:18.363Z"
   },
   {
    "duration": 17,
    "start_time": "2022-06-15T15:43:18.381Z"
   },
   {
    "duration": 17,
    "start_time": "2022-06-15T15:43:18.399Z"
   },
   {
    "duration": 39,
    "start_time": "2022-06-15T15:43:18.418Z"
   },
   {
    "duration": 33,
    "start_time": "2022-06-15T15:43:18.459Z"
   },
   {
    "duration": 13,
    "start_time": "2022-06-15T15:43:18.494Z"
   },
   {
    "duration": 43,
    "start_time": "2022-06-15T15:43:18.509Z"
   },
   {
    "duration": 4,
    "start_time": "2022-06-15T15:43:18.554Z"
   },
   {
    "duration": 22,
    "start_time": "2022-06-15T15:43:18.560Z"
   },
   {
    "duration": 12,
    "start_time": "2022-06-15T15:43:18.584Z"
   },
   {
    "duration": 240,
    "start_time": "2022-06-15T15:43:18.598Z"
   },
   {
    "duration": 17,
    "start_time": "2022-06-15T15:46:11.746Z"
   },
   {
    "duration": 54,
    "start_time": "2022-06-15T15:55:44.646Z"
   },
   {
    "duration": 32,
    "start_time": "2022-06-15T15:57:49.673Z"
   },
   {
    "duration": 30,
    "start_time": "2022-06-15T15:57:54.702Z"
   },
   {
    "duration": 24,
    "start_time": "2022-06-15T15:57:59.109Z"
   },
   {
    "duration": 27,
    "start_time": "2022-06-15T15:58:23.850Z"
   },
   {
    "duration": 3,
    "start_time": "2022-06-15T15:58:27.797Z"
   },
   {
    "duration": 1337,
    "start_time": "2022-06-15T15:58:35.831Z"
   },
   {
    "duration": 14,
    "start_time": "2022-06-15T16:00:01.425Z"
   },
   {
    "duration": 211,
    "start_time": "2022-06-15T16:00:07.203Z"
   },
   {
    "duration": 41,
    "start_time": "2022-06-15T16:00:15.098Z"
   },
   {
    "duration": 35,
    "start_time": "2022-06-15T16:01:39.314Z"
   },
   {
    "duration": 33,
    "start_time": "2022-06-15T16:01:47.991Z"
   },
   {
    "duration": 4,
    "start_time": "2022-06-15T16:02:25.829Z"
   },
   {
    "duration": 43,
    "start_time": "2022-06-15T16:03:06.282Z"
   },
   {
    "duration": 34,
    "start_time": "2022-06-15T16:03:11.110Z"
   },
   {
    "duration": 1060,
    "start_time": "2022-06-15T16:04:10.788Z"
   },
   {
    "duration": 88,
    "start_time": "2022-06-15T16:04:11.851Z"
   },
   {
    "duration": 21,
    "start_time": "2022-06-15T16:04:11.940Z"
   },
   {
    "duration": 20,
    "start_time": "2022-06-15T16:04:11.963Z"
   },
   {
    "duration": 39,
    "start_time": "2022-06-15T16:04:11.985Z"
   },
   {
    "duration": 7,
    "start_time": "2022-06-15T16:04:12.026Z"
   },
   {
    "duration": 14,
    "start_time": "2022-06-15T16:04:12.035Z"
   },
   {
    "duration": 230,
    "start_time": "2022-06-15T16:04:12.051Z"
   },
   {
    "duration": 11,
    "start_time": "2022-06-15T16:04:12.283Z"
   },
   {
    "duration": 122,
    "start_time": "2022-06-15T16:04:12.296Z"
   },
   {
    "duration": 12,
    "start_time": "2022-06-15T16:04:12.420Z"
   },
   {
    "duration": 30,
    "start_time": "2022-06-15T16:04:12.434Z"
   },
   {
    "duration": 244,
    "start_time": "2022-06-15T16:04:12.466Z"
   },
   {
    "duration": 17,
    "start_time": "2022-06-15T16:04:12.713Z"
   },
   {
    "duration": 169,
    "start_time": "2022-06-15T16:04:12.732Z"
   },
   {
    "duration": 5,
    "start_time": "2022-06-15T16:04:12.902Z"
   },
   {
    "duration": 1376,
    "start_time": "2022-06-15T16:04:12.908Z"
   },
   {
    "duration": 11,
    "start_time": "2022-06-15T16:04:14.285Z"
   },
   {
    "duration": 275,
    "start_time": "2022-06-15T16:04:14.297Z"
   },
   {
    "duration": 284,
    "start_time": "2022-06-15T16:04:14.574Z"
   },
   {
    "duration": 293,
    "start_time": "2022-06-15T16:04:14.860Z"
   },
   {
    "duration": 59,
    "start_time": "2022-06-15T16:04:15.155Z"
   },
   {
    "duration": 17,
    "start_time": "2022-06-15T16:04:15.216Z"
   },
   {
    "duration": 36,
    "start_time": "2022-06-15T16:04:15.235Z"
   },
   {
    "duration": 6,
    "start_time": "2022-06-15T16:04:15.273Z"
   },
   {
    "duration": 19,
    "start_time": "2022-06-15T16:04:15.281Z"
   },
   {
    "duration": 21,
    "start_time": "2022-06-15T16:04:15.305Z"
   },
   {
    "duration": 49,
    "start_time": "2022-06-15T16:04:15.329Z"
   },
   {
    "duration": 16,
    "start_time": "2022-06-15T16:04:15.380Z"
   },
   {
    "duration": 28,
    "start_time": "2022-06-15T16:04:15.398Z"
   },
   {
    "duration": 34,
    "start_time": "2022-06-15T16:04:15.428Z"
   },
   {
    "duration": 26,
    "start_time": "2022-06-15T16:04:15.464Z"
   },
   {
    "duration": 18,
    "start_time": "2022-06-15T16:04:15.492Z"
   },
   {
    "duration": 25,
    "start_time": "2022-06-15T16:04:15.512Z"
   },
   {
    "duration": 24,
    "start_time": "2022-06-15T16:04:15.539Z"
   },
   {
    "duration": 241,
    "start_time": "2022-06-15T16:04:15.565Z"
   },
   {
    "duration": 19,
    "start_time": "2022-06-15T16:04:15.807Z"
   },
   {
    "duration": 7,
    "start_time": "2022-06-15T16:17:25.939Z"
   },
   {
    "duration": 5,
    "start_time": "2022-06-15T16:17:31.822Z"
   },
   {
    "duration": 5,
    "start_time": "2022-06-15T17:08:23.981Z"
   },
   {
    "duration": 104,
    "start_time": "2022-06-15T17:25:09.502Z"
   },
   {
    "duration": 137,
    "start_time": "2022-06-15T17:26:18.759Z"
   },
   {
    "duration": 106,
    "start_time": "2022-06-15T17:28:10.310Z"
   },
   {
    "duration": 129,
    "start_time": "2022-06-15T17:29:09.964Z"
   },
   {
    "duration": 116,
    "start_time": "2022-06-15T17:30:03.562Z"
   },
   {
    "duration": 32,
    "start_time": "2022-06-15T21:35:19.361Z"
   },
   {
    "duration": 357,
    "start_time": "2022-06-15T21:35:30.259Z"
   },
   {
    "duration": 671,
    "start_time": "2022-06-15T21:37:01.430Z"
   },
   {
    "duration": 658,
    "start_time": "2022-06-15T21:39:32.837Z"
   },
   {
    "duration": 4,
    "start_time": "2022-06-15T21:47:05.180Z"
   },
   {
    "duration": 236,
    "start_time": "2022-06-15T21:49:48.538Z"
   },
   {
    "duration": 11,
    "start_time": "2022-06-15T21:54:48.703Z"
   },
   {
    "duration": 204,
    "start_time": "2022-06-15T21:57:17.036Z"
   },
   {
    "duration": 11,
    "start_time": "2022-06-15T21:57:28.483Z"
   },
   {
    "duration": 23,
    "start_time": "2022-06-15T22:02:04.363Z"
   },
   {
    "duration": 803,
    "start_time": "2022-06-15T22:02:18.138Z"
   },
   {
    "duration": 18,
    "start_time": "2022-06-15T22:02:24.358Z"
   },
   {
    "duration": 12,
    "start_time": "2022-06-15T22:07:33.227Z"
   },
   {
    "duration": 435,
    "start_time": "2022-06-15T22:08:26.779Z"
   },
   {
    "duration": 395,
    "start_time": "2022-06-15T22:08:43.997Z"
   },
   {
    "duration": 27,
    "start_time": "2022-06-15T22:09:00.045Z"
   },
   {
    "duration": 12,
    "start_time": "2022-06-15T22:09:17.940Z"
   },
   {
    "duration": 434,
    "start_time": "2022-06-15T22:09:53.016Z"
   },
   {
    "duration": 488,
    "start_time": "2022-06-15T22:12:43.726Z"
   },
   {
    "duration": 41,
    "start_time": "2022-06-15T22:13:19.192Z"
   },
   {
    "duration": 46,
    "start_time": "2022-06-15T22:13:32.151Z"
   },
   {
    "duration": 43,
    "start_time": "2022-06-15T22:15:36.455Z"
   },
   {
    "duration": 41,
    "start_time": "2022-06-15T22:15:44.038Z"
   },
   {
    "duration": 42,
    "start_time": "2022-06-15T22:16:13.481Z"
   },
   {
    "duration": 44,
    "start_time": "2022-06-15T22:21:34.594Z"
   },
   {
    "duration": 45,
    "start_time": "2022-06-15T22:24:32.355Z"
   },
   {
    "duration": 23,
    "start_time": "2022-06-15T22:38:01.292Z"
   },
   {
    "duration": 15,
    "start_time": "2022-06-15T22:41:24.548Z"
   },
   {
    "duration": 11,
    "start_time": "2022-06-15T22:41:41.789Z"
   },
   {
    "duration": 10,
    "start_time": "2022-06-15T22:42:59.830Z"
   },
   {
    "duration": 15,
    "start_time": "2022-06-15T22:43:15.127Z"
   },
   {
    "duration": 30,
    "start_time": "2022-06-15T22:45:28.991Z"
   },
   {
    "duration": 12,
    "start_time": "2022-06-15T22:45:42.329Z"
   },
   {
    "duration": 11,
    "start_time": "2022-06-15T22:46:16.025Z"
   },
   {
    "duration": 10,
    "start_time": "2022-06-15T22:46:23.764Z"
   },
   {
    "duration": 12,
    "start_time": "2022-06-15T22:46:51.828Z"
   },
   {
    "duration": 11,
    "start_time": "2022-06-15T22:46:57.016Z"
   },
   {
    "duration": 13,
    "start_time": "2022-06-15T22:56:45.196Z"
   },
   {
    "duration": 13,
    "start_time": "2022-06-15T22:57:51.413Z"
   },
   {
    "duration": 360,
    "start_time": "2022-06-15T22:59:58.905Z"
   },
   {
    "duration": 101,
    "start_time": "2022-06-15T23:02:42.736Z"
   },
   {
    "duration": 28,
    "start_time": "2022-06-15T23:03:05.369Z"
   },
   {
    "duration": 241,
    "start_time": "2022-06-15T23:11:00.659Z"
   },
   {
    "duration": 188,
    "start_time": "2022-06-15T23:11:16.983Z"
   },
   {
    "duration": 201,
    "start_time": "2022-06-15T23:11:26.499Z"
   },
   {
    "duration": 124,
    "start_time": "2022-06-15T23:20:23.082Z"
   },
   {
    "duration": 116,
    "start_time": "2022-06-15T23:20:47.238Z"
   },
   {
    "duration": 21,
    "start_time": "2022-06-15T23:22:22.207Z"
   },
   {
    "duration": 176,
    "start_time": "2022-06-15T23:25:35.335Z"
   },
   {
    "duration": 20,
    "start_time": "2022-06-15T23:31:16.445Z"
   },
   {
    "duration": 271,
    "start_time": "2022-06-15T23:31:34.222Z"
   },
   {
    "duration": 22,
    "start_time": "2022-06-15T23:32:21.933Z"
   },
   {
    "duration": 1105,
    "start_time": "2022-06-15T23:32:28.698Z"
   },
   {
    "duration": 11,
    "start_time": "2022-06-15T23:35:00.979Z"
   },
   {
    "duration": 959,
    "start_time": "2022-06-15T23:40:38.009Z"
   },
   {
    "duration": 17,
    "start_time": "2022-06-15T23:40:42.615Z"
   },
   {
    "duration": 4,
    "start_time": "2022-06-15T23:41:58.177Z"
   },
   {
    "duration": 12,
    "start_time": "2022-06-15T23:42:05.139Z"
   },
   {
    "duration": 12,
    "start_time": "2022-06-15T23:42:16.693Z"
   },
   {
    "duration": 1351,
    "start_time": "2022-06-16T10:17:45.175Z"
   },
   {
    "duration": 265,
    "start_time": "2022-06-16T10:17:46.528Z"
   },
   {
    "duration": 23,
    "start_time": "2022-06-16T10:17:46.796Z"
   },
   {
    "duration": 6,
    "start_time": "2022-06-16T10:17:46.822Z"
   },
   {
    "duration": 13,
    "start_time": "2022-06-16T10:17:46.830Z"
   },
   {
    "duration": 13,
    "start_time": "2022-06-16T10:17:46.845Z"
   },
   {
    "duration": 265,
    "start_time": "2022-06-16T10:17:46.860Z"
   },
   {
    "duration": 10,
    "start_time": "2022-06-16T10:17:47.127Z"
   },
   {
    "duration": 128,
    "start_time": "2022-06-16T10:17:47.139Z"
   },
   {
    "duration": 25,
    "start_time": "2022-06-16T10:17:47.270Z"
   },
   {
    "duration": 16,
    "start_time": "2022-06-16T10:17:47.297Z"
   },
   {
    "duration": 239,
    "start_time": "2022-06-16T10:17:47.315Z"
   },
   {
    "duration": 19,
    "start_time": "2022-06-16T10:17:47.556Z"
   },
   {
    "duration": 187,
    "start_time": "2022-06-16T10:17:47.576Z"
   },
   {
    "duration": 5,
    "start_time": "2022-06-16T10:17:47.765Z"
   },
   {
    "duration": 1471,
    "start_time": "2022-06-16T10:17:47.772Z"
   },
   {
    "duration": 14,
    "start_time": "2022-06-16T10:17:49.245Z"
   },
   {
    "duration": 318,
    "start_time": "2022-06-16T10:17:49.261Z"
   },
   {
    "duration": 297,
    "start_time": "2022-06-16T10:17:49.582Z"
   },
   {
    "duration": 301,
    "start_time": "2022-06-16T10:17:49.881Z"
   },
   {
    "duration": 118,
    "start_time": "2022-06-16T10:17:50.184Z"
   },
   {
    "duration": 16,
    "start_time": "2022-06-16T10:17:50.304Z"
   },
   {
    "duration": 262,
    "start_time": "2022-06-16T10:17:50.322Z"
   },
   {
    "duration": 27,
    "start_time": "2022-06-16T10:17:50.586Z"
   },
   {
    "duration": 766,
    "start_time": "2022-06-16T10:17:50.616Z"
   },
   {
    "duration": 0,
    "start_time": "2022-06-16T10:17:51.384Z"
   },
   {
    "duration": 0,
    "start_time": "2022-06-16T10:17:51.385Z"
   },
   {
    "duration": 874,
    "start_time": "2022-06-16T10:18:10.368Z"
   },
   {
    "duration": 202,
    "start_time": "2022-06-16T10:19:32.945Z"
   },
   {
    "duration": 989,
    "start_time": "2022-06-16T10:20:48.860Z"
   },
   {
    "duration": 15,
    "start_time": "2022-06-16T10:21:14.366Z"
   },
   {
    "duration": 128,
    "start_time": "2022-06-16T10:21:38.994Z"
   },
   {
    "duration": 111,
    "start_time": "2022-06-16T10:22:32.087Z"
   },
   {
    "duration": 15,
    "start_time": "2022-06-16T10:23:32.566Z"
   },
   {
    "duration": 12,
    "start_time": "2022-06-16T10:25:54.155Z"
   },
   {
    "duration": 15,
    "start_time": "2022-06-16T10:27:10.889Z"
   },
   {
    "duration": 91,
    "start_time": "2022-06-16T10:27:22.458Z"
   },
   {
    "duration": 125,
    "start_time": "2022-06-16T10:27:38.378Z"
   },
   {
    "duration": 150,
    "start_time": "2022-06-16T10:27:57.701Z"
   },
   {
    "duration": 13,
    "start_time": "2022-06-16T10:28:37.465Z"
   },
   {
    "duration": 14,
    "start_time": "2022-06-16T10:29:50.503Z"
   },
   {
    "duration": 14,
    "start_time": "2022-06-16T10:29:58.085Z"
   },
   {
    "duration": 225,
    "start_time": "2022-06-16T10:30:10.966Z"
   },
   {
    "duration": 163,
    "start_time": "2022-06-16T10:30:31.164Z"
   },
   {
    "duration": 78,
    "start_time": "2022-06-16T10:30:43.474Z"
   },
   {
    "duration": 7,
    "start_time": "2022-06-16T10:37:35.117Z"
   },
   {
    "duration": 4,
    "start_time": "2022-06-16T10:39:36.757Z"
   },
   {
    "duration": 17,
    "start_time": "2022-06-16T10:40:16.859Z"
   },
   {
    "duration": 23,
    "start_time": "2022-06-16T10:42:52.062Z"
   },
   {
    "duration": 753,
    "start_time": "2022-06-16T10:47:05.013Z"
   },
   {
    "duration": 4,
    "start_time": "2022-06-16T10:47:12.147Z"
   },
   {
    "duration": 16,
    "start_time": "2022-06-16T10:47:13.520Z"
   },
   {
    "duration": 16,
    "start_time": "2022-06-16T10:47:16.924Z"
   },
   {
    "duration": 770,
    "start_time": "2022-06-16T10:49:02.686Z"
   },
   {
    "duration": 4,
    "start_time": "2022-06-16T10:49:05.566Z"
   },
   {
    "duration": 24,
    "start_time": "2022-06-16T10:49:06.990Z"
   },
   {
    "duration": 14,
    "start_time": "2022-06-16T10:49:09.169Z"
   },
   {
    "duration": 22,
    "start_time": "2022-06-16T10:50:02.881Z"
   },
   {
    "duration": 918,
    "start_time": "2022-06-16T11:01:39.768Z"
   },
   {
    "duration": 3,
    "start_time": "2022-06-16T11:01:42.579Z"
   },
   {
    "duration": 20,
    "start_time": "2022-06-16T11:08:06.526Z"
   },
   {
    "duration": 12,
    "start_time": "2022-06-16T11:08:09.117Z"
   },
   {
    "duration": 889,
    "start_time": "2022-06-16T11:11:31.867Z"
   },
   {
    "duration": 3,
    "start_time": "2022-06-16T11:11:34.984Z"
   },
   {
    "duration": 17,
    "start_time": "2022-06-16T11:11:36.614Z"
   },
   {
    "duration": 9,
    "start_time": "2022-06-16T11:11:40.368Z"
   },
   {
    "duration": 114,
    "start_time": "2022-06-16T11:21:15.206Z"
   },
   {
    "duration": 895,
    "start_time": "2022-06-16T11:21:22.020Z"
   },
   {
    "duration": 3,
    "start_time": "2022-06-16T11:21:25.330Z"
   },
   {
    "duration": 19,
    "start_time": "2022-06-16T11:21:28.008Z"
   },
   {
    "duration": 10,
    "start_time": "2022-06-16T11:21:33.313Z"
   },
   {
    "duration": 798,
    "start_time": "2022-06-16T11:28:17.167Z"
   },
   {
    "duration": 3,
    "start_time": "2022-06-16T11:28:24.123Z"
   },
   {
    "duration": 17,
    "start_time": "2022-06-16T11:28:25.560Z"
   },
   {
    "duration": 12,
    "start_time": "2022-06-16T11:28:30.629Z"
   },
   {
    "duration": 12,
    "start_time": "2022-06-16T11:31:24.620Z"
   },
   {
    "duration": 19,
    "start_time": "2022-06-16T11:32:39.874Z"
   },
   {
    "duration": 21,
    "start_time": "2022-06-16T11:35:13.587Z"
   },
   {
    "duration": 22,
    "start_time": "2022-06-16T11:36:34.186Z"
   },
   {
    "duration": 7,
    "start_time": "2022-06-16T11:37:00.867Z"
   },
   {
    "duration": 25,
    "start_time": "2022-06-16T11:39:25.154Z"
   },
   {
    "duration": 14,
    "start_time": "2022-06-16T11:39:36.359Z"
   },
   {
    "duration": 19,
    "start_time": "2022-06-16T11:41:43.791Z"
   },
   {
    "duration": 18,
    "start_time": "2022-06-16T11:41:56.213Z"
   },
   {
    "duration": 20,
    "start_time": "2022-06-16T11:42:01.647Z"
   },
   {
    "duration": 16,
    "start_time": "2022-06-16T11:42:05.601Z"
   },
   {
    "duration": 13,
    "start_time": "2022-06-16T11:42:13.409Z"
   },
   {
    "duration": 1106,
    "start_time": "2022-06-16T11:45:37.543Z"
   },
   {
    "duration": 93,
    "start_time": "2022-06-16T11:45:38.651Z"
   },
   {
    "duration": 21,
    "start_time": "2022-06-16T11:45:38.746Z"
   },
   {
    "duration": 4,
    "start_time": "2022-06-16T11:45:38.769Z"
   },
   {
    "duration": 19,
    "start_time": "2022-06-16T11:45:38.776Z"
   },
   {
    "duration": 30,
    "start_time": "2022-06-16T11:45:38.797Z"
   },
   {
    "duration": 264,
    "start_time": "2022-06-16T11:45:38.829Z"
   },
   {
    "duration": 15,
    "start_time": "2022-06-16T11:45:39.101Z"
   },
   {
    "duration": 118,
    "start_time": "2022-06-16T11:45:39.118Z"
   },
   {
    "duration": 13,
    "start_time": "2022-06-16T11:45:39.238Z"
   },
   {
    "duration": 21,
    "start_time": "2022-06-16T11:45:39.253Z"
   },
   {
    "duration": 248,
    "start_time": "2022-06-16T11:45:39.275Z"
   },
   {
    "duration": 15,
    "start_time": "2022-06-16T11:45:39.525Z"
   },
   {
    "duration": 175,
    "start_time": "2022-06-16T11:45:39.543Z"
   },
   {
    "duration": 4,
    "start_time": "2022-06-16T11:45:39.720Z"
   },
   {
    "duration": 1385,
    "start_time": "2022-06-16T11:45:39.726Z"
   },
   {
    "duration": 15,
    "start_time": "2022-06-16T11:45:41.114Z"
   },
   {
    "duration": 303,
    "start_time": "2022-06-16T11:45:41.131Z"
   },
   {
    "duration": 337,
    "start_time": "2022-06-16T11:45:41.436Z"
   },
   {
    "duration": 316,
    "start_time": "2022-06-16T11:45:41.774Z"
   },
   {
    "duration": 220,
    "start_time": "2022-06-16T11:45:42.093Z"
   },
   {
    "duration": 0,
    "start_time": "2022-06-16T11:45:42.314Z"
   },
   {
    "duration": 0,
    "start_time": "2022-06-16T11:45:42.316Z"
   },
   {
    "duration": 0,
    "start_time": "2022-06-16T11:45:42.317Z"
   },
   {
    "duration": 0,
    "start_time": "2022-06-16T11:45:42.318Z"
   },
   {
    "duration": 0,
    "start_time": "2022-06-16T11:45:42.319Z"
   },
   {
    "duration": 0,
    "start_time": "2022-06-16T11:45:42.320Z"
   },
   {
    "duration": 0,
    "start_time": "2022-06-16T11:45:42.321Z"
   },
   {
    "duration": 0,
    "start_time": "2022-06-16T11:45:42.322Z"
   },
   {
    "duration": 0,
    "start_time": "2022-06-16T11:45:42.323Z"
   },
   {
    "duration": 0,
    "start_time": "2022-06-16T11:45:42.324Z"
   },
   {
    "duration": 0,
    "start_time": "2022-06-16T11:45:42.325Z"
   },
   {
    "duration": 0,
    "start_time": "2022-06-16T11:45:42.326Z"
   },
   {
    "duration": 114,
    "start_time": "2022-06-16T11:46:23.805Z"
   },
   {
    "duration": 18,
    "start_time": "2022-06-16T11:46:34.719Z"
   },
   {
    "duration": 7,
    "start_time": "2022-06-16T11:46:50.067Z"
   },
   {
    "duration": 24,
    "start_time": "2022-06-16T11:46:51.794Z"
   },
   {
    "duration": 208,
    "start_time": "2022-06-16T11:46:55.247Z"
   },
   {
    "duration": 17,
    "start_time": "2022-06-16T11:47:01.743Z"
   },
   {
    "duration": 1037,
    "start_time": "2022-06-16T11:47:06.017Z"
   },
   {
    "duration": 4,
    "start_time": "2022-06-16T11:47:11.146Z"
   },
   {
    "duration": 17,
    "start_time": "2022-06-16T11:47:12.812Z"
   },
   {
    "duration": 9,
    "start_time": "2022-06-16T11:47:17.281Z"
   },
   {
    "duration": 15,
    "start_time": "2022-06-16T11:47:23.955Z"
   },
   {
    "duration": 18,
    "start_time": "2022-06-16T11:47:39.951Z"
   },
   {
    "duration": 24,
    "start_time": "2022-06-16T11:48:01.082Z"
   },
   {
    "duration": 13,
    "start_time": "2022-06-16T11:48:07.959Z"
   },
   {
    "duration": 7,
    "start_time": "2022-06-16T11:48:52.547Z"
   },
   {
    "duration": 25,
    "start_time": "2022-06-16T11:51:09.916Z"
   },
   {
    "duration": 322,
    "start_time": "2022-06-16T12:08:22.598Z"
   },
   {
    "duration": 269,
    "start_time": "2022-06-16T12:09:08.010Z"
   },
   {
    "duration": 22,
    "start_time": "2022-06-16T12:09:51.017Z"
   },
   {
    "duration": 226,
    "start_time": "2022-06-16T12:12:00.322Z"
   },
   {
    "duration": 274,
    "start_time": "2022-06-16T12:12:43.539Z"
   },
   {
    "duration": 527,
    "start_time": "2022-06-16T12:13:32.435Z"
   },
   {
    "duration": 267,
    "start_time": "2022-06-16T12:13:50.850Z"
   },
   {
    "duration": 289,
    "start_time": "2022-06-16T12:13:59.194Z"
   },
   {
    "duration": 267,
    "start_time": "2022-06-16T12:15:37.650Z"
   },
   {
    "duration": 5,
    "start_time": "2022-06-16T12:16:58.744Z"
   },
   {
    "duration": 2653,
    "start_time": "2022-06-16T12:18:26.144Z"
   },
   {
    "duration": 2005,
    "start_time": "2022-06-16T12:19:25.262Z"
   },
   {
    "duration": 601,
    "start_time": "2022-06-16T12:19:56.892Z"
   },
   {
    "duration": 320,
    "start_time": "2022-06-16T12:20:32.217Z"
   },
   {
    "duration": 283,
    "start_time": "2022-06-16T12:21:23.008Z"
   },
   {
    "duration": 1607,
    "start_time": "2022-06-16T12:21:44.218Z"
   },
   {
    "duration": 3181,
    "start_time": "2022-06-16T12:22:34.369Z"
   },
   {
    "duration": 291,
    "start_time": "2022-06-16T12:23:38.417Z"
   },
   {
    "duration": 298,
    "start_time": "2022-06-16T12:23:54.470Z"
   },
   {
    "duration": 301,
    "start_time": "2022-06-16T12:24:43.436Z"
   },
   {
    "duration": 308,
    "start_time": "2022-06-16T12:24:53.173Z"
   },
   {
    "duration": 1957,
    "start_time": "2022-06-16T12:25:05.927Z"
   },
   {
    "duration": 30,
    "start_time": "2022-06-16T12:48:30.821Z"
   },
   {
    "duration": 1279,
    "start_time": "2022-06-16T12:48:36.675Z"
   },
   {
    "duration": 119,
    "start_time": "2022-06-16T12:48:37.957Z"
   },
   {
    "duration": 43,
    "start_time": "2022-06-16T12:48:38.078Z"
   },
   {
    "duration": 7,
    "start_time": "2022-06-16T12:48:38.123Z"
   },
   {
    "duration": 9,
    "start_time": "2022-06-16T12:48:38.133Z"
   },
   {
    "duration": 11,
    "start_time": "2022-06-16T12:48:38.143Z"
   },
   {
    "duration": 281,
    "start_time": "2022-06-16T12:48:38.156Z"
   },
   {
    "duration": 14,
    "start_time": "2022-06-16T12:48:38.439Z"
   },
   {
    "duration": 112,
    "start_time": "2022-06-16T12:48:38.456Z"
   },
   {
    "duration": 11,
    "start_time": "2022-06-16T12:48:38.570Z"
   },
   {
    "duration": 32,
    "start_time": "2022-06-16T12:48:38.582Z"
   },
   {
    "duration": 259,
    "start_time": "2022-06-16T12:48:38.616Z"
   },
   {
    "duration": 29,
    "start_time": "2022-06-16T12:48:38.878Z"
   },
   {
    "duration": 410,
    "start_time": "2022-06-16T12:48:38.912Z"
   },
   {
    "duration": 6,
    "start_time": "2022-06-16T12:48:39.325Z"
   },
   {
    "duration": 1982,
    "start_time": "2022-06-16T12:48:39.333Z"
   },
   {
    "duration": 13,
    "start_time": "2022-06-16T12:48:41.317Z"
   },
   {
    "duration": 231,
    "start_time": "2022-06-16T12:48:41.332Z"
   },
   {
    "duration": 350,
    "start_time": "2022-06-16T12:48:41.565Z"
   },
   {
    "duration": 356,
    "start_time": "2022-06-16T12:48:41.918Z"
   },
   {
    "duration": 160,
    "start_time": "2022-06-16T12:48:42.276Z"
   },
   {
    "duration": 31,
    "start_time": "2022-06-16T12:48:42.438Z"
   },
   {
    "duration": 30,
    "start_time": "2022-06-16T12:48:42.471Z"
   },
   {
    "duration": 35,
    "start_time": "2022-06-16T12:48:42.507Z"
   },
   {
    "duration": 227,
    "start_time": "2022-06-16T12:48:42.545Z"
   },
   {
    "duration": 34,
    "start_time": "2022-06-16T12:48:42.774Z"
   },
   {
    "duration": 1012,
    "start_time": "2022-06-16T12:48:42.811Z"
   },
   {
    "duration": 5,
    "start_time": "2022-06-16T12:48:43.825Z"
   },
   {
    "duration": 27,
    "start_time": "2022-06-16T12:48:43.831Z"
   },
   {
    "duration": 17,
    "start_time": "2022-06-16T12:48:43.862Z"
   },
   {
    "duration": 29,
    "start_time": "2022-06-16T12:48:43.896Z"
   },
   {
    "duration": 19,
    "start_time": "2022-06-16T12:48:43.927Z"
   },
   {
    "duration": 32,
    "start_time": "2022-06-16T12:48:43.948Z"
   },
   {
    "duration": 11,
    "start_time": "2022-06-16T12:49:59.555Z"
   },
   {
    "duration": 239,
    "start_time": "2022-06-16T12:50:02.711Z"
   },
   {
    "duration": 114,
    "start_time": "2022-06-16T12:53:06.323Z"
   },
   {
    "duration": 1160,
    "start_time": "2022-06-16T12:53:42.752Z"
   },
   {
    "duration": 100,
    "start_time": "2022-06-16T12:53:43.915Z"
   },
   {
    "duration": 28,
    "start_time": "2022-06-16T12:53:44.017Z"
   },
   {
    "duration": 7,
    "start_time": "2022-06-16T12:53:44.048Z"
   },
   {
    "duration": 13,
    "start_time": "2022-06-16T12:53:44.059Z"
   },
   {
    "duration": 14,
    "start_time": "2022-06-16T12:53:44.095Z"
   },
   {
    "duration": 271,
    "start_time": "2022-06-16T12:53:44.111Z"
   },
   {
    "duration": 18,
    "start_time": "2022-06-16T12:53:44.384Z"
   },
   {
    "duration": 116,
    "start_time": "2022-06-16T12:53:44.404Z"
   },
   {
    "duration": 16,
    "start_time": "2022-06-16T12:53:44.522Z"
   },
   {
    "duration": 19,
    "start_time": "2022-06-16T12:53:44.541Z"
   },
   {
    "duration": 258,
    "start_time": "2022-06-16T12:53:44.563Z"
   },
   {
    "duration": 18,
    "start_time": "2022-06-16T12:53:44.823Z"
   },
   {
    "duration": 307,
    "start_time": "2022-06-16T12:53:44.845Z"
   },
   {
    "duration": 5,
    "start_time": "2022-06-16T12:53:45.153Z"
   },
   {
    "duration": 1802,
    "start_time": "2022-06-16T12:53:45.159Z"
   },
   {
    "duration": 11,
    "start_time": "2022-06-16T12:53:46.963Z"
   },
   {
    "duration": 218,
    "start_time": "2022-06-16T12:53:46.976Z"
   },
   {
    "duration": 293,
    "start_time": "2022-06-16T12:53:47.195Z"
   },
   {
    "duration": 312,
    "start_time": "2022-06-16T12:53:47.490Z"
   },
   {
    "duration": 120,
    "start_time": "2022-06-16T12:53:47.803Z"
   },
   {
    "duration": 18,
    "start_time": "2022-06-16T12:53:47.925Z"
   },
   {
    "duration": 5,
    "start_time": "2022-06-16T12:53:47.945Z"
   },
   {
    "duration": 43,
    "start_time": "2022-06-16T12:53:47.952Z"
   },
   {
    "duration": 224,
    "start_time": "2022-06-16T12:53:47.997Z"
   },
   {
    "duration": 19,
    "start_time": "2022-06-16T12:53:48.224Z"
   },
   {
    "duration": 963,
    "start_time": "2022-06-16T12:53:48.246Z"
   },
   {
    "duration": 3,
    "start_time": "2022-06-16T12:53:49.211Z"
   },
   {
    "duration": 62,
    "start_time": "2022-06-16T12:53:49.216Z"
   },
   {
    "duration": 14,
    "start_time": "2022-06-16T12:53:49.280Z"
   },
   {
    "duration": 12,
    "start_time": "2022-06-16T12:53:49.295Z"
   },
   {
    "duration": 15,
    "start_time": "2022-06-16T12:53:49.309Z"
   },
   {
    "duration": 27,
    "start_time": "2022-06-16T12:53:49.326Z"
   },
   {
    "duration": 178,
    "start_time": "2022-06-16T13:39:08.318Z"
   },
   {
    "duration": 291,
    "start_time": "2022-06-16T13:40:06.562Z"
   },
   {
    "duration": 1106,
    "start_time": "2022-06-16T13:57:27.241Z"
   },
   {
    "duration": 96,
    "start_time": "2022-06-16T13:57:28.349Z"
   },
   {
    "duration": 25,
    "start_time": "2022-06-16T13:57:28.447Z"
   },
   {
    "duration": 5,
    "start_time": "2022-06-16T13:57:28.474Z"
   },
   {
    "duration": 6,
    "start_time": "2022-06-16T13:57:28.496Z"
   },
   {
    "duration": 15,
    "start_time": "2022-06-16T13:57:28.504Z"
   },
   {
    "duration": 256,
    "start_time": "2022-06-16T13:57:28.521Z"
   },
   {
    "duration": 17,
    "start_time": "2022-06-16T13:57:28.778Z"
   },
   {
    "duration": 103,
    "start_time": "2022-06-16T13:57:28.797Z"
   },
   {
    "duration": 15,
    "start_time": "2022-06-16T13:57:28.902Z"
   },
   {
    "duration": 20,
    "start_time": "2022-06-16T13:57:28.919Z"
   },
   {
    "duration": 365,
    "start_time": "2022-06-16T13:57:28.941Z"
   },
   {
    "duration": 16,
    "start_time": "2022-06-16T13:57:29.309Z"
   },
   {
    "duration": 276,
    "start_time": "2022-06-16T13:57:29.328Z"
   },
   {
    "duration": 5,
    "start_time": "2022-06-16T13:57:29.606Z"
   },
   {
    "duration": 1845,
    "start_time": "2022-06-16T13:57:29.613Z"
   },
   {
    "duration": 16,
    "start_time": "2022-06-16T13:57:31.459Z"
   },
   {
    "duration": 222,
    "start_time": "2022-06-16T13:57:31.476Z"
   },
   {
    "duration": 299,
    "start_time": "2022-06-16T13:57:31.699Z"
   },
   {
    "duration": 311,
    "start_time": "2022-06-16T13:57:32.000Z"
   },
   {
    "duration": 122,
    "start_time": "2022-06-16T13:57:32.313Z"
   },
   {
    "duration": 28,
    "start_time": "2022-06-16T13:57:32.437Z"
   },
   {
    "duration": 27,
    "start_time": "2022-06-16T13:57:32.467Z"
   },
   {
    "duration": 20,
    "start_time": "2022-06-16T13:57:32.496Z"
   },
   {
    "duration": 225,
    "start_time": "2022-06-16T13:57:32.519Z"
   },
   {
    "duration": 17,
    "start_time": "2022-06-16T13:57:32.746Z"
   },
   {
    "duration": 1125,
    "start_time": "2022-06-16T13:57:32.765Z"
   },
   {
    "duration": 4,
    "start_time": "2022-06-16T13:57:33.892Z"
   },
   {
    "duration": 39,
    "start_time": "2022-06-16T13:57:33.899Z"
   },
   {
    "duration": 14,
    "start_time": "2022-06-16T13:57:33.940Z"
   },
   {
    "duration": 12,
    "start_time": "2022-06-16T13:57:33.956Z"
   },
   {
    "duration": 37,
    "start_time": "2022-06-16T13:57:33.971Z"
   },
   {
    "duration": 210,
    "start_time": "2022-06-16T13:57:34.010Z"
   },
   {
    "duration": 238,
    "start_time": "2022-06-16T13:57:34.222Z"
   },
   {
    "duration": 78,
    "start_time": "2022-06-16T20:11:57.812Z"
   },
   {
    "duration": 1351,
    "start_time": "2022-06-16T20:12:14.640Z"
   },
   {
    "duration": 1213,
    "start_time": "2022-06-16T20:12:19.368Z"
   },
   {
    "duration": 154,
    "start_time": "2022-06-16T20:12:20.583Z"
   },
   {
    "duration": 25,
    "start_time": "2022-06-16T20:12:20.739Z"
   },
   {
    "duration": 5,
    "start_time": "2022-06-16T20:12:20.766Z"
   },
   {
    "duration": 11,
    "start_time": "2022-06-16T20:12:20.773Z"
   },
   {
    "duration": 142,
    "start_time": "2022-06-16T20:12:20.786Z"
   },
   {
    "duration": 0,
    "start_time": "2022-06-16T20:12:20.931Z"
   },
   {
    "duration": 0,
    "start_time": "2022-06-16T20:12:20.933Z"
   },
   {
    "duration": 0,
    "start_time": "2022-06-16T20:12:20.934Z"
   },
   {
    "duration": 0,
    "start_time": "2022-06-16T20:12:20.935Z"
   },
   {
    "duration": 0,
    "start_time": "2022-06-16T20:12:20.937Z"
   },
   {
    "duration": 0,
    "start_time": "2022-06-16T20:12:20.938Z"
   },
   {
    "duration": 0,
    "start_time": "2022-06-16T20:12:20.939Z"
   },
   {
    "duration": 0,
    "start_time": "2022-06-16T20:12:20.959Z"
   },
   {
    "duration": 0,
    "start_time": "2022-06-16T20:12:20.960Z"
   },
   {
    "duration": 0,
    "start_time": "2022-06-16T20:12:20.961Z"
   },
   {
    "duration": 0,
    "start_time": "2022-06-16T20:12:20.962Z"
   },
   {
    "duration": 1,
    "start_time": "2022-06-16T20:12:20.963Z"
   },
   {
    "duration": 0,
    "start_time": "2022-06-16T20:12:20.965Z"
   },
   {
    "duration": 0,
    "start_time": "2022-06-16T20:12:20.966Z"
   },
   {
    "duration": 0,
    "start_time": "2022-06-16T20:12:20.967Z"
   },
   {
    "duration": 0,
    "start_time": "2022-06-16T20:12:20.968Z"
   },
   {
    "duration": 0,
    "start_time": "2022-06-16T20:12:20.968Z"
   },
   {
    "duration": 0,
    "start_time": "2022-06-16T20:12:20.970Z"
   },
   {
    "duration": 0,
    "start_time": "2022-06-16T20:12:20.971Z"
   },
   {
    "duration": 0,
    "start_time": "2022-06-16T20:12:20.972Z"
   },
   {
    "duration": 0,
    "start_time": "2022-06-16T20:12:20.973Z"
   },
   {
    "duration": 0,
    "start_time": "2022-06-16T20:12:20.974Z"
   },
   {
    "duration": 0,
    "start_time": "2022-06-16T20:12:20.975Z"
   },
   {
    "duration": 0,
    "start_time": "2022-06-16T20:12:20.976Z"
   },
   {
    "duration": 0,
    "start_time": "2022-06-16T20:12:20.977Z"
   },
   {
    "duration": 0,
    "start_time": "2022-06-16T20:12:20.978Z"
   },
   {
    "duration": 0,
    "start_time": "2022-06-16T20:12:20.979Z"
   },
   {
    "duration": 0,
    "start_time": "2022-06-16T20:12:20.980Z"
   },
   {
    "duration": 0,
    "start_time": "2022-06-16T20:12:20.981Z"
   },
   {
    "duration": 16,
    "start_time": "2022-06-16T20:12:34.149Z"
   },
   {
    "duration": 269,
    "start_time": "2022-06-16T20:12:36.164Z"
   },
   {
    "duration": 231,
    "start_time": "2022-06-16T20:13:25.432Z"
   },
   {
    "duration": 220,
    "start_time": "2022-06-16T20:13:32.105Z"
   },
   {
    "duration": 27,
    "start_time": "2022-06-16T20:14:16.714Z"
   },
   {
    "duration": 14,
    "start_time": "2022-06-16T20:15:00.742Z"
   },
   {
    "duration": 33,
    "start_time": "2022-06-16T20:15:12.900Z"
   },
   {
    "duration": 26,
    "start_time": "2022-06-16T20:15:33.305Z"
   },
   {
    "duration": 219,
    "start_time": "2022-06-16T20:15:49.024Z"
   },
   {
    "duration": 29,
    "start_time": "2022-06-16T20:16:32.807Z"
   },
   {
    "duration": 212,
    "start_time": "2022-06-16T20:17:06.723Z"
   },
   {
    "duration": 23,
    "start_time": "2022-06-16T20:17:25.352Z"
   },
   {
    "duration": 288,
    "start_time": "2022-06-16T20:17:52.420Z"
   },
   {
    "duration": 27,
    "start_time": "2022-06-16T20:18:04.179Z"
   },
   {
    "duration": 36,
    "start_time": "2022-06-16T20:18:08.455Z"
   },
   {
    "duration": 295,
    "start_time": "2022-06-16T20:18:20.717Z"
   },
   {
    "duration": 111,
    "start_time": "2022-06-16T20:21:39.798Z"
   },
   {
    "duration": 125,
    "start_time": "2022-06-16T20:21:58.324Z"
   },
   {
    "duration": 172,
    "start_time": "2022-06-16T20:22:56.093Z"
   },
   {
    "duration": 304,
    "start_time": "2022-06-16T20:23:30.135Z"
   },
   {
    "duration": 207,
    "start_time": "2022-06-16T20:23:43.095Z"
   },
   {
    "duration": 184,
    "start_time": "2022-06-16T20:23:51.362Z"
   },
   {
    "duration": 15,
    "start_time": "2022-06-16T20:28:29.111Z"
   },
   {
    "duration": 26,
    "start_time": "2022-06-16T20:29:38.105Z"
   },
   {
    "duration": 28,
    "start_time": "2022-06-16T20:30:05.638Z"
   },
   {
    "duration": 36,
    "start_time": "2022-06-16T20:30:53.656Z"
   },
   {
    "duration": 25,
    "start_time": "2022-06-16T20:31:19.451Z"
   },
   {
    "duration": 24,
    "start_time": "2022-06-16T20:32:42.367Z"
   },
   {
    "duration": 28,
    "start_time": "2022-06-16T20:35:15.416Z"
   },
   {
    "duration": 26,
    "start_time": "2022-06-16T20:36:48.492Z"
   },
   {
    "duration": 23,
    "start_time": "2022-06-16T20:37:13.313Z"
   },
   {
    "duration": 22,
    "start_time": "2022-06-16T20:39:27.078Z"
   },
   {
    "duration": 15,
    "start_time": "2022-06-16T20:39:51.415Z"
   },
   {
    "duration": 21,
    "start_time": "2022-06-16T20:43:40.401Z"
   },
   {
    "duration": 4,
    "start_time": "2022-06-16T20:46:32.209Z"
   },
   {
    "duration": 1240,
    "start_time": "2022-06-17T10:17:35.345Z"
   },
   {
    "duration": 259,
    "start_time": "2022-06-17T10:17:39.116Z"
   },
   {
    "duration": 22,
    "start_time": "2022-06-17T10:17:40.917Z"
   },
   {
    "duration": 5,
    "start_time": "2022-06-17T10:17:42.213Z"
   },
   {
    "duration": 7,
    "start_time": "2022-06-17T10:17:43.619Z"
   },
   {
    "duration": 4,
    "start_time": "2022-06-17T10:17:48.261Z"
   },
   {
    "duration": 21,
    "start_time": "2022-06-17T10:18:43.357Z"
   },
   {
    "duration": 20,
    "start_time": "2022-06-17T10:19:33.246Z"
   },
   {
    "duration": 13,
    "start_time": "2022-06-17T10:19:38.053Z"
   },
   {
    "duration": 15,
    "start_time": "2022-06-17T10:19:51.465Z"
   },
   {
    "duration": 26,
    "start_time": "2022-06-17T10:19:59.364Z"
   },
   {
    "duration": 31,
    "start_time": "2022-06-17T10:25:20.687Z"
   },
   {
    "duration": 16,
    "start_time": "2022-06-17T10:25:26.242Z"
   },
   {
    "duration": 21,
    "start_time": "2022-06-17T10:25:28.477Z"
   },
   {
    "duration": 16,
    "start_time": "2022-06-17T10:28:23.941Z"
   },
   {
    "duration": 9,
    "start_time": "2022-06-17T10:28:46.405Z"
   },
   {
    "duration": 106,
    "start_time": "2022-06-17T10:29:00.491Z"
   },
   {
    "duration": 15,
    "start_time": "2022-06-17T10:29:09.208Z"
   },
   {
    "duration": 114,
    "start_time": "2022-06-17T10:30:32.731Z"
   },
   {
    "duration": 38,
    "start_time": "2022-06-17T10:30:40.943Z"
   },
   {
    "duration": 419,
    "start_time": "2022-06-17T10:33:56.386Z"
   },
   {
    "duration": 11,
    "start_time": "2022-06-17T10:34:08.841Z"
   },
   {
    "duration": 17,
    "start_time": "2022-06-17T10:40:38.610Z"
   },
   {
    "duration": 21,
    "start_time": "2022-06-17T10:41:03.825Z"
   },
   {
    "duration": 24,
    "start_time": "2022-06-17T10:41:09.625Z"
   },
   {
    "duration": 4,
    "start_time": "2022-06-17T10:41:44.788Z"
   },
   {
    "duration": 26,
    "start_time": "2022-06-17T10:41:46.591Z"
   },
   {
    "duration": 15,
    "start_time": "2022-06-17T10:41:51.703Z"
   },
   {
    "duration": 19,
    "start_time": "2022-06-17T10:42:17.553Z"
   },
   {
    "duration": 34,
    "start_time": "2022-06-17T10:42:46.587Z"
   },
   {
    "duration": 14,
    "start_time": "2022-06-17T10:43:41.687Z"
   },
   {
    "duration": 203,
    "start_time": "2022-06-17T10:43:47.687Z"
   },
   {
    "duration": 10,
    "start_time": "2022-06-17T10:44:03.152Z"
   },
   {
    "duration": 79,
    "start_time": "2022-06-17T10:44:08.364Z"
   },
   {
    "duration": 12,
    "start_time": "2022-06-17T10:44:23.166Z"
   },
   {
    "duration": 26,
    "start_time": "2022-06-17T10:45:04.989Z"
   },
   {
    "duration": 13,
    "start_time": "2022-06-17T10:45:10.249Z"
   },
   {
    "duration": 13,
    "start_time": "2022-06-17T10:45:18.337Z"
   },
   {
    "duration": 33,
    "start_time": "2022-06-17T10:46:48.357Z"
   },
   {
    "duration": 11,
    "start_time": "2022-06-17T10:47:06.765Z"
   },
   {
    "duration": 16,
    "start_time": "2022-06-17T10:47:08.865Z"
   },
   {
    "duration": 200,
    "start_time": "2022-06-17T10:47:20.149Z"
   },
   {
    "duration": 24,
    "start_time": "2022-06-17T10:47:46.051Z"
   },
   {
    "duration": 278,
    "start_time": "2022-06-17T10:48:55.089Z"
   },
   {
    "duration": 196,
    "start_time": "2022-06-17T10:49:09.971Z"
   },
   {
    "duration": 196,
    "start_time": "2022-06-17T10:49:30.211Z"
   },
   {
    "duration": 252,
    "start_time": "2022-06-17T10:50:00.341Z"
   },
   {
    "duration": 14,
    "start_time": "2022-06-17T10:51:50.959Z"
   },
   {
    "duration": 172,
    "start_time": "2022-06-17T10:51:59.285Z"
   },
   {
    "duration": 14,
    "start_time": "2022-06-17T10:52:23.094Z"
   },
   {
    "duration": 190,
    "start_time": "2022-06-17T10:52:29.111Z"
   },
   {
    "duration": 15,
    "start_time": "2022-06-17T10:52:59.495Z"
   },
   {
    "duration": 254,
    "start_time": "2022-06-17T10:53:52.985Z"
   },
   {
    "duration": 258,
    "start_time": "2022-06-17T10:54:01.068Z"
   },
   {
    "duration": 4,
    "start_time": "2022-06-17T10:54:13.625Z"
   },
   {
    "duration": 6,
    "start_time": "2022-06-17T10:55:52.897Z"
   },
   {
    "duration": 9402,
    "start_time": "2022-06-17T10:57:37.585Z"
   },
   {
    "duration": 9286,
    "start_time": "2022-06-17T10:58:32.641Z"
   },
   {
    "duration": 8964,
    "start_time": "2022-06-17T10:59:04.491Z"
   },
   {
    "duration": 9477,
    "start_time": "2022-06-17T10:59:28.791Z"
   },
   {
    "duration": 140,
    "start_time": "2022-06-17T11:00:25.347Z"
   },
   {
    "duration": 1927,
    "start_time": "2022-06-19T10:05:43.329Z"
   },
   {
    "duration": 314,
    "start_time": "2022-06-19T10:05:45.258Z"
   },
   {
    "duration": 30,
    "start_time": "2022-06-19T10:05:45.574Z"
   },
   {
    "duration": 16,
    "start_time": "2022-06-19T10:05:45.612Z"
   },
   {
    "duration": 8,
    "start_time": "2022-06-19T10:05:45.630Z"
   },
   {
    "duration": 10,
    "start_time": "2022-06-19T10:05:45.640Z"
   },
   {
    "duration": 34,
    "start_time": "2022-06-19T10:05:45.653Z"
   },
   {
    "duration": 34,
    "start_time": "2022-06-19T10:05:45.689Z"
   },
   {
    "duration": 27,
    "start_time": "2022-06-19T10:05:45.725Z"
   },
   {
    "duration": 24,
    "start_time": "2022-06-19T10:05:45.754Z"
   },
   {
    "duration": 24,
    "start_time": "2022-06-19T10:05:45.779Z"
   },
   {
    "duration": 228,
    "start_time": "2022-06-19T10:05:45.810Z"
   },
   {
    "duration": 13,
    "start_time": "2022-06-19T10:05:46.040Z"
   },
   {
    "duration": 146,
    "start_time": "2022-06-19T10:05:46.059Z"
   },
   {
    "duration": 19,
    "start_time": "2022-06-19T10:05:46.208Z"
   },
   {
    "duration": 31,
    "start_time": "2022-06-19T10:05:46.229Z"
   },
   {
    "duration": 199,
    "start_time": "2022-06-19T10:05:46.261Z"
   },
   {
    "duration": 16,
    "start_time": "2022-06-19T10:05:46.462Z"
   },
   {
    "duration": 295,
    "start_time": "2022-06-19T10:05:46.480Z"
   },
   {
    "duration": 5,
    "start_time": "2022-06-19T10:05:46.776Z"
   },
   {
    "duration": 262,
    "start_time": "2022-06-19T10:05:46.782Z"
   },
   {
    "duration": 0,
    "start_time": "2022-06-19T10:05:47.046Z"
   },
   {
    "duration": 0,
    "start_time": "2022-06-19T10:05:47.047Z"
   },
   {
    "duration": 0,
    "start_time": "2022-06-19T10:05:47.048Z"
   },
   {
    "duration": 0,
    "start_time": "2022-06-19T10:05:47.049Z"
   },
   {
    "duration": 0,
    "start_time": "2022-06-19T10:05:47.050Z"
   },
   {
    "duration": 0,
    "start_time": "2022-06-19T10:05:47.052Z"
   },
   {
    "duration": 0,
    "start_time": "2022-06-19T10:05:47.053Z"
   },
   {
    "duration": 0,
    "start_time": "2022-06-19T10:05:47.054Z"
   },
   {
    "duration": 0,
    "start_time": "2022-06-19T10:05:47.057Z"
   },
   {
    "duration": 0,
    "start_time": "2022-06-19T10:05:47.060Z"
   },
   {
    "duration": 0,
    "start_time": "2022-06-19T10:05:47.062Z"
   },
   {
    "duration": 0,
    "start_time": "2022-06-19T10:05:47.063Z"
   },
   {
    "duration": 0,
    "start_time": "2022-06-19T10:05:47.065Z"
   },
   {
    "duration": 0,
    "start_time": "2022-06-19T10:05:47.066Z"
   },
   {
    "duration": 0,
    "start_time": "2022-06-19T10:05:47.096Z"
   },
   {
    "duration": 0,
    "start_time": "2022-06-19T10:05:47.097Z"
   },
   {
    "duration": 0,
    "start_time": "2022-06-19T10:05:47.098Z"
   },
   {
    "duration": 0,
    "start_time": "2022-06-19T10:05:47.098Z"
   },
   {
    "duration": 0,
    "start_time": "2022-06-19T10:05:47.099Z"
   },
   {
    "duration": 15,
    "start_time": "2022-06-19T10:07:57.836Z"
   },
   {
    "duration": 18,
    "start_time": "2022-06-19T10:08:32.379Z"
   },
   {
    "duration": 23,
    "start_time": "2022-06-19T10:09:18.687Z"
   },
   {
    "duration": 177,
    "start_time": "2022-06-19T10:10:32.116Z"
   },
   {
    "duration": 411,
    "start_time": "2022-06-19T10:11:10.264Z"
   },
   {
    "duration": 367,
    "start_time": "2022-06-19T10:11:12.969Z"
   },
   {
    "duration": 312,
    "start_time": "2022-06-19T10:13:27.065Z"
   },
   {
    "duration": 281,
    "start_time": "2022-06-19T10:13:49.120Z"
   },
   {
    "duration": 373,
    "start_time": "2022-06-19T10:14:41.664Z"
   },
   {
    "duration": 373,
    "start_time": "2022-06-19T10:15:12.153Z"
   },
   {
    "duration": 507,
    "start_time": "2022-06-19T10:16:04.764Z"
   },
   {
    "duration": 366,
    "start_time": "2022-06-19T10:17:20.736Z"
   },
   {
    "duration": 393,
    "start_time": "2022-06-19T10:17:42.295Z"
   },
   {
    "duration": 359,
    "start_time": "2022-06-19T10:18:28.756Z"
   },
   {
    "duration": 472,
    "start_time": "2022-06-19T10:18:33.777Z"
   },
   {
    "duration": 177,
    "start_time": "2022-06-19T10:19:42.861Z"
   },
   {
    "duration": 27,
    "start_time": "2022-06-19T10:20:00.093Z"
   },
   {
    "duration": 10,
    "start_time": "2022-06-19T10:20:13.721Z"
   },
   {
    "duration": 16,
    "start_time": "2022-06-19T10:20:25.026Z"
   },
   {
    "duration": 296,
    "start_time": "2022-06-19T10:21:47.260Z"
   },
   {
    "duration": 377,
    "start_time": "2022-06-19T10:22:12.854Z"
   },
   {
    "duration": 1437,
    "start_time": "2022-06-19T10:22:39.636Z"
   },
   {
    "duration": 148,
    "start_time": "2022-06-19T10:22:41.077Z"
   },
   {
    "duration": 43,
    "start_time": "2022-06-19T10:22:41.232Z"
   },
   {
    "duration": 8,
    "start_time": "2022-06-19T10:22:41.277Z"
   },
   {
    "duration": 52,
    "start_time": "2022-06-19T10:22:41.296Z"
   },
   {
    "duration": 10,
    "start_time": "2022-06-19T10:22:41.351Z"
   },
   {
    "duration": 25,
    "start_time": "2022-06-19T10:22:41.364Z"
   },
   {
    "duration": 68,
    "start_time": "2022-06-19T10:22:41.391Z"
   },
   {
    "duration": 24,
    "start_time": "2022-06-19T10:22:41.461Z"
   },
   {
    "duration": 49,
    "start_time": "2022-06-19T10:22:41.490Z"
   },
   {
    "duration": 19,
    "start_time": "2022-06-19T10:22:41.541Z"
   },
   {
    "duration": 290,
    "start_time": "2022-06-19T10:22:41.562Z"
   },
   {
    "duration": 14,
    "start_time": "2022-06-19T10:22:41.855Z"
   },
   {
    "duration": 116,
    "start_time": "2022-06-19T10:22:41.874Z"
   },
   {
    "duration": 21,
    "start_time": "2022-06-19T10:22:41.992Z"
   },
   {
    "duration": 67,
    "start_time": "2022-06-19T10:22:42.015Z"
   },
   {
    "duration": 246,
    "start_time": "2022-06-19T10:22:42.084Z"
   },
   {
    "duration": 23,
    "start_time": "2022-06-19T10:22:42.332Z"
   },
   {
    "duration": 414,
    "start_time": "2022-06-19T10:22:42.357Z"
   },
   {
    "duration": 6,
    "start_time": "2022-06-19T10:22:42.773Z"
   },
   {
    "duration": 420,
    "start_time": "2022-06-19T10:22:42.785Z"
   },
   {
    "duration": 0,
    "start_time": "2022-06-19T10:22:43.208Z"
   },
   {
    "duration": 0,
    "start_time": "2022-06-19T10:22:43.210Z"
   },
   {
    "duration": 0,
    "start_time": "2022-06-19T10:22:43.212Z"
   },
   {
    "duration": 0,
    "start_time": "2022-06-19T10:22:43.213Z"
   },
   {
    "duration": 0,
    "start_time": "2022-06-19T10:22:43.214Z"
   },
   {
    "duration": 0,
    "start_time": "2022-06-19T10:22:43.216Z"
   },
   {
    "duration": 0,
    "start_time": "2022-06-19T10:22:43.217Z"
   },
   {
    "duration": 0,
    "start_time": "2022-06-19T10:22:43.218Z"
   },
   {
    "duration": 0,
    "start_time": "2022-06-19T10:22:43.219Z"
   },
   {
    "duration": 1,
    "start_time": "2022-06-19T10:22:43.220Z"
   },
   {
    "duration": 0,
    "start_time": "2022-06-19T10:22:43.222Z"
   },
   {
    "duration": 0,
    "start_time": "2022-06-19T10:22:43.223Z"
   },
   {
    "duration": 0,
    "start_time": "2022-06-19T10:22:43.224Z"
   },
   {
    "duration": 0,
    "start_time": "2022-06-19T10:22:43.225Z"
   },
   {
    "duration": 0,
    "start_time": "2022-06-19T10:22:43.227Z"
   },
   {
    "duration": 0,
    "start_time": "2022-06-19T10:22:43.228Z"
   },
   {
    "duration": 0,
    "start_time": "2022-06-19T10:22:43.229Z"
   },
   {
    "duration": 0,
    "start_time": "2022-06-19T10:22:43.231Z"
   },
   {
    "duration": 15,
    "start_time": "2022-06-19T10:22:48.251Z"
   },
   {
    "duration": 231,
    "start_time": "2022-06-19T10:22:50.234Z"
   },
   {
    "duration": 486,
    "start_time": "2022-06-19T10:22:53.229Z"
   },
   {
    "duration": 363,
    "start_time": "2022-06-19T10:22:56.537Z"
   },
   {
    "duration": 169,
    "start_time": "2022-06-19T10:22:59.888Z"
   },
   {
    "duration": 27,
    "start_time": "2022-06-19T10:23:06.716Z"
   },
   {
    "duration": 11,
    "start_time": "2022-06-19T10:23:09.056Z"
   },
   {
    "duration": 17,
    "start_time": "2022-06-19T10:23:11.252Z"
   },
   {
    "duration": 275,
    "start_time": "2022-06-19T10:23:13.313Z"
   },
   {
    "duration": 27,
    "start_time": "2022-06-19T10:23:24.323Z"
   },
   {
    "duration": 1297,
    "start_time": "2022-06-19T10:23:42.424Z"
   },
   {
    "duration": 4,
    "start_time": "2022-06-19T10:24:40.284Z"
   },
   {
    "duration": 34,
    "start_time": "2022-06-19T10:25:57.678Z"
   },
   {
    "duration": 22,
    "start_time": "2022-06-19T10:26:55.586Z"
   },
   {
    "duration": 14,
    "start_time": "2022-06-19T10:27:48.017Z"
   },
   {
    "duration": 18,
    "start_time": "2022-06-19T10:28:58.573Z"
   },
   {
    "duration": 15,
    "start_time": "2022-06-19T10:29:04.313Z"
   },
   {
    "duration": 7,
    "start_time": "2022-06-19T10:29:12.611Z"
   },
   {
    "duration": 13,
    "start_time": "2022-06-19T10:29:17.321Z"
   },
   {
    "duration": 49,
    "start_time": "2022-06-19T10:30:38.069Z"
   },
   {
    "duration": 18,
    "start_time": "2022-06-19T10:30:50.511Z"
   },
   {
    "duration": 2230,
    "start_time": "2022-06-19T10:31:40.487Z"
   },
   {
    "duration": 154,
    "start_time": "2022-06-19T10:32:15.888Z"
   },
   {
    "duration": 27,
    "start_time": "2022-06-19T10:32:25.515Z"
   },
   {
    "duration": 1272,
    "start_time": "2022-06-19T18:54:40.654Z"
   },
   {
    "duration": 416,
    "start_time": "2022-06-19T18:54:41.928Z"
   },
   {
    "duration": 25,
    "start_time": "2022-06-19T18:54:42.346Z"
   },
   {
    "duration": 5,
    "start_time": "2022-06-19T18:54:42.373Z"
   },
   {
    "duration": 6,
    "start_time": "2022-06-19T18:54:42.380Z"
   },
   {
    "duration": 6,
    "start_time": "2022-06-19T18:54:42.388Z"
   },
   {
    "duration": 21,
    "start_time": "2022-06-19T18:54:42.395Z"
   },
   {
    "duration": 35,
    "start_time": "2022-06-19T18:54:42.418Z"
   },
   {
    "duration": 37,
    "start_time": "2022-06-19T18:54:42.455Z"
   },
   {
    "duration": 22,
    "start_time": "2022-06-19T18:54:42.496Z"
   },
   {
    "duration": 50,
    "start_time": "2022-06-19T18:54:42.520Z"
   },
   {
    "duration": 197,
    "start_time": "2022-06-19T18:54:42.572Z"
   },
   {
    "duration": 10,
    "start_time": "2022-06-19T18:54:42.770Z"
   },
   {
    "duration": 88,
    "start_time": "2022-06-19T18:54:42.781Z"
   },
   {
    "duration": 13,
    "start_time": "2022-06-19T18:54:42.871Z"
   },
   {
    "duration": 25,
    "start_time": "2022-06-19T18:54:42.886Z"
   },
   {
    "duration": 197,
    "start_time": "2022-06-19T18:54:42.913Z"
   },
   {
    "duration": 15,
    "start_time": "2022-06-19T18:54:43.112Z"
   },
   {
    "duration": 282,
    "start_time": "2022-06-19T18:54:43.129Z"
   },
   {
    "duration": 4,
    "start_time": "2022-06-19T18:54:43.413Z"
   },
   {
    "duration": 245,
    "start_time": "2022-06-19T18:54:43.419Z"
   },
   {
    "duration": 0,
    "start_time": "2022-06-19T18:54:43.667Z"
   },
   {
    "duration": 0,
    "start_time": "2022-06-19T18:54:43.668Z"
   },
   {
    "duration": 0,
    "start_time": "2022-06-19T18:54:43.671Z"
   },
   {
    "duration": 1,
    "start_time": "2022-06-19T18:54:43.672Z"
   },
   {
    "duration": 0,
    "start_time": "2022-06-19T18:54:43.674Z"
   },
   {
    "duration": 0,
    "start_time": "2022-06-19T18:54:43.675Z"
   },
   {
    "duration": 0,
    "start_time": "2022-06-19T18:54:43.677Z"
   },
   {
    "duration": 1,
    "start_time": "2022-06-19T18:54:43.678Z"
   },
   {
    "duration": 0,
    "start_time": "2022-06-19T18:54:43.680Z"
   },
   {
    "duration": 0,
    "start_time": "2022-06-19T18:54:43.681Z"
   },
   {
    "duration": 0,
    "start_time": "2022-06-19T18:54:43.682Z"
   },
   {
    "duration": 0,
    "start_time": "2022-06-19T18:54:43.684Z"
   },
   {
    "duration": 0,
    "start_time": "2022-06-19T18:54:43.686Z"
   },
   {
    "duration": 0,
    "start_time": "2022-06-19T18:54:43.686Z"
   },
   {
    "duration": 0,
    "start_time": "2022-06-19T18:54:43.688Z"
   },
   {
    "duration": 0,
    "start_time": "2022-06-19T18:54:43.689Z"
   },
   {
    "duration": 0,
    "start_time": "2022-06-19T18:54:43.690Z"
   },
   {
    "duration": 0,
    "start_time": "2022-06-19T18:54:43.692Z"
   },
   {
    "duration": 0,
    "start_time": "2022-06-19T18:54:43.693Z"
   },
   {
    "duration": 0,
    "start_time": "2022-06-19T18:54:43.693Z"
   },
   {
    "duration": 13,
    "start_time": "2022-06-19T18:55:53.126Z"
   },
   {
    "duration": 190,
    "start_time": "2022-06-19T18:55:55.474Z"
   },
   {
    "duration": 340,
    "start_time": "2022-06-19T18:55:58.598Z"
   },
   {
    "duration": 300,
    "start_time": "2022-06-19T18:56:01.574Z"
   },
   {
    "duration": 110,
    "start_time": "2022-06-19T18:56:04.668Z"
   },
   {
    "duration": 17,
    "start_time": "2022-06-19T18:56:07.810Z"
   },
   {
    "duration": 6,
    "start_time": "2022-06-19T18:56:21.768Z"
   },
   {
    "duration": 16,
    "start_time": "2022-06-19T18:56:25.105Z"
   },
   {
    "duration": 190,
    "start_time": "2022-06-19T18:56:30.304Z"
   },
   {
    "duration": 1289,
    "start_time": "2022-06-19T18:57:17.567Z"
   },
   {
    "duration": 9,
    "start_time": "2022-06-19T18:57:24.131Z"
   },
   {
    "duration": 17,
    "start_time": "2022-06-19T18:57:26.023Z"
   },
   {
    "duration": 14,
    "start_time": "2022-06-19T18:57:29.532Z"
   },
   {
    "duration": 31,
    "start_time": "2022-06-19T18:59:01.356Z"
   },
   {
    "duration": 18,
    "start_time": "2022-06-19T18:59:05.501Z"
   },
   {
    "duration": 12,
    "start_time": "2022-06-19T18:59:12.274Z"
   },
   {
    "duration": 10,
    "start_time": "2022-06-19T18:59:15.650Z"
   },
   {
    "duration": 14,
    "start_time": "2022-06-19T18:59:24.180Z"
   },
   {
    "duration": 140,
    "start_time": "2022-06-19T18:59:27.645Z"
   },
   {
    "duration": 23,
    "start_time": "2022-06-19T18:59:54.920Z"
   },
   {
    "duration": 744,
    "start_time": "2022-06-19T19:10:25.126Z"
   },
   {
    "duration": 1044,
    "start_time": "2022-06-19T19:17:38.595Z"
   },
   {
    "duration": 102,
    "start_time": "2022-06-19T19:17:39.641Z"
   },
   {
    "duration": 31,
    "start_time": "2022-06-19T19:17:39.745Z"
   },
   {
    "duration": 12,
    "start_time": "2022-06-19T19:17:39.777Z"
   },
   {
    "duration": 8,
    "start_time": "2022-06-19T19:17:39.791Z"
   },
   {
    "duration": 6,
    "start_time": "2022-06-19T19:17:39.800Z"
   },
   {
    "duration": 24,
    "start_time": "2022-06-19T19:17:39.807Z"
   },
   {
    "duration": 13,
    "start_time": "2022-06-19T19:17:39.833Z"
   },
   {
    "duration": 28,
    "start_time": "2022-06-19T19:17:39.852Z"
   },
   {
    "duration": 24,
    "start_time": "2022-06-19T19:17:39.883Z"
   },
   {
    "duration": 10,
    "start_time": "2022-06-19T19:17:39.909Z"
   },
   {
    "duration": 203,
    "start_time": "2022-06-19T19:17:39.921Z"
   },
   {
    "duration": 11,
    "start_time": "2022-06-19T19:17:40.126Z"
   },
   {
    "duration": 91,
    "start_time": "2022-06-19T19:17:40.139Z"
   },
   {
    "duration": 22,
    "start_time": "2022-06-19T19:17:40.232Z"
   },
   {
    "duration": 31,
    "start_time": "2022-06-19T19:17:40.259Z"
   },
   {
    "duration": 168,
    "start_time": "2022-06-19T19:17:40.291Z"
   },
   {
    "duration": 18,
    "start_time": "2022-06-19T19:17:40.467Z"
   },
   {
    "duration": 253,
    "start_time": "2022-06-19T19:17:40.487Z"
   },
   {
    "duration": 4,
    "start_time": "2022-06-19T19:17:40.741Z"
   },
   {
    "duration": 740,
    "start_time": "2022-06-19T19:17:40.751Z"
   },
   {
    "duration": 11,
    "start_time": "2022-06-19T19:17:41.493Z"
   },
   {
    "duration": 191,
    "start_time": "2022-06-19T19:17:41.506Z"
   },
   {
    "duration": 282,
    "start_time": "2022-06-19T19:17:41.699Z"
   },
   {
    "duration": 297,
    "start_time": "2022-06-19T19:17:41.983Z"
   },
   {
    "duration": 110,
    "start_time": "2022-06-19T19:17:42.282Z"
   },
   {
    "duration": 15,
    "start_time": "2022-06-19T19:17:42.394Z"
   },
   {
    "duration": 6,
    "start_time": "2022-06-19T19:17:42.412Z"
   },
   {
    "duration": 40,
    "start_time": "2022-06-19T19:17:42.419Z"
   },
   {
    "duration": 209,
    "start_time": "2022-06-19T19:17:42.463Z"
   },
   {
    "duration": 1119,
    "start_time": "2022-06-19T19:17:42.673Z"
   },
   {
    "duration": 3,
    "start_time": "2022-06-19T19:17:43.794Z"
   },
   {
    "duration": 22,
    "start_time": "2022-06-19T19:17:43.798Z"
   },
   {
    "duration": 9,
    "start_time": "2022-06-19T19:17:43.822Z"
   },
   {
    "duration": 18,
    "start_time": "2022-06-19T19:17:43.832Z"
   },
   {
    "duration": 42,
    "start_time": "2022-06-19T19:17:43.852Z"
   },
   {
    "duration": 11,
    "start_time": "2022-06-19T19:17:43.896Z"
   },
   {
    "duration": 9,
    "start_time": "2022-06-19T19:17:43.909Z"
   },
   {
    "duration": 13,
    "start_time": "2022-06-19T19:17:43.919Z"
   },
   {
    "duration": 144,
    "start_time": "2022-06-19T19:17:43.933Z"
   },
   {
    "duration": 101,
    "start_time": "2022-06-19T19:17:44.079Z"
   },
   {
    "duration": 203,
    "start_time": "2022-06-19T19:19:52.505Z"
   },
   {
    "duration": 700,
    "start_time": "2022-06-19T19:26:55.222Z"
   },
   {
    "duration": 707,
    "start_time": "2022-06-19T19:27:06.703Z"
   },
   {
    "duration": 722,
    "start_time": "2022-06-19T19:28:36.332Z"
   },
   {
    "duration": 724,
    "start_time": "2022-06-19T19:28:47.818Z"
   },
   {
    "duration": 1086,
    "start_time": "2022-06-19T20:07:44.139Z"
   },
   {
    "duration": 100,
    "start_time": "2022-06-19T20:07:45.228Z"
   },
   {
    "duration": 23,
    "start_time": "2022-06-19T20:07:45.331Z"
   },
   {
    "duration": 4,
    "start_time": "2022-06-19T20:07:45.356Z"
   },
   {
    "duration": 7,
    "start_time": "2022-06-19T20:07:45.361Z"
   },
   {
    "duration": 4,
    "start_time": "2022-06-19T20:07:45.369Z"
   },
   {
    "duration": 24,
    "start_time": "2022-06-19T20:07:45.374Z"
   },
   {
    "duration": 15,
    "start_time": "2022-06-19T20:07:45.400Z"
   },
   {
    "duration": 46,
    "start_time": "2022-06-19T20:07:45.416Z"
   },
   {
    "duration": 21,
    "start_time": "2022-06-19T20:07:45.465Z"
   },
   {
    "duration": 11,
    "start_time": "2022-06-19T20:07:45.487Z"
   },
   {
    "duration": 188,
    "start_time": "2022-06-19T20:07:45.499Z"
   },
   {
    "duration": 11,
    "start_time": "2022-06-19T20:07:45.690Z"
   },
   {
    "duration": 96,
    "start_time": "2022-06-19T20:07:45.703Z"
   },
   {
    "duration": 11,
    "start_time": "2022-06-19T20:07:45.801Z"
   },
   {
    "duration": 14,
    "start_time": "2022-06-19T20:07:45.814Z"
   },
   {
    "duration": 183,
    "start_time": "2022-06-19T20:07:45.829Z"
   },
   {
    "duration": 15,
    "start_time": "2022-06-19T20:07:46.014Z"
   },
   {
    "duration": 259,
    "start_time": "2022-06-19T20:07:46.030Z"
   },
   {
    "duration": 3,
    "start_time": "2022-06-19T20:07:46.291Z"
   },
   {
    "duration": 687,
    "start_time": "2022-06-19T20:07:46.296Z"
   },
   {
    "duration": 599,
    "start_time": "2022-06-19T20:07:46.985Z"
   },
   {
    "duration": 12,
    "start_time": "2022-06-19T20:07:47.585Z"
   },
   {
    "duration": 183,
    "start_time": "2022-06-19T20:07:47.598Z"
   },
   {
    "duration": 346,
    "start_time": "2022-06-19T20:07:47.783Z"
   },
   {
    "duration": 269,
    "start_time": "2022-06-19T20:07:48.131Z"
   },
   {
    "duration": 105,
    "start_time": "2022-06-19T20:07:48.402Z"
   },
   {
    "duration": 15,
    "start_time": "2022-06-19T20:07:48.510Z"
   },
   {
    "duration": 5,
    "start_time": "2022-06-19T20:07:48.527Z"
   },
   {
    "duration": 28,
    "start_time": "2022-06-19T20:07:48.534Z"
   },
   {
    "duration": 182,
    "start_time": "2022-06-19T20:07:48.563Z"
   },
   {
    "duration": 1315,
    "start_time": "2022-06-19T20:07:48.751Z"
   },
   {
    "duration": 3,
    "start_time": "2022-06-19T20:07:50.068Z"
   },
   {
    "duration": 20,
    "start_time": "2022-06-19T20:07:50.073Z"
   },
   {
    "duration": 11,
    "start_time": "2022-06-19T20:07:50.095Z"
   },
   {
    "duration": 16,
    "start_time": "2022-06-19T20:07:50.107Z"
   },
   {
    "duration": 41,
    "start_time": "2022-06-19T20:07:50.124Z"
   },
   {
    "duration": 9,
    "start_time": "2022-06-19T20:07:50.166Z"
   },
   {
    "duration": 7,
    "start_time": "2022-06-19T20:07:50.176Z"
   },
   {
    "duration": 11,
    "start_time": "2022-06-19T20:07:50.184Z"
   },
   {
    "duration": 156,
    "start_time": "2022-06-19T20:07:50.197Z"
   },
   {
    "duration": 20,
    "start_time": "2022-06-19T20:07:50.355Z"
   }
  ],
  "kernelspec": {
   "display_name": "Python 3 (ipykernel)",
   "language": "python",
   "name": "python3"
  },
  "language_info": {
   "codemirror_mode": {
    "name": "ipython",
    "version": 3
   },
   "file_extension": ".py",
   "mimetype": "text/x-python",
   "name": "python",
   "nbconvert_exporter": "python",
   "pygments_lexer": "ipython3",
   "version": "3.9.7"
  },
  "toc": {
   "base_numbering": 1,
   "nav_menu": {},
   "number_sections": true,
   "sideBar": true,
   "skip_h1_title": true,
   "title_cell": "Содержание",
   "title_sidebar": "Contents",
   "toc_cell": true,
   "toc_position": {
    "height": "calc(100% - 180px)",
    "left": "10px",
    "top": "150px",
    "width": "289.6px"
   },
   "toc_section_display": true,
   "toc_window_display": true
  }
 },
 "nbformat": 4,
 "nbformat_minor": 2
}
